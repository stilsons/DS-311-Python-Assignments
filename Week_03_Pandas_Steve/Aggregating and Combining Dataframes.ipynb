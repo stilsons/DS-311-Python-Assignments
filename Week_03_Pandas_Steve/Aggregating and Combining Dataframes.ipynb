{
 "cells": [
  {
   "cell_type": "markdown",
   "metadata": {
    "toc": true
   },
   "source": [
    "<h1>Table of Contents<span class=\"tocSkip\"></span></h1>\n",
    "<div class=\"toc\"><ul class=\"toc-item\"><li><span><a href=\"#Aggregating-and-Combining-Pandas-DataFrames\" data-toc-modified-id=\"Aggregating-and-Combining-Pandas-DataFrames-1\"><span class=\"toc-item-num\">1&nbsp;&nbsp;</span>Aggregating and Combining <code>Pandas</code> DataFrames</a></span><ul class=\"toc-item\"><li><span><a href=\"#Objectives\" data-toc-modified-id=\"Objectives-1.1\"><span class=\"toc-item-num\">1.1&nbsp;&nbsp;</span>Objectives</a></span></li></ul></li><li><span><a href=\"#Loading-Example-Data:-Austin-Animal-Center-Data\" data-toc-modified-id=\"Loading-Example-Data:-Austin-Animal-Center-Data-2\"><span class=\"toc-item-num\">2&nbsp;&nbsp;</span>Loading Example Data: Austin Animal Center Data</a></span></li><li><span><a href=\"#Aggregating-over-DataFrames:-.groupby()\" data-toc-modified-id=\"Aggregating-over-DataFrames:-.groupby()-3\"><span class=\"toc-item-num\">3&nbsp;&nbsp;</span>Aggregating over DataFrames: <code>.groupby()</code></a></span><ul class=\"toc-item\"><li><span><a href=\"#.groups-and-.get_group()\" data-toc-modified-id=\".groups-and-.get_group()-3.1\"><span class=\"toc-item-num\">3.1&nbsp;&nbsp;</span><code>.groups</code> and <code>.get_group()</code></a></span><ul class=\"toc-item\"><li><span><a href=\"#Multi-Indexing\" data-toc-modified-id=\"Multi-Indexing-3.1.1\"><span class=\"toc-item-num\">3.1.1&nbsp;&nbsp;</span>Multi-Indexing</a></span></li></ul></li><li><span><a href=\"#Aggregating\" data-toc-modified-id=\"Aggregating-3.2\"><span class=\"toc-item-num\">3.2&nbsp;&nbsp;</span>Aggregating</a></span></li><li><span><a href=\"#Exercise\" data-toc-modified-id=\"Exercise-3.3\"><span class=\"toc-item-num\">3.3&nbsp;&nbsp;</span>Exercise</a></span></li></ul></li><li><span><a href=\"#Pivoting-a-DataFrame\" data-toc-modified-id=\"Pivoting-a-DataFrame-4\"><span class=\"toc-item-num\">4&nbsp;&nbsp;</span>Pivoting a DataFrame</a></span><ul class=\"toc-item\"><li><span><a href=\"#.pivot_table()\" data-toc-modified-id=\".pivot_table()-4.1\"><span class=\"toc-item-num\">4.1&nbsp;&nbsp;</span><code>.pivot_table()</code></a></span><ul class=\"toc-item\"><li><span><a href=\"#Example\" data-toc-modified-id=\"Example-4.1.1\"><span class=\"toc-item-num\">4.1.1&nbsp;&nbsp;</span>Example</a></span></li><li><span><a href=\"#Back-to-Austin-animals\" data-toc-modified-id=\"Back-to-Austin-animals-4.1.2\"><span class=\"toc-item-num\">4.1.2&nbsp;&nbsp;</span>Back to Austin animals</a></span></li></ul></li><li><span><a href=\"#Exercise\" data-toc-modified-id=\"Exercise-4.2\"><span class=\"toc-item-num\">4.2&nbsp;&nbsp;</span>Exercise</a></span></li></ul></li><li><span><a href=\"#Methods-for-Combining-DataFrames:-.join(),-.merge(),-pd.concat()\" data-toc-modified-id=\"Methods-for-Combining-DataFrames:-.join(),-.merge(),-pd.concat()-5\"><span class=\"toc-item-num\">5&nbsp;&nbsp;</span>Methods for Combining DataFrames: <code>.join()</code>, <code>.merge()</code>, <code>pd.concat()</code></a></span><ul class=\"toc-item\"><li><span><a href=\"#.join()\" data-toc-modified-id=\".join()-5.1\"><span class=\"toc-item-num\">5.1&nbsp;&nbsp;</span><code>.join()</code></a></span></li><li><span><a href=\"#.merge()\" data-toc-modified-id=\".merge()-5.2\"><span class=\"toc-item-num\">5.2&nbsp;&nbsp;</span><code>.merge()</code></a></span></li><li><span><a href=\"#The-how-Parameter\" data-toc-modified-id=\"The-how-Parameter-5.3\"><span class=\"toc-item-num\">5.3&nbsp;&nbsp;</span>The <code>how</code> Parameter</a></span></li><li><span><a href=\"#pd.concat()\" data-toc-modified-id=\"pd.concat()-5.4\"><span class=\"toc-item-num\">5.4&nbsp;&nbsp;</span><code>pd.concat()</code></a></span></li></ul></li><li><span><a href=\"#King-County-Assessments\" data-toc-modified-id=\"King-County-Assessments-6\"><span class=\"toc-item-num\">6&nbsp;&nbsp;</span>King County Assessments</a></span><ul class=\"toc-item\"><li><span><a href=\"#First,-get-the-data!\" data-toc-modified-id=\"First,-get-the-data!-6.1\"><span class=\"toc-item-num\">6.1&nbsp;&nbsp;</span>First, get the data!</a></span></li><li><span><a href=\"#Exercise\" data-toc-modified-id=\"Exercise-6.2\"><span class=\"toc-item-num\">6.2&nbsp;&nbsp;</span>Exercise</a></span></li><li><span><a href=\"#Data-Cleaning-Exercises-with-Pandas\" data-toc-modified-id=\"Data-Cleaning-Exercises-with-Pandas-6.3\"><span class=\"toc-item-num\">6.3&nbsp;&nbsp;</span>Data Cleaning Exercises with Pandas</a></span><ul class=\"toc-item\"><li><span><a href=\"#Investigate-and-drop-rows-with-invalid-values-in-the-SalePrice-and-SqFtTotLiving-columns.\" data-toc-modified-id=\"Investigate-and-drop-rows-with-invalid-values-in-the-SalePrice-and-SqFtTotLiving-columns.-6.3.1\"><span class=\"toc-item-num\">6.3.1&nbsp;&nbsp;</span>Investigate and drop rows with invalid values in the SalePrice and SqFtTotLiving columns.</a></span></li><li><span><a href=\"#Investigate-and-handle-non-numeric-ZipCode-values\" data-toc-modified-id=\"Investigate-and-handle-non-numeric-ZipCode-values-6.3.2\"><span class=\"toc-item-num\">6.3.2&nbsp;&nbsp;</span>Investigate and handle non-numeric ZipCode values</a></span></li><li><span><a href=\"#Add-a-column-for-PricePerSqFt\" data-toc-modified-id=\"Add-a-column-for-PricePerSqFt-6.3.3\"><span class=\"toc-item-num\">6.3.3&nbsp;&nbsp;</span>Add a column for PricePerSqFt</a></span></li><li><span><a href=\"#Subset-the-data-to-2021-sales-only\" data-toc-modified-id=\"Subset-the-data-to-2021-sales-only-6.3.4\"><span class=\"toc-item-num\">6.3.4&nbsp;&nbsp;</span>Subset the data to 2021 sales only</a></span></li><li><span><a href=\"#What-is-the-mean-price-per-square-foot-for-a-house-sold-in-Seattle-in-2021?\" data-toc-modified-id=\"What-is-the-mean-price-per-square-foot-for-a-house-sold-in-Seattle-in-2021?-6.3.5\"><span class=\"toc-item-num\">6.3.5&nbsp;&nbsp;</span>What is the mean price per square foot for a house sold in Seattle in 2021?</a></span></li></ul></li></ul></li></ul></div>"
   ]
  },
  {
   "cell_type": "markdown",
   "metadata": {
    "heading_collapsed": true
   },
   "source": [
    "# Aggregating and Combining `Pandas` DataFrames"
   ]
  },
  {
   "cell_type": "code",
   "execution_count": 15,
   "metadata": {},
   "outputs": [],
   "source": [
    "import pandas as pd\n",
    "import numpy as np\n",
    "import requests as rq\n",
    "from sklearn.preprocessing import OneHotEncoder\n",
    "from zipfile import ZipFile"
   ]
  },
  {
   "cell_type": "markdown",
   "metadata": {
    "heading_collapsed": true,
    "hidden": true
   },
   "source": [
    "## Objectives"
   ]
  },
  {
   "cell_type": "markdown",
   "metadata": {
    "hidden": true
   },
   "source": [
    "- Use GroupBy objects to organize and aggregate data\n",
    "- Create pivot tables from DataFrames\n",
    "- Combine DataFrames by merging and appending "
   ]
  },
  {
   "cell_type": "markdown",
   "metadata": {
    "hidden": true
   },
   "source": [
    "We'll work with the Austin Animal Center dataset and with data from King County's Department of Assessments (Seattle housing data)."
   ]
  },
  {
   "cell_type": "markdown",
   "metadata": {
    "heading_collapsed": true
   },
   "source": [
    "# Loading Example Data: Austin Animal Center Data"
   ]
  },
  {
   "cell_type": "code",
   "execution_count": 16,
   "metadata": {
    "ExecuteTime": {
     "end_time": "2021-10-19T17:08:55.192780Z",
     "start_time": "2021-10-19T17:08:54.226090Z"
    },
    "hidden": true
   },
   "outputs": [],
   "source": [
    "data = rq.get('https://data.austintexas.gov/resource/9t4d-g238.json').text"
   ]
  },
  {
   "cell_type": "code",
   "execution_count": 17,
   "metadata": {
    "ExecuteTime": {
     "end_time": "2021-10-19T17:09:57.118713Z",
     "start_time": "2021-10-19T17:09:57.108939Z"
    }
   },
   "outputs": [
    {
     "data": {
      "text/plain": [
       "'[{\"animal_id\":\"A794011\",\"name\":\"Chunk\",\"datetime\":\"2019-05-08T18:20:00.000\",\"monthyear\":\"2019-05-08T18:20:00.000\",\"date_of_birth\":\"2017-05-02T00:00:00.000\",\"outcome_type\":\"Rto-Adopt\",\"animal_type\":\"Cat\",\"sex_upon_outcome\":\"Neutered Male\",\"age_upon_outcome\":\"2 years\",\"breed\":\"Domestic Shorthair Mix\",\"color\":\"Brown Tabby/White\"}\\n,{\"animal_id\":\"A776359\",\"name\":\"Gizmo\",\"datetime\":\"2018-07-18T16:02:00.000\",\"monthyear\":\"2018-07-18T16:02:00.000\",\"date_of_birth\":\"2017-07-12T00:00:00.000\",\"outcome_type\":\"Adoption\",\"animal_type\":\"Dog\",\"sex_upon_outcome\":\"Neutered Male\",\"age_upon_outcome\":\"1 year\",\"breed\":\"Chihuahua Shorthair Mix\",\"color\":\"White/Brown\"}\\n,{\"animal_id\":\"A821648\",\"datetime\":\"2020-08-16T11:38:00.000\",\"monthyear\":\"2020-08-16T11:38:00.000\",\"date_of_birth\":\"2019-08-16T00:00:00.000\",\"outcome_type\":\"Euthanasia\",\"animal_type\":\"Other\",\"sex_upon_outcome\":\"Unknown\",\"age_upon_outcome\":\"1 year\",\"breed\":\"Raccoon\",\"color\":\"Gray\"}\\n,{\"animal_id\":\"A720371\",\"name\":\"Moose\",\"datetime\":\"2016-02-13T17:59:00.000\",\"monthyear\":\"2016-02-13T17:59:00.000\",\"date_of_birth\":\"2015-10-08T00:00:00.000\",\"outcome_type\":\"Adoption\",\"animal_type\":\"Dog\",\"sex_upon_outcome\":\"Neutered Male\",\"age_upon_outcome\":\"4 months\",\"breed\":\"Anatol Shepherd/Labrador Retriever\",\"color\":\"Buff\"}\\n,{\"animal_id\":\"A674754\",\"datetime\":\"2014-03-18T11:47:00.000\",\"monthyear\":\"2014-03-18T11:47:00.000\",\"date_of_birth\":\"2014-03-12T00:00:00.000\",\"outcome_type\":\"Transfer\",\"outcome_subtype\":\"Partner\",\"animal_type\":\"Cat\",\"sex_upon_outcome\":\"Intact Male\",\"age_upon_outcome\":\"6 days\",\"breed\":\"Domestic Shorthair Mix\",\"color\":\"Orange Tabby\"}\\n,{\"animal_id\":\"A659412\",\"name\":\"Princess\",\"datetime\":\"2020-10-05T14:37:00.000\",\"monthyear\":\"2020-10-05T14:37:00.000\",\"date_of_birth\":\"2013-03-24T00:00:00.000\",\"outcome_type\":\"Adoption\",\"animal_type\":\"Dog\",\"sex_upon_outcome\":\"Spayed Female\",\"age_upon_outcome\":\"7 years\",\"breed\":\"Chihuahua Shorthair Mix\",\"color\":\"Brown\"}\\n,{\"animal_id\":\"A814515\",\"name\":\"Quentin\",\"datetime\":\"2020-05-06T07:59:00.000\",\"monthyear\":\"2020-05-06T07:59:00.000\",\"date_of_birth\":\"2018-03-01T00:00:00.000\",\"outcome_type\":\"Adoption\",\"outcome_subtype\":\"Foster\",\"animal_type\":\"Dog\",\"sex_upon_outcome\":\"Neutered Male\",\"age_upon_outcome\":\"2 years\",\"breed\":\"American Foxhound/Labrador Retriever\",\"color\":\"White/Brown\"}\\n,{\"animal_id\":\"A868405\",\"name\":\"*Leo\",\"datetime\":\"2023-03-04T13:38:00.000\",\"monthyear\":\"2023-03-04T13:38:00.000\",\"date_of_birth\":\"2020-11-02T00:00:00.000\",\"outcome_type\":\"Adoption\",\"animal_type\":\"Dog\",\"sex_upon_outcome\":\"Neutered Male\",\"age_upon_outcome\":\"2 years\",\"breed\":\"Pit Bull Mix\",\"color\":\"Brown/White\"}\\n,{\"animal_id\":\"A689724\",\"name\":\"*Donatello\",\"datetime\":\"2014-10-18T18:52:00.000\",\"monthyear\":\"2014-10-18T18:52:00.000\",\"date_of_birth\":\"2014-08-01T00:00:00.000\",\"outcome_type\":\"Adoption\",\"animal_type\":\"Cat\",\"sex_upon_outcome\":\"Neutered Male\",\"age_upon_outcome\":\"2 months\",\"breed\":\"Domestic Shorthair Mix\",\"color\":\"Black\"}\\n,{\"animal_id\":\"A680969\",\"name\":\"*Zeus\",\"datetime\":\"2014-08-05T16:59:00.000\",\"monthyear\":\"2014-08-05T16:59:00.000\",\"date_of_birth\":\"2014-06-03T00:00:00.000\",\"outcome_type\":\"Adoption\",\"animal_type\":\"Cat\",\"sex_upon_outcome\":\"Neutered Male\",\"age_upon_outcome\":\"2 months\",\"breed\":\"Domestic Shorthair Mix\",\"color\":\"White/Orange Tabby\"}\\n,{\"animal_id\":\"A840370\",\"name\":\"Tulip\",\"datetime\":\"2021-08-19T19:36:00.000\",\"monthyear\":\"2021-08-19T19:36:00.000\",\"date_of_birth\":\"2019-08-06T00:00:00.000\",\"outcome_type\":\"Adoption\",\"animal_type\":\"Dog\",\"sex_upon_outcome\":\"Spayed Female\",\"age_upon_outcome\":\"2 years\",\"breed\":\"Border Collie/Cardigan Welsh Corgi\",\"color\":\"Black/White\"}\\n,{\"animal_id\":\"A684617\",\"datetime\":\"2014-07-27T09:00:00.000\",\"monthyear\":\"2014-07-27T09:00:00.000\",\"date_of_birth\":\"2012-07-26T00:00:00.000\",\"outcome_type\":\"Transfer\",\"outcome_subtype\":\"SCRP\",\"animal_type\":\"Cat\",\"sex_upon_outcome\":\"Intact Female\",\"age_upon_outcome\":\"2 years\",\"breed\":\"Domestic Shorthair Mix\",\"color\":\"Black\"}\\n,{\"animal_id\":\"A742354\",\"name\":\"Artemis\",\"datetime\":\"2017-01-22T11:56:00.000\",\"monthyear\":\"2017-01-22T11:56:00.000\",\"date_of_birth\":\"2010-01-20T00:00:00.000\",\"outcome_type\":\"Return to Owner\",\"animal_type\":\"Cat\",\"sex_upon_outcome\":\"Neutered Male\",\"age_upon_outcome\":\"7 years\",\"breed\":\"Domestic Shorthair Mix\",\"color\":\"Blue/White\"}\\n,{\"animal_id\":\"A818049\",\"name\":\"Fiona\",\"datetime\":\"2020-06-01T13:24:00.000\",\"monthyear\":\"2020-06-01T13:24:00.000\",\"date_of_birth\":\"2018-06-01T00:00:00.000\",\"outcome_type\":\"Return to Owner\",\"animal_type\":\"Dog\",\"sex_upon_outcome\":\"Intact Female\",\"age_upon_outcome\":\"2 years\",\"breed\":\"Pit Bull\",\"color\":\"White/Blue\"}\\n,{\"animal_id\":\"A843327\",\"name\":\"*Mary\",\"datetime\":\"2021-10-08T13:25:00.000\",\"monthyear\":\"2021-10-08T13:25:00.000\",\"date_of_birth\":\"2019-09-29T00:00:00.000\",\"outcome_type\":\"Transfer\",\"outcome_subtype\":\"Out State\",\"animal_type\":\"Dog\",\"sex_upon_outcome\":\"Intact Female\",\"age_upon_outcome\":\"2 years\",\"breed\":\"Chihuahua Shorthair Mix\",\"color\":\"Black/White\"}\\n,{\"animal_id\":\"A681036\",\"datetime\":\"2014-06-11T17:11:00.000\",\"monthyear\":\"2014-06-11T17:11:00.000\",\"date_of_birth\":\"2014-06-09T00:00:00.000\",\"outcome_type\":\"Transfer\",\"outcome_subtype\":\"Partner\",\"animal_type\":\"Cat\",\"sex_upon_outcome\":\"Intact Male\",\"age_upon_outcome\":\"2 days\",\"breed\":\"Domestic Shorthair Mix\",\"color\":\"Brown Tabby\"}\\n,{\"animal_id\":\"A803149\",\"name\":\"*Birch\",\"datetime\":\"2019-08-31T16:26:00.000\",\"monthyear\":\"2019-08-31T16:26:00.000\",\"date_of_birth\":\"2019-08-08T00:00:00.000\",\"outcome_type\":\"Transfer\",\"outcome_subtype\":\"Partner\",\"animal_type\":\"Cat\",\"sex_upon_outcome\":\"Intact Male\",\"age_upon_outcome\":\"3 weeks\",\"breed\":\"Domestic Shorthair\",\"color\":\"Brown Tabby\"}\\n,{\"animal_id\":\"A873909\",\"name\":\"*Titanium\",\"datetime\":\"2023-03-04T13:09:00.000\",\"monthyear\":\"2023-03-04T13:09:00.000\",\"date_of_birth\":\"2023-01-02T00:00:00.000\",\"outcome_type\":\"Adoption\",\"outcome_subtype\":\"Foster\",\"animal_type\":\"Dog\",\"sex_upon_outcome\":\"Neutered Male\",\"age_upon_outcome\":\"1 month\",\"breed\":\"Labrador Retriever Mix\",\"color\":\"Black/Tan\"}\\n,{\"animal_id\":\"A698049\",\"name\":\"Luigi\",\"datetime\":\"2015-03-16T14:50:00.000\",\"monthyear\":\"2015-03-16T14:50:00.000\",\"date_of_birth\":\"2014-06-05T00:00:00.000\",\"outcome_type\":\"Transfer\",\"outcome_subtype\":\"Partner\",\"animal_type\":\"Cat\",\"sex_upon_outcome\":\"Spayed Female\",\"age_upon_outcome\":\"9 months\",\"breed\":\"Domestic Medium Hair Mix\",\"color\":\"Black/White\"}\\n,{\"animal_id\":\"A773792\",\"datetime\":\"2018-06-05T15:30:00.000\",\"monthyear\":\"2018-06-05T15:30:00.000\",\"date_of_birth\":\"2018-05-05T00:00:00.000\",\"outcome_type\":\"Euthanasia\",\"outcome_subtype\":\"Suffering\",\"animal_type\":\"Cat\",\"sex_upon_outcome\":\"Intact Male\",\"age_upon_outcome\":\"4 weeks\",\"breed\":\"Domestic Shorthair Mix\",\"color\":\"Orange Tabby\"}\\n,{\"animal_id\":\"A873909\",\"name\":\"*Titanium\",\"datetime\":\"2023-03-04T13:09:00.000\",\"monthyear\":\"2023-03-04T13:09:00.000\",\"date_of_birth\":\"2023-01-02T00:00:00.000\",\"outcome_type\":\"Adoption\",\"outcome_subtype\":\"Foster\",\"animal_type\":\"Dog\",\"sex_upon_outcome\":\"Neutered Male\",\"age_upon_outcome\":\"1 month\",\"breed\":\"Labrador Retriever Mix\",\"color\":\"Black/Tan\"}\\n,{\"animal_id\":\"A875563\",\"name\":\"Zoey\",\"datetime\":\"2023-03-04T13:02:00.000\",\"monthyear\":\"2023-03-04T13:02:00.000\",\"date_of_birth\":\"2015-03-01T00:00:00.000\",\"outcome_type\":\"Euthanasia\",\"outcome_subtype\":\"Suffering\",\"animal_type\":\"Dog\",\"sex_upon_outcome\":\"Intact Female\",\"age_upon_outcome\":\"8 years\",\"breed\":\"Doberman Pinsch\",\"color\":\"Black/Brown\"}\\n,{\"animal_id\":\"A833999\",\"datetime\":\"2021-05-08T14:05:00.000\",\"monthyear\":\"2021-05-08T14:05:00.000\",\"date_of_birth\":\"2021-04-23T00:00:00.000\",\"outcome_type\":\"Transfer\",\"outcome_subtype\":\"Partner\",\"animal_type\":\"Cat\",\"sex_upon_outcome\":\"Intact Female\",\"age_upon_outcome\":\"2 weeks\",\"breed\":\"Domestic Medium Hair\",\"color\":\"Brown Tabby\"}\\n,{\"animal_id\":\"A872930\",\"name\":\"Alfie\",\"datetime\":\"2023-03-04T13:03:00.000\",\"monthyear\":\"2023-03-04T13:03:00.000\",\"date_of_birth\":\"2015-01-18T00:00:00.000\",\"outcome_type\":\"Adoption\",\"outcome_subtype\":\"Foster\",\"animal_type\":\"Dog\",\"sex_upon_outcome\":\"Neutered Male\",\"age_upon_outcome\":\"8 years\",\"breed\":\"German Shepherd Mix\",\"color\":\"Brown/Black\"}\\n,{\"animal_id\":\"A725795\",\"datetime\":\"2016-05-03T12:39:00.000\",\"monthyear\":\"2016-05-03T12:39:00.000\",\"date_of_birth\":\"2016-04-15T00:00:00.000\",\"outcome_type\":\"Euthanasia\",\"outcome_subtype\":\"Underage\",\"animal_type\":\"Other\",\"sex_upon_outcome\":\"Unknown\",\"age_upon_outcome\":\"2 weeks\",\"breed\":\"Opossum\",\"color\":\"Gray\"}\\n,{\"animal_id\":\"A835990\",\"name\":\"Jack\",\"datetime\":\"2021-06-04T14:31:00.000\",\"monthyear\":\"2021-06-04T14:31:00.000\",\"date_of_birth\":\"2019-06-04T00:00:00.000\",\"outcome_type\":\"Return to Owner\",\"animal_type\":\"Dog\",\"sex_upon_outcome\":\"Intact Male\",\"age_upon_outcome\":\"2 years\",\"breed\":\"Weimaraner/Labrador Retriever\",\"color\":\"Blue\"}\\n,{\"animal_id\":\"A730621\",\"name\":\"*Liza\",\"datetime\":\"2016-09-10T18:59:00.000\",\"monthyear\":\"2016-09-10T18:59:00.000\",\"date_of_birth\":\"2016-05-18T00:00:00.000\",\"outcome_type\":\"Adoption\",\"animal_type\":\"Cat\",\"sex_upon_outcome\":\"Spayed Female\",\"age_upon_outcome\":\"3 months\",\"breed\":\"Domestic Shorthair Mix\",\"color\":\"Calico\"}\\n,{\"animal_id\":\"A765349\",\"name\":\"Einstein\",\"datetime\":\"2018-06-08T13:04:00.000\",\"monthyear\":\"2018-06-08T13:04:00.000\",\"date_of_birth\":\"2009-01-18T00:00:00.000\",\"outcome_type\":\"Adoption\",\"outcome_subtype\":\"Foster\",\"animal_type\":\"Dog\",\"sex_upon_outcome\":\"Neutered Male\",\"age_upon_outcome\":\"9 years\",\"breed\":\"Chihuahua Shorthair Mix\",\"color\":\"Tricolor\"}\\n,{\"animal_id\":\"A873291\",\"name\":\"*Dumpling\",\"datetime\":\"2023-03-04T14:01:00.000\",\"monthyear\":\"2023-03-04T14:01:00.000\",\"date_of_birth\":\"2021-01-23T00:00:00.000\",\"outcome_type\":\"Adoption\",\"animal_type\":\"Cat\",\"sex_upon_outcome\":\"Spayed Female\",\"age_upon_outcome\":\"2 years\",\"breed\":\"Domestic Shorthair\",\"color\":\"Brown Tabby\"}\\n,{\"animal_id\":\"A760697\",\"name\":\"Star\",\"datetime\":\"2017-10-26T15:22:00.000\",\"monthyear\":\"2017-10-26T15:22:00.000\",\"date_of_birth\":\"2007-10-23T00:00:00.000\",\"outcome_type\":\"Transfer\",\"outcome_subtype\":\"Partner\",\"animal_type\":\"Dog\",\"sex_upon_outcome\":\"Intact Male\",\"age_upon_outcome\":\"10 years\",\"breed\":\"Yorkshire Terrier Mix\",\"color\":\"Brown/Black\"}\\n,{\"animal_id\":\"A767231\",\"name\":\"Millie\",\"datetime\":\"2018-02-25T17:19:00.000\",\"monthyear\":\"2018-02-25T17:19:00.000\",\"date_of_birth\":\"2017-02-25T00:00:00.000\",\"outcome_type\":\"Return to Owner\",\"animal_type\":\"Dog\",\"sex_upon_outcome\":\"Spayed Female\",\"age_upon_outcome\":\"1 year\",\"breed\":\"Jack Russell Terrier/Chihuahua Shorthair\",\"color\":\"White/Tan\"}\\n,{\"animal_id\":\"A758536\",\"datetime\":\"2017-09-23T11:09:00.000\",\"monthyear\":\"2017-09-23T11:09:00.000\",\"date_of_birth\":\"2017-03-18T00:00:00.000\",\"outcome_type\":\"Transfer\",\"outcome_subtype\":\"Snr\",\"animal_type\":\"Cat\",\"sex_upon_outcome\":\"Intact Female\",\"age_upon_outcome\":\"6 months\",\"breed\":\"Domestic Shorthair Mix\",\"color\":\"Brown Tabby\"}\\n,{\"animal_id\":\"A754682\",\"name\":\"Big Girl\",\"datetime\":\"2017-07-23T11:58:00.000\",\"monthyear\":\"2017-07-23T11:58:00.000\",\"date_of_birth\":\"2009-07-22T00:00:00.000\",\"outcome_type\":\"Return to Owner\",\"animal_type\":\"Dog\",\"sex_upon_outcome\":\"Spayed Female\",\"age_upon_outcome\":\"8 years\",\"breed\":\"Great Pyrenees Mix\",\"color\":\"White\"}\\n,{\"animal_id\":\"A801106\",\"datetime\":\"2019-08-16T14:05:00.000\",\"monthyear\":\"2019-08-16T14:05:00.000\",\"date_of_birth\":\"2019-05-06T00:00:00.000\",\"outcome_type\":\"Adoption\",\"animal_type\":\"Cat\",\"sex_upon_outcome\":\"Neutered Male\",\"age_upon_outcome\":\"3 months\",\"breed\":\"Domestic Shorthair\",\"color\":\"Orange Tabby\"}\\n,{\"animal_id\":\"A766700\",\"datetime\":\"2018-02-15T08:59:00.000\",\"monthyear\":\"2018-02-15T08:59:00.000\",\"date_of_birth\":\"2017-02-15T00:00:00.000\",\"outcome_type\":\"Euthanasia\",\"outcome_subtype\":\"Rabies Risk\",\"animal_type\":\"Other\",\"sex_upon_outcome\":\"Unknown\",\"age_upon_outcome\":\"1 year\",\"breed\":\"Bat Mix\",\"color\":\"Brown\"}\\n,{\"animal_id\":\"A812473\",\"name\":\"Theodore Nubbins\",\"datetime\":\"2020-03-05T16:15:00.000\",\"monthyear\":\"2020-03-05T16:15:00.000\",\"date_of_birth\":\"2010-01-26T00:00:00.000\",\"outcome_type\":\"Adoption\",\"outcome_subtype\":\"Foster\",\"animal_type\":\"Dog\",\"sex_upon_outcome\":\"Neutered Male\",\"age_upon_outcome\":\"10 years\",\"breed\":\"Chihuahua Shorthair\",\"color\":\"Brown\"}\\n,{\"animal_id\":\"A740079\",\"name\":\"Terry\",\"datetime\":\"2016-12-26T13:45:00.000\",\"monthyear\":\"2016-12-26T13:45:00.000\",\"date_of_birth\":\"2013-12-10T00:00:00.000\",\"outcome_type\":\"Return to Owner\",\"animal_type\":\"Dog\",\"sex_upon_outcome\":\"Neutered Male\",\"age_upon_outcome\":\"3 years\",\"breed\":\"Australian Cattle Dog Mix\",\"color\":\"Black/White\"}\\n,{\"animal_id\":\"A757919\",\"name\":\"*Tofu\",\"datetime\":\"2017-10-05T15:36:00.000\",\"monthyear\":\"2017-10-05T15:36:00.000\",\"date_of_birth\":\"2015-09-08T00:00:00.000\",\"outcome_type\":\"Adoption\",\"animal_type\":\"Dog\",\"sex_upon_outcome\":\"Spayed Female\",\"age_upon_outcome\":\"2 years\",\"breed\":\"Beagle Mix\",\"color\":\"Brown/White\"}\\n,{\"animal_id\":\"A789298\",\"name\":\"*Mr Wrinkles\",\"datetime\":\"2019-04-23T11:59:00.000\",\"monthyear\":\"2019-04-23T11:59:00.000\",\"date_of_birth\":\"2019-02-15T00:00:00.000\",\"outcome_type\":\"Adoption\",\"outcome_subtype\":\"Foster\",\"animal_type\":\"Dog\",\"sex_upon_outcome\":\"Neutered Male\",\"age_upon_outcome\":\"2 months\",\"breed\":\"Labrador Retriever Mix\",\"color\":\"Brown/White\"}\\n,{\"animal_id\":\"A773866\",\"name\":\"*Nitro\",\"datetime\":\"2018-08-23T18:05:00.000\",\"monthyear\":\"2018-08-23T18:05:00.000\",\"date_of_birth\":\"2016-06-06T00:00:00.000\",\"outcome_type\":\"Adoption\",\"animal_type\":\"Dog\",\"sex_upon_outcome\":\"Neutered Male\",\"age_upon_outcome\":\"2 years\",\"breed\":\"Labrador Retriever/Staffordshire\",\"color\":\"Black/White\"}\\n,{\"animal_id\":\"A765701\",\"datetime\":\"2018-01-25T09:39:00.000\",\"monthyear\":\"2018-01-25T09:39:00.000\",\"date_of_birth\":\"2017-01-25T00:00:00.000\",\"outcome_type\":\"Euthanasia\",\"outcome_subtype\":\"Rabies Risk\",\"animal_type\":\"Other\",\"sex_upon_outcome\":\"Unknown\",\"age_upon_outcome\":\"1 year\",\"breed\":\"Bat Mix\",\"color\":\"Brown\"}\\n,{\"animal_id\":\"A699884\",\"datetime\":\"2015-04-03T16:16:00.000\",\"monthyear\":\"2015-04-03T16:16:00.000\",\"date_of_birth\":\"2013-04-03T00:00:00.000\",\"outcome_type\":\"Euthanasia\",\"outcome_subtype\":\"Suffering\",\"animal_type\":\"Cat\",\"sex_upon_outcome\":\"Unknown\",\"age_upon_outcome\":\"2 years\",\"breed\":\"Domestic Shorthair Mix\",\"color\":\"Gray\"}\\n,{\"animal_id\":\"A725530\",\"name\":\"King\",\"datetime\":\"2016-06-09T14:50:00.000\",\"monthyear\":\"2016-06-09T14:50:00.000\",\"date_of_birth\":\"2015-10-30T00:00:00.000\",\"outcome_type\":\"Adoption\",\"animal_type\":\"Dog\",\"sex_upon_outcome\":\"Neutered Male\",\"age_upon_outcome\":\"7 months\",\"breed\":\"Pit Bull Mix\",\"color\":\"Brown Brindle/White\"}\\n,{\"animal_id\":\"A722378\",\"name\":\"Canine\",\"datetime\":\"2016-03-31T19:08:00.000\",\"monthyear\":\"2016-03-31T19:08:00.000\",\"date_of_birth\":\"2010-03-15T00:00:00.000\",\"outcome_type\":\"Return to Owner\",\"animal_type\":\"Dog\",\"sex_upon_outcome\":\"Neutered Male\",\"age_upon_outcome\":\"6 years\",\"breed\":\"German Shepherd Mix\",\"color\":\"Brown/Black\"}\\n,{\"animal_id\":\"A875596\",\"name\":\"Milo\",\"datetime\":\"2023-03-04T14:57:00.000\",\"monthyear\":\"2023-03-04T14:57:00.000\",\"date_of_birth\":\"2014-03-01T00:00:00.000\",\"outcome_type\":\"Adoption\",\"animal_type\":\"Dog\",\"sex_upon_outcome\":\"Neutered Male\",\"age_upon_outcome\":\"9 years\",\"breed\":\"German Shepherd\",\"color\":\"Tan\"}\\n,{\"animal_id\":\"A707743\",\"datetime\":\"2015-07-18T09:00:00.000\",\"monthyear\":\"2015-07-18T09:00:00.000\",\"date_of_birth\":\"2015-04-17T00:00:00.000\",\"outcome_type\":\"Transfer\",\"outcome_subtype\":\"SCRP\",\"animal_type\":\"Cat\",\"sex_upon_outcome\":\"Intact Male\",\"age_upon_outcome\":\"3 months\",\"breed\":\"Domestic Shorthair Mix\",\"color\":\"Black/White\"}\\n,{\"animal_id\":\"A681449\",\"name\":\"Buster\",\"datetime\":\"2014-07-02T19:01:00.000\",\"monthyear\":\"2014-07-02T19:01:00.000\",\"date_of_birth\":\"2010-06-16T00:00:00.000\",\"outcome_type\":\"Return to Owner\",\"animal_type\":\"Dog\",\"sex_upon_outcome\":\"Neutered Male\",\"age_upon_outcome\":\"4 years\",\"breed\":\"Dogo Argentino Mix\",\"color\":\"White/Brown\"}\\n,{\"animal_id\":\"A738919\",\"name\":\"Milo\",\"datetime\":\"2016-11-27T17:35:00.000\",\"monthyear\":\"2016-11-27T17:35:00.000\",\"date_of_birth\":\"2016-09-23T00:00:00.000\",\"outcome_type\":\"Adoption\",\"animal_type\":\"Dog\",\"sex_upon_outcome\":\"Neutered Male\",\"age_upon_outcome\":\"2 months\",\"breed\":\"Black Mouth Cur Mix\",\"color\":\"Brown/Black\"}\\n,{\"animal_id\":\"A730464\",\"datetime\":\"2016-07-05T12:47:00.000\",\"monthyear\":\"2016-07-05T12:47:00.000\",\"date_of_birth\":\"2015-07-05T00:00:00.000\",\"outcome_type\":\"Euthanasia\",\"outcome_subtype\":\"Rabies Risk\",\"animal_type\":\"Other\",\"sex_upon_outcome\":\"Unknown\",\"age_upon_outcome\":\"1 year\",\"breed\":\"Bat\",\"color\":\"Black/Brown\"}\\n,{\"animal_id\":\"A875266\",\"name\":\"*Creole\",\"datetime\":\"2023-03-04T15:24:00.000\",\"monthyear\":\"2023-03-04T15:24:00.000\",\"date_of_birth\":\"2022-12-12T00:00:00.000\",\"outcome_type\":\"Adoption\",\"animal_type\":\"Dog\",\"sex_upon_outcome\":\"Spayed Female\",\"age_upon_outcome\":\"2 months\",\"breed\":\"Australian Cattle Dog\",\"color\":\"Brown Brindle/Black\"}\\n,{\"animal_id\":\"A805930\",\"name\":\"*Rachel\",\"datetime\":\"2019-11-08T18:37:00.000\",\"monthyear\":\"2019-11-08T18:37:00.000\",\"date_of_birth\":\"2019-09-11T00:00:00.000\",\"outcome_type\":\"Adoption\",\"outcome_subtype\":\"Foster\",\"animal_type\":\"Dog\",\"sex_upon_outcome\":\"Spayed Female\",\"age_upon_outcome\":\"1 month\",\"breed\":\"Border Collie Mix\",\"color\":\"Chocolate/White\"}\\n,{\"animal_id\":\"A672423\",\"name\":\"Valentine\",\"datetime\":\"2014-02-14T11:44:00.000\",\"monthyear\":\"2014-02-14T11:44:00.000\",\"date_of_birth\":\"2002-02-10T00:00:00.000\",\"outcome_type\":\"Transfer\",\"outcome_subtype\":\"Partner\",\"animal_type\":\"Dog\",\"sex_upon_outcome\":\"Spayed Female\",\"age_upon_outcome\":\"12 years\",\"breed\":\"Collie Rough Mix\",\"color\":\"Red\"}\\n,{\"animal_id\":\"A665383\",\"name\":\"Indica\",\"datetime\":\"2013-10-30T16:23:00.000\",\"monthyear\":\"2013-10-30T16:23:00.000\",\"date_of_birth\":\"2013-06-19T00:00:00.000\",\"outcome_type\":\"Adoption\",\"animal_type\":\"Dog\",\"sex_upon_outcome\":\"Spayed Female\",\"age_upon_outcome\":\"4 months\",\"breed\":\"German Shepherd Mix\",\"color\":\"Black/Tan\"}\\n,{\"animal_id\":\"A806497\",\"name\":\"*Moo\",\"datetime\":\"2019-12-17T17:59:00.000\",\"monthyear\":\"2019-12-17T17:59:00.000\",\"date_of_birth\":\"2019-06-02T00:00:00.000\",\"outcome_type\":\"Adoption\",\"animal_type\":\"Other\",\"sex_upon_outcome\":\"Spayed Female\",\"age_upon_outcome\":\"6 months\",\"breed\":\"Polish\",\"color\":\"White/White\"}\\n,{\"animal_id\":\"A754899\",\"name\":\"Puppy\",\"datetime\":\"2017-07-29T17:57:00.000\",\"monthyear\":\"2017-07-29T17:57:00.000\",\"date_of_birth\":\"2012-07-26T00:00:00.000\",\"outcome_type\":\"Adoption\",\"animal_type\":\"Dog\",\"sex_upon_outcome\":\"Spayed Female\",\"age_upon_outcome\":\"5 years\",\"breed\":\"German Shepherd Mix\",\"color\":\"Brown/Black\"}\\n,{\"animal_id\":\"A746498\",\"name\":\"Zeus\",\"datetime\":\"2017-05-03T19:25:00.000\",\"monthyear\":\"2017-05-03T19:25:00.000\",\"date_of_birth\":\"2016-04-04T00:00:00.000\",\"outcome_type\":\"Adoption\",\"animal_type\":\"Dog\",\"sex_upon_outcome\":\"Neutered Male\",\"age_upon_outcome\":\"1 year\",\"breed\":\"Rat Terrier/Cardigan Welsh Corgi\",\"color\":\"Black/White\"}\\n,{\"animal_id\":\"A813785\",\"name\":\"Snout\",\"datetime\":\"2020-02-26T19:45:00.000\",\"monthyear\":\"2020-02-26T19:45:00.000\",\"date_of_birth\":\"2019-02-18T00:00:00.000\",\"outcome_type\":\"Rto-Adopt\",\"animal_type\":\"Dog\",\"sex_upon_outcome\":\"Neutered Male\",\"age_upon_outcome\":\"1 year\",\"breed\":\"Doberman Pinsch\",\"color\":\"Black/Brown\"}\\n,{\"animal_id\":\"A810161\",\"name\":\"Lizzie\",\"datetime\":\"2019-12-19T15:54:00.000\",\"monthyear\":\"2019-12-19T15:54:00.000\",\"date_of_birth\":\"2019-10-15T00:00:00.000\",\"outcome_type\":\"Adoption\",\"animal_type\":\"Dog\",\"sex_upon_outcome\":\"Spayed Female\",\"age_upon_outcome\":\"2 months\",\"breed\":\"Australian Cattle Dog\",\"color\":\"Blue Tick/Black\"}\\n,{\"animal_id\":\"A791163\",\"datetime\":\"2019-03-24T08:22:00.000\",\"monthyear\":\"2019-03-24T08:22:00.000\",\"date_of_birth\":\"2019-02-22T00:00:00.000\",\"outcome_type\":\"Died\",\"outcome_subtype\":\"In Kennel\",\"animal_type\":\"Cat\",\"sex_upon_outcome\":\"Unknown\",\"age_upon_outcome\":\"4 weeks\",\"breed\":\"Domestic Shorthair Mix\",\"color\":\"Black/White\"}\\n,{\"animal_id\":\"A777234\",\"name\":\"Tyson\",\"datetime\":\"2019-01-02T00:00:00.000\",\"monthyear\":\"2019-01-02T00:00:00.000\",\"date_of_birth\":\"2017-11-25T00:00:00.000\",\"outcome_type\":\"Transfer\",\"outcome_subtype\":\"Partner\",\"animal_type\":\"Dog\",\"sex_upon_outcome\":\"Neutered Male\",\"age_upon_outcome\":\"1 year\",\"breed\":\"Pit Bull Mix\",\"color\":\"Blue/White\"}\\n,{\"animal_id\":\"A684009\",\"name\":\"Big Boy\",\"datetime\":\"2014-07-19T18:32:00.000\",\"monthyear\":\"2014-07-19T18:32:00.000\",\"date_of_birth\":\"2012-07-18T00:00:00.000\",\"outcome_type\":\"Return to Owner\",\"animal_type\":\"Dog\",\"sex_upon_outcome\":\"Neutered Male\",\"age_upon_outcome\":\"2 years\",\"breed\":\"American Staffordshire Terrier Mix\",\"color\":\"Brown Brindle/White\"}\\n,{\"animal_id\":\"A875259\",\"name\":\"*Marla\",\"datetime\":\"2023-03-04T15:20:00.000\",\"monthyear\":\"2023-03-04T15:20:00.000\",\"date_of_birth\":\"2021-02-24T00:00:00.000\",\"outcome_type\":\"Adoption\",\"animal_type\":\"Dog\",\"sex_upon_outcome\":\"Spayed Female\",\"age_upon_outcome\":\"2 years\",\"breed\":\"German Shepherd Mix\",\"color\":\"White\"}\\n,{\"animal_id\":\"A839936\",\"name\":\"A839936\",\"datetime\":\"2021-08-02T17:57:00.000\",\"monthyear\":\"2021-08-02T17:57:00.000\",\"date_of_birth\":\"2021-05-29T00:00:00.000\",\"outcome_type\":\"Adoption\",\"animal_type\":\"Dog\",\"sex_upon_outcome\":\"Neutered Male\",\"age_upon_outcome\":\"2 months\",\"breed\":\"Labrador Retriever\",\"color\":\"Black/White\"}\\n,{\"animal_id\":\"A757815\",\"datetime\":\"2017-09-07T11:00:00.000\",\"monthyear\":\"2017-09-07T11:00:00.000\",\"date_of_birth\":\"2015-09-07T00:00:00.000\",\"outcome_type\":\"Euthanasia\",\"outcome_subtype\":\"Rabies Risk\",\"animal_type\":\"Other\",\"sex_upon_outcome\":\"Unknown\",\"age_upon_outcome\":\"2 years\",\"breed\":\"Raccoon\",\"color\":\"Gray/Black\"}\\n,{\"animal_id\":\"A792258\",\"name\":\"Vesper\",\"datetime\":\"2019-04-10T20:53:00.000\",\"monthyear\":\"2019-04-10T20:53:00.000\",\"date_of_birth\":\"2016-09-08T00:00:00.000\",\"outcome_type\":\"Adoption\",\"animal_type\":\"Cat\",\"sex_upon_outcome\":\"Spayed Female\",\"age_upon_outcome\":\"2 years\",\"breed\":\"Domestic Shorthair Mix\",\"color\":\"Tortie\"}\\n,{\"animal_id\":\"A802723\",\"name\":\"*Linguine\",\"datetime\":\"2019-09-20T18:27:00.000\",\"monthyear\":\"2019-09-20T18:27:00.000\",\"date_of_birth\":\"2019-07-09T00:00:00.000\",\"outcome_type\":\"Adoption\",\"outcome_subtype\":\"Foster\",\"animal_type\":\"Dog\",\"sex_upon_outcome\":\"Spayed Female\",\"age_upon_outcome\":\"2 months\",\"breed\":\"Miniature Poodle Mix\",\"color\":\"Tan\"}\\n,{\"animal_id\":\"A705205\",\"name\":\"*Dell\",\"datetime\":\"2015-06-20T16:25:00.000\",\"monthyear\":\"2015-06-20T16:25:00.000\",\"date_of_birth\":\"2015-03-30T00:00:00.000\",\"outcome_type\":\"Adoption\",\"outcome_subtype\":\"Offsite\",\"animal_type\":\"Cat\",\"sex_upon_outcome\":\"Neutered Male\",\"age_upon_outcome\":\"2 months\",\"breed\":\"Domestic Shorthair Mix\",\"color\":\"White/Blue Tabby\"}\\n,{\"animal_id\":\"A689228\",\"name\":\"Louie\",\"datetime\":\"2014-12-05T15:55:00.000\",\"monthyear\":\"2014-12-05T15:55:00.000\",\"date_of_birth\":\"2014-06-01T00:00:00.000\",\"outcome_type\":\"Adoption\",\"animal_type\":\"Dog\",\"sex_upon_outcome\":\"Neutered Male\",\"age_upon_outcome\":\"6 months\",\"breed\":\"Dachshund/Chihuahua Shorthair\",\"color\":\"Sable/Tan\"}\\n,{\"animal_id\":\"A875297\",\"name\":\"*Weird Al\",\"datetime\":\"2023-03-04T15:31:00.000\",\"monthyear\":\"2023-03-04T15:31:00.000\",\"date_of_birth\":\"2022-02-24T00:00:00.000\",\"outcome_type\":\"Adoption\",\"animal_type\":\"Cat\",\"sex_upon_outcome\":\"Neutered Male\",\"age_upon_outcome\":\"1 year\",\"breed\":\"Domestic Shorthair\",\"color\":\"Brown Tabby\"}\\n,{\"animal_id\":\"A688837\",\"name\":\"*Sterling\",\"datetime\":\"2014-10-13T18:14:00.000\",\"monthyear\":\"2014-10-13T18:14:00.000\",\"date_of_birth\":\"2013-09-24T00:00:00.000\",\"outcome_type\":\"Adoption\",\"animal_type\":\"Dog\",\"sex_upon_outcome\":\"Neutered Male\",\"age_upon_outcome\":\"1 year\",\"breed\":\"Chihuahua Shorthair Mix\",\"color\":\"Tan/White\"}\\n,{\"animal_id\":\"A634392\",\"name\":\"Junior\",\"datetime\":\"2018-03-24T15:56:00.000\",\"monthyear\":\"2018-03-24T15:56:00.000\",\"date_of_birth\":\"2009-08-11T00:00:00.000\",\"outcome_type\":\"Return to Owner\",\"animal_type\":\"Dog\",\"sex_upon_outcome\":\"Neutered Male\",\"age_upon_outcome\":\"8 years\",\"breed\":\"Standard Schnauzer/Miniature Poodle\",\"color\":\"White\"}\\n,{\"animal_id\":\"A736717\",\"name\":\"Max\",\"datetime\":\"2016-10-21T14:45:00.000\",\"monthyear\":\"2016-10-21T14:45:00.000\",\"date_of_birth\":\"2013-10-16T00:00:00.000\",\"outcome_type\":\"Return to Owner\",\"animal_type\":\"Dog\",\"sex_upon_outcome\":\"Neutered Male\",\"age_upon_outcome\":\"3 years\",\"breed\":\"Pug Mix\",\"color\":\"Brown Brindle\"}\\n,{\"animal_id\":\"A766886\",\"name\":\"Lola\",\"datetime\":\"2018-02-26T17:53:00.000\",\"monthyear\":\"2018-02-26T17:53:00.000\",\"date_of_birth\":\"2017-02-18T00:00:00.000\",\"outcome_type\":\"Adoption\",\"animal_type\":\"Dog\",\"sex_upon_outcome\":\"Spayed Female\",\"age_upon_outcome\":\"1 year\",\"breed\":\"Labrador Retriever Mix\",\"color\":\"Brown/Brown\"}\\n,{\"animal_id\":\"A817863\",\"name\":\"*Beef\",\"datetime\":\"2020-06-04T14:45:00.000\",\"monthyear\":\"2020-06-04T14:45:00.000\",\"date_of_birth\":\"2018-05-27T00:00:00.000\",\"outcome_type\":\"Adoption\",\"animal_type\":\"Dog\",\"sex_upon_outcome\":\"Neutered Male\",\"age_upon_outcome\":\"2 years\",\"breed\":\"American Bulldog\",\"color\":\"Brown Brindle/White\"}\\n,{\"animal_id\":\"A767796\",\"name\":\"*Koko\",\"datetime\":\"2019-06-20T14:18:00.000\",\"monthyear\":\"2019-06-20T14:18:00.000\",\"date_of_birth\":\"2017-12-06T00:00:00.000\",\"outcome_type\":\"Transfer\",\"outcome_subtype\":\"Partner\",\"animal_type\":\"Dog\",\"sex_upon_outcome\":\"Spayed Female\",\"age_upon_outcome\":\"1 year\",\"breed\":\"American Pit Bull Terrier Mix\",\"color\":\"Brown/White\"}\\n,{\"animal_id\":\"A777606\",\"name\":\"Bobo\",\"datetime\":\"2018-08-07T17:25:00.000\",\"monthyear\":\"2018-08-07T17:25:00.000\",\"date_of_birth\":\"2011-07-31T00:00:00.000\",\"outcome_type\":\"Adoption\",\"animal_type\":\"Dog\",\"sex_upon_outcome\":\"Neutered Male\",\"age_upon_outcome\":\"7 years\",\"breed\":\"Chihuahua Shorthair Mix\",\"color\":\"Tricolor\"}\\n,{\"animal_id\":\"A805948\",\"name\":\"Blue\",\"datetime\":\"2019-10-04T11:25:00.000\",\"monthyear\":\"2019-10-04T11:25:00.000\",\"date_of_birth\":\"2017-10-04T00:00:00.000\",\"outcome_type\":\"Return to Owner\",\"animal_type\":\"Dog\",\"sex_upon_outcome\":\"Intact Male\",\"age_upon_outcome\":\"2 years\",\"breed\":\"Siberian Husky\",\"color\":\"Black/Gray\"}\\n,{\"animal_id\":\"A702919\",\"datetime\":\"2015-05-21T13:32:00.000\",\"monthyear\":\"2015-05-21T13:32:00.000\",\"date_of_birth\":\"2015-04-04T00:00:00.000\",\"outcome_type\":\"Transfer\",\"outcome_subtype\":\"Partner\",\"animal_type\":\"Cat\",\"sex_upon_outcome\":\"Intact Male\",\"age_upon_outcome\":\"1 month\",\"breed\":\"Domestic Shorthair Mix\",\"color\":\"Blue\"}\\n,{\"animal_id\":\"A696409\",\"name\":\"*Hans\",\"datetime\":\"2015-02-09T18:46:00.000\",\"monthyear\":\"2015-02-09T18:46:00.000\",\"date_of_birth\":\"2014-11-19T00:00:00.000\",\"outcome_type\":\"Adoption\",\"animal_type\":\"Cat\",\"sex_upon_outcome\":\"Neutered Male\",\"age_upon_outcome\":\"2 months\",\"breed\":\"Domestic Shorthair Mix\",\"color\":\"Black\"}\\n,{\"animal_id\":\"A688758\",\"datetime\":\"2014-09-23T13:21:00.000\",\"monthyear\":\"2014-09-23T13:21:00.000\",\"date_of_birth\":\"2014-09-13T00:00:00.000\",\"outcome_type\":\"Transfer\",\"outcome_subtype\":\"Partner\",\"animal_type\":\"Cat\",\"sex_upon_outcome\":\"Intact Male\",\"age_upon_outcome\":\"1 weeks\",\"breed\":\"Domestic Shorthair Mix\",\"color\":\"Black/White\"}\\n,{\"animal_id\":\"A795325\",\"datetime\":\"2019-05-21T17:10:00.000\",\"monthyear\":\"2019-05-21T17:10:00.000\",\"date_of_birth\":\"2019-03-19T00:00:00.000\",\"outcome_type\":\"Adoption\",\"animal_type\":\"Dog\",\"sex_upon_outcome\":\"Spayed Female\",\"age_upon_outcome\":\"2 months\",\"breed\":\"Labrador Retriever\",\"color\":\"Black\"}\\n,{\"animal_id\":\"A778589\",\"datetime\":\"2018-09-26T10:04:00.000\",\"monthyear\":\"2018-09-26T10:04:00.000\",\"date_of_birth\":\"2018-07-02T00:00:00.000\",\"outcome_type\":\"Adoption\",\"outcome_subtype\":\"Foster\",\"animal_type\":\"Cat\",\"sex_upon_outcome\":\"Neutered Male\",\"age_upon_outcome\":\"2 months\",\"breed\":\"Domestic Shorthair Mix\",\"color\":\"Cream Tabby\"}\\n,{\"animal_id\":\"A734055\",\"datetime\":\"2016-09-01T08:05:00.000\",\"monthyear\":\"2016-09-01T08:05:00.000\",\"date_of_birth\":\"2015-08-31T00:00:00.000\",\"outcome_type\":\"Euthanasia\",\"outcome_subtype\":\"Rabies Risk\",\"animal_type\":\"Other\",\"sex_upon_outcome\":\"Unknown\",\"age_upon_outcome\":\"1 year\",\"breed\":\"Bat Mix\",\"color\":\"Brown\"}\\n,{\"animal_id\":\"A709257\",\"datetime\":\"2015-08-07T08:35:00.000\",\"monthyear\":\"2015-08-07T08:35:00.000\",\"date_of_birth\":\"2014-08-06T00:00:00.000\",\"outcome_type\":\"Euthanasia\",\"outcome_subtype\":\"Rabies Risk\",\"animal_type\":\"Other\",\"sex_upon_outcome\":\"Unknown\",\"age_upon_outcome\":\"1 year\",\"breed\":\"Bat Mix\",\"color\":\"Black\"}\\n,{\"animal_id\":\"A781976\",\"name\":\"*Fancy\",\"datetime\":\"2018-10-16T14:25:00.000\",\"monthyear\":\"2018-10-16T14:25:00.000\",\"date_of_birth\":\"2017-10-08T00:00:00.000\",\"outcome_type\":\"Transfer\",\"outcome_subtype\":\"Partner\",\"animal_type\":\"Dog\",\"sex_upon_outcome\":\"Intact Female\",\"age_upon_outcome\":\"1 year\",\"breed\":\"German Shepherd Mix\",\"color\":\"White\"}\\n,{\"animal_id\":\"A751447\",\"name\":\"Bowser\",\"datetime\":\"2017-06-16T18:29:00.000\",\"monthyear\":\"2017-06-16T18:29:00.000\",\"date_of_birth\":\"2014-06-08T00:00:00.000\",\"outcome_type\":\"Adoption\",\"animal_type\":\"Dog\",\"sex_upon_outcome\":\"Neutered Male\",\"age_upon_outcome\":\"3 years\",\"breed\":\"Beagle Mix\",\"color\":\"Brown/White\"}\\n,{\"animal_id\":\"A643424\",\"name\":\"Patches\",\"datetime\":\"2015-10-30T17:23:00.000\",\"monthyear\":\"2015-10-30T17:23:00.000\",\"date_of_birth\":\"2009-12-09T00:00:00.000\",\"outcome_type\":\"Return to Owner\",\"animal_type\":\"Cat\",\"sex_upon_outcome\":\"Neutered Male\",\"age_upon_outcome\":\"5 years\",\"breed\":\"Domestic Shorthair Mix\",\"color\":\"Black/White\"}\\n,{\"animal_id\":\"A791702\",\"name\":\"Cooper\",\"datetime\":\"2019-04-04T16:13:00.000\",\"monthyear\":\"2019-04-04T16:13:00.000\",\"date_of_birth\":\"2019-01-20T00:00:00.000\",\"outcome_type\":\"Adoption\",\"animal_type\":\"Dog\",\"sex_upon_outcome\":\"Neutered Male\",\"age_upon_outcome\":\"2 months\",\"breed\":\"Labrador Retriever Mix\",\"color\":\"Brown/White\"}\\n,{\"animal_id\":\"A727851\",\"datetime\":\"2016-05-26T18:09:00.000\",\"monthyear\":\"2016-05-26T18:09:00.000\",\"date_of_birth\":\"2014-05-26T00:00:00.000\",\"outcome_type\":\"Euthanasia\",\"outcome_subtype\":\"Rabies Risk\",\"animal_type\":\"Other\",\"sex_upon_outcome\":\"Unknown\",\"age_upon_outcome\":\"2 years\",\"breed\":\"Bat Mix\",\"color\":\"Brown/Black\"}\\n,{\"animal_id\":\"A874995\",\"name\":\"*Brownie\",\"datetime\":\"2023-03-04T16:07:00.000\",\"monthyear\":\"2023-03-04T16:07:00.000\",\"date_of_birth\":\"2022-12-06T00:00:00.000\",\"outcome_type\":\"Adoption\",\"animal_type\":\"Dog\",\"sex_upon_outcome\":\"Spayed Female\",\"age_upon_outcome\":\"2 months\",\"breed\":\"German Shorthair Pointer\",\"color\":\"Tricolor\"}\\n,{\"animal_id\":\"A748126\",\"datetime\":\"2017-05-15T15:40:00.000\",\"monthyear\":\"2017-05-15T15:40:00.000\",\"date_of_birth\":\"2016-04-29T00:00:00.000\",\"outcome_type\":\"Transfer\",\"outcome_subtype\":\"Partner\",\"animal_type\":\"Cat\",\"sex_upon_outcome\":\"Neutered Male\",\"age_upon_outcome\":\"1 year\",\"breed\":\"Domestic Shorthair Mix\",\"color\":\"Brown Tabby\"}\\n,{\"animal_id\":\"A875697\",\"name\":\"Koda\",\"datetime\":\"2023-03-04T16:41:00.000\",\"monthyear\":\"2023-03-04T16:41:00.000\",\"date_of_birth\":\"2020-10-03T00:00:00.000\",\"outcome_type\":\"Adoption\",\"animal_type\":\"Dog\",\"sex_upon_outcome\":\"Spayed Female\",\"age_upon_outcome\":\"2 years\",\"breed\":\"Siberian Husky Mix\",\"color\":\"Black/White\"}\\n,{\"animal_id\":\"A664941\",\"name\":\"Tequila\",\"datetime\":\"2013-10-12T18:14:00.000\",\"monthyear\":\"2013-10-12T18:14:00.000\",\"date_of_birth\":\"2009-10-11T00:00:00.000\",\"outcome_type\":\"Return to Owner\",\"animal_type\":\"Dog\",\"sex_upon_outcome\":\"Spayed Female\",\"age_upon_outcome\":\"4 years\",\"breed\":\"Pit Bull Mix\",\"color\":\"Red/White\"}\\n,{\"animal_id\":\"A657197\",\"name\":\"Gecko\",\"datetime\":\"2013-10-09T13:15:00.000\",\"monthyear\":\"2013-10-09T13:15:00.000\",\"date_of_birth\":\"2013-05-12T00:00:00.000\",\"outcome_type\":\"Adoption\",\"animal_type\":\"Cat\",\"sex_upon_outcome\":\"Neutered Male\",\"age_upon_outcome\":\"4 months\",\"breed\":\"Domestic Shorthair Mix\",\"color\":\"Brown Tabby\"}\\n,{\"animal_id\":\"A801948\",\"name\":\"Boie\",\"datetime\":\"2021-07-09T13:24:00.000\",\"monthyear\":\"2021-07-09T13:24:00.000\",\"date_of_birth\":\"2019-02-12T00:00:00.000\",\"outcome_type\":\"Adoption\",\"animal_type\":\"Dog\",\"sex_upon_outcome\":\"Neutered Male\",\"age_upon_outcome\":\"2 years\",\"breed\":\"Australian Kelpie Mix\",\"color\":\"Brown Brindle/White\"}\\n,{\"animal_id\":\"A809230\",\"name\":\"*Moo\",\"datetime\":\"2019-11-24T16:36:00.000\",\"monthyear\":\"2019-11-24T16:36:00.000\",\"date_of_birth\":\"2015-11-21T00:00:00.000\",\"outcome_type\":\"Adoption\",\"animal_type\":\"Dog\",\"sex_upon_outcome\":\"Neutered Male\",\"age_upon_outcome\":\"4 years\",\"breed\":\"Siberian Husky\",\"color\":\"Gray/White\"}\\n,{\"animal_id\":\"A783412\",\"name\":\"*Yams\",\"datetime\":\"2018-12-16T12:45:00.000\",\"monthyear\":\"2018-12-16T12:45:00.000\",\"date_of_birth\":\"2008-10-30T00:00:00.000\",\"outcome_type\":\"Adoption\",\"animal_type\":\"Cat\",\"sex_upon_outcome\":\"Neutered Male\",\"age_upon_outcome\":\"10 years\",\"breed\":\"Domestic Shorthair Mix\",\"color\":\"Black\"}\\n,{\"animal_id\":\"A686459\",\"name\":\"*Lovey\",\"datetime\":\"2014-09-21T17:39:00.000\",\"monthyear\":\"2014-09-21T17:39:00.000\",\"date_of_birth\":\"2014-07-15T00:00:00.000\",\"outcome_type\":\"Adoption\",\"outcome_subtype\":\"Foster\",\"animal_type\":\"Cat\",\"sex_upon_outcome\":\"Spayed Female\",\"age_upon_outcome\":\"2 months\",\"breed\":\"Domestic Shorthair Mix\",\"color\":\"Tortie\"}\\n,{\"animal_id\":\"A742736\",\"name\":\"Astro\",\"datetime\":\"2017-01-31T17:02:00.000\",\"monthyear\":\"2017-01-31T17:02:00.000\",\"date_of_birth\":\"2016-05-01T00:00:00.000\",\"outcome_type\":\"Adoption\",\"animal_type\":\"Dog\",\"sex_upon_outcome\":\"Neutered Male\",\"age_upon_outcome\":\"9 months\",\"breed\":\"Yorkshire Terrier/Miniature Poodle\",\"color\":\"Brown/Gray\"}\\n,{\"animal_id\":\"A727627\",\"name\":\"Cesar\",\"datetime\":\"2016-05-26T17:13:00.000\",\"monthyear\":\"2016-05-26T17:13:00.000\",\"date_of_birth\":\"2015-05-23T00:00:00.000\",\"outcome_type\":\"Return to Owner\",\"animal_type\":\"Dog\",\"sex_upon_outcome\":\"Neutered Male\",\"age_upon_outcome\":\"1 year\",\"breed\":\"Pit Bull Mix\",\"color\":\"Brown Brindle/White\"}\\n,{\"animal_id\":\"A790321\",\"name\":\"Prince\",\"datetime\":\"2019-03-10T17:37:00.000\",\"monthyear\":\"2019-03-10T17:37:00.000\",\"date_of_birth\":\"2010-03-10T00:00:00.000\",\"outcome_type\":\"Return to Owner\",\"animal_type\":\"Dog\",\"sex_upon_outcome\":\"Intact Male\",\"age_upon_outcome\":\"9 years\",\"breed\":\"Miniature Schnauzer Mix\",\"color\":\"Black\"}\\n,{\"animal_id\":\"A679096\",\"name\":\"Copper\",\"datetime\":\"2015-12-22T11:50:00.000\",\"monthyear\":\"2015-12-22T11:50:00.000\",\"date_of_birth\":\"2007-05-16T00:00:00.000\",\"outcome_type\":\"Adoption\",\"outcome_subtype\":\"Foster\",\"animal_type\":\"Dog\",\"sex_upon_outcome\":\"Neutered Male\",\"age_upon_outcome\":\"8 years\",\"breed\":\"Miniature Pinscher Mix\",\"color\":\"Red\"}\\n,{\"animal_id\":\"A799580\",\"name\":\"*Roger Rabbit\",\"datetime\":\"2019-08-19T19:09:00.000\",\"monthyear\":\"2019-08-19T19:09:00.000\",\"date_of_birth\":\"2019-05-10T00:00:00.000\",\"outcome_type\":\"Adoption\",\"animal_type\":\"Cat\",\"sex_upon_outcome\":\"Neutered Male\",\"age_upon_outcome\":\"3 months\",\"breed\":\"Domestic Shorthair\",\"color\":\"Blue Tabby/White\"}\\n,{\"animal_id\":\"A833513\",\"name\":\"*Lemmy\",\"datetime\":\"2021-05-13T13:15:00.000\",\"monthyear\":\"2021-05-13T13:15:00.000\",\"date_of_birth\":\"2011-05-01T00:00:00.000\",\"outcome_type\":\"Transfer\",\"outcome_subtype\":\"Partner\",\"animal_type\":\"Cat\",\"sex_upon_outcome\":\"Neutered Male\",\"age_upon_outcome\":\"10 years\",\"breed\":\"Domestic Shorthair\",\"color\":\"Brown Tabby\"}\\n,{\"animal_id\":\"A716376\",\"datetime\":\"2015-12-17T11:33:00.000\",\"monthyear\":\"2015-12-17T11:33:00.000\",\"date_of_birth\":\"2015-10-18T00:00:00.000\",\"outcome_type\":\"Adoption\",\"outcome_subtype\":\"Foster\",\"animal_type\":\"Dog\",\"sex_upon_outcome\":\"Spayed Female\",\"age_upon_outcome\":\"1 month\",\"breed\":\"Boxer Mix\",\"color\":\"Red/White\"}\\n,{\"animal_id\":\"A671125\",\"datetime\":\"2014-01-20T18:32:00.000\",\"monthyear\":\"2014-01-20T18:32:00.000\",\"date_of_birth\":\"2013-11-03T00:00:00.000\",\"outcome_type\":\"Adoption\",\"animal_type\":\"Cat\",\"sex_upon_outcome\":\"Neutered Male\",\"age_upon_outcome\":\"2 months\",\"breed\":\"Domestic Shorthair Mix\",\"color\":\"Orange Tabby/White\"}\\n,{\"animal_id\":\"A755735\",\"name\":\"Baby\",\"datetime\":\"2017-08-15T11:46:00.000\",\"monthyear\":\"2017-08-15T11:46:00.000\",\"date_of_birth\":\"2013-08-08T00:00:00.000\",\"outcome_type\":\"Return to Owner\",\"animal_type\":\"Dog\",\"sex_upon_outcome\":\"Spayed Female\",\"age_upon_outcome\":\"4 years\",\"breed\":\"Australian Cattle Dog\",\"color\":\"Blue Merle\"}\\n,{\"animal_id\":\"A697910\",\"name\":\"Boris\",\"datetime\":\"2015-06-23T13:38:00.000\",\"monthyear\":\"2015-06-23T13:38:00.000\",\"date_of_birth\":\"2013-03-03T00:00:00.000\",\"outcome_type\":\"Return to Owner\",\"animal_type\":\"Cat\",\"sex_upon_outcome\":\"Neutered Male\",\"age_upon_outcome\":\"2 years\",\"breed\":\"Domestic Medium Hair Mix\",\"color\":\"Orange Tabby/White\"}\\n,{\"animal_id\":\"A687056\",\"datetime\":\"2014-08-31T09:00:00.000\",\"monthyear\":\"2014-08-31T09:00:00.000\",\"date_of_birth\":\"2014-03-30T00:00:00.000\",\"outcome_type\":\"Transfer\",\"outcome_subtype\":\"SCRP\",\"animal_type\":\"Cat\",\"sex_upon_outcome\":\"Intact Male\",\"age_upon_outcome\":\"5 months\",\"breed\":\"Domestic Shorthair Mix\",\"color\":\"Orange Tabby\"}\\n,{\"animal_id\":\"A685566\",\"datetime\":\"2014-08-10T19:11:00.000\",\"monthyear\":\"2014-08-10T19:11:00.000\",\"date_of_birth\":\"2014-06-09T00:00:00.000\",\"outcome_type\":\"Adoption\",\"animal_type\":\"Dog\",\"sex_upon_outcome\":\"Spayed Female\",\"age_upon_outcome\":\"2 months\",\"breed\":\"Catahoula/Pointer\",\"color\":\"Brown Merle/White\"}\\n,{\"animal_id\":\"A666111\",\"name\":\"*Jerry\",\"datetime\":\"2013-10-29T18:47:00.000\",\"monthyear\":\"2013-10-29T18:47:00.000\",\"date_of_birth\":\"2013-07-29T00:00:00.000\",\"outcome_type\":\"Adoption\",\"animal_type\":\"Cat\",\"sex_upon_outcome\":\"Neutered Male\",\"age_upon_outcome\":\"3 months\",\"breed\":\"Domestic Shorthair Mix\",\"color\":\"Orange Tabby/White\"}\\n,{\"animal_id\":\"A827385\",\"name\":\"Mittens\",\"datetime\":\"2021-01-27T08:51:00.000\",\"monthyear\":\"2021-01-27T08:51:00.000\",\"date_of_birth\":\"2019-12-20T00:00:00.000\",\"outcome_type\":\"Adoption\",\"outcome_subtype\":\"Foster\",\"animal_type\":\"Cat\",\"sex_upon_outcome\":\"Spayed Female\",\"age_upon_outcome\":\"1 year\",\"breed\":\"Domestic Shorthair\",\"color\":\"Blue Tabby/White\"}\\n,{\"animal_id\":\"A807106\",\"name\":\"Wendell\",\"datetime\":\"2020-07-23T17:46:00.000\",\"monthyear\":\"2020-07-23T17:46:00.000\",\"date_of_birth\":\"2019-03-20T00:00:00.000\",\"outcome_type\":\"Adoption\",\"animal_type\":\"Dog\",\"sex_upon_outcome\":\"Neutered Male\",\"age_upon_outcome\":\"1 year\",\"breed\":\"Standard Poodle\",\"color\":\"Silver\"}\\n,{\"animal_id\":\"A785591\",\"name\":\"Luke\",\"datetime\":\"2019-03-09T11:49:00.000\",\"monthyear\":\"2019-03-09T11:49:00.000\",\"date_of_birth\":\"2017-09-11T00:00:00.000\",\"outcome_type\":\"Adoption\",\"animal_type\":\"Dog\",\"sex_upon_outcome\":\"Neutered Male\",\"age_upon_outcome\":\"1 year\",\"breed\":\"Labrador Retriever Mix\",\"color\":\"Brown/White\"}\\n,{\"animal_id\":\"A707921\",\"name\":\"Debo\",\"datetime\":\"2015-07-21T15:01:00.000\",\"monthyear\":\"2015-07-21T15:01:00.000\",\"date_of_birth\":\"2011-08-14T00:00:00.000\",\"outcome_type\":\"Return to Owner\",\"animal_type\":\"Dog\",\"sex_upon_outcome\":\"Intact Male\",\"age_upon_outcome\":\"3 years\",\"breed\":\"Pit Bull Mix\",\"color\":\"Red/White\"}\\n,{\"animal_id\":\"A718784\",\"name\":\"*Marigold\",\"datetime\":\"2016-01-12T11:52:00.000\",\"monthyear\":\"2016-01-12T11:52:00.000\",\"date_of_birth\":\"2015-10-07T00:00:00.000\",\"outcome_type\":\"Adoption\",\"animal_type\":\"Cat\",\"sex_upon_outcome\":\"Spayed Female\",\"age_upon_outcome\":\"3 months\",\"breed\":\"Domestic Shorthair Mix\",\"color\":\"Brown Tabby/White\"}\\n,{\"animal_id\":\"A675548\",\"datetime\":\"2014-03-29T08:42:00.000\",\"monthyear\":\"2014-03-29T08:42:00.000\",\"date_of_birth\":\"2014-03-01T00:00:00.000\",\"outcome_type\":\"Euthanasia\",\"outcome_subtype\":\"Rabies Risk\",\"animal_type\":\"Other\",\"sex_upon_outcome\":\"Unknown\",\"age_upon_outcome\":\"4 weeks\",\"breed\":\"Bat\",\"color\":\"Brown/Black\"}\\n,{\"animal_id\":\"A676323\",\"datetime\":\"2014-05-23T12:24:00.000\",\"monthyear\":\"2014-05-23T12:24:00.000\",\"date_of_birth\":\"2014-03-21T00:00:00.000\",\"outcome_type\":\"Adoption\",\"animal_type\":\"Dog\",\"sex_upon_outcome\":\"Spayed Female\",\"age_upon_outcome\":\"2 months\",\"breed\":\"Australian Cattle Dog Mix\",\"color\":\"Tricolor\"}\\n,{\"animal_id\":\"A875045\",\"name\":\"Nyla\",\"datetime\":\"2023-03-04T16:50:00.000\",\"monthyear\":\"2023-03-04T16:50:00.000\",\"date_of_birth\":\"2021-02-21T00:00:00.000\",\"outcome_type\":\"Adoption\",\"animal_type\":\"Dog\",\"sex_upon_outcome\":\"Spayed Female\",\"age_upon_outcome\":\"2 years\",\"breed\":\"Siberian Husky\",\"color\":\"Gray/White\"}\\n,{\"animal_id\":\"A808862\",\"name\":\"Big Papi\",\"datetime\":\"2019-11-18T12:23:00.000\",\"monthyear\":\"2019-11-18T12:23:00.000\",\"date_of_birth\":\"2018-11-14T00:00:00.000\",\"outcome_type\":\"Transfer\",\"outcome_subtype\":\"Partner\",\"animal_type\":\"Dog\",\"sex_upon_outcome\":\"Intact Male\",\"age_upon_outcome\":\"1 year\",\"breed\":\"Miniature Poodle Mix\",\"color\":\"Apricot\"}\\n,{\"animal_id\":\"A707253\",\"name\":\"Goowa\",\"datetime\":\"2016-01-29T16:57:00.000\",\"monthyear\":\"2016-01-29T16:57:00.000\",\"date_of_birth\":\"2012-07-10T00:00:00.000\",\"outcome_type\":\"Transfer\",\"outcome_subtype\":\"Partner\",\"animal_type\":\"Dog\",\"sex_upon_outcome\":\"Neutered Male\",\"age_upon_outcome\":\"3 years\",\"breed\":\"Pit Bull Mix\",\"color\":\"Apricot/Brown\"}\\n,{\"animal_id\":\"A721165\",\"name\":\"*Nelson\",\"datetime\":\"2016-02-26T21:13:00.000\",\"monthyear\":\"2016-02-26T21:13:00.000\",\"date_of_birth\":\"2015-02-22T00:00:00.000\",\"outcome_type\":\"Adoption\",\"animal_type\":\"Dog\",\"sex_upon_outcome\":\"Neutered Male\",\"age_upon_outcome\":\"1 year\",\"breed\":\"Pit Bull Mix\",\"color\":\"Brown/White\"}\\n,{\"animal_id\":\"A846234\",\"name\":\"Pink\",\"datetime\":\"2023-03-04T16:30:00.000\",\"monthyear\":\"2023-03-04T16:30:00.000\",\"date_of_birth\":\"2019-11-12T00:00:00.000\",\"outcome_type\":\"Return to Owner\",\"animal_type\":\"Dog\",\"sex_upon_outcome\":\"Intact Female\",\"age_upon_outcome\":\"3 years\",\"breed\":\"Doberman Pinsch\",\"color\":\"Black/Tan\"}\\n,{\"animal_id\":\"A819227\",\"name\":\"Agou\",\"datetime\":\"2020-06-30T18:52:00.000\",\"monthyear\":\"2020-06-30T18:52:00.000\",\"date_of_birth\":\"2018-06-24T00:00:00.000\",\"outcome_type\":\"Rto-Adopt\",\"animal_type\":\"Dog\",\"sex_upon_outcome\":\"Spayed Female\",\"age_upon_outcome\":\"2 years\",\"breed\":\"Great Pyrenees\",\"color\":\"White\"}\\n,{\"animal_id\":\"A685823\",\"name\":\"Walker\",\"datetime\":\"2014-08-15T17:17:00.000\",\"monthyear\":\"2014-08-15T17:17:00.000\",\"date_of_birth\":\"2011-08-13T00:00:00.000\",\"outcome_type\":\"Return to Owner\",\"animal_type\":\"Dog\",\"sex_upon_outcome\":\"Neutered Male\",\"age_upon_outcome\":\"3 years\",\"breed\":\"Pit Bull Mix\",\"color\":\"Black/White\"}\\n,{\"animal_id\":\"A805622\",\"name\":\"Sadie\",\"datetime\":\"2019-12-05T12:02:00.000\",\"monthyear\":\"2019-12-05T12:02:00.000\",\"date_of_birth\":\"2018-03-29T00:00:00.000\",\"outcome_type\":\"Adoption\",\"animal_type\":\"Dog\",\"sex_upon_outcome\":\"Spayed Female\",\"age_upon_outcome\":\"1 year\",\"breed\":\"German Shepherd Mix\",\"color\":\"Black/Tan\"}\\n,{\"animal_id\":\"A651995\",\"name\":\"*Sugar\",\"datetime\":\"2018-07-02T15:34:00.000\",\"monthyear\":\"2018-07-02T15:34:00.000\",\"date_of_birth\":\"2011-10-18T00:00:00.000\",\"outcome_type\":\"Adoption\",\"outcome_subtype\":\"Foster\",\"animal_type\":\"Dog\",\"sex_upon_outcome\":\"Spayed Female\",\"age_upon_outcome\":\"6 years\",\"breed\":\"Staffordshire Mix\",\"color\":\"Brown/White\"}\\n,{\"animal_id\":\"A769199\",\"name\":\"Sophia\",\"datetime\":\"2018-04-03T16:33:00.000\",\"monthyear\":\"2018-04-03T16:33:00.000\",\"date_of_birth\":\"2016-04-01T00:00:00.000\",\"outcome_type\":\"Return to Owner\",\"animal_type\":\"Dog\",\"sex_upon_outcome\":\"Intact Female\",\"age_upon_outcome\":\"2 years\",\"breed\":\"Dachshund Mix\",\"color\":\"Black/Tan\"}\\n,{\"animal_id\":\"A824550\",\"datetime\":\"2020-10-16T14:11:00.000\",\"monthyear\":\"2020-10-16T14:11:00.000\",\"date_of_birth\":\"2020-09-16T00:00:00.000\",\"outcome_type\":\"Transfer\",\"outcome_subtype\":\"Partner\",\"animal_type\":\"Cat\",\"sex_upon_outcome\":\"Intact Male\",\"age_upon_outcome\":\"4 weeks\",\"breed\":\"Domestic Shorthair\",\"color\":\"Blue\"}\\n,{\"animal_id\":\"A696539\",\"name\":\"Jasper\",\"datetime\":\"2015-02-14T16:36:00.000\",\"monthyear\":\"2015-02-14T16:36:00.000\",\"date_of_birth\":\"2014-11-06T00:00:00.000\",\"outcome_type\":\"Adoption\",\"animal_type\":\"Dog\",\"sex_upon_outcome\":\"Neutered Male\",\"age_upon_outcome\":\"3 months\",\"breed\":\"Australian Cattle Dog Mix\",\"color\":\"Tan/White\"}\\n,{\"animal_id\":\"A791899\",\"datetime\":\"2019-04-05T19:36:00.000\",\"monthyear\":\"2019-04-05T19:36:00.000\",\"date_of_birth\":\"2018-04-02T00:00:00.000\",\"outcome_type\":\"Transfer\",\"outcome_subtype\":\"Snr\",\"animal_type\":\"Cat\",\"sex_upon_outcome\":\"Intact Female\",\"age_upon_outcome\":\"1 year\",\"breed\":\"Siamese Mix\",\"color\":\"Tortie Point\"}\\n,{\"animal_id\":\"A725540\",\"name\":\"*Tiny\",\"datetime\":\"2016-05-02T13:32:00.000\",\"monthyear\":\"2016-05-02T13:32:00.000\",\"date_of_birth\":\"2016-04-08T00:00:00.000\",\"outcome_type\":\"Transfer\",\"outcome_subtype\":\"Partner\",\"animal_type\":\"Cat\",\"sex_upon_outcome\":\"Intact Male\",\"age_upon_outcome\":\"3 weeks\",\"breed\":\"Domestic Shorthair Mix\",\"color\":\"Brown Tabby/White\"}\\n,{\"animal_id\":\"A782089\",\"datetime\":\"2018-10-10T21:00:00.000\",\"monthyear\":\"2018-10-10T21:00:00.000\",\"date_of_birth\":\"2016-10-10T00:00:00.000\",\"outcome_type\":\"Euthanasia\",\"outcome_subtype\":\"Suffering\",\"animal_type\":\"Cat\",\"sex_upon_outcome\":\"Intact Female\",\"age_upon_outcome\":\"2 years\",\"breed\":\"Domestic Shorthair Mix\",\"color\":\"Tan/Black\"}\\n,{\"animal_id\":\"A830483\",\"datetime\":\"2021-03-10T12:31:00.000\",\"monthyear\":\"2021-03-10T12:31:00.000\",\"date_of_birth\":\"2020-03-10T00:00:00.000\",\"outcome_type\":\"Euthanasia\",\"outcome_subtype\":\"Suffering\",\"animal_type\":\"Cat\",\"sex_upon_outcome\":\"Intact Male\",\"age_upon_outcome\":\"1 year\",\"breed\":\"Domestic Shorthair\",\"color\":\"Seal Point\"}\\n,{\"animal_id\":\"A839198\",\"name\":\"A839198\",\"datetime\":\"2021-08-06T13:07:00.000\",\"monthyear\":\"2021-08-06T13:07:00.000\",\"date_of_birth\":\"2021-06-08T00:00:00.000\",\"outcome_type\":\"Adoption\",\"outcome_subtype\":\"Foster\",\"animal_type\":\"Dog\",\"sex_upon_outcome\":\"Spayed Female\",\"age_upon_outcome\":\"1 month\",\"breed\":\"German Shepherd\",\"color\":\"Black/Tan\"}\\n,{\"animal_id\":\"A739966\",\"name\":\"*Skippyjohn\",\"datetime\":\"2017-02-10T07:34:00.000\",\"monthyear\":\"2017-02-10T07:34:00.000\",\"date_of_birth\":\"2016-11-09T00:00:00.000\",\"outcome_type\":\"Adoption\",\"outcome_subtype\":\"Foster\",\"animal_type\":\"Cat\",\"sex_upon_outcome\":\"Neutered Male\",\"age_upon_outcome\":\"3 months\",\"breed\":\"Siamese Mix\",\"color\":\"Seal Point\"}\\n,{\"animal_id\":\"A808447\",\"name\":\"Elle\",\"datetime\":\"2019-12-04T14:45:00.000\",\"monthyear\":\"2019-12-04T14:45:00.000\",\"date_of_birth\":\"2019-05-08T00:00:00.000\",\"outcome_type\":\"Adoption\",\"animal_type\":\"Dog\",\"sex_upon_outcome\":\"Intact Female\",\"age_upon_outcome\":\"6 months\",\"breed\":\"Labrador Retriever\",\"color\":\"Black\"}\\n,{\"animal_id\":\"A729355\",\"name\":\"*Bridget\",\"datetime\":\"2016-06-24T14:31:00.000\",\"monthyear\":\"2016-06-24T14:31:00.000\",\"date_of_birth\":\"2016-02-11T00:00:00.000\",\"outcome_type\":\"Transfer\",\"outcome_subtype\":\"Partner\",\"animal_type\":\"Cat\",\"sex_upon_outcome\":\"Intact Female\",\"age_upon_outcome\":\"4 months\",\"breed\":\"Domestic Shorthair Mix\",\"color\":\"Torbie/Brown Tabby\"}\\n,{\"animal_id\":\"A788817\",\"name\":\"*Latte\",\"datetime\":\"2021-11-06T11:55:00.000\",\"monthyear\":\"2021-11-06T11:55:00.000\",\"date_of_birth\":\"2018-04-09T00:00:00.000\",\"outcome_type\":\"Transfer\",\"outcome_subtype\":\"Partner\",\"animal_type\":\"Dog\",\"sex_upon_outcome\":\"Spayed Female\",\"age_upon_outcome\":\"3 years\",\"breed\":\"Staffordshire Mix\",\"color\":\"Fawn/White\"}\\n,{\"animal_id\":\"A679609\",\"datetime\":\"2014-05-23T16:24:00.000\",\"monthyear\":\"2014-05-23T16:24:00.000\",\"date_of_birth\":\"2014-04-17T00:00:00.000\",\"outcome_type\":\"Transfer\",\"outcome_subtype\":\"Partner\",\"animal_type\":\"Dog\",\"sex_upon_outcome\":\"Intact Female\",\"age_upon_outcome\":\"1 month\",\"breed\":\"Pit Bull Mix\",\"color\":\"Brown/White\"}\\n,{\"animal_id\":\"A766831\",\"name\":\"Lucky\",\"datetime\":\"2018-02-19T12:30:00.000\",\"monthyear\":\"2018-02-19T12:30:00.000\",\"date_of_birth\":\"2016-02-17T00:00:00.000\",\"outcome_type\":\"Return to Owner\",\"animal_type\":\"Dog\",\"sex_upon_outcome\":\"Intact Male\",\"age_upon_outcome\":\"2 years\",\"breed\":\"Great Pyrenees Mix\",\"color\":\"White/Black\"}\\n,{\"animal_id\":\"A706892\",\"name\":\"Penny\",\"datetime\":\"2016-02-24T18:32:00.000\",\"monthyear\":\"2016-02-24T18:32:00.000\",\"date_of_birth\":\"2012-07-05T00:00:00.000\",\"outcome_type\":\"Adoption\",\"animal_type\":\"Dog\",\"sex_upon_outcome\":\"Spayed Female\",\"age_upon_outcome\":\"3 years\",\"breed\":\"German Shepherd Mix\",\"color\":\"Tan/Black\"}\\n,{\"animal_id\":\"A687681\",\"datetime\":\"2014-09-08T18:53:00.000\",\"monthyear\":\"2014-09-08T18:53:00.000\",\"date_of_birth\":\"2014-09-03T00:00:00.000\",\"outcome_type\":\"Transfer\",\"outcome_subtype\":\"Partner\",\"animal_type\":\"Cat\",\"sex_upon_outcome\":\"Unknown\",\"age_upon_outcome\":\"5 days\",\"breed\":\"Domestic Shorthair Mix\",\"color\":\"Blue Tabby\"}\\n,{\"animal_id\":\"A726716\",\"name\":\"*Montana\",\"datetime\":\"2016-12-20T09:59:00.000\",\"monthyear\":\"2016-12-20T09:59:00.000\",\"date_of_birth\":\"2015-05-13T00:00:00.000\",\"outcome_type\":\"Adoption\",\"outcome_subtype\":\"Foster\",\"animal_type\":\"Dog\",\"sex_upon_outcome\":\"Neutered Male\",\"age_upon_outcome\":\"1 year\",\"breed\":\"Pit Bull Mix\",\"color\":\"Brown Brindle/White\"}\\n,{\"animal_id\":\"A692534\",\"name\":\"Lareine\",\"datetime\":\"2014-11-28T16:58:00.000\",\"monthyear\":\"2014-11-28T16:58:00.000\",\"date_of_birth\":\"2013-11-22T00:00:00.000\",\"outcome_type\":\"Adoption\",\"animal_type\":\"Dog\",\"sex_upon_outcome\":\"Spayed Female\",\"age_upon_outcome\":\"1 year\",\"breed\":\"Queensland Heeler/Pointer\",\"color\":\"Blue Tick\"}\\n,{\"animal_id\":\"A767252\",\"name\":\"Amy\",\"datetime\":\"2019-03-04T19:15:00.000\",\"monthyear\":\"2019-03-04T19:15:00.000\",\"date_of_birth\":\"2010-01-26T00:00:00.000\",\"outcome_type\":\"Return to Owner\",\"animal_type\":\"Dog\",\"sex_upon_outcome\":\"Spayed Female\",\"age_upon_outcome\":\"9 years\",\"breed\":\"Chihuahua Shorthair Mix\",\"color\":\"Tricolor/White\"}\\n,{\"animal_id\":\"A781920\",\"name\":\"Binz\",\"datetime\":\"2018-10-08T11:17:00.000\",\"monthyear\":\"2018-10-08T11:17:00.000\",\"date_of_birth\":\"2016-10-08T00:00:00.000\",\"outcome_type\":\"Return to Owner\",\"animal_type\":\"Dog\",\"sex_upon_outcome\":\"Neutered Male\",\"age_upon_outcome\":\"2 years\",\"breed\":\"American Bulldog Mix\",\"color\":\"White/Gray\"}\\n,{\"animal_id\":\"A764556\",\"name\":\"Cash\",\"datetime\":\"2018-01-01T16:43:00.000\",\"monthyear\":\"2018-01-01T16:43:00.000\",\"date_of_birth\":\"2011-05-22T00:00:00.000\",\"outcome_type\":\"Return to Owner\",\"animal_type\":\"Dog\",\"sex_upon_outcome\":\"Intact Male\",\"age_upon_outcome\":\"6 years\",\"breed\":\"Labrador Retriever Mix\",\"color\":\"Black\"}\\n,{\"animal_id\":\"A666702\",\"name\":\"*Farley\",\"datetime\":\"2015-01-12T14:17:00.000\",\"monthyear\":\"2015-01-12T14:17:00.000\",\"date_of_birth\":\"2013-03-06T00:00:00.000\",\"outcome_type\":\"Adoption\",\"animal_type\":\"Dog\",\"sex_upon_outcome\":\"Neutered Male\",\"age_upon_outcome\":\"1 year\",\"breed\":\"Catahoula Mix\",\"color\":\"Brown Brindle/White\"}\\n,{\"animal_id\":\"A875548\",\"name\":\"*Bongo\",\"datetime\":\"2023-03-04T17:58:00.000\",\"monthyear\":\"2023-03-04T17:58:00.000\",\"date_of_birth\":\"2022-02-28T00:00:00.000\",\"outcome_type\":\"Adoption\",\"animal_type\":\"Other\",\"sex_upon_outcome\":\"Unknown\",\"age_upon_outcome\":\"1 year\",\"breed\":\"Rabbit Sh\",\"color\":\"Brown\"}\\n,{\"animal_id\":\"A652101\",\"name\":\"Stella\",\"datetime\":\"2016-01-06T18:56:00.000\",\"monthyear\":\"2016-01-06T18:56:00.000\",\"date_of_birth\":\"2011-04-20T00:00:00.000\",\"outcome_type\":\"Return to Owner\",\"animal_type\":\"Dog\",\"sex_upon_outcome\":\"Spayed Female\",\"age_upon_outcome\":\"4 years\",\"breed\":\"Pit Bull/Chow Chow\",\"color\":\"Tan/White\"}\\n,{\"animal_id\":\"A727902\",\"name\":\"*Jake\",\"datetime\":\"2016-06-06T19:48:00.000\",\"monthyear\":\"2016-06-06T19:48:00.000\",\"date_of_birth\":\"2010-05-27T00:00:00.000\",\"outcome_type\":\"Adoption\",\"animal_type\":\"Dog\",\"sex_upon_outcome\":\"Neutered Male\",\"age_upon_outcome\":\"6 years\",\"breed\":\"Pug Mix\",\"color\":\"Black/White\"}\\n,{\"animal_id\":\"A805553\",\"datetime\":\"2019-10-01T17:17:00.000\",\"monthyear\":\"2019-10-01T17:17:00.000\",\"date_of_birth\":\"2019-05-28T00:00:00.000\",\"outcome_type\":\"Adoption\",\"animal_type\":\"Dog\",\"sex_upon_outcome\":\"Spayed Female\",\"age_upon_outcome\":\"4 months\",\"breed\":\"Beagle/Dachshund\",\"color\":\"Black/Tricolor\"}\\n,{\"animal_id\":\"A810834\",\"name\":\"Amigo\",\"datetime\":\"2020-01-14T13:54:00.000\",\"monthyear\":\"2020-01-14T13:54:00.000\",\"date_of_birth\":\"2017-12-21T00:00:00.000\",\"outcome_type\":\"Transfer\",\"outcome_subtype\":\"Partner\",\"animal_type\":\"Dog\",\"sex_upon_outcome\":\"Neutered Male\",\"age_upon_outcome\":\"2 years\",\"breed\":\"Pit Bull/Australian Cattle Dog\",\"color\":\"Chocolate/Tan\"}\\n,{\"animal_id\":\"A789482\",\"name\":\"Mclaren\",\"datetime\":\"2019-02-26T16:21:00.000\",\"monthyear\":\"2019-02-26T16:21:00.000\",\"date_of_birth\":\"2018-12-18T00:00:00.000\",\"outcome_type\":\"Adoption\",\"animal_type\":\"Dog\",\"sex_upon_outcome\":\"Neutered Male\",\"age_upon_outcome\":\"2 months\",\"breed\":\"Boxer/Australian Cattle Dog\",\"color\":\"Brown Brindle/White\"}\\n,{\"animal_id\":\"A661916\",\"name\":\"Bella\",\"datetime\":\"2014-04-02T17:42:00.000\",\"monthyear\":\"2014-04-02T17:42:00.000\",\"date_of_birth\":\"2011-08-27T00:00:00.000\",\"outcome_type\":\"Euthanasia\",\"outcome_subtype\":\"Aggressive\",\"animal_type\":\"Dog\",\"sex_upon_outcome\":\"Spayed Female\",\"age_upon_outcome\":\"2 years\",\"breed\":\"Pit Bull Mix\",\"color\":\"White/Brown\"}\\n,{\"animal_id\":\"A801634\",\"name\":\"Simba\",\"datetime\":\"2019-10-15T18:21:00.000\",\"monthyear\":\"2019-10-15T18:21:00.000\",\"date_of_birth\":\"2019-04-06T00:00:00.000\",\"outcome_type\":\"Adoption\",\"animal_type\":\"Cat\",\"sex_upon_outcome\":\"Neutered Male\",\"age_upon_outcome\":\"6 months\",\"breed\":\"Domestic Shorthair Mix\",\"color\":\"White/Brown Tabby\"}\\n,{\"animal_id\":\"A783891\",\"name\":\"Elizabeth T\",\"datetime\":\"2019-01-16T11:28:00.000\",\"monthyear\":\"2019-01-16T11:28:00.000\",\"date_of_birth\":\"2015-11-08T00:00:00.000\",\"outcome_type\":\"Adoption\",\"outcome_subtype\":\"Foster\",\"animal_type\":\"Dog\",\"sex_upon_outcome\":\"Spayed Female\",\"age_upon_outcome\":\"3 years\",\"breed\":\"Border Terrier\",\"color\":\"Black/Tan\"}\\n,{\"animal_id\":\"A771760\",\"datetime\":\"2018-05-12T19:32:00.000\",\"monthyear\":\"2018-05-12T19:32:00.000\",\"date_of_birth\":\"2017-05-09T00:00:00.000\",\"outcome_type\":\"Transfer\",\"outcome_subtype\":\"Snr\",\"animal_type\":\"Cat\",\"sex_upon_outcome\":\"Intact Female\",\"age_upon_outcome\":\"1 year\",\"breed\":\"Domestic Shorthair Mix\",\"color\":\"Brown Tabby\"}\\n,{\"animal_id\":\"A747746\",\"name\":\"*Hops\",\"datetime\":\"2017-05-28T17:44:00.000\",\"monthyear\":\"2017-05-28T17:44:00.000\",\"date_of_birth\":\"2016-04-24T00:00:00.000\",\"outcome_type\":\"Adoption\",\"animal_type\":\"Cat\",\"sex_upon_outcome\":\"Spayed Female\",\"age_upon_outcome\":\"1 year\",\"breed\":\"Domestic Shorthair Mix\",\"color\":\"Brown Tabby/White\"}\\n,{\"animal_id\":\"A842461\",\"name\":\"*Ruby\",\"datetime\":\"2021-10-27T09:50:00.000\",\"monthyear\":\"2021-10-27T09:50:00.000\",\"date_of_birth\":\"2021-08-05T00:00:00.000\",\"outcome_type\":\"Adoption\",\"outcome_subtype\":\"Foster\",\"animal_type\":\"Cat\",\"sex_upon_outcome\":\"Spayed Female\",\"age_upon_outcome\":\"2 months\",\"breed\":\"Domestic Shorthair Mix\",\"color\":\"Tortie\"}\\n,{\"animal_id\":\"A681272\",\"name\":\"Chucky\",\"datetime\":\"2014-06-17T13:29:00.000\",\"monthyear\":\"2014-06-17T13:29:00.000\",\"date_of_birth\":\"2011-06-14T00:00:00.000\",\"outcome_type\":\"Transfer\",\"outcome_subtype\":\"Partner\",\"animal_type\":\"Dog\",\"sex_upon_outcome\":\"Neutered Male\",\"age_upon_outcome\":\"3 years\",\"breed\":\"Chihuahua Shorthair Mix\",\"color\":\"Brown\"}\\n,{\"animal_id\":\"A711258\",\"name\":\"Cash\",\"datetime\":\"2015-11-03T19:38:00.000\",\"monthyear\":\"2015-11-03T19:38:00.000\",\"date_of_birth\":\"2012-09-04T00:00:00.000\",\"outcome_type\":\"Adoption\",\"animal_type\":\"Dog\",\"sex_upon_outcome\":\"Neutered Male\",\"age_upon_outcome\":\"3 years\",\"breed\":\"Boxer Mix\",\"color\":\"White/Brown Brindle\"}\\n,{\"animal_id\":\"A697903\",\"datetime\":\"2015-03-04T09:00:00.000\",\"monthyear\":\"2015-03-04T09:00:00.000\",\"date_of_birth\":\"2014-11-18T00:00:00.000\",\"outcome_type\":\"Transfer\",\"outcome_subtype\":\"SCRP\",\"animal_type\":\"Cat\",\"sex_upon_outcome\":\"Unknown\",\"age_upon_outcome\":\"3 months\",\"breed\":\"Siamese Mix\",\"color\":\"Lynx Point\"}\\n,{\"animal_id\":\"A689065\",\"datetime\":\"2014-09-29T13:08:00.000\",\"monthyear\":\"2014-09-29T13:08:00.000\",\"date_of_birth\":\"2014-08-09T00:00:00.000\",\"outcome_type\":\"Transfer\",\"outcome_subtype\":\"Partner\",\"animal_type\":\"Dog\",\"sex_upon_outcome\":\"Intact Female\",\"age_upon_outcome\":\"1 month\",\"breed\":\"Flat Coat Retriever/Pit Bull\",\"color\":\"Buff\"}\\n,{\"animal_id\":\"A676139\",\"name\":\"*Iona\",\"datetime\":\"2017-03-08T07:51:00.000\",\"monthyear\":\"2017-03-08T07:51:00.000\",\"date_of_birth\":\"2008-04-09T00:00:00.000\",\"outcome_type\":\"Adoption\",\"outcome_subtype\":\"Foster\",\"animal_type\":\"Cat\",\"sex_upon_outcome\":\"Spayed Female\",\"age_upon_outcome\":\"8 years\",\"breed\":\"Domestic Shorthair Mix\",\"color\":\"Brown Tabby/White\"}\\n,{\"animal_id\":\"A676256\",\"name\":\"Maxey\",\"datetime\":\"2014-04-07T18:49:00.000\",\"monthyear\":\"2014-04-07T18:49:00.000\",\"date_of_birth\":\"1999-04-07T00:00:00.000\",\"outcome_type\":\"Return to Owner\",\"animal_type\":\"Cat\",\"sex_upon_outcome\":\"Spayed Female\",\"age_upon_outcome\":\"15 years\",\"breed\":\"Domestic Shorthair Mix\",\"color\":\"Torbie\"}\\n,{\"animal_id\":\"A667657\",\"name\":\"Rye\",\"datetime\":\"2013-12-01T13:10:00.000\",\"monthyear\":\"2013-12-01T13:10:00.000\",\"date_of_birth\":\"2006-11-20T00:00:00.000\",\"outcome_type\":\"Adoption\",\"animal_type\":\"Dog\",\"sex_upon_outcome\":\"Neutered Male\",\"age_upon_outcome\":\"7 years\",\"breed\":\"Mastiff Mix\",\"color\":\"Brown Brindle/White\"}\\n,{\"animal_id\":\"A798215\",\"datetime\":\"2019-06-24T18:06:00.000\",\"monthyear\":\"2019-06-24T18:06:00.000\",\"date_of_birth\":\"2017-06-23T00:00:00.000\",\"outcome_type\":\"Euthanasia\",\"outcome_subtype\":\"Rabies Risk\",\"animal_type\":\"Other\",\"sex_upon_outcome\":\"Unknown\",\"age_upon_outcome\":\"2 years\",\"breed\":\"Raccoon\",\"color\":\"Brown/Black\"}\\n,{\"animal_id\":\"A774385\",\"datetime\":\"2018-06-30T16:45:00.000\",\"monthyear\":\"2018-06-30T16:45:00.000\",\"date_of_birth\":\"2018-04-07T00:00:00.000\",\"outcome_type\":\"Adoption\",\"animal_type\":\"Cat\",\"sex_upon_outcome\":\"Neutered Male\",\"age_upon_outcome\":\"2 months\",\"breed\":\"Domestic Shorthair Mix\",\"color\":\"Brown Tabby\"}\\n,{\"animal_id\":\"A771075\",\"datetime\":\"2018-06-23T20:16:00.000\",\"monthyear\":\"2018-06-23T20:16:00.000\",\"date_of_birth\":\"2018-04-15T00:00:00.000\",\"outcome_type\":\"Adoption\",\"outcome_subtype\":\"Foster\",\"animal_type\":\"Cat\",\"sex_upon_outcome\":\"Spayed Female\",\"age_upon_outcome\":\"2 months\",\"breed\":\"Domestic Shorthair Mix\",\"color\":\"Brown Tabby\"}\\n,{\"animal_id\":\"A679944\",\"datetime\":\"2014-06-01T17:40:00.000\",\"monthyear\":\"2014-06-01T17:40:00.000\",\"date_of_birth\":\"2012-05-28T00:00:00.000\",\"outcome_type\":\"Transfer\",\"outcome_subtype\":\"Partner\",\"animal_type\":\"Dog\",\"sex_upon_outcome\":\"Spayed Female\",\"age_upon_outcome\":\"2 years\",\"breed\":\"Cairn Terrier Mix\",\"color\":\"White/Buff\"}\\n,{\"animal_id\":\"A698183\",\"name\":\"*Eleanor\",\"datetime\":\"2015-03-12T16:13:00.000\",\"monthyear\":\"2015-03-12T16:13:00.000\",\"date_of_birth\":\"2013-03-06T00:00:00.000\",\"outcome_type\":\"Euthanasia\",\"outcome_subtype\":\"Suffering\",\"animal_type\":\"Dog\",\"sex_upon_outcome\":\"Intact Female\",\"age_upon_outcome\":\"2 years\",\"breed\":\"Pit Bull Mix\",\"color\":\"Brown Brindle\"}\\n,{\"animal_id\":\"A729125\",\"name\":\"Auburn\",\"datetime\":\"2016-06-19T16:36:00.000\",\"monthyear\":\"2016-06-19T16:36:00.000\",\"date_of_birth\":\"2015-07-13T00:00:00.000\",\"outcome_type\":\"Adoption\",\"animal_type\":\"Dog\",\"sex_upon_outcome\":\"Spayed Female\",\"age_upon_outcome\":\"11 months\",\"breed\":\"Golden Retriever/Bearded Collie\",\"color\":\"Red/White\"}\\n,{\"animal_id\":\"A726827\",\"name\":\"Sweet Pea\",\"datetime\":\"2017-05-29T17:07:00.000\",\"monthyear\":\"2017-05-29T17:07:00.000\",\"date_of_birth\":\"2016-04-15T00:00:00.000\",\"outcome_type\":\"Adoption\",\"animal_type\":\"Cat\",\"sex_upon_outcome\":\"Spayed Female\",\"age_upon_outcome\":\"1 year\",\"breed\":\"Domestic Shorthair Mix\",\"color\":\"Torbie\"}\\n,{\"animal_id\":\"A662741\",\"name\":\"*Todd\",\"datetime\":\"2013-10-05T12:42:00.000\",\"monthyear\":\"2013-10-05T12:42:00.000\",\"date_of_birth\":\"2013-08-11T00:00:00.000\",\"outcome_type\":\"Transfer\",\"outcome_subtype\":\"Partner\",\"animal_type\":\"Cat\",\"sex_upon_outcome\":\"Intact Male\",\"age_upon_outcome\":\"1 month\",\"breed\":\"Domestic Shorthair Mix\",\"color\":\"Black\"}\\n,{\"animal_id\":\"A796941\",\"name\":\"*Carrot\",\"datetime\":\"2019-08-03T14:40:00.000\",\"monthyear\":\"2019-08-03T14:40:00.000\",\"date_of_birth\":\"2019-04-27T00:00:00.000\",\"outcome_type\":\"Adoption\",\"outcome_subtype\":\"Foster\",\"animal_type\":\"Cat\",\"sex_upon_outcome\":\"Neutered Male\",\"age_upon_outcome\":\"3 months\",\"breed\":\"Domestic Shorthair\",\"color\":\"Cream Tabby\"}\\n,{\"animal_id\":\"A718387\",\"name\":\"*Jack Frost\",\"datetime\":\"2016-01-16T16:12:00.000\",\"monthyear\":\"2016-01-16T16:12:00.000\",\"date_of_birth\":\"2006-12-29T00:00:00.000\",\"outcome_type\":\"Adoption\",\"animal_type\":\"Dog\",\"sex_upon_outcome\":\"Neutered Male\",\"age_upon_outcome\":\"9 years\",\"breed\":\"American Eskimo Mix\",\"color\":\"Cream\"}\\n,{\"animal_id\":\"A837504\",\"datetime\":\"2021-06-27T14:11:00.000\",\"monthyear\":\"2021-06-27T14:11:00.000\",\"date_of_birth\":\"2021-05-14T00:00:00.000\",\"outcome_type\":\"Transfer\",\"outcome_subtype\":\"Partner\",\"animal_type\":\"Dog\",\"sex_upon_outcome\":\"Intact Female\",\"age_upon_outcome\":\"1 month\",\"breed\":\"Chihuahua Shorthair Mix\",\"color\":\"Black/Tricolor\"}\\n,{\"animal_id\":\"A737776\",\"datetime\":\"2016-11-08T18:16:00.000\",\"monthyear\":\"2016-11-08T18:16:00.000\",\"date_of_birth\":\"2016-01-04T00:00:00.000\",\"outcome_type\":\"Adoption\",\"animal_type\":\"Dog\",\"sex_upon_outcome\":\"Spayed Female\",\"age_upon_outcome\":\"10 months\",\"breed\":\"Yorkshire Terrier Mix\",\"color\":\"Black/Brown\"}\\n,{\"animal_id\":\"A767108\",\"name\":\"Dotty\",\"datetime\":\"2018-05-06T19:36:00.000\",\"monthyear\":\"2018-05-06T19:36:00.000\",\"date_of_birth\":\"2015-02-23T00:00:00.000\",\"outcome_type\":\"Adoption\",\"animal_type\":\"Dog\",\"sex_upon_outcome\":\"Spayed Female\",\"age_upon_outcome\":\"3 years\",\"breed\":\"Boston Terrier Mix\",\"color\":\"White/Blue\"}\\n,{\"animal_id\":\"A792484\",\"name\":\"Taros\",\"datetime\":\"2020-05-31T13:00:00.000\",\"monthyear\":\"2020-05-31T13:00:00.000\",\"date_of_birth\":\"2018-04-11T00:00:00.000\",\"outcome_type\":\"Adoption\",\"animal_type\":\"Dog\",\"sex_upon_outcome\":\"Neutered Male\",\"age_upon_outcome\":\"2 years\",\"breed\":\"German Shepherd Mix\",\"color\":\"Cream\"}\\n,{\"animal_id\":\"A731104\",\"name\":\"*Zakarin\",\"datetime\":\"2016-09-20T11:28:00.000\",\"monthyear\":\"2016-09-20T11:28:00.000\",\"date_of_birth\":\"2016-04-20T00:00:00.000\",\"outcome_type\":\"Adoption\",\"outcome_subtype\":\"Foster\",\"animal_type\":\"Cat\",\"sex_upon_outcome\":\"Neutered Male\",\"age_upon_outcome\":\"5 months\",\"breed\":\"Domestic Shorthair Mix\",\"color\":\"Orange Tabby\"}\\n,{\"animal_id\":\"A842306\",\"name\":\"*Lemondrop\",\"datetime\":\"2021-09-24T18:37:00.000\",\"monthyear\":\"2021-09-24T18:37:00.000\",\"date_of_birth\":\"2020-09-13T00:00:00.000\",\"outcome_type\":\"Adoption\",\"animal_type\":\"Dog\",\"sex_upon_outcome\":\"Spayed Female\",\"age_upon_outcome\":\"1 year\",\"breed\":\"Vizsla Mix\",\"color\":\"Red/White\"}\\n,{\"animal_id\":\"A784970\",\"name\":\"Ziggy\",\"datetime\":\"2019-03-16T11:31:00.000\",\"monthyear\":\"2019-03-16T11:31:00.000\",\"date_of_birth\":\"2018-05-24T00:00:00.000\",\"outcome_type\":\"Return to Owner\",\"animal_type\":\"Dog\",\"sex_upon_outcome\":\"Neutered Male\",\"age_upon_outcome\":\"9 months\",\"breed\":\"Pit Bull Mix\",\"color\":\"White/Black\"}\\n,{\"animal_id\":\"A771103\",\"datetime\":\"2018-06-23T17:45:00.000\",\"monthyear\":\"2018-06-23T17:45:00.000\",\"date_of_birth\":\"2018-03-16T00:00:00.000\",\"outcome_type\":\"Adoption\",\"outcome_subtype\":\"Foster\",\"animal_type\":\"Cat\",\"sex_upon_outcome\":\"Spayed Female\",\"age_upon_outcome\":\"3 months\",\"breed\":\"Domestic Shorthair Mix\",\"color\":\"Blue\"}\\n,{\"animal_id\":\"A777152\",\"datetime\":\"2018-07-24T00:00:00.000\",\"monthyear\":\"2018-07-24T00:00:00.000\",\"date_of_birth\":\"2018-07-20T00:00:00.000\",\"outcome_type\":\"Transfer\",\"outcome_subtype\":\"Partner\",\"animal_type\":\"Cat\",\"sex_upon_outcome\":\"Unknown\",\"age_upon_outcome\":\"4 days\",\"breed\":\"Domestic Shorthair Mix\",\"color\":\"Brown Tabby\"}\\n,{\"animal_id\":\"A845393\",\"name\":\"*Rex\",\"datetime\":\"2022-07-09T18:11:00.000\",\"monthyear\":\"2022-07-09T18:11:00.000\",\"date_of_birth\":\"2020-10-29T00:00:00.000\",\"outcome_type\":\"Adoption\",\"animal_type\":\"Dog\",\"sex_upon_outcome\":\"Neutered Male\",\"age_upon_outcome\":\"1 year\",\"breed\":\"Pit Bull\",\"color\":\"Black/White\"}\\n,{\"animal_id\":\"A687949\",\"name\":\"Apollo\",\"datetime\":\"2014-10-10T17:53:00.000\",\"monthyear\":\"2014-10-10T17:53:00.000\",\"date_of_birth\":\"2012-09-12T00:00:00.000\",\"outcome_type\":\"Adoption\",\"animal_type\":\"Dog\",\"sex_upon_outcome\":\"Neutered Male\",\"age_upon_outcome\":\"2 years\",\"breed\":\"Australian Kelpie Mix\",\"color\":\"Black/Tan\"}\\n,{\"animal_id\":\"A833864\",\"datetime\":\"2021-05-12T16:48:00.000\",\"monthyear\":\"2021-05-12T16:48:00.000\",\"date_of_birth\":\"2021-05-04T00:00:00.000\",\"outcome_type\":\"Euthanasia\",\"outcome_subtype\":\"Suffering\",\"animal_type\":\"Cat\",\"sex_upon_outcome\":\"Intact Male\",\"age_upon_outcome\":\"1 weeks\",\"breed\":\"Domestic Shorthair\",\"color\":\"Orange Tabby/White\"}\\n,{\"animal_id\":\"A706245\",\"datetime\":\"2015-06-26T17:12:00.000\",\"monthyear\":\"2015-06-26T17:12:00.000\",\"date_of_birth\":\"2015-06-11T00:00:00.000\",\"outcome_type\":\"Transfer\",\"outcome_subtype\":\"Partner\",\"animal_type\":\"Cat\",\"sex_upon_outcome\":\"Intact Female\",\"age_upon_outcome\":\"2 weeks\",\"breed\":\"Domestic Shorthair Mix\",\"color\":\"Tortie\"}\\n,{\"animal_id\":\"A713109\",\"datetime\":\"2015-10-04T09:22:00.000\",\"monthyear\":\"2015-10-04T09:22:00.000\",\"date_of_birth\":\"2013-10-02T00:00:00.000\",\"outcome_type\":\"Euthanasia\",\"outcome_subtype\":\"Rabies Risk\",\"animal_type\":\"Other\",\"sex_upon_outcome\":\"Unknown\",\"age_upon_outcome\":\"2 years\",\"breed\":\"Bat Mix\",\"color\":\"Brown\"}\\n,{\"animal_id\":\"A718705\",\"name\":\"*Thor\",\"datetime\":\"2016-01-12T19:00:00.000\",\"monthyear\":\"2016-01-12T19:00:00.000\",\"date_of_birth\":\"2014-01-05T00:00:00.000\",\"outcome_type\":\"Adoption\",\"animal_type\":\"Dog\",\"sex_upon_outcome\":\"Neutered Male\",\"age_upon_outcome\":\"2 years\",\"breed\":\"Siberian Husky Mix\",\"color\":\"Black/White\"}\\n,{\"animal_id\":\"A685791\",\"name\":\"Chispa\",\"datetime\":\"2014-08-13T18:41:00.000\",\"monthyear\":\"2014-08-13T18:41:00.000\",\"date_of_birth\":\"2013-02-12T00:00:00.000\",\"outcome_type\":\"Adoption\",\"animal_type\":\"Dog\",\"sex_upon_outcome\":\"Neutered Male\",\"age_upon_outcome\":\"1 year\",\"breed\":\"Catahoula Mix\",\"color\":\"White/Tan\"}\\n,{\"animal_id\":\"A803510\",\"name\":\"Rocky\",\"datetime\":\"2019-09-03T11:56:00.000\",\"monthyear\":\"2019-09-03T11:56:00.000\",\"date_of_birth\":\"2018-03-02T00:00:00.000\",\"outcome_type\":\"Transfer\",\"outcome_subtype\":\"Partner\",\"animal_type\":\"Dog\",\"sex_upon_outcome\":\"Intact Male\",\"age_upon_outcome\":\"1 year\",\"breed\":\"Yorkshire Terrier Mix\",\"color\":\"Black/Tan\"}\\n,{\"animal_id\":\"A732051\",\"name\":\"*Cinnamon\",\"datetime\":\"2016-08-08T15:12:00.000\",\"monthyear\":\"2016-08-08T15:12:00.000\",\"date_of_birth\":\"2016-06-24T00:00:00.000\",\"outcome_type\":\"Transfer\",\"outcome_subtype\":\"Partner\",\"animal_type\":\"Cat\",\"sex_upon_outcome\":\"Intact Female\",\"age_upon_outcome\":\"1 month\",\"breed\":\"Domestic Shorthair Mix\",\"color\":\"Torbie\"}\\n,{\"animal_id\":\"A743602\",\"name\":\"*Dodger\",\"datetime\":\"2017-02-14T14:46:00.000\",\"monthyear\":\"2017-02-14T14:46:00.000\",\"date_of_birth\":\"2016-05-01T00:00:00.000\",\"outcome_type\":\"Transfer\",\"outcome_subtype\":\"Partner\",\"animal_type\":\"Other\",\"sex_upon_outcome\":\"Intact Male\",\"age_upon_outcome\":\"9 months\",\"breed\":\"Guinea Pig Mix\",\"color\":\"Tricolor\"}\\n,{\"animal_id\":\"A744629\",\"name\":\"Hazel\",\"datetime\":\"2017-03-15T11:49:00.000\",\"monthyear\":\"2017-03-15T11:49:00.000\",\"date_of_birth\":\"2012-03-04T00:00:00.000\",\"outcome_type\":\"Adoption\",\"animal_type\":\"Cat\",\"sex_upon_outcome\":\"Spayed Female\",\"age_upon_outcome\":\"5 years\",\"breed\":\"Domestic Shorthair Mix\",\"color\":\"Blue/White\"}\\n,{\"animal_id\":\"A776224\",\"name\":\"Taylor\",\"datetime\":\"2018-07-12T19:02:00.000\",\"monthyear\":\"2018-07-12T19:02:00.000\",\"date_of_birth\":\"2011-09-26T00:00:00.000\",\"outcome_type\":\"Transfer\",\"outcome_subtype\":\"Partner\",\"animal_type\":\"Dog\",\"sex_upon_outcome\":\"Spayed Female\",\"age_upon_outcome\":\"6 years\",\"breed\":\"Shiba Inu Mix\",\"color\":\"Tan\"}\\n,{\"animal_id\":\"A788493\",\"datetime\":\"2019-02-07T13:12:00.000\",\"monthyear\":\"2019-02-07T13:12:00.000\",\"date_of_birth\":\"2018-04-03T00:00:00.000\",\"outcome_type\":\"Transfer\",\"outcome_subtype\":\"Partner\",\"animal_type\":\"Dog\",\"sex_upon_outcome\":\"Neutered Male\",\"age_upon_outcome\":\"10 months\",\"breed\":\"Standard Poodle/Labrador Retriever\",\"color\":\"Cream\"}\\n,{\"animal_id\":\"A754938\",\"name\":\"Ivory\",\"datetime\":\"2017-07-29T15:24:00.000\",\"monthyear\":\"2017-07-29T15:24:00.000\",\"date_of_birth\":\"2016-06-06T00:00:00.000\",\"outcome_type\":\"Return to Owner\",\"animal_type\":\"Dog\",\"sex_upon_outcome\":\"Intact Female\",\"age_upon_outcome\":\"1 year\",\"breed\":\"Australian Cattle Dog/German Shepherd\",\"color\":\"Black/Brown\"}\\n,{\"animal_id\":\"A839879\",\"name\":\"*Winnie\",\"datetime\":\"2021-09-09T11:55:00.000\",\"monthyear\":\"2021-09-09T11:55:00.000\",\"date_of_birth\":\"2020-08-05T00:00:00.000\",\"outcome_type\":\"Transfer\",\"outcome_subtype\":\"Out State\",\"animal_type\":\"Dog\",\"sex_upon_outcome\":\"Spayed Female\",\"age_upon_outcome\":\"1 year\",\"breed\":\"Labrador Retriever/Beagle\",\"color\":\"Black/White\"}\\n,{\"animal_id\":\"A719479\",\"name\":\"Snake Finder\",\"datetime\":\"2017-08-13T13:55:00.000\",\"monthyear\":\"2017-08-13T13:55:00.000\",\"date_of_birth\":\"2015-01-21T00:00:00.000\",\"outcome_type\":\"Return to Owner\",\"animal_type\":\"Dog\",\"sex_upon_outcome\":\"Neutered Male\",\"age_upon_outcome\":\"2 years\",\"breed\":\"Miniature Pinscher\",\"color\":\"Black/Tan\"}\\n,{\"animal_id\":\"A720562\",\"name\":\"*Joni\",\"datetime\":\"2016-02-21T12:39:00.000\",\"monthyear\":\"2016-02-21T12:39:00.000\",\"date_of_birth\":\"2012-02-11T00:00:00.000\",\"outcome_type\":\"Adoption\",\"animal_type\":\"Cat\",\"sex_upon_outcome\":\"Spayed Female\",\"age_upon_outcome\":\"4 years\",\"breed\":\"Domestic Shorthair Mix\",\"color\":\"Tortie\"}\\n,{\"animal_id\":\"A718919\",\"datetime\":\"2016-01-09T14:55:00.000\",\"monthyear\":\"2016-01-09T14:55:00.000\",\"date_of_birth\":\"2015-01-09T00:00:00.000\",\"outcome_type\":\"Transfer\",\"outcome_subtype\":\"Partner\",\"animal_type\":\"Other\",\"sex_upon_outcome\":\"Unknown\",\"age_upon_outcome\":\"1 year\",\"breed\":\"Rabbit Sh Mix\",\"color\":\"Black/White\"}\\n,{\"animal_id\":\"A766116\",\"name\":\"Max\",\"datetime\":\"2018-02-13T11:14:00.000\",\"monthyear\":\"2018-02-13T11:14:00.000\",\"date_of_birth\":\"2015-02-02T00:00:00.000\",\"outcome_type\":\"Return to Owner\",\"animal_type\":\"Dog\",\"sex_upon_outcome\":\"Neutered Male\",\"age_upon_outcome\":\"3 years\",\"breed\":\"Rottweiler/Staffordshire\",\"color\":\"Blue/Tan\"}\\n,{\"animal_id\":\"A875470\",\"name\":\"Bandy\",\"datetime\":\"2023-03-04T00:00:00.000\",\"monthyear\":\"2023-03-04T00:00:00.000\",\"date_of_birth\":\"2022-02-27T00:00:00.000\",\"outcome_type\":\"Adoption\",\"animal_type\":\"Dog\",\"sex_upon_outcome\":\"Spayed Female\",\"age_upon_outcome\":\"1 year\",\"breed\":\"Pit Bull/Border Collie\",\"color\":\"Black/White\"}\\n,{\"animal_id\":\"A667908\",\"datetime\":\"2013-11-25T11:56:00.000\",\"monthyear\":\"2013-11-25T11:56:00.000\",\"date_of_birth\":\"2013-02-24T00:00:00.000\",\"outcome_type\":\"Transfer\",\"outcome_subtype\":\"Partner\",\"animal_type\":\"Dog\",\"sex_upon_outcome\":\"Intact Female\",\"age_upon_outcome\":\"9 months\",\"breed\":\"Pit Bull Mix\",\"color\":\"White\"}\\n,{\"animal_id\":\"A721171\",\"name\":\"Louie\",\"datetime\":\"2016-02-25T15:51:00.000\",\"monthyear\":\"2016-02-25T15:51:00.000\",\"date_of_birth\":\"2015-12-07T00:00:00.000\",\"outcome_type\":\"Adoption\",\"animal_type\":\"Dog\",\"sex_upon_outcome\":\"Neutered Male\",\"age_upon_outcome\":\"2 months\",\"breed\":\"Dachshund Mix\",\"color\":\"Red/White\"}\\n,{\"animal_id\":\"A819694\",\"name\":\"Zoey\",\"datetime\":\"2020-07-12T13:42:00.000\",\"monthyear\":\"2020-07-12T13:42:00.000\",\"date_of_birth\":\"2020-03-12T00:00:00.000\",\"outcome_type\":\"Transfer\",\"outcome_subtype\":\"Partner\",\"animal_type\":\"Dog\",\"sex_upon_outcome\":\"Intact Female\",\"age_upon_outcome\":\"4 months\",\"breed\":\"Yorkshire Terrier Mix\",\"color\":\"Black/White\"}\\n,{\"animal_id\":\"A605223\",\"name\":\"*Coconut\",\"datetime\":\"2014-07-05T18:49:00.000\",\"monthyear\":\"2014-07-05T18:49:00.000\",\"date_of_birth\":\"2010-09-05T00:00:00.000\",\"outcome_type\":\"Adoption\",\"animal_type\":\"Dog\",\"sex_upon_outcome\":\"Spayed Female\",\"age_upon_outcome\":\"3 years\",\"breed\":\"Pit Bull Mix\",\"color\":\"Black/White\"}\\n,{\"animal_id\":\"A761895\",\"datetime\":\"2017-11-18T14:25:00.000\",\"monthyear\":\"2017-11-18T14:25:00.000\",\"date_of_birth\":\"2017-09-03T00:00:00.000\",\"outcome_type\":\"Adoption\",\"animal_type\":\"Cat\",\"sex_upon_outcome\":\"Neutered Male\",\"age_upon_outcome\":\"2 months\",\"breed\":\"Domestic Shorthair Mix\",\"color\":\"White/Brown Tabby\"}\\n,{\"animal_id\":\"A729037\",\"name\":\"Blanco\",\"datetime\":\"2016-07-01T18:44:00.000\",\"monthyear\":\"2016-07-01T18:44:00.000\",\"date_of_birth\":\"2016-04-12T00:00:00.000\",\"outcome_type\":\"Adoption\",\"animal_type\":\"Cat\",\"sex_upon_outcome\":\"Intact Male\",\"age_upon_outcome\":\"2 months\",\"breed\":\"Domestic Shorthair Mix\",\"color\":\"Orange Tabby\"}\\n,{\"animal_id\":\"A832174\",\"name\":\"Monster\",\"datetime\":\"2021-04-16T16:11:00.000\",\"monthyear\":\"2021-04-16T16:11:00.000\",\"date_of_birth\":\"2013-04-09T00:00:00.000\",\"outcome_type\":\"Adoption\",\"animal_type\":\"Dog\",\"sex_upon_outcome\":\"Spayed Female\",\"age_upon_outcome\":\"8 years\",\"breed\":\"Pit Bull\",\"color\":\"Blue\"}\\n,{\"animal_id\":\"A797068\",\"name\":\"Chumley\",\"datetime\":\"2019-06-15T17:25:00.000\",\"monthyear\":\"2019-06-15T17:25:00.000\",\"date_of_birth\":\"2017-06-08T00:00:00.000\",\"outcome_type\":\"Adoption\",\"animal_type\":\"Cat\",\"sex_upon_outcome\":\"Neutered Male\",\"age_upon_outcome\":\"2 years\",\"breed\":\"Domestic Shorthair Mix\",\"color\":\"Brown Tabby\"}\\n,{\"animal_id\":\"A731908\",\"name\":\"*Shorty\",\"datetime\":\"2016-09-04T17:33:00.000\",\"monthyear\":\"2016-09-04T17:33:00.000\",\"date_of_birth\":\"2015-07-29T00:00:00.000\",\"outcome_type\":\"Adoption\",\"animal_type\":\"Dog\",\"sex_upon_outcome\":\"Neutered Male\",\"age_upon_outcome\":\"1 year\",\"breed\":\"Staffordshire/Basset Hound\",\"color\":\"Brown Brindle/White\"}\\n,{\"animal_id\":\"A705501\",\"name\":\"Chato\",\"datetime\":\"2015-06-27T13:19:00.000\",\"monthyear\":\"2015-06-27T13:19:00.000\",\"date_of_birth\":\"2015-03-12T00:00:00.000\",\"outcome_type\":\"Return to Owner\",\"animal_type\":\"Dog\",\"sex_upon_outcome\":\"Intact Male\",\"age_upon_outcome\":\"3 months\",\"breed\":\"Boxer\",\"color\":\"Black Brindle/White\"}\\n,{\"animal_id\":\"A684628\",\"name\":\"*Cody\",\"datetime\":\"2014-08-01T18:05:00.000\",\"monthyear\":\"2014-08-01T18:05:00.000\",\"date_of_birth\":\"2013-07-26T00:00:00.000\",\"outcome_type\":\"Adoption\",\"animal_type\":\"Dog\",\"sex_upon_outcome\":\"Neutered Male\",\"age_upon_outcome\":\"1 year\",\"breed\":\"Akita Mix\",\"color\":\"Sable\"}\\n,{\"animal_id\":\"A788671\",\"name\":\"Lulu\",\"datetime\":\"2019-07-06T18:12:00.000\",\"monthyear\":\"2019-07-06T18:12:00.000\",\"date_of_birth\":\"2017-10-06T00:00:00.000\",\"outcome_type\":\"Adoption\",\"animal_type\":\"Dog\",\"sex_upon_outcome\":\"Spayed Female\",\"age_upon_outcome\":\"1 year\",\"breed\":\"German Shepherd Mix\",\"color\":\"Red\"}\\n,{\"animal_id\":\"A740771\",\"name\":\"*Edmund\",\"datetime\":\"2016-12-24T15:52:00.000\",\"monthyear\":\"2016-12-24T15:52:00.000\",\"date_of_birth\":\"2015-12-22T00:00:00.000\",\"outcome_type\":\"Return to Owner\",\"animal_type\":\"Dog\",\"sex_upon_outcome\":\"Neutered Male\",\"age_upon_outcome\":\"1 year\",\"breed\":\"Labrador Retriever Mix\",\"color\":\"Yellow\"}\\n,{\"animal_id\":\"A773488\",\"name\":\"*O\\'Malley\",\"datetime\":\"2018-07-25T06:31:00.000\",\"monthyear\":\"2018-07-25T06:31:00.000\",\"date_of_birth\":\"2018-04-29T00:00:00.000\",\"outcome_type\":\"Adoption\",\"outcome_subtype\":\"Foster\",\"animal_type\":\"Cat\",\"sex_upon_outcome\":\"Neutered Male\",\"age_upon_outcome\":\"2 months\",\"breed\":\"Domestic Shorthair Mix\",\"color\":\"Orange Tabby/White\"}\\n,{\"animal_id\":\"A692406\",\"name\":\"*Remington\",\"datetime\":\"2014-12-01T16:02:00.000\",\"monthyear\":\"2014-12-01T16:02:00.000\",\"date_of_birth\":\"2013-11-19T00:00:00.000\",\"outcome_type\":\"Adoption\",\"animal_type\":\"Dog\",\"sex_upon_outcome\":\"Neutered Male\",\"age_upon_outcome\":\"1 year\",\"breed\":\"Australian Shepherd/Australian Cattle Dog\",\"color\":\"Black/Yellow Brindle\"}\\n,{\"animal_id\":\"A874648\",\"name\":\"*Bertrum\",\"datetime\":\"2023-03-04T18:46:00.000\",\"monthyear\":\"2023-03-04T18:46:00.000\",\"date_of_birth\":\"2022-04-15T00:00:00.000\",\"outcome_type\":\"Adoption\",\"animal_type\":\"Dog\",\"sex_upon_outcome\":\"Neutered Male\",\"age_upon_outcome\":\"10 months\",\"breed\":\"German Shepherd Mix\",\"color\":\"Black/White\"}\\n,{\"animal_id\":\"A697608\",\"name\":\"Effie\",\"datetime\":\"2015-02-27T18:10:00.000\",\"monthyear\":\"2015-02-27T18:10:00.000\",\"date_of_birth\":\"2014-11-26T00:00:00.000\",\"outcome_type\":\"Adoption\",\"animal_type\":\"Cat\",\"sex_upon_outcome\":\"Intact Female\",\"age_upon_outcome\":\"3 months\",\"breed\":\"Domestic Shorthair Mix\",\"color\":\"Blue Tabby/White\"}\\n,{\"animal_id\":\"A753292\",\"name\":\"Chaco\",\"datetime\":\"2017-07-05T15:19:00.000\",\"monthyear\":\"2017-07-05T15:19:00.000\",\"date_of_birth\":\"2001-07-04T00:00:00.000\",\"outcome_type\":\"Adoption\",\"animal_type\":\"Cat\",\"sex_upon_outcome\":\"Neutered Male\",\"age_upon_outcome\":\"16 years\",\"breed\":\"Persian\",\"color\":\"White/Brown Tabby\"}\\n,{\"animal_id\":\"A732325\",\"name\":\"Tobi\",\"datetime\":\"2016-08-19T18:01:00.000\",\"monthyear\":\"2016-08-19T18:01:00.000\",\"date_of_birth\":\"2015-02-06T00:00:00.000\",\"outcome_type\":\"Return to Owner\",\"animal_type\":\"Dog\",\"sex_upon_outcome\":\"Spayed Female\",\"age_upon_outcome\":\"1 year\",\"breed\":\"Labrador Retriever/Pit Bull\",\"color\":\"Chocolate/Black\"}\\n,{\"animal_id\":\"A836935\",\"name\":\"Aries\",\"datetime\":\"2021-06-19T16:08:00.000\",\"monthyear\":\"2021-06-19T16:08:00.000\",\"date_of_birth\":\"2020-06-15T00:00:00.000\",\"outcome_type\":\"Return to Owner\",\"animal_type\":\"Dog\",\"sex_upon_outcome\":\"Intact Male\",\"age_upon_outcome\":\"1 year\",\"breed\":\"Siberian Husky Mix\",\"color\":\"Black/Tan\"}\\n,{\"animal_id\":\"A720727\",\"name\":\"Rooster 11\",\"datetime\":\"2016-03-08T13:47:00.000\",\"monthyear\":\"2016-03-08T13:47:00.000\",\"date_of_birth\":\"2015-02-14T00:00:00.000\",\"outcome_type\":\"Adoption\",\"animal_type\":\"Bird\",\"sex_upon_outcome\":\"Intact Male\",\"age_upon_outcome\":\"1 year\",\"breed\":\"Chicken Mix\",\"color\":\"Black/Red\"}\\n,{\"animal_id\":\"A753146\",\"name\":\"*Susan\",\"datetime\":\"2017-08-05T17:40:00.000\",\"monthyear\":\"2017-08-05T17:40:00.000\",\"date_of_birth\":\"2017-06-02T00:00:00.000\",\"outcome_type\":\"Adoption\",\"animal_type\":\"Cat\",\"sex_upon_outcome\":\"Spayed Female\",\"age_upon_outcome\":\"2 months\",\"breed\":\"Domestic Shorthair Mix\",\"color\":\"Brown Tabby\"}\\n,{\"animal_id\":\"A716395\",\"name\":\"*Jenny\",\"datetime\":\"2015-11-28T17:27:00.000\",\"monthyear\":\"2015-11-28T17:27:00.000\",\"date_of_birth\":\"2013-11-19T00:00:00.000\",\"outcome_type\":\"Transfer\",\"outcome_subtype\":\"Partner\",\"animal_type\":\"Dog\",\"sex_upon_outcome\":\"Intact Female\",\"age_upon_outcome\":\"2 years\",\"breed\":\"Pit Bull Mix\",\"color\":\"Fawn/White\"}\\n,{\"animal_id\":\"A664661\",\"name\":\"Lily\",\"datetime\":\"2013-10-13T17:04:00.000\",\"monthyear\":\"2013-10-13T17:04:00.000\",\"date_of_birth\":\"2013-08-07T00:00:00.000\",\"outcome_type\":\"Adoption\",\"animal_type\":\"Cat\",\"sex_upon_outcome\":\"Spayed Female\",\"age_upon_outcome\":\"2 months\",\"breed\":\"Domestic Shorthair Mix\",\"color\":\"Black/White\"}\\n,{\"animal_id\":\"A705337\",\"name\":\"Haylie\",\"datetime\":\"2017-08-15T12:43:00.000\",\"monthyear\":\"2017-08-15T12:43:00.000\",\"date_of_birth\":\"2013-06-16T00:00:00.000\",\"outcome_type\":\"Adoption\",\"outcome_subtype\":\"Foster\",\"animal_type\":\"Dog\",\"sex_upon_outcome\":\"Spayed Female\",\"age_upon_outcome\":\"4 years\",\"breed\":\"Pit Bull Mix\",\"color\":\"Tan/White\"}\\n,{\"animal_id\":\"A791446\",\"name\":\"Leopold\",\"datetime\":\"2019-03-31T13:58:00.000\",\"monthyear\":\"2019-03-31T13:58:00.000\",\"date_of_birth\":\"2016-03-28T00:00:00.000\",\"outcome_type\":\"Return to Owner\",\"animal_type\":\"Dog\",\"sex_upon_outcome\":\"Neutered Male\",\"age_upon_outcome\":\"3 years\",\"breed\":\"English Bulldog\",\"color\":\"White/Brown\"}\\n,{\"animal_id\":\"A738706\",\"datetime\":\"2016-11-20T09:00:00.000\",\"monthyear\":\"2016-11-20T09:00:00.000\",\"date_of_birth\":\"2014-11-19T00:00:00.000\",\"outcome_type\":\"Transfer\",\"outcome_subtype\":\"SCRP\",\"animal_type\":\"Cat\",\"sex_upon_outcome\":\"Intact Female\",\"age_upon_outcome\":\"2 years\",\"breed\":\"Domestic Shorthair Mix\",\"color\":\"Orange Tabby\"}\\n,{\"animal_id\":\"A728903\",\"name\":\"Izzy\",\"datetime\":\"2017-05-21T15:18:00.000\",\"monthyear\":\"2017-05-21T15:18:00.000\",\"date_of_birth\":\"2015-06-10T00:00:00.000\",\"outcome_type\":\"Adoption\",\"animal_type\":\"Dog\",\"sex_upon_outcome\":\"Spayed Female\",\"age_upon_outcome\":\"1 year\",\"breed\":\"American Bulldog Mix\",\"color\":\"Black/White\"}\\n,{\"animal_id\":\"A832041\",\"name\":\"Tiny\",\"datetime\":\"2021-04-17T12:33:00.000\",\"monthyear\":\"2021-04-17T12:33:00.000\",\"date_of_birth\":\"2019-04-06T00:00:00.000\",\"outcome_type\":\"Adoption\",\"outcome_subtype\":\"Offsite\",\"animal_type\":\"Dog\",\"sex_upon_outcome\":\"Spayed Female\",\"age_upon_outcome\":\"2 years\",\"breed\":\"Labrador Retriever Mix\",\"color\":\"Black\"}\\n,{\"animal_id\":\"A790939\",\"datetime\":\"2019-03-19T13:34:00.000\",\"monthyear\":\"2019-03-19T13:34:00.000\",\"date_of_birth\":\"2019-03-18T00:00:00.000\",\"outcome_type\":\"Transfer\",\"outcome_subtype\":\"Partner\",\"animal_type\":\"Cat\",\"sex_upon_outcome\":\"Unknown\",\"age_upon_outcome\":\"1 day\",\"breed\":\"Domestic Shorthair Mix\",\"color\":\"Black\"}\\n,{\"animal_id\":\"A790255\",\"name\":\"Pantera\",\"datetime\":\"2019-03-12T17:37:00.000\",\"monthyear\":\"2019-03-12T17:37:00.000\",\"date_of_birth\":\"2017-03-07T00:00:00.000\",\"outcome_type\":\"Rto-Adopt\",\"animal_type\":\"Dog\",\"sex_upon_outcome\":\"Spayed Female\",\"age_upon_outcome\":\"2 years\",\"breed\":\"Miniature Schnauzer Mix\",\"color\":\"Black\"}\\n,{\"animal_id\":\"A798379\",\"datetime\":\"2019-07-13T12:36:00.000\",\"monthyear\":\"2019-07-13T12:36:00.000\",\"date_of_birth\":\"2018-06-25T00:00:00.000\",\"outcome_type\":\"Transfer\",\"outcome_subtype\":\"Partner\",\"animal_type\":\"Dog\",\"sex_upon_outcome\":\"Intact Male\",\"age_upon_outcome\":\"1 year\",\"breed\":\"Chihuahua Shorthair/Rat Terrier\",\"color\":\"Tricolor\"}\\n,{\"animal_id\":\"A690186\",\"name\":\"Keylow\",\"datetime\":\"2015-10-08T17:06:00.000\",\"monthyear\":\"2015-10-08T17:06:00.000\",\"date_of_birth\":\"2014-02-15T00:00:00.000\",\"outcome_type\":\"Adoption\",\"animal_type\":\"Dog\",\"sex_upon_outcome\":\"Neutered Male\",\"age_upon_outcome\":\"1 year\",\"breed\":\"Miniature Poodle Mix\",\"color\":\"White\"}\\n,{\"animal_id\":\"A754460\",\"datetime\":\"2017-07-25T12:06:00.000\",\"monthyear\":\"2017-07-25T12:06:00.000\",\"date_of_birth\":\"2017-04-21T00:00:00.000\",\"outcome_type\":\"Transfer\",\"outcome_subtype\":\"Snr\",\"animal_type\":\"Cat\",\"sex_upon_outcome\":\"Intact Male\",\"age_upon_outcome\":\"3 months\",\"breed\":\"Domestic Shorthair Mix\",\"color\":\"Black\"}\\n,{\"animal_id\":\"A760255\",\"name\":\"Deuce\",\"datetime\":\"2017-10-23T15:38:00.000\",\"monthyear\":\"2017-10-23T15:38:00.000\",\"date_of_birth\":\"2016-10-15T00:00:00.000\",\"outcome_type\":\"Adoption\",\"animal_type\":\"Dog\",\"sex_upon_outcome\":\"Neutered Male\",\"age_upon_outcome\":\"1 year\",\"breed\":\"Black Mouth Cur Mix\",\"color\":\"Brown/Black\"}\\n,{\"animal_id\":\"A695222\",\"name\":\"Bochy\",\"datetime\":\"2015-01-15T18:19:00.000\",\"monthyear\":\"2015-01-15T18:19:00.000\",\"date_of_birth\":\"2013-01-11T00:00:00.000\",\"outcome_type\":\"Adoption\",\"animal_type\":\"Dog\",\"sex_upon_outcome\":\"Neutered Male\",\"age_upon_outcome\":\"2 years\",\"breed\":\"Flat Coat Retriever Mix\",\"color\":\"Black/White\"}\\n,{\"animal_id\":\"A842803\",\"name\":\"Charlie\",\"datetime\":\"2021-09-23T18:10:00.000\",\"monthyear\":\"2021-09-23T18:10:00.000\",\"date_of_birth\":\"2021-07-21T00:00:00.000\",\"outcome_type\":\"Adoption\",\"animal_type\":\"Dog\",\"sex_upon_outcome\":\"Neutered Male\",\"age_upon_outcome\":\"2 months\",\"breed\":\"Pit Bull\",\"color\":\"Tan\"}\\n,{\"animal_id\":\"A752298\",\"name\":\"Maddie\",\"datetime\":\"2017-08-15T14:13:00.000\",\"monthyear\":\"2017-08-15T14:13:00.000\",\"date_of_birth\":\"2009-06-20T00:00:00.000\",\"outcome_type\":\"Adoption\",\"animal_type\":\"Cat\",\"sex_upon_outcome\":\"Spayed Female\",\"age_upon_outcome\":\"8 years\",\"breed\":\"Domestic Medium Hair Mix\",\"color\":\"Torbie\"}\\n,{\"animal_id\":\"A664356\",\"name\":\"Azul\",\"datetime\":\"2013-10-03T16:37:00.000\",\"monthyear\":\"2013-10-03T16:37:00.000\",\"date_of_birth\":\"2013-03-03T00:00:00.000\",\"outcome_type\":\"Transfer\",\"outcome_subtype\":\"Partner\",\"animal_type\":\"Dog\",\"sex_upon_outcome\":\"Intact Male\",\"age_upon_outcome\":\"7 months\",\"breed\":\"Pit Bull Mix\",\"color\":\"Blue/White\"}\\n,{\"animal_id\":\"A817406\",\"name\":\"Janice\",\"datetime\":\"2020-05-27T12:06:00.000\",\"monthyear\":\"2020-05-27T12:06:00.000\",\"date_of_birth\":\"2016-05-15T00:00:00.000\",\"outcome_type\":\"Return to Owner\",\"animal_type\":\"Dog\",\"sex_upon_outcome\":\"Spayed Female\",\"age_upon_outcome\":\"4 years\",\"breed\":\"Labrador Retriever/Pit Bull\",\"color\":\"Tan/White\"}\\n,{\"animal_id\":\"A736221\",\"datetime\":\"2016-10-07T09:42:00.000\",\"monthyear\":\"2016-10-07T09:42:00.000\",\"date_of_birth\":\"2014-10-07T00:00:00.000\",\"outcome_type\":\"Euthanasia\",\"outcome_subtype\":\"Suffering\",\"animal_type\":\"Cat\",\"sex_upon_outcome\":\"Unknown\",\"age_upon_outcome\":\"2 years\",\"breed\":\"Domestic Shorthair Mix\",\"color\":\"Black\"}\\n,{\"animal_id\":\"A702402\",\"name\":\"*Tic\",\"datetime\":\"2015-07-08T08:55:00.000\",\"monthyear\":\"2015-07-08T08:55:00.000\",\"date_of_birth\":\"2015-04-06T00:00:00.000\",\"outcome_type\":\"Adoption\",\"outcome_subtype\":\"Foster\",\"animal_type\":\"Cat\",\"sex_upon_outcome\":\"Neutered Male\",\"age_upon_outcome\":\"3 months\",\"breed\":\"Domestic Shorthair Mix\",\"color\":\"Orange Tabby/White\"}\\n,{\"animal_id\":\"A789594\",\"name\":\"Morena\",\"datetime\":\"2019-02-26T19:33:00.000\",\"monthyear\":\"2019-02-26T19:33:00.000\",\"date_of_birth\":\"2015-02-24T00:00:00.000\",\"outcome_type\":\"Adoption\",\"animal_type\":\"Dog\",\"sex_upon_outcome\":\"Spayed Female\",\"age_upon_outcome\":\"4 years\",\"breed\":\"Chihuahua Longhair Mix\",\"color\":\"Brown/Black\"}\\n,{\"animal_id\":\"A711356\",\"name\":\"J.D.\",\"datetime\":\"2015-09-11T13:50:00.000\",\"monthyear\":\"2015-09-11T13:50:00.000\",\"date_of_birth\":\"2009-09-05T00:00:00.000\",\"outcome_type\":\"Transfer\",\"outcome_subtype\":\"Partner\",\"animal_type\":\"Dog\",\"sex_upon_outcome\":\"Neutered Male\",\"age_upon_outcome\":\"6 years\",\"breed\":\"Labrador Retriever Mix\",\"color\":\"Chocolate\"}\\n,{\"animal_id\":\"A729769\",\"name\":\"*Gracie\",\"datetime\":\"2016-07-03T13:52:00.000\",\"monthyear\":\"2016-07-03T13:52:00.000\",\"date_of_birth\":\"2015-06-23T00:00:00.000\",\"outcome_type\":\"Adoption\",\"animal_type\":\"Cat\",\"sex_upon_outcome\":\"Spayed Female\",\"age_upon_outcome\":\"1 year\",\"breed\":\"Domestic Medium Hair Mix\",\"color\":\"Calico\"}\\n,{\"animal_id\":\"A875530\",\"name\":\"Keke Jo\\'\",\"datetime\":\"2023-03-04T18:49:00.000\",\"monthyear\":\"2023-03-04T18:49:00.000\",\"date_of_birth\":\"2019-10-24T00:00:00.000\",\"outcome_type\":\"Transfer\",\"outcome_subtype\":\"Partner\",\"animal_type\":\"Dog\",\"sex_upon_outcome\":\"Intact Female\",\"age_upon_outcome\":\"3 years\",\"breed\":\"Pit Bull\",\"color\":\"Black/White\"}\\n,{\"animal_id\":\"A671609\",\"name\":\"Wilson\",\"datetime\":\"2015-07-02T11:04:00.000\",\"monthyear\":\"2015-07-02T11:04:00.000\",\"date_of_birth\":\"2013-01-28T00:00:00.000\",\"outcome_type\":\"Transfer\",\"outcome_subtype\":\"Partner\",\"animal_type\":\"Dog\",\"sex_upon_outcome\":\"Neutered Male\",\"age_upon_outcome\":\"2 years\",\"breed\":\"Labrador Retriever\",\"color\":\"Tan/White\"}\\n,{\"animal_id\":\"A671789\",\"name\":\"Sam\",\"datetime\":\"2014-02-03T16:48:00.000\",\"monthyear\":\"2014-02-03T16:48:00.000\",\"date_of_birth\":\"2012-01-30T00:00:00.000\",\"outcome_type\":\"Adoption\",\"animal_type\":\"Dog\",\"sex_upon_outcome\":\"Intact Male\",\"age_upon_outcome\":\"2 years\",\"breed\":\"Miniature Poodle/Miniature Schnauzer\",\"color\":\"Buff\"}\\n,{\"animal_id\":\"A730774\",\"name\":\"*Noodles\",\"datetime\":\"2016-07-16T19:03:00.000\",\"monthyear\":\"2016-07-16T19:03:00.000\",\"date_of_birth\":\"2016-01-10T00:00:00.000\",\"outcome_type\":\"Adoption\",\"animal_type\":\"Dog\",\"sex_upon_outcome\":\"Neutered Male\",\"age_upon_outcome\":\"6 months\",\"breed\":\"Jack Russell Terrier Mix\",\"color\":\"Black\"}\\n,{\"animal_id\":\"A748210\",\"datetime\":\"2017-05-04T12:47:00.000\",\"monthyear\":\"2017-05-04T12:47:00.000\",\"date_of_birth\":\"2016-04-30T00:00:00.000\",\"outcome_type\":\"Rto-Adopt\",\"animal_type\":\"Dog\",\"sex_upon_outcome\":\"Spayed Female\",\"age_upon_outcome\":\"1 year\",\"breed\":\"Chihuahua Shorthair Mix\",\"color\":\"Tricolor\"}\\n,{\"animal_id\":\"A825041\",\"datetime\":\"2020-10-27T09:48:00.000\",\"monthyear\":\"2020-10-27T09:48:00.000\",\"date_of_birth\":\"2019-10-26T00:00:00.000\",\"outcome_type\":\"Disposal\",\"animal_type\":\"Other\",\"sex_upon_outcome\":\"Unknown\",\"age_upon_outcome\":\"1 year\",\"breed\":\"Bat\",\"color\":\"Brown\"}\\n,{\"animal_id\":\"A566568\",\"name\":\"Duck\",\"datetime\":\"2019-02-23T11:33:00.000\",\"monthyear\":\"2019-02-23T11:33:00.000\",\"date_of_birth\":\"2009-02-12T00:00:00.000\",\"outcome_type\":\"Adoption\",\"animal_type\":\"Dog\",\"sex_upon_outcome\":\"Neutered Male\",\"age_upon_outcome\":\"10 years\",\"breed\":\"Harrier Mix\",\"color\":\"Brown/Black\"}\\n,{\"animal_id\":\"A767611\",\"name\":\"Queen\",\"datetime\":\"2018-03-17T13:16:00.000\",\"monthyear\":\"2018-03-17T13:16:00.000\",\"date_of_birth\":\"2016-09-04T00:00:00.000\",\"outcome_type\":\"Return to Owner\",\"animal_type\":\"Dog\",\"sex_upon_outcome\":\"Spayed Female\",\"age_upon_outcome\":\"1 year\",\"breed\":\"Pit Bull Mix\",\"color\":\"Blue/Brown Brindle\"}\\n,{\"animal_id\":\"A711270\",\"datetime\":\"2015-10-22T09:00:00.000\",\"monthyear\":\"2015-10-22T09:00:00.000\",\"date_of_birth\":\"2014-09-04T00:00:00.000\",\"outcome_type\":\"Transfer\",\"outcome_subtype\":\"SCRP\",\"animal_type\":\"Cat\",\"sex_upon_outcome\":\"Spayed Female\",\"age_upon_outcome\":\"1 year\",\"breed\":\"Domestic Medium Hair Mix\",\"color\":\"Brown Tabby/White\"}\\n,{\"animal_id\":\"A669647\",\"name\":\"Theodore\",\"datetime\":\"2014-01-03T14:36:00.000\",\"monthyear\":\"2014-01-03T14:36:00.000\",\"date_of_birth\":\"2012-12-24T00:00:00.000\",\"outcome_type\":\"Return to Owner\",\"animal_type\":\"Dog\",\"sex_upon_outcome\":\"Intact Male\",\"age_upon_outcome\":\"1 year\",\"breed\":\"Australian Cattle Dog/Labrador Retriever\",\"color\":\"Tan/White\"}\\n,{\"animal_id\":\"A827274\",\"name\":\"*Fizzle\",\"datetime\":\"2020-12-30T15:24:00.000\",\"monthyear\":\"2020-12-30T15:24:00.000\",\"date_of_birth\":\"2020-09-02T00:00:00.000\",\"outcome_type\":\"Transfer\",\"outcome_subtype\":\"Partner\",\"animal_type\":\"Cat\",\"sex_upon_outcome\":\"Spayed Female\",\"age_upon_outcome\":\"3 months\",\"breed\":\"Domestic Shorthair Mix\",\"color\":\"Blue Tabby\"}\\n,{\"animal_id\":\"A799811\",\"name\":\"Angel\",\"datetime\":\"2019-10-22T08:21:00.000\",\"monthyear\":\"2019-10-22T08:21:00.000\",\"date_of_birth\":\"2012-07-12T00:00:00.000\",\"outcome_type\":\"Adoption\",\"outcome_subtype\":\"Foster\",\"animal_type\":\"Dog\",\"sex_upon_outcome\":\"Spayed Female\",\"age_upon_outcome\":\"7 years\",\"breed\":\"Chihuahua Shorthair\",\"color\":\"Cream\"}\\n,{\"animal_id\":\"A725432\",\"name\":\"Clark\",\"datetime\":\"2017-09-06T17:08:00.000\",\"monthyear\":\"2017-09-06T17:08:00.000\",\"date_of_birth\":\"2011-04-29T00:00:00.000\",\"outcome_type\":\"Return to Owner\",\"animal_type\":\"Dog\",\"sex_upon_outcome\":\"Neutered Male\",\"age_upon_outcome\":\"6 years\",\"breed\":\"Staffordshire/Boxer\",\"color\":\"Black/White\"}\\n,{\"animal_id\":\"A712266\",\"datetime\":\"2015-09-20T07:57:00.000\",\"monthyear\":\"2015-09-20T07:57:00.000\",\"date_of_birth\":\"2015-08-20T00:00:00.000\",\"outcome_type\":\"Died\",\"outcome_subtype\":\"In Kennel\",\"animal_type\":\"Other\",\"sex_upon_outcome\":\"Unknown\",\"age_upon_outcome\":\"4 weeks\",\"breed\":\"Bat\",\"color\":\"Brown/Black\"}\\n,{\"animal_id\":\"A687011\",\"name\":\"Gigi\",\"datetime\":\"2014-09-04T17:58:00.000\",\"monthyear\":\"2014-09-04T17:58:00.000\",\"date_of_birth\":\"2013-12-30T00:00:00.000\",\"outcome_type\":\"Adoption\",\"animal_type\":\"Dog\",\"sex_upon_outcome\":\"Spayed Female\",\"age_upon_outcome\":\"8 months\",\"breed\":\"Boston Terrier Mix\",\"color\":\"Black/White\"}\\n,{\"animal_id\":\"A826220\",\"datetime\":\"2020-11-22T15:20:00.000\",\"monthyear\":\"2020-11-22T15:20:00.000\",\"date_of_birth\":\"2020-10-29T00:00:00.000\",\"outcome_type\":\"Transfer\",\"outcome_subtype\":\"Partner\",\"animal_type\":\"Cat\",\"sex_upon_outcome\":\"Intact Female\",\"age_upon_outcome\":\"3 weeks\",\"breed\":\"Domestic Shorthair\",\"color\":\"Brown Tabby\"}\\n,{\"animal_id\":\"A742748\",\"name\":\"Elsie\",\"datetime\":\"2018-06-23T20:45:00.000\",\"monthyear\":\"2018-06-23T20:45:00.000\",\"date_of_birth\":\"2007-01-27T00:00:00.000\",\"outcome_type\":\"Adoption\",\"outcome_subtype\":\"Foster\",\"animal_type\":\"Cat\",\"sex_upon_outcome\":\"Spayed Female\",\"age_upon_outcome\":\"11 years\",\"breed\":\"Domestic Shorthair Mix\",\"color\":\"White/Black\"}\\n,{\"animal_id\":\"A671765\",\"name\":\"Negra\",\"datetime\":\"2014-07-06T15:58:00.000\",\"monthyear\":\"2014-07-06T15:58:00.000\",\"date_of_birth\":\"2013-01-30T00:00:00.000\",\"outcome_type\":\"Return to Owner\",\"animal_type\":\"Dog\",\"sex_upon_outcome\":\"Spayed Female\",\"age_upon_outcome\":\"1 year\",\"breed\":\"Dachshund Wirehair Mix\",\"color\":\"Black/White\"}\\n,{\"animal_id\":\"A774643\",\"name\":\"Molly\",\"datetime\":\"2018-06-22T12:27:00.000\",\"monthyear\":\"2018-06-22T12:27:00.000\",\"date_of_birth\":\"2018-02-03T00:00:00.000\",\"outcome_type\":\"Transfer\",\"outcome_subtype\":\"Partner\",\"animal_type\":\"Dog\",\"sex_upon_outcome\":\"Intact Female\",\"age_upon_outcome\":\"4 months\",\"breed\":\"Miniature Schnauzer Mix\",\"color\":\"Brown\"}\\n,{\"animal_id\":\"A718679\",\"name\":\"Sam\",\"datetime\":\"2016-01-24T18:03:00.000\",\"monthyear\":\"2016-01-24T18:03:00.000\",\"date_of_birth\":\"2015-01-04T00:00:00.000\",\"outcome_type\":\"Adoption\",\"animal_type\":\"Dog\",\"sex_upon_outcome\":\"Neutered Male\",\"age_upon_outcome\":\"1 year\",\"breed\":\"American Foxhound Mix\",\"color\":\"White/Black\"}\\n,{\"animal_id\":\"A746806\",\"name\":\"*Palmer\",\"datetime\":\"2017-04-13T17:12:00.000\",\"monthyear\":\"2017-04-13T17:12:00.000\",\"date_of_birth\":\"2016-04-09T00:00:00.000\",\"outcome_type\":\"Adoption\",\"animal_type\":\"Dog\",\"sex_upon_outcome\":\"Neutered Male\",\"age_upon_outcome\":\"1 year\",\"breed\":\"Anatol Shepherd\",\"color\":\"Tan\"}\\n,{\"animal_id\":\"A874228\",\"name\":\"Maxine\",\"datetime\":\"2023-03-04T19:14:00.000\",\"monthyear\":\"2023-03-04T19:14:00.000\",\"date_of_birth\":\"2017-02-08T00:00:00.000\",\"outcome_type\":\"Adoption\",\"animal_type\":\"Dog\",\"sex_upon_outcome\":\"Spayed Female\",\"age_upon_outcome\":\"6 years\",\"breed\":\"Border Collie Mix\",\"color\":\"Black/Blue Tick\"}\\n,{\"animal_id\":\"A793783\",\"name\":\"Spinner\",\"datetime\":\"2019-07-13T14:54:00.000\",\"monthyear\":\"2019-07-13T14:54:00.000\",\"date_of_birth\":\"2019-04-20T00:00:00.000\",\"outcome_type\":\"Adoption\",\"outcome_subtype\":\"Foster\",\"animal_type\":\"Cat\",\"sex_upon_outcome\":\"Spayed Female\",\"age_upon_outcome\":\"2 months\",\"breed\":\"Domestic Shorthair Mix\",\"color\":\"Orange Tabby\"}\\n,{\"animal_id\":\"A810108\",\"datetime\":\"2019-12-09T17:29:00.000\",\"monthyear\":\"2019-12-09T17:29:00.000\",\"date_of_birth\":\"2019-09-23T00:00:00.000\",\"outcome_type\":\"Adoption\",\"animal_type\":\"Dog\",\"sex_upon_outcome\":\"Spayed Female\",\"age_upon_outcome\":\"2 months\",\"breed\":\"Labrador Retriever\",\"color\":\"Tricolor\"}\\n,{\"animal_id\":\"A845340\",\"name\":\"Koda\",\"datetime\":\"2023-03-04T19:04:00.000\",\"monthyear\":\"2023-03-04T19:04:00.000\",\"date_of_birth\":\"2020-10-28T00:00:00.000\",\"outcome_type\":\"Adoption\",\"animal_type\":\"Dog\",\"sex_upon_outcome\":\"Neutered Male\",\"age_upon_outcome\":\"2 years\",\"breed\":\"Siberian Husky\",\"color\":\"Gray/White\"}\\n,{\"animal_id\":\"A692379\",\"name\":\"Maunster\",\"datetime\":\"2014-12-20T17:23:00.000\",\"monthyear\":\"2014-12-20T17:23:00.000\",\"date_of_birth\":\"2014-10-19T00:00:00.000\",\"outcome_type\":\"Adoption\",\"outcome_subtype\":\"Foster\",\"animal_type\":\"Dog\",\"sex_upon_outcome\":\"Neutered Male\",\"age_upon_outcome\":\"2 months\",\"breed\":\"German Shepherd/Labrador Retriever\",\"color\":\"Tan\"}\\n,{\"animal_id\":\"A799586\",\"datetime\":\"2019-07-14T17:27:00.000\",\"monthyear\":\"2019-07-14T17:27:00.000\",\"date_of_birth\":\"2017-07-10T00:00:00.000\",\"outcome_type\":\"Transfer\",\"outcome_subtype\":\"Snr\",\"animal_type\":\"Cat\",\"sex_upon_outcome\":\"Unknown\",\"age_upon_outcome\":\"2 years\",\"breed\":\"Domestic Shorthair\",\"color\":\"Cream Tabby/White\"}\\n,{\"animal_id\":\"A779909\",\"datetime\":\"2018-09-11T18:06:00.000\",\"monthyear\":\"2018-09-11T18:06:00.000\",\"date_of_birth\":\"2016-09-06T00:00:00.000\",\"outcome_type\":\"Transfer\",\"outcome_subtype\":\"Snr\",\"animal_type\":\"Cat\",\"sex_upon_outcome\":\"Intact Female\",\"age_upon_outcome\":\"2 years\",\"breed\":\"Domestic Shorthair Mix\",\"color\":\"Tortie\"}\\n,{\"animal_id\":\"A706720\",\"name\":\"Nikko\",\"datetime\":\"2015-07-24T17:19:00.000\",\"monthyear\":\"2015-07-24T17:19:00.000\",\"date_of_birth\":\"2011-07-02T00:00:00.000\",\"outcome_type\":\"Adoption\",\"animal_type\":\"Dog\",\"sex_upon_outcome\":\"Neutered Male\",\"age_upon_outcome\":\"4 years\",\"breed\":\"Miniature Schnauzer Mix\",\"color\":\"Tan/Gray\"}\\n,{\"animal_id\":\"A823496\",\"name\":\"*Rigatoni\",\"datetime\":\"2020-11-03T09:15:00.000\",\"monthyear\":\"2020-11-03T09:15:00.000\",\"date_of_birth\":\"2020-08-17T00:00:00.000\",\"outcome_type\":\"Adoption\",\"outcome_subtype\":\"Foster\",\"animal_type\":\"Cat\",\"sex_upon_outcome\":\"Neutered Male\",\"age_upon_outcome\":\"2 months\",\"breed\":\"Domestic Medium Hair\",\"color\":\"Black/White\"}\\n,{\"animal_id\":\"A678591\",\"name\":\"Parker\",\"datetime\":\"2014-05-14T19:06:00.000\",\"monthyear\":\"2014-05-14T19:06:00.000\",\"date_of_birth\":\"2014-03-02T00:00:00.000\",\"outcome_type\":\"Adoption\",\"animal_type\":\"Dog\",\"sex_upon_outcome\":\"Spayed Female\",\"age_upon_outcome\":\"2 months\",\"breed\":\"Cardigan Welsh Corgi Mix\",\"color\":\"Tricolor\"}\\n,{\"animal_id\":\"A735888\",\"name\":\"Coco\",\"datetime\":\"2016-10-01T17:26:00.000\",\"monthyear\":\"2016-10-01T17:26:00.000\",\"date_of_birth\":\"2014-10-01T00:00:00.000\",\"outcome_type\":\"Return to Owner\",\"animal_type\":\"Dog\",\"sex_upon_outcome\":\"Intact Female\",\"age_upon_outcome\":\"2 years\",\"breed\":\"Chihuahua Shorthair Mix\",\"color\":\"Black/Brown\"}\\n,{\"animal_id\":\"A669875\",\"name\":\"Daisy\",\"datetime\":\"2013-12-30T14:06:00.000\",\"monthyear\":\"2013-12-30T14:06:00.000\",\"date_of_birth\":\"2008-12-29T00:00:00.000\",\"outcome_type\":\"Return to Owner\",\"animal_type\":\"Dog\",\"sex_upon_outcome\":\"Spayed Female\",\"age_upon_outcome\":\"5 years\",\"breed\":\"Lhasa Apso Mix\",\"color\":\"Black\"}\\n,{\"animal_id\":\"A873553\",\"name\":\"Bane\",\"datetime\":\"2023-03-04T19:11:00.000\",\"monthyear\":\"2023-03-04T19:11:00.000\",\"date_of_birth\":\"2015-02-27T00:00:00.000\",\"outcome_type\":\"Adoption\",\"animal_type\":\"Dog\",\"sex_upon_outcome\":\"Neutered Male\",\"age_upon_outcome\":\"8 years\",\"breed\":\"Pit Bull\",\"color\":\"Blue\"}\\n,{\"animal_id\":\"A820871\",\"datetime\":\"2020-07-31T11:36:00.000\",\"monthyear\":\"2020-07-31T11:36:00.000\",\"date_of_birth\":\"2020-05-31T00:00:00.000\",\"outcome_type\":\"Transfer\",\"outcome_subtype\":\"Partner\",\"animal_type\":\"Cat\",\"sex_upon_outcome\":\"Intact Female\",\"age_upon_outcome\":\"1 month\",\"breed\":\"Domestic Shorthair\",\"color\":\"Brown Tabby\"}\\n,{\"animal_id\":\"A803732\",\"name\":\"*Ginny\",\"datetime\":\"2019-09-14T12:03:00.000\",\"monthyear\":\"2019-09-14T12:03:00.000\",\"date_of_birth\":\"2019-05-11T00:00:00.000\",\"outcome_type\":\"Adoption\",\"animal_type\":\"Dog\",\"sex_upon_outcome\":\"Spayed Female\",\"age_upon_outcome\":\"4 months\",\"breed\":\"Boxer\",\"color\":\"Brown/White\"}\\n,{\"animal_id\":\"A698165\",\"datetime\":\"2015-03-07T09:45:00.000\",\"monthyear\":\"2015-03-07T09:45:00.000\",\"date_of_birth\":\"2015-02-06T00:00:00.000\",\"outcome_type\":\"Died\",\"animal_type\":\"Other\",\"sex_upon_outcome\":\"Unknown\",\"age_upon_outcome\":\"4 weeks\",\"breed\":\"Bat\",\"color\":\"Brown/Black\"}\\n,{\"animal_id\":\"A635766\",\"name\":\"Shadow\",\"datetime\":\"2014-01-07T11:19:00.000\",\"monthyear\":\"2014-01-07T11:19:00.000\",\"date_of_birth\":\"2012-06-27T00:00:00.000\",\"outcome_type\":\"Return to Owner\",\"animal_type\":\"Dog\",\"sex_upon_outcome\":\"Neutered Male\",\"age_upon_outcome\":\"1 year\",\"breed\":\"Pit Bull/Boxer\",\"color\":\"Chocolate/White\"}\\n,{\"animal_id\":\"A772493\",\"name\":\"Molly\",\"datetime\":\"2018-05-21T19:18:00.000\",\"monthyear\":\"2018-05-21T19:18:00.000\",\"date_of_birth\":\"2016-05-20T00:00:00.000\",\"outcome_type\":\"Return to Owner\",\"animal_type\":\"Dog\",\"sex_upon_outcome\":\"Spayed Female\",\"age_upon_outcome\":\"2 years\",\"breed\":\"German Shepherd Mix\",\"color\":\"Tan/Black\"}\\n,{\"animal_id\":\"A736505\",\"name\":\"Tommy\",\"datetime\":\"2016-11-20T17:44:00.000\",\"monthyear\":\"2016-11-20T17:44:00.000\",\"date_of_birth\":\"2016-09-19T00:00:00.000\",\"outcome_type\":\"Adoption\",\"outcome_subtype\":\"Foster\",\"animal_type\":\"Cat\",\"sex_upon_outcome\":\"Neutered Male\",\"age_upon_outcome\":\"2 months\",\"breed\":\"Domestic Shorthair Mix\",\"color\":\"Brown Tabby\"}\\n,{\"animal_id\":\"A819006\",\"name\":\"Little Girl\",\"datetime\":\"2020-08-11T17:05:00.000\",\"monthyear\":\"2020-08-11T17:05:00.000\",\"date_of_birth\":\"2018-03-19T00:00:00.000\",\"outcome_type\":\"Adoption\",\"animal_type\":\"Cat\",\"sex_upon_outcome\":\"Spayed Female\",\"age_upon_outcome\":\"2 years\",\"breed\":\"Domestic Longhair\",\"color\":\"White\"}\\n,{\"animal_id\":\"A754796\",\"name\":\"*Guppy\",\"datetime\":\"2017-09-30T09:51:00.000\",\"monthyear\":\"2017-09-30T09:51:00.000\",\"date_of_birth\":\"2017-06-30T00:00:00.000\",\"outcome_type\":\"Adoption\",\"outcome_subtype\":\"Foster\",\"animal_type\":\"Cat\",\"sex_upon_outcome\":\"Spayed Female\",\"age_upon_outcome\":\"3 months\",\"breed\":\"Domestic Shorthair Mix\",\"color\":\"Brown Tabby/White\"}\\n,{\"animal_id\":\"A717893\",\"name\":\"Rasgo\",\"datetime\":\"2015-12-18T18:13:00.000\",\"monthyear\":\"2015-12-18T18:13:00.000\",\"date_of_birth\":\"2015-08-18T00:00:00.000\",\"outcome_type\":\"Adoption\",\"animal_type\":\"Dog\",\"sex_upon_outcome\":\"Neutered Male\",\"age_upon_outcome\":\"4 months\",\"breed\":\"Havanese Mix\",\"color\":\"Apricot\"}\\n,{\"animal_id\":\"A810461\",\"name\":\"Chance\",\"datetime\":\"2019-12-23T18:25:00.000\",\"monthyear\":\"2019-12-23T18:25:00.000\",\"date_of_birth\":\"2017-12-14T00:00:00.000\",\"outcome_type\":\"Adoption\",\"animal_type\":\"Dog\",\"sex_upon_outcome\":\"Neutered Male\",\"age_upon_outcome\":\"2 years\",\"breed\":\"Pit Bull\",\"color\":\"Black\"}\\n,{\"animal_id\":\"A714226\",\"name\":\"Lars\",\"datetime\":\"2015-10-26T00:00:00.000\",\"monthyear\":\"2015-10-26T00:00:00.000\",\"date_of_birth\":\"2008-10-24T00:00:00.000\",\"outcome_type\":\"Transfer\",\"outcome_subtype\":\"Partner\",\"animal_type\":\"Dog\",\"sex_upon_outcome\":\"Intact Male\",\"age_upon_outcome\":\"7 years\",\"breed\":\"Yorkshire Terrier Mix\",\"color\":\"Black/Brown\"}\\n,{\"animal_id\":\"A875584\",\"datetime\":\"2023-03-05T09:36:00.000\",\"monthyear\":\"2023-03-05T09:36:00.000\",\"date_of_birth\":\"2021-03-01T00:00:00.000\",\"outcome_type\":\"Euthanasia\",\"outcome_subtype\":\"Rabies Risk\",\"animal_type\":\"Other\",\"sex_upon_outcome\":\"Unknown\",\"age_upon_outcome\":\"2 years\",\"breed\":\"Bat\",\"color\":\"Brown\"}\\n,{\"animal_id\":\"A787336\",\"name\":\"*Genevieve\",\"datetime\":\"2019-03-25T18:19:00.000\",\"monthyear\":\"2019-03-25T18:19:00.000\",\"date_of_birth\":\"2017-01-11T00:00:00.000\",\"outcome_type\":\"Adoption\",\"outcome_subtype\":\"Foster\",\"animal_type\":\"Dog\",\"sex_upon_outcome\":\"Spayed Female\",\"age_upon_outcome\":\"2 years\",\"breed\":\"Pit Bull Mix\",\"color\":\"Blue/White\"}\\n,{\"animal_id\":\"A688756\",\"datetime\":\"2014-09-27T17:08:00.000\",\"monthyear\":\"2014-09-27T17:08:00.000\",\"date_of_birth\":\"2014-07-08T00:00:00.000\",\"outcome_type\":\"Adoption\",\"animal_type\":\"Cat\",\"sex_upon_outcome\":\"Neutered Male\",\"age_upon_outcome\":\"2 months\",\"breed\":\"Domestic Shorthair Mix\",\"color\":\"White/Blue Tabby\"}\\n,{\"animal_id\":\"A875577\",\"datetime\":\"2023-03-01T17:41:00.000\",\"monthyear\":\"2023-03-01T17:41:00.000\",\"date_of_birth\":\"2021-03-01T00:00:00.000\",\"outcome_type\":\"Transfer\",\"outcome_subtype\":\"Partner\",\"animal_type\":\"Dog\",\"sex_upon_outcome\":\"Intact Male\",\"age_upon_outcome\":\"2 years\",\"breed\":\"Pit Bull\",\"color\":\"Black/White\"}\\n,{\"animal_id\":\"A816306\",\"name\":\"*Jelly Bean\",\"datetime\":\"2020-06-17T13:23:00.000\",\"monthyear\":\"2020-06-17T13:23:00.000\",\"date_of_birth\":\"2020-04-12T00:00:00.000\",\"outcome_type\":\"Adoption\",\"outcome_subtype\":\"Foster\",\"animal_type\":\"Cat\",\"sex_upon_outcome\":\"Neutered Male\",\"age_upon_outcome\":\"2 months\",\"breed\":\"Domestic Shorthair\",\"color\":\"Black\"}\\n,{\"animal_id\":\"A787658\",\"name\":\"*Fergus\",\"datetime\":\"2019-03-11T00:00:00.000\",\"monthyear\":\"2019-03-11T00:00:00.000\",\"date_of_birth\":\"2017-01-17T00:00:00.000\",\"outcome_type\":\"Transfer\",\"outcome_subtype\":\"Partner\",\"animal_type\":\"Cat\",\"sex_upon_outcome\":\"Neutered Male\",\"age_upon_outcome\":\"2 years\",\"breed\":\"Domestic Shorthair Mix\",\"color\":\"Black\"}\\n,{\"animal_id\":\"A674631\",\"name\":\"*Claude\",\"datetime\":\"2014-04-19T17:33:00.000\",\"monthyear\":\"2014-04-19T17:33:00.000\",\"date_of_birth\":\"2011-03-16T00:00:00.000\",\"outcome_type\":\"Adoption\",\"animal_type\":\"Dog\",\"sex_upon_outcome\":\"Neutered Male\",\"age_upon_outcome\":\"3 years\",\"breed\":\"American Bulldog Mix\",\"color\":\"White/Tan\"}\\n,{\"animal_id\":\"A800445\",\"name\":\"Mini\",\"datetime\":\"2019-07-22T18:47:00.000\",\"monthyear\":\"2019-07-22T18:47:00.000\",\"date_of_birth\":\"2013-06-05T00:00:00.000\",\"outcome_type\":\"Return to Owner\",\"animal_type\":\"Dog\",\"sex_upon_outcome\":\"Spayed Female\",\"age_upon_outcome\":\"6 years\",\"breed\":\"Chihuahua Shorthair Mix\",\"color\":\"Tan/White\"}\\n,{\"animal_id\":\"A875334\",\"name\":\"*Charles Barkley\",\"datetime\":\"2023-03-05T11:57:00.000\",\"monthyear\":\"2023-03-05T11:57:00.000\",\"date_of_birth\":\"2021-02-25T00:00:00.000\",\"outcome_type\":\"Transfer\",\"outcome_subtype\":\"Partner\",\"animal_type\":\"Dog\",\"sex_upon_outcome\":\"Intact Male\",\"age_upon_outcome\":\"2 years\",\"breed\":\"English Bulldog\",\"color\":\"Black Brindle/White\"}\\n,{\"animal_id\":\"A684828\",\"datetime\":\"2014-07-30T09:00:00.000\",\"monthyear\":\"2014-07-30T09:00:00.000\",\"date_of_birth\":\"2014-03-14T00:00:00.000\",\"outcome_type\":\"Transfer\",\"outcome_subtype\":\"SCRP\",\"animal_type\":\"Cat\",\"sex_upon_outcome\":\"Intact Male\",\"age_upon_outcome\":\"4 months\",\"breed\":\"Domestic Shorthair Mix\",\"color\":\"Cream Tabby/White\"}\\n,{\"animal_id\":\"A749133\",\"name\":\"*Cowboy\",\"datetime\":\"2020-08-01T08:12:00.000\",\"monthyear\":\"2020-08-01T08:12:00.000\",\"date_of_birth\":\"2017-04-05T00:00:00.000\",\"outcome_type\":\"Adoption\",\"outcome_subtype\":\"Foster\",\"animal_type\":\"Cat\",\"sex_upon_outcome\":\"Spayed Female\",\"age_upon_outcome\":\"3 years\",\"breed\":\"Domestic Shorthair Mix\",\"color\":\"White/Black\"}\\n,{\"animal_id\":\"A686043\",\"datetime\":\"2014-08-16T08:41:00.000\",\"monthyear\":\"2014-08-16T08:41:00.000\",\"date_of_birth\":\"2013-08-15T00:00:00.000\",\"outcome_type\":\"Disposal\",\"animal_type\":\"Other\",\"sex_upon_outcome\":\"Unknown\",\"age_upon_outcome\":\"1 year\",\"breed\":\"Bat Mix\",\"color\":\"Brown\"}\\n,{\"animal_id\":\"A692765\",\"datetime\":\"2014-12-02T17:31:00.000\",\"monthyear\":\"2014-12-02T17:31:00.000\",\"date_of_birth\":\"2014-09-25T00:00:00.000\",\"outcome_type\":\"Euthanasia\",\"outcome_subtype\":\"Suffering\",\"animal_type\":\"Cat\",\"sex_upon_outcome\":\"Intact Male\",\"age_upon_outcome\":\"2 months\",\"breed\":\"Domestic Shorthair Mix\",\"color\":\"Brown Tabby/White\"}\\n,{\"animal_id\":\"A774672\",\"datetime\":\"2018-07-15T16:43:00.000\",\"monthyear\":\"2018-07-15T16:43:00.000\",\"date_of_birth\":\"2018-04-25T00:00:00.000\",\"outcome_type\":\"Adoption\",\"animal_type\":\"Cat\",\"sex_upon_outcome\":\"Spayed Female\",\"age_upon_outcome\":\"2 months\",\"breed\":\"Domestic Shorthair Mix\",\"color\":\"Black\"}\\n,{\"animal_id\":\"A695408\",\"datetime\":\"2015-01-18T08:42:00.000\",\"monthyear\":\"2015-01-18T08:42:00.000\",\"date_of_birth\":\"2014-11-08T00:00:00.000\",\"outcome_type\":\"Adoption\",\"outcome_subtype\":\"Offsite\",\"animal_type\":\"Dog\",\"sex_upon_outcome\":\"Spayed Female\",\"age_upon_outcome\":\"2 months\",\"breed\":\"Rottweiler/German Shepherd\",\"color\":\"Sable\"}\\n,{\"animal_id\":\"A667667\",\"datetime\":\"2013-11-26T13:43:00.000\",\"monthyear\":\"2013-11-26T13:43:00.000\",\"date_of_birth\":\"2013-08-06T00:00:00.000\",\"outcome_type\":\"Transfer\",\"outcome_subtype\":\"Partner\",\"animal_type\":\"Dog\",\"sex_upon_outcome\":\"Intact Male\",\"age_upon_outcome\":\"3 months\",\"breed\":\"Dachshund Mix\",\"color\":\"Tan\"}\\n,{\"animal_id\":\"A681907\",\"name\":\"Tortilla\",\"datetime\":\"2014-06-28T18:52:00.000\",\"monthyear\":\"2014-06-28T18:52:00.000\",\"date_of_birth\":\"2014-04-21T00:00:00.000\",\"outcome_type\":\"Adoption\",\"animal_type\":\"Cat\",\"sex_upon_outcome\":\"Intact Female\",\"age_upon_outcome\":\"2 months\",\"breed\":\"Siamese Mix\",\"color\":\"Tortie Point\"}\\n,{\"animal_id\":\"A678341\",\"name\":\"Bear\",\"datetime\":\"2014-05-26T15:53:00.000\",\"monthyear\":\"2014-05-26T15:53:00.000\",\"date_of_birth\":\"2012-05-07T00:00:00.000\",\"outcome_type\":\"Return to Owner\",\"animal_type\":\"Dog\",\"sex_upon_outcome\":\"Neutered Male\",\"age_upon_outcome\":\"2 years\",\"breed\":\"Golden Retriever/Chow Chow\",\"color\":\"Tan\"}\\n,{\"animal_id\":\"A795431\",\"name\":\"*Maggie\",\"datetime\":\"2019-05-29T14:25:00.000\",\"monthyear\":\"2019-05-29T14:25:00.000\",\"date_of_birth\":\"2011-05-20T00:00:00.000\",\"outcome_type\":\"Transfer\",\"outcome_subtype\":\"Partner\",\"animal_type\":\"Dog\",\"sex_upon_outcome\":\"Intact Female\",\"age_upon_outcome\":\"8 years\",\"breed\":\"Wire Hair Fox Terrier Mix\",\"color\":\"Tricolor\"}\\n,{\"animal_id\":\"A795465\",\"datetime\":\"2019-06-01T22:03:00.000\",\"monthyear\":\"2019-06-01T22:03:00.000\",\"date_of_birth\":\"2019-03-20T00:00:00.000\",\"outcome_type\":\"Adoption\",\"animal_type\":\"Cat\",\"sex_upon_outcome\":\"Neutered Male\",\"age_upon_outcome\":\"2 months\",\"breed\":\"Domestic Shorthair\",\"color\":\"Black\"}\\n,{\"animal_id\":\"A696806\",\"name\":\"*Davis\",\"datetime\":\"2015-02-17T19:02:00.000\",\"monthyear\":\"2015-02-17T19:02:00.000\",\"date_of_birth\":\"2014-06-12T00:00:00.000\",\"outcome_type\":\"Adoption\",\"animal_type\":\"Dog\",\"sex_upon_outcome\":\"Neutered Male\",\"age_upon_outcome\":\"8 months\",\"breed\":\"Dachshund Mix\",\"color\":\"Brown/White\"}\\n,{\"animal_id\":\"A875552\",\"name\":\"Kiko\",\"datetime\":\"2023-03-05T11:31:00.000\",\"monthyear\":\"2023-03-05T11:31:00.000\",\"date_of_birth\":\"2022-03-01T00:00:00.000\",\"outcome_type\":\"Transfer\",\"outcome_subtype\":\"Partner\",\"animal_type\":\"Dog\",\"sex_upon_outcome\":\"Intact Male\",\"age_upon_outcome\":\"1 year\",\"breed\":\"Chihuahua Shorthair Mix\",\"color\":\"Brown Brindle/Black\"}\\n,{\"animal_id\":\"A808052\",\"name\":\"*Oreo\",\"datetime\":\"2019-12-03T16:46:00.000\",\"monthyear\":\"2019-12-03T16:46:00.000\",\"date_of_birth\":\"2019-08-19T00:00:00.000\",\"outcome_type\":\"Adoption\",\"animal_type\":\"Cat\",\"sex_upon_outcome\":\"Spayed Female\",\"age_upon_outcome\":\"3 months\",\"breed\":\"Domestic Shorthair\",\"color\":\"Black/White\"}\\n,{\"animal_id\":\"A839074\",\"datetime\":\"2021-07-23T09:29:00.000\",\"monthyear\":\"2021-07-23T09:29:00.000\",\"date_of_birth\":\"2021-03-19T00:00:00.000\",\"outcome_type\":\"Died\",\"outcome_subtype\":\"In Kennel\",\"animal_type\":\"Cat\",\"sex_upon_outcome\":\"Intact Male\",\"age_upon_outcome\":\"4 months\",\"breed\":\"Domestic Shorthair\",\"color\":\"Black/White\"}\\n,{\"animal_id\":\"A795140\",\"name\":\"Roo\",\"datetime\":\"2019-05-23T17:39:00.000\",\"monthyear\":\"2019-05-23T17:39:00.000\",\"date_of_birth\":\"2017-05-16T00:00:00.000\",\"outcome_type\":\"Adoption\",\"animal_type\":\"Dog\",\"sex_upon_outcome\":\"Neutered Male\",\"age_upon_outcome\":\"2 years\",\"breed\":\"Australian Cattle Dog Mix\",\"color\":\"Blue Tick\"}\\n,{\"animal_id\":\"A836159\",\"name\":\"*Morgan\",\"datetime\":\"2021-06-30T14:41:00.000\",\"monthyear\":\"2021-06-30T14:41:00.000\",\"date_of_birth\":\"2019-12-07T00:00:00.000\",\"outcome_type\":\"Adoption\",\"outcome_subtype\":\"Foster\",\"animal_type\":\"Dog\",\"sex_upon_outcome\":\"Spayed Female\",\"age_upon_outcome\":\"1 year\",\"breed\":\"Australian Cattle Dog\",\"color\":\"Blue Tick\"}\\n,{\"animal_id\":\"A823494\",\"name\":\"*Macaroni\",\"datetime\":\"2020-11-03T09:13:00.000\",\"monthyear\":\"2020-11-03T09:13:00.000\",\"date_of_birth\":\"2020-08-17T00:00:00.000\",\"outcome_type\":\"Adoption\",\"outcome_subtype\":\"Foster\",\"animal_type\":\"Cat\",\"sex_upon_outcome\":\"Spayed Female\",\"age_upon_outcome\":\"2 months\",\"breed\":\"Domestic Shorthair\",\"color\":\"Brown Tabby/White\"}\\n,{\"animal_id\":\"A750772\",\"datetime\":\"2017-05-31T18:19:00.000\",\"monthyear\":\"2017-05-31T18:19:00.000\",\"date_of_birth\":\"2017-04-16T00:00:00.000\",\"outcome_type\":\"Transfer\",\"outcome_subtype\":\"Partner\",\"animal_type\":\"Dog\",\"sex_upon_outcome\":\"Intact Female\",\"age_upon_outcome\":\"1 month\",\"breed\":\"Labrador Retriever Mix\",\"color\":\"Black\"}\\n,{\"animal_id\":\"A765588\",\"name\":\"*Clarke\",\"datetime\":\"2018-01-24T10:12:00.000\",\"monthyear\":\"2018-01-24T10:12:00.000\",\"date_of_birth\":\"2017-12-15T00:00:00.000\",\"outcome_type\":\"Transfer\",\"outcome_subtype\":\"Partner\",\"animal_type\":\"Dog\",\"sex_upon_outcome\":\"Intact Female\",\"age_upon_outcome\":\"1 month\",\"breed\":\"Chihuahua Shorthair Mix\",\"color\":\"Brown\"}\\n,{\"animal_id\":\"A760496\",\"name\":\"*Marco Polo\",\"datetime\":\"2017-12-30T15:44:00.000\",\"monthyear\":\"2017-12-30T15:44:00.000\",\"date_of_birth\":\"2017-08-19T00:00:00.000\",\"outcome_type\":\"Adoption\",\"animal_type\":\"Cat\",\"sex_upon_outcome\":\"Neutered Male\",\"age_upon_outcome\":\"4 months\",\"breed\":\"Domestic Shorthair Mix\",\"color\":\"Brown Tabby/White\"}\\n,{\"animal_id\":\"A787340\",\"datetime\":\"2019-01-11T14:53:00.000\",\"monthyear\":\"2019-01-11T14:53:00.000\",\"date_of_birth\":\"2018-01-11T00:00:00.000\",\"outcome_type\":\"Euthanasia\",\"outcome_subtype\":\"Rabies Risk\",\"animal_type\":\"Other\",\"sex_upon_outcome\":\"Unknown\",\"age_upon_outcome\":\"1 year\",\"breed\":\"Bat Mix\",\"color\":\"Brown\"}\\n,{\"animal_id\":\"A736523\",\"name\":\"*Clementina\",\"datetime\":\"2016-11-03T12:35:00.000\",\"monthyear\":\"2016-11-03T12:35:00.000\",\"date_of_birth\":\"2015-10-12T00:00:00.000\",\"outcome_type\":\"Adoption\",\"animal_type\":\"Cat\",\"sex_upon_outcome\":\"Spayed Female\",\"age_upon_outcome\":\"1 year\",\"breed\":\"Domestic Shorthair Mix\",\"color\":\"Black\"}\\n,{\"animal_id\":\"A706159\",\"name\":\"Junebug\",\"datetime\":\"2015-07-31T14:01:00.000\",\"monthyear\":\"2015-07-31T14:01:00.000\",\"date_of_birth\":\"2014-06-25T00:00:00.000\",\"outcome_type\":\"Adoption\",\"outcome_subtype\":\"Foster\",\"animal_type\":\"Dog\",\"sex_upon_outcome\":\"Intact Female\",\"age_upon_outcome\":\"1 year\",\"breed\":\"Border Collie/Whippet\",\"color\":\"Black/White\"}\\n,{\"animal_id\":\"A810115\",\"datetime\":\"2019-12-09T18:02:00.000\",\"monthyear\":\"2019-12-09T18:02:00.000\",\"date_of_birth\":\"2019-09-24T00:00:00.000\",\"outcome_type\":\"Adoption\",\"animal_type\":\"Dog\",\"sex_upon_outcome\":\"Neutered Male\",\"age_upon_outcome\":\"2 months\",\"breed\":\"Labrador Retriever\",\"color\":\"Tricolor\"}\\n,{\"animal_id\":\"A811845\",\"name\":\"L.S\",\"datetime\":\"2020-01-22T13:53:00.000\",\"monthyear\":\"2020-01-22T13:53:00.000\",\"date_of_birth\":\"2005-01-10T00:00:00.000\",\"outcome_type\":\"Rto-Adopt\",\"animal_type\":\"Cat\",\"sex_upon_outcome\":\"Spayed Female\",\"age_upon_outcome\":\"15 years\",\"breed\":\"Domestic Shorthair Mix\",\"color\":\"Black\"}\\n,{\"animal_id\":\"A830628\",\"name\":\"Buck\",\"datetime\":\"2021-03-14T16:15:00.000\",\"monthyear\":\"2021-03-14T16:15:00.000\",\"date_of_birth\":\"2018-03-12T00:00:00.000\",\"outcome_type\":\"Return to Owner\",\"animal_type\":\"Dog\",\"sex_upon_outcome\":\"Intact Male\",\"age_upon_outcome\":\"3 years\",\"breed\":\"German Shepherd\",\"color\":\"Tan/Black\"}\\n,{\"animal_id\":\"A737112\",\"datetime\":\"2016-10-23T09:00:00.000\",\"monthyear\":\"2016-10-23T09:00:00.000\",\"date_of_birth\":\"2015-10-22T00:00:00.000\",\"outcome_type\":\"Transfer\",\"outcome_subtype\":\"SCRP\",\"animal_type\":\"Cat\",\"sex_upon_outcome\":\"Spayed Female\",\"age_upon_outcome\":\"1 year\",\"breed\":\"Domestic Shorthair Mix\",\"color\":\"Brown Tabby\"}\\n,{\"animal_id\":\"A757498\",\"name\":\"*Sergeant\",\"datetime\":\"2017-09-11T14:16:00.000\",\"monthyear\":\"2017-09-11T14:16:00.000\",\"date_of_birth\":\"2011-09-03T00:00:00.000\",\"outcome_type\":\"Adoption\",\"animal_type\":\"Dog\",\"sex_upon_outcome\":\"Neutered Male\",\"age_upon_outcome\":\"6 years\",\"breed\":\"German Shepherd Mix\",\"color\":\"Black/Brown\"}\\n,{\"animal_id\":\"A834933\",\"name\":\"*Salsa\",\"datetime\":\"2021-05-30T13:01:00.000\",\"monthyear\":\"2021-05-30T13:01:00.000\",\"date_of_birth\":\"2021-03-20T00:00:00.000\",\"outcome_type\":\"Euthanasia\",\"outcome_subtype\":\"Suffering\",\"animal_type\":\"Cat\",\"sex_upon_outcome\":\"Intact Female\",\"age_upon_outcome\":\"2 months\",\"breed\":\"Domestic Shorthair Mix\",\"color\":\"Brown Tabby\"}\\n,{\"animal_id\":\"A749348\",\"name\":\"*Toby\",\"datetime\":\"2017-07-12T09:48:00.000\",\"monthyear\":\"2017-07-12T09:48:00.000\",\"date_of_birth\":\"2017-05-04T00:00:00.000\",\"outcome_type\":\"Adoption\",\"outcome_subtype\":\"Foster\",\"animal_type\":\"Cat\",\"sex_upon_outcome\":\"Neutered Male\",\"age_upon_outcome\":\"2 months\",\"breed\":\"Domestic Shorthair Mix\",\"color\":\"Brown Tabby/White\"}\\n,{\"animal_id\":\"A796292\",\"name\":\"Duchess\",\"datetime\":\"2019-06-10T18:59:00.000\",\"monthyear\":\"2019-06-10T18:59:00.000\",\"date_of_birth\":\"2014-05-31T00:00:00.000\",\"outcome_type\":\"Return to Owner\",\"animal_type\":\"Dog\",\"sex_upon_outcome\":\"Spayed Female\",\"age_upon_outcome\":\"5 years\",\"breed\":\"Chihuahua Shorthair\",\"color\":\"Brown\"}\\n,{\"animal_id\":\"A725980\",\"datetime\":\"2016-06-25T17:31:00.000\",\"monthyear\":\"2016-06-25T17:31:00.000\",\"date_of_birth\":\"2016-05-01T00:00:00.000\",\"outcome_type\":\"Adoption\",\"outcome_subtype\":\"Foster\",\"animal_type\":\"Dog\",\"sex_upon_outcome\":\"Spayed Female\",\"age_upon_outcome\":\"1 month\",\"breed\":\"Chihuahua Shorthair Mix\",\"color\":\"Brown\"}\\n,{\"animal_id\":\"A690543\",\"name\":\"*Scarlet\",\"datetime\":\"2017-01-05T19:25:00.000\",\"monthyear\":\"2017-01-05T19:25:00.000\",\"date_of_birth\":\"2013-10-22T00:00:00.000\",\"outcome_type\":\"Return to Owner\",\"animal_type\":\"Dog\",\"sex_upon_outcome\":\"Spayed Female\",\"age_upon_outcome\":\"3 years\",\"breed\":\"Pit Bull Mix\",\"color\":\"Chocolate/White\"}\\n,{\"animal_id\":\"A799980\",\"name\":\"Chikis\",\"datetime\":\"2019-07-23T17:24:00.000\",\"monthyear\":\"2019-07-23T17:24:00.000\",\"date_of_birth\":\"2013-05-15T00:00:00.000\",\"outcome_type\":\"Transfer\",\"outcome_subtype\":\"Partner\",\"animal_type\":\"Dog\",\"sex_upon_outcome\":\"Spayed Female\",\"age_upon_outcome\":\"6 years\",\"breed\":\"Chihuahua Shorthair Mix\",\"color\":\"Black/White\"}\\n,{\"animal_id\":\"A704278\",\"name\":\"Candy\",\"datetime\":\"2015-06-07T18:37:00.000\",\"monthyear\":\"2015-06-07T18:37:00.000\",\"date_of_birth\":\"2013-06-03T00:00:00.000\",\"outcome_type\":\"Adoption\",\"animal_type\":\"Dog\",\"sex_upon_outcome\":\"Spayed Female\",\"age_upon_outcome\":\"2 years\",\"breed\":\"Chihuahua Shorthair Mix\",\"color\":\"Red/White\"}\\n,{\"animal_id\":\"A665095\",\"name\":\"Paddy\",\"datetime\":\"2013-10-18T13:23:00.000\",\"monthyear\":\"2013-10-18T13:23:00.000\",\"date_of_birth\":\"2009-10-17T00:00:00.000\",\"outcome_type\":\"Transfer\",\"outcome_subtype\":\"Partner\",\"animal_type\":\"Dog\",\"sex_upon_outcome\":\"Neutered Male\",\"age_upon_outcome\":\"4 years\",\"breed\":\"Dachshund Mix\",\"color\":\"Red/Buff\"}\\n,{\"animal_id\":\"A612006\",\"name\":\"Dusty\",\"datetime\":\"2014-09-12T15:56:00.000\",\"monthyear\":\"2014-09-12T15:56:00.000\",\"date_of_birth\":\"2002-10-15T00:00:00.000\",\"outcome_type\":\"Return to Owner\",\"animal_type\":\"Dog\",\"sex_upon_outcome\":\"Intact Male\",\"age_upon_outcome\":\"11 years\",\"breed\":\"Chow Chow Mix\",\"color\":\"Tan\"}\\n,{\"animal_id\":\"A774090\",\"name\":\"Stanley\",\"datetime\":\"2018-06-21T15:18:00.000\",\"monthyear\":\"2018-06-21T15:18:00.000\",\"date_of_birth\":\"2013-06-10T00:00:00.000\",\"outcome_type\":\"Adoption\",\"animal_type\":\"Dog\",\"sex_upon_outcome\":\"Neutered Male\",\"age_upon_outcome\":\"5 years\",\"breed\":\"Doberman Pinsch Mix\",\"color\":\"Black/Tan\"}\\n,{\"animal_id\":\"A790785\",\"name\":\"Bingo\",\"datetime\":\"2020-05-26T13:50:00.000\",\"monthyear\":\"2020-05-26T13:50:00.000\",\"date_of_birth\":\"2018-03-16T00:00:00.000\",\"outcome_type\":\"Adoption\",\"outcome_subtype\":\"Foster\",\"animal_type\":\"Dog\",\"sex_upon_outcome\":\"Neutered Male\",\"age_upon_outcome\":\"2 years\",\"breed\":\"German Shepherd Mix\",\"color\":\"Black/Brown\"}\\n,{\"animal_id\":\"A678083\",\"name\":\"*Aspen\",\"datetime\":\"2014-07-12T15:57:00.000\",\"monthyear\":\"2014-07-12T15:57:00.000\",\"date_of_birth\":\"2014-04-03T00:00:00.000\",\"outcome_type\":\"Adoption\",\"animal_type\":\"Cat\",\"sex_upon_outcome\":\"Neutered Male\",\"age_upon_outcome\":\"3 months\",\"breed\":\"Domestic Shorthair Mix\",\"color\":\"Orange Tabby\"}\\n,{\"animal_id\":\"A769669\",\"datetime\":\"2018-04-12T17:32:00.000\",\"monthyear\":\"2018-04-12T17:32:00.000\",\"date_of_birth\":\"2016-04-08T00:00:00.000\",\"outcome_type\":\"Transfer\",\"outcome_subtype\":\"Snr\",\"animal_type\":\"Cat\",\"sex_upon_outcome\":\"Intact Male\",\"age_upon_outcome\":\"2 years\",\"breed\":\"Domestic Longhair Mix\",\"color\":\"Cream Tabby\"}\\n,{\"animal_id\":\"A639030\",\"name\":\"Cate\",\"datetime\":\"2014-06-15T13:18:00.000\",\"monthyear\":\"2014-06-15T13:18:00.000\",\"date_of_birth\":\"2005-10-08T00:00:00.000\",\"outcome_type\":\"Return to Owner\",\"animal_type\":\"Dog\",\"sex_upon_outcome\":\"Spayed Female\",\"age_upon_outcome\":\"8 years\",\"breed\":\"German Shepherd Mix\",\"color\":\"Tan\"}\\n,{\"animal_id\":\"A846023\",\"datetime\":\"2021-11-08T18:15:00.000\",\"monthyear\":\"2021-11-08T18:15:00.000\",\"date_of_birth\":\"2021-10-21T00:00:00.000\",\"outcome_type\":\"Transfer\",\"outcome_subtype\":\"Partner\",\"animal_type\":\"Cat\",\"sex_upon_outcome\":\"Intact Male\",\"age_upon_outcome\":\"2 weeks\",\"breed\":\"Domestic Shorthair\",\"color\":\"Blue Tabby\"}\\n,{\"animal_id\":\"A812889\",\"name\":\"Tutti\",\"datetime\":\"2020-02-01T13:23:00.000\",\"monthyear\":\"2020-02-01T13:23:00.000\",\"date_of_birth\":\"2019-10-15T00:00:00.000\",\"outcome_type\":\"Adoption\",\"animal_type\":\"Cat\",\"sex_upon_outcome\":\"Intact Female\",\"age_upon_outcome\":\"3 months\",\"breed\":\"Domestic Longhair\",\"color\":\"Black/White\"}\\n,{\"animal_id\":\"A749777\",\"datetime\":\"2017-06-06T17:17:00.000\",\"monthyear\":\"2017-06-06T17:17:00.000\",\"date_of_birth\":\"2017-04-10T00:00:00.000\",\"outcome_type\":\"Adoption\",\"outcome_subtype\":\"Foster\",\"animal_type\":\"Dog\",\"sex_upon_outcome\":\"Spayed Female\",\"age_upon_outcome\":\"1 month\",\"breed\":\"Australian Shepherd Mix\",\"color\":\"Blue Merle\"}\\n,{\"animal_id\":\"A737963\",\"datetime\":\"2016-11-07T17:12:00.000\",\"monthyear\":\"2016-11-07T17:12:00.000\",\"date_of_birth\":\"2016-09-07T00:00:00.000\",\"outcome_type\":\"Transfer\",\"outcome_subtype\":\"Partner\",\"animal_type\":\"Dog\",\"sex_upon_outcome\":\"Intact Female\",\"age_upon_outcome\":\"1 month\",\"breed\":\"Pit Bull Mix\",\"color\":\"White/Gray\"}\\n,{\"animal_id\":\"A794634\",\"name\":\"Diamond\",\"datetime\":\"2019-07-11T16:09:00.000\",\"monthyear\":\"2019-07-11T16:09:00.000\",\"date_of_birth\":\"2019-04-10T00:00:00.000\",\"outcome_type\":\"Adoption\",\"animal_type\":\"Cat\",\"sex_upon_outcome\":\"Spayed Female\",\"age_upon_outcome\":\"3 months\",\"breed\":\"Siamese\",\"color\":\"Lynx Point\"}\\n,{\"animal_id\":\"A703672\",\"name\":\"*Chillon\",\"datetime\":\"2016-04-13T00:00:00.000\",\"monthyear\":\"2016-04-13T00:00:00.000\",\"date_of_birth\":\"2015-04-01T00:00:00.000\",\"outcome_type\":\"Transfer\",\"outcome_subtype\":\"Partner\",\"animal_type\":\"Cat\",\"sex_upon_outcome\":\"Neutered Male\",\"age_upon_outcome\":\"1 year\",\"breed\":\"Domestic Shorthair Mix\",\"color\":\"Brown Tabby\"}\\n,{\"animal_id\":\"A715807\",\"name\":\"*Franz\",\"datetime\":\"2016-01-15T16:59:00.000\",\"monthyear\":\"2016-01-15T16:59:00.000\",\"date_of_birth\":\"2015-08-10T00:00:00.000\",\"outcome_type\":\"Adoption\",\"animal_type\":\"Cat\",\"sex_upon_outcome\":\"Neutered Male\",\"age_upon_outcome\":\"5 months\",\"breed\":\"Domestic Shorthair Mix\",\"color\":\"Black\"}\\n,{\"animal_id\":\"A827315\",\"name\":\"Atticus\",\"datetime\":\"2021-01-27T13:11:00.000\",\"monthyear\":\"2021-01-27T13:11:00.000\",\"date_of_birth\":\"2011-12-18T00:00:00.000\",\"outcome_type\":\"Adoption\",\"outcome_subtype\":\"Foster\",\"animal_type\":\"Dog\",\"sex_upon_outcome\":\"Neutered Male\",\"age_upon_outcome\":\"9 years\",\"breed\":\"Labrador Retriever\",\"color\":\"Chocolate\"}\\n,{\"animal_id\":\"A793307\",\"datetime\":\"2019-04-24T16:24:00.000\",\"monthyear\":\"2019-04-24T16:24:00.000\",\"date_of_birth\":\"2019-01-23T00:00:00.000\",\"outcome_type\":\"Adoption\",\"animal_type\":\"Cat\",\"sex_upon_outcome\":\"Spayed Female\",\"age_upon_outcome\":\"2 months\",\"breed\":\"Siamese Mix\",\"color\":\"Lynx Point/White\"}\\n,{\"animal_id\":\"A805212\",\"name\":\"Turtle\",\"datetime\":\"2019-10-22T17:19:00.000\",\"monthyear\":\"2019-10-22T17:19:00.000\",\"date_of_birth\":\"2018-11-24T00:00:00.000\",\"outcome_type\":\"Adoption\",\"animal_type\":\"Cat\",\"sex_upon_outcome\":\"Spayed Female\",\"age_upon_outcome\":\"10 months\",\"breed\":\"Domestic Shorthair\",\"color\":\"Tortie\"}\\n,{\"animal_id\":\"A872903\",\"name\":\"*Aurora\",\"datetime\":\"2023-03-05T13:12:00.000\",\"monthyear\":\"2023-03-05T13:12:00.000\",\"date_of_birth\":\"2022-08-17T00:00:00.000\",\"outcome_type\":\"Adoption\",\"animal_type\":\"Dog\",\"sex_upon_outcome\":\"Spayed Female\",\"age_upon_outcome\":\"6 months\",\"breed\":\"Siberian Husky Mix\",\"color\":\"Black/White\"}\\n,{\"animal_id\":\"A737367\",\"name\":\"*Charlie\",\"datetime\":\"2016-10-31T18:50:00.000\",\"monthyear\":\"2016-10-31T18:50:00.000\",\"date_of_birth\":\"2015-10-26T00:00:00.000\",\"outcome_type\":\"Adoption\",\"animal_type\":\"Dog\",\"sex_upon_outcome\":\"Neutered Male\",\"age_upon_outcome\":\"1 year\",\"breed\":\"Chihuahua Shorthair Mix\",\"color\":\"Tricolor\"}\\n,{\"animal_id\":\"A749609\",\"name\":\"*Emmy Lou\",\"datetime\":\"2017-07-21T10:12:00.000\",\"monthyear\":\"2017-07-21T10:12:00.000\",\"date_of_birth\":\"2017-05-16T00:00:00.000\",\"outcome_type\":\"Adoption\",\"outcome_subtype\":\"Foster\",\"animal_type\":\"Dog\",\"sex_upon_outcome\":\"Spayed Female\",\"age_upon_outcome\":\"2 months\",\"breed\":\"Labrador Retriever Mix\",\"color\":\"Black/Brown\"}\\n,{\"animal_id\":\"A686100\",\"datetime\":\"2014-08-20T17:17:00.000\",\"monthyear\":\"2014-08-20T17:17:00.000\",\"date_of_birth\":\"2014-06-16T00:00:00.000\",\"outcome_type\":\"Adoption\",\"animal_type\":\"Cat\",\"sex_upon_outcome\":\"Spayed Female\",\"age_upon_outcome\":\"2 months\",\"breed\":\"Domestic Shorthair Mix\",\"color\":\"Calico\"}\\n,{\"animal_id\":\"A754990\",\"datetime\":\"2017-07-30T18:14:00.000\",\"monthyear\":\"2017-07-30T18:14:00.000\",\"date_of_birth\":\"2017-05-27T00:00:00.000\",\"outcome_type\":\"Adoption\",\"animal_type\":\"Dog\",\"sex_upon_outcome\":\"Neutered Male\",\"age_upon_outcome\":\"2 months\",\"breed\":\"German Shepherd/Labrador Retriever\",\"color\":\"Tan/Black\"}\\n,{\"animal_id\":\"A801848\",\"name\":\"*Kit\",\"datetime\":\"2019-09-26T19:07:00.000\",\"monthyear\":\"2019-09-26T19:07:00.000\",\"date_of_birth\":\"2019-07-10T00:00:00.000\",\"outcome_type\":\"Adoption\",\"animal_type\":\"Cat\",\"sex_upon_outcome\":\"Spayed Female\",\"age_upon_outcome\":\"2 months\",\"breed\":\"Domestic Shorthair\",\"color\":\"Orange Tabby\"}\\n,{\"animal_id\":\"A650142\",\"name\":\"Koda\",\"datetime\":\"2014-01-22T17:00:00.000\",\"monthyear\":\"2014-01-22T17:00:00.000\",\"date_of_birth\":\"2011-03-24T00:00:00.000\",\"outcome_type\":\"Return to Owner\",\"animal_type\":\"Dog\",\"sex_upon_outcome\":\"Neutered Male\",\"age_upon_outcome\":\"2 years\",\"breed\":\"Chow Chow Mix\",\"color\":\"Brown/White\"}\\n,{\"animal_id\":\"A832511\",\"name\":\"*Theodosia\",\"datetime\":\"2021-05-25T12:13:00.000\",\"monthyear\":\"2021-05-25T12:13:00.000\",\"date_of_birth\":\"2019-04-14T00:00:00.000\",\"outcome_type\":\"Adoption\",\"animal_type\":\"Cat\",\"sex_upon_outcome\":\"Spayed Female\",\"age_upon_outcome\":\"2 years\",\"breed\":\"Siamese Mix\",\"color\":\"Chocolate Point\"}\\n,{\"animal_id\":\"A754540\",\"name\":\"*Lily\",\"datetime\":\"2017-12-20T07:31:00.000\",\"monthyear\":\"2017-12-20T07:31:00.000\",\"date_of_birth\":\"2010-09-18T00:00:00.000\",\"outcome_type\":\"Adoption\",\"outcome_subtype\":\"Foster\",\"animal_type\":\"Dog\",\"sex_upon_outcome\":\"Spayed Female\",\"age_upon_outcome\":\"7 years\",\"breed\":\"Labrador Retriever Mix\",\"color\":\"Yellow\"}\\n,{\"animal_id\":\"A818385\",\"datetime\":\"2020-06-08T15:29:00.000\",\"monthyear\":\"2020-06-08T15:29:00.000\",\"date_of_birth\":\"2020-03-17T00:00:00.000\",\"outcome_type\":\"Return to Owner\",\"animal_type\":\"Cat\",\"sex_upon_outcome\":\"Intact Male\",\"age_upon_outcome\":\"2 months\",\"breed\":\"Domestic Shorthair\",\"color\":\"Blue Smoke\"}\\n,{\"animal_id\":\"A800657\",\"datetime\":\"2019-08-03T08:36:00.000\",\"monthyear\":\"2019-08-03T08:36:00.000\",\"date_of_birth\":\"2019-07-22T00:00:00.000\",\"outcome_type\":\"Transfer\",\"outcome_subtype\":\"Partner\",\"animal_type\":\"Dog\",\"sex_upon_outcome\":\"Unknown\",\"age_upon_outcome\":\"1 weeks\",\"breed\":\"Labrador Retriever\",\"color\":\"Tricolor\"}\\n,{\"animal_id\":\"A735484\",\"name\":\"Homie\",\"datetime\":\"2016-11-19T16:18:00.000\",\"monthyear\":\"2016-11-19T16:18:00.000\",\"date_of_birth\":\"2015-09-24T00:00:00.000\",\"outcome_type\":\"Adoption\",\"animal_type\":\"Dog\",\"sex_upon_outcome\":\"Neutered Male\",\"age_upon_outcome\":\"1 year\",\"breed\":\"Labrador Retriever/Australian Kelpie\",\"color\":\"Chocolate/White\"}\\n,{\"animal_id\":\"A732882\",\"datetime\":\"2016-08-14T13:43:00.000\",\"monthyear\":\"2016-08-14T13:43:00.000\",\"date_of_birth\":\"2014-08-14T00:00:00.000\",\"outcome_type\":\"Euthanasia\",\"outcome_subtype\":\"Suffering\",\"animal_type\":\"Cat\",\"sex_upon_outcome\":\"Intact Female\",\"age_upon_outcome\":\"2 years\",\"breed\":\"Domestic Shorthair Mix\",\"color\":\"Brown Tabby\"}\\n,{\"animal_id\":\"A763291\",\"name\":\"Bluebell\",\"datetime\":\"2017-12-13T16:40:00.000\",\"monthyear\":\"2017-12-13T16:40:00.000\",\"date_of_birth\":\"2016-12-06T00:00:00.000\",\"outcome_type\":\"Adoption\",\"animal_type\":\"Dog\",\"sex_upon_outcome\":\"Spayed Female\",\"age_upon_outcome\":\"1 year\",\"breed\":\"American Staffordshire Terrier Mix\",\"color\":\"Brown Brindle/White\"}\\n,{\"animal_id\":\"A793667\",\"name\":\"Lucas\",\"datetime\":\"2019-05-03T11:34:00.000\",\"monthyear\":\"2019-05-03T11:34:00.000\",\"date_of_birth\":\"2017-04-28T00:00:00.000\",\"outcome_type\":\"Return to Owner\",\"animal_type\":\"Dog\",\"sex_upon_outcome\":\"Neutered Male\",\"age_upon_outcome\":\"2 years\",\"breed\":\"Miniature Poodle Mix\",\"color\":\"White\"}\\n,{\"animal_id\":\"A813293\",\"datetime\":\"2020-02-13T17:24:00.000\",\"monthyear\":\"2020-02-13T17:24:00.000\",\"date_of_birth\":\"2014-02-13T00:00:00.000\",\"outcome_type\":\"Adoption\",\"animal_type\":\"Dog\",\"sex_upon_outcome\":\"Spayed Female\",\"age_upon_outcome\":\"6 years\",\"breed\":\"Beagle\",\"color\":\"White/Brown\"}\\n,{\"animal_id\":\"A754241\",\"datetime\":\"2017-07-17T18:10:00.000\",\"monthyear\":\"2017-07-17T18:10:00.000\",\"date_of_birth\":\"2015-07-17T00:00:00.000\",\"outcome_type\":\"Euthanasia\",\"outcome_subtype\":\"Rabies Risk\",\"animal_type\":\"Other\",\"sex_upon_outcome\":\"Unknown\",\"age_upon_outcome\":\"2 years\",\"breed\":\"Raccoon Mix\",\"color\":\"Gray/Black\"}\\n,{\"animal_id\":\"A747283\",\"name\":\"Charlie\",\"datetime\":\"2017-04-22T17:45:00.000\",\"monthyear\":\"2017-04-22T17:45:00.000\",\"date_of_birth\":\"2015-04-17T00:00:00.000\",\"outcome_type\":\"Adoption\",\"animal_type\":\"Dog\",\"sex_upon_outcome\":\"Neutered Male\",\"age_upon_outcome\":\"2 years\",\"breed\":\"Chihuahua Shorthair Mix\",\"color\":\"Tan/White\"}\\n,{\"animal_id\":\"A709676\",\"name\":\"*Wendall\",\"datetime\":\"2015-08-19T15:45:00.000\",\"monthyear\":\"2015-08-19T15:45:00.000\",\"date_of_birth\":\"2014-08-12T00:00:00.000\",\"outcome_type\":\"Adoption\",\"animal_type\":\"Dog\",\"sex_upon_outcome\":\"Neutered Male\",\"age_upon_outcome\":\"1 year\",\"breed\":\"Miniature Pinscher Mix\",\"color\":\"Chocolate/Tan\"}\\n,{\"animal_id\":\"A871847\",\"name\":\"*Eve\",\"datetime\":\"2023-03-05T15:59:00.000\",\"monthyear\":\"2023-03-05T15:59:00.000\",\"date_of_birth\":\"2022-12-31T00:00:00.000\",\"outcome_type\":\"Adoption\",\"outcome_subtype\":\"Foster\",\"animal_type\":\"Dog\",\"sex_upon_outcome\":\"Spayed Female\",\"age_upon_outcome\":\"2 months\",\"breed\":\"Rat Terrier Mix\",\"color\":\"Tricolor\"}\\n,{\"animal_id\":\"A695365\",\"name\":\"Monster\",\"datetime\":\"2015-01-17T17:31:00.000\",\"monthyear\":\"2015-01-17T17:31:00.000\",\"date_of_birth\":\"2014-01-14T00:00:00.000\",\"outcome_type\":\"Return to Owner\",\"animal_type\":\"Dog\",\"sex_upon_outcome\":\"Neutered Male\",\"age_upon_outcome\":\"1 year\",\"breed\":\"Chihuahua Shorthair\",\"color\":\"Tan/Black\"}\\n,{\"animal_id\":\"A692259\",\"name\":\"*Simon\",\"datetime\":\"2014-12-06T17:02:00.000\",\"monthyear\":\"2014-12-06T17:02:00.000\",\"date_of_birth\":\"2002-11-17T00:00:00.000\",\"outcome_type\":\"Adoption\",\"animal_type\":\"Dog\",\"sex_upon_outcome\":\"Neutered Male\",\"age_upon_outcome\":\"12 years\",\"breed\":\"Miniature Schnauzer Mix\",\"color\":\"Black/Brown Brindle\"}\\n,{\"animal_id\":\"A678468\",\"datetime\":\"2014-05-16T11:58:00.000\",\"monthyear\":\"2014-05-16T11:58:00.000\",\"date_of_birth\":\"2012-05-09T00:00:00.000\",\"outcome_type\":\"Transfer\",\"outcome_subtype\":\"Partner\",\"animal_type\":\"Dog\",\"sex_upon_outcome\":\"Neutered Male\",\"age_upon_outcome\":\"2 years\",\"breed\":\"Chihuahua Shorthair/Rat Terrier\",\"color\":\"Tricolor\"}\\n,{\"animal_id\":\"A685507\",\"datetime\":\"2014-08-08T18:20:00.000\",\"monthyear\":\"2014-08-08T18:20:00.000\",\"date_of_birth\":\"2014-07-17T00:00:00.000\",\"outcome_type\":\"Transfer\",\"outcome_subtype\":\"Partner\",\"animal_type\":\"Cat\",\"sex_upon_outcome\":\"Intact Male\",\"age_upon_outcome\":\"3 weeks\",\"breed\":\"Domestic Shorthair Mix\",\"color\":\"Brown Tabby/White\"}\\n,{\"animal_id\":\"A741704\",\"name\":\"Samson\",\"datetime\":\"2017-01-07T12:04:00.000\",\"monthyear\":\"2017-01-07T12:04:00.000\",\"date_of_birth\":\"2015-01-06T00:00:00.000\",\"outcome_type\":\"Return to Owner\",\"animal_type\":\"Dog\",\"sex_upon_outcome\":\"Intact Male\",\"age_upon_outcome\":\"2 years\",\"breed\":\"Golden Retriever Mix\",\"color\":\"Yellow\"}\\n,{\"animal_id\":\"A844646\",\"name\":\"Negro\",\"datetime\":\"2021-10-19T12:18:00.000\",\"monthyear\":\"2021-10-19T12:18:00.000\",\"date_of_birth\":\"2018-10-19T00:00:00.000\",\"outcome_type\":\"Return to Owner\",\"animal_type\":\"Dog\",\"sex_upon_outcome\":\"Intact Male\",\"age_upon_outcome\":\"3 years\",\"breed\":\"Great Dane\",\"color\":\"Black/White\"}\\n,{\"animal_id\":\"A665319\",\"name\":\"Oberon\",\"datetime\":\"2013-10-22T17:09:00.000\",\"monthyear\":\"2013-10-22T17:09:00.000\",\"date_of_birth\":\"2012-10-16T00:00:00.000\",\"outcome_type\":\"Adoption\",\"animal_type\":\"Dog\",\"sex_upon_outcome\":\"Neutered Male\",\"age_upon_outcome\":\"1 year\",\"breed\":\"Anatol Shepherd Mix\",\"color\":\"Tan/White\"}\\n,{\"animal_id\":\"A686271\",\"datetime\":\"2014-08-23T18:45:00.000\",\"monthyear\":\"2014-08-23T18:45:00.000\",\"date_of_birth\":\"2013-08-19T00:00:00.000\",\"outcome_type\":\"Adoption\",\"animal_type\":\"Dog\",\"sex_upon_outcome\":\"Spayed Female\",\"age_upon_outcome\":\"1 year\",\"breed\":\"Chihuahua Shorthair/Pug\",\"color\":\"Brown\"}\\n,{\"animal_id\":\"A678167\",\"name\":\"Leah\",\"datetime\":\"2014-05-12T14:38:00.000\",\"monthyear\":\"2014-05-12T14:38:00.000\",\"date_of_birth\":\"2013-05-05T00:00:00.000\",\"outcome_type\":\"Transfer\",\"outcome_subtype\":\"Partner\",\"animal_type\":\"Dog\",\"sex_upon_outcome\":\"Spayed Female\",\"age_upon_outcome\":\"1 year\",\"breed\":\"German Shepherd Mix\",\"color\":\"Black/Tan\"}\\n,{\"animal_id\":\"A785672\",\"name\":\"Simba\",\"datetime\":\"2019-02-09T18:20:00.000\",\"monthyear\":\"2019-02-09T18:20:00.000\",\"date_of_birth\":\"2018-02-07T00:00:00.000\",\"outcome_type\":\"Adoption\",\"animal_type\":\"Dog\",\"sex_upon_outcome\":\"Neutered Male\",\"age_upon_outcome\":\"1 year\",\"breed\":\"Boxer Mix\",\"color\":\"Brown/White\"}\\n,{\"animal_id\":\"A871273\",\"name\":\"*Roxie\",\"datetime\":\"2023-03-05T15:22:00.000\",\"monthyear\":\"2023-03-05T15:22:00.000\",\"date_of_birth\":\"2022-02-22T00:00:00.000\",\"outcome_type\":\"Adoption\",\"outcome_subtype\":\"Foster\",\"animal_type\":\"Dog\",\"sex_upon_outcome\":\"Spayed Female\",\"age_upon_outcome\":\"1 year\",\"breed\":\"Rat Terrier Mix\",\"color\":\"Black/White\"}\\n,{\"animal_id\":\"A668128\",\"name\":\"Bonnie\",\"datetime\":\"2013-12-21T18:42:00.000\",\"monthyear\":\"2013-12-21T18:42:00.000\",\"date_of_birth\":\"2011-11-27T00:00:00.000\",\"outcome_type\":\"Adoption\",\"animal_type\":\"Dog\",\"sex_upon_outcome\":\"Spayed Female\",\"age_upon_outcome\":\"2 years\",\"breed\":\"Pit Bull Mix\",\"color\":\"Blue/White\"}\\n,{\"animal_id\":\"A725680\",\"name\":\"Casper\",\"datetime\":\"2016-05-11T15:50:00.000\",\"monthyear\":\"2016-05-11T15:50:00.000\",\"date_of_birth\":\"2015-08-03T00:00:00.000\",\"outcome_type\":\"Return to Owner\",\"animal_type\":\"Dog\",\"sex_upon_outcome\":\"Neutered Male\",\"age_upon_outcome\":\"9 months\",\"breed\":\"Pit Bull Mix\",\"color\":\"White/Tan\"}\\n,{\"animal_id\":\"A725680\",\"name\":\"Casper\",\"datetime\":\"2016-09-01T22:13:00.000\",\"monthyear\":\"2016-09-01T22:13:00.000\",\"date_of_birth\":\"2015-08-03T00:00:00.000\",\"outcome_type\":\"Return to Owner\",\"animal_type\":\"Dog\",\"sex_upon_outcome\":\"Neutered Male\",\"age_upon_outcome\":\"1 year\",\"breed\":\"Pit Bull Mix\",\"color\":\"White/Tan\"}\\n,{\"animal_id\":\"A668325\",\"name\":\"Beau\",\"datetime\":\"2013-12-06T13:55:00.000\",\"monthyear\":\"2013-12-06T13:55:00.000\",\"date_of_birth\":\"2013-08-02T00:00:00.000\",\"outcome_type\":\"Transfer\",\"outcome_subtype\":\"Partner\",\"animal_type\":\"Dog\",\"sex_upon_outcome\":\"Intact Male\",\"age_upon_outcome\":\"4 months\",\"breed\":\"Greyhound\",\"color\":\"Tan/White\"}\\n,{\"animal_id\":\"A813099\",\"datetime\":\"2020-02-08T10:58:00.000\",\"monthyear\":\"2020-02-08T10:58:00.000\",\"date_of_birth\":\"2019-02-04T00:00:00.000\",\"outcome_type\":\"Transfer\",\"outcome_subtype\":\"Snr\",\"animal_type\":\"Cat\",\"sex_upon_outcome\":\"Intact Female\",\"age_upon_outcome\":\"1 year\",\"breed\":\"Domestic Medium Hair\",\"color\":\"Lynx Point\"}\\n,{\"animal_id\":\"A840119\",\"name\":\"*Josie\",\"datetime\":\"2021-08-16T17:38:00.000\",\"monthyear\":\"2021-08-16T17:38:00.000\",\"date_of_birth\":\"2019-08-02T00:00:00.000\",\"outcome_type\":\"Adoption\",\"animal_type\":\"Dog\",\"sex_upon_outcome\":\"Spayed Female\",\"age_upon_outcome\":\"2 years\",\"breed\":\"German Shepherd Mix\",\"color\":\"Black/Brown\"}\\n,{\"animal_id\":\"A692842\",\"name\":\"Caramel\",\"datetime\":\"2014-12-04T12:33:00.000\",\"monthyear\":\"2014-12-04T12:33:00.000\",\"date_of_birth\":\"2014-04-26T00:00:00.000\",\"outcome_type\":\"Transfer\",\"outcome_subtype\":\"Partner\",\"animal_type\":\"Cat\",\"sex_upon_outcome\":\"Spayed Female\",\"age_upon_outcome\":\"7 months\",\"breed\":\"Domestic Shorthair Mix\",\"color\":\"Orange Tabby\"}\\n,{\"animal_id\":\"A817291\",\"name\":\"*Sunny\",\"datetime\":\"2020-08-08T08:43:00.000\",\"monthyear\":\"2020-08-08T08:43:00.000\",\"date_of_birth\":\"2020-04-19T00:00:00.000\",\"outcome_type\":\"Adoption\",\"outcome_subtype\":\"Foster\",\"animal_type\":\"Cat\",\"sex_upon_outcome\":\"Spayed Female\",\"age_upon_outcome\":\"3 months\",\"breed\":\"Domestic Shorthair\",\"color\":\"Brown Tabby\"}\\n,{\"animal_id\":\"A676453\",\"datetime\":\"2014-04-11T12:55:00.000\",\"monthyear\":\"2014-04-11T12:55:00.000\",\"date_of_birth\":\"2013-09-10T00:00:00.000\",\"outcome_type\":\"Transfer\",\"outcome_subtype\":\"SCRP\",\"animal_type\":\"Cat\",\"sex_upon_outcome\":\"Unknown\",\"age_upon_outcome\":\"7 months\",\"breed\":\"Domestic Shorthair Mix\",\"color\":\"Black/White\"}\\n,{\"animal_id\":\"A778049\",\"name\":\"*Davey\",\"datetime\":\"2018-08-18T14:46:00.000\",\"monthyear\":\"2018-08-18T14:46:00.000\",\"date_of_birth\":\"2018-02-07T00:00:00.000\",\"outcome_type\":\"Adoption\",\"animal_type\":\"Cat\",\"sex_upon_outcome\":\"Neutered Male\",\"age_upon_outcome\":\"6 months\",\"breed\":\"Domestic Shorthair Mix\",\"color\":\"Brown Tabby\"}\\n,{\"animal_id\":\"A777801\",\"name\":\"Nino\",\"datetime\":\"2018-08-07T00:00:00.000\",\"monthyear\":\"2018-08-07T00:00:00.000\",\"date_of_birth\":\"2013-08-03T00:00:00.000\",\"outcome_type\":\"Transfer\",\"outcome_subtype\":\"Partner\",\"animal_type\":\"Dog\",\"sex_upon_outcome\":\"Intact Male\",\"age_upon_outcome\":\"5 years\",\"breed\":\"Chihuahua Longhair Mix\",\"color\":\"Brown\"}\\n,{\"animal_id\":\"A840449\",\"datetime\":\"2021-08-08T15:30:00.000\",\"monthyear\":\"2021-08-08T15:30:00.000\",\"date_of_birth\":\"2021-07-25T00:00:00.000\",\"outcome_type\":\"Transfer\",\"outcome_subtype\":\"Partner\",\"animal_type\":\"Cat\",\"sex_upon_outcome\":\"Intact Male\",\"age_upon_outcome\":\"2 weeks\",\"breed\":\"Domestic Shorthair\",\"color\":\"Brown Tabby\"}\\n,{\"animal_id\":\"A700785\",\"datetime\":\"2015-04-19T19:06:00.000\",\"monthyear\":\"2015-04-19T19:06:00.000\",\"date_of_birth\":\"2015-03-28T00:00:00.000\",\"outcome_type\":\"Transfer\",\"outcome_subtype\":\"Partner\",\"animal_type\":\"Cat\",\"sex_upon_outcome\":\"Intact Male\",\"age_upon_outcome\":\"3 weeks\",\"breed\":\"Domestic Shorthair Mix\",\"color\":\"Brown Tabby\"}\\n,{\"animal_id\":\"A808826\",\"name\":\"Coco\",\"datetime\":\"2019-11-18T18:34:00.000\",\"monthyear\":\"2019-11-18T18:34:00.000\",\"date_of_birth\":\"2019-08-14T00:00:00.000\",\"outcome_type\":\"Adoption\",\"animal_type\":\"Dog\",\"sex_upon_outcome\":\"Neutered Male\",\"age_upon_outcome\":\"3 months\",\"breed\":\"Collie Smooth Mix\",\"color\":\"Tricolor\"}\\n,{\"animal_id\":\"A731795\",\"name\":\"Negro\",\"datetime\":\"2016-08-06T21:42:00.000\",\"monthyear\":\"2016-08-06T21:42:00.000\",\"date_of_birth\":\"2015-11-15T00:00:00.000\",\"outcome_type\":\"Return to Owner\",\"animal_type\":\"Dog\",\"sex_upon_outcome\":\"Intact Male\",\"age_upon_outcome\":\"8 months\",\"breed\":\"Doberman Pinsch\",\"color\":\"Black/Tan\"}\\n,{\"animal_id\":\"A705519\",\"name\":\"Sheos\",\"datetime\":\"2015-06-20T14:39:00.000\",\"monthyear\":\"2015-06-20T14:39:00.000\",\"date_of_birth\":\"2014-06-18T00:00:00.000\",\"outcome_type\":\"Return to Owner\",\"animal_type\":\"Dog\",\"sex_upon_outcome\":\"Neutered Male\",\"age_upon_outcome\":\"1 year\",\"breed\":\"German Shepherd/Chow Chow\",\"color\":\"Brown/Tan\"}\\n,{\"animal_id\":\"A823793\",\"datetime\":\"2020-10-23T12:48:00.000\",\"monthyear\":\"2020-10-23T12:48:00.000\",\"date_of_birth\":\"2020-08-04T00:00:00.000\",\"outcome_type\":\"Transfer\",\"outcome_subtype\":\"Partner\",\"animal_type\":\"Cat\",\"sex_upon_outcome\":\"Spayed Female\",\"age_upon_outcome\":\"2 months\",\"breed\":\"Domestic Shorthair\",\"color\":\"Orange Tabby\"}\\n,{\"animal_id\":\"A645112\",\"name\":\"Sherlock\",\"datetime\":\"2016-10-27T15:24:00.000\",\"monthyear\":\"2016-10-27T15:24:00.000\",\"date_of_birth\":\"2003-01-03T00:00:00.000\",\"outcome_type\":\"Transfer\",\"outcome_subtype\":\"Partner\",\"animal_type\":\"Cat\",\"sex_upon_outcome\":\"Neutered Male\",\"age_upon_outcome\":\"13 years\",\"breed\":\"Domestic Shorthair Mix\",\"color\":\"Silver Tabby\"}\\n,{\"animal_id\":\"A843687\",\"name\":\"A843687\",\"datetime\":\"2021-10-12T17:49:00.000\",\"monthyear\":\"2021-10-12T17:49:00.000\",\"date_of_birth\":\"2021-07-05T00:00:00.000\",\"outcome_type\":\"Adoption\",\"animal_type\":\"Cat\",\"sex_upon_outcome\":\"Neutered Male\",\"age_upon_outcome\":\"3 months\",\"breed\":\"Domestic Shorthair\",\"color\":\"Gray Tabby\"}\\n,{\"animal_id\":\"A715038\",\"name\":\"*Melvin\",\"datetime\":\"2015-11-09T12:38:00.000\",\"monthyear\":\"2015-11-09T12:38:00.000\",\"date_of_birth\":\"2008-10-31T00:00:00.000\",\"outcome_type\":\"Transfer\",\"outcome_subtype\":\"Partner\",\"animal_type\":\"Dog\",\"sex_upon_outcome\":\"Intact Male\",\"age_upon_outcome\":\"7 years\",\"breed\":\"Rat Terrier Mix\",\"color\":\"White/Black\"}\\n,{\"animal_id\":\"A805358\",\"name\":\"Ashanti\",\"datetime\":\"2019-09-27T17:44:00.000\",\"monthyear\":\"2019-09-27T17:44:00.000\",\"date_of_birth\":\"2019-07-10T00:00:00.000\",\"outcome_type\":\"Adoption\",\"animal_type\":\"Cat\",\"sex_upon_outcome\":\"Spayed Female\",\"age_upon_outcome\":\"2 months\",\"breed\":\"Domestic Shorthair\",\"color\":\"Calico\"}\\n,{\"animal_id\":\"A489503\",\"name\":\"Dezi\",\"datetime\":\"2014-09-21T16:26:00.000\",\"monthyear\":\"2014-09-21T16:26:00.000\",\"date_of_birth\":\"2007-05-15T00:00:00.000\",\"outcome_type\":\"Euthanasia\",\"outcome_subtype\":\"Suffering\",\"animal_type\":\"Cat\",\"sex_upon_outcome\":\"Spayed Female\",\"age_upon_outcome\":\"7 years\",\"breed\":\"Domestic Shorthair Mix\",\"color\":\"White/Brown Tabby\"}\\n,{\"animal_id\":\"A782959\",\"datetime\":\"2018-10-24T15:26:00.000\",\"monthyear\":\"2018-10-24T15:26:00.000\",\"date_of_birth\":\"2006-10-23T00:00:00.000\",\"outcome_type\":\"Transfer\",\"outcome_subtype\":\"Partner\",\"animal_type\":\"Dog\",\"sex_upon_outcome\":\"Intact Female\",\"age_upon_outcome\":\"12 years\",\"breed\":\"Chihuahua Shorthair Mix\",\"color\":\"White/Tan\"}\\n,{\"animal_id\":\"A819251\",\"datetime\":\"2020-08-04T14:42:00.000\",\"monthyear\":\"2020-08-04T14:42:00.000\",\"date_of_birth\":\"2020-04-28T00:00:00.000\",\"outcome_type\":\"Adoption\",\"outcome_subtype\":\"Foster\",\"animal_type\":\"Cat\",\"sex_upon_outcome\":\"Spayed Female\",\"age_upon_outcome\":\"3 months\",\"breed\":\"Domestic Longhair Mix\",\"color\":\"Torbie\"}\\n,{\"animal_id\":\"A732077\",\"datetime\":\"2016-08-01T22:25:00.000\",\"monthyear\":\"2016-08-01T22:25:00.000\",\"date_of_birth\":\"2016-07-15T00:00:00.000\",\"outcome_type\":\"Transfer\",\"outcome_subtype\":\"Partner\",\"animal_type\":\"Cat\",\"sex_upon_outcome\":\"Intact Male\",\"age_upon_outcome\":\"2 weeks\",\"breed\":\"Domestic Shorthair Mix\",\"color\":\"Orange Tabby\"}\\n,{\"animal_id\":\"A715052\",\"name\":\"Freddie\",\"datetime\":\"2015-11-14T14:40:00.000\",\"monthyear\":\"2015-11-14T14:40:00.000\",\"date_of_birth\":\"2013-10-30T00:00:00.000\",\"outcome_type\":\"Return to Owner\",\"animal_type\":\"Dog\",\"sex_upon_outcome\":\"Neutered Male\",\"age_upon_outcome\":\"2 years\",\"breed\":\"Chihuahua Shorthair Mix\",\"color\":\"Tan/White\"}\\n,{\"animal_id\":\"A791765\",\"datetime\":\"2019-06-22T08:38:00.000\",\"monthyear\":\"2019-06-22T08:38:00.000\",\"date_of_birth\":\"2019-03-30T00:00:00.000\",\"outcome_type\":\"Adoption\",\"outcome_subtype\":\"Foster\",\"animal_type\":\"Cat\",\"sex_upon_outcome\":\"Neutered Male\",\"age_upon_outcome\":\"2 months\",\"breed\":\"Domestic Shorthair Mix\",\"color\":\"Orange Tabby\"}\\n,{\"animal_id\":\"A740494\",\"datetime\":\"2016-12-18T12:34:00.000\",\"monthyear\":\"2016-12-18T12:34:00.000\",\"date_of_birth\":\"2016-12-12T00:00:00.000\",\"outcome_type\":\"Transfer\",\"outcome_subtype\":\"Partner\",\"animal_type\":\"Dog\",\"sex_upon_outcome\":\"Intact Male\",\"age_upon_outcome\":\"6 days\",\"breed\":\"Labrador Retriever/Pit Bull\",\"color\":\"Brown Brindle\"}\\n,{\"animal_id\":\"A794072\",\"datetime\":\"2019-05-03T17:18:00.000\",\"monthyear\":\"2019-05-03T17:18:00.000\",\"date_of_birth\":\"2019-05-02T00:00:00.000\",\"outcome_type\":\"Transfer\",\"outcome_subtype\":\"Partner\",\"animal_type\":\"Cat\",\"sex_upon_outcome\":\"Unknown\",\"age_upon_outcome\":\"1 day\",\"breed\":\"Domestic Shorthair Mix\",\"color\":\"Black\"}\\n,{\"animal_id\":\"A818535\",\"datetime\":\"2020-06-11T00:00:00.000\",\"monthyear\":\"2020-06-11T00:00:00.000\",\"date_of_birth\":\"2008-06-10T00:00:00.000\",\"outcome_type\":\"Transfer\",\"outcome_subtype\":\"Partner\",\"animal_type\":\"Cat\",\"sex_upon_outcome\":\"Intact Male\",\"age_upon_outcome\":\"12 years\",\"breed\":\"Domestic Shorthair\",\"color\":\"Black/White\"}\\n,{\"animal_id\":\"A671944\",\"datetime\":\"2014-02-01T16:12:00.000\",\"monthyear\":\"2014-02-01T16:12:00.000\",\"date_of_birth\":\"2013-09-01T00:00:00.000\",\"outcome_type\":\"Euthanasia\",\"outcome_subtype\":\"Suffering\",\"animal_type\":\"Cat\",\"sex_upon_outcome\":\"Intact Female\",\"age_upon_outcome\":\"5 months\",\"breed\":\"Domestic Shorthair Mix\",\"color\":\"Brown Tabby\"}\\n,{\"animal_id\":\"A790748\",\"name\":\"Buzz\",\"datetime\":\"2020-05-08T10:43:00.000\",\"monthyear\":\"2020-05-08T10:43:00.000\",\"date_of_birth\":\"2018-03-15T00:00:00.000\",\"outcome_type\":\"Adoption\",\"outcome_subtype\":\"Foster\",\"animal_type\":\"Dog\",\"sex_upon_outcome\":\"Neutered Male\",\"age_upon_outcome\":\"2 years\",\"breed\":\"Labrador Retriever Mix\",\"color\":\"Black\"}\\n,{\"animal_id\":\"A824403\",\"datetime\":\"2020-10-15T16:37:00.000\",\"monthyear\":\"2020-10-15T16:37:00.000\",\"date_of_birth\":\"2019-10-13T00:00:00.000\",\"outcome_type\":\"Transfer\",\"outcome_subtype\":\"Snr\",\"animal_type\":\"Cat\",\"sex_upon_outcome\":\"Spayed Female\",\"age_upon_outcome\":\"1 year\",\"breed\":\"Domestic Shorthair\",\"color\":\"Orange Tabby\"}\\n,{\"animal_id\":\"A769788\",\"datetime\":\"2018-04-15T18:21:00.000\",\"monthyear\":\"2018-04-15T18:21:00.000\",\"date_of_birth\":\"2016-09-10T00:00:00.000\",\"outcome_type\":\"Adoption\",\"animal_type\":\"Dog\",\"sex_upon_outcome\":\"Neutered Male\",\"age_upon_outcome\":\"1 year\",\"breed\":\"Norfolk Terrier Mix\",\"color\":\"Black/Brown\"}\\n,{\"animal_id\":\"A709539\",\"name\":\"Athena\",\"datetime\":\"2015-09-08T17:54:00.000\",\"monthyear\":\"2015-09-08T17:54:00.000\",\"date_of_birth\":\"2011-08-10T00:00:00.000\",\"outcome_type\":\"Adoption\",\"animal_type\":\"Dog\",\"sex_upon_outcome\":\"Spayed Female\",\"age_upon_outcome\":\"4 years\",\"breed\":\"Rottweiler\",\"color\":\"Tricolor\"}\\n,{\"animal_id\":\"A799938\",\"datetime\":\"2019-08-13T12:57:00.000\",\"monthyear\":\"2019-08-13T12:57:00.000\",\"date_of_birth\":\"2019-06-14T00:00:00.000\",\"outcome_type\":\"Transfer\",\"outcome_subtype\":\"Partner\",\"animal_type\":\"Cat\",\"sex_upon_outcome\":\"Intact Male\",\"age_upon_outcome\":\"1 month\",\"breed\":\"Domestic Shorthair\",\"color\":\"Blue/White\"}\\n,{\"animal_id\":\"A844188\",\"name\":\"*Dakota\",\"datetime\":\"2021-11-01T13:10:00.000\",\"monthyear\":\"2021-11-01T13:10:00.000\",\"date_of_birth\":\"2018-10-13T00:00:00.000\",\"outcome_type\":\"Transfer\",\"outcome_subtype\":\"Out State\",\"animal_type\":\"Dog\",\"sex_upon_outcome\":\"Intact Female\",\"age_upon_outcome\":\"3 years\",\"breed\":\"German Shepherd Mix\",\"color\":\"Tan/Black\"}\\n,{\"animal_id\":\"A668592\",\"datetime\":\"2013-12-09T12:48:00.000\",\"monthyear\":\"2013-12-09T12:48:00.000\",\"date_of_birth\":\"2011-12-05T00:00:00.000\",\"outcome_type\":\"Transfer\",\"outcome_subtype\":\"Partner\",\"animal_type\":\"Dog\",\"sex_upon_outcome\":\"Intact Female\",\"age_upon_outcome\":\"2 years\",\"breed\":\"Chihuahua Shorthair Mix\",\"color\":\"Brown/White\"}\\n,{\"animal_id\":\"A779590\",\"datetime\":\"2018-09-08T16:46:00.000\",\"monthyear\":\"2018-09-08T16:46:00.000\",\"date_of_birth\":\"2018-02-03T00:00:00.000\",\"outcome_type\":\"Adoption\",\"animal_type\":\"Dog\",\"sex_upon_outcome\":\"Neutered Male\",\"age_upon_outcome\":\"7 months\",\"breed\":\"Cardigan Welsh Corgi/Chihuahua Shorthair\",\"color\":\"White/Red\"}\\n,{\"animal_id\":\"A747629\",\"datetime\":\"2017-04-26T18:22:00.000\",\"monthyear\":\"2017-04-26T18:22:00.000\",\"date_of_birth\":\"2016-04-22T00:00:00.000\",\"outcome_type\":\"Adoption\",\"animal_type\":\"Dog\",\"sex_upon_outcome\":\"Spayed Female\",\"age_upon_outcome\":\"1 year\",\"breed\":\"Chihuahua Shorthair Mix\",\"color\":\"Cream\"}\\n,{\"animal_id\":\"A750906\",\"name\":\"Keena\",\"datetime\":\"2017-06-08T17:19:00.000\",\"monthyear\":\"2017-06-08T17:19:00.000\",\"date_of_birth\":\"2009-06-06T00:00:00.000\",\"outcome_type\":\"Return to Owner\",\"animal_type\":\"Dog\",\"sex_upon_outcome\":\"Spayed Female\",\"age_upon_outcome\":\"8 years\",\"breed\":\"Pit Bull Mix\",\"color\":\"Brown\"}\\n,{\"animal_id\":\"A665156\",\"name\":\"Baby Elic\",\"datetime\":\"2013-10-19T17:07:00.000\",\"monthyear\":\"2013-10-19T17:07:00.000\",\"date_of_birth\":\"2012-12-14T00:00:00.000\",\"outcome_type\":\"Adoption\",\"animal_type\":\"Dog\",\"sex_upon_outcome\":\"Spayed Female\",\"age_upon_outcome\":\"10 months\",\"breed\":\"Border Collie Mix\",\"color\":\"White/Black\"}\\n,{\"animal_id\":\"A721715\",\"name\":\"Shadow\",\"datetime\":\"2016-03-13T19:11:00.000\",\"monthyear\":\"2016-03-13T19:11:00.000\",\"date_of_birth\":\"2015-03-02T00:00:00.000\",\"outcome_type\":\"Adoption\",\"animal_type\":\"Dog\",\"sex_upon_outcome\":\"Neutered Male\",\"age_upon_outcome\":\"1 year\",\"breed\":\"German Shepherd Mix\",\"color\":\"Sable\"}\\n,{\"animal_id\":\"A677835\",\"name\":\"*Suzette\",\"datetime\":\"2014-07-12T11:41:00.000\",\"monthyear\":\"2014-07-12T11:41:00.000\",\"date_of_birth\":\"2013-04-29T00:00:00.000\",\"outcome_type\":\"Adoption\",\"outcome_subtype\":\"Foster\",\"animal_type\":\"Cat\",\"sex_upon_outcome\":\"Spayed Female\",\"age_upon_outcome\":\"1 year\",\"breed\":\"Domestic Shorthair Mix\",\"color\":\"Torbie\"}\\n,{\"animal_id\":\"A732207\",\"datetime\":\"2016-08-05T09:00:00.000\",\"monthyear\":\"2016-08-05T09:00:00.000\",\"date_of_birth\":\"2016-05-04T00:00:00.000\",\"outcome_type\":\"Transfer\",\"outcome_subtype\":\"SCRP\",\"animal_type\":\"Cat\",\"sex_upon_outcome\":\"Intact Male\",\"age_upon_outcome\":\"3 months\",\"breed\":\"Domestic Shorthair Mix\",\"color\":\"Brown Tabby\"}\\n,{\"animal_id\":\"A800416\",\"name\":\"*Pup\",\"datetime\":\"2019-08-06T13:41:00.000\",\"monthyear\":\"2019-08-06T13:41:00.000\",\"date_of_birth\":\"2019-01-20T00:00:00.000\",\"outcome_type\":\"Adoption\",\"animal_type\":\"Dog\",\"sex_upon_outcome\":\"Neutered Male\",\"age_upon_outcome\":\"6 months\",\"breed\":\"Labrador Retriever/Pit Bull\",\"color\":\"Red/White\"}\\n,{\"animal_id\":\"A749460\",\"name\":\"*Sweetheart\",\"datetime\":\"2017-07-17T16:35:00.000\",\"monthyear\":\"2017-07-17T16:35:00.000\",\"date_of_birth\":\"2015-11-15T00:00:00.000\",\"outcome_type\":\"Adoption\",\"animal_type\":\"Cat\",\"sex_upon_outcome\":\"Spayed Female\",\"age_upon_outcome\":\"1 year\",\"breed\":\"Domestic Medium Hair Mix\",\"color\":\"Blue/White\"}\\n,{\"animal_id\":\"A694967\",\"name\":\"Jewels\",\"datetime\":\"2019-08-09T12:12:00.000\",\"monthyear\":\"2019-08-09T12:12:00.000\",\"date_of_birth\":\"2011-01-07T00:00:00.000\",\"outcome_type\":\"Return to Owner\",\"animal_type\":\"Dog\",\"sex_upon_outcome\":\"Spayed Female\",\"age_upon_outcome\":\"8 years\",\"breed\":\"Siberian Husky Mix\",\"color\":\"Sable/Cream\"}\\n,{\"animal_id\":\"A768874\",\"datetime\":\"2018-04-03T14:30:00.000\",\"monthyear\":\"2018-04-03T14:30:00.000\",\"date_of_birth\":\"2015-03-26T00:00:00.000\",\"outcome_type\":\"Transfer\",\"outcome_subtype\":\"Partner\",\"animal_type\":\"Dog\",\"sex_upon_outcome\":\"Spayed Female\",\"age_upon_outcome\":\"3 years\",\"breed\":\"Border Collie/Australian Cattle Dog\",\"color\":\"Brown/White\"}\\n,{\"animal_id\":\"A817618\",\"name\":\"Pepper\",\"datetime\":\"2020-06-24T10:19:00.000\",\"monthyear\":\"2020-06-24T10:19:00.000\",\"date_of_birth\":\"2020-04-13T00:00:00.000\",\"outcome_type\":\"Adoption\",\"outcome_subtype\":\"Foster\",\"animal_type\":\"Cat\",\"sex_upon_outcome\":\"Spayed Female\",\"age_upon_outcome\":\"2 months\",\"breed\":\"Domestic Shorthair\",\"color\":\"Blue/White\"}\\n,{\"animal_id\":\"A782816\",\"name\":\"Prudence\",\"datetime\":\"2018-10-21T18:33:00.000\",\"monthyear\":\"2018-10-21T18:33:00.000\",\"date_of_birth\":\"2014-03-21T00:00:00.000\",\"outcome_type\":\"Transfer\",\"outcome_subtype\":\"Partner\",\"animal_type\":\"Dog\",\"sex_upon_outcome\":\"Intact Female\",\"age_upon_outcome\":\"4 years\",\"breed\":\"Boxer Mix\",\"color\":\"Brown/White\"}\\n,{\"animal_id\":\"A680131\",\"name\":\"Beaux\",\"datetime\":\"2014-05-30T14:32:00.000\",\"monthyear\":\"2014-05-30T14:32:00.000\",\"date_of_birth\":\"2010-05-30T00:00:00.000\",\"outcome_type\":\"Return to Owner\",\"animal_type\":\"Dog\",\"sex_upon_outcome\":\"Neutered Male\",\"age_upon_outcome\":\"4 years\",\"breed\":\"Labrador Retriever Mix\",\"color\":\"Black\"}\\n,{\"animal_id\":\"A765867\",\"datetime\":\"2018-01-29T09:45:00.000\",\"monthyear\":\"2018-01-29T09:45:00.000\",\"date_of_birth\":\"2016-01-28T00:00:00.000\",\"outcome_type\":\"Euthanasia\",\"outcome_subtype\":\"Rabies Risk\",\"animal_type\":\"Other\",\"sex_upon_outcome\":\"Unknown\",\"age_upon_outcome\":\"2 years\",\"breed\":\"Bat Mix\",\"color\":\"Black\"}\\n,{\"animal_id\":\"A756321\",\"name\":\"*Cardamom\",\"datetime\":\"2017-08-25T16:54:00.000\",\"monthyear\":\"2017-08-25T16:54:00.000\",\"date_of_birth\":\"2014-08-17T00:00:00.000\",\"outcome_type\":\"Adoption\",\"animal_type\":\"Dog\",\"sex_upon_outcome\":\"Spayed Female\",\"age_upon_outcome\":\"3 years\",\"breed\":\"Labrador Retriever Mix\",\"color\":\"Brown\"}\\n,{\"animal_id\":\"A738283\",\"name\":\"Arwen\",\"datetime\":\"2016-11-20T19:12:00.000\",\"monthyear\":\"2016-11-20T19:12:00.000\",\"date_of_birth\":\"2015-11-12T00:00:00.000\",\"outcome_type\":\"Return to Owner\",\"animal_type\":\"Dog\",\"sex_upon_outcome\":\"Spayed Female\",\"age_upon_outcome\":\"1 year\",\"breed\":\"Pit Bull Mix\",\"color\":\"Black Brindle/White\"}\\n,{\"animal_id\":\"A748827\",\"datetime\":\"2017-05-08T09:29:00.000\",\"monthyear\":\"2017-05-08T09:29:00.000\",\"date_of_birth\":\"2017-05-01T00:00:00.000\",\"outcome_type\":\"Transfer\",\"outcome_subtype\":\"Partner\",\"animal_type\":\"Cat\",\"sex_upon_outcome\":\"Unknown\",\"age_upon_outcome\":\"1 week\",\"breed\":\"Domestic Shorthair Mix\",\"color\":\"Brown Tabby/White\"}\\n,{\"animal_id\":\"A691180\",\"name\":\"*Samson\",\"datetime\":\"2014-11-09T14:36:00.000\",\"monthyear\":\"2014-11-09T14:36:00.000\",\"date_of_birth\":\"2010-10-31T00:00:00.000\",\"outcome_type\":\"Transfer\",\"outcome_subtype\":\"Partner\",\"animal_type\":\"Dog\",\"sex_upon_outcome\":\"Intact Male\",\"age_upon_outcome\":\"4 years\",\"breed\":\"Pit Bull Mix\",\"color\":\"Black/White\"}\\n,{\"animal_id\":\"A702260\",\"name\":\"Bella\",\"datetime\":\"2015-05-12T17:51:00.000\",\"monthyear\":\"2015-05-12T17:51:00.000\",\"date_of_birth\":\"2011-05-11T00:00:00.000\",\"outcome_type\":\"Transfer\",\"outcome_subtype\":\"Partner\",\"animal_type\":\"Other\",\"sex_upon_outcome\":\"Intact Female\",\"age_upon_outcome\":\"4 years\",\"breed\":\"Guinea Pig Mix\",\"color\":\"Brown/Orange\"}\\n,{\"animal_id\":\"A707152\",\"datetime\":\"2015-07-09T13:26:00.000\",\"monthyear\":\"2015-07-09T13:26:00.000\",\"date_of_birth\":\"2014-07-08T00:00:00.000\",\"outcome_type\":\"Transfer\",\"outcome_subtype\":\"Partner\",\"animal_type\":\"Other\",\"sex_upon_outcome\":\"Unknown\",\"age_upon_outcome\":\"1 year\",\"breed\":\"Rabbit Sh Mix\",\"color\":\"Black\"}\\n,{\"animal_id\":\"A685214\",\"name\":\"Truffles\",\"datetime\":\"2014-08-26T17:22:00.000\",\"monthyear\":\"2014-08-26T17:22:00.000\",\"date_of_birth\":\"2014-06-27T00:00:00.000\",\"outcome_type\":\"Adoption\",\"animal_type\":\"Cat\",\"sex_upon_outcome\":\"Spayed Female\",\"age_upon_outcome\":\"1 month\",\"breed\":\"Domestic Medium Hair Mix\",\"color\":\"Calico\"}\\n,{\"animal_id\":\"A664941\",\"name\":\"Tequila\",\"datetime\":\"2017-05-29T16:04:00.000\",\"monthyear\":\"2017-05-29T16:04:00.000\",\"date_of_birth\":\"2009-10-11T00:00:00.000\",\"outcome_type\":\"Adoption\",\"animal_type\":\"Dog\",\"sex_upon_outcome\":\"Spayed Female\",\"age_upon_outcome\":\"7 years\",\"breed\":\"Pit Bull Mix\",\"color\":\"Red/White\"}\\n,{\"animal_id\":\"A785924\",\"name\":\"*Peaches\",\"datetime\":\"2019-01-29T12:06:00.000\",\"monthyear\":\"2019-01-29T12:06:00.000\",\"date_of_birth\":\"2017-12-12T00:00:00.000\",\"outcome_type\":\"Transfer\",\"outcome_subtype\":\"Partner\",\"animal_type\":\"Dog\",\"sex_upon_outcome\":\"Intact Female\",\"age_upon_outcome\":\"1 year\",\"breed\":\"Pit Bull Mix\",\"color\":\"Fawn/White\"}\\n,{\"animal_id\":\"A678968\",\"datetime\":\"2014-05-14T17:11:00.000\",\"monthyear\":\"2014-05-14T17:11:00.000\",\"date_of_birth\":\"2014-05-05T00:00:00.000\",\"outcome_type\":\"Transfer\",\"outcome_subtype\":\"Partner\",\"animal_type\":\"Cat\",\"sex_upon_outcome\":\"Intact Female\",\"age_upon_outcome\":\"1 weeks\",\"breed\":\"Domestic Shorthair Mix\",\"color\":\"Black\"}\\n,{\"animal_id\":\"A745937\",\"datetime\":\"2017-03-26T17:37:00.000\",\"monthyear\":\"2017-03-26T17:37:00.000\",\"date_of_birth\":\"2015-03-26T00:00:00.000\",\"outcome_type\":\"Died\",\"outcome_subtype\":\"In Kennel\",\"animal_type\":\"Dog\",\"sex_upon_outcome\":\"Intact Female\",\"age_upon_outcome\":\"2 years\",\"breed\":\"Miniature Poodle Mix\",\"color\":\"White\"}\\n,{\"animal_id\":\"A755439\",\"name\":\"*Jasper\",\"datetime\":\"2017-09-15T15:14:00.000\",\"monthyear\":\"2017-09-15T15:14:00.000\",\"date_of_birth\":\"2017-07-21T00:00:00.000\",\"outcome_type\":\"Adoption\",\"outcome_subtype\":\"Foster\",\"animal_type\":\"Cat\",\"sex_upon_outcome\":\"Neutered Male\",\"age_upon_outcome\":\"1 month\",\"breed\":\"Domestic Shorthair Mix\",\"color\":\"Brown Tabby/White\"}\\n,{\"animal_id\":\"A868739\",\"name\":\"*Neve\",\"datetime\":\"2023-03-05T15:14:00.000\",\"monthyear\":\"2023-03-05T15:14:00.000\",\"date_of_birth\":\"2022-11-07T00:00:00.000\",\"outcome_type\":\"Adoption\",\"outcome_subtype\":\"Foster\",\"animal_type\":\"Cat\",\"sex_upon_outcome\":\"Spayed Female\",\"age_upon_outcome\":\"3 months\",\"breed\":\"Siamese Mix\",\"color\":\"Seal Point\"}\\n,{\"animal_id\":\"A793848\",\"name\":\"Deanna\",\"datetime\":\"2019-05-02T18:02:00.000\",\"monthyear\":\"2019-05-02T18:02:00.000\",\"date_of_birth\":\"2017-05-01T00:00:00.000\",\"outcome_type\":\"Return to Owner\",\"animal_type\":\"Dog\",\"sex_upon_outcome\":\"Intact Female\",\"age_upon_outcome\":\"2 years\",\"breed\":\"Chow Chow Mix\",\"color\":\"Brown\"}\\n,{\"animal_id\":\"A777109\",\"name\":\"Bacon\",\"datetime\":\"2018-08-18T09:19:00.000\",\"monthyear\":\"2018-08-18T09:19:00.000\",\"date_of_birth\":\"2017-06-23T00:00:00.000\",\"outcome_type\":\"Adoption\",\"animal_type\":\"Cat\",\"sex_upon_outcome\":\"Neutered Male\",\"age_upon_outcome\":\"1 year\",\"breed\":\"Domestic Shorthair Mix\",\"color\":\"Brown Tabby\"}\\n,{\"animal_id\":\"A707788\",\"name\":\"*Max\",\"datetime\":\"2015-08-23T16:29:00.000\",\"monthyear\":\"2015-08-23T16:29:00.000\",\"date_of_birth\":\"2014-11-21T00:00:00.000\",\"outcome_type\":\"Adoption\",\"animal_type\":\"Dog\",\"sex_upon_outcome\":\"Neutered Male\",\"age_upon_outcome\":\"9 months\",\"breed\":\"Labrador Retriever Mix\",\"color\":\"Red/White\"}\\n,{\"animal_id\":\"A738454\",\"datetime\":\"2016-11-15T14:33:00.000\",\"monthyear\":\"2016-11-15T14:33:00.000\",\"date_of_birth\":\"2014-11-15T00:00:00.000\",\"outcome_type\":\"Euthanasia\",\"outcome_subtype\":\"Rabies Risk\",\"animal_type\":\"Other\",\"sex_upon_outcome\":\"Unknown\",\"age_upon_outcome\":\"2 years\",\"breed\":\"Raccoon Mix\",\"color\":\"Gray/Black\"}\\n,{\"animal_id\":\"A800873\",\"datetime\":\"2019-08-06T07:58:00.000\",\"monthyear\":\"2019-08-06T07:58:00.000\",\"date_of_birth\":\"2019-05-28T00:00:00.000\",\"outcome_type\":\"Transfer\",\"outcome_subtype\":\"Partner\",\"animal_type\":\"Cat\",\"sex_upon_outcome\":\"Spayed Female\",\"age_upon_outcome\":\"2 months\",\"breed\":\"Domestic Shorthair\",\"color\":\"White/Brown Tabby\"}\\n,{\"animal_id\":\"A871848\",\"name\":\"*Snow\",\"datetime\":\"2023-03-05T15:42:00.000\",\"monthyear\":\"2023-03-05T15:42:00.000\",\"date_of_birth\":\"2022-12-30T00:00:00.000\",\"outcome_type\":\"Adoption\",\"outcome_subtype\":\"Foster\",\"animal_type\":\"Dog\",\"sex_upon_outcome\":\"Neutered Male\",\"age_upon_outcome\":\"2 months\",\"breed\":\"Rat Terrier Mix\",\"color\":\"Tan/Cream\"}\\n,{\"animal_id\":\"A794777\",\"name\":\"Rajah\",\"datetime\":\"2021-08-22T14:47:00.000\",\"monthyear\":\"2021-08-22T14:47:00.000\",\"date_of_birth\":\"2017-05-12T00:00:00.000\",\"outcome_type\":\"Transfer\",\"outcome_subtype\":\"Partner\",\"animal_type\":\"Dog\",\"sex_upon_outcome\":\"Neutered Male\",\"age_upon_outcome\":\"4 years\",\"breed\":\"Australian Kelpie Mix\",\"color\":\"Black Brindle\"}\\n,{\"animal_id\":\"A734403\",\"name\":\"Jorgie\",\"datetime\":\"2016-10-22T12:31:00.000\",\"monthyear\":\"2016-10-22T12:31:00.000\",\"date_of_birth\":\"2016-08-12T00:00:00.000\",\"outcome_type\":\"Adoption\",\"animal_type\":\"Cat\",\"sex_upon_outcome\":\"Intact Male\",\"age_upon_outcome\":\"2 months\",\"breed\":\"Domestic Shorthair Mix\",\"color\":\"Blue Tabby/White\"}\\n,{\"animal_id\":\"A687373\",\"name\":\"Bueller\",\"datetime\":\"2014-09-06T18:35:00.000\",\"monthyear\":\"2014-09-06T18:35:00.000\",\"date_of_birth\":\"2010-09-04T00:00:00.000\",\"outcome_type\":\"Adoption\",\"animal_type\":\"Dog\",\"sex_upon_outcome\":\"Neutered Male\",\"age_upon_outcome\":\"4 years\",\"breed\":\"Chihuahua Shorthair Mix\",\"color\":\"Brown/Black\"}\\n,{\"animal_id\":\"A874655\",\"name\":\"Princess\",\"datetime\":\"2023-03-05T15:03:00.000\",\"monthyear\":\"2023-03-05T15:03:00.000\",\"date_of_birth\":\"2021-02-15T00:00:00.000\",\"outcome_type\":\"Adoption\",\"animal_type\":\"Cat\",\"sex_upon_outcome\":\"Spayed Female\",\"age_upon_outcome\":\"2 years\",\"breed\":\"Domestic Shorthair\",\"color\":\"Calico\"}\\n,{\"animal_id\":\"A720124\",\"datetime\":\"2016-04-04T17:48:00.000\",\"monthyear\":\"2016-04-04T17:48:00.000\",\"date_of_birth\":\"2016-01-31T00:00:00.000\",\"outcome_type\":\"Adoption\",\"outcome_subtype\":\"Foster\",\"animal_type\":\"Dog\",\"sex_upon_outcome\":\"Neutered Male\",\"age_upon_outcome\":\"2 months\",\"breed\":\"Australian Cattle Dog\",\"color\":\"Black/White\"}\\n,{\"animal_id\":\"A778716\",\"name\":\"Anastasia\",\"datetime\":\"2018-11-24T18:55:00.000\",\"monthyear\":\"2018-11-24T18:55:00.000\",\"date_of_birth\":\"2018-07-17T00:00:00.000\",\"outcome_type\":\"Adoption\",\"animal_type\":\"Cat\",\"sex_upon_outcome\":\"Spayed Female\",\"age_upon_outcome\":\"4 months\",\"breed\":\"Domestic Shorthair Mix\",\"color\":\"Brown Tabby\"}\\n,{\"animal_id\":\"A785679\",\"datetime\":\"2018-12-11T18:15:00.000\",\"monthyear\":\"2018-12-11T18:15:00.000\",\"date_of_birth\":\"2018-09-15T00:00:00.000\",\"outcome_type\":\"Adoption\",\"animal_type\":\"Dog\",\"sex_upon_outcome\":\"Neutered Male\",\"age_upon_outcome\":\"2 months\",\"breed\":\"Border Terrier Mix\",\"color\":\"White\"}\\n,{\"animal_id\":\"A700469\",\"name\":\"King\",\"datetime\":\"2015-04-21T17:52:00.000\",\"monthyear\":\"2015-04-21T17:52:00.000\",\"date_of_birth\":\"2013-04-14T00:00:00.000\",\"outcome_type\":\"Return to Owner\",\"animal_type\":\"Dog\",\"sex_upon_outcome\":\"Intact Male\",\"age_upon_outcome\":\"2 years\",\"breed\":\"American Staffordshire Terrier Mix\",\"color\":\"Blue/White\"}\\n,{\"animal_id\":\"A803559\",\"name\":\"*Lima Bean\",\"datetime\":\"2020-01-02T12:13:00.000\",\"monthyear\":\"2020-01-02T12:13:00.000\",\"date_of_birth\":\"2011-09-03T00:00:00.000\",\"outcome_type\":\"Adoption\",\"outcome_subtype\":\"Foster\",\"animal_type\":\"Dog\",\"sex_upon_outcome\":\"Spayed Female\",\"age_upon_outcome\":\"8 years\",\"breed\":\"Labrador Retriever/Border Collie\",\"color\":\"Black/White\"}\\n,{\"animal_id\":\"A740606\",\"name\":\"Gachupin\",\"datetime\":\"2016-12-20T15:35:00.000\",\"monthyear\":\"2016-12-20T15:35:00.000\",\"date_of_birth\":\"2016-04-20T00:00:00.000\",\"outcome_type\":\"Died\",\"outcome_subtype\":\"In Kennel\",\"animal_type\":\"Dog\",\"sex_upon_outcome\":\"Intact Male\",\"age_upon_outcome\":\"8 months\",\"breed\":\"Chihuahua Shorthair Mix\",\"color\":\"Red/White\"}\\n,{\"animal_id\":\"A682183\",\"name\":\"Roger Roger\",\"datetime\":\"2015-04-13T16:01:00.000\",\"monthyear\":\"2015-04-13T16:01:00.000\",\"date_of_birth\":\"2012-06-25T00:00:00.000\",\"outcome_type\":\"Transfer\",\"outcome_subtype\":\"Partner\",\"animal_type\":\"Dog\",\"sex_upon_outcome\":\"Neutered Male\",\"age_upon_outcome\":\"2 years\",\"breed\":\"Pit Bull Mix\",\"color\":\"Blue/White\"}\\n,{\"animal_id\":\"A678485\",\"name\":\"Money\",\"datetime\":\"2014-05-09T16:16:00.000\",\"monthyear\":\"2014-05-09T16:16:00.000\",\"date_of_birth\":\"2000-05-09T00:00:00.000\",\"outcome_type\":\"Euthanasia\",\"outcome_subtype\":\"Suffering\",\"animal_type\":\"Dog\",\"sex_upon_outcome\":\"Intact Male\",\"age_upon_outcome\":\"14 years\",\"breed\":\"Pit Bull Mix\",\"color\":\"Brown Brindle\"}\\n,{\"animal_id\":\"A697245\",\"name\":\"Toto\",\"datetime\":\"2015-02-20T19:10:00.000\",\"monthyear\":\"2015-02-20T19:10:00.000\",\"date_of_birth\":\"2012-02-20T00:00:00.000\",\"outcome_type\":\"Return to Owner\",\"animal_type\":\"Dog\",\"sex_upon_outcome\":\"Intact Male\",\"age_upon_outcome\":\"3 years\",\"breed\":\"Miniature Poodle/Bichon Frise\",\"color\":\"White/White\"}\\n,{\"animal_id\":\"A742676\",\"name\":\"Gorda\",\"datetime\":\"2017-02-05T15:59:00.000\",\"monthyear\":\"2017-02-05T15:59:00.000\",\"date_of_birth\":\"2016-01-31T00:00:00.000\",\"outcome_type\":\"Return to Owner\",\"animal_type\":\"Dog\",\"sex_upon_outcome\":\"Spayed Female\",\"age_upon_outcome\":\"1 year\",\"breed\":\"Basset Hound Mix\",\"color\":\"White/Tan\"}\\n,{\"animal_id\":\"A806621\",\"name\":\"*Boo\",\"datetime\":\"2019-10-22T15:17:00.000\",\"monthyear\":\"2019-10-22T15:17:00.000\",\"date_of_birth\":\"2019-07-13T00:00:00.000\",\"outcome_type\":\"Transfer\",\"outcome_subtype\":\"Partner\",\"animal_type\":\"Cat\",\"sex_upon_outcome\":\"Intact Male\",\"age_upon_outcome\":\"3 months\",\"breed\":\"Domestic Shorthair Mix\",\"color\":\"Black\"}\\n,{\"animal_id\":\"A775399\",\"name\":\"Bean Sprout\",\"datetime\":\"2018-07-07T17:03:00.000\",\"monthyear\":\"2018-07-07T17:03:00.000\",\"date_of_birth\":\"2018-03-29T00:00:00.000\",\"outcome_type\":\"Adoption\",\"animal_type\":\"Cat\",\"sex_upon_outcome\":\"Spayed Female\",\"age_upon_outcome\":\"3 months\",\"breed\":\"Domestic Shorthair Mix\",\"color\":\"Brown Tabby\"}\\n,{\"animal_id\":\"A688196\",\"name\":\"Max\",\"datetime\":\"2014-09-16T12:20:00.000\",\"monthyear\":\"2014-09-16T12:20:00.000\",\"date_of_birth\":\"2005-09-16T00:00:00.000\",\"outcome_type\":\"Euthanasia\",\"outcome_subtype\":\"Suffering\",\"animal_type\":\"Dog\",\"sex_upon_outcome\":\"Neutered Male\",\"age_upon_outcome\":\"9 years\",\"breed\":\"Jack Russell Terrier Mix\",\"color\":\"Chocolate/White\"}\\n,{\"animal_id\":\"A786751\",\"datetime\":\"2019-01-25T13:03:00.000\",\"monthyear\":\"2019-01-25T13:03:00.000\",\"date_of_birth\":\"2018-11-01T00:00:00.000\",\"outcome_type\":\"Adoption\",\"animal_type\":\"Dog\",\"sex_upon_outcome\":\"Neutered Male\",\"age_upon_outcome\":\"2 months\",\"breed\":\"German Shepherd\",\"color\":\"White\"}\\n,{\"animal_id\":\"A778316\",\"name\":\"Blair\",\"datetime\":\"2018-08-16T11:40:00.000\",\"monthyear\":\"2018-08-16T11:40:00.000\",\"date_of_birth\":\"2018-06-01T00:00:00.000\",\"outcome_type\":\"Adoption\",\"animal_type\":\"Dog\",\"sex_upon_outcome\":\"Intact Female\",\"age_upon_outcome\":\"2 months\",\"breed\":\"Australian Shepherd Mix\",\"color\":\"Tricolor/White\"}\\n,{\"animal_id\":\"A688334\",\"name\":\"Chiquita\",\"datetime\":\"2014-09-25T17:53:00.000\",\"monthyear\":\"2014-09-25T17:53:00.000\",\"date_of_birth\":\"2012-03-18T00:00:00.000\",\"outcome_type\":\"Adoption\",\"animal_type\":\"Dog\",\"sex_upon_outcome\":\"Spayed Female\",\"age_upon_outcome\":\"2 years\",\"breed\":\"Chihuahua Shorthair Mix\",\"color\":\"Sable/Black\"}\\n,{\"animal_id\":\"A685023\",\"name\":\"Herbie\",\"datetime\":\"2014-08-04T20:02:00.000\",\"monthyear\":\"2014-08-04T20:02:00.000\",\"date_of_birth\":\"1999-08-01T00:00:00.000\",\"outcome_type\":\"Adoption\",\"animal_type\":\"Dog\",\"sex_upon_outcome\":\"Intact Male\",\"age_upon_outcome\":\"15 years\",\"breed\":\"Chihuahua Shorthair Mix\",\"color\":\"Tan\"}\\n,{\"animal_id\":\"A871849\",\"name\":\"*Tux\",\"datetime\":\"2023-03-05T15:54:00.000\",\"monthyear\":\"2023-03-05T15:54:00.000\",\"date_of_birth\":\"2022-12-30T00:00:00.000\",\"outcome_type\":\"Adoption\",\"outcome_subtype\":\"Foster\",\"animal_type\":\"Dog\",\"sex_upon_outcome\":\"Neutered Male\",\"age_upon_outcome\":\"2 months\",\"breed\":\"Rat Terrier Mix\",\"color\":\"Tricolor\"}\\n,{\"animal_id\":\"A796408\",\"name\":\"*Elmer\",\"datetime\":\"2019-06-08T16:37:00.000\",\"monthyear\":\"2019-06-08T16:37:00.000\",\"date_of_birth\":\"2019-04-22T00:00:00.000\",\"outcome_type\":\"Died\",\"outcome_subtype\":\"In Kennel\",\"animal_type\":\"Cat\",\"sex_upon_outcome\":\"Intact Male\",\"age_upon_outcome\":\"1 month\",\"breed\":\"Domestic Shorthair\",\"color\":\"Blue\"}\\n,{\"animal_id\":\"A840151\",\"name\":\"Cara\",\"datetime\":\"2021-08-25T17:02:00.000\",\"monthyear\":\"2021-08-25T17:02:00.000\",\"date_of_birth\":\"2019-08-03T00:00:00.000\",\"outcome_type\":\"Return to Owner\",\"animal_type\":\"Dog\",\"sex_upon_outcome\":\"Spayed Female\",\"age_upon_outcome\":\"2 years\",\"breed\":\"Labrador Retriever Mix\",\"color\":\"Brown/Black\"}\\n,{\"animal_id\":\"A803247\",\"name\":\"*Moxie\",\"datetime\":\"2019-09-02T17:12:00.000\",\"monthyear\":\"2019-09-02T17:12:00.000\",\"date_of_birth\":\"2010-08-29T00:00:00.000\",\"outcome_type\":\"Transfer\",\"outcome_subtype\":\"Partner\",\"animal_type\":\"Dog\",\"sex_upon_outcome\":\"Intact Female\",\"age_upon_outcome\":\"9 years\",\"breed\":\"Chihuahua Shorthair\",\"color\":\"Black/White\"}\\n,{\"animal_id\":\"A778694\",\"datetime\":\"2018-08-19T11:06:00.000\",\"monthyear\":\"2018-08-19T11:06:00.000\",\"date_of_birth\":\"2018-08-12T00:00:00.000\",\"outcome_type\":\"Transfer\",\"outcome_subtype\":\"Partner\",\"animal_type\":\"Cat\",\"sex_upon_outcome\":\"Intact Female\",\"age_upon_outcome\":\"1 week\",\"breed\":\"Domestic Shorthair Mix\",\"color\":\"Calico\"}\\n,{\"animal_id\":\"A698681\",\"datetime\":\"2015-03-20T17:24:00.000\",\"monthyear\":\"2015-03-20T17:24:00.000\",\"date_of_birth\":\"2014-10-16T00:00:00.000\",\"outcome_type\":\"Adoption\",\"animal_type\":\"Dog\",\"sex_upon_outcome\":\"Neutered Male\",\"age_upon_outcome\":\"5 months\",\"breed\":\"Border Terrier Mix\",\"color\":\"Gray/White\"}\\n,{\"animal_id\":\"A724744\",\"datetime\":\"2016-04-23T08:45:00.000\",\"monthyear\":\"2016-04-23T08:45:00.000\",\"date_of_birth\":\"2010-04-21T00:00:00.000\",\"outcome_type\":\"Euthanasia\",\"outcome_subtype\":\"Rabies Risk\",\"animal_type\":\"Cat\",\"sex_upon_outcome\":\"Neutered Male\",\"age_upon_outcome\":\"6 years\",\"breed\":\"Domestic Shorthair Mix\",\"color\":\"Orange/White\"}\\n,{\"animal_id\":\"A871846\",\"name\":\"*Joy\",\"datetime\":\"2023-03-05T16:17:00.000\",\"monthyear\":\"2023-03-05T16:17:00.000\",\"date_of_birth\":\"2022-12-30T00:00:00.000\",\"outcome_type\":\"Adoption\",\"outcome_subtype\":\"Foster\",\"animal_type\":\"Dog\",\"sex_upon_outcome\":\"Spayed Female\",\"age_upon_outcome\":\"2 months\",\"breed\":\"Rat Terrier Mix\",\"color\":\"Black/White\"}\\n,{\"animal_id\":\"A735996\",\"datetime\":\"2016-10-02T17:37:00.000\",\"monthyear\":\"2016-10-02T17:37:00.000\",\"date_of_birth\":\"2016-09-26T00:00:00.000\",\"outcome_type\":\"Transfer\",\"outcome_subtype\":\"Partner\",\"animal_type\":\"Cat\",\"sex_upon_outcome\":\"Unknown\",\"age_upon_outcome\":\"6 days\",\"breed\":\"Domestic Medium Hair Mix\",\"color\":\"Black/White\"}\\n,{\"animal_id\":\"A717665\",\"name\":\"Rocky\",\"datetime\":\"2019-07-03T08:31:00.000\",\"monthyear\":\"2019-07-03T08:31:00.000\",\"date_of_birth\":\"2007-12-12T00:00:00.000\",\"outcome_type\":\"Adoption\",\"outcome_subtype\":\"Foster\",\"animal_type\":\"Dog\",\"sex_upon_outcome\":\"Neutered Male\",\"age_upon_outcome\":\"11 years\",\"breed\":\"Boxer/Chinese Sharpei\",\"color\":\"Brown Brindle/Black\"}\\n,{\"animal_id\":\"A474506\",\"name\":\"Amaya\",\"datetime\":\"2021-06-29T08:26:00.000\",\"monthyear\":\"2021-06-29T08:26:00.000\",\"date_of_birth\":\"2006-06-07T00:00:00.000\",\"outcome_type\":\"Adoption\",\"outcome_subtype\":\"Foster\",\"animal_type\":\"Dog\",\"sex_upon_outcome\":\"Spayed Female\",\"age_upon_outcome\":\"15 years\",\"breed\":\"Pit Bull/German Shepherd\",\"color\":\"Tan\"}\\n,{\"animal_id\":\"A722917\",\"name\":\"*Brook\",\"datetime\":\"2016-09-30T12:51:00.000\",\"monthyear\":\"2016-09-30T12:51:00.000\",\"date_of_birth\":\"2014-03-24T00:00:00.000\",\"outcome_type\":\"Adoption\",\"outcome_subtype\":\"Foster\",\"animal_type\":\"Dog\",\"sex_upon_outcome\":\"Spayed Female\",\"age_upon_outcome\":\"2 years\",\"breed\":\"Labrador Retriever Mix\",\"color\":\"Black/White\"}\\n,{\"animal_id\":\"A756122\",\"datetime\":\"2017-08-18T19:21:00.000\",\"monthyear\":\"2017-08-18T19:21:00.000\",\"date_of_birth\":\"2016-08-14T00:00:00.000\",\"outcome_type\":\"Adoption\",\"animal_type\":\"Dog\",\"sex_upon_outcome\":\"Neutered Male\",\"age_upon_outcome\":\"1 year\",\"breed\":\"Dachshund Mix\",\"color\":\"Brown Tiger/Brown\"}\\n,{\"animal_id\":\"A738584\",\"name\":\"*Lydia\",\"datetime\":\"2016-12-04T17:10:00.000\",\"monthyear\":\"2016-12-04T17:10:00.000\",\"date_of_birth\":\"2016-05-17T00:00:00.000\",\"outcome_type\":\"Adoption\",\"animal_type\":\"Cat\",\"sex_upon_outcome\":\"Spayed Female\",\"age_upon_outcome\":\"6 months\",\"breed\":\"Domestic Shorthair Mix\",\"color\":\"Black/White\"}\\n,{\"animal_id\":\"A713610\",\"name\":\"Poppi\",\"datetime\":\"2015-10-16T00:00:00.000\",\"monthyear\":\"2015-10-16T00:00:00.000\",\"date_of_birth\":\"2014-07-09T00:00:00.000\",\"outcome_type\":\"Transfer\",\"outcome_subtype\":\"Partner\",\"animal_type\":\"Dog\",\"sex_upon_outcome\":\"Spayed Female\",\"age_upon_outcome\":\"1 year\",\"breed\":\"Labrador Retriever/Border Collie\",\"color\":\"Black/White\"}\\n,{\"animal_id\":\"A731663\",\"name\":\"*Onyx\",\"datetime\":\"2016-09-14T14:13:00.000\",\"monthyear\":\"2016-09-14T14:13:00.000\",\"date_of_birth\":\"2016-06-29T00:00:00.000\",\"outcome_type\":\"Adoption\",\"outcome_subtype\":\"Foster\",\"animal_type\":\"Cat\",\"sex_upon_outcome\":\"Spayed Female\",\"age_upon_outcome\":\"2 months\",\"breed\":\"Domestic Shorthair Mix\",\"color\":\"Black\"}\\n,{\"animal_id\":\"A701472\",\"datetime\":\"2015-04-30T12:52:00.000\",\"monthyear\":\"2015-04-30T12:52:00.000\",\"date_of_birth\":\"2015-04-11T00:00:00.000\",\"outcome_type\":\"Transfer\",\"outcome_subtype\":\"Partner\",\"animal_type\":\"Cat\",\"sex_upon_outcome\":\"Intact Female\",\"age_upon_outcome\":\"2 weeks\",\"breed\":\"Domestic Shorthair Mix\",\"color\":\"Blue Tabby/White\"}\\n,{\"animal_id\":\"A775647\",\"name\":\"*Gigi\",\"datetime\":\"2018-09-11T13:03:00.000\",\"monthyear\":\"2018-09-11T13:03:00.000\",\"date_of_birth\":\"2018-07-02T00:00:00.000\",\"outcome_type\":\"Adoption\",\"outcome_subtype\":\"Foster\",\"animal_type\":\"Dog\",\"sex_upon_outcome\":\"Spayed Female\",\"age_upon_outcome\":\"2 months\",\"breed\":\"Cairn Terrier Mix\",\"color\":\"Tan\"}\\n,{\"animal_id\":\"A723585\",\"name\":\"*Pee Wee\",\"datetime\":\"2016-09-30T13:16:00.000\",\"monthyear\":\"2016-09-30T13:16:00.000\",\"date_of_birth\":\"2016-02-19T00:00:00.000\",\"outcome_type\":\"Adoption\",\"outcome_subtype\":\"Foster\",\"animal_type\":\"Cat\",\"sex_upon_outcome\":\"Neutered Male\",\"age_upon_outcome\":\"7 months\",\"breed\":\"Domestic Shorthair Mix\",\"color\":\"Black\"}\\n,{\"animal_id\":\"A648168\",\"name\":\"Rusty\",\"datetime\":\"2016-02-04T15:00:00.000\",\"monthyear\":\"2016-02-04T15:00:00.000\",\"date_of_birth\":\"2006-03-23T00:00:00.000\",\"outcome_type\":\"Adoption\",\"outcome_subtype\":\"Foster\",\"animal_type\":\"Dog\",\"sex_upon_outcome\":\"Neutered Male\",\"age_upon_outcome\":\"9 years\",\"breed\":\"Chihuahua Shorthair Mix\",\"color\":\"Tan\"}\\n,{\"animal_id\":\"A871374\",\"name\":\"*George\",\"datetime\":\"2023-03-05T16:09:00.000\",\"monthyear\":\"2023-03-05T16:09:00.000\",\"date_of_birth\":\"2020-12-22T00:00:00.000\",\"outcome_type\":\"Adoption\",\"outcome_subtype\":\"Foster\",\"animal_type\":\"Cat\",\"sex_upon_outcome\":\"Neutered Male\",\"age_upon_outcome\":\"2 years\",\"breed\":\"Domestic Shorthair\",\"color\":\"Orange Tabby\"}\\n,{\"animal_id\":\"A701643\",\"name\":\"*Chip\",\"datetime\":\"2015-09-28T15:03:00.000\",\"monthyear\":\"2015-09-28T15:03:00.000\",\"date_of_birth\":\"2015-03-04T00:00:00.000\",\"outcome_type\":\"Transfer\",\"outcome_subtype\":\"Partner\",\"animal_type\":\"Cat\",\"sex_upon_outcome\":\"Neutered Male\",\"age_upon_outcome\":\"6 months\",\"breed\":\"Domestic Shorthair Mix\",\"color\":\"Brown Tabby\"}\\n,{\"animal_id\":\"A713974\",\"datetime\":\"2015-10-16T12:42:00.000\",\"monthyear\":\"2015-10-16T12:42:00.000\",\"date_of_birth\":\"2015-10-01T00:00:00.000\",\"outcome_type\":\"Transfer\",\"outcome_subtype\":\"Partner\",\"animal_type\":\"Cat\",\"sex_upon_outcome\":\"Unknown\",\"age_upon_outcome\":\"2 weeks\",\"breed\":\"Domestic Medium Hair Mix\",\"color\":\"Black\"}\\n,{\"animal_id\":\"A691198\",\"name\":\"Peach\",\"datetime\":\"2014-11-23T15:19:00.000\",\"monthyear\":\"2014-11-23T15:19:00.000\",\"date_of_birth\":\"2014-01-31T00:00:00.000\",\"outcome_type\":\"Adoption\",\"animal_type\":\"Dog\",\"sex_upon_outcome\":\"Spayed Female\",\"age_upon_outcome\":\"9 months\",\"breed\":\"Labrador Retriever Mix\",\"color\":\"Black/White\"}\\n,{\"animal_id\":\"A747831\",\"name\":\"Buford\",\"datetime\":\"2018-01-25T18:24:00.000\",\"monthyear\":\"2018-01-25T18:24:00.000\",\"date_of_birth\":\"2009-04-25T00:00:00.000\",\"outcome_type\":\"Return to Owner\",\"animal_type\":\"Dog\",\"sex_upon_outcome\":\"Intact Male\",\"age_upon_outcome\":\"8 years\",\"breed\":\"Labrador Retriever Mix\",\"color\":\"Chocolate\"}\\n,{\"animal_id\":\"A679572\",\"name\":\"*Beau\",\"datetime\":\"2014-06-19T18:13:00.000\",\"monthyear\":\"2014-06-19T18:13:00.000\",\"date_of_birth\":\"2014-04-23T00:00:00.000\",\"outcome_type\":\"Adoption\",\"outcome_subtype\":\"Foster\",\"animal_type\":\"Cat\",\"sex_upon_outcome\":\"Neutered Male\",\"age_upon_outcome\":\"1 month\",\"breed\":\"Domestic Medium Hair Mix\",\"color\":\"Brown Tabby\"}\\n,{\"animal_id\":\"A756068\",\"name\":\"Fluffy\",\"datetime\":\"2019-04-14T13:20:00.000\",\"monthyear\":\"2019-04-14T13:20:00.000\",\"date_of_birth\":\"2017-03-28T00:00:00.000\",\"outcome_type\":\"Return to Owner\",\"animal_type\":\"Dog\",\"sex_upon_outcome\":\"Spayed Female\",\"age_upon_outcome\":\"2 years\",\"breed\":\"Great Pyrenees\",\"color\":\"White/White\"}\\n,{\"animal_id\":\"A729694\",\"datetime\":\"2016-07-09T12:35:00.000\",\"monthyear\":\"2016-07-09T12:35:00.000\",\"date_of_birth\":\"2016-04-03T00:00:00.000\",\"outcome_type\":\"Adoption\",\"outcome_subtype\":\"Foster\",\"animal_type\":\"Cat\",\"sex_upon_outcome\":\"Spayed Female\",\"age_upon_outcome\":\"3 months\",\"breed\":\"Domestic Shorthair Mix\",\"color\":\"Torbie\"}\\n,{\"animal_id\":\"A671534\",\"name\":\"Stella\",\"datetime\":\"2014-03-31T18:14:00.000\",\"monthyear\":\"2014-03-31T18:14:00.000\",\"date_of_birth\":\"2013-01-26T00:00:00.000\",\"outcome_type\":\"Adoption\",\"animal_type\":\"Cat\",\"sex_upon_outcome\":\"Spayed Female\",\"age_upon_outcome\":\"1 year\",\"breed\":\"Snowshoe\",\"color\":\"Seal Point/White\"}\\n,{\"animal_id\":\"A754166\",\"name\":\"Logan\",\"datetime\":\"2017-08-05T16:51:00.000\",\"monthyear\":\"2017-08-05T16:51:00.000\",\"date_of_birth\":\"2015-07-16T00:00:00.000\",\"outcome_type\":\"Adoption\",\"animal_type\":\"Dog\",\"sex_upon_outcome\":\"Neutered Male\",\"age_upon_outcome\":\"2 years\",\"breed\":\"Labrador Retriever Mix\",\"color\":\"Chocolate/White\"}\\n,{\"animal_id\":\"A731866\",\"datetime\":\"2016-08-01T17:34:00.000\",\"monthyear\":\"2016-08-01T17:34:00.000\",\"date_of_birth\":\"2015-10-28T00:00:00.000\",\"outcome_type\":\"Adoption\",\"animal_type\":\"Dog\",\"sex_upon_outcome\":\"Neutered Male\",\"age_upon_outcome\":\"9 months\",\"breed\":\"German Shepherd Mix\",\"color\":\"Black/Tan\"}\\n,{\"animal_id\":\"A784959\",\"name\":\"Uzi\",\"datetime\":\"2018-11-24T17:44:00.000\",\"monthyear\":\"2018-11-24T17:44:00.000\",\"date_of_birth\":\"2017-11-23T00:00:00.000\",\"outcome_type\":\"Return to Owner\",\"animal_type\":\"Dog\",\"sex_upon_outcome\":\"Intact Male\",\"age_upon_outcome\":\"1 year\",\"breed\":\"German Shepherd Mix\",\"color\":\"Sable/Black\"}\\n,{\"animal_id\":\"A689215\",\"name\":\"*Shiela\",\"datetime\":\"2014-10-08T16:00:00.000\",\"monthyear\":\"2014-10-08T16:00:00.000\",\"date_of_birth\":\"2014-04-15T00:00:00.000\",\"outcome_type\":\"Transfer\",\"outcome_subtype\":\"Partner\",\"animal_type\":\"Dog\",\"sex_upon_outcome\":\"Intact Female\",\"age_upon_outcome\":\"5 months\",\"breed\":\"Australian Cattle Dog Mix\",\"color\":\"Red/White\"}\\n,{\"animal_id\":\"A701359\",\"datetime\":\"2015-05-04T15:32:00.000\",\"monthyear\":\"2015-05-04T15:32:00.000\",\"date_of_birth\":\"2015-04-28T00:00:00.000\",\"outcome_type\":\"Transfer\",\"outcome_subtype\":\"Partner\",\"animal_type\":\"Dog\",\"sex_upon_outcome\":\"Unknown\",\"age_upon_outcome\":\"6 days\",\"breed\":\"English Bulldog Mix\",\"color\":\"Blue/White\"}\\n,{\"animal_id\":\"A681352\",\"name\":\"*Charlotte\",\"datetime\":\"2014-07-12T19:46:00.000\",\"monthyear\":\"2014-07-12T19:46:00.000\",\"date_of_birth\":\"2014-04-30T00:00:00.000\",\"outcome_type\":\"Adoption\",\"outcome_subtype\":\"Foster\",\"animal_type\":\"Cat\",\"sex_upon_outcome\":\"Spayed Female\",\"age_upon_outcome\":\"2 months\",\"breed\":\"Domestic Shorthair Mix\",\"color\":\"Blue Tabby\"}\\n,{\"animal_id\":\"A669986\",\"name\":\"Kimmie\",\"datetime\":\"2014-02-24T10:22:00.000\",\"monthyear\":\"2014-02-24T10:22:00.000\",\"date_of_birth\":\"2000-12-31T00:00:00.000\",\"outcome_type\":\"Died\",\"outcome_subtype\":\"Enroute\",\"animal_type\":\"Cat\",\"sex_upon_outcome\":\"Spayed Female\",\"age_upon_outcome\":\"13 years\",\"breed\":\"Domestic Medium Hair Mix\",\"color\":\"Brown Tabby\"}\\n,{\"animal_id\":\"A598005\",\"name\":\"Paulie\",\"datetime\":\"2016-11-18T12:22:00.000\",\"monthyear\":\"2016-11-18T12:22:00.000\",\"date_of_birth\":\"2011-01-18T00:00:00.000\",\"outcome_type\":\"Return to Owner\",\"animal_type\":\"Dog\",\"sex_upon_outcome\":\"Neutered Male\",\"age_upon_outcome\":\"5 years\",\"breed\":\"Pug/Chihuahua Shorthair\",\"color\":\"White/Brown Brindle\"}\\n,{\"animal_id\":\"A731189\",\"datetime\":\"2016-07-19T11:52:00.000\",\"monthyear\":\"2016-07-19T11:52:00.000\",\"date_of_birth\":\"2016-07-06T00:00:00.000\",\"outcome_type\":\"Transfer\",\"outcome_subtype\":\"Partner\",\"animal_type\":\"Cat\",\"sex_upon_outcome\":\"Unknown\",\"age_upon_outcome\":\"1 weeks\",\"breed\":\"Domestic Shorthair Mix\",\"color\":\"Brown Tabby/Black\"}\\n,{\"animal_id\":\"A676763\",\"datetime\":\"2014-04-14T19:09:00.000\",\"monthyear\":\"2014-04-14T19:09:00.000\",\"date_of_birth\":\"2012-04-14T00:00:00.000\",\"outcome_type\":\"Euthanasia\",\"outcome_subtype\":\"Rabies Risk\",\"animal_type\":\"Other\",\"sex_upon_outcome\":\"Unknown\",\"age_upon_outcome\":\"2 years\",\"breed\":\"Bat Mix\",\"color\":\"Brown\"}\\n,{\"animal_id\":\"A750915\",\"name\":\"Ripley\",\"datetime\":\"2017-06-30T14:48:00.000\",\"monthyear\":\"2017-06-30T14:48:00.000\",\"date_of_birth\":\"2015-06-02T00:00:00.000\",\"outcome_type\":\"Adoption\",\"animal_type\":\"Dog\",\"sex_upon_outcome\":\"Spayed Female\",\"age_upon_outcome\":\"2 years\",\"breed\":\"Bullmastiff Mix\",\"color\":\"Brown Brindle\"}\\n,{\"animal_id\":\"A742298\",\"name\":\"Lando\",\"datetime\":\"2017-02-13T17:05:00.000\",\"monthyear\":\"2017-02-13T17:05:00.000\",\"date_of_birth\":\"2015-01-19T00:00:00.000\",\"outcome_type\":\"Adoption\",\"animal_type\":\"Dog\",\"sex_upon_outcome\":\"Neutered Male\",\"age_upon_outcome\":\"2 years\",\"breed\":\"German Shepherd Mix\",\"color\":\"Brown\"}\\n,{\"animal_id\":\"A705868\",\"name\":\"Izzy\",\"datetime\":\"2015-07-24T13:55:00.000\",\"monthyear\":\"2015-07-24T13:55:00.000\",\"date_of_birth\":\"2014-12-31T00:00:00.000\",\"outcome_type\":\"Adoption\",\"outcome_subtype\":\"Foster\",\"animal_type\":\"Dog\",\"sex_upon_outcome\":\"Neutered Male\",\"age_upon_outcome\":\"6 months\",\"breed\":\"Golden Retriever Mix\",\"color\":\"Red\"}\\n,{\"animal_id\":\"A710363\",\"name\":\"*Wilma\",\"datetime\":\"2015-08-30T18:06:00.000\",\"monthyear\":\"2015-08-30T18:06:00.000\",\"date_of_birth\":\"2015-04-22T00:00:00.000\",\"outcome_type\":\"Adoption\",\"animal_type\":\"Cat\",\"sex_upon_outcome\":\"Spayed Female\",\"age_upon_outcome\":\"4 months\",\"breed\":\"Domestic Shorthair Mix\",\"color\":\"Calico\"}\\n,{\"animal_id\":\"A569198\",\"name\":\"Bevo\",\"datetime\":\"2017-02-21T16:24:00.000\",\"monthyear\":\"2017-02-21T16:24:00.000\",\"date_of_birth\":\"2006-03-23T00:00:00.000\",\"outcome_type\":\"Transfer\",\"outcome_subtype\":\"Partner\",\"animal_type\":\"Dog\",\"sex_upon_outcome\":\"Neutered Male\",\"age_upon_outcome\":\"10 years\",\"breed\":\"Golden Retriever Mix\",\"color\":\"Buff\"}\\n,{\"animal_id\":\"A707744\",\"name\":\"Music\",\"datetime\":\"2015-07-25T11:40:00.000\",\"monthyear\":\"2015-07-25T11:40:00.000\",\"date_of_birth\":\"2015-05-17T00:00:00.000\",\"outcome_type\":\"Transfer\",\"outcome_subtype\":\"Partner\",\"animal_type\":\"Dog\",\"sex_upon_outcome\":\"Intact Female\",\"age_upon_outcome\":\"2 months\",\"breed\":\"Great Pyrenees/Labrador Retriever\",\"color\":\"White\"}\\n,{\"animal_id\":\"A712384\",\"name\":\"*Cassiopeia\",\"datetime\":\"2015-10-01T11:49:00.000\",\"monthyear\":\"2015-10-01T11:49:00.000\",\"date_of_birth\":\"2015-08-07T00:00:00.000\",\"outcome_type\":\"Transfer\",\"outcome_subtype\":\"Partner\",\"animal_type\":\"Cat\",\"sex_upon_outcome\":\"Intact Female\",\"age_upon_outcome\":\"1 month\",\"breed\":\"Domestic Shorthair Mix\",\"color\":\"Tortie\"}\\n,{\"animal_id\":\"A839714\",\"name\":\"Cordelia\",\"datetime\":\"2021-08-22T15:59:00.000\",\"monthyear\":\"2021-08-22T15:59:00.000\",\"date_of_birth\":\"2018-08-12T00:00:00.000\",\"outcome_type\":\"Adoption\",\"animal_type\":\"Dog\",\"sex_upon_outcome\":\"Spayed Female\",\"age_upon_outcome\":\"3 years\",\"breed\":\"Jack Russell Terrier/Labrador Retriever\",\"color\":\"Black\"}\\n,{\"animal_id\":\"A817585\",\"datetime\":\"2020-07-25T10:19:00.000\",\"monthyear\":\"2020-07-25T10:19:00.000\",\"date_of_birth\":\"2020-04-13T00:00:00.000\",\"outcome_type\":\"Adoption\",\"outcome_subtype\":\"Foster\",\"animal_type\":\"Cat\",\"sex_upon_outcome\":\"Spayed Female\",\"age_upon_outcome\":\"3 months\",\"breed\":\"Domestic Shorthair\",\"color\":\"Orange Tabby\"}\\n,{\"animal_id\":\"A796788\",\"name\":\"Coco\",\"datetime\":\"2019-06-06T18:26:00.000\",\"monthyear\":\"2019-06-06T18:26:00.000\",\"date_of_birth\":\"2019-01-05T00:00:00.000\",\"outcome_type\":\"Return to Owner\",\"animal_type\":\"Dog\",\"sex_upon_outcome\":\"Intact Female\",\"age_upon_outcome\":\"4 months\",\"breed\":\"Treeing Walker Coonhound/Great Dane\",\"color\":\"White/Brown Brindle\"}\\n,{\"animal_id\":\"A871850\",\"name\":\"*Coal\",\"datetime\":\"2023-03-05T16:23:00.000\",\"monthyear\":\"2023-03-05T16:23:00.000\",\"date_of_birth\":\"2022-12-30T00:00:00.000\",\"outcome_type\":\"Adoption\",\"outcome_subtype\":\"Foster\",\"animal_type\":\"Dog\",\"sex_upon_outcome\":\"Neutered Male\",\"age_upon_outcome\":\"2 months\",\"breed\":\"Rat Terrier Mix\",\"color\":\"Black/White\"}\\n,{\"animal_id\":\"A800666\",\"name\":\"*Odin\",\"datetime\":\"2019-08-04T13:56:00.000\",\"monthyear\":\"2019-08-04T13:56:00.000\",\"date_of_birth\":\"2019-06-15T00:00:00.000\",\"outcome_type\":\"Transfer\",\"outcome_subtype\":\"Partner\",\"animal_type\":\"Cat\",\"sex_upon_outcome\":\"Intact Male\",\"age_upon_outcome\":\"1 month\",\"breed\":\"Domestic Shorthair\",\"color\":\"Orange Tabby/White\"}\\n,{\"animal_id\":\"A671195\",\"name\":\"Cell\",\"datetime\":\"2014-01-23T11:42:00.000\",\"monthyear\":\"2014-01-23T11:42:00.000\",\"date_of_birth\":\"2011-01-20T00:00:00.000\",\"outcome_type\":\"Return to Owner\",\"animal_type\":\"Dog\",\"sex_upon_outcome\":\"Intact Male\",\"age_upon_outcome\":\"3 years\",\"breed\":\"Pit Bull Mix\",\"color\":\"Brown/White\"}\\n,{\"animal_id\":\"A815121\",\"name\":\"*Brian\",\"datetime\":\"2021-08-13T18:05:00.000\",\"monthyear\":\"2021-08-13T18:05:00.000\",\"date_of_birth\":\"2018-03-11T00:00:00.000\",\"outcome_type\":\"Adoption\",\"outcome_subtype\":\"Foster\",\"animal_type\":\"Dog\",\"sex_upon_outcome\":\"Neutered Male\",\"age_upon_outcome\":\"3 years\",\"breed\":\"Pit Bull\",\"color\":\"White\"}\\n,{\"animal_id\":\"A669506\",\"name\":\"Buddy\",\"datetime\":\"2014-04-03T19:07:00.000\",\"monthyear\":\"2014-04-03T19:07:00.000\",\"date_of_birth\":\"2011-12-21T00:00:00.000\",\"outcome_type\":\"Transfer\",\"outcome_subtype\":\"Partner\",\"animal_type\":\"Dog\",\"sex_upon_outcome\":\"Neutered Male\",\"age_upon_outcome\":\"2 years\",\"breed\":\"Beagle Mix\",\"color\":\"Tricolor\"}\\n,{\"animal_id\":\"A786029\",\"name\":\"Mia\",\"datetime\":\"2019-04-03T14:05:00.000\",\"monthyear\":\"2019-04-03T14:05:00.000\",\"date_of_birth\":\"2018-09-30T00:00:00.000\",\"outcome_type\":\"Adoption\",\"outcome_subtype\":\"Foster\",\"animal_type\":\"Dog\",\"sex_upon_outcome\":\"Intact Female\",\"age_upon_outcome\":\"6 months\",\"breed\":\"Labrador Retriever/Great Pyrenees\",\"color\":\"White/Tan\"}\\n,{\"animal_id\":\"A722596\",\"name\":\"Navy\",\"datetime\":\"2016-03-19T17:43:00.000\",\"monthyear\":\"2016-03-19T17:43:00.000\",\"date_of_birth\":\"2014-03-19T00:00:00.000\",\"outcome_type\":\"Return to Owner\",\"animal_type\":\"Dog\",\"sex_upon_outcome\":\"Intact Female\",\"age_upon_outcome\":\"2 years\",\"breed\":\"Staffordshire Mix\",\"color\":\"Blue/White\"}\\n,{\"animal_id\":\"A781349\",\"datetime\":\"2018-10-01T17:24:00.000\",\"monthyear\":\"2018-10-01T17:24:00.000\",\"date_of_birth\":\"2018-07-27T00:00:00.000\",\"outcome_type\":\"Adoption\",\"animal_type\":\"Cat\",\"sex_upon_outcome\":\"Spayed Female\",\"age_upon_outcome\":\"2 months\",\"breed\":\"Domestic Shorthair Mix\",\"color\":\"White/Brown Tabby\"}\\n,{\"animal_id\":\"A666819\",\"name\":\"Stripe\",\"datetime\":\"2013-12-22T12:58:00.000\",\"monthyear\":\"2013-12-22T12:58:00.000\",\"date_of_birth\":\"2013-09-07T00:00:00.000\",\"outcome_type\":\"Transfer\",\"outcome_subtype\":\"Partner\",\"animal_type\":\"Cat\",\"sex_upon_outcome\":\"Neutered Male\",\"age_upon_outcome\":\"3 months\",\"breed\":\"Siamese/Domestic Shorthair\",\"color\":\"Black\"}\\n,{\"animal_id\":\"A807718\",\"name\":\"Baby\",\"datetime\":\"2019-11-03T16:25:00.000\",\"monthyear\":\"2019-11-03T16:25:00.000\",\"date_of_birth\":\"2018-10-28T00:00:00.000\",\"outcome_type\":\"Adoption\",\"animal_type\":\"Dog\",\"sex_upon_outcome\":\"Neutered Male\",\"age_upon_outcome\":\"1 year\",\"breed\":\"Chihuahua Shorthair Mix\",\"color\":\"Tan\"}\\n,{\"animal_id\":\"A789417\",\"datetime\":\"2019-02-27T12:28:00.000\",\"monthyear\":\"2019-02-27T12:28:00.000\",\"date_of_birth\":\"2018-04-21T00:00:00.000\",\"outcome_type\":\"Transfer\",\"outcome_subtype\":\"Partner\",\"animal_type\":\"Dog\",\"sex_upon_outcome\":\"Intact Male\",\"age_upon_outcome\":\"10 months\",\"breed\":\"Labrador Retriever Mix\",\"color\":\"Tan/White\"}\\n,{\"animal_id\":\"A840667\",\"name\":\"*Dylan\",\"datetime\":\"2021-08-31T15:55:00.000\",\"monthyear\":\"2021-08-31T15:55:00.000\",\"date_of_birth\":\"2021-06-11T00:00:00.000\",\"outcome_type\":\"Transfer\",\"outcome_subtype\":\"Partner\",\"animal_type\":\"Dog\",\"sex_upon_outcome\":\"Intact Male\",\"age_upon_outcome\":\"2 months\",\"breed\":\"Rottweiler\",\"color\":\"Black/Brown\"}\\n,{\"animal_id\":\"A683440\",\"datetime\":\"2014-07-12T15:46:00.000\",\"monthyear\":\"2014-07-12T15:46:00.000\",\"date_of_birth\":\"2014-05-21T00:00:00.000\",\"outcome_type\":\"Transfer\",\"outcome_subtype\":\"Partner\",\"animal_type\":\"Cat\",\"sex_upon_outcome\":\"Intact Female\",\"age_upon_outcome\":\"1 month\",\"breed\":\"Domestic Shorthair Mix\",\"color\":\"Torbie/White\"}\\n,{\"animal_id\":\"A859202\",\"name\":\"*Pearl\",\"datetime\":\"2023-03-05T16:36:00.000\",\"monthyear\":\"2023-03-05T16:36:00.000\",\"date_of_birth\":\"2017-06-26T00:00:00.000\",\"outcome_type\":\"Adoption\",\"outcome_subtype\":\"Foster\",\"animal_type\":\"Cat\",\"sex_upon_outcome\":\"Spayed Female\",\"age_upon_outcome\":\"5 years\",\"breed\":\"Domestic Medium Hair Mix\",\"color\":\"Blue Tabby\"}\\n,{\"animal_id\":\"A801453\",\"name\":\"*Creampuff\",\"datetime\":\"2019-08-11T15:27:00.000\",\"monthyear\":\"2019-08-11T15:27:00.000\",\"date_of_birth\":\"2019-07-13T00:00:00.000\",\"outcome_type\":\"Transfer\",\"outcome_subtype\":\"Partner\",\"animal_type\":\"Cat\",\"sex_upon_outcome\":\"Intact Female\",\"age_upon_outcome\":\"4 weeks\",\"breed\":\"Domestic Shorthair\",\"color\":\"Brown Tabby/White\"}\\n,{\"animal_id\":\"A776458\",\"name\":\"Lilly\",\"datetime\":\"2018-08-08T12:46:00.000\",\"monthyear\":\"2018-08-08T12:46:00.000\",\"date_of_birth\":\"2017-11-14T00:00:00.000\",\"outcome_type\":\"Adoption\",\"outcome_subtype\":\"Foster\",\"animal_type\":\"Dog\",\"sex_upon_outcome\":\"Spayed Female\",\"age_upon_outcome\":\"8 months\",\"breed\":\"Pit Bull Mix\",\"color\":\"Tan\"}\\n,{\"animal_id\":\"A649122\",\"name\":\"Llama\",\"datetime\":\"2017-07-13T17:32:00.000\",\"monthyear\":\"2017-07-13T17:32:00.000\",\"date_of_birth\":\"2008-03-10T00:00:00.000\",\"outcome_type\":\"Adoption\",\"animal_type\":\"Dog\",\"sex_upon_outcome\":\"Neutered Male\",\"age_upon_outcome\":\"9 years\",\"breed\":\"Tibetan Spaniel Mix\",\"color\":\"Red\"}\\n,{\"animal_id\":\"A817478\",\"datetime\":\"2020-05-17T09:40:00.000\",\"monthyear\":\"2020-05-17T09:40:00.000\",\"date_of_birth\":\"2018-05-16T00:00:00.000\",\"outcome_type\":\"Euthanasia\",\"outcome_subtype\":\"Rabies Risk\",\"animal_type\":\"Other\",\"sex_upon_outcome\":\"Unknown\",\"age_upon_outcome\":\"2 years\",\"breed\":\"Bat\",\"color\":\"Brown/Brown\"}\\n,{\"animal_id\":\"A701917\",\"name\":\"Zena\",\"datetime\":\"2015-05-06T17:39:00.000\",\"monthyear\":\"2015-05-06T17:39:00.000\",\"date_of_birth\":\"2013-05-06T00:00:00.000\",\"outcome_type\":\"Return to Owner\",\"animal_type\":\"Dog\",\"sex_upon_outcome\":\"Spayed Female\",\"age_upon_outcome\":\"2 years\",\"breed\":\"Australian Shepherd Mix\",\"color\":\"Black/Tan\"}\\n,{\"animal_id\":\"A871373\",\"name\":\"*Ringo\",\"datetime\":\"2023-03-05T16:07:00.000\",\"monthyear\":\"2023-03-05T16:07:00.000\",\"date_of_birth\":\"2020-12-22T00:00:00.000\",\"outcome_type\":\"Adoption\",\"outcome_subtype\":\"Foster\",\"animal_type\":\"Cat\",\"sex_upon_outcome\":\"Neutered Male\",\"age_upon_outcome\":\"2 years\",\"breed\":\"Domestic Shorthair\",\"color\":\"Orange Tabby\"}\\n,{\"animal_id\":\"A684115\",\"name\":\"*Snowcream\",\"datetime\":\"2014-08-11T15:17:00.000\",\"monthyear\":\"2014-08-11T15:17:00.000\",\"date_of_birth\":\"2011-07-19T00:00:00.000\",\"outcome_type\":\"Transfer\",\"outcome_subtype\":\"Partner\",\"animal_type\":\"Cat\",\"sex_upon_outcome\":\"Neutered Male\",\"age_upon_outcome\":\"3 years\",\"breed\":\"Domestic Shorthair Mix\",\"color\":\"Cream Tabby/White\"}\\n,{\"animal_id\":\"A628106\",\"name\":\"Fanta\",\"datetime\":\"2023-03-05T16:31:00.000\",\"monthyear\":\"2023-03-05T16:31:00.000\",\"date_of_birth\":\"2012-04-24T00:00:00.000\",\"outcome_type\":\"Adoption\",\"outcome_subtype\":\"Foster\",\"animal_type\":\"Cat\",\"sex_upon_outcome\":\"Neutered Male\",\"age_upon_outcome\":\"10 years\",\"breed\":\"Domestic Longhair Mix\",\"color\":\"Orange Tabby/White\"}\\n,{\"animal_id\":\"A733559\",\"name\":\"*Guacamole\",\"datetime\":\"2016-10-02T17:46:00.000\",\"monthyear\":\"2016-10-02T17:46:00.000\",\"date_of_birth\":\"2016-07-24T00:00:00.000\",\"outcome_type\":\"Adoption\",\"animal_type\":\"Cat\",\"sex_upon_outcome\":\"Neutered Male\",\"age_upon_outcome\":\"2 months\",\"breed\":\"Domestic Shorthair Mix\",\"color\":\"Black\"}\\n,{\"animal_id\":\"A710402\",\"name\":\"Nevaeh\",\"datetime\":\"2020-01-05T13:52:00.000\",\"monthyear\":\"2020-01-05T13:52:00.000\",\"date_of_birth\":\"2015-07-22T00:00:00.000\",\"outcome_type\":\"Transfer\",\"outcome_subtype\":\"Partner\",\"animal_type\":\"Cat\",\"sex_upon_outcome\":\"Spayed Female\",\"age_upon_outcome\":\"4 years\",\"breed\":\"Domestic Shorthair Mix\",\"color\":\"Calico\"}\\n,{\"animal_id\":\"A673646\",\"name\":\"*Monte\",\"datetime\":\"2014-03-06T17:04:00.000\",\"monthyear\":\"2014-03-06T17:04:00.000\",\"date_of_birth\":\"2013-09-27T00:00:00.000\",\"outcome_type\":\"Adoption\",\"animal_type\":\"Dog\",\"sex_upon_outcome\":\"Neutered Male\",\"age_upon_outcome\":\"5 months\",\"breed\":\"Catahoula Mix\",\"color\":\"Yellow Brindle\"}\\n,{\"animal_id\":\"A685944\",\"name\":\"*Gilley\",\"datetime\":\"2014-08-18T18:36:00.000\",\"monthyear\":\"2014-08-18T18:36:00.000\",\"date_of_birth\":\"2014-04-14T00:00:00.000\",\"outcome_type\":\"Adoption\",\"animal_type\":\"Dog\",\"sex_upon_outcome\":\"Neutered Male\",\"age_upon_outcome\":\"4 months\",\"breed\":\"American Bulldog Mix\",\"color\":\"White/Brown\"}\\n,{\"animal_id\":\"A768149\",\"name\":\"Dixie\",\"datetime\":\"2018-07-27T12:25:00.000\",\"monthyear\":\"2018-07-27T12:25:00.000\",\"date_of_birth\":\"2017-03-13T00:00:00.000\",\"outcome_type\":\"Adoption\",\"animal_type\":\"Dog\",\"sex_upon_outcome\":\"Spayed Female\",\"age_upon_outcome\":\"1 year\",\"breed\":\"Dachshund Mix\",\"color\":\"Black\"}\\n,{\"animal_id\":\"A832310\",\"datetime\":\"2021-04-16T11:03:00.000\",\"monthyear\":\"2021-04-16T11:03:00.000\",\"date_of_birth\":\"2019-11-11T00:00:00.000\",\"outcome_type\":\"Adoption\",\"animal_type\":\"Dog\",\"sex_upon_outcome\":\"Neutered Male\",\"age_upon_outcome\":\"1 year\",\"breed\":\"German Shepherd/Siberian Husky\",\"color\":\"Black/Tan\"}\\n,{\"animal_id\":\"A701174\",\"datetime\":\"2015-04-24T18:52:00.000\",\"monthyear\":\"2015-04-24T18:52:00.000\",\"date_of_birth\":\"2015-04-22T00:00:00.000\",\"outcome_type\":\"Transfer\",\"outcome_subtype\":\"Partner\",\"animal_type\":\"Cat\",\"sex_upon_outcome\":\"Unknown\",\"age_upon_outcome\":\"2 days\",\"breed\":\"Domestic Shorthair Mix\",\"color\":\"Brown Tabby/White\"}\\n,{\"animal_id\":\"A774277\",\"name\":\"*Minnie\",\"datetime\":\"2018-07-13T12:58:00.000\",\"monthyear\":\"2018-07-13T12:58:00.000\",\"date_of_birth\":\"2017-08-17T00:00:00.000\",\"outcome_type\":\"Transfer\",\"outcome_subtype\":\"Partner\",\"animal_type\":\"Cat\",\"sex_upon_outcome\":\"Intact Female\",\"age_upon_outcome\":\"10 months\",\"breed\":\"Domestic Shorthair Mix\",\"color\":\"Black/White\"}\\n,{\"animal_id\":\"A679399\",\"datetime\":\"2014-05-25T12:04:00.000\",\"monthyear\":\"2014-05-25T12:04:00.000\",\"date_of_birth\":\"2014-03-26T00:00:00.000\",\"outcome_type\":\"Transfer\",\"outcome_subtype\":\"Partner\",\"animal_type\":\"Dog\",\"sex_upon_outcome\":\"Intact Male\",\"age_upon_outcome\":\"1 month\",\"breed\":\"German Shepherd/Cardigan Welsh Corgi\",\"color\":\"Tricolor\"}\\n,{\"animal_id\":\"A812415\",\"name\":\"*Amelia\",\"datetime\":\"2020-06-09T14:47:00.000\",\"monthyear\":\"2020-06-09T14:47:00.000\",\"date_of_birth\":\"2019-02-22T00:00:00.000\",\"outcome_type\":\"Adoption\",\"outcome_subtype\":\"Foster\",\"animal_type\":\"Dog\",\"sex_upon_outcome\":\"Spayed Female\",\"age_upon_outcome\":\"1 year\",\"breed\":\"Labrador Retriever\",\"color\":\"Brown Brindle\"}\\n,{\"animal_id\":\"A834028\",\"name\":\"Molly\",\"datetime\":\"2021-05-09T11:57:00.000\",\"monthyear\":\"2021-05-09T11:57:00.000\",\"date_of_birth\":\"2019-11-09T00:00:00.000\",\"outcome_type\":\"Return to Owner\",\"animal_type\":\"Dog\",\"sex_upon_outcome\":\"Intact Female\",\"age_upon_outcome\":\"1 year\",\"breed\":\"American Staffordshire Terrier\",\"color\":\"Black/White\"}\\n,{\"animal_id\":\"A809217\",\"datetime\":\"2019-11-26T16:15:00.000\",\"monthyear\":\"2019-11-26T16:15:00.000\",\"date_of_birth\":\"2019-05-21T00:00:00.000\",\"outcome_type\":\"Adoption\",\"animal_type\":\"Dog\",\"sex_upon_outcome\":\"Spayed Female\",\"age_upon_outcome\":\"6 months\",\"breed\":\"Chihuahua Shorthair\",\"color\":\"Cream/White\"}\\n,{\"animal_id\":\"A797709\",\"name\":\"Bandit\",\"datetime\":\"2019-06-23T17:50:00.000\",\"monthyear\":\"2019-06-23T17:50:00.000\",\"date_of_birth\":\"2019-05-02T00:00:00.000\",\"outcome_type\":\"Adoption\",\"animal_type\":\"Cat\",\"sex_upon_outcome\":\"Intact Female\",\"age_upon_outcome\":\"1 month\",\"breed\":\"Domestic Shorthair\",\"color\":\"Brown Tabby/White\"}\\n,{\"animal_id\":\"A628105\",\"name\":\"Dooley\",\"datetime\":\"2023-03-05T16:30:00.000\",\"monthyear\":\"2023-03-05T16:30:00.000\",\"date_of_birth\":\"2012-04-24T00:00:00.000\",\"outcome_type\":\"Adoption\",\"outcome_subtype\":\"Foster\",\"animal_type\":\"Cat\",\"sex_upon_outcome\":\"Neutered Male\",\"age_upon_outcome\":\"10 years\",\"breed\":\"Domestic Shorthair Mix\",\"color\":\"Orange Tabby/White\"}\\n,{\"animal_id\":\"A830379\",\"datetime\":\"2021-03-10T13:04:00.000\",\"monthyear\":\"2021-03-10T13:04:00.000\",\"date_of_birth\":\"2019-03-08T00:00:00.000\",\"outcome_type\":\"Transfer\",\"outcome_subtype\":\"Snr\",\"animal_type\":\"Cat\",\"sex_upon_outcome\":\"Spayed Female\",\"age_upon_outcome\":\"2 years\",\"breed\":\"Domestic Shorthair\",\"color\":\"Brown Tabby/White\"}\\n,{\"animal_id\":\"A830653\",\"name\":\"*Topaz\",\"datetime\":\"2021-03-26T17:52:00.000\",\"monthyear\":\"2021-03-26T17:52:00.000\",\"date_of_birth\":\"2019-03-13T00:00:00.000\",\"outcome_type\":\"Adoption\",\"animal_type\":\"Dog\",\"sex_upon_outcome\":\"Spayed Female\",\"age_upon_outcome\":\"2 years\",\"breed\":\"Doberman Pinsch Mix\",\"color\":\"Black/Brown\"}\\n,{\"animal_id\":\"A817442\",\"datetime\":\"2020-05-20T00:00:00.000\",\"monthyear\":\"2020-05-20T00:00:00.000\",\"date_of_birth\":\"2017-05-16T00:00:00.000\",\"outcome_type\":\"Disposal\",\"animal_type\":\"Cat\",\"sex_upon_outcome\":\"Unknown\",\"age_upon_outcome\":\"3 years\",\"breed\":\"Domestic Shorthair\",\"color\":\"Black\"}\\n,{\"animal_id\":\"A704276\",\"name\":\"*Chelsea\",\"datetime\":\"2015-06-19T13:43:00.000\",\"monthyear\":\"2015-06-19T13:43:00.000\",\"date_of_birth\":\"2013-06-03T00:00:00.000\",\"outcome_type\":\"Transfer\",\"outcome_subtype\":\"Partner\",\"animal_type\":\"Dog\",\"sex_upon_outcome\":\"Intact Female\",\"age_upon_outcome\":\"2 years\",\"breed\":\"American Staffordshire Terrier Mix\",\"color\":\"Blue/White\"}\\n,{\"animal_id\":\"A701993\",\"name\":\"Nugget\",\"datetime\":\"2015-05-07T16:11:00.000\",\"monthyear\":\"2015-05-07T16:11:00.000\",\"date_of_birth\":\"2014-05-07T00:00:00.000\",\"outcome_type\":\"Return to Owner\",\"animal_type\":\"Other\",\"sex_upon_outcome\":\"Neutered Male\",\"age_upon_outcome\":\"1 year\",\"breed\":\"Ferret Mix\",\"color\":\"Black/White\"}\\n,{\"animal_id\":\"A753792\",\"datetime\":\"2017-07-11T12:10:00.000\",\"monthyear\":\"2017-07-11T12:10:00.000\",\"date_of_birth\":\"2009-07-11T00:00:00.000\",\"outcome_type\":\"Euthanasia\",\"outcome_subtype\":\"Suffering\",\"animal_type\":\"Cat\",\"sex_upon_outcome\":\"Neutered Male\",\"age_upon_outcome\":\"8 years\",\"breed\":\"Domestic Medium Hair Mix\",\"color\":\"White/Orange Tabby\"}\\n,{\"animal_id\":\"A694255\",\"name\":\"*Collette\",\"datetime\":\"2014-12-29T18:12:00.000\",\"monthyear\":\"2014-12-29T18:12:00.000\",\"date_of_birth\":\"2014-10-16T00:00:00.000\",\"outcome_type\":\"Return to Owner\",\"animal_type\":\"Cat\",\"sex_upon_outcome\":\"Intact Female\",\"age_upon_outcome\":\"2 months\",\"breed\":\"Domestic Shorthair Mix\",\"color\":\"Black\"}\\n,{\"animal_id\":\"A776871\",\"datetime\":\"2018-07-27T16:15:00.000\",\"monthyear\":\"2018-07-27T16:15:00.000\",\"date_of_birth\":\"2018-04-26T00:00:00.000\",\"outcome_type\":\"Transfer\",\"outcome_subtype\":\"Partner\",\"animal_type\":\"Dog\",\"sex_upon_outcome\":\"Spayed Female\",\"age_upon_outcome\":\"3 months\",\"breed\":\"Australian Kelpie Mix\",\"color\":\"Brown Brindle/Black\"}\\n,{\"animal_id\":\"A825520\",\"datetime\":\"2020-12-19T10:04:00.000\",\"monthyear\":\"2020-12-19T10:04:00.000\",\"date_of_birth\":\"2020-10-19T00:00:00.000\",\"outcome_type\":\"Adoption\",\"outcome_subtype\":\"Foster\",\"animal_type\":\"Cat\",\"sex_upon_outcome\":\"Spayed Female\",\"age_upon_outcome\":\"1 month\",\"breed\":\"Domestic Shorthair Mix\",\"color\":\"Calico\"}\\n,{\"animal_id\":\"A789814\",\"name\":\"Cookie\",\"datetime\":\"2019-03-03T17:15:00.000\",\"monthyear\":\"2019-03-03T17:15:00.000\",\"date_of_birth\":\"2017-02-28T00:00:00.000\",\"outcome_type\":\"Adoption\",\"animal_type\":\"Dog\",\"sex_upon_outcome\":\"Spayed Female\",\"age_upon_outcome\":\"2 years\",\"breed\":\"German Shepherd/Labrador Retriever\",\"color\":\"Black\"}\\n,{\"animal_id\":\"A715994\",\"name\":\"Quidditch\",\"datetime\":\"2015-11-13T11:38:00.000\",\"monthyear\":\"2015-11-13T11:38:00.000\",\"date_of_birth\":\"1999-11-13T00:00:00.000\",\"outcome_type\":\"Return to Owner\",\"animal_type\":\"Dog\",\"sex_upon_outcome\":\"Spayed Female\",\"age_upon_outcome\":\"16 years\",\"breed\":\"Chihuahua Shorthair/Dachshund\",\"color\":\"Buff\"}\\n,{\"animal_id\":\"A749224\",\"datetime\":\"2017-05-16T18:48:00.000\",\"monthyear\":\"2017-05-16T18:48:00.000\",\"date_of_birth\":\"2017-02-25T00:00:00.000\",\"outcome_type\":\"Adoption\",\"animal_type\":\"Cat\",\"sex_upon_outcome\":\"Neutered Male\",\"age_upon_outcome\":\"2 months\",\"breed\":\"Domestic Shorthair Mix\",\"color\":\"Black/White\"}\\n,{\"animal_id\":\"A720734\",\"name\":\"Rooster 18\",\"datetime\":\"2016-03-08T15:07:00.000\",\"monthyear\":\"2016-03-08T15:07:00.000\",\"date_of_birth\":\"2015-02-14T00:00:00.000\",\"outcome_type\":\"Adoption\",\"animal_type\":\"Bird\",\"sex_upon_outcome\":\"Intact Male\",\"age_upon_outcome\":\"1 year\",\"breed\":\"Chicken Mix\",\"color\":\"Black/Chocolate\"}\\n,{\"animal_id\":\"A787936\",\"name\":\"Jackson\",\"datetime\":\"2019-01-23T17:29:00.000\",\"monthyear\":\"2019-01-23T17:29:00.000\",\"date_of_birth\":\"2013-01-01T00:00:00.000\",\"outcome_type\":\"Return to Owner\",\"animal_type\":\"Dog\",\"sex_upon_outcome\":\"Neutered Male\",\"age_upon_outcome\":\"6 years\",\"breed\":\"Schnauzer Giant/Standard Poodle\",\"color\":\"Gray/Black\"}\\n,{\"animal_id\":\"A659035\",\"name\":\"Zoe\",\"datetime\":\"2013-10-20T15:29:00.000\",\"monthyear\":\"2013-10-20T15:29:00.000\",\"date_of_birth\":\"2012-11-18T00:00:00.000\",\"outcome_type\":\"Adoption\",\"animal_type\":\"Dog\",\"sex_upon_outcome\":\"Spayed Female\",\"age_upon_outcome\":\"11 months\",\"breed\":\"Belgian Malinois Mix\",\"color\":\"Tan/White\"}\\n,{\"animal_id\":\"A665091\",\"name\":\"Coco\",\"datetime\":\"2013-10-23T11:23:00.000\",\"monthyear\":\"2013-10-23T11:23:00.000\",\"date_of_birth\":\"2005-10-13T00:00:00.000\",\"outcome_type\":\"Transfer\",\"outcome_subtype\":\"Partner\",\"animal_type\":\"Dog\",\"sex_upon_outcome\":\"Spayed Female\",\"age_upon_outcome\":\"8 years\",\"breed\":\"Chihuahua Shorthair Mix\",\"color\":\"Brown\"}\\n,{\"animal_id\":\"A725558\",\"name\":\"*Bailey\",\"datetime\":\"2017-01-17T09:13:00.000\",\"monthyear\":\"2017-01-17T09:13:00.000\",\"date_of_birth\":\"2013-04-30T00:00:00.000\",\"outcome_type\":\"Adoption\",\"outcome_subtype\":\"Foster\",\"animal_type\":\"Cat\",\"sex_upon_outcome\":\"Spayed Female\",\"age_upon_outcome\":\"3 years\",\"breed\":\"Domestic Shorthair Mix\",\"color\":\"Brown Tabby\"}\\n,{\"animal_id\":\"A664996\",\"datetime\":\"2013-10-15T13:30:00.000\",\"monthyear\":\"2013-10-15T13:30:00.000\",\"date_of_birth\":\"2013-10-05T00:00:00.000\",\"outcome_type\":\"Transfer\",\"outcome_subtype\":\"Partner\",\"animal_type\":\"Dog\",\"sex_upon_outcome\":\"Intact Female\",\"age_upon_outcome\":\"1 weeks\",\"breed\":\"Australian Cattle Dog Mix\",\"color\":\"Tricolor\"}\\n,{\"animal_id\":\"A731641\",\"datetime\":\"2016-07-29T18:14:00.000\",\"monthyear\":\"2016-07-29T18:14:00.000\",\"date_of_birth\":\"2016-05-25T00:00:00.000\",\"outcome_type\":\"Adoption\",\"animal_type\":\"Dog\",\"sex_upon_outcome\":\"Spayed Female\",\"age_upon_outcome\":\"2 months\",\"breed\":\"Labrador Retriever/Golden Retriever\",\"color\":\"Gold/White\"}\\n,{\"animal_id\":\"A776941\",\"name\":\"*Jojo\",\"datetime\":\"2019-10-06T14:57:00.000\",\"monthyear\":\"2019-10-06T14:57:00.000\",\"date_of_birth\":\"2017-09-21T00:00:00.000\",\"outcome_type\":\"Adoption\",\"animal_type\":\"Dog\",\"sex_upon_outcome\":\"Neutered Male\",\"age_upon_outcome\":\"2 years\",\"breed\":\"Pit Bull Mix\",\"color\":\"White/Brown\"}\\n,{\"animal_id\":\"A805512\",\"name\":\"Pickle\",\"datetime\":\"2020-02-18T14:36:00.000\",\"monthyear\":\"2020-02-18T14:36:00.000\",\"date_of_birth\":\"2019-05-28T00:00:00.000\",\"outcome_type\":\"Adoption\",\"animal_type\":\"Dog\",\"sex_upon_outcome\":\"Neutered Male\",\"age_upon_outcome\":\"8 months\",\"breed\":\"Border Collie Mix\",\"color\":\"Gray/White\"}\\n,{\"animal_id\":\"A814854\",\"datetime\":\"2020-03-11T17:26:00.000\",\"monthyear\":\"2020-03-11T17:26:00.000\",\"date_of_birth\":\"2015-03-07T00:00:00.000\",\"outcome_type\":\"Transfer\",\"outcome_subtype\":\"Partner\",\"animal_type\":\"Dog\",\"sex_upon_outcome\":\"Neutered Male\",\"age_upon_outcome\":\"5 years\",\"breed\":\"English Bulldog\",\"color\":\"White/Brown\"}\\n,{\"animal_id\":\"A679679\",\"datetime\":\"2014-05-24T17:16:00.000\",\"monthyear\":\"2014-05-24T17:16:00.000\",\"date_of_birth\":\"2013-05-24T00:00:00.000\",\"outcome_type\":\"Euthanasia\",\"outcome_subtype\":\"Rabies Risk\",\"animal_type\":\"Other\",\"sex_upon_outcome\":\"Unknown\",\"age_upon_outcome\":\"1 year\",\"breed\":\"Raccoon Mix\",\"color\":\"Gray/Black\"}\\n,{\"animal_id\":\"A837869\",\"name\":\"Geralt\",\"datetime\":\"2021-07-07T13:40:00.000\",\"monthyear\":\"2021-07-07T13:40:00.000\",\"date_of_birth\":\"2017-06-30T00:00:00.000\",\"outcome_type\":\"Adoption\",\"animal_type\":\"Cat\",\"sex_upon_outcome\":\"Neutered Male\",\"age_upon_outcome\":\"4 years\",\"breed\":\"Domestic Shorthair\",\"color\":\"White/Cream Tabby\"}\\n,{\"animal_id\":\"A842551\",\"name\":\"Kit Kat\",\"datetime\":\"2021-10-11T17:45:00.000\",\"monthyear\":\"2021-10-11T17:45:00.000\",\"date_of_birth\":\"2019-10-04T00:00:00.000\",\"outcome_type\":\"Transfer\",\"outcome_subtype\":\"Partner\",\"animal_type\":\"Cat\",\"sex_upon_outcome\":\"Spayed Female\",\"age_upon_outcome\":\"2 years\",\"breed\":\"Domestic Shorthair\",\"color\":\"Brown Tabby/White\"}\\n,{\"animal_id\":\"A752079\",\"name\":\"Rocky\",\"datetime\":\"2017-06-23T12:47:00.000\",\"monthyear\":\"2017-06-23T12:47:00.000\",\"date_of_birth\":\"2015-06-17T00:00:00.000\",\"outcome_type\":\"Adoption\",\"animal_type\":\"Dog\",\"sex_upon_outcome\":\"Neutered Male\",\"age_upon_outcome\":\"2 years\",\"breed\":\"Catahoula Mix\",\"color\":\"Tricolor\"}\\n,{\"animal_id\":\"A757328\",\"name\":\"010\",\"datetime\":\"2017-09-10T00:00:00.000\",\"monthyear\":\"2017-09-10T00:00:00.000\",\"date_of_birth\":\"2015-09-01T00:00:00.000\",\"outcome_type\":\"Return to Owner\",\"animal_type\":\"Dog\",\"sex_upon_outcome\":\"Spayed Female\",\"age_upon_outcome\":\"2 years\",\"breed\":\"Anatol Shepherd Mix\",\"color\":\"Brown Brindle\"}\\n,{\"animal_id\":\"A753784\",\"name\":\"*Tetra\",\"datetime\":\"2017-08-19T12:39:00.000\",\"monthyear\":\"2017-08-19T12:39:00.000\",\"date_of_birth\":\"2016-07-11T00:00:00.000\",\"outcome_type\":\"Adoption\",\"animal_type\":\"Dog\",\"sex_upon_outcome\":\"Spayed Female\",\"age_upon_outcome\":\"1 year\",\"breed\":\"Boxer Mix\",\"color\":\"Brown Brindle/White\"}\\n,{\"animal_id\":\"A773644\",\"name\":\"*Teegan\",\"datetime\":\"2018-10-27T18:29:00.000\",\"monthyear\":\"2018-10-27T18:29:00.000\",\"date_of_birth\":\"2016-06-03T00:00:00.000\",\"outcome_type\":\"Adoption\",\"animal_type\":\"Dog\",\"sex_upon_outcome\":\"Spayed Female\",\"age_upon_outcome\":\"2 years\",\"breed\":\"Pit Bull Mix\",\"color\":\"Tan/White\"}\\n,{\"animal_id\":\"A759836\",\"name\":\"Duque\",\"datetime\":\"2019-11-15T17:07:00.000\",\"monthyear\":\"2019-11-15T17:07:00.000\",\"date_of_birth\":\"2017-07-28T00:00:00.000\",\"outcome_type\":\"Return to Owner\",\"animal_type\":\"Dog\",\"sex_upon_outcome\":\"Neutered Male\",\"age_upon_outcome\":\"2 years\",\"breed\":\"Pit Bull Mix\",\"color\":\"White\"}\\n,{\"animal_id\":\"A799013\",\"datetime\":\"2019-07-08T19:44:00.000\",\"monthyear\":\"2019-07-08T19:44:00.000\",\"date_of_birth\":\"2016-07-03T00:00:00.000\",\"outcome_type\":\"Transfer\",\"outcome_subtype\":\"Snr\",\"animal_type\":\"Cat\",\"sex_upon_outcome\":\"Unknown\",\"age_upon_outcome\":\"3 years\",\"breed\":\"Domestic Shorthair\",\"color\":\"Brown Tabby/White\"}\\n,{\"animal_id\":\"A742776\",\"name\":\"*Franzi\",\"datetime\":\"2017-02-01T13:09:00.000\",\"monthyear\":\"2017-02-01T13:09:00.000\",\"date_of_birth\":\"2008-01-27T00:00:00.000\",\"outcome_type\":\"Transfer\",\"outcome_subtype\":\"Partner\",\"animal_type\":\"Dog\",\"sex_upon_outcome\":\"Spayed Female\",\"age_upon_outcome\":\"9 years\",\"breed\":\"Dachshund\",\"color\":\"Black/Tan\"}\\n,{\"animal_id\":\"A726304\",\"name\":\"Lola\",\"datetime\":\"2017-06-23T17:46:00.000\",\"monthyear\":\"2017-06-23T17:46:00.000\",\"date_of_birth\":\"2015-05-09T00:00:00.000\",\"outcome_type\":\"Adoption\",\"animal_type\":\"Dog\",\"sex_upon_outcome\":\"Spayed Female\",\"age_upon_outcome\":\"2 years\",\"breed\":\"Pointer Mix\",\"color\":\"White/Brown Brindle\"}\\n,{\"animal_id\":\"A715031\",\"name\":\"Vicky\",\"datetime\":\"2015-12-22T14:08:00.000\",\"monthyear\":\"2015-12-22T14:08:00.000\",\"date_of_birth\":\"2012-10-30T00:00:00.000\",\"outcome_type\":\"Return to Owner\",\"animal_type\":\"Dog\",\"sex_upon_outcome\":\"Spayed Female\",\"age_upon_outcome\":\"3 years\",\"breed\":\"Dachshund Mix\",\"color\":\"Red/Black\"}\\n,{\"animal_id\":\"A729013\",\"datetime\":\"2016-06-29T16:25:00.000\",\"monthyear\":\"2016-06-29T16:25:00.000\",\"date_of_birth\":\"2016-04-12T00:00:00.000\",\"outcome_type\":\"Adoption\",\"animal_type\":\"Cat\",\"sex_upon_outcome\":\"Neutered Male\",\"age_upon_outcome\":\"2 months\",\"breed\":\"Domestic Shorthair Mix\",\"color\":\"Blue/White\"}\\n,{\"animal_id\":\"A688941\",\"datetime\":\"2014-09-27T09:00:00.000\",\"monthyear\":\"2014-09-27T09:00:00.000\",\"date_of_birth\":\"2014-05-26T00:00:00.000\",\"outcome_type\":\"Transfer\",\"outcome_subtype\":\"SCRP\",\"animal_type\":\"Cat\",\"sex_upon_outcome\":\"Intact Male\",\"age_upon_outcome\":\"4 months\",\"breed\":\"Domestic Shorthair Mix\",\"color\":\"Brown Tabby\"}\\n,{\"animal_id\":\"A764139\",\"datetime\":\"2017-12-27T17:26:00.000\",\"monthyear\":\"2017-12-27T17:26:00.000\",\"date_of_birth\":\"2014-12-22T00:00:00.000\",\"outcome_type\":\"Adoption\",\"animal_type\":\"Dog\",\"sex_upon_outcome\":\"Neutered Male\",\"age_upon_outcome\":\"3 years\",\"breed\":\"Yorkshire Terrier/Miniature Schnauzer\",\"color\":\"Black\"}\\n,{\"animal_id\":\"A739086\",\"name\":\"Jojo\",\"datetime\":\"2016-11-27T18:08:00.000\",\"monthyear\":\"2016-11-27T18:08:00.000\",\"date_of_birth\":\"2014-11-27T00:00:00.000\",\"outcome_type\":\"Euthanasia\",\"outcome_subtype\":\"Suffering\",\"animal_type\":\"Dog\",\"sex_upon_outcome\":\"Intact Male\",\"age_upon_outcome\":\"2 years\",\"breed\":\"Labrador Retriever Mix\",\"color\":\"Brown\"}\\n,{\"animal_id\":\"A748109\",\"datetime\":\"2017-05-10T00:00:00.000\",\"monthyear\":\"2017-05-10T00:00:00.000\",\"date_of_birth\":\"2016-04-29T00:00:00.000\",\"outcome_type\":\"Transfer\",\"outcome_subtype\":\"Snr\",\"animal_type\":\"Cat\",\"sex_upon_outcome\":\"Neutered Male\",\"age_upon_outcome\":\"1 year\",\"breed\":\"Domestic Shorthair Mix\",\"color\":\"Brown Tabby/White\"}\\n,{\"animal_id\":\"A770986\",\"datetime\":\"2018-04-28T15:10:00.000\",\"monthyear\":\"2018-04-28T15:10:00.000\",\"date_of_birth\":\"2018-04-13T00:00:00.000\",\"outcome_type\":\"Transfer\",\"outcome_subtype\":\"Partner\",\"animal_type\":\"Cat\",\"sex_upon_outcome\":\"Unknown\",\"age_upon_outcome\":\"2 weeks\",\"breed\":\"Domestic Shorthair Mix\",\"color\":\"Brown Tabby\"}\\n,{\"animal_id\":\"A705062\",\"datetime\":\"2015-06-21T14:24:00.000\",\"monthyear\":\"2015-06-21T14:24:00.000\",\"date_of_birth\":\"2014-06-12T00:00:00.000\",\"outcome_type\":\"Transfer\",\"outcome_subtype\":\"Partner\",\"animal_type\":\"Dog\",\"sex_upon_outcome\":\"Intact Male\",\"age_upon_outcome\":\"1 year\",\"breed\":\"Pit Bull Mix\",\"color\":\"Brown/White\"}\\n,{\"animal_id\":\"A841248\",\"name\":\"A841248\",\"datetime\":\"2021-09-28T11:33:00.000\",\"monthyear\":\"2021-09-28T11:33:00.000\",\"date_of_birth\":\"2019-08-24T00:00:00.000\",\"outcome_type\":\"Euthanasia\",\"outcome_subtype\":\"Aggressive\",\"animal_type\":\"Dog\",\"sex_upon_outcome\":\"Intact Female\",\"age_upon_outcome\":\"2 years\",\"breed\":\"Pit Bull\",\"color\":\"Blue\"}\\n,{\"animal_id\":\"A720573\",\"name\":\"Trixie\",\"datetime\":\"2016-03-26T14:41:00.000\",\"monthyear\":\"2016-03-26T14:41:00.000\",\"date_of_birth\":\"2015-06-12T00:00:00.000\",\"outcome_type\":\"Adoption\",\"animal_type\":\"Dog\",\"sex_upon_outcome\":\"Spayed Female\",\"age_upon_outcome\":\"9 months\",\"breed\":\"American Pit Bull Terrier Mix\",\"color\":\"Tan/White\"}\\n,{\"animal_id\":\"A749464\",\"name\":\"*Kathy\",\"datetime\":\"2017-06-20T17:37:00.000\",\"monthyear\":\"2017-06-20T17:37:00.000\",\"date_of_birth\":\"2017-04-23T00:00:00.000\",\"outcome_type\":\"Adoption\",\"animal_type\":\"Cat\",\"sex_upon_outcome\":\"Spayed Female\",\"age_upon_outcome\":\"1 month\",\"breed\":\"Domestic Medium Hair Mix\",\"color\":\"Black\"}\\n,{\"animal_id\":\"A675116\",\"name\":\"*Melinda\",\"datetime\":\"2014-05-09T13:00:00.000\",\"monthyear\":\"2014-05-09T13:00:00.000\",\"date_of_birth\":\"2013-09-23T00:00:00.000\",\"outcome_type\":\"Transfer\",\"outcome_subtype\":\"Partner\",\"animal_type\":\"Cat\",\"sex_upon_outcome\":\"Spayed Female\",\"age_upon_outcome\":\"7 months\",\"breed\":\"Domestic Shorthair Mix\",\"color\":\"Tortie\"}\\n,{\"animal_id\":\"A749737\",\"datetime\":\"2017-05-19T10:19:00.000\",\"monthyear\":\"2017-05-19T10:19:00.000\",\"date_of_birth\":\"2017-05-18T00:00:00.000\",\"outcome_type\":\"Transfer\",\"outcome_subtype\":\"Partner\",\"animal_type\":\"Dog\",\"sex_upon_outcome\":\"Intact Male\",\"age_upon_outcome\":\"1 day\",\"breed\":\"Chihuahua Shorthair Mix\",\"color\":\"Black/White\"}\\n,{\"animal_id\":\"A839036\",\"name\":\"*Cranberry\",\"datetime\":\"2021-07-26T19:10:00.000\",\"monthyear\":\"2021-07-26T19:10:00.000\",\"date_of_birth\":\"2019-07-15T00:00:00.000\",\"outcome_type\":\"Adoption\",\"animal_type\":\"Dog\",\"sex_upon_outcome\":\"Spayed Female\",\"age_upon_outcome\":\"2 years\",\"breed\":\"Labrador Retriever\",\"color\":\"Black\"}\\n,{\"animal_id\":\"A687164\",\"name\":\"Majic\",\"datetime\":\"2014-09-05T17:48:00.000\",\"monthyear\":\"2014-09-05T17:48:00.000\",\"date_of_birth\":\"2011-09-01T00:00:00.000\",\"outcome_type\":\"Adoption\",\"animal_type\":\"Dog\",\"sex_upon_outcome\":\"Neutered Male\",\"age_upon_outcome\":\"3 years\",\"breed\":\"Great Pyrenees/Standard Poodle\",\"color\":\"White\"}\\n,{\"animal_id\":\"A681560\",\"name\":\"Tutmosis\",\"datetime\":\"2014-06-23T11:30:00.000\",\"monthyear\":\"2014-06-23T11:30:00.000\",\"date_of_birth\":\"2012-06-18T00:00:00.000\",\"outcome_type\":\"Return to Owner\",\"animal_type\":\"Cat\",\"sex_upon_outcome\":\"Neutered Male\",\"age_upon_outcome\":\"2 years\",\"breed\":\"Bombay Mix\",\"color\":\"Black\"}\\n,{\"animal_id\":\"A766541\",\"datetime\":\"2018-02-15T16:20:00.000\",\"monthyear\":\"2018-02-15T16:20:00.000\",\"date_of_birth\":\"2017-08-11T00:00:00.000\",\"outcome_type\":\"Adoption\",\"animal_type\":\"Dog\",\"sex_upon_outcome\":\"Spayed Female\",\"age_upon_outcome\":\"6 months\",\"breed\":\"Labrador Retriever/Border Collie\",\"color\":\"Black/White\"}\\n,{\"animal_id\":\"A792677\",\"name\":\"Zeus\",\"datetime\":\"2019-04-15T13:03:00.000\",\"monthyear\":\"2019-04-15T13:03:00.000\",\"date_of_birth\":\"2017-04-13T00:00:00.000\",\"outcome_type\":\"Transfer\",\"outcome_subtype\":\"Partner\",\"animal_type\":\"Other\",\"sex_upon_outcome\":\"Intact Male\",\"age_upon_outcome\":\"2 years\",\"breed\":\"Guinea Pig\",\"color\":\"Tricolor\"}\\n,{\"animal_id\":\"A723980\",\"name\":\"*Buster\",\"datetime\":\"2016-04-14T19:07:00.000\",\"monthyear\":\"2016-04-14T19:07:00.000\",\"date_of_birth\":\"2016-02-09T00:00:00.000\",\"outcome_type\":\"Adoption\",\"animal_type\":\"Dog\",\"sex_upon_outcome\":\"Neutered Male\",\"age_upon_outcome\":\"2 months\",\"breed\":\"Cairn Terrier Mix\",\"color\":\"Tan\"}\\n,{\"animal_id\":\"A875397\",\"name\":\"Bae\",\"datetime\":\"2023-03-05T18:55:00.000\",\"monthyear\":\"2023-03-05T18:55:00.000\",\"date_of_birth\":\"2014-02-26T00:00:00.000\",\"outcome_type\":\"Return to Owner\",\"animal_type\":\"Dog\",\"sex_upon_outcome\":\"Spayed Female\",\"age_upon_outcome\":\"9 years\",\"breed\":\"Pit Bull\",\"color\":\"Tan/White\"}\\n,{\"animal_id\":\"A777958\",\"name\":\"*Gatlin\",\"datetime\":\"2018-08-28T12:42:00.000\",\"monthyear\":\"2018-08-28T12:42:00.000\",\"date_of_birth\":\"2018-06-10T00:00:00.000\",\"outcome_type\":\"Adoption\",\"outcome_subtype\":\"Foster\",\"animal_type\":\"Dog\",\"sex_upon_outcome\":\"Neutered Male\",\"age_upon_outcome\":\"2 months\",\"breed\":\"Pointer/Chihuahua Longhair\",\"color\":\"Tricolor\"}\\n,{\"animal_id\":\"A778401\",\"datetime\":\"2018-08-14T10:46:00.000\",\"monthyear\":\"2018-08-14T10:46:00.000\",\"date_of_birth\":\"2017-08-14T00:00:00.000\",\"outcome_type\":\"Euthanasia\",\"outcome_subtype\":\"Suffering\",\"animal_type\":\"Cat\",\"sex_upon_outcome\":\"Unknown\",\"age_upon_outcome\":\"1 year\",\"breed\":\"Domestic Shorthair Mix\",\"color\":\"Calico\"}\\n,{\"animal_id\":\"A736721\",\"name\":\"*Hayden\",\"datetime\":\"2016-10-22T16:01:00.000\",\"monthyear\":\"2016-10-22T16:01:00.000\",\"date_of_birth\":\"2005-10-16T00:00:00.000\",\"outcome_type\":\"Transfer\",\"outcome_subtype\":\"Partner\",\"animal_type\":\"Cat\",\"sex_upon_outcome\":\"Neutered Male\",\"age_upon_outcome\":\"11 years\",\"breed\":\"Domestic Shorthair Mix\",\"color\":\"Blue/White\"}\\n,{\"animal_id\":\"A582945\",\"name\":\"Nina\",\"datetime\":\"2013-12-17T11:51:00.000\",\"monthyear\":\"2013-12-17T11:51:00.000\",\"date_of_birth\":\"2006-09-03T00:00:00.000\",\"outcome_type\":\"Adoption\",\"animal_type\":\"Cat\",\"sex_upon_outcome\":\"Spayed Female\",\"age_upon_outcome\":\"7 years\",\"breed\":\"Domestic Shorthair Mix\",\"color\":\"Brown Tabby\"}\\n,{\"animal_id\":\"A798477\",\"datetime\":\"2019-07-01T18:15:00.000\",\"monthyear\":\"2019-07-01T18:15:00.000\",\"date_of_birth\":\"2019-04-26T00:00:00.000\",\"outcome_type\":\"Adoption\",\"animal_type\":\"Dog\",\"sex_upon_outcome\":\"Neutered Male\",\"age_upon_outcome\":\"2 months\",\"breed\":\"Australian Shepherd/Great Pyrenees\",\"color\":\"Black/White\"}\\n,{\"animal_id\":\"A770568\",\"datetime\":\"2018-06-02T19:25:00.000\",\"monthyear\":\"2018-06-02T19:25:00.000\",\"date_of_birth\":\"2018-03-21T00:00:00.000\",\"outcome_type\":\"Euthanasia\",\"outcome_subtype\":\"Suffering\",\"animal_type\":\"Cat\",\"sex_upon_outcome\":\"Neutered Male\",\"age_upon_outcome\":\"2 months\",\"breed\":\"Domestic Longhair Mix\",\"color\":\"Blue\"}\\n,{\"animal_id\":\"A669194\",\"datetime\":\"2013-12-16T18:40:00.000\",\"monthyear\":\"2013-12-16T18:40:00.000\",\"date_of_birth\":\"2013-06-16T00:00:00.000\",\"outcome_type\":\"Euthanasia\",\"outcome_subtype\":\"Rabies Risk\",\"animal_type\":\"Other\",\"sex_upon_outcome\":\"Unknown\",\"age_upon_outcome\":\"6 months\",\"breed\":\"Raccoon Mix\",\"color\":\"Brown\"}\\n,{\"animal_id\":\"A778869\",\"datetime\":\"2018-08-21T16:41:00.000\",\"monthyear\":\"2018-08-21T16:41:00.000\",\"date_of_birth\":\"2017-08-21T00:00:00.000\",\"outcome_type\":\"Euthanasia\",\"animal_type\":\"Other\",\"sex_upon_outcome\":\"Unknown\",\"age_upon_outcome\":\"1 year\",\"breed\":\"Bat Mix\",\"color\":\"Brown\"}\\n,{\"animal_id\":\"A813055\",\"name\":\"Rocko\",\"datetime\":\"2020-10-16T09:52:00.000\",\"monthyear\":\"2020-10-16T09:52:00.000\",\"date_of_birth\":\"2018-02-03T00:00:00.000\",\"outcome_type\":\"Adoption\",\"outcome_subtype\":\"Foster\",\"animal_type\":\"Dog\",\"sex_upon_outcome\":\"Neutered Male\",\"age_upon_outcome\":\"2 years\",\"breed\":\"German Shepherd Mix\",\"color\":\"Tan/Black\"}\\n,{\"animal_id\":\"A579608\",\"name\":\"Max\",\"datetime\":\"2014-07-21T12:43:00.000\",\"monthyear\":\"2014-07-21T12:43:00.000\",\"date_of_birth\":\"2010-06-09T00:00:00.000\",\"outcome_type\":\"Return to Owner\",\"animal_type\":\"Dog\",\"sex_upon_outcome\":\"Neutered Male\",\"age_upon_outcome\":\"4 years\",\"breed\":\"Labrador Retriever Mix\",\"color\":\"Black/White\"}\\n,{\"animal_id\":\"A816680\",\"name\":\"Stitch\",\"datetime\":\"2020-06-02T07:02:00.000\",\"monthyear\":\"2020-06-02T07:02:00.000\",\"date_of_birth\":\"2010-04-24T00:00:00.000\",\"outcome_type\":\"Adoption\",\"outcome_subtype\":\"Foster\",\"animal_type\":\"Dog\",\"sex_upon_outcome\":\"Spayed Female\",\"age_upon_outcome\":\"10 years\",\"breed\":\"Australian Kelpie Mix\",\"color\":\"Brown Brindle\"}\\n,{\"animal_id\":\"A711723\",\"datetime\":\"2015-09-11T00:00:00.000\",\"monthyear\":\"2015-09-11T00:00:00.000\",\"date_of_birth\":\"2015-08-28T00:00:00.000\",\"outcome_type\":\"Transfer\",\"outcome_subtype\":\"Partner\",\"animal_type\":\"Cat\",\"sex_upon_outcome\":\"Intact Female\",\"age_upon_outcome\":\"2 weeks\",\"breed\":\"Domestic Shorthair Mix\",\"color\":\"Brown Tabby\"}\\n,{\"animal_id\":\"A576705\",\"name\":\"Blue\",\"datetime\":\"2015-10-23T15:55:00.000\",\"monthyear\":\"2015-10-23T15:55:00.000\",\"date_of_birth\":\"2010-03-18T00:00:00.000\",\"outcome_type\":\"Adoption\",\"animal_type\":\"Cat\",\"sex_upon_outcome\":\"Neutered Male\",\"age_upon_outcome\":\"5 years\",\"breed\":\"Siamese Mix\",\"color\":\"Lynx Point\"}\\n,{\"animal_id\":\"A763873\",\"name\":\"*Aparee\",\"datetime\":\"2017-12-21T15:53:00.000\",\"monthyear\":\"2017-12-21T15:53:00.000\",\"date_of_birth\":\"2015-12-17T00:00:00.000\",\"outcome_type\":\"Transfer\",\"outcome_subtype\":\"Partner\",\"animal_type\":\"Cat\",\"sex_upon_outcome\":\"Intact Female\",\"age_upon_outcome\":\"2 years\",\"breed\":\"Domestic Shorthair Mix\",\"color\":\"Torbie\"}\\n,{\"animal_id\":\"A762461\",\"name\":\"Furiosa\",\"datetime\":\"2018-01-20T12:36:00.000\",\"monthyear\":\"2018-01-20T12:36:00.000\",\"date_of_birth\":\"2015-11-20T00:00:00.000\",\"outcome_type\":\"Return to Owner\",\"animal_type\":\"Dog\",\"sex_upon_outcome\":\"Intact Female\",\"age_upon_outcome\":\"2 years\",\"breed\":\"Great Dane Mix\",\"color\":\"Tan/Black\"}\\n,{\"animal_id\":\"A799907\",\"name\":\"Chester\",\"datetime\":\"2019-07-14T16:20:00.000\",\"monthyear\":\"2019-07-14T16:20:00.000\",\"date_of_birth\":\"2018-11-14T00:00:00.000\",\"outcome_type\":\"Return to Owner\",\"animal_type\":\"Dog\",\"sex_upon_outcome\":\"Intact Male\",\"age_upon_outcome\":\"7 months\",\"breed\":\"Siberian Husky\",\"color\":\"Red/Tan\"}\\n,{\"animal_id\":\"A798758\",\"name\":\"Popo\",\"datetime\":\"2019-06-30T15:08:00.000\",\"monthyear\":\"2019-06-30T15:08:00.000\",\"date_of_birth\":\"2017-06-30T00:00:00.000\",\"outcome_type\":\"Return to Owner\",\"animal_type\":\"Cat\",\"sex_upon_outcome\":\"Neutered Male\",\"age_upon_outcome\":\"2 years\",\"breed\":\"Domestic Shorthair\",\"color\":\"White/Gray\"}\\n,{\"animal_id\":\"A829381\",\"name\":\"Muneca\",\"datetime\":\"2021-02-09T17:40:00.000\",\"monthyear\":\"2021-02-09T17:40:00.000\",\"date_of_birth\":\"2020-04-09T00:00:00.000\",\"outcome_type\":\"Return to Owner\",\"animal_type\":\"Dog\",\"sex_upon_outcome\":\"Intact Female\",\"age_upon_outcome\":\"10 months\",\"breed\":\"German Shepherd\",\"color\":\"Tan/Black\"}\\n,{\"animal_id\":\"A839707\",\"name\":\"Edith\",\"datetime\":\"2021-10-02T18:06:00.000\",\"monthyear\":\"2021-10-02T18:06:00.000\",\"date_of_birth\":\"2018-07-26T00:00:00.000\",\"outcome_type\":\"Adoption\",\"animal_type\":\"Dog\",\"sex_upon_outcome\":\"Spayed Female\",\"age_upon_outcome\":\"3 years\",\"breed\":\"Staffordshire Mix\",\"color\":\"Brown/White\"}\\n,{\"animal_id\":\"A776411\",\"datetime\":\"2018-07-13T15:53:00.000\",\"monthyear\":\"2018-07-13T15:53:00.000\",\"date_of_birth\":\"2018-07-06T00:00:00.000\",\"outcome_type\":\"Transfer\",\"outcome_subtype\":\"Partner\",\"animal_type\":\"Cat\",\"sex_upon_outcome\":\"Unknown\",\"age_upon_outcome\":\"1 week\",\"breed\":\"Domestic Shorthair Mix\",\"color\":\"Brown Tabby\"}\\n,{\"animal_id\":\"A872679\",\"name\":\"*Gus\",\"datetime\":\"2023-03-05T18:52:00.000\",\"monthyear\":\"2023-03-05T18:52:00.000\",\"date_of_birth\":\"2022-12-31T00:00:00.000\",\"outcome_type\":\"Adoption\",\"animal_type\":\"Dog\",\"sex_upon_outcome\":\"Neutered Male\",\"age_upon_outcome\":\"2 months\",\"breed\":\"Australian Cattle Dog/Catahoula\",\"color\":\"White\"}\\n,{\"animal_id\":\"A741183\",\"name\":\"Scooby\",\"datetime\":\"2016-12-29T16:56:00.000\",\"monthyear\":\"2016-12-29T16:56:00.000\",\"date_of_birth\":\"2016-11-22T00:00:00.000\",\"outcome_type\":\"Return to Owner\",\"animal_type\":\"Dog\",\"sex_upon_outcome\":\"Intact Male\",\"age_upon_outcome\":\"1 month\",\"breed\":\"Cairn Terrier Mix\",\"color\":\"Tan\"}\\n,{\"animal_id\":\"A705805\",\"datetime\":\"2015-06-24T15:15:00.000\",\"monthyear\":\"2015-06-24T15:15:00.000\",\"date_of_birth\":\"2015-03-30T00:00:00.000\",\"outcome_type\":\"Transfer\",\"outcome_subtype\":\"Partner\",\"animal_type\":\"Dog\",\"sex_upon_outcome\":\"Intact Female\",\"age_upon_outcome\":\"2 months\",\"breed\":\"Labrador Retriever Mix\",\"color\":\"Black/White\"}\\n,{\"animal_id\":\"A686365\",\"name\":\"Hazel\",\"datetime\":\"2014-09-08T11:26:00.000\",\"monthyear\":\"2014-09-08T11:26:00.000\",\"date_of_birth\":\"2013-10-20T00:00:00.000\",\"outcome_type\":\"Adoption\",\"animal_type\":\"Dog\",\"sex_upon_outcome\":\"Spayed Female\",\"age_upon_outcome\":\"10 months\",\"breed\":\"Carolina Dog\",\"color\":\"Tan\"}\\n,{\"animal_id\":\"A827282\",\"name\":\"*Pecan\",\"datetime\":\"2021-01-30T14:00:00.000\",\"monthyear\":\"2021-01-30T14:00:00.000\",\"date_of_birth\":\"2018-12-17T00:00:00.000\",\"outcome_type\":\"Adoption\",\"animal_type\":\"Dog\",\"sex_upon_outcome\":\"Neutered Male\",\"age_upon_outcome\":\"2 years\",\"breed\":\"Jack Russell Terrier/Beagle\",\"color\":\"White/Tan\"}\\n,{\"animal_id\":\"A747649\",\"datetime\":\"2017-04-26T17:39:00.000\",\"monthyear\":\"2017-04-26T17:39:00.000\",\"date_of_birth\":\"2017-02-22T00:00:00.000\",\"outcome_type\":\"Adoption\",\"animal_type\":\"Cat\",\"sex_upon_outcome\":\"Neutered Male\",\"age_upon_outcome\":\"2 months\",\"breed\":\"Domestic Shorthair Mix\",\"color\":\"White/Orange\"}\\n,{\"animal_id\":\"A797222\",\"name\":\"Maya\",\"datetime\":\"2019-06-12T16:21:00.000\",\"monthyear\":\"2019-06-12T16:21:00.000\",\"date_of_birth\":\"2019-03-12T00:00:00.000\",\"outcome_type\":\"Adoption\",\"animal_type\":\"Dog\",\"sex_upon_outcome\":\"Spayed Female\",\"age_upon_outcome\":\"3 months\",\"breed\":\"Yorkshire Terrier/Toy Poodle\",\"color\":\"Black/White\"}\\n,{\"animal_id\":\"A692520\",\"name\":\"Peanut Butte\",\"datetime\":\"2014-11-25T15:04:00.000\",\"monthyear\":\"2014-11-25T15:04:00.000\",\"date_of_birth\":\"2013-11-21T00:00:00.000\",\"outcome_type\":\"Transfer\",\"outcome_subtype\":\"Partner\",\"animal_type\":\"Dog\",\"sex_upon_outcome\":\"Intact Male\",\"age_upon_outcome\":\"1 year\",\"breed\":\"Shih Tzu Mix\",\"color\":\"Buff\"}\\n,{\"animal_id\":\"A720975\",\"name\":\"Moose\",\"datetime\":\"2016-02-22T13:18:00.000\",\"monthyear\":\"2016-02-22T13:18:00.000\",\"date_of_birth\":\"2014-02-18T00:00:00.000\",\"outcome_type\":\"Transfer\",\"outcome_subtype\":\"Partner\",\"animal_type\":\"Dog\",\"sex_upon_outcome\":\"Intact Male\",\"age_upon_outcome\":\"2 years\",\"breed\":\"Shih Tzu Mix\",\"color\":\"Cream\"}\\n,{\"animal_id\":\"A738903\",\"name\":\"*Mack\",\"datetime\":\"2017-01-10T16:03:00.000\",\"monthyear\":\"2017-01-10T16:03:00.000\",\"date_of_birth\":\"2014-11-23T00:00:00.000\",\"outcome_type\":\"Adoption\",\"animal_type\":\"Dog\",\"sex_upon_outcome\":\"Neutered Male\",\"age_upon_outcome\":\"2 years\",\"breed\":\"Staffordshire Mix\",\"color\":\"Black Brindle/White\"}\\n,{\"animal_id\":\"A708918\",\"datetime\":\"2015-08-05T14:21:00.000\",\"monthyear\":\"2015-08-05T14:21:00.000\",\"date_of_birth\":\"2009-08-02T00:00:00.000\",\"outcome_type\":\"Transfer\",\"outcome_subtype\":\"Partner\",\"animal_type\":\"Dog\",\"sex_upon_outcome\":\"Intact Male\",\"age_upon_outcome\":\"6 years\",\"breed\":\"Chihuahua Shorthair/Dachshund\",\"color\":\"Black/Tan\"}\\n,{\"animal_id\":\"A752425\",\"name\":\"*Clark\",\"datetime\":\"2017-07-02T16:05:00.000\",\"monthyear\":\"2017-07-02T16:05:00.000\",\"date_of_birth\":\"2017-04-07T00:00:00.000\",\"outcome_type\":\"Adoption\",\"animal_type\":\"Cat\",\"sex_upon_outcome\":\"Neutered Male\",\"age_upon_outcome\":\"2 months\",\"breed\":\"Domestic Shorthair Mix\",\"color\":\"Blue Tabby/White\"}\\n,{\"animal_id\":\"A722787\",\"datetime\":\"2016-03-22T15:03:00.000\",\"monthyear\":\"2016-03-22T15:03:00.000\",\"date_of_birth\":\"2013-03-22T00:00:00.000\",\"outcome_type\":\"Euthanasia\",\"outcome_subtype\":\"Rabies Risk\",\"animal_type\":\"Other\",\"sex_upon_outcome\":\"Unknown\",\"age_upon_outcome\":\"3 years\",\"breed\":\"Bat Mix\",\"color\":\"Brown\"}\\n,{\"animal_id\":\"A802011\",\"datetime\":\"2019-08-19T18:46:00.000\",\"monthyear\":\"2019-08-19T18:46:00.000\",\"date_of_birth\":\"2019-07-25T00:00:00.000\",\"outcome_type\":\"Transfer\",\"outcome_subtype\":\"Partner\",\"animal_type\":\"Cat\",\"sex_upon_outcome\":\"Intact Male\",\"age_upon_outcome\":\"3 weeks\",\"breed\":\"Domestic Shorthair\",\"color\":\"Black Tabby\"}\\n,{\"animal_id\":\"A739496\",\"datetime\":\"2016-12-03T17:25:00.000\",\"monthyear\":\"2016-12-03T17:25:00.000\",\"date_of_birth\":\"2016-11-11T00:00:00.000\",\"outcome_type\":\"Transfer\",\"outcome_subtype\":\"Partner\",\"animal_type\":\"Cat\",\"sex_upon_outcome\":\"Intact Female\",\"age_upon_outcome\":\"3 weeks\",\"breed\":\"Domestic Longhair Mix\",\"color\":\"Black/White\"}\\n,{\"animal_id\":\"A809493\",\"name\":\"Theo\",\"datetime\":\"2019-11-26T10:35:00.000\",\"monthyear\":\"2019-11-26T10:35:00.000\",\"date_of_birth\":\"2017-11-25T00:00:00.000\",\"outcome_type\":\"Euthanasia\",\"outcome_subtype\":\"Suffering\",\"animal_type\":\"Other\",\"sex_upon_outcome\":\"Unknown\",\"age_upon_outcome\":\"2 years\",\"breed\":\"Chinchilla\",\"color\":\"Gray\"}\\n,{\"animal_id\":\"A794974\",\"datetime\":\"2019-05-20T18:23:00.000\",\"monthyear\":\"2019-05-20T18:23:00.000\",\"date_of_birth\":\"2018-05-14T00:00:00.000\",\"outcome_type\":\"Adoption\",\"animal_type\":\"Dog\",\"sex_upon_outcome\":\"Neutered Male\",\"age_upon_outcome\":\"1 year\",\"breed\":\"Jack Russell Terrier\",\"color\":\"Tricolor/Brown\"}\\n,{\"animal_id\":\"A804523\",\"name\":\"*Maggie 168G\",\"datetime\":\"2019-10-09T18:05:00.000\",\"monthyear\":\"2019-10-09T18:05:00.000\",\"date_of_birth\":\"2019-09-08T00:00:00.000\",\"outcome_type\":\"Transfer\",\"outcome_subtype\":\"Partner\",\"animal_type\":\"Cat\",\"sex_upon_outcome\":\"Intact Female\",\"age_upon_outcome\":\"4 weeks\",\"breed\":\"Domestic Shorthair\",\"color\":\"Brown Tabby\"}\\n,{\"animal_id\":\"A837284\",\"name\":\"Mimi\",\"datetime\":\"2021-06-23T13:55:00.000\",\"monthyear\":\"2021-06-23T13:55:00.000\",\"date_of_birth\":\"2016-06-02T00:00:00.000\",\"outcome_type\":\"Return to Owner\",\"animal_type\":\"Dog\",\"sex_upon_outcome\":\"Spayed Female\",\"age_upon_outcome\":\"5 years\",\"breed\":\"Cairn Terrier\",\"color\":\"White\"}\\n,{\"animal_id\":\"A713577\",\"name\":\"Ferguson\",\"datetime\":\"2015-10-11T17:10:00.000\",\"monthyear\":\"2015-10-11T17:10:00.000\",\"date_of_birth\":\"2013-10-09T00:00:00.000\",\"outcome_type\":\"Return to Owner\",\"animal_type\":\"Dog\",\"sex_upon_outcome\":\"Neutered Male\",\"age_upon_outcome\":\"2 years\",\"breed\":\"Cardigan Welsh Corgi Mix\",\"color\":\"Tricolor\"}\\n,{\"animal_id\":\"A788302\",\"name\":\"Zeus\",\"datetime\":\"2019-04-05T18:36:00.000\",\"monthyear\":\"2019-04-05T18:36:00.000\",\"date_of_birth\":\"2019-01-30T00:00:00.000\",\"outcome_type\":\"Adoption\",\"outcome_subtype\":\"Foster\",\"animal_type\":\"Dog\",\"sex_upon_outcome\":\"Neutered Male\",\"age_upon_outcome\":\"2 months\",\"breed\":\"Labrador Retriever Mix\",\"color\":\"Tan/White\"}\\n,{\"animal_id\":\"A738163\",\"name\":\"*Bobby\",\"datetime\":\"2016-11-18T22:25:00.000\",\"monthyear\":\"2016-11-18T22:25:00.000\",\"date_of_birth\":\"2014-11-06T00:00:00.000\",\"outcome_type\":\"Adoption\",\"animal_type\":\"Dog\",\"sex_upon_outcome\":\"Neutered Male\",\"age_upon_outcome\":\"2 years\",\"breed\":\"Beagle Mix\",\"color\":\"Cream/White\"}\\n,{\"animal_id\":\"A733547\",\"name\":\"Serenity\",\"datetime\":\"2016-08-27T17:02:00.000\",\"monthyear\":\"2016-08-27T17:02:00.000\",\"date_of_birth\":\"2016-06-23T00:00:00.000\",\"outcome_type\":\"Adoption\",\"animal_type\":\"Dog\",\"sex_upon_outcome\":\"Spayed Female\",\"age_upon_outcome\":\"2 months\",\"breed\":\"German Shepherd Mix\",\"color\":\"Black/Tan\"}\\n,{\"animal_id\":\"A821808\",\"datetime\":\"2020-08-21T11:30:00.000\",\"monthyear\":\"2020-08-21T11:30:00.000\",\"date_of_birth\":\"2018-08-19T00:00:00.000\",\"outcome_type\":\"Transfer\",\"outcome_subtype\":\"Partner\",\"animal_type\":\"Cat\",\"sex_upon_outcome\":\"Intact Female\",\"age_upon_outcome\":\"2 years\",\"breed\":\"Domestic Shorthair\",\"color\":\"Tortie\"}\\n,{\"animal_id\":\"A669594\",\"name\":\"*Bunny\",\"datetime\":\"2014-01-21T18:34:00.000\",\"monthyear\":\"2014-01-21T18:34:00.000\",\"date_of_birth\":\"2013-11-23T00:00:00.000\",\"outcome_type\":\"Adoption\",\"outcome_subtype\":\"Foster\",\"animal_type\":\"Cat\",\"sex_upon_outcome\":\"Spayed Female\",\"age_upon_outcome\":\"1 month\",\"breed\":\"Domestic Medium Hair Mix\",\"color\":\"Black\"}\\n,{\"animal_id\":\"A818339\",\"name\":\"Scurvy\",\"datetime\":\"2020-08-14T00:00:00.000\",\"monthyear\":\"2020-08-14T00:00:00.000\",\"date_of_birth\":\"2017-06-05T00:00:00.000\",\"outcome_type\":\"Adoption\",\"animal_type\":\"Cat\",\"sex_upon_outcome\":\"Neutered Male\",\"age_upon_outcome\":\"3 years\",\"breed\":\"Domestic Shorthair\",\"color\":\"Brown Tabby/White\"}\\n,{\"animal_id\":\"A790471\",\"datetime\":\"2019-03-11T16:12:00.000\",\"monthyear\":\"2019-03-11T16:12:00.000\",\"date_of_birth\":\"2016-03-11T00:00:00.000\",\"outcome_type\":\"Transfer\",\"outcome_subtype\":\"Partner\",\"animal_type\":\"Cat\",\"sex_upon_outcome\":\"Neutered Male\",\"age_upon_outcome\":\"3 years\",\"breed\":\"Domestic Medium Hair\",\"color\":\"Blue/White\"}\\n,{\"animal_id\":\"A705991\",\"datetime\":\"2015-06-23T14:15:00.000\",\"monthyear\":\"2015-06-23T14:15:00.000\",\"date_of_birth\":\"2015-06-08T00:00:00.000\",\"outcome_type\":\"Transfer\",\"outcome_subtype\":\"Partner\",\"animal_type\":\"Cat\",\"sex_upon_outcome\":\"Unknown\",\"age_upon_outcome\":\"2 weeks\",\"breed\":\"Domestic Shorthair Mix\",\"color\":\"Black/White\"}\\n,{\"animal_id\":\"A734034\",\"datetime\":\"2016-09-04T17:44:00.000\",\"monthyear\":\"2016-09-04T17:44:00.000\",\"date_of_birth\":\"2016-05-01T00:00:00.000\",\"outcome_type\":\"Adoption\",\"animal_type\":\"Cat\",\"sex_upon_outcome\":\"Neutered Male\",\"age_upon_outcome\":\"4 months\",\"breed\":\"Domestic Shorthair Mix\",\"color\":\"Orange Tabby\"}\\n,{\"animal_id\":\"A739413\",\"datetime\":\"2016-12-12T16:05:00.000\",\"monthyear\":\"2016-12-12T16:05:00.000\",\"date_of_birth\":\"2015-12-02T00:00:00.000\",\"outcome_type\":\"Transfer\",\"outcome_subtype\":\"SCRP\",\"animal_type\":\"Cat\",\"sex_upon_outcome\":\"Spayed Female\",\"age_upon_outcome\":\"1 year\",\"breed\":\"Domestic Shorthair Mix\",\"color\":\"Seal Point/Gray\"}\\n,{\"animal_id\":\"A740783\",\"name\":\"Sara\",\"datetime\":\"2016-12-31T15:54:00.000\",\"monthyear\":\"2016-12-31T15:54:00.000\",\"date_of_birth\":\"2015-12-22T00:00:00.000\",\"outcome_type\":\"Adoption\",\"animal_type\":\"Dog\",\"sex_upon_outcome\":\"Spayed Female\",\"age_upon_outcome\":\"1 year\",\"breed\":\"Dalmatian/Labrador Retriever\",\"color\":\"White\"}\\n,{\"animal_id\":\"A875618\",\"datetime\":\"2023-03-06T13:38:00.000\",\"monthyear\":\"2023-03-06T13:38:00.000\",\"date_of_birth\":\"2021-03-02T00:00:00.000\",\"outcome_type\":\"Euthanasia\",\"outcome_subtype\":\"Rabies Risk\",\"animal_type\":\"Other\",\"sex_upon_outcome\":\"Unknown\",\"age_upon_outcome\":\"2 years\",\"breed\":\"Raccoon\",\"color\":\"Gray/Black\"}\\n,{\"animal_id\":\"A704239\",\"name\":\"Buddy\",\"datetime\":\"2015-06-09T18:37:00.000\",\"monthyear\":\"2015-06-09T18:37:00.000\",\"date_of_birth\":\"2014-06-02T00:00:00.000\",\"outcome_type\":\"Adoption\",\"animal_type\":\"Dog\",\"sex_upon_outcome\":\"Neutered Male\",\"age_upon_outcome\":\"1 year\",\"breed\":\"Labrador Retriever Mix\",\"color\":\"Black/White\"}\\n,{\"animal_id\":\"A838402\",\"name\":\"Ginger\",\"datetime\":\"2021-07-20T16:15:00.000\",\"monthyear\":\"2021-07-20T16:15:00.000\",\"date_of_birth\":\"2021-03-31T00:00:00.000\",\"outcome_type\":\"Adoption\",\"animal_type\":\"Cat\",\"sex_upon_outcome\":\"Spayed Female\",\"age_upon_outcome\":\"3 months\",\"breed\":\"Domestic Shorthair\",\"color\":\"Torbie/White\"}\\n,{\"animal_id\":\"A773427\",\"name\":\"Fluff\",\"datetime\":\"2018-06-13T16:32:00.000\",\"monthyear\":\"2018-06-13T16:32:00.000\",\"date_of_birth\":\"2016-05-31T00:00:00.000\",\"outcome_type\":\"Transfer\",\"outcome_subtype\":\"Partner\",\"animal_type\":\"Cat\",\"sex_upon_outcome\":\"Spayed Female\",\"age_upon_outcome\":\"2 years\",\"breed\":\"Domestic Longhair Mix\",\"color\":\"Black\"}\\n,{\"animal_id\":\"A800418\",\"name\":\"Walter\",\"datetime\":\"2019-07-24T16:15:00.000\",\"monthyear\":\"2019-07-24T16:15:00.000\",\"date_of_birth\":\"2017-07-20T00:00:00.000\",\"outcome_type\":\"Adoption\",\"animal_type\":\"Dog\",\"sex_upon_outcome\":\"Neutered Male\",\"age_upon_outcome\":\"2 years\",\"breed\":\"Jack Russell Terrier\",\"color\":\"White/Tricolor\"}\\n,{\"animal_id\":\"A562564\",\"name\":\"Goliath\",\"datetime\":\"2014-07-25T11:31:00.000\",\"monthyear\":\"2014-07-25T11:31:00.000\",\"date_of_birth\":\"2005-12-09T00:00:00.000\",\"outcome_type\":\"Return to Owner\",\"animal_type\":\"Dog\",\"sex_upon_outcome\":\"Neutered Male\",\"age_upon_outcome\":\"8 years\",\"breed\":\"Australian Shepherd Mix\",\"color\":\"Tricolor\"}\\n,{\"animal_id\":\"A776528\",\"name\":\"Raiden\",\"datetime\":\"2018-07-23T17:40:00.000\",\"monthyear\":\"2018-07-23T17:40:00.000\",\"date_of_birth\":\"2017-07-15T00:00:00.000\",\"outcome_type\":\"Adoption\",\"animal_type\":\"Dog\",\"sex_upon_outcome\":\"Neutered Male\",\"age_upon_outcome\":\"1 year\",\"breed\":\"Boxer Mix\",\"color\":\"White/Tan\"}\\n,{\"animal_id\":\"A785490\",\"name\":\"Charlie\",\"datetime\":\"2018-12-04T11:18:00.000\",\"monthyear\":\"2018-12-04T11:18:00.000\",\"date_of_birth\":\"2017-12-04T00:00:00.000\",\"outcome_type\":\"Return to Owner\",\"animal_type\":\"Dog\",\"sex_upon_outcome\":\"Intact Male\",\"age_upon_outcome\":\"1 year\",\"breed\":\"Yorkshire Terrier\",\"color\":\"Silver/Tan\"}\\n,{\"animal_id\":\"A741019\",\"name\":\"Pumpkin\",\"datetime\":\"2016-12-27T19:15:00.000\",\"monthyear\":\"2016-12-27T19:15:00.000\",\"date_of_birth\":\"2014-12-26T00:00:00.000\",\"outcome_type\":\"Return to Owner\",\"animal_type\":\"Dog\",\"sex_upon_outcome\":\"Spayed Female\",\"age_upon_outcome\":\"2 years\",\"breed\":\"American Bulldog Mix\",\"color\":\"White/Tan\"}\\n,{\"animal_id\":\"A813630\",\"name\":\"Kobe\",\"datetime\":\"2020-02-18T17:32:00.000\",\"monthyear\":\"2020-02-18T17:32:00.000\",\"date_of_birth\":\"2019-12-14T00:00:00.000\",\"outcome_type\":\"Adoption\",\"animal_type\":\"Dog\",\"sex_upon_outcome\":\"Spayed Female\",\"age_upon_outcome\":\"2 months\",\"breed\":\"Dachshund/Chihuahua Shorthair\",\"color\":\"Tan/White\"}\\n,{\"animal_id\":\"A789369\",\"name\":\"Precious\",\"datetime\":\"2019-04-09T14:15:00.000\",\"monthyear\":\"2019-04-09T14:15:00.000\",\"date_of_birth\":\"2009-03-03T00:00:00.000\",\"outcome_type\":\"Transfer\",\"outcome_subtype\":\"Partner\",\"animal_type\":\"Cat\",\"sex_upon_outcome\":\"Spayed Female\",\"age_upon_outcome\":\"10 years\",\"breed\":\"Domestic Shorthair Mix\",\"color\":\"Brown Tabby/White\"}\\n,{\"animal_id\":\"A736952\",\"datetime\":\"2016-10-21T10:41:00.000\",\"monthyear\":\"2016-10-21T10:41:00.000\",\"date_of_birth\":\"2015-10-20T00:00:00.000\",\"outcome_type\":\"Euthanasia\",\"outcome_subtype\":\"Rabies Risk\",\"animal_type\":\"Other\",\"sex_upon_outcome\":\"Unknown\",\"age_upon_outcome\":\"1 year\",\"breed\":\"Raccoon Mix\",\"color\":\"Gray\"}\\n,{\"animal_id\":\"A810294\",\"name\":\"Canelo\",\"datetime\":\"2021-04-30T17:47:00.000\",\"monthyear\":\"2021-04-30T17:47:00.000\",\"date_of_birth\":\"2019-04-10T00:00:00.000\",\"outcome_type\":\"Return to Owner\",\"animal_type\":\"Dog\",\"sex_upon_outcome\":\"Intact Male\",\"age_upon_outcome\":\"2 years\",\"breed\":\"Pit Bull/Chinese Sharpei\",\"color\":\"Brown/White\"}\\n,{\"animal_id\":\"A796246\",\"datetime\":\"2019-06-01T15:16:00.000\",\"monthyear\":\"2019-06-01T15:16:00.000\",\"date_of_birth\":\"2019-03-30T00:00:00.000\",\"outcome_type\":\"Transfer\",\"outcome_subtype\":\"Partner\",\"animal_type\":\"Cat\",\"sex_upon_outcome\":\"Intact Male\",\"age_upon_outcome\":\"2 months\",\"breed\":\"Domestic Shorthair\",\"color\":\"Brown Tabby\"}\\n,{\"animal_id\":\"A819058\",\"datetime\":\"2020-06-25T14:46:00.000\",\"monthyear\":\"2020-06-25T14:46:00.000\",\"date_of_birth\":\"2015-06-21T00:00:00.000\",\"outcome_type\":\"Transfer\",\"outcome_subtype\":\"Partner\",\"animal_type\":\"Dog\",\"sex_upon_outcome\":\"Intact Female\",\"age_upon_outcome\":\"5 years\",\"breed\":\"Yorkshire Terrier/Chihuahua Shorthair\",\"color\":\"Cream\"}\\n,{\"animal_id\":\"A824299\",\"name\":\"*Sakura\",\"datetime\":\"2021-01-29T11:40:00.000\",\"monthyear\":\"2021-01-29T11:40:00.000\",\"date_of_birth\":\"2019-10-10T00:00:00.000\",\"outcome_type\":\"Adoption\",\"outcome_subtype\":\"Foster\",\"animal_type\":\"Cat\",\"sex_upon_outcome\":\"Spayed Female\",\"age_upon_outcome\":\"1 year\",\"breed\":\"Domestic Shorthair Mix\",\"color\":\"Brown Tabby\"}\\n,{\"animal_id\":\"A672968\",\"datetime\":\"2014-02-19T10:25:00.000\",\"monthyear\":\"2014-02-19T10:25:00.000\",\"date_of_birth\":\"2011-02-18T00:00:00.000\",\"outcome_type\":\"Euthanasia\",\"outcome_subtype\":\"Rabies Risk\",\"animal_type\":\"Other\",\"sex_upon_outcome\":\"Unknown\",\"age_upon_outcome\":\"3 years\",\"breed\":\"Bat Mix\",\"color\":\"Brown\"}\\n,{\"animal_id\":\"A809173\",\"datetime\":\"2019-11-24T10:20:00.000\",\"monthyear\":\"2019-11-24T10:20:00.000\",\"date_of_birth\":\"2018-11-20T00:00:00.000\",\"outcome_type\":\"Transfer\",\"outcome_subtype\":\"Snr\",\"animal_type\":\"Cat\",\"sex_upon_outcome\":\"Intact Male\",\"age_upon_outcome\":\"1 year\",\"breed\":\"Domestic Shorthair\",\"color\":\"Brown Tabby\"}\\n,{\"animal_id\":\"A762192\",\"datetime\":\"2017-11-18T19:09:00.000\",\"monthyear\":\"2017-11-18T19:09:00.000\",\"date_of_birth\":\"2017-08-15T00:00:00.000\",\"outcome_type\":\"Transfer\",\"outcome_subtype\":\"Snr\",\"animal_type\":\"Cat\",\"sex_upon_outcome\":\"Intact Male\",\"age_upon_outcome\":\"3 months\",\"breed\":\"Domestic Shorthair Mix\",\"color\":\"Gray Tabby/White\"}\\n,{\"animal_id\":\"A667475\",\"name\":\"*Lovie\",\"datetime\":\"2013-12-17T17:08:00.000\",\"monthyear\":\"2013-12-17T17:08:00.000\",\"date_of_birth\":\"2008-11-30T00:00:00.000\",\"outcome_type\":\"Adoption\",\"animal_type\":\"Cat\",\"sex_upon_outcome\":\"Spayed Female\",\"age_upon_outcome\":\"5 years\",\"breed\":\"Domestic Shorthair Mix\",\"color\":\"Brown Tabby/White\"}\\n,{\"animal_id\":\"A620178\",\"name\":\"*Melody\",\"datetime\":\"2014-08-10T12:48:00.000\",\"monthyear\":\"2014-08-10T12:48:00.000\",\"date_of_birth\":\"2010-02-14T00:00:00.000\",\"outcome_type\":\"Adoption\",\"animal_type\":\"Dog\",\"sex_upon_outcome\":\"Spayed Female\",\"age_upon_outcome\":\"4 years\",\"breed\":\"Dogue De Bordeaux Mix\",\"color\":\"Brown/White\"}\\n,{\"animal_id\":\"A824740\",\"datetime\":\"2020-12-18T07:55:00.000\",\"monthyear\":\"2020-12-18T07:55:00.000\",\"date_of_birth\":\"2020-09-15T00:00:00.000\",\"outcome_type\":\"Adoption\",\"outcome_subtype\":\"Foster\",\"animal_type\":\"Cat\",\"sex_upon_outcome\":\"Spayed Female\",\"age_upon_outcome\":\"3 months\",\"breed\":\"Domestic Shorthair Mix\",\"color\":\"Orange Tabby/White\"}\\n,{\"animal_id\":\"A755005\",\"datetime\":\"2017-07-27T19:00:00.000\",\"monthyear\":\"2017-07-27T19:00:00.000\",\"date_of_birth\":\"2017-07-24T00:00:00.000\",\"outcome_type\":\"Transfer\",\"outcome_subtype\":\"Partner\",\"animal_type\":\"Cat\",\"sex_upon_outcome\":\"Unknown\",\"age_upon_outcome\":\"3 days\",\"breed\":\"Domestic Shorthair Mix\",\"color\":\"Orange Tabby\"}\\n,{\"animal_id\":\"A766628\",\"name\":\"Indison Jame\",\"datetime\":\"2018-02-18T15:21:00.000\",\"monthyear\":\"2018-02-18T15:21:00.000\",\"date_of_birth\":\"2016-02-13T00:00:00.000\",\"outcome_type\":\"Adoption\",\"animal_type\":\"Cat\",\"sex_upon_outcome\":\"Neutered Male\",\"age_upon_outcome\":\"2 years\",\"breed\":\"Domestic Shorthair Mix\",\"color\":\"Orange Tabby/White\"}\\n,{\"animal_id\":\"A780901\",\"name\":\"*Padfoot\",\"datetime\":\"2019-06-23T19:01:00.000\",\"monthyear\":\"2019-06-23T19:01:00.000\",\"date_of_birth\":\"2016-09-21T00:00:00.000\",\"outcome_type\":\"Adoption\",\"animal_type\":\"Dog\",\"sex_upon_outcome\":\"Neutered Male\",\"age_upon_outcome\":\"2 years\",\"breed\":\"Pit Bull Mix\",\"color\":\"Blue/White\"}\\n,{\"animal_id\":\"A783322\",\"name\":\"*Flynn\",\"datetime\":\"2018-11-04T15:39:00.000\",\"monthyear\":\"2018-11-04T15:39:00.000\",\"date_of_birth\":\"2015-10-29T00:00:00.000\",\"outcome_type\":\"Adoption\",\"animal_type\":\"Cat\",\"sex_upon_outcome\":\"Neutered Male\",\"age_upon_outcome\":\"3 years\",\"breed\":\"Domestic Shorthair Mix\",\"color\":\"Blue Tabby\"}\\n,{\"animal_id\":\"A788866\",\"datetime\":\"2019-02-15T12:02:00.000\",\"monthyear\":\"2019-02-15T12:02:00.000\",\"date_of_birth\":\"2019-12-06T00:00:00.000\",\"outcome_type\":\"Adoption\",\"animal_type\":\"Dog\",\"sex_upon_outcome\":\"Neutered Male\",\"age_upon_outcome\":\"0 years\",\"breed\":\"German Shepherd/Catahoula\",\"color\":\"Black Brindle\"}\\n,{\"animal_id\":\"A691708\",\"datetime\":\"2014-11-09T09:00:00.000\",\"monthyear\":\"2014-11-09T09:00:00.000\",\"date_of_birth\":\"2014-08-01T00:00:00.000\",\"outcome_type\":\"Transfer\",\"outcome_subtype\":\"SCRP\",\"animal_type\":\"Cat\",\"sex_upon_outcome\":\"Intact Female\",\"age_upon_outcome\":\"3 months\",\"breed\":\"Domestic Shorthair Mix\",\"color\":\"Brown Tabby/White\"}\\n,{\"animal_id\":\"A686923\",\"datetime\":\"2014-09-02T17:42:00.000\",\"monthyear\":\"2014-09-02T17:42:00.000\",\"date_of_birth\":\"2011-08-29T00:00:00.000\",\"outcome_type\":\"Adoption\",\"animal_type\":\"Dog\",\"sex_upon_outcome\":\"Spayed Female\",\"age_upon_outcome\":\"3 years\",\"breed\":\"Dachshund Mix\",\"color\":\"Red\"}\\n,{\"animal_id\":\"A779187\",\"name\":\"Duke\",\"datetime\":\"2018-11-02T11:40:00.000\",\"monthyear\":\"2018-11-02T11:40:00.000\",\"date_of_birth\":\"2011-08-27T00:00:00.000\",\"outcome_type\":\"Transfer\",\"outcome_subtype\":\"Partner\",\"animal_type\":\"Dog\",\"sex_upon_outcome\":\"Intact Male\",\"age_upon_outcome\":\"7 years\",\"breed\":\"Great Dane Mix\",\"color\":\"Brown/Tricolor\"}\\n,{\"animal_id\":\"A778113\",\"datetime\":\"2018-08-09T17:36:00.000\",\"monthyear\":\"2018-08-09T17:36:00.000\",\"date_of_birth\":\"2017-08-08T00:00:00.000\",\"outcome_type\":\"Transfer\",\"outcome_subtype\":\"Partner\",\"animal_type\":\"Cat\",\"sex_upon_outcome\":\"Intact Female\",\"age_upon_outcome\":\"1 year\",\"breed\":\"Domestic Shorthair Mix\",\"color\":\"Black\"}\\n,{\"animal_id\":\"A754434\",\"datetime\":\"2017-07-24T17:22:00.000\",\"monthyear\":\"2017-07-24T17:22:00.000\",\"date_of_birth\":\"2016-07-20T00:00:00.000\",\"outcome_type\":\"Adoption\",\"animal_type\":\"Dog\",\"sex_upon_outcome\":\"Neutered Male\",\"age_upon_outcome\":\"1 year\",\"breed\":\"Border Collie Mix\",\"color\":\"Black/White\"}\\n,{\"animal_id\":\"A763747\",\"name\":\"*Louise\",\"datetime\":\"2017-12-21T18:41:00.000\",\"monthyear\":\"2017-12-21T18:41:00.000\",\"date_of_birth\":\"2016-06-15T00:00:00.000\",\"outcome_type\":\"Adoption\",\"animal_type\":\"Cat\",\"sex_upon_outcome\":\"Spayed Female\",\"age_upon_outcome\":\"1 year\",\"breed\":\"Domestic Shorthair Mix\",\"color\":\"Gray/White\"}\\n,{\"animal_id\":\"A733608\",\"name\":\"*Suzy\",\"datetime\":\"2016-08-28T17:03:00.000\",\"monthyear\":\"2016-08-28T17:03:00.000\",\"date_of_birth\":\"2015-08-24T00:00:00.000\",\"outcome_type\":\"Adoption\",\"animal_type\":\"Dog\",\"sex_upon_outcome\":\"Spayed Female\",\"age_upon_outcome\":\"1 year\",\"breed\":\"Pit Bull Mix\",\"color\":\"Blue/White\"}\\n,{\"animal_id\":\"A726944\",\"name\":\"*Sweet Pea\",\"datetime\":\"2016-06-08T00:00:00.000\",\"monthyear\":\"2016-06-08T00:00:00.000\",\"date_of_birth\":\"2006-05-16T00:00:00.000\",\"outcome_type\":\"Transfer\",\"outcome_subtype\":\"Partner\",\"animal_type\":\"Dog\",\"sex_upon_outcome\":\"Intact Female\",\"age_upon_outcome\":\"10 years\",\"breed\":\"Labrador Retriever Mix\",\"color\":\"Black\"}\\n,{\"animal_id\":\"A668178\",\"name\":\"*Owen\",\"datetime\":\"2014-01-02T18:37:00.000\",\"monthyear\":\"2014-01-02T18:37:00.000\",\"date_of_birth\":\"2013-11-09T00:00:00.000\",\"outcome_type\":\"Adoption\",\"outcome_subtype\":\"Foster\",\"animal_type\":\"Cat\",\"sex_upon_outcome\":\"Neutered Male\",\"age_upon_outcome\":\"1 month\",\"breed\":\"Domestic Shorthair Mix\",\"color\":\"Blue\"}\\n,{\"animal_id\":\"A784785\",\"name\":\"Beau Beau\",\"datetime\":\"2019-03-15T14:30:00.000\",\"monthyear\":\"2019-03-15T14:30:00.000\",\"date_of_birth\":\"2016-11-20T00:00:00.000\",\"outcome_type\":\"Return to Owner\",\"animal_type\":\"Dog\",\"sex_upon_outcome\":\"Intact Male\",\"age_upon_outcome\":\"2 years\",\"breed\":\"Australian Kelpie Mix\",\"color\":\"Black\"}\\n,{\"animal_id\":\"A680187\",\"datetime\":\"2014-05-30T17:29:00.000\",\"monthyear\":\"2014-05-30T17:29:00.000\",\"date_of_birth\":\"2013-12-15T00:00:00.000\",\"outcome_type\":\"Transfer\",\"outcome_subtype\":\"Partner\",\"animal_type\":\"Dog\",\"sex_upon_outcome\":\"Intact Male\",\"age_upon_outcome\":\"5 months\",\"breed\":\"Miniature Poodle Mix\",\"color\":\"White\"}\\n,{\"animal_id\":\"A809376\",\"name\":\"Pippa\",\"datetime\":\"2019-11-30T16:18:00.000\",\"monthyear\":\"2019-11-30T16:18:00.000\",\"date_of_birth\":\"2018-11-23T00:00:00.000\",\"outcome_type\":\"Adoption\",\"animal_type\":\"Dog\",\"sex_upon_outcome\":\"Spayed Female\",\"age_upon_outcome\":\"1 year\",\"breed\":\"American Pit Bull Terrier Mix\",\"color\":\"White/Black\"}\\n,{\"animal_id\":\"A741751\",\"name\":\"*Terrence\",\"datetime\":\"2017-01-11T13:30:00.000\",\"monthyear\":\"2017-01-11T13:30:00.000\",\"date_of_birth\":\"2015-01-07T00:00:00.000\",\"outcome_type\":\"Transfer\",\"outcome_subtype\":\"Partner\",\"animal_type\":\"Cat\",\"sex_upon_outcome\":\"Neutered Male\",\"age_upon_outcome\":\"2 years\",\"breed\":\"Domestic Shorthair Mix\",\"color\":\"Brown Tabby\"}\\n,{\"animal_id\":\"A787270\",\"name\":\"*Monty\",\"datetime\":\"2019-01-28T15:39:00.000\",\"monthyear\":\"2019-01-28T15:39:00.000\",\"date_of_birth\":\"2018-06-04T00:00:00.000\",\"outcome_type\":\"Transfer\",\"outcome_subtype\":\"Partner\",\"animal_type\":\"Cat\",\"sex_upon_outcome\":\"Intact Male\",\"age_upon_outcome\":\"7 months\",\"breed\":\"Domestic Shorthair Mix\",\"color\":\"Black Tabby/White\"}\\n,{\"animal_id\":\"A676006\",\"name\":\"*Allie\",\"datetime\":\"2014-06-03T12:02:00.000\",\"monthyear\":\"2014-06-03T12:02:00.000\",\"date_of_birth\":\"2009-04-03T00:00:00.000\",\"outcome_type\":\"Adoption\",\"animal_type\":\"Dog\",\"sex_upon_outcome\":\"Spayed Female\",\"age_upon_outcome\":\"5 years\",\"breed\":\"Chihuahua Shorthair/Pug\",\"color\":\"Brown\"}\\n,{\"animal_id\":\"A757510\",\"datetime\":\"2017-09-09T12:43:00.000\",\"monthyear\":\"2017-09-09T12:43:00.000\",\"date_of_birth\":\"2017-05-03T00:00:00.000\",\"outcome_type\":\"Adoption\",\"outcome_subtype\":\"Offsite\",\"animal_type\":\"Dog\",\"sex_upon_outcome\":\"Neutered Male\",\"age_upon_outcome\":\"4 months\",\"breed\":\"Greyhound Mix\",\"color\":\"Brown Brindle/White\"}\\n,{\"animal_id\":\"A702403\",\"name\":\"Harvey\",\"datetime\":\"2015-06-14T12:57:00.000\",\"monthyear\":\"2015-06-14T12:57:00.000\",\"date_of_birth\":\"2015-04-06T00:00:00.000\",\"outcome_type\":\"Adoption\",\"animal_type\":\"Cat\",\"sex_upon_outcome\":\"Neutered Male\",\"age_upon_outcome\":\"2 months\",\"breed\":\"Domestic Shorthair Mix\",\"color\":\"Black\"}\\n,{\"animal_id\":\"A732061\",\"name\":\"*Otto\",\"datetime\":\"2018-01-28T17:50:00.000\",\"monthyear\":\"2018-01-28T17:50:00.000\",\"date_of_birth\":\"2014-08-01T00:00:00.000\",\"outcome_type\":\"Adoption\",\"animal_type\":\"Cat\",\"sex_upon_outcome\":\"Neutered Male\",\"age_upon_outcome\":\"3 years\",\"breed\":\"Domestic Medium Hair Mix\",\"color\":\"Brown Tabby/White\"}\\n,{\"animal_id\":\"A840112\",\"name\":\"Cuddle Bug\",\"datetime\":\"2021-08-11T12:49:00.000\",\"monthyear\":\"2021-08-11T12:49:00.000\",\"date_of_birth\":\"2013-04-02T00:00:00.000\",\"outcome_type\":\"Adoption\",\"animal_type\":\"Cat\",\"sex_upon_outcome\":\"Neutered Male\",\"age_upon_outcome\":\"8 years\",\"breed\":\"Domestic Shorthair Mix\",\"color\":\"Blue/White\"}\\n,{\"animal_id\":\"A814266\",\"name\":\"Lily\",\"datetime\":\"2020-09-25T13:55:00.000\",\"monthyear\":\"2020-09-25T13:55:00.000\",\"date_of_birth\":\"2019-12-08T00:00:00.000\",\"outcome_type\":\"Return to Owner\",\"animal_type\":\"Dog\",\"sex_upon_outcome\":\"Spayed Female\",\"age_upon_outcome\":\"9 months\",\"breed\":\"Chihuahua Shorthair/Dachshund\",\"color\":\"Brown/Tan\"}\\n,{\"animal_id\":\"A733502\",\"name\":\"*Sanya\",\"datetime\":\"2017-01-29T15:08:00.000\",\"monthyear\":\"2017-01-29T15:08:00.000\",\"date_of_birth\":\"2016-06-22T00:00:00.000\",\"outcome_type\":\"Adoption\",\"animal_type\":\"Cat\",\"sex_upon_outcome\":\"Spayed Female\",\"age_upon_outcome\":\"7 months\",\"breed\":\"Domestic Medium Hair Mix\",\"color\":\"Black\"}\\n,{\"animal_id\":\"A724370\",\"name\":\"Chewbacca\",\"datetime\":\"2016-04-20T17:09:00.000\",\"monthyear\":\"2016-04-20T17:09:00.000\",\"date_of_birth\":\"2015-04-16T00:00:00.000\",\"outcome_type\":\"Return to Owner\",\"animal_type\":\"Dog\",\"sex_upon_outcome\":\"Neutered Male\",\"age_upon_outcome\":\"1 year\",\"breed\":\"Shih Tzu Mix\",\"color\":\"Tan\"}\\n,{\"animal_id\":\"A755635\",\"name\":\"*Zorro\",\"datetime\":\"2017-08-14T16:11:00.000\",\"monthyear\":\"2017-08-14T16:11:00.000\",\"date_of_birth\":\"2016-10-06T00:00:00.000\",\"outcome_type\":\"Transfer\",\"outcome_subtype\":\"Partner\",\"animal_type\":\"Dog\",\"sex_upon_outcome\":\"Neutered Male\",\"age_upon_outcome\":\"10 months\",\"breed\":\"Labrador Retriever/Jack Russell Terrier\",\"color\":\"Yellow/White\"}\\n,{\"animal_id\":\"A652862\",\"name\":\"Ace Hunter\",\"datetime\":\"2019-09-27T06:44:00.000\",\"monthyear\":\"2019-09-27T06:44:00.000\",\"date_of_birth\":\"2013-03-01T00:00:00.000\",\"outcome_type\":\"Adoption\",\"outcome_subtype\":\"Foster\",\"animal_type\":\"Dog\",\"sex_upon_outcome\":\"Neutered Male\",\"age_upon_outcome\":\"6 years\",\"breed\":\"Pointer Mix\",\"color\":\"White/Red Tick\"}\\n,{\"animal_id\":\"A802238\",\"datetime\":\"2019-08-19T11:59:00.000\",\"monthyear\":\"2019-08-19T11:59:00.000\",\"date_of_birth\":\"2017-08-15T00:00:00.000\",\"outcome_type\":\"Transfer\",\"outcome_subtype\":\"Snr\",\"animal_type\":\"Cat\",\"sex_upon_outcome\":\"Intact Male\",\"age_upon_outcome\":\"2 years\",\"breed\":\"Domestic Shorthair\",\"color\":\"Cream Tabby/White\"}\\n,{\"animal_id\":\"A781464\",\"name\":\"Panther\",\"datetime\":\"2018-10-10T18:03:00.000\",\"monthyear\":\"2018-10-10T18:03:00.000\",\"date_of_birth\":\"2011-09-30T00:00:00.000\",\"outcome_type\":\"Died\",\"outcome_subtype\":\"In Kennel\",\"animal_type\":\"Cat\",\"sex_upon_outcome\":\"Neutered Male\",\"age_upon_outcome\":\"7 years\",\"breed\":\"Domestic Shorthair Mix\",\"color\":\"Blue\"}\\n,{\"animal_id\":\"A723402\",\"name\":\"Grendle\",\"datetime\":\"2016-04-11T12:16:00.000\",\"monthyear\":\"2016-04-11T12:16:00.000\",\"date_of_birth\":\"2004-03-31T00:00:00.000\",\"outcome_type\":\"Return to Owner\",\"animal_type\":\"Dog\",\"sex_upon_outcome\":\"Spayed Female\",\"age_upon_outcome\":\"12 years\",\"breed\":\"Catahoula Mix\",\"color\":\"Tricolor\"}\\n,{\"animal_id\":\"A752358\",\"name\":\"Juno\",\"datetime\":\"2017-06-27T16:50:00.000\",\"monthyear\":\"2017-06-27T16:50:00.000\",\"date_of_birth\":\"2017-04-21T00:00:00.000\",\"outcome_type\":\"Adoption\",\"animal_type\":\"Cat\",\"sex_upon_outcome\":\"Spayed Female\",\"age_upon_outcome\":\"2 months\",\"breed\":\"Domestic Shorthair Mix\",\"color\":\"Calico\"}\\n,{\"animal_id\":\"A690574\",\"name\":\"Sugar\",\"datetime\":\"2014-10-23T18:56:00.000\",\"monthyear\":\"2014-10-23T18:56:00.000\",\"date_of_birth\":\"2005-06-12T00:00:00.000\",\"outcome_type\":\"Return to Owner\",\"animal_type\":\"Dog\",\"sex_upon_outcome\":\"Spayed Female\",\"age_upon_outcome\":\"9 years\",\"breed\":\"Pointer\",\"color\":\"Brown Brindle/White\"}\\n,{\"animal_id\":\"A709678\",\"name\":\"Princess\",\"datetime\":\"2015-08-14T11:20:00.000\",\"monthyear\":\"2015-08-14T11:20:00.000\",\"date_of_birth\":\"2015-02-12T00:00:00.000\",\"outcome_type\":\"Return to Owner\",\"animal_type\":\"Dog\",\"sex_upon_outcome\":\"Spayed Female\",\"age_upon_outcome\":\"6 months\",\"breed\":\"Australian Cattle Dog/Pembroke Welsh Corgi\",\"color\":\"Tan/White\"}\\n,{\"animal_id\":\"A832994\",\"datetime\":\"2021-04-26T12:40:00.000\",\"monthyear\":\"2021-04-26T12:40:00.000\",\"date_of_birth\":\"2020-03-22T00:00:00.000\",\"outcome_type\":\"Transfer\",\"outcome_subtype\":\"Partner\",\"animal_type\":\"Dog\",\"sex_upon_outcome\":\"Intact Male\",\"age_upon_outcome\":\"1 year\",\"breed\":\"Cairn Terrier Mix\",\"color\":\"Gray/White\"}\\n,{\"animal_id\":\"A819091\",\"name\":\"Rooster\",\"datetime\":\"2020-06-23T11:25:00.000\",\"monthyear\":\"2020-06-23T11:25:00.000\",\"date_of_birth\":\"2019-06-22T00:00:00.000\",\"outcome_type\":\"Transfer\",\"outcome_subtype\":\"Partner\",\"animal_type\":\"Dog\",\"sex_upon_outcome\":\"Intact Male\",\"age_upon_outcome\":\"1 year\",\"breed\":\"Chihuahua Shorthair\",\"color\":\"Fawn\"}\\n,{\"animal_id\":\"A777939\",\"datetime\":\"2018-08-09T13:37:00.000\",\"monthyear\":\"2018-08-09T13:37:00.000\",\"date_of_birth\":\"2017-08-06T00:00:00.000\",\"outcome_type\":\"Transfer\",\"outcome_subtype\":\"Partner\",\"animal_type\":\"Cat\",\"sex_upon_outcome\":\"Spayed Female\",\"age_upon_outcome\":\"1 year\",\"breed\":\"Domestic Shorthair Mix\",\"color\":\"Tortie\"}\\n,{\"animal_id\":\"A775716\",\"datetime\":\"2018-08-07T15:43:00.000\",\"monthyear\":\"2018-08-07T15:43:00.000\",\"date_of_birth\":\"2018-07-02T00:00:00.000\",\"outcome_type\":\"Transfer\",\"outcome_subtype\":\"Partner\",\"animal_type\":\"Cat\",\"sex_upon_outcome\":\"Intact Male\",\"age_upon_outcome\":\"1 month\",\"breed\":\"Domestic Shorthair Mix\",\"color\":\"Brown Tabby\"}\\n,{\"animal_id\":\"A791462\",\"name\":\"Zeus\",\"datetime\":\"2019-04-04T18:26:00.000\",\"monthyear\":\"2019-04-04T18:26:00.000\",\"date_of_birth\":\"2017-03-26T00:00:00.000\",\"outcome_type\":\"Adoption\",\"animal_type\":\"Dog\",\"sex_upon_outcome\":\"Neutered Male\",\"age_upon_outcome\":\"2 years\",\"breed\":\"Boxer\",\"color\":\"Tan/White\"}\\n,{\"animal_id\":\"A787654\",\"name\":\"Pepper\",\"datetime\":\"2019-03-11T00:00:00.000\",\"monthyear\":\"2019-03-11T00:00:00.000\",\"date_of_birth\":\"2017-01-17T00:00:00.000\",\"outcome_type\":\"Transfer\",\"outcome_subtype\":\"Partner\",\"animal_type\":\"Cat\",\"sex_upon_outcome\":\"Neutered Male\",\"age_upon_outcome\":\"2 years\",\"breed\":\"Domestic Shorthair Mix\",\"color\":\"Brown Tabby/White\"}\\n,{\"animal_id\":\"A738333\",\"name\":\"Lady Bug\",\"datetime\":\"2016-11-15T00:00:00.000\",\"monthyear\":\"2016-11-15T00:00:00.000\",\"date_of_birth\":\"2012-11-13T00:00:00.000\",\"outcome_type\":\"Transfer\",\"outcome_subtype\":\"Partner\",\"animal_type\":\"Dog\",\"sex_upon_outcome\":\"Spayed Female\",\"age_upon_outcome\":\"4 years\",\"breed\":\"Basset Hound/Pointer\",\"color\":\"Chocolate/White\"}\\n,{\"animal_id\":\"A715154\",\"datetime\":\"2015-11-01T13:43:00.000\",\"monthyear\":\"2015-11-01T13:43:00.000\",\"date_of_birth\":\"2015-10-17T00:00:00.000\",\"outcome_type\":\"Transfer\",\"outcome_subtype\":\"Partner\",\"animal_type\":\"Cat\",\"sex_upon_outcome\":\"Intact Male\",\"age_upon_outcome\":\"2 weeks\",\"breed\":\"Domestic Shorthair Mix\",\"color\":\"Black\"}\\n,{\"animal_id\":\"A738370\",\"name\":\"*Ava\",\"datetime\":\"2016-11-18T11:42:00.000\",\"monthyear\":\"2016-11-18T11:42:00.000\",\"date_of_birth\":\"2009-11-13T00:00:00.000\",\"outcome_type\":\"Adoption\",\"animal_type\":\"Dog\",\"sex_upon_outcome\":\"Spayed Female\",\"age_upon_outcome\":\"7 years\",\"breed\":\"Schipperke Mix\",\"color\":\"Black\"}\\n,{\"animal_id\":\"A753537\",\"name\":\"Bronx\",\"datetime\":\"2021-06-26T13:42:00.000\",\"monthyear\":\"2021-06-26T13:42:00.000\",\"date_of_birth\":\"2017-06-14T00:00:00.000\",\"outcome_type\":\"Adoption\",\"animal_type\":\"Cat\",\"sex_upon_outcome\":\"Neutered Male\",\"age_upon_outcome\":\"4 years\",\"breed\":\"Domestic Shorthair Mix\",\"color\":\"Brown Tabby/White\"}\\n,{\"animal_id\":\"A732797\",\"name\":\"Roxy\",\"datetime\":\"2016-08-17T17:49:00.000\",\"monthyear\":\"2016-08-17T17:49:00.000\",\"date_of_birth\":\"2016-05-22T00:00:00.000\",\"outcome_type\":\"Adoption\",\"animal_type\":\"Dog\",\"sex_upon_outcome\":\"Spayed Female\",\"age_upon_outcome\":\"2 months\",\"breed\":\"Pit Bull Mix\",\"color\":\"Blue/White\"}\\n,{\"animal_id\":\"A631093\",\"name\":\"Chugar\",\"datetime\":\"2018-09-02T16:23:00.000\",\"monthyear\":\"2018-09-02T16:23:00.000\",\"date_of_birth\":\"2012-02-01T00:00:00.000\",\"outcome_type\":\"Adoption\",\"animal_type\":\"Dog\",\"sex_upon_outcome\":\"Spayed Female\",\"age_upon_outcome\":\"6 years\",\"breed\":\"Pit Bull Mix\",\"color\":\"White/Brown\"}\\n,{\"animal_id\":\"A828663\",\"name\":\"*Dutch\",\"datetime\":\"2021-03-11T13:49:00.000\",\"monthyear\":\"2021-03-11T13:49:00.000\",\"date_of_birth\":\"2019-01-22T00:00:00.000\",\"outcome_type\":\"Adoption\",\"animal_type\":\"Dog\",\"sex_upon_outcome\":\"Neutered Male\",\"age_upon_outcome\":\"2 years\",\"breed\":\"German Shepherd Mix\",\"color\":\"Brown\"}\\n,{\"animal_id\":\"A743072\",\"name\":\"Daisy\",\"datetime\":\"2017-02-07T17:02:00.000\",\"monthyear\":\"2017-02-07T17:02:00.000\",\"date_of_birth\":\"2013-02-03T00:00:00.000\",\"outcome_type\":\"Transfer\",\"outcome_subtype\":\"Partner\",\"animal_type\":\"Dog\",\"sex_upon_outcome\":\"Intact Female\",\"age_upon_outcome\":\"4 years\",\"breed\":\"Chihuahua Shorthair Mix\",\"color\":\"Tan/White\"}\\n,{\"animal_id\":\"A709084\",\"name\":\"Mr. Softie\",\"datetime\":\"2015-09-01T17:51:00.000\",\"monthyear\":\"2015-09-01T17:51:00.000\",\"date_of_birth\":\"2008-08-04T00:00:00.000\",\"outcome_type\":\"Transfer\",\"outcome_subtype\":\"Partner\",\"animal_type\":\"Cat\",\"sex_upon_outcome\":\"Neutered Male\",\"age_upon_outcome\":\"7 years\",\"breed\":\"Domestic Shorthair Mix\",\"color\":\"Blue\"}\\n,{\"animal_id\":\"A839344\",\"name\":\"*Floretta\",\"datetime\":\"2021-08-27T17:58:00.000\",\"monthyear\":\"2021-08-27T17:58:00.000\",\"date_of_birth\":\"2021-04-20T00:00:00.000\",\"outcome_type\":\"Adoption\",\"animal_type\":\"Cat\",\"sex_upon_outcome\":\"Spayed Female\",\"age_upon_outcome\":\"4 months\",\"breed\":\"Domestic Shorthair\",\"color\":\"Black\"}\\n,{\"animal_id\":\"A764567\",\"datetime\":\"2018-01-03T14:01:00.000\",\"monthyear\":\"2018-01-03T14:01:00.000\",\"date_of_birth\":\"2016-01-02T00:00:00.000\",\"outcome_type\":\"Died\",\"outcome_subtype\":\"In Kennel\",\"animal_type\":\"Cat\",\"sex_upon_outcome\":\"Intact Female\",\"age_upon_outcome\":\"2 years\",\"breed\":\"Domestic Shorthair Mix\",\"color\":\"Brown Tabby\"}\\n,{\"animal_id\":\"A813202\",\"name\":\"Kai\",\"datetime\":\"2020-02-15T16:28:00.000\",\"monthyear\":\"2020-02-15T16:28:00.000\",\"date_of_birth\":\"2017-08-06T00:00:00.000\",\"outcome_type\":\"Adoption\",\"animal_type\":\"Dog\",\"sex_upon_outcome\":\"Neutered Male\",\"age_upon_outcome\":\"2 years\",\"breed\":\"German Shepherd/Alaskan Husky\",\"color\":\"White/Tan\"}\\n,{\"animal_id\":\"A799677\",\"name\":\"Glory\",\"datetime\":\"2019-07-17T13:43:00.000\",\"monthyear\":\"2019-07-17T13:43:00.000\",\"date_of_birth\":\"2018-12-24T00:00:00.000\",\"outcome_type\":\"Transfer\",\"outcome_subtype\":\"Partner\",\"animal_type\":\"Dog\",\"sex_upon_outcome\":\"Intact Female\",\"age_upon_outcome\":\"6 months\",\"breed\":\"Welsh Terrier\",\"color\":\"Black\"}\\n,{\"animal_id\":\"A769611\",\"name\":\"*Ginger\",\"datetime\":\"2018-05-05T14:32:00.000\",\"monthyear\":\"2018-05-05T14:32:00.000\",\"date_of_birth\":\"2015-04-07T00:00:00.000\",\"outcome_type\":\"Adoption\",\"animal_type\":\"Dog\",\"sex_upon_outcome\":\"Spayed Female\",\"age_upon_outcome\":\"3 years\",\"breed\":\"Rat Terrier Mix\",\"color\":\"Tan/White\"}\\n,{\"animal_id\":\"A780227\",\"name\":\"*Dakota\",\"datetime\":\"2018-09-18T14:31:00.000\",\"monthyear\":\"2018-09-18T14:31:00.000\",\"date_of_birth\":\"2017-09-11T00:00:00.000\",\"outcome_type\":\"Transfer\",\"outcome_subtype\":\"Partner\",\"animal_type\":\"Dog\",\"sex_upon_outcome\":\"Intact Female\",\"age_upon_outcome\":\"1 year\",\"breed\":\"Chihuahua Shorthair\",\"color\":\"Red\"}\\n,{\"animal_id\":\"A794895\",\"datetime\":\"2019-05-17T16:03:00.000\",\"monthyear\":\"2019-05-17T16:03:00.000\",\"date_of_birth\":\"2019-02-26T00:00:00.000\",\"outcome_type\":\"Adoption\",\"animal_type\":\"Cat\",\"sex_upon_outcome\":\"Neutered Male\",\"age_upon_outcome\":\"2 months\",\"breed\":\"Domestic Shorthair\",\"color\":\"Gray Tabby/White\"}\\n,{\"animal_id\":\"A813315\",\"datetime\":\"2020-02-11T17:48:00.000\",\"monthyear\":\"2020-02-11T17:48:00.000\",\"date_of_birth\":\"2019-02-07T00:00:00.000\",\"outcome_type\":\"Adoption\",\"animal_type\":\"Dog\",\"sex_upon_outcome\":\"Spayed Female\",\"age_upon_outcome\":\"1 year\",\"breed\":\"Miniature Pinscher\",\"color\":\"Black/Tan\"}\\n,{\"animal_id\":\"A782492\",\"name\":\"Bear\",\"datetime\":\"2018-10-21T18:28:00.000\",\"monthyear\":\"2018-10-21T18:28:00.000\",\"date_of_birth\":\"2014-01-08T00:00:00.000\",\"outcome_type\":\"Transfer\",\"outcome_subtype\":\"Snr\",\"animal_type\":\"Cat\",\"sex_upon_outcome\":\"Neutered Male\",\"age_upon_outcome\":\"4 years\",\"breed\":\"Domestic Shorthair Mix\",\"color\":\"Black\"}\\n,{\"animal_id\":\"A626288\",\"name\":\"Wednesday\",\"datetime\":\"2023-03-05T18:09:00.000\",\"monthyear\":\"2023-03-05T18:09:00.000\",\"date_of_birth\":\"2012-02-16T00:00:00.000\",\"outcome_type\":\"Transfer\",\"outcome_subtype\":\"Partner\",\"animal_type\":\"Dog\",\"sex_upon_outcome\":\"Spayed Female\",\"age_upon_outcome\":\"11 years\",\"breed\":\"German Shepherd Mix\",\"color\":\"Tan/Black\"}\\n,{\"animal_id\":\"A780251\",\"name\":\"Roman\",\"datetime\":\"2018-09-12T14:25:00.000\",\"monthyear\":\"2018-09-12T14:25:00.000\",\"date_of_birth\":\"2017-09-12T00:00:00.000\",\"outcome_type\":\"Return to Owner\",\"animal_type\":\"Dog\",\"sex_upon_outcome\":\"Intact Male\",\"age_upon_outcome\":\"1 year\",\"breed\":\"Staffordshire Mix\",\"color\":\"Blue/White\"}\\n,{\"animal_id\":\"A791983\",\"name\":\"*Spice\",\"datetime\":\"2019-07-09T19:09:00.000\",\"monthyear\":\"2019-07-09T19:09:00.000\",\"date_of_birth\":\"2019-04-01T00:00:00.000\",\"outcome_type\":\"Adoption\",\"animal_type\":\"Cat\",\"sex_upon_outcome\":\"Neutered Male\",\"age_upon_outcome\":\"3 months\",\"breed\":\"Domestic Shorthair Mix\",\"color\":\"Orange Tabby\"}\\n,{\"animal_id\":\"A772665\",\"name\":\"Groot\",\"datetime\":\"2018-05-26T14:21:00.000\",\"monthyear\":\"2018-05-26T14:21:00.000\",\"date_of_birth\":\"2017-12-04T00:00:00.000\",\"outcome_type\":\"Adoption\",\"animal_type\":\"Dog\",\"sex_upon_outcome\":\"Intact Male\",\"age_upon_outcome\":\"5 months\",\"breed\":\"Anatol Shepherd/Great Pyrenees\",\"color\":\"Cream/Black\"}\\n,{\"animal_id\":\"A650850\",\"name\":\"Mili\",\"datetime\":\"2015-10-16T12:14:00.000\",\"monthyear\":\"2015-10-16T12:14:00.000\",\"date_of_birth\":\"2013-02-13T00:00:00.000\",\"outcome_type\":\"Transfer\",\"outcome_subtype\":\"Partner\",\"animal_type\":\"Dog\",\"sex_upon_outcome\":\"Intact Female\",\"age_upon_outcome\":\"2 years\",\"breed\":\"Pomeranian/Chihuahua Shorthair\",\"color\":\"Buff\"}\\n,{\"animal_id\":\"A796159\",\"name\":\"Bunny\",\"datetime\":\"2019-06-28T12:16:00.000\",\"monthyear\":\"2019-06-28T12:16:00.000\",\"date_of_birth\":\"2009-05-29T00:00:00.000\",\"outcome_type\":\"Transfer\",\"outcome_subtype\":\"Partner\",\"animal_type\":\"Dog\",\"sex_upon_outcome\":\"Spayed Female\",\"age_upon_outcome\":\"10 years\",\"breed\":\"Labrador Retriever/German Shepherd\",\"color\":\"Black/Tan\"}\\n,{\"animal_id\":\"A627576\",\"name\":\"Miles\",\"datetime\":\"2015-02-14T12:25:00.000\",\"monthyear\":\"2015-02-14T12:25:00.000\",\"date_of_birth\":\"2012-04-04T00:00:00.000\",\"outcome_type\":\"Transfer\",\"outcome_subtype\":\"Partner\",\"animal_type\":\"Dog\",\"sex_upon_outcome\":\"Neutered Male\",\"age_upon_outcome\":\"2 years\",\"breed\":\"Labrador Retriever Mix\",\"color\":\"Brown\"}\\n,{\"animal_id\":\"A792559\",\"name\":\"*Giulia\",\"datetime\":\"2019-06-29T17:22:00.000\",\"monthyear\":\"2019-06-29T17:22:00.000\",\"date_of_birth\":\"2019-04-10T00:00:00.000\",\"outcome_type\":\"Adoption\",\"animal_type\":\"Cat\",\"sex_upon_outcome\":\"Spayed Female\",\"age_upon_outcome\":\"2 months\",\"breed\":\"Domestic Medium Hair Mix\",\"color\":\"Orange Tabby/White\"}\\n,{\"animal_id\":\"A694935\",\"name\":\"Akira\",\"datetime\":\"2023-03-05T13:00:00.000\",\"monthyear\":\"2023-03-05T13:00:00.000\",\"date_of_birth\":\"2014-01-07T00:00:00.000\",\"outcome_type\":\"Transfer\",\"outcome_subtype\":\"Partner\",\"animal_type\":\"Dog\",\"sex_upon_outcome\":\"Spayed Female\",\"age_upon_outcome\":\"9 years\",\"breed\":\"Rat Terrier/Dachshund Wirehair\",\"color\":\"White/Black\"}\\n,{\"animal_id\":\"A766118\",\"datetime\":\"2018-02-05T19:03:00.000\",\"monthyear\":\"2018-02-05T19:03:00.000\",\"date_of_birth\":\"2016-02-02T00:00:00.000\",\"outcome_type\":\"Transfer\",\"outcome_subtype\":\"Snr\",\"animal_type\":\"Cat\",\"sex_upon_outcome\":\"Intact Male\",\"age_upon_outcome\":\"2 years\",\"breed\":\"Domestic Shorthair Mix\",\"color\":\"Brown Tabby\"}\\n,{\"animal_id\":\"A831674\",\"datetime\":\"2021-03-31T18:07:00.000\",\"monthyear\":\"2021-03-31T18:07:00.000\",\"date_of_birth\":\"2019-03-31T00:00:00.000\",\"outcome_type\":\"Euthanasia\",\"outcome_subtype\":\"Rabies Risk\",\"animal_type\":\"Other\",\"sex_upon_outcome\":\"Unknown\",\"age_upon_outcome\":\"2 years\",\"breed\":\"Bat\",\"color\":\"Brown\"}\\n,{\"animal_id\":\"A681575\",\"name\":\"Sandy\",\"datetime\":\"2014-07-13T14:26:00.000\",\"monthyear\":\"2014-07-13T14:26:00.000\",\"date_of_birth\":\"2014-05-13T00:00:00.000\",\"outcome_type\":\"Adoption\",\"animal_type\":\"Dog\",\"sex_upon_outcome\":\"Spayed Female\",\"age_upon_outcome\":\"1 month\",\"breed\":\"Labrador Retriever/Blue Lacy\",\"color\":\"Tricolor\"}\\n,{\"animal_id\":\"A874536\",\"name\":\"*Amora\",\"datetime\":\"2023-03-05T19:34:00.000\",\"monthyear\":\"2023-03-05T19:34:00.000\",\"date_of_birth\":\"2022-12-21T00:00:00.000\",\"outcome_type\":\"Transfer\",\"outcome_subtype\":\"Partner\",\"animal_type\":\"Dog\",\"sex_upon_outcome\":\"Intact Female\",\"age_upon_outcome\":\"2 months\",\"breed\":\"Labrador Retriever/Golden Retriever\",\"color\":\"Buff/Blue Merle\"}\\n,{\"animal_id\":\"A761383\",\"name\":\"*Charlie\",\"datetime\":\"2017-11-23T15:07:00.000\",\"monthyear\":\"2017-11-23T15:07:00.000\",\"date_of_birth\":\"2017-10-12T00:00:00.000\",\"outcome_type\":\"Transfer\",\"outcome_subtype\":\"Partner\",\"animal_type\":\"Cat\",\"sex_upon_outcome\":\"Intact Male\",\"age_upon_outcome\":\"1 month\",\"breed\":\"Domestic Shorthair Mix\",\"color\":\"Blue/White\"}\\n,{\"animal_id\":\"A803143\",\"name\":\"Aria\",\"datetime\":\"2019-09-01T17:00:00.000\",\"monthyear\":\"2019-09-01T17:00:00.000\",\"date_of_birth\":\"2019-06-28T00:00:00.000\",\"outcome_type\":\"Adoption\",\"animal_type\":\"Cat\",\"sex_upon_outcome\":\"Spayed Female\",\"age_upon_outcome\":\"2 months\",\"breed\":\"Domestic Shorthair\",\"color\":\"Black\"}\\n,{\"animal_id\":\"A772223\",\"datetime\":\"2018-05-26T16:24:00.000\",\"monthyear\":\"2018-05-26T16:24:00.000\",\"date_of_birth\":\"2018-03-16T00:00:00.000\",\"outcome_type\":\"Adoption\",\"animal_type\":\"Cat\",\"sex_upon_outcome\":\"Neutered Male\",\"age_upon_outcome\":\"2 months\",\"breed\":\"Domestic Shorthair Mix\",\"color\":\"Cream Tabby\"}\\n,{\"animal_id\":\"A685080\",\"name\":\"Rossco\",\"datetime\":\"2015-05-30T17:55:00.000\",\"monthyear\":\"2015-05-30T17:55:00.000\",\"date_of_birth\":\"2013-08-14T00:00:00.000\",\"outcome_type\":\"Adoption\",\"animal_type\":\"Dog\",\"sex_upon_outcome\":\"Neutered Male\",\"age_upon_outcome\":\"1 year\",\"breed\":\"Border Collie Mix\",\"color\":\"Black\"}\\n,{\"animal_id\":\"A672471\",\"datetime\":\"2014-02-10T19:20:00.000\",\"monthyear\":\"2014-02-10T19:20:00.000\",\"date_of_birth\":\"2012-02-10T00:00:00.000\",\"outcome_type\":\"Euthanasia\",\"outcome_subtype\":\"Rabies Risk\",\"animal_type\":\"Other\",\"sex_upon_outcome\":\"Unknown\",\"age_upon_outcome\":\"2 years\",\"breed\":\"Raccoon\",\"color\":\"Brown/Black\"}\\n,{\"animal_id\":\"A699227\",\"name\":\"*Caitlyn\",\"datetime\":\"2015-08-25T09:45:00.000\",\"monthyear\":\"2015-08-25T09:45:00.000\",\"date_of_birth\":\"2015-03-23T00:00:00.000\",\"outcome_type\":\"Adoption\",\"outcome_subtype\":\"Foster\",\"animal_type\":\"Cat\",\"sex_upon_outcome\":\"Spayed Female\",\"age_upon_outcome\":\"5 months\",\"breed\":\"Domestic Medium Hair Mix\",\"color\":\"Cream Tabby/White\"}\\n,{\"animal_id\":\"A601482\",\"name\":\"Pepe\",\"datetime\":\"2014-06-03T14:25:00.000\",\"monthyear\":\"2014-06-03T14:25:00.000\",\"date_of_birth\":\"2008-05-20T00:00:00.000\",\"outcome_type\":\"Return to Owner\",\"animal_type\":\"Dog\",\"sex_upon_outcome\":\"Neutered Male\",\"age_upon_outcome\":\"6 years\",\"breed\":\"Chow Chow/Australian Cattle Dog\",\"color\":\"Tan/Black\"}\\n,{\"animal_id\":\"A844711\",\"name\":\"Tiny\",\"datetime\":\"2021-10-20T19:07:00.000\",\"monthyear\":\"2021-10-20T19:07:00.000\",\"date_of_birth\":\"2019-10-16T00:00:00.000\",\"outcome_type\":\"Return to Owner\",\"animal_type\":\"Dog\",\"sex_upon_outcome\":\"Intact Female\",\"age_upon_outcome\":\"2 years\",\"breed\":\"Chihuahua Shorthair Mix\",\"color\":\"Brown/White\"}\\n,{\"animal_id\":\"A801121\",\"name\":\"Precious\",\"datetime\":\"2019-08-03T17:09:00.000\",\"monthyear\":\"2019-08-03T17:09:00.000\",\"date_of_birth\":\"2018-01-31T00:00:00.000\",\"outcome_type\":\"Transfer\",\"outcome_subtype\":\"Partner\",\"animal_type\":\"Cat\",\"sex_upon_outcome\":\"Intact Female\",\"age_upon_outcome\":\"1 year\",\"breed\":\"Domestic Shorthair\",\"color\":\"Torbie\"}\\n,{\"animal_id\":\"A772366\",\"name\":\"Osiris\",\"datetime\":\"2018-06-24T18:47:00.000\",\"monthyear\":\"2018-06-24T18:47:00.000\",\"date_of_birth\":\"2016-05-18T00:00:00.000\",\"outcome_type\":\"Return to Owner\",\"animal_type\":\"Dog\",\"sex_upon_outcome\":\"Intact Male\",\"age_upon_outcome\":\"2 years\",\"breed\":\"Pit Bull Mix\",\"color\":\"Blue/White\"}\\n,{\"animal_id\":\"A724463\",\"datetime\":\"2016-04-18T13:06:00.000\",\"monthyear\":\"2016-04-18T13:06:00.000\",\"date_of_birth\":\"2016-04-12T00:00:00.000\",\"outcome_type\":\"Transfer\",\"outcome_subtype\":\"Partner\",\"animal_type\":\"Cat\",\"sex_upon_outcome\":\"Unknown\",\"age_upon_outcome\":\"6 days\",\"breed\":\"Domestic Medium Hair Mix\",\"color\":\"Gray/Tortie\"}\\n,{\"animal_id\":\"A765537\",\"name\":\"Godzilla\",\"datetime\":\"2018-07-02T17:22:00.000\",\"monthyear\":\"2018-07-02T17:22:00.000\",\"date_of_birth\":\"2014-01-22T00:00:00.000\",\"outcome_type\":\"Adoption\",\"outcome_subtype\":\"Foster\",\"animal_type\":\"Cat\",\"sex_upon_outcome\":\"Neutered Male\",\"age_upon_outcome\":\"4 years\",\"breed\":\"Domestic Longhair Mix\",\"color\":\"White/Brown Tabby\"}\\n,{\"animal_id\":\"A698266\",\"name\":\"Pee Wee\",\"datetime\":\"2015-03-14T12:18:00.000\",\"monthyear\":\"2015-03-14T12:18:00.000\",\"date_of_birth\":\"2009-03-12T00:00:00.000\",\"outcome_type\":\"Transfer\",\"outcome_subtype\":\"Partner\",\"animal_type\":\"Dog\",\"sex_upon_outcome\":\"Spayed Female\",\"age_upon_outcome\":\"6 years\",\"breed\":\"Miniature Schnauzer Mix\",\"color\":\"Brown/White\"}\\n,{\"animal_id\":\"A823108\",\"datetime\":\"2020-09-17T10:22:00.000\",\"monthyear\":\"2020-09-17T10:22:00.000\",\"date_of_birth\":\"2019-09-16T00:00:00.000\",\"outcome_type\":\"Euthanasia\",\"outcome_subtype\":\"Rabies Risk\",\"animal_type\":\"Other\",\"sex_upon_outcome\":\"Unknown\",\"age_upon_outcome\":\"1 year\",\"breed\":\"Bat\",\"color\":\"Brown\"}\\n,{\"animal_id\":\"A710134\",\"name\":\"*Eddie\",\"datetime\":\"2015-08-30T00:00:00.000\",\"monthyear\":\"2015-08-30T00:00:00.000\",\"date_of_birth\":\"2014-03-18T00:00:00.000\",\"outcome_type\":\"Transfer\",\"outcome_subtype\":\"Partner\",\"animal_type\":\"Dog\",\"sex_upon_outcome\":\"Neutered Male\",\"age_upon_outcome\":\"1 year\",\"breed\":\"Chihuahua Shorthair Mix\",\"color\":\"White/Black\"}\\n,{\"animal_id\":\"A843623\",\"name\":\"Breaux\",\"datetime\":\"2021-10-13T17:05:00.000\",\"monthyear\":\"2021-10-13T17:05:00.000\",\"date_of_birth\":\"2017-10-04T00:00:00.000\",\"outcome_type\":\"Return to Owner\",\"animal_type\":\"Dog\",\"sex_upon_outcome\":\"Intact Male\",\"age_upon_outcome\":\"4 years\",\"breed\":\"Pit Bull Mix\",\"color\":\"Tan/White\"}\\n,{\"animal_id\":\"A714862\",\"name\":\"*Peachy\",\"datetime\":\"2015-11-28T18:27:00.000\",\"monthyear\":\"2015-11-28T18:27:00.000\",\"date_of_birth\":\"2015-08-02T00:00:00.000\",\"outcome_type\":\"Adoption\",\"animal_type\":\"Cat\",\"sex_upon_outcome\":\"Neutered Male\",\"age_upon_outcome\":\"3 months\",\"breed\":\"Domestic Shorthair Mix\",\"color\":\"Orange Tabby/White\"}\\n,{\"animal_id\":\"A676765\",\"name\":\"*Newton\",\"datetime\":\"2014-04-21T13:17:00.000\",\"monthyear\":\"2014-04-21T13:17:00.000\",\"date_of_birth\":\"2012-04-14T00:00:00.000\",\"outcome_type\":\"Transfer\",\"outcome_subtype\":\"Partner\",\"animal_type\":\"Cat\",\"sex_upon_outcome\":\"Neutered Male\",\"age_upon_outcome\":\"2 years\",\"breed\":\"Domestic Shorthair Mix\",\"color\":\"Black\"}\\n,{\"animal_id\":\"A691584\",\"name\":\"Luke\",\"datetime\":\"2015-10-13T11:37:00.000\",\"monthyear\":\"2015-10-13T11:37:00.000\",\"date_of_birth\":\"2012-11-06T00:00:00.000\",\"outcome_type\":\"Transfer\",\"outcome_subtype\":\"Partner\",\"animal_type\":\"Dog\",\"sex_upon_outcome\":\"Neutered Male\",\"age_upon_outcome\":\"2 years\",\"breed\":\"Labrador Retriever Mix\",\"color\":\"Tan/White\"}\\n,{\"animal_id\":\"A700633\",\"name\":\"*Cole\",\"datetime\":\"2015-04-26T16:02:00.000\",\"monthyear\":\"2015-04-26T16:02:00.000\",\"date_of_birth\":\"2014-04-17T00:00:00.000\",\"outcome_type\":\"Adoption\",\"animal_type\":\"Dog\",\"sex_upon_outcome\":\"Spayed Female\",\"age_upon_outcome\":\"1 year\",\"breed\":\"Italian Greyhound/Chihuahua Shorthair\",\"color\":\"Black\"}\\n,{\"animal_id\":\"A811089\",\"datetime\":\"2020-01-02T10:49:00.000\",\"monthyear\":\"2020-01-02T10:49:00.000\",\"date_of_birth\":\"2017-12-27T00:00:00.000\",\"outcome_type\":\"Transfer\",\"outcome_subtype\":\"Snr\",\"animal_type\":\"Cat\",\"sex_upon_outcome\":\"Intact Female\",\"age_upon_outcome\":\"2 years\",\"breed\":\"Domestic Shorthair\",\"color\":\"Torbie\"}\\n,{\"animal_id\":\"A347684\",\"name\":\"Ruby\",\"datetime\":\"2014-07-26T19:03:00.000\",\"monthyear\":\"2014-07-26T19:03:00.000\",\"date_of_birth\":\"2001-05-23T00:00:00.000\",\"outcome_type\":\"Return to Owner\",\"animal_type\":\"Dog\",\"sex_upon_outcome\":\"Spayed Female\",\"age_upon_outcome\":\"13 years\",\"breed\":\"Chihuahua Shorthair\",\"color\":\"Black/Red\"}\\n,{\"animal_id\":\"A763214\",\"name\":\"*Brady\",\"datetime\":\"2017-12-26T13:11:00.000\",\"monthyear\":\"2017-12-26T13:11:00.000\",\"date_of_birth\":\"2017-06-05T00:00:00.000\",\"outcome_type\":\"Adoption\",\"animal_type\":\"Dog\",\"sex_upon_outcome\":\"Neutered Male\",\"age_upon_outcome\":\"6 months\",\"breed\":\"Labrador Retriever Mix\",\"color\":\"Black/White\"}\\n,{\"animal_id\":\"A755878\",\"name\":\"Eli\",\"datetime\":\"2017-08-14T16:54:00.000\",\"monthyear\":\"2017-08-14T16:54:00.000\",\"date_of_birth\":\"2016-08-10T00:00:00.000\",\"outcome_type\":\"Adoption\",\"animal_type\":\"Dog\",\"sex_upon_outcome\":\"Neutered Male\",\"age_upon_outcome\":\"1 year\",\"breed\":\"Rat Terrier Mix\",\"color\":\"Black/White\"}\\n,{\"animal_id\":\"A796721\",\"datetime\":\"2019-06-04T16:58:00.000\",\"monthyear\":\"2019-06-04T16:58:00.000\",\"date_of_birth\":\"2018-09-04T00:00:00.000\",\"outcome_type\":\"Euthanasia\",\"outcome_subtype\":\"Rabies Risk\",\"animal_type\":\"Other\",\"sex_upon_outcome\":\"Unknown\",\"age_upon_outcome\":\"8 months\",\"breed\":\"Bat\",\"color\":\"Black/Brown\"}\\n,{\"animal_id\":\"A841836\",\"name\":\"Shaggy\",\"datetime\":\"2021-09-14T14:52:00.000\",\"monthyear\":\"2021-09-14T14:52:00.000\",\"date_of_birth\":\"2012-08-03T00:00:00.000\",\"outcome_type\":\"Adoption\",\"animal_type\":\"Dog\",\"sex_upon_outcome\":\"Neutered Male\",\"age_upon_outcome\":\"9 years\",\"breed\":\"Chihuahua Shorthair/Dachshund\",\"color\":\"White/Black\"}\\n,{\"animal_id\":\"A752038\",\"name\":\"Danger\",\"datetime\":\"2017-06-23T13:54:00.000\",\"monthyear\":\"2017-06-23T13:54:00.000\",\"date_of_birth\":\"2017-04-17T00:00:00.000\",\"outcome_type\":\"Return to Owner\",\"animal_type\":\"Dog\",\"sex_upon_outcome\":\"Intact Male\",\"age_upon_outcome\":\"2 months\",\"breed\":\"Dachshund/Chihuahua Shorthair\",\"color\":\"Black/Tan\"}\\n,{\"animal_id\":\"A815925\",\"name\":\"Stitch\",\"datetime\":\"2020-04-09T12:04:00.000\",\"monthyear\":\"2020-04-09T12:04:00.000\",\"date_of_birth\":\"2009-03-30T00:00:00.000\",\"outcome_type\":\"Return to Owner\",\"animal_type\":\"Dog\",\"sex_upon_outcome\":\"Intact Male\",\"age_upon_outcome\":\"11 years\",\"breed\":\"Chihuahua Shorthair\",\"color\":\"Tan\"}\\n,{\"animal_id\":\"A794195\",\"name\":\"Bentley\",\"datetime\":\"2019-05-08T17:43:00.000\",\"monthyear\":\"2019-05-08T17:43:00.000\",\"date_of_birth\":\"2019-02-04T00:00:00.000\",\"outcome_type\":\"Adoption\",\"animal_type\":\"Cat\",\"sex_upon_outcome\":\"Neutered Male\",\"age_upon_outcome\":\"3 months\",\"breed\":\"Siamese Mix\",\"color\":\"Flame Point\"}\\n,{\"animal_id\":\"A769997\",\"name\":\"*Chewy\",\"datetime\":\"2018-06-19T13:43:00.000\",\"monthyear\":\"2018-06-19T13:43:00.000\",\"date_of_birth\":\"2018-04-13T00:00:00.000\",\"outcome_type\":\"Adoption\",\"outcome_subtype\":\"Foster\",\"animal_type\":\"Dog\",\"sex_upon_outcome\":\"Neutered Male\",\"age_upon_outcome\":\"2 months\",\"breed\":\"Yorkshire Terrier/Norfolk Terrier\",\"color\":\"Black/Brown\"}\\n,{\"animal_id\":\"A687278\",\"datetime\":\"2014-09-04T17:06:00.000\",\"monthyear\":\"2014-09-04T17:06:00.000\",\"date_of_birth\":\"2014-08-02T00:00:00.000\",\"outcome_type\":\"Transfer\",\"outcome_subtype\":\"Partner\",\"animal_type\":\"Cat\",\"sex_upon_outcome\":\"Intact Female\",\"age_upon_outcome\":\"4 weeks\",\"breed\":\"Domestic Shorthair Mix\",\"color\":\"Brown Tabby\"}\\n,{\"animal_id\":\"A832316\",\"name\":\"*Cody\",\"datetime\":\"2021-04-22T11:01:00.000\",\"monthyear\":\"2021-04-22T11:01:00.000\",\"date_of_birth\":\"2019-04-11T00:00:00.000\",\"outcome_type\":\"Transfer\",\"outcome_subtype\":\"Partner\",\"animal_type\":\"Other\",\"sex_upon_outcome\":\"Intact Male\",\"age_upon_outcome\":\"2 years\",\"breed\":\"Guinea Pig\",\"color\":\"White/Brown\"}\\n,{\"animal_id\":\"A782755\",\"name\":\"Indigo\",\"datetime\":\"2018-10-25T19:22:00.000\",\"monthyear\":\"2018-10-25T19:22:00.000\",\"date_of_birth\":\"2018-08-05T00:00:00.000\",\"outcome_type\":\"Adoption\",\"animal_type\":\"Dog\",\"sex_upon_outcome\":\"Spayed Female\",\"age_upon_outcome\":\"2 months\",\"breed\":\"American Pit Bull Terrier Mix\",\"color\":\"Blue/White\"}\\n,{\"animal_id\":\"A803849\",\"name\":\"*Patch\",\"datetime\":\"2019-09-14T13:29:00.000\",\"monthyear\":\"2019-09-14T13:29:00.000\",\"date_of_birth\":\"2019-07-07T00:00:00.000\",\"outcome_type\":\"Adoption\",\"animal_type\":\"Dog\",\"sex_upon_outcome\":\"Neutered Male\",\"age_upon_outcome\":\"2 months\",\"breed\":\"Dalmatian\",\"color\":\"White\"}\\n,{\"animal_id\":\"A796658\",\"datetime\":\"2019-07-13T06:46:00.000\",\"monthyear\":\"2019-07-13T06:46:00.000\",\"date_of_birth\":\"2019-06-01T00:00:00.000\",\"outcome_type\":\"Transfer\",\"outcome_subtype\":\"Partner\",\"animal_type\":\"Dog\",\"sex_upon_outcome\":\"Intact Female\",\"age_upon_outcome\":\"1 month\",\"breed\":\"American Staffordshire Terrier Mix\",\"color\":\"Sable/White\"}\\n,{\"animal_id\":\"A684202\",\"datetime\":\"2014-07-27T12:08:00.000\",\"monthyear\":\"2014-07-27T12:08:00.000\",\"date_of_birth\":\"2014-07-05T00:00:00.000\",\"outcome_type\":\"Return to Owner\",\"animal_type\":\"Dog\",\"sex_upon_outcome\":\"Intact Female\",\"age_upon_outcome\":\"3 weeks\",\"breed\":\"Pit Bull Mix\",\"color\":\"Red/White\"}\\n,{\"animal_id\":\"A875041\",\"datetime\":\"2023-03-06T08:25:00.000\",\"monthyear\":\"2023-03-06T08:25:00.000\",\"date_of_birth\":\"2021-02-21T00:00:00.000\",\"outcome_type\":\"Transfer\",\"outcome_subtype\":\"Snr\",\"animal_type\":\"Cat\",\"sex_upon_outcome\":\"Unknown\",\"age_upon_outcome\":\"2 years\",\"breed\":\"Domestic Shorthair\",\"color\":\"Tortie Point\"}\\n,{\"animal_id\":\"A668550\",\"name\":\"*Pushkin\",\"datetime\":\"2013-12-20T12:51:00.000\",\"monthyear\":\"2013-12-20T12:51:00.000\",\"date_of_birth\":\"2012-12-04T00:00:00.000\",\"outcome_type\":\"Transfer\",\"outcome_subtype\":\"Partner\",\"animal_type\":\"Cat\",\"sex_upon_outcome\":\"Neutered Male\",\"age_upon_outcome\":\"1 year\",\"breed\":\"Domestic Shorthair Mix\",\"color\":\"Brown Tabby\"}\\n,{\"animal_id\":\"A671995\",\"name\":\"Lilly\",\"datetime\":\"2014-02-09T19:02:00.000\",\"monthyear\":\"2014-02-09T19:02:00.000\",\"date_of_birth\":\"2013-02-02T00:00:00.000\",\"outcome_type\":\"Adoption\",\"animal_type\":\"Dog\",\"sex_upon_outcome\":\"Spayed Female\",\"age_upon_outcome\":\"1 year\",\"breed\":\"Chihuahua Shorthair Mix\",\"color\":\"Tan/White\"}\\n,{\"animal_id\":\"A782948\",\"datetime\":\"2018-10-28T13:57:00.000\",\"monthyear\":\"2018-10-28T13:57:00.000\",\"date_of_birth\":\"2018-08-08T00:00:00.000\",\"outcome_type\":\"Adoption\",\"animal_type\":\"Dog\",\"sex_upon_outcome\":\"Neutered Male\",\"age_upon_outcome\":\"2 months\",\"breed\":\"Anatol Shepherd Mix\",\"color\":\"Tricolor/White\"}\\n,{\"animal_id\":\"A793031\",\"name\":\"Violet\",\"datetime\":\"2019-04-18T18:31:00.000\",\"monthyear\":\"2019-04-18T18:31:00.000\",\"date_of_birth\":\"2013-04-18T00:00:00.000\",\"outcome_type\":\"Return to Owner\",\"animal_type\":\"Dog\",\"sex_upon_outcome\":\"Spayed Female\",\"age_upon_outcome\":\"6 years\",\"breed\":\"Pit Bull Mix\",\"color\":\"Blue/White\"}\\n,{\"animal_id\":\"A824893\",\"name\":\"Blaze\",\"datetime\":\"2020-10-23T11:11:00.000\",\"monthyear\":\"2020-10-23T11:11:00.000\",\"date_of_birth\":\"2020-02-22T00:00:00.000\",\"outcome_type\":\"Return to Owner\",\"animal_type\":\"Cat\",\"sex_upon_outcome\":\"Neutered Male\",\"age_upon_outcome\":\"8 months\",\"breed\":\"Domestic Shorthair\",\"color\":\"Orange Tabby/White\"}\\n,{\"animal_id\":\"A775250\",\"name\":\"*Bentley\",\"datetime\":\"2019-05-12T15:22:00.000\",\"monthyear\":\"2019-05-12T15:22:00.000\",\"date_of_birth\":\"2018-02-28T00:00:00.000\",\"outcome_type\":\"Return to Owner\",\"animal_type\":\"Dog\",\"sex_upon_outcome\":\"Neutered Male\",\"age_upon_outcome\":\"1 year\",\"breed\":\"Alaskan Malamute/German Shepherd\",\"color\":\"Black/White\"}\\n,{\"animal_id\":\"A609226\",\"name\":\"Swisher\",\"datetime\":\"2014-02-17T17:05:00.000\",\"monthyear\":\"2014-02-17T17:05:00.000\",\"date_of_birth\":\"2009-09-05T00:00:00.000\",\"outcome_type\":\"Return to Owner\",\"animal_type\":\"Dog\",\"sex_upon_outcome\":\"Neutered Male\",\"age_upon_outcome\":\"4 years\",\"breed\":\"Boxer Mix\",\"color\":\"Tan/White\"}\\n,{\"animal_id\":\"A642126\",\"name\":\"Lalo\",\"datetime\":\"2014-12-07T12:12:00.000\",\"monthyear\":\"2014-12-07T12:12:00.000\",\"date_of_birth\":\"2012-01-18T00:00:00.000\",\"outcome_type\":\"Return to Owner\",\"animal_type\":\"Dog\",\"sex_upon_outcome\":\"Neutered Male\",\"age_upon_outcome\":\"2 years\",\"breed\":\"Border Terrier Mix\",\"color\":\"Gray/White\"}\\n,{\"animal_id\":\"A684437\",\"name\":\"*Macaroni\",\"datetime\":\"2014-07-29T17:42:00.000\",\"monthyear\":\"2014-07-29T17:42:00.000\",\"date_of_birth\":\"2014-05-12T00:00:00.000\",\"outcome_type\":\"Adoption\",\"animal_type\":\"Dog\",\"sex_upon_outcome\":\"Neutered Male\",\"age_upon_outcome\":\"2 months\",\"breed\":\"Miniature Schnauzer/Miniature Poodle\",\"color\":\"White/Buff\"}\\n,{\"animal_id\":\"A813191\",\"name\":\"Twitch\",\"datetime\":\"2020-07-30T16:17:00.000\",\"monthyear\":\"2020-07-30T16:17:00.000\",\"date_of_birth\":\"2014-05-12T00:00:00.000\",\"outcome_type\":\"Rto-Adopt\",\"animal_type\":\"Dog\",\"sex_upon_outcome\":\"Neutered Male\",\"age_upon_outcome\":\"6 years\",\"breed\":\"Pit Bull\",\"color\":\"Chocolate/White\"}\\n,{\"animal_id\":\"A684993\",\"name\":\"*Belle\",\"datetime\":\"2014-08-03T15:36:00.000\",\"monthyear\":\"2014-08-03T15:36:00.000\",\"date_of_birth\":\"2014-03-07T00:00:00.000\",\"outcome_type\":\"Transfer\",\"outcome_subtype\":\"Partner\",\"animal_type\":\"Dog\",\"sex_upon_outcome\":\"Intact Female\",\"age_upon_outcome\":\"4 months\",\"breed\":\"Catahoula/German Shepherd\",\"color\":\"Brown/White\"}\\n,{\"animal_id\":\"A875623\",\"datetime\":\"2023-03-06T08:21:00.000\",\"monthyear\":\"2023-03-06T08:21:00.000\",\"date_of_birth\":\"2021-03-02T00:00:00.000\",\"outcome_type\":\"Transfer\",\"outcome_subtype\":\"Snr\",\"animal_type\":\"Cat\",\"sex_upon_outcome\":\"Intact Male\",\"age_upon_outcome\":\"2 years\",\"breed\":\"Domestic Shorthair\",\"color\":\"Brown Tabby\"}\\n,{\"animal_id\":\"A724021\",\"name\":\"Diesel\",\"datetime\":\"2018-10-26T15:02:00.000\",\"monthyear\":\"2018-10-26T15:02:00.000\",\"date_of_birth\":\"2015-08-10T00:00:00.000\",\"outcome_type\":\"Return to Owner\",\"animal_type\":\"Dog\",\"sex_upon_outcome\":\"Neutered Male\",\"age_upon_outcome\":\"3 years\",\"breed\":\"Australian Kelpie/German Shepherd\",\"color\":\"Black/Tricolor\"}\\n,{\"animal_id\":\"A875043\",\"datetime\":\"2023-03-06T08:22:00.000\",\"monthyear\":\"2023-03-06T08:22:00.000\",\"date_of_birth\":\"2017-02-21T00:00:00.000\",\"outcome_type\":\"Transfer\",\"outcome_subtype\":\"Snr\",\"animal_type\":\"Cat\",\"sex_upon_outcome\":\"Intact Female\",\"age_upon_outcome\":\"6 years\",\"breed\":\"Domestic Shorthair\",\"color\":\"Tortie\"}\\n,{\"animal_id\":\"A800970\",\"datetime\":\"2019-08-03T00:00:00.000\",\"monthyear\":\"2019-08-03T00:00:00.000\",\"date_of_birth\":\"2019-05-18T00:00:00.000\",\"outcome_type\":\"Adoption\",\"animal_type\":\"Dog\",\"sex_upon_outcome\":\"Neutered Male\",\"age_upon_outcome\":\"2 months\",\"breed\":\"Norfolk Terrier\",\"color\":\"Tan\"}\\n,{\"animal_id\":\"A823663\",\"name\":\"*Fig\",\"datetime\":\"2020-10-06T11:40:00.000\",\"monthyear\":\"2020-10-06T11:40:00.000\",\"date_of_birth\":\"2020-01-28T00:00:00.000\",\"outcome_type\":\"Transfer\",\"outcome_subtype\":\"Partner\",\"animal_type\":\"Dog\",\"sex_upon_outcome\":\"Intact Female\",\"age_upon_outcome\":\"8 months\",\"breed\":\"Australian Cattle Dog Mix\",\"color\":\"Fawn\"}\\n,{\"animal_id\":\"A813613\",\"name\":\"*Kaapo\",\"datetime\":\"2020-03-14T12:10:00.000\",\"monthyear\":\"2020-03-14T12:10:00.000\",\"date_of_birth\":\"2018-02-14T00:00:00.000\",\"outcome_type\":\"Adoption\",\"animal_type\":\"Cat\",\"sex_upon_outcome\":\"Neutered Male\",\"age_upon_outcome\":\"2 years\",\"breed\":\"Domestic Shorthair Mix\",\"color\":\"Blue\"}\\n,{\"animal_id\":\"A730163\",\"name\":\"Pepper\",\"datetime\":\"2016-06-29T17:26:00.000\",\"monthyear\":\"2016-06-29T17:26:00.000\",\"date_of_birth\":\"2008-06-29T00:00:00.000\",\"outcome_type\":\"Return to Owner\",\"animal_type\":\"Dog\",\"sex_upon_outcome\":\"Spayed Female\",\"age_upon_outcome\":\"8 years\",\"breed\":\"Labrador Retriever Mix\",\"color\":\"Black/White\"}\\n,{\"animal_id\":\"A757995\",\"datetime\":\"2017-09-10T10:13:00.000\",\"monthyear\":\"2017-09-10T10:13:00.000\",\"date_of_birth\":\"2017-08-26T00:00:00.000\",\"outcome_type\":\"Transfer\",\"outcome_subtype\":\"Partner\",\"animal_type\":\"Cat\",\"sex_upon_outcome\":\"Intact Female\",\"age_upon_outcome\":\"2 weeks\",\"breed\":\"Domestic Shorthair Mix\",\"color\":\"Seal Point\"}\\n,{\"animal_id\":\"A829248\",\"datetime\":\"2021-03-04T09:09:00.000\",\"monthyear\":\"2021-03-04T09:09:00.000\",\"date_of_birth\":\"2020-09-09T00:00:00.000\",\"outcome_type\":\"Adoption\",\"outcome_subtype\":\"Foster\",\"animal_type\":\"Cat\",\"sex_upon_outcome\":\"Neutered Male\",\"age_upon_outcome\":\"5 months\",\"breed\":\"Domestic Shorthair Mix\",\"color\":\"Blue/White\"}\\n,{\"animal_id\":\"A721659\",\"name\":\"Milshake\",\"datetime\":\"2016-03-02T12:16:00.000\",\"monthyear\":\"2016-03-02T12:16:00.000\",\"date_of_birth\":\"2015-12-10T00:00:00.000\",\"outcome_type\":\"Transfer\",\"outcome_subtype\":\"Partner\",\"animal_type\":\"Other\",\"sex_upon_outcome\":\"Intact Female\",\"age_upon_outcome\":\"2 months\",\"breed\":\"Guinea Pig Mix\",\"color\":\"Chocolate/White\"}\\n,{\"animal_id\":\"A675675\",\"datetime\":\"2014-07-26T14:31:00.000\",\"monthyear\":\"2014-07-26T14:31:00.000\",\"date_of_birth\":\"2014-03-03T00:00:00.000\",\"outcome_type\":\"Adoption\",\"outcome_subtype\":\"Foster\",\"animal_type\":\"Cat\",\"sex_upon_outcome\":\"Spayed Female\",\"age_upon_outcome\":\"4 months\",\"breed\":\"Snowshoe Mix\",\"color\":\"Chocolate Point\"}\\n,{\"animal_id\":\"A682683\",\"name\":\"*Nadia\",\"datetime\":\"2014-07-16T17:44:00.000\",\"monthyear\":\"2014-07-16T17:44:00.000\",\"date_of_birth\":\"2014-05-17T00:00:00.000\",\"outcome_type\":\"Adoption\",\"animal_type\":\"Cat\",\"sex_upon_outcome\":\"Spayed Female\",\"age_upon_outcome\":\"1 month\",\"breed\":\"Domestic Shorthair Mix\",\"color\":\"Black/White\"}\\n,{\"animal_id\":\"A725727\",\"name\":\"*Lucinda\",\"datetime\":\"2016-05-10T18:36:00.000\",\"monthyear\":\"2016-05-10T18:36:00.000\",\"date_of_birth\":\"2016-01-02T00:00:00.000\",\"outcome_type\":\"Adoption\",\"animal_type\":\"Dog\",\"sex_upon_outcome\":\"Spayed Female\",\"age_upon_outcome\":\"4 months\",\"breed\":\"Pit Bull Mix\",\"color\":\"Tan/White\"}\\n,{\"animal_id\":\"A711540\",\"datetime\":\"2015-09-13T18:56:00.000\",\"monthyear\":\"2015-09-13T18:56:00.000\",\"date_of_birth\":\"2014-09-08T00:00:00.000\",\"outcome_type\":\"Adoption\",\"animal_type\":\"Dog\",\"sex_upon_outcome\":\"Spayed Female\",\"age_upon_outcome\":\"1 year\",\"breed\":\"Pomeranian Mix\",\"color\":\"Red/Tan\"}\\n,{\"animal_id\":\"A808560\",\"name\":\"*Granny Smith\",\"datetime\":\"2019-11-13T11:54:00.000\",\"monthyear\":\"2019-11-13T11:54:00.000\",\"date_of_birth\":\"2019-09-25T00:00:00.000\",\"outcome_type\":\"Transfer\",\"outcome_subtype\":\"Partner\",\"animal_type\":\"Cat\",\"sex_upon_outcome\":\"Intact Female\",\"age_upon_outcome\":\"1 month\",\"breed\":\"Domestic Shorthair\",\"color\":\"Brown Tabby\"}\\n,{\"animal_id\":\"A842521\",\"datetime\":\"2021-09-23T17:24:00.000\",\"monthyear\":\"2021-09-23T17:24:00.000\",\"date_of_birth\":\"2021-07-17T00:00:00.000\",\"outcome_type\":\"Adoption\",\"animal_type\":\"Dog\",\"sex_upon_outcome\":\"Neutered Male\",\"age_upon_outcome\":\"2 months\",\"breed\":\"German Shepherd\",\"color\":\"Black/Brown\"}\\n,{\"animal_id\":\"A838089\",\"datetime\":\"2021-07-02T17:00:00.000\",\"monthyear\":\"2021-07-02T17:00:00.000\",\"date_of_birth\":\"2021-06-02T00:00:00.000\",\"outcome_type\":\"Transfer\",\"outcome_subtype\":\"Partner\",\"animal_type\":\"Cat\",\"sex_upon_outcome\":\"Intact Male\",\"age_upon_outcome\":\"4 weeks\",\"breed\":\"Domestic Medium Hair\",\"color\":\"White/Orange\"}\\n,{\"animal_id\":\"A843860\",\"name\":\"China\",\"datetime\":\"2021-10-08T17:15:00.000\",\"monthyear\":\"2021-10-08T17:15:00.000\",\"date_of_birth\":\"2020-04-07T00:00:00.000\",\"outcome_type\":\"Adoption\",\"animal_type\":\"Dog\",\"sex_upon_outcome\":\"Spayed Female\",\"age_upon_outcome\":\"1 year\",\"breed\":\"Miniature Schnauzer Mix\",\"color\":\"Gray/Tan\"}\\n,{\"animal_id\":\"A757442\",\"name\":\"*Emma\",\"datetime\":\"2017-09-07T13:04:00.000\",\"monthyear\":\"2017-09-07T13:04:00.000\",\"date_of_birth\":\"2017-05-17T00:00:00.000\",\"outcome_type\":\"Adoption\",\"animal_type\":\"Cat\",\"sex_upon_outcome\":\"Spayed Female\",\"age_upon_outcome\":\"3 months\",\"breed\":\"Domestic Shorthair Mix\",\"color\":\"Blue\"}\\n,{\"animal_id\":\"A779481\",\"name\":\"Akira\",\"datetime\":\"2018-09-09T17:21:00.000\",\"monthyear\":\"2018-09-09T17:21:00.000\",\"date_of_birth\":\"2018-03-09T00:00:00.000\",\"outcome_type\":\"Adoption\",\"animal_type\":\"Dog\",\"sex_upon_outcome\":\"Spayed Female\",\"age_upon_outcome\":\"6 months\",\"breed\":\"Whippet Mix\",\"color\":\"Brown/White\"}\\n,{\"animal_id\":\"A840956\",\"name\":\"A840956\",\"datetime\":\"2021-08-20T17:33:00.000\",\"monthyear\":\"2021-08-20T17:33:00.000\",\"date_of_birth\":\"2021-03-10T00:00:00.000\",\"outcome_type\":\"Adoption\",\"animal_type\":\"Cat\",\"sex_upon_outcome\":\"Neutered Male\",\"age_upon_outcome\":\"5 months\",\"breed\":\"Domestic Shorthair Mix\",\"color\":\"Black\"}\\n,{\"animal_id\":\"A752368\",\"name\":\"Elliot\",\"datetime\":\"2017-06-25T17:16:00.000\",\"monthyear\":\"2017-06-25T17:16:00.000\",\"date_of_birth\":\"2017-04-26T00:00:00.000\",\"outcome_type\":\"Adoption\",\"animal_type\":\"Dog\",\"sex_upon_outcome\":\"Neutered Male\",\"age_upon_outcome\":\"1 month\",\"breed\":\"Labrador Retriever Mix\",\"color\":\"Black/White\"}\\n,{\"animal_id\":\"A679201\",\"datetime\":\"2014-05-17T14:47:00.000\",\"monthyear\":\"2014-05-17T14:47:00.000\",\"date_of_birth\":\"2014-04-25T00:00:00.000\",\"outcome_type\":\"Transfer\",\"outcome_subtype\":\"Partner\",\"animal_type\":\"Cat\",\"sex_upon_outcome\":\"Intact Male\",\"age_upon_outcome\":\"3 weeks\",\"breed\":\"Domestic Medium Hair Mix\",\"color\":\"Black/White\"}\\n,{\"animal_id\":\"A691670\",\"name\":\"Ranger\",\"datetime\":\"2014-11-23T16:50:00.000\",\"monthyear\":\"2014-11-23T16:50:00.000\",\"date_of_birth\":\"2014-03-07T00:00:00.000\",\"outcome_type\":\"Adoption\",\"animal_type\":\"Dog\",\"sex_upon_outcome\":\"Neutered Male\",\"age_upon_outcome\":\"8 months\",\"breed\":\"Border Collie Mix\",\"color\":\"Black/White\"}\\n,{\"animal_id\":\"A786762\",\"name\":\"*Pumba\",\"datetime\":\"2019-01-13T17:41:00.000\",\"monthyear\":\"2019-01-13T17:41:00.000\",\"date_of_birth\":\"2017-01-01T00:00:00.000\",\"outcome_type\":\"Adoption\",\"animal_type\":\"Dog\",\"sex_upon_outcome\":\"Neutered Male\",\"age_upon_outcome\":\"2 years\",\"breed\":\"American Pit Bull Terrier Mix\",\"color\":\"Brown\"}\\n,{\"animal_id\":\"A758879\",\"name\":\"Luna\",\"datetime\":\"2019-12-21T11:46:00.000\",\"monthyear\":\"2019-12-21T11:46:00.000\",\"date_of_birth\":\"2015-09-23T00:00:00.000\",\"outcome_type\":\"Adoption\",\"animal_type\":\"Dog\",\"sex_upon_outcome\":\"Spayed Female\",\"age_upon_outcome\":\"4 years\",\"breed\":\"Labrador Retriever Mix\",\"color\":\"Tan/White\"}\\n,{\"animal_id\":\"A668733\",\"name\":\"Gypsy\",\"datetime\":\"2013-12-09T17:16:00.000\",\"monthyear\":\"2013-12-09T17:16:00.000\",\"date_of_birth\":\"2012-12-08T00:00:00.000\",\"outcome_type\":\"Return to Owner\",\"animal_type\":\"Dog\",\"sex_upon_outcome\":\"Spayed Female\",\"age_upon_outcome\":\"1 year\",\"breed\":\"Pit Bull Mix\",\"color\":\"Brown Brindle/White\"}\\n,{\"animal_id\":\"A730602\",\"name\":\"*Link\",\"datetime\":\"2016-07-16T13:16:00.000\",\"monthyear\":\"2016-07-16T13:16:00.000\",\"date_of_birth\":\"2015-09-07T00:00:00.000\",\"outcome_type\":\"Adoption\",\"animal_type\":\"Dog\",\"sex_upon_outcome\":\"Neutered Male\",\"age_upon_outcome\":\"10 months\",\"breed\":\"Labrador Retriever Mix\",\"color\":\"Brown/Tan\"}\\n,{\"animal_id\":\"A664931\",\"name\":\"Chester\",\"datetime\":\"2014-12-04T15:43:00.000\",\"monthyear\":\"2014-12-04T15:43:00.000\",\"date_of_birth\":\"2012-10-11T00:00:00.000\",\"outcome_type\":\"Return to Owner\",\"animal_type\":\"Dog\",\"sex_upon_outcome\":\"Neutered Male\",\"age_upon_outcome\":\"2 years\",\"breed\":\"Rat Terrier Mix\",\"color\":\"White/Brown\"}\\n,{\"animal_id\":\"A680005\",\"name\":\"Biscuit\",\"datetime\":\"2014-06-01T18:16:00.000\",\"monthyear\":\"2014-06-01T18:16:00.000\",\"date_of_birth\":\"2014-03-29T00:00:00.000\",\"outcome_type\":\"Adoption\",\"animal_type\":\"Dog\",\"sex_upon_outcome\":\"Neutered Male\",\"age_upon_outcome\":\"2 months\",\"breed\":\"Australian Kelpie Mix\",\"color\":\"Tan/Black\"}\\n,{\"animal_id\":\"A808227\",\"name\":\"*Romano\",\"datetime\":\"2019-12-03T14:26:00.000\",\"monthyear\":\"2019-12-03T14:26:00.000\",\"date_of_birth\":\"2018-05-06T00:00:00.000\",\"outcome_type\":\"Transfer\",\"outcome_subtype\":\"Partner\",\"animal_type\":\"Dog\",\"sex_upon_outcome\":\"Intact Male\",\"age_upon_outcome\":\"1 year\",\"breed\":\"Dalmatian Mix\",\"color\":\"White/Black\"}\\n,{\"animal_id\":\"A758739\",\"datetime\":\"2017-09-28T18:38:00.000\",\"monthyear\":\"2017-09-28T18:38:00.000\",\"date_of_birth\":\"2015-09-21T00:00:00.000\",\"outcome_type\":\"Transfer\",\"outcome_subtype\":\"Snr\",\"animal_type\":\"Cat\",\"sex_upon_outcome\":\"Unknown\",\"age_upon_outcome\":\"2 years\",\"breed\":\"Domestic Shorthair Mix\",\"color\":\"Brown Tabby/White\"}\\n,{\"animal_id\":\"A729191\",\"name\":\"*Mr. Jones\",\"datetime\":\"2016-07-17T17:13:00.000\",\"monthyear\":\"2016-07-17T17:13:00.000\",\"date_of_birth\":\"2016-05-14T00:00:00.000\",\"outcome_type\":\"Adoption\",\"animal_type\":\"Cat\",\"sex_upon_outcome\":\"Neutered Male\",\"age_upon_outcome\":\"2 months\",\"breed\":\"Domestic Shorthair Mix\",\"color\":\"Brown Tabby\"}\\n,{\"animal_id\":\"A695215\",\"name\":\"*August\",\"datetime\":\"2015-08-01T12:30:00.000\",\"monthyear\":\"2015-08-01T12:30:00.000\",\"date_of_birth\":\"2013-01-11T00:00:00.000\",\"outcome_type\":\"Adoption\",\"animal_type\":\"Dog\",\"sex_upon_outcome\":\"Neutered Male\",\"age_upon_outcome\":\"2 years\",\"breed\":\"Pit Bull Mix\",\"color\":\"Blue/White\"}\\n,{\"animal_id\":\"A724653\",\"datetime\":\"2016-04-20T13:27:00.000\",\"monthyear\":\"2016-04-20T13:27:00.000\",\"date_of_birth\":\"2016-04-15T00:00:00.000\",\"outcome_type\":\"Transfer\",\"outcome_subtype\":\"Partner\",\"animal_type\":\"Cat\",\"sex_upon_outcome\":\"Unknown\",\"age_upon_outcome\":\"5 days\",\"breed\":\"Domestic Shorthair Mix\",\"color\":\"Orange Tabby\"}\\n,{\"animal_id\":\"A802576\",\"name\":\"*Ramen\",\"datetime\":\"2019-08-27T11:23:00.000\",\"monthyear\":\"2019-08-27T11:23:00.000\",\"date_of_birth\":\"2018-02-20T00:00:00.000\",\"outcome_type\":\"Transfer\",\"outcome_subtype\":\"Partner\",\"animal_type\":\"Dog\",\"sex_upon_outcome\":\"Intact Male\",\"age_upon_outcome\":\"1 year\",\"breed\":\"Pit Bull\",\"color\":\"Blue/White\"}\\n,{\"animal_id\":\"A795782\",\"name\":\"Maya\",\"datetime\":\"2019-05-29T15:24:00.000\",\"monthyear\":\"2019-05-29T15:24:00.000\",\"date_of_birth\":\"2018-05-24T00:00:00.000\",\"outcome_type\":\"Return to Owner\",\"animal_type\":\"Dog\",\"sex_upon_outcome\":\"Intact Female\",\"age_upon_outcome\":\"1 year\",\"breed\":\"Chihuahua Shorthair\",\"color\":\"Cream\"}\\n,{\"animal_id\":\"A788817\",\"name\":\"*Latte\",\"datetime\":\"2021-06-17T10:29:00.000\",\"monthyear\":\"2021-06-17T10:29:00.000\",\"date_of_birth\":\"2018-04-09T00:00:00.000\",\"outcome_type\":\"Adoption\",\"animal_type\":\"Dog\",\"sex_upon_outcome\":\"Spayed Female\",\"age_upon_outcome\":\"3 years\",\"breed\":\"Staffordshire Mix\",\"color\":\"Fawn/White\"}\\n,{\"animal_id\":\"A745755\",\"name\":\"Maya\",\"datetime\":\"2017-03-23T17:24:00.000\",\"monthyear\":\"2017-03-23T17:24:00.000\",\"date_of_birth\":\"2016-02-23T00:00:00.000\",\"outcome_type\":\"Return to Owner\",\"animal_type\":\"Dog\",\"sex_upon_outcome\":\"Intact Female\",\"age_upon_outcome\":\"1 year\",\"breed\":\"Labrador Retriever Mix\",\"color\":\"Black/White\"}\\n,{\"animal_id\":\"A738723\",\"name\":\"*Celene\",\"datetime\":\"2016-12-09T09:20:00.000\",\"monthyear\":\"2016-12-09T09:20:00.000\",\"date_of_birth\":\"2016-10-11T00:00:00.000\",\"outcome_type\":\"Adoption\",\"outcome_subtype\":\"Foster\",\"animal_type\":\"Cat\",\"sex_upon_outcome\":\"Spayed Female\",\"age_upon_outcome\":\"1 month\",\"breed\":\"Domestic Shorthair\",\"color\":\"Tortie\"}\\n,{\"animal_id\":\"A809787\",\"name\":\"Banjo\",\"datetime\":\"2020-02-07T18:15:00.000\",\"monthyear\":\"2020-02-07T18:15:00.000\",\"date_of_birth\":\"2019-02-01T00:00:00.000\",\"outcome_type\":\"Adoption\",\"outcome_subtype\":\"Foster\",\"animal_type\":\"Dog\",\"sex_upon_outcome\":\"Neutered Male\",\"age_upon_outcome\":\"1 year\",\"breed\":\"Australian Cattle Dog\",\"color\":\"Red/White\"}\\n,{\"animal_id\":\"A718888\",\"name\":\"*Pearl\",\"datetime\":\"2016-01-13T16:30:00.000\",\"monthyear\":\"2016-01-13T16:30:00.000\",\"date_of_birth\":\"2015-07-09T00:00:00.000\",\"outcome_type\":\"Adoption\",\"animal_type\":\"Dog\",\"sex_upon_outcome\":\"Spayed Female\",\"age_upon_outcome\":\"6 months\",\"breed\":\"German Shepherd Mix\",\"color\":\"Black/Tan\"}\\n,{\"animal_id\":\"A727613\",\"datetime\":\"2016-06-30T17:15:00.000\",\"monthyear\":\"2016-06-30T17:15:00.000\",\"date_of_birth\":\"2016-03-23T00:00:00.000\",\"outcome_type\":\"Adoption\",\"animal_type\":\"Cat\",\"sex_upon_outcome\":\"Neutered Male\",\"age_upon_outcome\":\"3 months\",\"breed\":\"Domestic Shorthair Mix\",\"color\":\"Torbie\"}\\n,{\"animal_id\":\"A794469\",\"datetime\":\"2019-05-22T16:28:00.000\",\"monthyear\":\"2019-05-22T16:28:00.000\",\"date_of_birth\":\"2019-04-02T00:00:00.000\",\"outcome_type\":\"Transfer\",\"outcome_subtype\":\"Partner\",\"animal_type\":\"Cat\",\"sex_upon_outcome\":\"Intact Female\",\"age_upon_outcome\":\"1 month\",\"breed\":\"Domestic Shorthair\",\"color\":\"Brown Tabby\"}\\n,{\"animal_id\":\"A806106\",\"name\":\"Gato\",\"datetime\":\"2019-10-14T16:02:00.000\",\"monthyear\":\"2019-10-14T16:02:00.000\",\"date_of_birth\":\"2015-10-05T00:00:00.000\",\"outcome_type\":\"Return to Owner\",\"animal_type\":\"Cat\",\"sex_upon_outcome\":\"Neutered Male\",\"age_upon_outcome\":\"4 years\",\"breed\":\"Domestic Shorthair\",\"color\":\"Gray\"}\\n,{\"animal_id\":\"A840160\",\"name\":\"*Lily\",\"datetime\":\"2021-08-07T15:27:00.000\",\"monthyear\":\"2021-08-07T15:27:00.000\",\"date_of_birth\":\"2021-07-03T00:00:00.000\",\"outcome_type\":\"Euthanasia\",\"outcome_subtype\":\"Suffering\",\"animal_type\":\"Cat\",\"sex_upon_outcome\":\"Intact Female\",\"age_upon_outcome\":\"5 weeks\",\"breed\":\"Domestic Medium Hair\",\"color\":\"Black\"}\\n,{\"animal_id\":\"A679302\",\"name\":\"*Austin\",\"datetime\":\"2014-05-25T11:29:00.000\",\"monthyear\":\"2014-05-25T11:29:00.000\",\"date_of_birth\":\"2013-05-19T00:00:00.000\",\"outcome_type\":\"Transfer\",\"outcome_subtype\":\"Partner\",\"animal_type\":\"Dog\",\"sex_upon_outcome\":\"Neutered Male\",\"age_upon_outcome\":\"1 year\",\"breed\":\"Chihuahua Shorthair/Dachshund Wirehair\",\"color\":\"Tan\"}\\n,{\"animal_id\":\"A798956\",\"name\":\"Lola\",\"datetime\":\"2019-08-12T16:01:00.000\",\"monthyear\":\"2019-08-12T16:01:00.000\",\"date_of_birth\":\"2019-05-02T00:00:00.000\",\"outcome_type\":\"Adoption\",\"animal_type\":\"Cat\",\"sex_upon_outcome\":\"Spayed Female\",\"age_upon_outcome\":\"3 months\",\"breed\":\"Domestic Shorthair Mix\",\"color\":\"Black\"}\\n,{\"animal_id\":\"A821281\",\"name\":\"Buster\",\"datetime\":\"2020-08-17T00:00:00.000\",\"monthyear\":\"2020-08-17T00:00:00.000\",\"date_of_birth\":\"2012-08-07T00:00:00.000\",\"outcome_type\":\"Transfer\",\"outcome_subtype\":\"Partner\",\"animal_type\":\"Dog\",\"sex_upon_outcome\":\"Neutered Male\",\"age_upon_outcome\":\"8 years\",\"breed\":\"Basset Hound/Beagle\",\"color\":\"Tricolor\"}\\n,{\"animal_id\":\"A677296\",\"name\":\"*Salliemae\",\"datetime\":\"2014-05-03T14:03:00.000\",\"monthyear\":\"2014-05-03T14:03:00.000\",\"date_of_birth\":\"2007-04-23T00:00:00.000\",\"outcome_type\":\"Adoption\",\"animal_type\":\"Dog\",\"sex_upon_outcome\":\"Spayed Female\",\"age_upon_outcome\":\"7 years\",\"breed\":\"Rottweiler/Labrador Retriever\",\"color\":\"Black/Tan\"}\\n,{\"animal_id\":\"A770585\",\"name\":\"Shiner\",\"datetime\":\"2018-08-06T13:03:00.000\",\"monthyear\":\"2018-08-06T13:03:00.000\",\"date_of_birth\":\"2017-04-22T00:00:00.000\",\"outcome_type\":\"Adoption\",\"animal_type\":\"Dog\",\"sex_upon_outcome\":\"Neutered Male\",\"age_upon_outcome\":\"1 year\",\"breed\":\"Pit Bull Mix\",\"color\":\"Blue/White\"}\\n,{\"animal_id\":\"A783913\",\"name\":\"Angelina\",\"datetime\":\"2018-11-11T14:49:00.000\",\"monthyear\":\"2018-11-11T14:49:00.000\",\"date_of_birth\":\"2017-05-08T00:00:00.000\",\"outcome_type\":\"Return to Owner\",\"animal_type\":\"Cat\",\"sex_upon_outcome\":\"Spayed Female\",\"age_upon_outcome\":\"1 year\",\"breed\":\"Domestic Shorthair Mix\",\"color\":\"Brown Tabby\"}\\n,{\"animal_id\":\"A732354\",\"name\":\"*Princess\",\"datetime\":\"2016-08-24T17:11:00.000\",\"monthyear\":\"2016-08-24T17:11:00.000\",\"date_of_birth\":\"2016-02-06T00:00:00.000\",\"outcome_type\":\"Adoption\",\"animal_type\":\"Dog\",\"sex_upon_outcome\":\"Spayed Female\",\"age_upon_outcome\":\"6 months\",\"breed\":\"Australian Cattle Dog Mix\",\"color\":\"White\"}\\n,{\"animal_id\":\"A734313\",\"datetime\":\"2016-09-08T14:23:00.000\",\"monthyear\":\"2016-09-08T14:23:00.000\",\"date_of_birth\":\"2012-09-04T00:00:00.000\",\"outcome_type\":\"Transfer\",\"outcome_subtype\":\"Partner\",\"animal_type\":\"Dog\",\"sex_upon_outcome\":\"Intact Male\",\"age_upon_outcome\":\"4 years\",\"breed\":\"Boxer Mix\",\"color\":\"Brown Brindle/White\"}\\n,{\"animal_id\":\"A795005\",\"name\":\"Hunter\",\"datetime\":\"2019-09-06T15:36:00.000\",\"monthyear\":\"2019-09-06T15:36:00.000\",\"date_of_birth\":\"2019-04-22T00:00:00.000\",\"outcome_type\":\"Transfer\",\"outcome_subtype\":\"Partner\",\"animal_type\":\"Dog\",\"sex_upon_outcome\":\"Neutered Male\",\"age_upon_outcome\":\"4 months\",\"breed\":\"Pointer Mix\",\"color\":\"Fawn\"}\\n,{\"animal_id\":\"A813028\",\"datetime\":\"2020-02-04T11:07:00.000\",\"monthyear\":\"2020-02-04T11:07:00.000\",\"date_of_birth\":\"2018-02-02T00:00:00.000\",\"outcome_type\":\"Euthanasia\",\"outcome_subtype\":\"Rabies Risk\",\"animal_type\":\"Other\",\"sex_upon_outcome\":\"Unknown\",\"age_upon_outcome\":\"2 years\",\"breed\":\"Bat\",\"color\":\"Black/Brown\"}\\n,{\"animal_id\":\"A697429\",\"name\":\"*Willow\",\"datetime\":\"2015-03-12T18:18:00.000\",\"monthyear\":\"2015-03-12T18:18:00.000\",\"date_of_birth\":\"2013-08-23T00:00:00.000\",\"outcome_type\":\"Adoption\",\"animal_type\":\"Dog\",\"sex_upon_outcome\":\"Spayed Female\",\"age_upon_outcome\":\"1 year\",\"breed\":\"Border Collie/Pointer\",\"color\":\"Black/White\"}\\n,{\"animal_id\":\"A673221\",\"name\":\"Timmie\",\"datetime\":\"2014-02-28T15:24:00.000\",\"monthyear\":\"2014-02-28T15:24:00.000\",\"date_of_birth\":\"2013-09-20T00:00:00.000\",\"outcome_type\":\"Adoption\",\"animal_type\":\"Dog\",\"sex_upon_outcome\":\"Spayed Female\",\"age_upon_outcome\":\"5 months\",\"breed\":\"Dachshund Mix\",\"color\":\"Brown\"}\\n,{\"animal_id\":\"A744862\",\"name\":\"*Penny\",\"datetime\":\"2017-03-31T14:45:00.000\",\"monthyear\":\"2017-03-31T14:45:00.000\",\"date_of_birth\":\"2013-03-14T00:00:00.000\",\"outcome_type\":\"Adoption\",\"animal_type\":\"Dog\",\"sex_upon_outcome\":\"Spayed Female\",\"age_upon_outcome\":\"4 years\",\"breed\":\"Dachshund/Rat Terrier\",\"color\":\"Red/White\"}\\n,{\"animal_id\":\"A687756\",\"name\":\"Luna\",\"datetime\":\"2014-09-12T12:33:00.000\",\"monthyear\":\"2014-09-12T12:33:00.000\",\"date_of_birth\":\"2014-06-29T00:00:00.000\",\"outcome_type\":\"Adoption\",\"animal_type\":\"Cat\",\"sex_upon_outcome\":\"Spayed Female\",\"age_upon_outcome\":\"2 months\",\"breed\":\"Siamese Mix\",\"color\":\"Lynx Point\"}\\n,{\"animal_id\":\"A768906\",\"name\":\"*Peaches\",\"datetime\":\"2018-04-24T19:12:00.000\",\"monthyear\":\"2018-04-24T19:12:00.000\",\"date_of_birth\":\"2014-03-27T00:00:00.000\",\"outcome_type\":\"Return to Owner\",\"animal_type\":\"Cat\",\"sex_upon_outcome\":\"Spayed Female\",\"age_upon_outcome\":\"4 years\",\"breed\":\"Siamese Mix\",\"color\":\"Tortie\"}\\n,{\"animal_id\":\"A776657\",\"name\":\"Margarita\",\"datetime\":\"2018-10-09T11:29:00.000\",\"monthyear\":\"2018-10-09T11:29:00.000\",\"date_of_birth\":\"2018-06-10T00:00:00.000\",\"outcome_type\":\"Adoption\",\"outcome_subtype\":\"Foster\",\"animal_type\":\"Cat\",\"sex_upon_outcome\":\"Spayed Female\",\"age_upon_outcome\":\"3 months\",\"breed\":\"Domestic Shorthair Mix\",\"color\":\"Brown Tabby/White\"}\\n,{\"animal_id\":\"A701885\",\"name\":\"Jax\",\"datetime\":\"2015-05-22T19:17:00.000\",\"monthyear\":\"2015-05-22T19:17:00.000\",\"date_of_birth\":\"2014-05-05T00:00:00.000\",\"outcome_type\":\"Adoption\",\"animal_type\":\"Cat\",\"sex_upon_outcome\":\"Neutered Male\",\"age_upon_outcome\":\"1 year\",\"breed\":\"Domestic Shorthair Mix\",\"color\":\"Orange Tabby\"}\\n,{\"animal_id\":\"A677041\",\"name\":\"*Avery\",\"datetime\":\"2014-05-26T18:07:00.000\",\"monthyear\":\"2014-05-26T18:07:00.000\",\"date_of_birth\":\"2014-03-12T00:00:00.000\",\"outcome_type\":\"Adoption\",\"outcome_subtype\":\"Foster\",\"animal_type\":\"Dog\",\"sex_upon_outcome\":\"Spayed Female\",\"age_upon_outcome\":\"2 months\",\"breed\":\"Border Collie Mix\",\"color\":\"Black\"}\\n,{\"animal_id\":\"A808988\",\"datetime\":\"2019-11-26T17:33:00.000\",\"monthyear\":\"2019-11-26T17:33:00.000\",\"date_of_birth\":\"2019-09-09T00:00:00.000\",\"outcome_type\":\"Adoption\",\"animal_type\":\"Cat\",\"sex_upon_outcome\":\"Spayed Female\",\"age_upon_outcome\":\"2 months\",\"breed\":\"Domestic Shorthair\",\"color\":\"Brown Tabby\"}\\n,{\"animal_id\":\"A803123\",\"name\":\"Gizmo\",\"datetime\":\"2019-09-01T15:33:00.000\",\"monthyear\":\"2019-09-01T15:33:00.000\",\"date_of_birth\":\"2019-06-12T00:00:00.000\",\"outcome_type\":\"Adoption\",\"animal_type\":\"Cat\",\"sex_upon_outcome\":\"Intact Male\",\"age_upon_outcome\":\"2 months\",\"breed\":\"Domestic Shorthair\",\"color\":\"Black/White\"}\\n,{\"animal_id\":\"A666077\",\"name\":\"Sabrina\",\"datetime\":\"2014-02-01T17:59:00.000\",\"monthyear\":\"2014-02-01T17:59:00.000\",\"date_of_birth\":\"2013-08-11T00:00:00.000\",\"outcome_type\":\"Adoption\",\"animal_type\":\"Cat\",\"sex_upon_outcome\":\"Spayed Female\",\"age_upon_outcome\":\"5 months\",\"breed\":\"Domestic Shorthair Mix\",\"color\":\"Black\"}\\n,{\"animal_id\":\"A706459\",\"name\":\"Furiosa\",\"datetime\":\"2015-08-15T18:46:00.000\",\"monthyear\":\"2015-08-15T18:46:00.000\",\"date_of_birth\":\"2015-04-14T00:00:00.000\",\"outcome_type\":\"Adoption\",\"animal_type\":\"Cat\",\"sex_upon_outcome\":\"Spayed Female\",\"age_upon_outcome\":\"4 months\",\"breed\":\"Domestic Shorthair Mix\",\"color\":\"Blue Tabby\"}\\n,{\"animal_id\":\"A875819\",\"datetime\":\"2023-03-05T14:00:00.000\",\"monthyear\":\"2023-03-05T14:00:00.000\",\"date_of_birth\":\"2023-02-18T00:00:00.000\",\"outcome_type\":\"Transfer\",\"outcome_subtype\":\"Partner\",\"animal_type\":\"Cat\",\"sex_upon_outcome\":\"Intact Female\",\"age_upon_outcome\":\"2 weeks\",\"breed\":\"Domestic Shorthair\",\"color\":\"Brown Tabby/White\"}\\n,{\"animal_id\":\"A838342\",\"name\":\"*Burgoo\",\"datetime\":\"2021-07-14T17:53:00.000\",\"monthyear\":\"2021-07-14T17:53:00.000\",\"date_of_birth\":\"2017-07-07T00:00:00.000\",\"outcome_type\":\"Adoption\",\"animal_type\":\"Dog\",\"sex_upon_outcome\":\"Neutered Male\",\"age_upon_outcome\":\"4 years\",\"breed\":\"Chihuahua Shorthair Mix\",\"color\":\"White/Brown\"}\\n,{\"animal_id\":\"A766561\",\"datetime\":\"2018-02-17T16:27:00.000\",\"monthyear\":\"2018-02-17T16:27:00.000\",\"date_of_birth\":\"2015-02-11T00:00:00.000\",\"outcome_type\":\"Transfer\",\"outcome_subtype\":\"Partner\",\"animal_type\":\"Dog\",\"sex_upon_outcome\":\"Neutered Male\",\"age_upon_outcome\":\"3 years\",\"breed\":\"Pug Mix\",\"color\":\"Black/White\"}\\n,{\"animal_id\":\"A799660\",\"name\":\"403 Grams\",\"datetime\":\"2019-07-10T19:29:00.000\",\"monthyear\":\"2019-07-10T19:29:00.000\",\"date_of_birth\":\"2019-07-07T00:00:00.000\",\"outcome_type\":\"Transfer\",\"outcome_subtype\":\"Partner\",\"animal_type\":\"Dog\",\"sex_upon_outcome\":\"Intact Male\",\"age_upon_outcome\":\"3 days\",\"breed\":\"Labrador Retriever Mix\",\"color\":\"Brown\"}\\n,{\"animal_id\":\"A833056\",\"name\":\"Piccolo\",\"datetime\":\"2021-05-01T14:09:00.000\",\"monthyear\":\"2021-05-01T14:09:00.000\",\"date_of_birth\":\"2021-01-06T00:00:00.000\",\"outcome_type\":\"Adoption\",\"outcome_subtype\":\"Offsite\",\"animal_type\":\"Dog\",\"sex_upon_outcome\":\"Neutered Male\",\"age_upon_outcome\":\"3 months\",\"breed\":\"Labrador Retriever Mix\",\"color\":\"Brown/White\"}\\n,{\"animal_id\":\"A845149\",\"name\":\"Nava\",\"datetime\":\"2021-10-28T18:13:00.000\",\"monthyear\":\"2021-10-28T18:13:00.000\",\"date_of_birth\":\"2021-08-20T00:00:00.000\",\"outcome_type\":\"Adoption\",\"animal_type\":\"Dog\",\"sex_upon_outcome\":\"Spayed Female\",\"age_upon_outcome\":\"2 months\",\"breed\":\"Pit Bull\",\"color\":\"Brown Brindle/White\"}\\n,{\"animal_id\":\"A819044\",\"name\":\"*Oliver\",\"datetime\":\"2020-08-27T10:43:00.000\",\"monthyear\":\"2020-08-27T10:43:00.000\",\"date_of_birth\":\"2020-04-28T00:00:00.000\",\"outcome_type\":\"Adoption\",\"outcome_subtype\":\"Foster\",\"animal_type\":\"Cat\",\"sex_upon_outcome\":\"Neutered Male\",\"age_upon_outcome\":\"3 months\",\"breed\":\"Domestic Shorthair\",\"color\":\"Orange Tabby/White\"}\\n,{\"animal_id\":\"A737585\",\"name\":\"Snickers\",\"datetime\":\"2016-12-09T18:45:00.000\",\"monthyear\":\"2016-12-09T18:45:00.000\",\"date_of_birth\":\"2016-09-01T00:00:00.000\",\"outcome_type\":\"Adoption\",\"animal_type\":\"Cat\",\"sex_upon_outcome\":\"Neutered Male\",\"age_upon_outcome\":\"3 months\",\"breed\":\"Domestic Shorthair Mix\",\"color\":\"Blue/White\"}\\n,{\"animal_id\":\"A786074\",\"datetime\":\"2018-12-20T17:24:00.000\",\"monthyear\":\"2018-12-20T17:24:00.000\",\"date_of_birth\":\"2018-04-16T00:00:00.000\",\"outcome_type\":\"Adoption\",\"animal_type\":\"Dog\",\"sex_upon_outcome\":\"Spayed Female\",\"age_upon_outcome\":\"8 months\",\"breed\":\"Chihuahua Shorthair Mix\",\"color\":\"Black/White\"}\\n,{\"animal_id\":\"A835081\",\"datetime\":\"2021-05-24T12:06:00.000\",\"monthyear\":\"2021-05-24T12:06:00.000\",\"date_of_birth\":\"2021-04-27T00:00:00.000\",\"outcome_type\":\"Transfer\",\"outcome_subtype\":\"Partner\",\"animal_type\":\"Cat\",\"sex_upon_outcome\":\"Intact Female\",\"age_upon_outcome\":\"3 weeks\",\"breed\":\"Siamese\",\"color\":\"Seal Point/White\"}\\n,{\"animal_id\":\"A819299\",\"name\":\"*Turkey Lurkey\",\"datetime\":\"2020-08-07T14:36:00.000\",\"monthyear\":\"2020-08-07T14:36:00.000\",\"date_of_birth\":\"2020-05-25T00:00:00.000\",\"outcome_type\":\"Adoption\",\"outcome_subtype\":\"Foster\",\"animal_type\":\"Cat\",\"sex_upon_outcome\":\"Neutered Male\",\"age_upon_outcome\":\"2 months\",\"breed\":\"Domestic Shorthair Mix\",\"color\":\"Black\"}\\n,{\"animal_id\":\"A807768\",\"datetime\":\"2019-11-06T18:27:00.000\",\"monthyear\":\"2019-11-06T18:27:00.000\",\"date_of_birth\":\"2012-10-29T00:00:00.000\",\"outcome_type\":\"Adoption\",\"animal_type\":\"Dog\",\"sex_upon_outcome\":\"Neutered Male\",\"age_upon_outcome\":\"7 years\",\"breed\":\"Great Pyrenees\",\"color\":\"White\"}\\n,{\"animal_id\":\"A723110\",\"datetime\":\"2016-03-31T11:41:00.000\",\"monthyear\":\"2016-03-31T11:41:00.000\",\"date_of_birth\":\"2015-09-26T00:00:00.000\",\"outcome_type\":\"Transfer\",\"outcome_subtype\":\"Partner\",\"animal_type\":\"Cat\",\"sex_upon_outcome\":\"Spayed Female\",\"age_upon_outcome\":\"6 months\",\"breed\":\"Domestic Shorthair Mix\",\"color\":\"Black\"}\\n,{\"animal_id\":\"A741991\",\"name\":\"Styx\",\"datetime\":\"2017-01-16T17:22:00.000\",\"monthyear\":\"2017-01-16T17:22:00.000\",\"date_of_birth\":\"2016-10-28T00:00:00.000\",\"outcome_type\":\"Adoption\",\"animal_type\":\"Cat\",\"sex_upon_outcome\":\"Neutered Male\",\"age_upon_outcome\":\"2 months\",\"breed\":\"Domestic Medium Hair Mix\",\"color\":\"Black\"}\\n,{\"animal_id\":\"A759181\",\"datetime\":\"2017-09-28T00:00:00.000\",\"monthyear\":\"2017-09-28T00:00:00.000\",\"date_of_birth\":\"2017-08-28T00:00:00.000\",\"outcome_type\":\"Transfer\",\"outcome_subtype\":\"Partner\",\"animal_type\":\"Cat\",\"sex_upon_outcome\":\"Intact Male\",\"age_upon_outcome\":\"4 weeks\",\"breed\":\"Domestic Shorthair Mix\",\"color\":\"Black/White\"}\\n,{\"animal_id\":\"A747585\",\"name\":\"Joy\",\"datetime\":\"2017-04-26T17:59:00.000\",\"monthyear\":\"2017-04-26T17:59:00.000\",\"date_of_birth\":\"2016-04-21T00:00:00.000\",\"outcome_type\":\"Rto-Adopt\",\"animal_type\":\"Dog\",\"sex_upon_outcome\":\"Spayed Female\",\"age_upon_outcome\":\"1 year\",\"breed\":\"Chihuahua Shorthair Mix\",\"color\":\"Brown/White\"}\\n,{\"animal_id\":\"A752526\",\"datetime\":\"2017-06-24T10:48:00.000\",\"monthyear\":\"2017-06-24T10:48:00.000\",\"date_of_birth\":\"2015-06-23T00:00:00.000\",\"outcome_type\":\"Euthanasia\",\"outcome_subtype\":\"Rabies Risk\",\"animal_type\":\"Other\",\"sex_upon_outcome\":\"Unknown\",\"age_upon_outcome\":\"2 years\",\"breed\":\"Bat Mix\",\"color\":\"Black\"}\\n,{\"animal_id\":\"A775839\",\"name\":\"Rambo\",\"datetime\":\"2018-07-07T14:54:00.000\",\"monthyear\":\"2018-07-07T14:54:00.000\",\"date_of_birth\":\"2016-07-05T00:00:00.000\",\"outcome_type\":\"Return to Owner\",\"animal_type\":\"Dog\",\"sex_upon_outcome\":\"Intact Male\",\"age_upon_outcome\":\"2 years\",\"breed\":\"Labrador Retriever/Pit Bull\",\"color\":\"Black/White\"}\\n,{\"animal_id\":\"A673079\",\"name\":\"*Tinsel\",\"datetime\":\"2014-03-05T17:10:00.000\",\"monthyear\":\"2014-03-05T17:10:00.000\",\"date_of_birth\":\"2013-02-19T00:00:00.000\",\"outcome_type\":\"Adoption\",\"animal_type\":\"Dog\",\"sex_upon_outcome\":\"Spayed Female\",\"age_upon_outcome\":\"1 year\",\"breed\":\"Yorkshire Terrier Mix\",\"color\":\"Gray/Tan\"}\\n,{\"animal_id\":\"A722894\",\"datetime\":\"2016-03-23T17:35:00.000\",\"monthyear\":\"2016-03-23T17:35:00.000\",\"date_of_birth\":\"2015-09-23T00:00:00.000\",\"outcome_type\":\"Euthanasia\",\"outcome_subtype\":\"Rabies Risk\",\"animal_type\":\"Other\",\"sex_upon_outcome\":\"Unknown\",\"age_upon_outcome\":\"5 months\",\"breed\":\"Bat\",\"color\":\"Brown\"}\\n,{\"animal_id\":\"A681346\",\"name\":\"*Jon Snow\",\"datetime\":\"2014-06-29T15:48:00.000\",\"monthyear\":\"2014-06-29T15:48:00.000\",\"date_of_birth\":\"2014-03-24T00:00:00.000\",\"outcome_type\":\"Adoption\",\"animal_type\":\"Cat\",\"sex_upon_outcome\":\"Neutered Male\",\"age_upon_outcome\":\"3 months\",\"breed\":\"Domestic Shorthair Mix\",\"color\":\"Brown Tabby\"}\\n,{\"animal_id\":\"A700106\",\"name\":\"Mr.Gray\",\"datetime\":\"2015-04-20T14:08:00.000\",\"monthyear\":\"2015-04-20T14:08:00.000\",\"date_of_birth\":\"2014-04-08T00:00:00.000\",\"outcome_type\":\"Transfer\",\"outcome_subtype\":\"Partner\",\"animal_type\":\"Cat\",\"sex_upon_outcome\":\"Neutered Male\",\"age_upon_outcome\":\"1 year\",\"breed\":\"Domestic Shorthair Mix\",\"color\":\"Blue Tabby\"}\\n,{\"animal_id\":\"A729401\",\"datetime\":\"2016-06-27T00:00:00.000\",\"monthyear\":\"2016-06-27T00:00:00.000\",\"date_of_birth\":\"2016-04-02T00:00:00.000\",\"outcome_type\":\"Transfer\",\"outcome_subtype\":\"Partner\",\"animal_type\":\"Cat\",\"sex_upon_outcome\":\"Spayed Female\",\"age_upon_outcome\":\"2 months\",\"breed\":\"Domestic Shorthair Mix\",\"color\":\"Brown Tabby/White\"}\\n,{\"animal_id\":\"A768216\",\"name\":\"Sweetie\",\"datetime\":\"2019-01-30T14:47:00.000\",\"monthyear\":\"2019-01-30T14:47:00.000\",\"date_of_birth\":\"2016-03-15T00:00:00.000\",\"outcome_type\":\"Transfer\",\"outcome_subtype\":\"Partner\",\"animal_type\":\"Dog\",\"sex_upon_outcome\":\"Spayed Female\",\"age_upon_outcome\":\"2 years\",\"breed\":\"Pug Mix\",\"color\":\"Fawn\"}\\n,{\"animal_id\":\"A780869\",\"datetime\":\"2018-10-15T16:52:00.000\",\"monthyear\":\"2018-10-15T16:52:00.000\",\"date_of_birth\":\"2016-09-21T00:00:00.000\",\"outcome_type\":\"Transfer\",\"outcome_subtype\":\"Snr\",\"animal_type\":\"Cat\",\"sex_upon_outcome\":\"Intact Female\",\"age_upon_outcome\":\"2 years\",\"breed\":\"Domestic Medium Hair Mix\",\"color\":\"White/Gray\"}\\n,{\"animal_id\":\"A677445\",\"name\":\"Pirate\",\"datetime\":\"2015-03-17T14:49:00.000\",\"monthyear\":\"2015-03-17T14:49:00.000\",\"date_of_birth\":\"2008-07-25T00:00:00.000\",\"outcome_type\":\"Return to Owner\",\"animal_type\":\"Dog\",\"sex_upon_outcome\":\"Neutered Male\",\"age_upon_outcome\":\"6 years\",\"breed\":\"Pug Mix\",\"color\":\"Fawn/Black\"}\\n,{\"animal_id\":\"A806164\",\"name\":\"Maya\",\"datetime\":\"2019-10-16T18:10:00.000\",\"monthyear\":\"2019-10-16T18:10:00.000\",\"date_of_birth\":\"2019-07-29T00:00:00.000\",\"outcome_type\":\"Adoption\",\"animal_type\":\"Cat\",\"sex_upon_outcome\":\"Spayed Female\",\"age_upon_outcome\":\"2 months\",\"breed\":\"Domestic Shorthair Mix\",\"color\":\"Brown Tabby/White\"}\\n,{\"animal_id\":\"A823747\",\"datetime\":\"2020-10-03T17:35:00.000\",\"monthyear\":\"2020-10-03T17:35:00.000\",\"date_of_birth\":\"2018-09-29T00:00:00.000\",\"outcome_type\":\"Euthanasia\",\"outcome_subtype\":\"Suffering\",\"animal_type\":\"Cat\",\"sex_upon_outcome\":\"Intact Female\",\"age_upon_outcome\":\"2 years\",\"breed\":\"Domestic Shorthair\",\"color\":\"Calico\"}\\n,{\"animal_id\":\"A700772\",\"name\":\"*Suzuki\",\"datetime\":\"2015-04-24T15:36:00.000\",\"monthyear\":\"2015-04-24T15:36:00.000\",\"date_of_birth\":\"2015-01-28T00:00:00.000\",\"outcome_type\":\"Transfer\",\"outcome_subtype\":\"Partner\",\"animal_type\":\"Dog\",\"sex_upon_outcome\":\"Intact Male\",\"age_upon_outcome\":\"2 months\",\"breed\":\"Labrador Retriever Mix\",\"color\":\"Black/White\"}\\n,{\"animal_id\":\"A666752\",\"name\":\"Floyd\",\"datetime\":\"2013-11-07T18:06:00.000\",\"monthyear\":\"2013-11-07T18:06:00.000\",\"date_of_birth\":\"2012-11-06T00:00:00.000\",\"outcome_type\":\"Return to Owner\",\"animal_type\":\"Dog\",\"sex_upon_outcome\":\"Neutered Male\",\"age_upon_outcome\":\"1 year\",\"breed\":\"Australian Kelpie/Whippet\",\"color\":\"Brown Brindle/White\"}\\n,{\"animal_id\":\"A721240\",\"name\":\"*Burt\",\"datetime\":\"2016-05-01T12:44:00.000\",\"monthyear\":\"2016-05-01T12:44:00.000\",\"date_of_birth\":\"2016-02-16T00:00:00.000\",\"outcome_type\":\"Adoption\",\"animal_type\":\"Cat\",\"sex_upon_outcome\":\"Neutered Male\",\"age_upon_outcome\":\"2 months\",\"breed\":\"Domestic Shorthair Mix\",\"color\":\"Black\"}\\n,{\"animal_id\":\"A763082\",\"datetime\":\"2017-12-07T11:06:00.000\",\"monthyear\":\"2017-12-07T11:06:00.000\",\"date_of_birth\":\"2015-12-02T00:00:00.000\",\"outcome_type\":\"Transfer\",\"outcome_subtype\":\"Partner\",\"animal_type\":\"Dog\",\"sex_upon_outcome\":\"Neutered Male\",\"age_upon_outcome\":\"2 years\",\"breed\":\"Standard Poodle\",\"color\":\"White\"}\\n,{\"animal_id\":\"A808996\",\"datetime\":\"2019-11-21T15:06:00.000\",\"monthyear\":\"2019-11-21T15:06:00.000\",\"date_of_birth\":\"2017-11-17T00:00:00.000\",\"outcome_type\":\"Transfer\",\"outcome_subtype\":\"Snr\",\"animal_type\":\"Cat\",\"sex_upon_outcome\":\"Intact Female\",\"age_upon_outcome\":\"2 years\",\"breed\":\"Domestic Medium Hair\",\"color\":\"Brown Tabby/White\"}\\n,{\"animal_id\":\"A804098\",\"name\":\"*Rosita\",\"datetime\":\"2019-10-07T17:45:00.000\",\"monthyear\":\"2019-10-07T17:45:00.000\",\"date_of_birth\":\"2019-04-10T00:00:00.000\",\"outcome_type\":\"Adoption\",\"animal_type\":\"Cat\",\"sex_upon_outcome\":\"Spayed Female\",\"age_upon_outcome\":\"5 months\",\"breed\":\"Domestic Shorthair\",\"color\":\"Black/White\"}\\n,{\"animal_id\":\"A875868\",\"datetime\":\"2023-03-06T13:50:00.000\",\"monthyear\":\"2023-03-06T13:50:00.000\",\"date_of_birth\":\"2023-02-15T00:00:00.000\",\"outcome_type\":\"Transfer\",\"outcome_subtype\":\"Partner\",\"animal_type\":\"Cat\",\"sex_upon_outcome\":\"Intact Male\",\"age_upon_outcome\":\"2 weeks\",\"breed\":\"Domestic Shorthair\",\"color\":\"Tan\"}\\n,{\"animal_id\":\"A697847\",\"name\":\"Randalls Cub\",\"datetime\":\"2015-03-15T13:57:00.000\",\"monthyear\":\"2015-03-15T13:57:00.000\",\"date_of_birth\":\"2014-03-02T00:00:00.000\",\"outcome_type\":\"Adoption\",\"animal_type\":\"Cat\",\"sex_upon_outcome\":\"Spayed Female\",\"age_upon_outcome\":\"1 year\",\"breed\":\"Domestic Shorthair Mix\",\"color\":\"Black\"}\\n,{\"animal_id\":\"A760800\",\"datetime\":\"2017-10-27T19:44:00.000\",\"monthyear\":\"2017-10-27T19:44:00.000\",\"date_of_birth\":\"2014-10-24T00:00:00.000\",\"outcome_type\":\"Transfer\",\"outcome_subtype\":\"Snr\",\"animal_type\":\"Cat\",\"sex_upon_outcome\":\"Intact Female\",\"age_upon_outcome\":\"3 years\",\"breed\":\"Siamese\",\"color\":\"Calico Point/Gray\"}\\n,{\"animal_id\":\"A875879\",\"datetime\":\"2023-03-06T14:55:00.000\",\"monthyear\":\"2023-03-06T14:55:00.000\",\"date_of_birth\":\"2021-03-06T00:00:00.000\",\"outcome_type\":\"Euthanasia\",\"outcome_subtype\":\"Rabies Risk\",\"animal_type\":\"Other\",\"sex_upon_outcome\":\"Unknown\",\"age_upon_outcome\":\"2 years\",\"breed\":\"Bat\",\"color\":\"Brown\"}\\n,{\"animal_id\":\"A759477\",\"datetime\":\"2017-10-03T15:03:00.000\",\"monthyear\":\"2017-10-03T15:03:00.000\",\"date_of_birth\":\"2017-01-02T00:00:00.000\",\"outcome_type\":\"Transfer\",\"outcome_subtype\":\"Partner\",\"animal_type\":\"Dog\",\"sex_upon_outcome\":\"Intact Female\",\"age_upon_outcome\":\"9 months\",\"breed\":\"Chihuahua Shorthair Mix\",\"color\":\"Black/Black\"}\\n,{\"animal_id\":\"A763292\",\"name\":\"*Michael\",\"datetime\":\"2018-01-13T18:21:00.000\",\"monthyear\":\"2018-01-13T18:21:00.000\",\"date_of_birth\":\"2016-12-06T00:00:00.000\",\"outcome_type\":\"Adoption\",\"animal_type\":\"Dog\",\"sex_upon_outcome\":\"Neutered Male\",\"age_upon_outcome\":\"1 year\",\"breed\":\"American Staffordshire Terrier Mix\",\"color\":\"Black/White\"}\\n,{\"animal_id\":\"A738195\",\"datetime\":\"2016-11-10T18:20:00.000\",\"monthyear\":\"2016-11-10T18:20:00.000\",\"date_of_birth\":\"2014-11-10T00:00:00.000\",\"outcome_type\":\"Euthanasia\",\"outcome_subtype\":\"Rabies Risk\",\"animal_type\":\"Other\",\"sex_upon_outcome\":\"Unknown\",\"age_upon_outcome\":\"2 years\",\"breed\":\"Fox Mix\",\"color\":\"Red\"}\\n,{\"animal_id\":\"A762041\",\"name\":\"Oj\",\"datetime\":\"2017-11-24T11:35:00.000\",\"monthyear\":\"2017-11-24T11:35:00.000\",\"date_of_birth\":\"2011-11-14T00:00:00.000\",\"outcome_type\":\"Return to Owner\",\"animal_type\":\"Cat\",\"sex_upon_outcome\":\"Unknown\",\"age_upon_outcome\":\"6 years\",\"breed\":\"Domestic Shorthair Mix\",\"color\":\"Orange Tabby/White\"}\\n,{\"animal_id\":\"A713781\",\"name\":\"Samson\",\"datetime\":\"2015-10-15T18:04:00.000\",\"monthyear\":\"2015-10-15T18:04:00.000\",\"date_of_birth\":\"2010-07-17T00:00:00.000\",\"outcome_type\":\"Return to Owner\",\"animal_type\":\"Dog\",\"sex_upon_outcome\":\"Neutered Male\",\"age_upon_outcome\":\"5 years\",\"breed\":\"Boxer Mix\",\"color\":\"Brown Brindle\"}\\n,{\"animal_id\":\"A723981\",\"name\":\"Joe\",\"datetime\":\"2016-08-14T12:35:00.000\",\"monthyear\":\"2016-08-14T12:35:00.000\",\"date_of_birth\":\"2010-08-14T00:00:00.000\",\"outcome_type\":\"Return to Owner\",\"animal_type\":\"Dog\",\"sex_upon_outcome\":\"Neutered Male\",\"age_upon_outcome\":\"6 years\",\"breed\":\"Pit Bull/Boxer\",\"color\":\"White/Black\"}\\n,{\"animal_id\":\"A665610\",\"datetime\":\"2013-10-20T15:00:00.000\",\"monthyear\":\"2013-10-20T15:00:00.000\",\"date_of_birth\":\"2013-09-28T00:00:00.000\",\"outcome_type\":\"Transfer\",\"outcome_subtype\":\"Partner\",\"animal_type\":\"Cat\",\"sex_upon_outcome\":\"Intact Male\",\"age_upon_outcome\":\"3 weeks\",\"breed\":\"Domestic Shorthair Mix\",\"color\":\"Brown Tabby\"}\\n,{\"animal_id\":\"A805630\",\"name\":\"Starr\",\"datetime\":\"2019-09-30T08:10:00.000\",\"monthyear\":\"2019-09-30T08:10:00.000\",\"date_of_birth\":\"2009-09-29T00:00:00.000\",\"outcome_type\":\"Euthanasia\",\"outcome_subtype\":\"At Vet\",\"animal_type\":\"Dog\",\"sex_upon_outcome\":\"Intact Female\",\"age_upon_outcome\":\"10 years\",\"breed\":\"Chihuahua Shorthair\",\"color\":\"White/Black\"}\\n,{\"animal_id\":\"A674952\",\"datetime\":\"2014-03-20T16:31:00.000\",\"monthyear\":\"2014-03-20T16:31:00.000\",\"date_of_birth\":\"2013-03-20T00:00:00.000\",\"outcome_type\":\"Euthanasia\",\"outcome_subtype\":\"Rabies Risk\",\"animal_type\":\"Other\",\"sex_upon_outcome\":\"Unknown\",\"age_upon_outcome\":\"1 year\",\"breed\":\"Bat Mix\",\"color\":\"Brown\"}\\n,{\"animal_id\":\"A710757\",\"name\":\"Coraje\",\"datetime\":\"2016-03-15T13:32:00.000\",\"monthyear\":\"2016-03-15T13:32:00.000\",\"date_of_birth\":\"2014-12-27T00:00:00.000\",\"outcome_type\":\"Adoption\",\"animal_type\":\"Dog\",\"sex_upon_outcome\":\"Neutered Male\",\"age_upon_outcome\":\"1 year\",\"breed\":\"Pointer Mix\",\"color\":\"Tricolor\"}\\n,{\"animal_id\":\"A777956\",\"name\":\"*Asparagus\",\"datetime\":\"2018-08-21T17:26:00.000\",\"monthyear\":\"2018-08-21T17:26:00.000\",\"date_of_birth\":\"2018-06-10T00:00:00.000\",\"outcome_type\":\"Adoption\",\"outcome_subtype\":\"Foster\",\"animal_type\":\"Dog\",\"sex_upon_outcome\":\"Neutered Male\",\"age_upon_outcome\":\"2 months\",\"breed\":\"Pointer/Chihuahua Longhair\",\"color\":\"Sable\"}\\n,{\"animal_id\":\"A747337\",\"datetime\":\"2017-07-12T11:08:00.000\",\"monthyear\":\"2017-07-12T11:08:00.000\",\"date_of_birth\":\"2017-04-15T00:00:00.000\",\"outcome_type\":\"Adoption\",\"outcome_subtype\":\"Foster\",\"animal_type\":\"Cat\",\"sex_upon_outcome\":\"Neutered Male\",\"age_upon_outcome\":\"2 months\",\"breed\":\"Domestic Shorthair Mix\",\"color\":\"Blue Tabby\"}\\n,{\"animal_id\":\"A827240\",\"name\":\"Ross 8\",\"datetime\":\"2021-01-07T12:40:00.000\",\"monthyear\":\"2021-01-07T12:40:00.000\",\"date_of_birth\":\"2019-12-16T00:00:00.000\",\"outcome_type\":\"Return to Owner\",\"animal_type\":\"Cat\",\"sex_upon_outcome\":\"Neutered Male\",\"age_upon_outcome\":\"1 year\",\"breed\":\"Domestic Shorthair Mix\",\"color\":\"Black/White\"}\\n,{\"animal_id\":\"A474852\",\"name\":\"Atlas\",\"datetime\":\"2016-09-09T11:06:00.000\",\"monthyear\":\"2016-09-09T11:06:00.000\",\"date_of_birth\":\"2006-06-10T00:00:00.000\",\"outcome_type\":\"Return to Owner\",\"animal_type\":\"Dog\",\"sex_upon_outcome\":\"Neutered Male\",\"age_upon_outcome\":\"10 years\",\"breed\":\"German Shepherd Mix\",\"color\":\"Tan\"}\\n,{\"animal_id\":\"A665994\",\"name\":\"*Lihue\",\"datetime\":\"2013-11-05T19:22:00.000\",\"monthyear\":\"2013-11-05T19:22:00.000\",\"date_of_birth\":\"2013-07-25T00:00:00.000\",\"outcome_type\":\"Adoption\",\"animal_type\":\"Cat\",\"sex_upon_outcome\":\"Spayed Female\",\"age_upon_outcome\":\"3 months\",\"breed\":\"Domestic Shorthair Mix\",\"color\":\"Calico\"}\\n,{\"animal_id\":\"A762274\",\"name\":\"*Rose\",\"datetime\":\"2017-11-25T13:11:00.000\",\"monthyear\":\"2017-11-25T13:11:00.000\",\"date_of_birth\":\"2009-11-17T00:00:00.000\",\"outcome_type\":\"Transfer\",\"outcome_subtype\":\"Partner\",\"animal_type\":\"Cat\",\"sex_upon_outcome\":\"Spayed Female\",\"age_upon_outcome\":\"8 years\",\"breed\":\"Domestic Medium Hair Mix\",\"color\":\"White/Brown Tabby\"}\\n,{\"animal_id\":\"A773787\",\"name\":\"*Scotch\",\"datetime\":\"2018-08-18T11:23:00.000\",\"monthyear\":\"2018-08-18T11:23:00.000\",\"date_of_birth\":\"2018-04-23T00:00:00.000\",\"outcome_type\":\"Adoption\",\"animal_type\":\"Cat\",\"sex_upon_outcome\":\"Neutered Male\",\"age_upon_outcome\":\"3 months\",\"breed\":\"Domestic Shorthair\",\"color\":\"Cream Tabby/White\"}\\n,{\"animal_id\":\"A870014\",\"name\":\"Castiel\",\"datetime\":\"2023-03-06T14:01:00.000\",\"monthyear\":\"2023-03-06T14:01:00.000\",\"date_of_birth\":\"2020-11-29T00:00:00.000\",\"outcome_type\":\"Adoption\",\"animal_type\":\"Dog\",\"sex_upon_outcome\":\"Neutered Male\",\"age_upon_outcome\":\"2 years\",\"breed\":\"Pit Bull Mix\",\"color\":\"Blue/White\"}\\n,{\"animal_id\":\"A693856\",\"name\":\"Jizzle\",\"datetime\":\"2014-12-18T18:45:00.000\",\"monthyear\":\"2014-12-18T18:45:00.000\",\"date_of_birth\":\"2013-12-15T00:00:00.000\",\"outcome_type\":\"Return to Owner\",\"animal_type\":\"Dog\",\"sex_upon_outcome\":\"Neutered Male\",\"age_upon_outcome\":\"1 year\",\"breed\":\"Pit Bull Mix\",\"color\":\"Black/Tan\"}\\n,{\"animal_id\":\"A739344\",\"name\":\"Starman\",\"datetime\":\"2017-01-08T15:02:00.000\",\"monthyear\":\"2017-01-08T15:02:00.000\",\"date_of_birth\":\"2016-10-12T00:00:00.000\",\"outcome_type\":\"Adoption\",\"animal_type\":\"Cat\",\"sex_upon_outcome\":\"Intact Male\",\"age_upon_outcome\":\"2 months\",\"breed\":\"Domestic Shorthair Mix\",\"color\":\"Black\"}\\n,{\"animal_id\":\"A875850\",\"datetime\":\"2023-03-05T19:00:00.000\",\"monthyear\":\"2023-03-05T19:00:00.000\",\"date_of_birth\":\"2023-03-05T00:00:00.000\",\"outcome_type\":\"Transfer\",\"outcome_subtype\":\"Partner\",\"animal_type\":\"Cat\",\"sex_upon_outcome\":\"Unknown\",\"age_upon_outcome\":\"0 years\",\"breed\":\"Domestic Shorthair\",\"color\":\"Orange\"}\\n,{\"animal_id\":\"A704378\",\"name\":\"Picasso\",\"datetime\":\"2015-06-30T12:13:00.000\",\"monthyear\":\"2015-06-30T12:13:00.000\",\"date_of_birth\":\"2012-06-08T00:00:00.000\",\"outcome_type\":\"Transfer\",\"outcome_subtype\":\"Partner\",\"animal_type\":\"Cat\",\"sex_upon_outcome\":\"Neutered Male\",\"age_upon_outcome\":\"3 years\",\"breed\":\"Domestic Shorthair Mix\",\"color\":\"Blue Tabby\"}\\n,{\"animal_id\":\"A768959\",\"name\":\"Buttons\",\"datetime\":\"2018-03-29T11:40:00.000\",\"monthyear\":\"2018-03-29T11:40:00.000\",\"date_of_birth\":\"2010-03-28T00:00:00.000\",\"outcome_type\":\"Return to Owner\",\"animal_type\":\"Dog\",\"sex_upon_outcome\":\"Neutered Male\",\"age_upon_outcome\":\"8 years\",\"breed\":\"Pekingese Mix\",\"color\":\"Black\"}\\n,{\"animal_id\":\"A738529\",\"datetime\":\"2016-11-17T12:30:00.000\",\"monthyear\":\"2016-11-17T12:30:00.000\",\"date_of_birth\":\"2016-11-07T00:00:00.000\",\"outcome_type\":\"Transfer\",\"outcome_subtype\":\"Partner\",\"animal_type\":\"Cat\",\"sex_upon_outcome\":\"Unknown\",\"age_upon_outcome\":\"1 weeks\",\"breed\":\"Domestic Shorthair Mix\",\"color\":\"Tortie\"}\\n,{\"animal_id\":\"A680546\",\"datetime\":\"2014-06-10T14:31:00.000\",\"monthyear\":\"2014-06-10T14:31:00.000\",\"date_of_birth\":\"2012-06-04T00:00:00.000\",\"outcome_type\":\"Transfer\",\"outcome_subtype\":\"Partner\",\"animal_type\":\"Dog\",\"sex_upon_outcome\":\"Spayed Female\",\"age_upon_outcome\":\"2 years\",\"breed\":\"Great Pyrenees Mix\",\"color\":\"White\"}\\n,{\"animal_id\":\"A791858\",\"datetime\":\"2019-04-04T13:34:00.000\",\"monthyear\":\"2019-04-04T13:34:00.000\",\"date_of_birth\":\"2013-04-02T00:00:00.000\",\"outcome_type\":\"Transfer\",\"outcome_subtype\":\"Partner\",\"animal_type\":\"Cat\",\"sex_upon_outcome\":\"Intact Female\",\"age_upon_outcome\":\"6 years\",\"breed\":\"Domestic Shorthair Mix\",\"color\":\"Brown Tabby\"}\\n,{\"animal_id\":\"A678773\",\"datetime\":\"2014-05-12T18:21:00.000\",\"monthyear\":\"2014-05-12T18:21:00.000\",\"date_of_birth\":\"2014-05-11T00:00:00.000\",\"outcome_type\":\"Transfer\",\"outcome_subtype\":\"Partner\",\"animal_type\":\"Cat\",\"sex_upon_outcome\":\"Unknown\",\"age_upon_outcome\":\"1 day\",\"breed\":\"Domestic Shorthair Mix\",\"color\":\"Torbie\"}\\n,{\"animal_id\":\"A832999\",\"datetime\":\"2021-04-20T12:37:00.000\",\"monthyear\":\"2021-04-20T12:37:00.000\",\"date_of_birth\":\"2021-03-31T00:00:00.000\",\"outcome_type\":\"Transfer\",\"outcome_subtype\":\"Partner\",\"animal_type\":\"Cat\",\"sex_upon_outcome\":\"Intact Male\",\"age_upon_outcome\":\"2 weeks\",\"breed\":\"Domestic Shorthair\",\"color\":\"Black\"}\\n,{\"animal_id\":\"A758217\",\"datetime\":\"2017-09-19T17:55:00.000\",\"monthyear\":\"2017-09-19T17:55:00.000\",\"date_of_birth\":\"2017-06-26T00:00:00.000\",\"outcome_type\":\"Adoption\",\"animal_type\":\"Cat\",\"sex_upon_outcome\":\"Spayed Female\",\"age_upon_outcome\":\"2 months\",\"breed\":\"Domestic Shorthair Mix\",\"color\":\"Calico\"}\\n,{\"animal_id\":\"A682410\",\"datetime\":\"2014-06-27T14:35:00.000\",\"monthyear\":\"2014-06-27T14:35:00.000\",\"date_of_birth\":\"2014-05-27T00:00:00.000\",\"outcome_type\":\"Euthanasia\",\"outcome_subtype\":\"Rabies Risk\",\"animal_type\":\"Other\",\"sex_upon_outcome\":\"Unknown\",\"age_upon_outcome\":\"4 weeks\",\"breed\":\"Bat Mix\",\"color\":\"Red/Cream\"}\\n,{\"animal_id\":\"A814026\",\"datetime\":\"2020-02-27T16:52:00.000\",\"monthyear\":\"2020-02-27T16:52:00.000\",\"date_of_birth\":\"2018-02-23T00:00:00.000\",\"outcome_type\":\"Transfer\",\"outcome_subtype\":\"Snr\",\"animal_type\":\"Cat\",\"sex_upon_outcome\":\"Intact Male\",\"age_upon_outcome\":\"2 years\",\"breed\":\"Domestic Shorthair\",\"color\":\"Black\"}\\n,{\"animal_id\":\"A755385\",\"datetime\":\"2017-08-14T16:11:00.000\",\"monthyear\":\"2017-08-14T16:11:00.000\",\"date_of_birth\":\"2017-05-18T00:00:00.000\",\"outcome_type\":\"Transfer\",\"outcome_subtype\":\"Partner\",\"animal_type\":\"Dog\",\"sex_upon_outcome\":\"Neutered Male\",\"age_upon_outcome\":\"2 months\",\"breed\":\"Labrador Retriever/Australian Cattle Dog\",\"color\":\"Brown/White\"}\\n,{\"animal_id\":\"A791254\",\"name\":\"Taco\",\"datetime\":\"2019-03-28T13:41:00.000\",\"monthyear\":\"2019-03-28T13:41:00.000\",\"date_of_birth\":\"2019-02-02T00:00:00.000\",\"outcome_type\":\"Adoption\",\"animal_type\":\"Cat\",\"sex_upon_outcome\":\"Intact Male\",\"age_upon_outcome\":\"1 month\",\"breed\":\"Domestic Shorthair Mix\",\"color\":\"Blue Tabby/White\"}\\n,{\"animal_id\":\"A730605\",\"name\":\"*Kirk\",\"datetime\":\"2016-07-11T17:19:00.000\",\"monthyear\":\"2016-07-11T17:19:00.000\",\"date_of_birth\":\"2016-03-07T00:00:00.000\",\"outcome_type\":\"Adoption\",\"animal_type\":\"Cat\",\"sex_upon_outcome\":\"Neutered Male\",\"age_upon_outcome\":\"4 months\",\"breed\":\"Domestic Shorthair Mix\",\"color\":\"Black\"}\\n,{\"animal_id\":\"A608012\",\"name\":\"Bella\",\"datetime\":\"2019-12-11T06:12:00.000\",\"monthyear\":\"2019-12-11T06:12:00.000\",\"date_of_birth\":\"2011-11-23T00:00:00.000\",\"outcome_type\":\"Adoption\",\"outcome_subtype\":\"Foster\",\"animal_type\":\"Dog\",\"sex_upon_outcome\":\"Spayed Female\",\"age_upon_outcome\":\"8 years\",\"breed\":\"Cardigan Welsh Corgi/Labrador Retriever\",\"color\":\"White/Tan\"}\\n,{\"animal_id\":\"A727306\",\"name\":\"*Ivy\",\"datetime\":\"2016-06-17T12:38:00.000\",\"monthyear\":\"2016-06-17T12:38:00.000\",\"date_of_birth\":\"2011-05-20T00:00:00.000\",\"outcome_type\":\"Transfer\",\"outcome_subtype\":\"Partner\",\"animal_type\":\"Dog\",\"sex_upon_outcome\":\"Intact Female\",\"age_upon_outcome\":\"5 years\",\"breed\":\"Pit Bull Mix\",\"color\":\"Black/White\"}\\n,{\"animal_id\":\"A841164\",\"name\":\"Hunny\",\"datetime\":\"2021-08-30T17:40:00.000\",\"monthyear\":\"2021-08-30T17:40:00.000\",\"date_of_birth\":\"2020-08-22T00:00:00.000\",\"outcome_type\":\"Adoption\",\"animal_type\":\"Dog\",\"sex_upon_outcome\":\"Spayed Female\",\"age_upon_outcome\":\"1 year\",\"breed\":\"Pit Bull\",\"color\":\"White/Brown Brindle\"}\\n,{\"animal_id\":\"A714395\",\"name\":\"*Handsome\",\"datetime\":\"2015-10-31T17:49:00.000\",\"monthyear\":\"2015-10-31T17:49:00.000\",\"date_of_birth\":\"2015-04-25T00:00:00.000\",\"outcome_type\":\"Transfer\",\"outcome_subtype\":\"Partner\",\"animal_type\":\"Dog\",\"sex_upon_outcome\":\"Neutered Male\",\"age_upon_outcome\":\"6 months\",\"breed\":\"Harrier Mix\",\"color\":\"White/Brown\"}\\n,{\"animal_id\":\"A820080\",\"name\":\"*Theodore\",\"datetime\":\"2021-08-23T09:47:00.000\",\"monthyear\":\"2021-08-23T09:47:00.000\",\"date_of_birth\":\"2013-07-11T00:00:00.000\",\"outcome_type\":\"Adoption\",\"outcome_subtype\":\"Foster\",\"animal_type\":\"Cat\",\"sex_upon_outcome\":\"Neutered Male\",\"age_upon_outcome\":\"8 years\",\"breed\":\"Domestic Shorthair\",\"color\":\"Brown Tabby\"}\\n,{\"animal_id\":\"A668448\",\"datetime\":\"2013-12-04T09:41:00.000\",\"monthyear\":\"2013-12-04T09:41:00.000\",\"date_of_birth\":\"2009-12-04T00:00:00.000\",\"outcome_type\":\"Euthanasia\",\"outcome_subtype\":\"Suffering\",\"animal_type\":\"Other\",\"sex_upon_outcome\":\"Unknown\",\"age_upon_outcome\":\"4 years\",\"breed\":\"Raccoon Mix\",\"color\":\"Black/Gray\"}\\n,{\"animal_id\":\"A802474\",\"name\":\"156 Grams\",\"datetime\":\"2019-08-18T18:00:00.000\",\"monthyear\":\"2019-08-18T18:00:00.000\",\"date_of_birth\":\"2019-08-09T00:00:00.000\",\"outcome_type\":\"Transfer\",\"outcome_subtype\":\"Partner\",\"animal_type\":\"Cat\",\"sex_upon_outcome\":\"Intact Female\",\"age_upon_outcome\":\"1 weeks\",\"breed\":\"Domestic Shorthair Mix\",\"color\":\"Tortie\"}\\n,{\"animal_id\":\"A582826\",\"name\":\"Charlie\",\"datetime\":\"2015-08-18T11:11:00.000\",\"monthyear\":\"2015-08-18T11:11:00.000\",\"date_of_birth\":\"2005-08-26T00:00:00.000\",\"outcome_type\":\"Return to Owner\",\"animal_type\":\"Dog\",\"sex_upon_outcome\":\"Neutered Male\",\"age_upon_outcome\":\"9 years\",\"breed\":\"Beagle\",\"color\":\"Tricolor\"}\\n,{\"animal_id\":\"A744558\",\"datetime\":\"2017-05-03T15:23:00.000\",\"monthyear\":\"2017-05-03T15:23:00.000\",\"date_of_birth\":\"2017-02-08T00:00:00.000\",\"outcome_type\":\"Adoption\",\"outcome_subtype\":\"Foster\",\"animal_type\":\"Dog\",\"sex_upon_outcome\":\"Neutered Male\",\"age_upon_outcome\":\"2 months\",\"breed\":\"Labrador Retriever Mix\",\"color\":\"Chocolate/White\"}\\n,{\"animal_id\":\"A669788\",\"name\":\"Stella\",\"datetime\":\"2014-07-15T13:51:00.000\",\"monthyear\":\"2014-07-15T13:51:00.000\",\"date_of_birth\":\"2010-12-27T00:00:00.000\",\"outcome_type\":\"Transfer\",\"outcome_subtype\":\"Partner\",\"animal_type\":\"Dog\",\"sex_upon_outcome\":\"Spayed Female\",\"age_upon_outcome\":\"3 years\",\"breed\":\"Great Dane\",\"color\":\"Black/White\"}\\n,{\"animal_id\":\"A875851\",\"datetime\":\"2023-03-05T19:00:00.000\",\"monthyear\":\"2023-03-05T19:00:00.000\",\"date_of_birth\":\"2023-03-05T00:00:00.000\",\"outcome_type\":\"Transfer\",\"outcome_subtype\":\"Partner\",\"animal_type\":\"Cat\",\"sex_upon_outcome\":\"Unknown\",\"age_upon_outcome\":\"0 years\",\"breed\":\"Domestic Shorthair\",\"color\":\"Orange\"}\\n,{\"animal_id\":\"A783602\",\"datetime\":\"2018-11-03T07:37:00.000\",\"monthyear\":\"2018-11-03T07:37:00.000\",\"date_of_birth\":\"2018-10-18T00:00:00.000\",\"outcome_type\":\"Transfer\",\"outcome_subtype\":\"Partner\",\"animal_type\":\"Cat\",\"sex_upon_outcome\":\"Intact Female\",\"age_upon_outcome\":\"2 weeks\",\"breed\":\"Domestic Shorthair Mix\",\"color\":\"Calico\"}\\n,{\"animal_id\":\"A689390\",\"name\":\"Jules\",\"datetime\":\"2014-10-08T11:25:00.000\",\"monthyear\":\"2014-10-08T11:25:00.000\",\"date_of_birth\":\"2013-10-03T00:00:00.000\",\"outcome_type\":\"Transfer\",\"outcome_subtype\":\"Partner\",\"animal_type\":\"Dog\",\"sex_upon_outcome\":\"Intact Female\",\"age_upon_outcome\":\"1 year\",\"breed\":\"Doberman Pinsch Mix\",\"color\":\"Black/Brown\"}\\n,{\"animal_id\":\"A811961\",\"name\":\"Lucas\",\"datetime\":\"2020-01-17T16:54:00.000\",\"monthyear\":\"2020-01-17T16:54:00.000\",\"date_of_birth\":\"2019-03-13T00:00:00.000\",\"outcome_type\":\"Adoption\",\"animal_type\":\"Dog\",\"sex_upon_outcome\":\"Neutered Male\",\"age_upon_outcome\":\"10 months\",\"breed\":\"American Staffordshire Terrier/Labrador Retriever\",\"color\":\"Fawn/White\"}\\n,{\"animal_id\":\"A691208\",\"datetime\":\"2014-11-11T18:13:00.000\",\"monthyear\":\"2014-11-11T18:13:00.000\",\"date_of_birth\":\"2013-12-31T00:00:00.000\",\"outcome_type\":\"Adoption\",\"animal_type\":\"Cat\",\"sex_upon_outcome\":\"Spayed Female\",\"age_upon_outcome\":\"10 months\",\"breed\":\"Domestic Shorthair Mix\",\"color\":\"Black/White\"}\\n,{\"animal_id\":\"A718620\",\"name\":\"*Toby Sue\",\"datetime\":\"2016-03-01T13:53:00.000\",\"monthyear\":\"2016-03-01T13:53:00.000\",\"date_of_birth\":\"2015-07-23T00:00:00.000\",\"outcome_type\":\"Adoption\",\"animal_type\":\"Cat\",\"sex_upon_outcome\":\"Spayed Female\",\"age_upon_outcome\":\"7 months\",\"breed\":\"Domestic Shorthair Mix\",\"color\":\"Black/White\"}\\n,{\"animal_id\":\"A705114\",\"datetime\":\"2015-06-13T15:47:00.000\",\"monthyear\":\"2015-06-13T15:47:00.000\",\"date_of_birth\":\"2015-06-11T00:00:00.000\",\"outcome_type\":\"Transfer\",\"outcome_subtype\":\"Partner\",\"animal_type\":\"Dog\",\"sex_upon_outcome\":\"Intact Male\",\"age_upon_outcome\":\"2 days\",\"breed\":\"German Shepherd Mix\",\"color\":\"Brown\"}\\n,{\"animal_id\":\"A800888\",\"datetime\":\"2019-08-01T15:27:00.000\",\"monthyear\":\"2019-08-01T15:27:00.000\",\"date_of_birth\":\"2019-07-03T00:00:00.000\",\"outcome_type\":\"Transfer\",\"outcome_subtype\":\"Partner\",\"animal_type\":\"Dog\",\"sex_upon_outcome\":\"Intact Female\",\"age_upon_outcome\":\"4 weeks\",\"breed\":\"Cavalier Span\",\"color\":\"Black/White\"}\\n,{\"animal_id\":\"A796517\",\"name\":\"Chiquis\",\"datetime\":\"2019-06-08T12:21:00.000\",\"monthyear\":\"2019-06-08T12:21:00.000\",\"date_of_birth\":\"2017-06-02T00:00:00.000\",\"outcome_type\":\"Adoption\",\"animal_type\":\"Dog\",\"sex_upon_outcome\":\"Spayed Female\",\"age_upon_outcome\":\"2 years\",\"breed\":\"Chihuahua Shorthair Mix\",\"color\":\"Brown/White\"}\\n,{\"animal_id\":\"A875848\",\"datetime\":\"2023-03-06T19:00:00.000\",\"monthyear\":\"2023-03-06T19:00:00.000\",\"date_of_birth\":\"2023-03-05T00:00:00.000\",\"outcome_type\":\"Transfer\",\"outcome_subtype\":\"Partner\",\"animal_type\":\"Cat\",\"sex_upon_outcome\":\"Unknown\",\"age_upon_outcome\":\"1 day\",\"breed\":\"Domestic Shorthair\",\"color\":\"Orange\"}\\n,{\"animal_id\":\"A772727\",\"name\":\"Oreo\",\"datetime\":\"2018-06-06T18:28:00.000\",\"monthyear\":\"2018-06-06T18:28:00.000\",\"date_of_birth\":\"2017-12-07T00:00:00.000\",\"outcome_type\":\"Return to Owner\",\"animal_type\":\"Dog\",\"sex_upon_outcome\":\"Spayed Female\",\"age_upon_outcome\":\"5 months\",\"breed\":\"Basset Hound Mix\",\"color\":\"White/Tricolor\"}\\n,{\"animal_id\":\"A796856\",\"datetime\":\"2019-06-12T13:31:00.000\",\"monthyear\":\"2019-06-12T13:31:00.000\",\"date_of_birth\":\"2019-01-06T00:00:00.000\",\"outcome_type\":\"Transfer\",\"outcome_subtype\":\"Partner\",\"animal_type\":\"Dog\",\"sex_upon_outcome\":\"Intact Male\",\"age_upon_outcome\":\"5 months\",\"breed\":\"German Shepherd\",\"color\":\"Brown\"}\\n,{\"animal_id\":\"A741753\",\"datetime\":\"2017-01-08T09:00:00.000\",\"monthyear\":\"2017-01-08T09:00:00.000\",\"date_of_birth\":\"2016-01-07T00:00:00.000\",\"outcome_type\":\"Transfer\",\"outcome_subtype\":\"SCRP\",\"animal_type\":\"Cat\",\"sex_upon_outcome\":\"Intact Male\",\"age_upon_outcome\":\"1 year\",\"breed\":\"Domestic Shorthair Mix\",\"color\":\"Black/White\"}\\n,{\"animal_id\":\"A824845\",\"datetime\":\"2020-10-27T18:28:00.000\",\"monthyear\":\"2020-10-27T18:28:00.000\",\"date_of_birth\":\"2019-10-22T00:00:00.000\",\"outcome_type\":\"Adoption\",\"animal_type\":\"Cat\",\"sex_upon_outcome\":\"Spayed Female\",\"age_upon_outcome\":\"1 year\",\"breed\":\"Domestic Shorthair\",\"color\":\"Blue\"}\\n,{\"animal_id\":\"A668687\",\"datetime\":\"2013-12-09T14:03:00.000\",\"monthyear\":\"2013-12-09T14:03:00.000\",\"date_of_birth\":\"2011-12-07T00:00:00.000\",\"outcome_type\":\"Transfer\",\"outcome_subtype\":\"SCRP\",\"animal_type\":\"Cat\",\"sex_upon_outcome\":\"Spayed Female\",\"age_upon_outcome\":\"2 years\",\"breed\":\"Domestic Shorthair Mix\",\"color\":\"Brown Tabby/White\"}\\n,{\"animal_id\":\"A722325\",\"name\":\"Bella\",\"datetime\":\"2016-05-16T15:56:00.000\",\"monthyear\":\"2016-05-16T15:56:00.000\",\"date_of_birth\":\"2015-08-14T00:00:00.000\",\"outcome_type\":\"Return to Owner\",\"animal_type\":\"Dog\",\"sex_upon_outcome\":\"Spayed Female\",\"age_upon_outcome\":\"9 months\",\"breed\":\"Labrador Retriever Mix\",\"color\":\"Black\"}\\n,{\"animal_id\":\"A664032\",\"name\":\"Parker\",\"datetime\":\"2013-10-01T17:18:00.000\",\"monthyear\":\"2013-10-01T17:18:00.000\",\"date_of_birth\":\"2013-07-27T00:00:00.000\",\"outcome_type\":\"Adoption\",\"animal_type\":\"Dog\",\"sex_upon_outcome\":\"Spayed Female\",\"age_upon_outcome\":\"2 months\",\"breed\":\"German Shepherd Mix\",\"color\":\"Black/Tan\"}\\n,{\"animal_id\":\"A785557\",\"name\":\"Spicy\",\"datetime\":\"2018-12-16T14:59:00.000\",\"monthyear\":\"2018-12-16T14:59:00.000\",\"date_of_birth\":\"2016-12-05T00:00:00.000\",\"outcome_type\":\"Return to Owner\",\"animal_type\":\"Dog\",\"sex_upon_outcome\":\"Intact Male\",\"age_upon_outcome\":\"2 years\",\"breed\":\"American Pit Bull Terrier Mix\",\"color\":\"Brown/White\"}\\n,{\"animal_id\":\"A800965\",\"name\":\"Marley\",\"datetime\":\"2019-08-17T16:40:00.000\",\"monthyear\":\"2019-08-17T16:40:00.000\",\"date_of_birth\":\"2016-07-29T00:00:00.000\",\"outcome_type\":\"Adoption\",\"animal_type\":\"Dog\",\"sex_upon_outcome\":\"Spayed Female\",\"age_upon_outcome\":\"3 years\",\"breed\":\"Blue Lacy/Beagle\",\"color\":\"Blue/White\"}\\n,{\"animal_id\":\"A805280\",\"name\":\"*Vincent\",\"datetime\":\"2019-12-14T16:55:00.000\",\"monthyear\":\"2019-12-14T16:55:00.000\",\"date_of_birth\":\"2019-06-06T00:00:00.000\",\"outcome_type\":\"Adoption\",\"animal_type\":\"Cat\",\"sex_upon_outcome\":\"Neutered Male\",\"age_upon_outcome\":\"6 months\",\"breed\":\"Domestic Shorthair\",\"color\":\"Orange Tabby/White\"}\\n,{\"animal_id\":\"A719786\",\"name\":\"Lady\",\"datetime\":\"2017-09-22T12:43:00.000\",\"monthyear\":\"2017-09-22T12:43:00.000\",\"date_of_birth\":\"2014-01-27T00:00:00.000\",\"outcome_type\":\"Return to Owner\",\"animal_type\":\"Dog\",\"sex_upon_outcome\":\"Spayed Female\",\"age_upon_outcome\":\"3 years\",\"breed\":\"Pit Bull Mix\",\"color\":\"Blue/White\"}\\n,{\"animal_id\":\"A783389\",\"name\":\"Binx\",\"datetime\":\"2018-11-03T14:24:00.000\",\"monthyear\":\"2018-11-03T14:24:00.000\",\"date_of_birth\":\"2016-05-01T00:00:00.000\",\"outcome_type\":\"Adoption\",\"animal_type\":\"Cat\",\"sex_upon_outcome\":\"Neutered Male\",\"age_upon_outcome\":\"2 years\",\"breed\":\"Domestic Shorthair Mix\",\"color\":\"Black\"}\\n,{\"animal_id\":\"A789409\",\"name\":\"Oliver\",\"datetime\":\"2019-03-06T18:27:00.000\",\"monthyear\":\"2019-03-06T18:27:00.000\",\"date_of_birth\":\"2018-02-21T00:00:00.000\",\"outcome_type\":\"Adoption\",\"animal_type\":\"Dog\",\"sex_upon_outcome\":\"Neutered Male\",\"age_upon_outcome\":\"1 year\",\"breed\":\"Siberian Husky Mix\",\"color\":\"Black/White\"}\\n,{\"animal_id\":\"A822828\",\"name\":\"Winston\",\"datetime\":\"2020-09-11T11:44:00.000\",\"monthyear\":\"2020-09-11T11:44:00.000\",\"date_of_birth\":\"2018-09-10T00:00:00.000\",\"outcome_type\":\"Transfer\",\"outcome_subtype\":\"Partner\",\"animal_type\":\"Cat\",\"sex_upon_outcome\":\"Neutered Male\",\"age_upon_outcome\":\"2 years\",\"breed\":\"Domestic Shorthair\",\"color\":\"Black\"}\\n,{\"animal_id\":\"A815733\",\"name\":\"Sissy Blue\",\"datetime\":\"2020-04-04T15:07:00.000\",\"monthyear\":\"2020-04-04T15:07:00.000\",\"date_of_birth\":\"2019-11-24T00:00:00.000\",\"outcome_type\":\"Return to Owner\",\"animal_type\":\"Dog\",\"sex_upon_outcome\":\"Spayed Female\",\"age_upon_outcome\":\"4 months\",\"breed\":\"Pit Bull\",\"color\":\"White\"}\\n,{\"animal_id\":\"A828320\",\"name\":\"Teddy\",\"datetime\":\"2021-02-04T14:53:00.000\",\"monthyear\":\"2021-02-04T14:53:00.000\",\"date_of_birth\":\"2020-11-19T00:00:00.000\",\"outcome_type\":\"Adoption\",\"outcome_subtype\":\"Foster\",\"animal_type\":\"Dog\",\"sex_upon_outcome\":\"Neutered Male\",\"age_upon_outcome\":\"2 months\",\"breed\":\"Chihuahua Shorthair Mix\",\"color\":\"White/Tan\"}\\n,{\"animal_id\":\"A760987\",\"datetime\":\"2017-11-01T10:55:00.000\",\"monthyear\":\"2017-11-01T10:55:00.000\",\"date_of_birth\":\"2015-10-27T00:00:00.000\",\"outcome_type\":\"Transfer\",\"outcome_subtype\":\"Snr\",\"animal_type\":\"Cat\",\"sex_upon_outcome\":\"Unknown\",\"age_upon_outcome\":\"2 years\",\"breed\":\"American Shorthair Mix\",\"color\":\"Black/White\"}\\n,{\"animal_id\":\"A728340\",\"datetime\":\"2016-06-02T15:35:00.000\",\"monthyear\":\"2016-06-02T15:35:00.000\",\"date_of_birth\":\"2014-06-02T00:00:00.000\",\"outcome_type\":\"Euthanasia\",\"outcome_subtype\":\"Suffering\",\"animal_type\":\"Other\",\"sex_upon_outcome\":\"Unknown\",\"age_upon_outcome\":\"2 years\",\"breed\":\"Raccoon Mix\",\"color\":\"Black/Gray\"}\\n,{\"animal_id\":\"A699191\",\"name\":\"Brownie\",\"datetime\":\"2015-10-09T13:39:00.000\",\"monthyear\":\"2015-10-09T13:39:00.000\",\"date_of_birth\":\"2013-03-24T00:00:00.000\",\"outcome_type\":\"Adoption\",\"animal_type\":\"Dog\",\"sex_upon_outcome\":\"Neutered Male\",\"age_upon_outcome\":\"2 years\",\"breed\":\"Pit Bull Mix\",\"color\":\"Brown/White\"}\\n,{\"animal_id\":\"A717189\",\"name\":\"Penny\",\"datetime\":\"2016-01-12T13:08:00.000\",\"monthyear\":\"2016-01-12T13:08:00.000\",\"date_of_birth\":\"2012-12-03T00:00:00.000\",\"outcome_type\":\"Adoption\",\"animal_type\":\"Dog\",\"sex_upon_outcome\":\"Spayed Female\",\"age_upon_outcome\":\"3 years\",\"breed\":\"Dachshund Mix\",\"color\":\"Black\"}\\n,{\"animal_id\":\"A741111\",\"name\":\"*Bunny\",\"datetime\":\"2017-02-18T12:18:00.000\",\"monthyear\":\"2017-02-18T12:18:00.000\",\"date_of_birth\":\"2016-11-13T00:00:00.000\",\"outcome_type\":\"Adoption\",\"outcome_subtype\":\"Foster\",\"animal_type\":\"Cat\",\"sex_upon_outcome\":\"Spayed Female\",\"age_upon_outcome\":\"3 months\",\"breed\":\"Domestic Shorthair Mix\",\"color\":\"Brown Tabby\"}\\n,{\"animal_id\":\"A708758\",\"name\":\"*Orwell\",\"datetime\":\"2015-08-05T16:10:00.000\",\"monthyear\":\"2015-08-05T16:10:00.000\",\"date_of_birth\":\"2015-06-27T00:00:00.000\",\"outcome_type\":\"Transfer\",\"outcome_subtype\":\"Partner\",\"animal_type\":\"Cat\",\"sex_upon_outcome\":\"Intact Male\",\"age_upon_outcome\":\"1 month\",\"breed\":\"Domestic Shorthair Mix\",\"color\":\"Cream Tabby\"}\\n,{\"animal_id\":\"A765695\",\"name\":\"Harvey Quinn\",\"datetime\":\"2018-01-25T12:00:00.000\",\"monthyear\":\"2018-01-25T12:00:00.000\",\"date_of_birth\":\"2015-01-25T00:00:00.000\",\"outcome_type\":\"Return to Owner\",\"animal_type\":\"Dog\",\"sex_upon_outcome\":\"Spayed Female\",\"age_upon_outcome\":\"3 years\",\"breed\":\"Pit Bull Mix\",\"color\":\"Tan\"}\\n,{\"animal_id\":\"A687214\",\"datetime\":\"2014-09-07T17:17:00.000\",\"monthyear\":\"2014-09-07T17:17:00.000\",\"date_of_birth\":\"2013-09-02T00:00:00.000\",\"outcome_type\":\"Adoption\",\"animal_type\":\"Dog\",\"sex_upon_outcome\":\"Spayed Female\",\"age_upon_outcome\":\"1 year\",\"breed\":\"Pbgv Mix\",\"color\":\"Black\"}\\n,{\"animal_id\":\"A785700\",\"datetime\":\"2018-12-08T18:07:00.000\",\"monthyear\":\"2018-12-08T18:07:00.000\",\"date_of_birth\":\"2017-12-08T00:00:00.000\",\"outcome_type\":\"Return to Owner\",\"animal_type\":\"Cat\",\"sex_upon_outcome\":\"Neutered Male\",\"age_upon_outcome\":\"1 year\",\"breed\":\"Domestic Shorthair Mix\",\"color\":\"Black/White\"}\\n,{\"animal_id\":\"A826579\",\"name\":\"Spike\",\"datetime\":\"2021-03-06T13:09:00.000\",\"monthyear\":\"2021-03-06T13:09:00.000\",\"date_of_birth\":\"2019-02-01T00:00:00.000\",\"outcome_type\":\"Adoption\",\"outcome_subtype\":\"Foster\",\"animal_type\":\"Dog\",\"sex_upon_outcome\":\"Neutered Male\",\"age_upon_outcome\":\"2 years\",\"breed\":\"Labrador Retriever/Whippet\",\"color\":\"Tan/White\"}]\\n'"
      ]
     },
     "metadata": {},
     "output_type": "display_data"
    }
   ],
   "source": [
    "display(data)"
   ]
  },
  {
   "cell_type": "code",
   "execution_count": 4,
   "metadata": {
    "ExecuteTime": {
     "end_time": "2021-10-19T17:11:00.675261Z",
     "start_time": "2021-10-19T17:11:00.644382Z"
    },
    "hidden": true
   },
   "outputs": [],
   "source": [
    "animals = pd.read_json(data)"
   ]
  },
  {
   "cell_type": "code",
   "execution_count": 5,
   "metadata": {
    "ExecuteTime": {
     "end_time": "2021-10-19T17:14:52.145920Z",
     "start_time": "2021-10-19T17:14:52.130333Z"
    },
    "hidden": true
   },
   "outputs": [
    {
     "data": {
      "text/html": [
       "<div>\n",
       "<style scoped>\n",
       "    .dataframe tbody tr th:only-of-type {\n",
       "        vertical-align: middle;\n",
       "    }\n",
       "\n",
       "    .dataframe tbody tr th {\n",
       "        vertical-align: top;\n",
       "    }\n",
       "\n",
       "    .dataframe thead th {\n",
       "        text-align: right;\n",
       "    }\n",
       "</style>\n",
       "<table border=\"1\" class=\"dataframe\">\n",
       "  <thead>\n",
       "    <tr style=\"text-align: right;\">\n",
       "      <th></th>\n",
       "      <th>animal_id</th>\n",
       "      <th>name</th>\n",
       "      <th>datetime</th>\n",
       "      <th>monthyear</th>\n",
       "      <th>date_of_birth</th>\n",
       "      <th>outcome_type</th>\n",
       "      <th>animal_type</th>\n",
       "      <th>sex_upon_outcome</th>\n",
       "      <th>age_upon_outcome</th>\n",
       "      <th>breed</th>\n",
       "      <th>color</th>\n",
       "      <th>outcome_subtype</th>\n",
       "    </tr>\n",
       "  </thead>\n",
       "  <tbody>\n",
       "    <tr>\n",
       "      <th>0</th>\n",
       "      <td>A794011</td>\n",
       "      <td>Chunk</td>\n",
       "      <td>2019-05-08 18:20:00</td>\n",
       "      <td>2019-05-08T18:20:00.000</td>\n",
       "      <td>2017-05-02T00:00:00.000</td>\n",
       "      <td>Rto-Adopt</td>\n",
       "      <td>Cat</td>\n",
       "      <td>Neutered Male</td>\n",
       "      <td>2 years</td>\n",
       "      <td>Domestic Shorthair Mix</td>\n",
       "      <td>Brown Tabby/White</td>\n",
       "      <td>NaN</td>\n",
       "    </tr>\n",
       "    <tr>\n",
       "      <th>1</th>\n",
       "      <td>A776359</td>\n",
       "      <td>Gizmo</td>\n",
       "      <td>2018-07-18 16:02:00</td>\n",
       "      <td>2018-07-18T16:02:00.000</td>\n",
       "      <td>2017-07-12T00:00:00.000</td>\n",
       "      <td>Adoption</td>\n",
       "      <td>Dog</td>\n",
       "      <td>Neutered Male</td>\n",
       "      <td>1 year</td>\n",
       "      <td>Chihuahua Shorthair Mix</td>\n",
       "      <td>White/Brown</td>\n",
       "      <td>NaN</td>\n",
       "    </tr>\n",
       "    <tr>\n",
       "      <th>2</th>\n",
       "      <td>A821648</td>\n",
       "      <td>NaN</td>\n",
       "      <td>2020-08-16 11:38:00</td>\n",
       "      <td>2020-08-16T11:38:00.000</td>\n",
       "      <td>2019-08-16T00:00:00.000</td>\n",
       "      <td>Euthanasia</td>\n",
       "      <td>Other</td>\n",
       "      <td>Unknown</td>\n",
       "      <td>1 year</td>\n",
       "      <td>Raccoon</td>\n",
       "      <td>Gray</td>\n",
       "      <td>NaN</td>\n",
       "    </tr>\n",
       "    <tr>\n",
       "      <th>3</th>\n",
       "      <td>A720371</td>\n",
       "      <td>Moose</td>\n",
       "      <td>2016-02-13 17:59:00</td>\n",
       "      <td>2016-02-13T17:59:00.000</td>\n",
       "      <td>2015-10-08T00:00:00.000</td>\n",
       "      <td>Adoption</td>\n",
       "      <td>Dog</td>\n",
       "      <td>Neutered Male</td>\n",
       "      <td>4 months</td>\n",
       "      <td>Anatol Shepherd/Labrador Retriever</td>\n",
       "      <td>Buff</td>\n",
       "      <td>NaN</td>\n",
       "    </tr>\n",
       "    <tr>\n",
       "      <th>4</th>\n",
       "      <td>A674754</td>\n",
       "      <td>NaN</td>\n",
       "      <td>2014-03-18 11:47:00</td>\n",
       "      <td>2014-03-18T11:47:00.000</td>\n",
       "      <td>2014-03-12T00:00:00.000</td>\n",
       "      <td>Transfer</td>\n",
       "      <td>Cat</td>\n",
       "      <td>Intact Male</td>\n",
       "      <td>6 days</td>\n",
       "      <td>Domestic Shorthair Mix</td>\n",
       "      <td>Orange Tabby</td>\n",
       "      <td>Partner</td>\n",
       "    </tr>\n",
       "    <tr>\n",
       "      <th>5</th>\n",
       "      <td>A659412</td>\n",
       "      <td>Princess</td>\n",
       "      <td>2020-10-05 14:37:00</td>\n",
       "      <td>2020-10-05T14:37:00.000</td>\n",
       "      <td>2013-03-24T00:00:00.000</td>\n",
       "      <td>Adoption</td>\n",
       "      <td>Dog</td>\n",
       "      <td>Spayed Female</td>\n",
       "      <td>7 years</td>\n",
       "      <td>Chihuahua Shorthair Mix</td>\n",
       "      <td>Brown</td>\n",
       "      <td>NaN</td>\n",
       "    </tr>\n",
       "    <tr>\n",
       "      <th>6</th>\n",
       "      <td>A814515</td>\n",
       "      <td>Quentin</td>\n",
       "      <td>2020-05-06 07:59:00</td>\n",
       "      <td>2020-05-06T07:59:00.000</td>\n",
       "      <td>2018-03-01T00:00:00.000</td>\n",
       "      <td>Adoption</td>\n",
       "      <td>Dog</td>\n",
       "      <td>Neutered Male</td>\n",
       "      <td>2 years</td>\n",
       "      <td>American Foxhound/Labrador Retriever</td>\n",
       "      <td>White/Brown</td>\n",
       "      <td>Foster</td>\n",
       "    </tr>\n",
       "    <tr>\n",
       "      <th>7</th>\n",
       "      <td>A868405</td>\n",
       "      <td>*Leo</td>\n",
       "      <td>2023-03-04 13:38:00</td>\n",
       "      <td>2023-03-04T13:38:00.000</td>\n",
       "      <td>2020-11-02T00:00:00.000</td>\n",
       "      <td>Adoption</td>\n",
       "      <td>Dog</td>\n",
       "      <td>Neutered Male</td>\n",
       "      <td>2 years</td>\n",
       "      <td>Pit Bull Mix</td>\n",
       "      <td>Brown/White</td>\n",
       "      <td>NaN</td>\n",
       "    </tr>\n",
       "    <tr>\n",
       "      <th>8</th>\n",
       "      <td>A689724</td>\n",
       "      <td>*Donatello</td>\n",
       "      <td>2014-10-18 18:52:00</td>\n",
       "      <td>2014-10-18T18:52:00.000</td>\n",
       "      <td>2014-08-01T00:00:00.000</td>\n",
       "      <td>Adoption</td>\n",
       "      <td>Cat</td>\n",
       "      <td>Neutered Male</td>\n",
       "      <td>2 months</td>\n",
       "      <td>Domestic Shorthair Mix</td>\n",
       "      <td>Black</td>\n",
       "      <td>NaN</td>\n",
       "    </tr>\n",
       "    <tr>\n",
       "      <th>9</th>\n",
       "      <td>A680969</td>\n",
       "      <td>*Zeus</td>\n",
       "      <td>2014-08-05 16:59:00</td>\n",
       "      <td>2014-08-05T16:59:00.000</td>\n",
       "      <td>2014-06-03T00:00:00.000</td>\n",
       "      <td>Adoption</td>\n",
       "      <td>Cat</td>\n",
       "      <td>Neutered Male</td>\n",
       "      <td>2 months</td>\n",
       "      <td>Domestic Shorthair Mix</td>\n",
       "      <td>White/Orange Tabby</td>\n",
       "      <td>NaN</td>\n",
       "    </tr>\n",
       "  </tbody>\n",
       "</table>\n",
       "</div>"
      ],
      "text/plain": [
       "  animal_id        name            datetime                monthyear  \\\n",
       "0   A794011       Chunk 2019-05-08 18:20:00  2019-05-08T18:20:00.000   \n",
       "1   A776359       Gizmo 2018-07-18 16:02:00  2018-07-18T16:02:00.000   \n",
       "2   A821648         NaN 2020-08-16 11:38:00  2020-08-16T11:38:00.000   \n",
       "3   A720371       Moose 2016-02-13 17:59:00  2016-02-13T17:59:00.000   \n",
       "4   A674754         NaN 2014-03-18 11:47:00  2014-03-18T11:47:00.000   \n",
       "5   A659412    Princess 2020-10-05 14:37:00  2020-10-05T14:37:00.000   \n",
       "6   A814515     Quentin 2020-05-06 07:59:00  2020-05-06T07:59:00.000   \n",
       "7   A868405        *Leo 2023-03-04 13:38:00  2023-03-04T13:38:00.000   \n",
       "8   A689724  *Donatello 2014-10-18 18:52:00  2014-10-18T18:52:00.000   \n",
       "9   A680969       *Zeus 2014-08-05 16:59:00  2014-08-05T16:59:00.000   \n",
       "\n",
       "             date_of_birth outcome_type animal_type sex_upon_outcome  \\\n",
       "0  2017-05-02T00:00:00.000    Rto-Adopt         Cat    Neutered Male   \n",
       "1  2017-07-12T00:00:00.000     Adoption         Dog    Neutered Male   \n",
       "2  2019-08-16T00:00:00.000   Euthanasia       Other          Unknown   \n",
       "3  2015-10-08T00:00:00.000     Adoption         Dog    Neutered Male   \n",
       "4  2014-03-12T00:00:00.000     Transfer         Cat      Intact Male   \n",
       "5  2013-03-24T00:00:00.000     Adoption         Dog    Spayed Female   \n",
       "6  2018-03-01T00:00:00.000     Adoption         Dog    Neutered Male   \n",
       "7  2020-11-02T00:00:00.000     Adoption         Dog    Neutered Male   \n",
       "8  2014-08-01T00:00:00.000     Adoption         Cat    Neutered Male   \n",
       "9  2014-06-03T00:00:00.000     Adoption         Cat    Neutered Male   \n",
       "\n",
       "  age_upon_outcome                                 breed               color  \\\n",
       "0          2 years                Domestic Shorthair Mix   Brown Tabby/White   \n",
       "1           1 year               Chihuahua Shorthair Mix         White/Brown   \n",
       "2           1 year                               Raccoon                Gray   \n",
       "3         4 months    Anatol Shepherd/Labrador Retriever                Buff   \n",
       "4           6 days                Domestic Shorthair Mix        Orange Tabby   \n",
       "5          7 years               Chihuahua Shorthair Mix               Brown   \n",
       "6          2 years  American Foxhound/Labrador Retriever         White/Brown   \n",
       "7          2 years                          Pit Bull Mix         Brown/White   \n",
       "8         2 months                Domestic Shorthair Mix               Black   \n",
       "9         2 months                Domestic Shorthair Mix  White/Orange Tabby   \n",
       "\n",
       "  outcome_subtype  \n",
       "0             NaN  \n",
       "1             NaN  \n",
       "2             NaN  \n",
       "3             NaN  \n",
       "4         Partner  \n",
       "5             NaN  \n",
       "6          Foster  \n",
       "7             NaN  \n",
       "8             NaN  \n",
       "9             NaN  "
      ]
     },
     "execution_count": 5,
     "metadata": {},
     "output_type": "execute_result"
    }
   ],
   "source": [
    "animals.head(10)"
   ]
  },
  {
   "cell_type": "markdown",
   "metadata": {
    "hidden": true
   },
   "source": [
    "Those of you familiar with SQL have probably used the GROUP BY command. (And if you haven't, you'll see it very soon!) Pandas has this, too.\n",
    "\n",
    "The `.groupby()` method is especially useful for aggregate functions applied to the data grouped in particular ways."
   ]
  },
  {
   "cell_type": "code",
   "execution_count": 6,
   "metadata": {
    "ExecuteTime": {
     "end_time": "2021-10-19T17:13:55.874102Z",
     "start_time": "2021-10-19T17:13:55.870446Z"
    },
    "hidden": true
   },
   "outputs": [
    {
     "data": {
      "text/plain": [
       "<pandas.core.groupby.generic.DataFrameGroupBy object at 0x0000024401A1B0A0>"
      ]
     },
     "execution_count": 6,
     "metadata": {},
     "output_type": "execute_result"
    }
   ],
   "source": [
    "animals.groupby('animal_type')"
   ]
  },
  {
   "cell_type": "code",
   "execution_count": 7,
   "metadata": {
    "ExecuteTime": {
     "end_time": "2021-10-19T17:14:31.017339Z",
     "start_time": "2021-10-19T17:14:31.013562Z"
    },
    "hidden": true
   },
   "outputs": [
    {
     "data": {
      "text/plain": [
       "Index(['animal_id', 'name', 'datetime', 'monthyear', 'date_of_birth',\n",
       "       'outcome_type', 'animal_type', 'sex_upon_outcome', 'age_upon_outcome',\n",
       "       'breed', 'color', 'outcome_subtype'],\n",
       "      dtype='object')"
      ]
     },
     "execution_count": 7,
     "metadata": {},
     "output_type": "execute_result"
    }
   ],
   "source": [
    "animals.columns"
   ]
  },
  {
   "cell_type": "markdown",
   "metadata": {
    "heading_collapsed": true
   },
   "source": [
    "# Aggregating over DataFrames: `.groupby()`"
   ]
  },
  {
   "cell_type": "markdown",
   "metadata": {
    "hidden": true
   },
   "source": [
    "We can group by multiple columns, and also return a DataFrameGroupBy object\n",
    "\n",
    "Notice the object type [DataFrameGroupBy](https://pandas.pydata.org/pandas-docs/stable/user_guide/groupby.html) object. "
   ]
  },
  {
   "cell_type": "markdown",
   "metadata": {
    "heading_collapsed": true,
    "hidden": true
   },
   "source": [
    "## `.groups` and `.get_group()`"
   ]
  },
  {
   "cell_type": "code",
   "execution_count": 8,
   "metadata": {
    "ExecuteTime": {
     "end_time": "2021-10-19T17:15:57.308357Z",
     "start_time": "2021-10-19T17:15:57.301149Z"
    },
    "hidden": true
   },
   "outputs": [
    {
     "data": {
      "text/plain": [
       "{'Bird': [281, 339, 642, 868, 869], 'Cat': [0, 1, 2, 3, 7, 9, 10, 11, 15, 17, 19, 20, 21, 25, 28, 32, 33, 34, 36, 45, 48, 51, 52, 60, 62, 64, 71, 73, 74, 75, 76, 77, 80, 81, 96, 97, 100, 102, 105, 107, 108, 110, 113, 116, 117, 118, 119, 120, 123, 124, 141, 147, 148, 149, 150, 154, 155, 156, 157, 158, 168, 170, 172, 173, 174, 177, 178, 179, 180, 190, 193, 195, 201, 202, 204, 207, 211, 212, 216, 227, 230, 232, 233, 234, 240, 242, 243, 244, 246, 247, 251, 257, 264, 267, 270, 274, 276, 277, 280, 282, ...], 'Dog': [4, 5, 8, 12, 13, 14, 16, 18, 22, 23, 24, 26, 27, 29, 30, 31, 35, 37, 38, 39, 40, 41, 42, 43, 44, 46, 47, 49, 50, 53, 56, 57, 58, 59, 63, 65, 66, 67, 69, 70, 78, 79, 82, 83, 84, 85, 86, 87, 88, 89, 90, 91, 92, 93, 94, 95, 98, 99, 101, 103, 104, 106, 109, 111, 112, 114, 115, 121, 122, 125, 129, 130, 131, 132, 133, 134, 135, 136, 137, 138, 139, 140, 142, 143, 144, 145, 146, 151, 152, 153, 159, 160, 161, 162, 163, 164, 165, 166, 167, 171, ...], 'Other': [6, 54, 55, 61, 68, 72, 126, 127, 128, 169, 410, 439, 440, 441, 559, 572, 596, 612, 637, 645, 657, 664, 688, 733, 737, 746, 759, 760, 788, 838, 842, 846, 878, 879, 891, 893, 901, 914, 928, 930, 931, 942, 947]}"
      ]
     },
     "execution_count": 8,
     "metadata": {},
     "output_type": "execute_result"
    }
   ],
   "source": [
    "# This retuns each group indexed by the group name, e.g. 'Bird',\n",
    "# along with the row indices of each value\n",
    "\n",
    "animals.groupby('animal_type').groups"
   ]
  },
  {
   "cell_type": "markdown",
   "metadata": {
    "hidden": true
   },
   "source": [
    "Once we know we are working with a type of object, it opens up a suite of attributes and methods. One attribute we can look at is groups."
   ]
  },
  {
   "cell_type": "code",
   "execution_count": 9,
   "metadata": {
    "ExecuteTime": {
     "end_time": "2021-10-19T17:17:27.440561Z",
     "start_time": "2021-10-19T17:17:27.418357Z"
    },
    "hidden": true
   },
   "outputs": [
    {
     "data": {
      "text/html": [
       "<div>\n",
       "<style scoped>\n",
       "    .dataframe tbody tr th:only-of-type {\n",
       "        vertical-align: middle;\n",
       "    }\n",
       "\n",
       "    .dataframe tbody tr th {\n",
       "        vertical-align: top;\n",
       "    }\n",
       "\n",
       "    .dataframe thead th {\n",
       "        text-align: right;\n",
       "    }\n",
       "</style>\n",
       "<table border=\"1\" class=\"dataframe\">\n",
       "  <thead>\n",
       "    <tr style=\"text-align: right;\">\n",
       "      <th></th>\n",
       "      <th>animal_id</th>\n",
       "      <th>datetime</th>\n",
       "      <th>monthyear</th>\n",
       "      <th>date_of_birth</th>\n",
       "      <th>outcome_type</th>\n",
       "      <th>outcome_subtype</th>\n",
       "      <th>animal_type</th>\n",
       "      <th>sex_upon_outcome</th>\n",
       "      <th>age_upon_outcome</th>\n",
       "      <th>breed</th>\n",
       "      <th>color</th>\n",
       "      <th>name</th>\n",
       "    </tr>\n",
       "  </thead>\n",
       "  <tbody>\n",
       "    <tr>\n",
       "      <th>4</th>\n",
       "      <td>A874677</td>\n",
       "      <td>2023-02-25 16:47:00</td>\n",
       "      <td>2023-02-25T16:47:00.000</td>\n",
       "      <td>2022-09-04T00:00:00.000</td>\n",
       "      <td>Adoption</td>\n",
       "      <td>NaN</td>\n",
       "      <td>Dog</td>\n",
       "      <td>Neutered Male</td>\n",
       "      <td>5 months</td>\n",
       "      <td>Pit Bull</td>\n",
       "      <td>Brown Brindle</td>\n",
       "      <td>Major</td>\n",
       "    </tr>\n",
       "    <tr>\n",
       "      <th>5</th>\n",
       "      <td>A839506</td>\n",
       "      <td>2023-02-25 16:33:00</td>\n",
       "      <td>2023-02-25T16:33:00.000</td>\n",
       "      <td>2014-07-22T00:00:00.000</td>\n",
       "      <td>Return to Owner</td>\n",
       "      <td>NaN</td>\n",
       "      <td>Dog</td>\n",
       "      <td>Neutered Male</td>\n",
       "      <td>8 years</td>\n",
       "      <td>American Pit Bull Terrier Mix</td>\n",
       "      <td>White/Brown</td>\n",
       "      <td>Beau Beau</td>\n",
       "    </tr>\n",
       "    <tr>\n",
       "      <th>8</th>\n",
       "      <td>A872682</td>\n",
       "      <td>2023-02-25 15:52:00</td>\n",
       "      <td>2023-02-25T15:52:00.000</td>\n",
       "      <td>2022-12-31T00:00:00.000</td>\n",
       "      <td>Adoption</td>\n",
       "      <td>NaN</td>\n",
       "      <td>Dog</td>\n",
       "      <td>Neutered Male</td>\n",
       "      <td>1 month</td>\n",
       "      <td>Australian Cattle Dog/Catahoula</td>\n",
       "      <td>Brown/Black</td>\n",
       "      <td>NaN</td>\n",
       "    </tr>\n",
       "    <tr>\n",
       "      <th>12</th>\n",
       "      <td>A874708</td>\n",
       "      <td>2023-02-25 14:21:00</td>\n",
       "      <td>2023-02-25T14:21:00.000</td>\n",
       "      <td>2022-11-16T00:00:00.000</td>\n",
       "      <td>Adoption</td>\n",
       "      <td>NaN</td>\n",
       "      <td>Dog</td>\n",
       "      <td>Spayed Female</td>\n",
       "      <td>3 months</td>\n",
       "      <td>Pit Bull</td>\n",
       "      <td>Blue/White</td>\n",
       "      <td>*Bess</td>\n",
       "    </tr>\n",
       "    <tr>\n",
       "      <th>13</th>\n",
       "      <td>A875020</td>\n",
       "      <td>2023-02-25 13:38:00</td>\n",
       "      <td>2023-02-25T13:38:00.000</td>\n",
       "      <td>2016-02-21T00:00:00.000</td>\n",
       "      <td>Return to Owner</td>\n",
       "      <td>NaN</td>\n",
       "      <td>Dog</td>\n",
       "      <td>Neutered Male</td>\n",
       "      <td>7 years</td>\n",
       "      <td>American Bulldog Mix</td>\n",
       "      <td>Brown</td>\n",
       "      <td>Chulo</td>\n",
       "    </tr>\n",
       "    <tr>\n",
       "      <th>...</th>\n",
       "      <td>...</td>\n",
       "      <td>...</td>\n",
       "      <td>...</td>\n",
       "      <td>...</td>\n",
       "      <td>...</td>\n",
       "      <td>...</td>\n",
       "      <td>...</td>\n",
       "      <td>...</td>\n",
       "      <td>...</td>\n",
       "      <td>...</td>\n",
       "      <td>...</td>\n",
       "      <td>...</td>\n",
       "    </tr>\n",
       "    <tr>\n",
       "      <th>991</th>\n",
       "      <td>A872646</td>\n",
       "      <td>2023-01-18 15:17:00</td>\n",
       "      <td>2023-01-18T15:17:00.000</td>\n",
       "      <td>2017-01-12T00:00:00.000</td>\n",
       "      <td>Adoption</td>\n",
       "      <td>NaN</td>\n",
       "      <td>Dog</td>\n",
       "      <td>Neutered Male</td>\n",
       "      <td>6 years</td>\n",
       "      <td>Labrador Retriever Mix</td>\n",
       "      <td>Black</td>\n",
       "      <td>Davey</td>\n",
       "    </tr>\n",
       "    <tr>\n",
       "      <th>992</th>\n",
       "      <td>A872884</td>\n",
       "      <td>2023-01-18 14:38:00</td>\n",
       "      <td>2023-01-18T14:38:00.000</td>\n",
       "      <td>2020-08-17T00:00:00.000</td>\n",
       "      <td>Adoption</td>\n",
       "      <td>NaN</td>\n",
       "      <td>Dog</td>\n",
       "      <td>Neutered Male</td>\n",
       "      <td>2 years</td>\n",
       "      <td>Great Pyrenees</td>\n",
       "      <td>White</td>\n",
       "      <td>Fluffy</td>\n",
       "    </tr>\n",
       "    <tr>\n",
       "      <th>993</th>\n",
       "      <td>A870471</td>\n",
       "      <td>2023-01-18 13:53:00</td>\n",
       "      <td>2023-01-18T13:53:00.000</td>\n",
       "      <td>2022-10-07T00:00:00.000</td>\n",
       "      <td>Adoption</td>\n",
       "      <td>Foster</td>\n",
       "      <td>Dog</td>\n",
       "      <td>Spayed Female</td>\n",
       "      <td>3 months</td>\n",
       "      <td>Anatol Shepherd/Great Dane</td>\n",
       "      <td>Tan/White</td>\n",
       "      <td>*Harper</td>\n",
       "    </tr>\n",
       "    <tr>\n",
       "      <th>994</th>\n",
       "      <td>A871549</td>\n",
       "      <td>2023-01-18 11:21:00</td>\n",
       "      <td>2023-01-18T11:21:00.000</td>\n",
       "      <td>2021-12-27T00:00:00.000</td>\n",
       "      <td>Transfer</td>\n",
       "      <td>Partner</td>\n",
       "      <td>Dog</td>\n",
       "      <td>Neutered Male</td>\n",
       "      <td>1 year</td>\n",
       "      <td>Flat Coat Retriever Mix</td>\n",
       "      <td>Black</td>\n",
       "      <td>*Peter</td>\n",
       "    </tr>\n",
       "    <tr>\n",
       "      <th>997</th>\n",
       "      <td>A869745</td>\n",
       "      <td>2023-01-18 09:52:00</td>\n",
       "      <td>2023-01-18T09:52:00.000</td>\n",
       "      <td>2022-10-23T00:00:00.000</td>\n",
       "      <td>Adoption</td>\n",
       "      <td>Foster</td>\n",
       "      <td>Dog</td>\n",
       "      <td>Spayed Female</td>\n",
       "      <td>2 months</td>\n",
       "      <td>Australian Shepherd Mix</td>\n",
       "      <td>Blue Merle/White</td>\n",
       "      <td>NaN</td>\n",
       "    </tr>\n",
       "  </tbody>\n",
       "</table>\n",
       "<p>597 rows × 12 columns</p>\n",
       "</div>"
      ],
      "text/plain": [
       "    animal_id            datetime                monthyear  \\\n",
       "4     A874677 2023-02-25 16:47:00  2023-02-25T16:47:00.000   \n",
       "5     A839506 2023-02-25 16:33:00  2023-02-25T16:33:00.000   \n",
       "8     A872682 2023-02-25 15:52:00  2023-02-25T15:52:00.000   \n",
       "12    A874708 2023-02-25 14:21:00  2023-02-25T14:21:00.000   \n",
       "13    A875020 2023-02-25 13:38:00  2023-02-25T13:38:00.000   \n",
       "..        ...                 ...                      ...   \n",
       "991   A872646 2023-01-18 15:17:00  2023-01-18T15:17:00.000   \n",
       "992   A872884 2023-01-18 14:38:00  2023-01-18T14:38:00.000   \n",
       "993   A870471 2023-01-18 13:53:00  2023-01-18T13:53:00.000   \n",
       "994   A871549 2023-01-18 11:21:00  2023-01-18T11:21:00.000   \n",
       "997   A869745 2023-01-18 09:52:00  2023-01-18T09:52:00.000   \n",
       "\n",
       "               date_of_birth     outcome_type outcome_subtype animal_type  \\\n",
       "4    2022-09-04T00:00:00.000         Adoption             NaN         Dog   \n",
       "5    2014-07-22T00:00:00.000  Return to Owner             NaN         Dog   \n",
       "8    2022-12-31T00:00:00.000         Adoption             NaN         Dog   \n",
       "12   2022-11-16T00:00:00.000         Adoption             NaN         Dog   \n",
       "13   2016-02-21T00:00:00.000  Return to Owner             NaN         Dog   \n",
       "..                       ...              ...             ...         ...   \n",
       "991  2017-01-12T00:00:00.000         Adoption             NaN         Dog   \n",
       "992  2020-08-17T00:00:00.000         Adoption             NaN         Dog   \n",
       "993  2022-10-07T00:00:00.000         Adoption          Foster         Dog   \n",
       "994  2021-12-27T00:00:00.000         Transfer         Partner         Dog   \n",
       "997  2022-10-23T00:00:00.000         Adoption          Foster         Dog   \n",
       "\n",
       "    sex_upon_outcome age_upon_outcome                            breed  \\\n",
       "4      Neutered Male         5 months                         Pit Bull   \n",
       "5      Neutered Male          8 years    American Pit Bull Terrier Mix   \n",
       "8      Neutered Male          1 month  Australian Cattle Dog/Catahoula   \n",
       "12     Spayed Female         3 months                         Pit Bull   \n",
       "13     Neutered Male          7 years             American Bulldog Mix   \n",
       "..               ...              ...                              ...   \n",
       "991    Neutered Male          6 years           Labrador Retriever Mix   \n",
       "992    Neutered Male          2 years                   Great Pyrenees   \n",
       "993    Spayed Female         3 months       Anatol Shepherd/Great Dane   \n",
       "994    Neutered Male           1 year          Flat Coat Retriever Mix   \n",
       "997    Spayed Female         2 months          Australian Shepherd Mix   \n",
       "\n",
       "                color       name  \n",
       "4       Brown Brindle      Major  \n",
       "5         White/Brown  Beau Beau  \n",
       "8         Brown/Black        NaN  \n",
       "12         Blue/White      *Bess  \n",
       "13              Brown      Chulo  \n",
       "..                ...        ...  \n",
       "991             Black      Davey  \n",
       "992             White     Fluffy  \n",
       "993         Tan/White    *Harper  \n",
       "994             Black     *Peter  \n",
       "997  Blue Merle/White        NaN  \n",
       "\n",
       "[597 rows x 12 columns]"
      ]
     },
     "execution_count": 9,
     "metadata": {},
     "output_type": "execute_result"
    }
   ],
   "source": [
    "# Once we know the group indices, we can return the groups using those indices.\n",
    "animals.groupby('animal_type').get_group('Dog')"
   ]
  },
  {
   "cell_type": "code",
   "execution_count": 10,
   "metadata": {
    "ExecuteTime": {
     "end_time": "2021-10-19T17:18:25.831825Z",
     "start_time": "2021-10-19T17:18:25.811859Z"
    }
   },
   "outputs": [
    {
     "data": {
      "text/html": [
       "<div>\n",
       "<style scoped>\n",
       "    .dataframe tbody tr th:only-of-type {\n",
       "        vertical-align: middle;\n",
       "    }\n",
       "\n",
       "    .dataframe tbody tr th {\n",
       "        vertical-align: top;\n",
       "    }\n",
       "\n",
       "    .dataframe thead th {\n",
       "        text-align: right;\n",
       "    }\n",
       "</style>\n",
       "<table border=\"1\" class=\"dataframe\">\n",
       "  <thead>\n",
       "    <tr style=\"text-align: right;\">\n",
       "      <th></th>\n",
       "      <th>animal_id</th>\n",
       "      <th>datetime</th>\n",
       "      <th>monthyear</th>\n",
       "      <th>date_of_birth</th>\n",
       "      <th>outcome_type</th>\n",
       "      <th>outcome_subtype</th>\n",
       "      <th>animal_type</th>\n",
       "      <th>sex_upon_outcome</th>\n",
       "      <th>age_upon_outcome</th>\n",
       "      <th>breed</th>\n",
       "      <th>color</th>\n",
       "      <th>name</th>\n",
       "    </tr>\n",
       "  </thead>\n",
       "  <tbody>\n",
       "    <tr>\n",
       "      <th>4</th>\n",
       "      <td>A874677</td>\n",
       "      <td>2023-02-25 16:47:00</td>\n",
       "      <td>2023-02-25T16:47:00.000</td>\n",
       "      <td>2022-09-04T00:00:00.000</td>\n",
       "      <td>Adoption</td>\n",
       "      <td>NaN</td>\n",
       "      <td>Dog</td>\n",
       "      <td>Neutered Male</td>\n",
       "      <td>5 months</td>\n",
       "      <td>Pit Bull</td>\n",
       "      <td>Brown Brindle</td>\n",
       "      <td>Major</td>\n",
       "    </tr>\n",
       "    <tr>\n",
       "      <th>5</th>\n",
       "      <td>A839506</td>\n",
       "      <td>2023-02-25 16:33:00</td>\n",
       "      <td>2023-02-25T16:33:00.000</td>\n",
       "      <td>2014-07-22T00:00:00.000</td>\n",
       "      <td>Return to Owner</td>\n",
       "      <td>NaN</td>\n",
       "      <td>Dog</td>\n",
       "      <td>Neutered Male</td>\n",
       "      <td>8 years</td>\n",
       "      <td>American Pit Bull Terrier Mix</td>\n",
       "      <td>White/Brown</td>\n",
       "      <td>Beau Beau</td>\n",
       "    </tr>\n",
       "    <tr>\n",
       "      <th>8</th>\n",
       "      <td>A872682</td>\n",
       "      <td>2023-02-25 15:52:00</td>\n",
       "      <td>2023-02-25T15:52:00.000</td>\n",
       "      <td>2022-12-31T00:00:00.000</td>\n",
       "      <td>Adoption</td>\n",
       "      <td>NaN</td>\n",
       "      <td>Dog</td>\n",
       "      <td>Neutered Male</td>\n",
       "      <td>1 month</td>\n",
       "      <td>Australian Cattle Dog/Catahoula</td>\n",
       "      <td>Brown/Black</td>\n",
       "      <td>NaN</td>\n",
       "    </tr>\n",
       "    <tr>\n",
       "      <th>12</th>\n",
       "      <td>A874708</td>\n",
       "      <td>2023-02-25 14:21:00</td>\n",
       "      <td>2023-02-25T14:21:00.000</td>\n",
       "      <td>2022-11-16T00:00:00.000</td>\n",
       "      <td>Adoption</td>\n",
       "      <td>NaN</td>\n",
       "      <td>Dog</td>\n",
       "      <td>Spayed Female</td>\n",
       "      <td>3 months</td>\n",
       "      <td>Pit Bull</td>\n",
       "      <td>Blue/White</td>\n",
       "      <td>*Bess</td>\n",
       "    </tr>\n",
       "    <tr>\n",
       "      <th>13</th>\n",
       "      <td>A875020</td>\n",
       "      <td>2023-02-25 13:38:00</td>\n",
       "      <td>2023-02-25T13:38:00.000</td>\n",
       "      <td>2016-02-21T00:00:00.000</td>\n",
       "      <td>Return to Owner</td>\n",
       "      <td>NaN</td>\n",
       "      <td>Dog</td>\n",
       "      <td>Neutered Male</td>\n",
       "      <td>7 years</td>\n",
       "      <td>American Bulldog Mix</td>\n",
       "      <td>Brown</td>\n",
       "      <td>Chulo</td>\n",
       "    </tr>\n",
       "    <tr>\n",
       "      <th>...</th>\n",
       "      <td>...</td>\n",
       "      <td>...</td>\n",
       "      <td>...</td>\n",
       "      <td>...</td>\n",
       "      <td>...</td>\n",
       "      <td>...</td>\n",
       "      <td>...</td>\n",
       "      <td>...</td>\n",
       "      <td>...</td>\n",
       "      <td>...</td>\n",
       "      <td>...</td>\n",
       "      <td>...</td>\n",
       "    </tr>\n",
       "    <tr>\n",
       "      <th>991</th>\n",
       "      <td>A872646</td>\n",
       "      <td>2023-01-18 15:17:00</td>\n",
       "      <td>2023-01-18T15:17:00.000</td>\n",
       "      <td>2017-01-12T00:00:00.000</td>\n",
       "      <td>Adoption</td>\n",
       "      <td>NaN</td>\n",
       "      <td>Dog</td>\n",
       "      <td>Neutered Male</td>\n",
       "      <td>6 years</td>\n",
       "      <td>Labrador Retriever Mix</td>\n",
       "      <td>Black</td>\n",
       "      <td>Davey</td>\n",
       "    </tr>\n",
       "    <tr>\n",
       "      <th>992</th>\n",
       "      <td>A872884</td>\n",
       "      <td>2023-01-18 14:38:00</td>\n",
       "      <td>2023-01-18T14:38:00.000</td>\n",
       "      <td>2020-08-17T00:00:00.000</td>\n",
       "      <td>Adoption</td>\n",
       "      <td>NaN</td>\n",
       "      <td>Dog</td>\n",
       "      <td>Neutered Male</td>\n",
       "      <td>2 years</td>\n",
       "      <td>Great Pyrenees</td>\n",
       "      <td>White</td>\n",
       "      <td>Fluffy</td>\n",
       "    </tr>\n",
       "    <tr>\n",
       "      <th>993</th>\n",
       "      <td>A870471</td>\n",
       "      <td>2023-01-18 13:53:00</td>\n",
       "      <td>2023-01-18T13:53:00.000</td>\n",
       "      <td>2022-10-07T00:00:00.000</td>\n",
       "      <td>Adoption</td>\n",
       "      <td>Foster</td>\n",
       "      <td>Dog</td>\n",
       "      <td>Spayed Female</td>\n",
       "      <td>3 months</td>\n",
       "      <td>Anatol Shepherd/Great Dane</td>\n",
       "      <td>Tan/White</td>\n",
       "      <td>*Harper</td>\n",
       "    </tr>\n",
       "    <tr>\n",
       "      <th>994</th>\n",
       "      <td>A871549</td>\n",
       "      <td>2023-01-18 11:21:00</td>\n",
       "      <td>2023-01-18T11:21:00.000</td>\n",
       "      <td>2021-12-27T00:00:00.000</td>\n",
       "      <td>Transfer</td>\n",
       "      <td>Partner</td>\n",
       "      <td>Dog</td>\n",
       "      <td>Neutered Male</td>\n",
       "      <td>1 year</td>\n",
       "      <td>Flat Coat Retriever Mix</td>\n",
       "      <td>Black</td>\n",
       "      <td>*Peter</td>\n",
       "    </tr>\n",
       "    <tr>\n",
       "      <th>997</th>\n",
       "      <td>A869745</td>\n",
       "      <td>2023-01-18 09:52:00</td>\n",
       "      <td>2023-01-18T09:52:00.000</td>\n",
       "      <td>2022-10-23T00:00:00.000</td>\n",
       "      <td>Adoption</td>\n",
       "      <td>Foster</td>\n",
       "      <td>Dog</td>\n",
       "      <td>Spayed Female</td>\n",
       "      <td>2 months</td>\n",
       "      <td>Australian Shepherd Mix</td>\n",
       "      <td>Blue Merle/White</td>\n",
       "      <td>NaN</td>\n",
       "    </tr>\n",
       "  </tbody>\n",
       "</table>\n",
       "<p>597 rows × 12 columns</p>\n",
       "</div>"
      ],
      "text/plain": [
       "    animal_id            datetime                monthyear  \\\n",
       "4     A874677 2023-02-25 16:47:00  2023-02-25T16:47:00.000   \n",
       "5     A839506 2023-02-25 16:33:00  2023-02-25T16:33:00.000   \n",
       "8     A872682 2023-02-25 15:52:00  2023-02-25T15:52:00.000   \n",
       "12    A874708 2023-02-25 14:21:00  2023-02-25T14:21:00.000   \n",
       "13    A875020 2023-02-25 13:38:00  2023-02-25T13:38:00.000   \n",
       "..        ...                 ...                      ...   \n",
       "991   A872646 2023-01-18 15:17:00  2023-01-18T15:17:00.000   \n",
       "992   A872884 2023-01-18 14:38:00  2023-01-18T14:38:00.000   \n",
       "993   A870471 2023-01-18 13:53:00  2023-01-18T13:53:00.000   \n",
       "994   A871549 2023-01-18 11:21:00  2023-01-18T11:21:00.000   \n",
       "997   A869745 2023-01-18 09:52:00  2023-01-18T09:52:00.000   \n",
       "\n",
       "               date_of_birth     outcome_type outcome_subtype animal_type  \\\n",
       "4    2022-09-04T00:00:00.000         Adoption             NaN         Dog   \n",
       "5    2014-07-22T00:00:00.000  Return to Owner             NaN         Dog   \n",
       "8    2022-12-31T00:00:00.000         Adoption             NaN         Dog   \n",
       "12   2022-11-16T00:00:00.000         Adoption             NaN         Dog   \n",
       "13   2016-02-21T00:00:00.000  Return to Owner             NaN         Dog   \n",
       "..                       ...              ...             ...         ...   \n",
       "991  2017-01-12T00:00:00.000         Adoption             NaN         Dog   \n",
       "992  2020-08-17T00:00:00.000         Adoption             NaN         Dog   \n",
       "993  2022-10-07T00:00:00.000         Adoption          Foster         Dog   \n",
       "994  2021-12-27T00:00:00.000         Transfer         Partner         Dog   \n",
       "997  2022-10-23T00:00:00.000         Adoption          Foster         Dog   \n",
       "\n",
       "    sex_upon_outcome age_upon_outcome                            breed  \\\n",
       "4      Neutered Male         5 months                         Pit Bull   \n",
       "5      Neutered Male          8 years    American Pit Bull Terrier Mix   \n",
       "8      Neutered Male          1 month  Australian Cattle Dog/Catahoula   \n",
       "12     Spayed Female         3 months                         Pit Bull   \n",
       "13     Neutered Male          7 years             American Bulldog Mix   \n",
       "..               ...              ...                              ...   \n",
       "991    Neutered Male          6 years           Labrador Retriever Mix   \n",
       "992    Neutered Male          2 years                   Great Pyrenees   \n",
       "993    Spayed Female         3 months       Anatol Shepherd/Great Dane   \n",
       "994    Neutered Male           1 year          Flat Coat Retriever Mix   \n",
       "997    Spayed Female         2 months          Australian Shepherd Mix   \n",
       "\n",
       "                color       name  \n",
       "4       Brown Brindle      Major  \n",
       "5         White/Brown  Beau Beau  \n",
       "8         Brown/Black        NaN  \n",
       "12         Blue/White      *Bess  \n",
       "13              Brown      Chulo  \n",
       "..                ...        ...  \n",
       "991             Black      Davey  \n",
       "992             White     Fluffy  \n",
       "993         Tan/White    *Harper  \n",
       "994             Black     *Peter  \n",
       "997  Blue Merle/White        NaN  \n",
       "\n",
       "[597 rows x 12 columns]"
      ]
     },
     "execution_count": 10,
     "metadata": {},
     "output_type": "execute_result"
    }
   ],
   "source": [
    "animals[(animals['animal_type'] == \"Dog\")] ## Same as above"
   ]
  },
  {
   "cell_type": "markdown",
   "metadata": {
    "heading_collapsed": true,
    "hidden": true
   },
   "source": [
    "### Multi-Indexing"
   ]
  },
  {
   "cell_type": "code",
   "execution_count": 11,
   "metadata": {
    "ExecuteTime": {
     "end_time": "2021-10-19T17:20:14.990306Z",
     "start_time": "2021-10-19T17:20:14.973647Z"
    },
    "hidden": true
   },
   "outputs": [
    {
     "data": {
      "text/plain": [
       "{('Bird', 'Adoption'): [339, 642], ('Bird', 'Return to Owner'): [868, 869], ('Bird', nan): [281], ('Cat', 'Adoption'): [3, 7, 15, 17, 19, 20, 21, 25, 28, 32, 34, 36, 48, 51, 52, 60, 62, 64, 73, 74, 77, 81, 100, 102, 105, 107, 108, 110, 113, 123, 124, 148, 149, 158, 168, 170, 172, 173, 174, 177, 179, 180, 195, 201, 202, 204, 211, 212, 216, 227, 230, 242, 243, 244, 246, 247, 257, 264, 267, 270, 274, 276, 277, 280, 282, 283, 286, 287, 288, 289, 290, 296, 297, 298, 302, 303, 304, 307, 321, 329, 342, 355, 362, 365, 379, 380, 384, 396, 399, 426, 448, 454, 456, 474, 477, 480, 481, 482, 483, 489, ...], ('Cat', 'Died'): [141, 392, 708], ('Cat', 'Euthanasia'): [150, 190, 240, 385, 515, 538, 626, 686, 698, 811, 870], ('Cat', 'Return to Owner'): [33, 45, 75, 80, 147, 178, 193, 381, 462, 577, 621, 635, 836, 871, 946], ('Cat', 'Rto-Adopt'): [76, 523, 524, 525, 526, 527], ('Cat', 'Transfer'): [0, 1, 2, 9, 10, 11, 71, 96, 97, 116, 117, 118, 119, 120, 154, 155, 156, 157, 207, 232, 233, 234, 251, 306, 317, 318, 319, 405, 406, 407, 408, 411, 412, 413, 414, 415, 416, 417, 419, 420, 422, 423, 438, 478, 479, 508, 509, 510, 511, 512, 513, 514, 632, 633, 634, 639, 662, 702, 703, 704, 705, 706, 707, 709, 710, 722, 723, 724, 725, 726, 727, 728, 729, 730, 751, 753, 754, 755, 758, 784, 785, 786, 787, 789, 790, 791, 794, 823, 824, 825, 826, 827, 828, 829, 841, 884, 945, 961, 962, 963, ...], ('Dog', 'Adoption'): [4, 8, 12, 16, 18, 22, 23, 24, 27, 29, 30, 31, 43, 44, 49, 53, 56, 57, 58, 59, 63, 65, 66, 67, 70, 78, 79, 91, 98, 99, 101, 103, 106, 109, 121, 122, 125, 130, 132, 133, 134, 136, 137, 139, 140, 142, 143, 144, 145, 146, 151, 152, 159, 161, 162, 163, 164, 165, 166, 171, 176, 181, 182, 183, 184, 185, 186, 187, 189, 191, 192, 194, 198, 199, 203, 205, 206, 208, 213, 214, 215, 220, 222, 228, 231, 235, 236, 237, 238, 239, 241, 245, 250, 254, 255, 258, 259, 260, 262, 263, ...], ('Dog', 'Died'): [374, 650], ('Dog', 'Euthanasia'): [26, 112, 131, 248, 256, 430, 689, 796, 977], ('Dog', 'Return to Owner'): [5, 13, 41, 42, 47, 104, 111, 129, 153, 188, 196, 197, 210, 221, 229, 249, 253, 275, 357, 403, 409, 446, 449, 451, 452, 459, 463, 464, 517, 521, 522, 528, 545, 551, 556, 558, 563, 573, 574, 579, 608, 611, 656, 673, 674, 683, 694, 695, 700, 735, 779, 831, 839, 855, 880, 927, 932, 934, 935, 936, 937, 938, 939, 940, 968, 973], ('Dog', 'Rto-Adopt'): [167, 175, 209, 468, 498, 777, 923, 929], ('Dog', 'Transfer'): [14, 35, 37, 38, 39, 40, 50, 69, 82, 83, 84, 85, 86, 87, 88, 89, 90, 92, 93, 94, 95, 114, 115, 135, 138, 160, 200, 217, 218, 219, 223, 224, 225, 226, 252, 261, 308, 310, 311, 312, 313, 314, 315, 316, 322, 323, 324, 325, 326, 332, 382, 383, 386, 387, 388, 389, 390, 391, 393, 394, 401, 424, 435, 436, 455, 465, 484, 485, 486, 487, 493, 495, 496, 500, 507, 532, 533, 571, 578, 584, 587, 638, 640, 647, 648, 649, 670, 678, 684, 685, 701, 711, 712, 713, 714, 732, 743, 747, 748, 749, ...], ('Dog', nan): [46], ('Other', 'Adoption'): [54, 55, 61, 572, 637, 737, 788, 914, 947], ('Other', 'Disposal'): [440], ('Other', 'Euthanasia'): [6, 68, 72, 126, 127, 128, 169, 410, 439, 441, 559, 596, 612, 645, 657, 664, 688, 733, 746, 760, 838, 842, 846, 878, 879, 891, 893, 901, 928], ('Other', 'Transfer'): [759, 930, 931, 942]}"
      ]
     },
     "execution_count": 11,
     "metadata": {},
     "output_type": "execute_result"
    }
   ],
   "source": [
    "# Same goes for multi-index groupbys\n",
    "animal_outcome = animals.groupby(['animal_type', 'outcome_type'])\n",
    "animal_outcome.groups"
   ]
  },
  {
   "cell_type": "code",
   "execution_count": 12,
   "metadata": {
    "ExecuteTime": {
     "end_time": "2021-10-19T17:30:10.495498Z",
     "start_time": "2021-10-19T17:30:10.492182Z"
    }
   },
   "outputs": [
    {
     "data": {
      "text/plain": [
       "pandas.core.indexes.numeric.Int64Index"
      ]
     },
     "execution_count": 12,
     "metadata": {},
     "output_type": "execute_result"
    }
   ],
   "source": [
    "type(animal_outcome.groups[('Dog', 'Adoption')])"
   ]
  },
  {
   "cell_type": "code",
   "execution_count": 13,
   "metadata": {
    "ExecuteTime": {
     "end_time": "2021-10-19T17:22:58.195047Z",
     "start_time": "2021-10-19T17:22:58.190973Z"
    },
    "hidden": true
   },
   "outputs": [
    {
     "data": {
      "text/plain": [
       "dict_keys([('Bird', 'Adoption'), ('Bird', 'Return to Owner'), ('Bird', nan), ('Cat', 'Adoption'), ('Cat', 'Died'), ('Cat', 'Euthanasia'), ('Cat', 'Return to Owner'), ('Cat', 'Rto-Adopt'), ('Cat', 'Transfer'), ('Dog', 'Adoption'), ('Dog', 'Died'), ('Dog', 'Euthanasia'), ('Dog', 'Return to Owner'), ('Dog', 'Rto-Adopt'), ('Dog', 'Transfer'), ('Dog', nan), ('Other', 'Adoption'), ('Other', 'Disposal'), ('Other', 'Euthanasia'), ('Other', 'Transfer')])"
      ]
     },
     "execution_count": 13,
     "metadata": {},
     "output_type": "execute_result"
    }
   ],
   "source": [
    "# animal_outcome.groups is a dictionary, so we can access the group names using keys()\n",
    "animal_outcome.groups.keys()"
   ]
  },
  {
   "cell_type": "code",
   "execution_count": 15,
   "metadata": {
    "ExecuteTime": {
     "end_time": "2021-10-19T17:23:20.073310Z",
     "start_time": "2021-10-19T17:23:20.067138Z"
    }
   },
   "outputs": [
    {
     "data": {
      "text/plain": [
       "Dog      597\n",
       "Cat      355\n",
       "Other     43\n",
       "Bird       5\n",
       "Name: animal_type, dtype: int64"
      ]
     },
     "execution_count": 15,
     "metadata": {},
     "output_type": "execute_result"
    }
   ],
   "source": [
    "animals['animal_type'].value_counts()"
   ]
  },
  {
   "cell_type": "code",
   "execution_count": 16,
   "metadata": {
    "ExecuteTime": {
     "end_time": "2021-10-19T17:23:23.422972Z",
     "start_time": "2021-10-19T17:23:23.417993Z"
    }
   },
   "outputs": [
    {
     "data": {
      "text/plain": [
       "Adoption           596\n",
       "Transfer           250\n",
       "Return to Owner     83\n",
       "Euthanasia          49\n",
       "Rto-Adopt           14\n",
       "Died                 5\n",
       "Disposal             1\n",
       "Name: outcome_type, dtype: int64"
      ]
     },
     "execution_count": 16,
     "metadata": {},
     "output_type": "execute_result"
    }
   ],
   "source": [
    "animals['outcome_type'].value_counts()"
   ]
  },
  {
   "cell_type": "code",
   "execution_count": 17,
   "metadata": {
    "ExecuteTime": {
     "end_time": "2021-10-19T17:23:45.982323Z",
     "start_time": "2021-10-19T17:23:45.961393Z"
    },
    "hidden": true
   },
   "outputs": [
    {
     "data": {
      "text/html": [
       "<div>\n",
       "<style scoped>\n",
       "    .dataframe tbody tr th:only-of-type {\n",
       "        vertical-align: middle;\n",
       "    }\n",
       "\n",
       "    .dataframe tbody tr th {\n",
       "        vertical-align: top;\n",
       "    }\n",
       "\n",
       "    .dataframe thead th {\n",
       "        text-align: right;\n",
       "    }\n",
       "</style>\n",
       "<table border=\"1\" class=\"dataframe\">\n",
       "  <thead>\n",
       "    <tr style=\"text-align: right;\">\n",
       "      <th></th>\n",
       "      <th>animal_id</th>\n",
       "      <th>datetime</th>\n",
       "      <th>monthyear</th>\n",
       "      <th>date_of_birth</th>\n",
       "      <th>outcome_type</th>\n",
       "      <th>outcome_subtype</th>\n",
       "      <th>animal_type</th>\n",
       "      <th>sex_upon_outcome</th>\n",
       "      <th>age_upon_outcome</th>\n",
       "      <th>breed</th>\n",
       "      <th>color</th>\n",
       "      <th>name</th>\n",
       "    </tr>\n",
       "  </thead>\n",
       "  <tbody>\n",
       "    <tr>\n",
       "      <th>3</th>\n",
       "      <td>A873239</td>\n",
       "      <td>2023-02-25 16:57:00</td>\n",
       "      <td>2023-02-25T16:57:00.000</td>\n",
       "      <td>2021-01-23T00:00:00.000</td>\n",
       "      <td>Adoption</td>\n",
       "      <td>NaN</td>\n",
       "      <td>Cat</td>\n",
       "      <td>Neutered Male</td>\n",
       "      <td>2 years</td>\n",
       "      <td>Domestic Shorthair</td>\n",
       "      <td>Blue</td>\n",
       "      <td>*Sage</td>\n",
       "    </tr>\n",
       "    <tr>\n",
       "      <th>7</th>\n",
       "      <td>A873205</td>\n",
       "      <td>2023-02-25 15:59:00</td>\n",
       "      <td>2023-02-25T15:59:00.000</td>\n",
       "      <td>2021-01-22T00:00:00.000</td>\n",
       "      <td>Adoption</td>\n",
       "      <td>NaN</td>\n",
       "      <td>Cat</td>\n",
       "      <td>Neutered Male</td>\n",
       "      <td>2 years</td>\n",
       "      <td>Domestic Shorthair</td>\n",
       "      <td>Brown Tabby</td>\n",
       "      <td>*Mustard</td>\n",
       "    </tr>\n",
       "    <tr>\n",
       "      <th>15</th>\n",
       "      <td>A875131</td>\n",
       "      <td>2023-02-25 13:33:00</td>\n",
       "      <td>2023-02-25T13:33:00.000</td>\n",
       "      <td>2022-03-22T00:00:00.000</td>\n",
       "      <td>Adoption</td>\n",
       "      <td>NaN</td>\n",
       "      <td>Cat</td>\n",
       "      <td>Neutered Male</td>\n",
       "      <td>11 months</td>\n",
       "      <td>Domestic Shorthair</td>\n",
       "      <td>White/Brown Tabby</td>\n",
       "      <td>Felix</td>\n",
       "    </tr>\n",
       "    <tr>\n",
       "      <th>17</th>\n",
       "      <td>A869077</td>\n",
       "      <td>2023-02-25 09:49:00</td>\n",
       "      <td>2023-02-25T09:49:00.000</td>\n",
       "      <td>2022-07-12T00:00:00.000</td>\n",
       "      <td>Adoption</td>\n",
       "      <td>Foster</td>\n",
       "      <td>Cat</td>\n",
       "      <td>Spayed Female</td>\n",
       "      <td>7 months</td>\n",
       "      <td>Domestic Shorthair</td>\n",
       "      <td>Orange Tabby/White</td>\n",
       "      <td>*Trudy</td>\n",
       "    </tr>\n",
       "    <tr>\n",
       "      <th>19</th>\n",
       "      <td>A875132</td>\n",
       "      <td>2023-02-25 00:00:00</td>\n",
       "      <td>2023-02-25T00:00:00.000</td>\n",
       "      <td>2022-03-22T00:00:00.000</td>\n",
       "      <td>Adoption</td>\n",
       "      <td>NaN</td>\n",
       "      <td>Cat</td>\n",
       "      <td>Neutered Male</td>\n",
       "      <td>11 months</td>\n",
       "      <td>Domestic Shorthair</td>\n",
       "      <td>Brown Tabby</td>\n",
       "      <td>Cecil</td>\n",
       "    </tr>\n",
       "    <tr>\n",
       "      <th>...</th>\n",
       "      <td>...</td>\n",
       "      <td>...</td>\n",
       "      <td>...</td>\n",
       "      <td>...</td>\n",
       "      <td>...</td>\n",
       "      <td>...</td>\n",
       "      <td>...</td>\n",
       "      <td>...</td>\n",
       "      <td>...</td>\n",
       "      <td>...</td>\n",
       "      <td>...</td>\n",
       "      <td>...</td>\n",
       "    </tr>\n",
       "    <tr>\n",
       "      <th>982</th>\n",
       "      <td>A861828</td>\n",
       "      <td>2023-01-18 16:48:00</td>\n",
       "      <td>2023-01-18T16:48:00.000</td>\n",
       "      <td>2022-07-01T00:00:00.000</td>\n",
       "      <td>Adoption</td>\n",
       "      <td>Foster</td>\n",
       "      <td>Cat</td>\n",
       "      <td>Spayed Female</td>\n",
       "      <td>6 months</td>\n",
       "      <td>Domestic Shorthair</td>\n",
       "      <td>Brown Tabby</td>\n",
       "      <td>NaN</td>\n",
       "    </tr>\n",
       "    <tr>\n",
       "      <th>983</th>\n",
       "      <td>A872457</td>\n",
       "      <td>2023-01-18 16:44:00</td>\n",
       "      <td>2023-01-18T16:44:00.000</td>\n",
       "      <td>2022-11-10T00:00:00.000</td>\n",
       "      <td>Adoption</td>\n",
       "      <td>NaN</td>\n",
       "      <td>Cat</td>\n",
       "      <td>Neutered Male</td>\n",
       "      <td>2 months</td>\n",
       "      <td>Domestic Shorthair</td>\n",
       "      <td>Brown Tabby</td>\n",
       "      <td>NaN</td>\n",
       "    </tr>\n",
       "    <tr>\n",
       "      <th>984</th>\n",
       "      <td>A872458</td>\n",
       "      <td>2023-01-18 16:44:00</td>\n",
       "      <td>2023-01-18T16:44:00.000</td>\n",
       "      <td>2022-11-10T00:00:00.000</td>\n",
       "      <td>Adoption</td>\n",
       "      <td>NaN</td>\n",
       "      <td>Cat</td>\n",
       "      <td>Spayed Female</td>\n",
       "      <td>2 months</td>\n",
       "      <td>Domestic Longhair</td>\n",
       "      <td>Brown Tabby/White</td>\n",
       "      <td>NaN</td>\n",
       "    </tr>\n",
       "    <tr>\n",
       "      <th>987</th>\n",
       "      <td>A872539</td>\n",
       "      <td>2023-01-18 16:17:00</td>\n",
       "      <td>2023-01-18T16:17:00.000</td>\n",
       "      <td>2022-07-11T00:00:00.000</td>\n",
       "      <td>Adoption</td>\n",
       "      <td>NaN</td>\n",
       "      <td>Cat</td>\n",
       "      <td>Spayed Female</td>\n",
       "      <td>6 months</td>\n",
       "      <td>Domestic Shorthair</td>\n",
       "      <td>Tortie</td>\n",
       "      <td>NaN</td>\n",
       "    </tr>\n",
       "    <tr>\n",
       "      <th>996</th>\n",
       "      <td>A868484</td>\n",
       "      <td>2023-01-18 10:13:00</td>\n",
       "      <td>2023-01-18T10:13:00.000</td>\n",
       "      <td>2016-11-04T00:00:00.000</td>\n",
       "      <td>Adoption</td>\n",
       "      <td>Foster</td>\n",
       "      <td>Cat</td>\n",
       "      <td>Neutered Male</td>\n",
       "      <td>6 years</td>\n",
       "      <td>Domestic Shorthair</td>\n",
       "      <td>Brown Tabby/White</td>\n",
       "      <td>Isaac</td>\n",
       "    </tr>\n",
       "  </tbody>\n",
       "</table>\n",
       "<p>214 rows × 12 columns</p>\n",
       "</div>"
      ],
      "text/plain": [
       "    animal_id            datetime                monthyear  \\\n",
       "3     A873239 2023-02-25 16:57:00  2023-02-25T16:57:00.000   \n",
       "7     A873205 2023-02-25 15:59:00  2023-02-25T15:59:00.000   \n",
       "15    A875131 2023-02-25 13:33:00  2023-02-25T13:33:00.000   \n",
       "17    A869077 2023-02-25 09:49:00  2023-02-25T09:49:00.000   \n",
       "19    A875132 2023-02-25 00:00:00  2023-02-25T00:00:00.000   \n",
       "..        ...                 ...                      ...   \n",
       "982   A861828 2023-01-18 16:48:00  2023-01-18T16:48:00.000   \n",
       "983   A872457 2023-01-18 16:44:00  2023-01-18T16:44:00.000   \n",
       "984   A872458 2023-01-18 16:44:00  2023-01-18T16:44:00.000   \n",
       "987   A872539 2023-01-18 16:17:00  2023-01-18T16:17:00.000   \n",
       "996   A868484 2023-01-18 10:13:00  2023-01-18T10:13:00.000   \n",
       "\n",
       "               date_of_birth outcome_type outcome_subtype animal_type  \\\n",
       "3    2021-01-23T00:00:00.000     Adoption             NaN         Cat   \n",
       "7    2021-01-22T00:00:00.000     Adoption             NaN         Cat   \n",
       "15   2022-03-22T00:00:00.000     Adoption             NaN         Cat   \n",
       "17   2022-07-12T00:00:00.000     Adoption          Foster         Cat   \n",
       "19   2022-03-22T00:00:00.000     Adoption             NaN         Cat   \n",
       "..                       ...          ...             ...         ...   \n",
       "982  2022-07-01T00:00:00.000     Adoption          Foster         Cat   \n",
       "983  2022-11-10T00:00:00.000     Adoption             NaN         Cat   \n",
       "984  2022-11-10T00:00:00.000     Adoption             NaN         Cat   \n",
       "987  2022-07-11T00:00:00.000     Adoption             NaN         Cat   \n",
       "996  2016-11-04T00:00:00.000     Adoption          Foster         Cat   \n",
       "\n",
       "    sex_upon_outcome age_upon_outcome               breed               color  \\\n",
       "3      Neutered Male          2 years  Domestic Shorthair                Blue   \n",
       "7      Neutered Male          2 years  Domestic Shorthair         Brown Tabby   \n",
       "15     Neutered Male        11 months  Domestic Shorthair   White/Brown Tabby   \n",
       "17     Spayed Female         7 months  Domestic Shorthair  Orange Tabby/White   \n",
       "19     Neutered Male        11 months  Domestic Shorthair         Brown Tabby   \n",
       "..               ...              ...                 ...                 ...   \n",
       "982    Spayed Female         6 months  Domestic Shorthair         Brown Tabby   \n",
       "983    Neutered Male         2 months  Domestic Shorthair         Brown Tabby   \n",
       "984    Spayed Female         2 months   Domestic Longhair   Brown Tabby/White   \n",
       "987    Spayed Female         6 months  Domestic Shorthair              Tortie   \n",
       "996    Neutered Male          6 years  Domestic Shorthair   Brown Tabby/White   \n",
       "\n",
       "         name  \n",
       "3       *Sage  \n",
       "7    *Mustard  \n",
       "15      Felix  \n",
       "17     *Trudy  \n",
       "19      Cecil  \n",
       "..        ...  \n",
       "982       NaN  \n",
       "983       NaN  \n",
       "984       NaN  \n",
       "987       NaN  \n",
       "996     Isaac  \n",
       "\n",
       "[214 rows x 12 columns]"
      ]
     },
     "execution_count": 17,
     "metadata": {},
     "output_type": "execute_result"
    }
   ],
   "source": [
    "# We can then get a specific group, such as cats that were adopted\n",
    "animal_outcome.get_group(('Cat', 'Adoption'))"
   ]
  },
  {
   "cell_type": "markdown",
   "metadata": {
    "heading_collapsed": true,
    "hidden": true
   },
   "source": [
    "## Aggregating"
   ]
  },
  {
   "cell_type": "markdown",
   "metadata": {
    "hidden": true
   },
   "source": [
    "Once again, as we will see in SQL, groupby objects are intended to be used with aggregation. In SQL, we will see that our queries that include GROUP BY require aggregation performed on columns.\n",
    "\n",
    "We can use `.sum()`, `.mean()`, `.count()`, `.max()`, `.min()`, etc. Find a list of common aggregations [here](https://pandas.pydata.org/pandas-docs/stable/user_guide/groupby.html)."
   ]
  },
  {
   "cell_type": "code",
   "execution_count": 8,
   "metadata": {
    "ExecuteTime": {
     "end_time": "2021-10-19T17:35:16.811789Z",
     "start_time": "2021-10-19T17:35:16.799113Z"
    },
    "hidden": true
   },
   "outputs": [
    {
     "data": {
      "text/html": [
       "<div>\n",
       "<style scoped>\n",
       "    .dataframe tbody tr th:only-of-type {\n",
       "        vertical-align: middle;\n",
       "    }\n",
       "\n",
       "    .dataframe tbody tr th {\n",
       "        vertical-align: top;\n",
       "    }\n",
       "\n",
       "    .dataframe thead th {\n",
       "        text-align: right;\n",
       "    }\n",
       "</style>\n",
       "<table border=\"1\" class=\"dataframe\">\n",
       "  <thead>\n",
       "    <tr style=\"text-align: right;\">\n",
       "      <th></th>\n",
       "      <th>animal_id</th>\n",
       "      <th>name</th>\n",
       "      <th>datetime</th>\n",
       "      <th>monthyear</th>\n",
       "      <th>date_of_birth</th>\n",
       "      <th>outcome_type</th>\n",
       "      <th>sex_upon_outcome</th>\n",
       "      <th>age_upon_outcome</th>\n",
       "      <th>breed</th>\n",
       "      <th>color</th>\n",
       "      <th>outcome_subtype</th>\n",
       "    </tr>\n",
       "    <tr>\n",
       "      <th>animal_type</th>\n",
       "      <th></th>\n",
       "      <th></th>\n",
       "      <th></th>\n",
       "      <th></th>\n",
       "      <th></th>\n",
       "      <th></th>\n",
       "      <th></th>\n",
       "      <th></th>\n",
       "      <th></th>\n",
       "      <th></th>\n",
       "      <th></th>\n",
       "    </tr>\n",
       "  </thead>\n",
       "  <tbody>\n",
       "    <tr>\n",
       "      <th>Bird</th>\n",
       "      <td>2</td>\n",
       "      <td>2</td>\n",
       "      <td>2</td>\n",
       "      <td>2</td>\n",
       "      <td>2</td>\n",
       "      <td>2</td>\n",
       "      <td>2</td>\n",
       "      <td>2</td>\n",
       "      <td>2</td>\n",
       "      <td>2</td>\n",
       "      <td>0</td>\n",
       "    </tr>\n",
       "    <tr>\n",
       "      <th>Cat</th>\n",
       "      <td>368</td>\n",
       "      <td>213</td>\n",
       "      <td>368</td>\n",
       "      <td>368</td>\n",
       "      <td>368</td>\n",
       "      <td>368</td>\n",
       "      <td>368</td>\n",
       "      <td>368</td>\n",
       "      <td>368</td>\n",
       "      <td>368</td>\n",
       "      <td>227</td>\n",
       "    </tr>\n",
       "    <tr>\n",
       "      <th>Dog</th>\n",
       "      <td>578</td>\n",
       "      <td>491</td>\n",
       "      <td>578</td>\n",
       "      <td>578</td>\n",
       "      <td>578</td>\n",
       "      <td>578</td>\n",
       "      <td>578</td>\n",
       "      <td>578</td>\n",
       "      <td>578</td>\n",
       "      <td>578</td>\n",
       "      <td>196</td>\n",
       "    </tr>\n",
       "    <tr>\n",
       "      <th>Other</th>\n",
       "      <td>52</td>\n",
       "      <td>9</td>\n",
       "      <td>52</td>\n",
       "      <td>52</td>\n",
       "      <td>52</td>\n",
       "      <td>52</td>\n",
       "      <td>52</td>\n",
       "      <td>52</td>\n",
       "      <td>52</td>\n",
       "      <td>52</td>\n",
       "      <td>44</td>\n",
       "    </tr>\n",
       "  </tbody>\n",
       "</table>\n",
       "</div>"
      ],
      "text/plain": [
       "             animal_id  name  datetime  monthyear  date_of_birth  \\\n",
       "animal_type                                                        \n",
       "Bird                 2     2         2          2              2   \n",
       "Cat                368   213       368        368            368   \n",
       "Dog                578   491       578        578            578   \n",
       "Other               52     9        52         52             52   \n",
       "\n",
       "             outcome_type  sex_upon_outcome  age_upon_outcome  breed  color  \\\n",
       "animal_type                                                                   \n",
       "Bird                    2                 2                 2      2      2   \n",
       "Cat                   368               368               368    368    368   \n",
       "Dog                   578               578               578    578    578   \n",
       "Other                  52                52                52     52     52   \n",
       "\n",
       "             outcome_subtype  \n",
       "animal_type                   \n",
       "Bird                       0  \n",
       "Cat                      227  \n",
       "Dog                      196  \n",
       "Other                     44  "
      ]
     },
     "execution_count": 8,
     "metadata": {},
     "output_type": "execute_result"
    }
   ],
   "source": [
    "animals.groupby('animal_type').count()"
   ]
  },
  {
   "cell_type": "markdown",
   "metadata": {
    "heading_collapsed": true,
    "hidden": true
   },
   "source": [
    "## Exercise"
   ]
  },
  {
   "cell_type": "markdown",
   "metadata": {
    "hidden": true
   },
   "source": [
    "Use `.groupby()` to find the most recently born of each (main) animal type."
   ]
  },
  {
   "cell_type": "code",
   "execution_count": 10,
   "metadata": {
    "ExecuteTime": {
     "end_time": "2021-10-19T17:47:26.865631Z",
     "start_time": "2021-10-19T17:47:26.856397Z"
    },
    "hidden": true
   },
   "outputs": [
    {
     "data": {
      "text/plain": [
       "animal_type\n",
       "Bird    2015-02-14\n",
       "Cat     2022-11-07\n",
       "Dog     2023-01-02\n",
       "Other   2022-02-28\n",
       "Name: date_of_birth, dtype: datetime64[ns]"
      ]
     },
     "execution_count": 10,
     "metadata": {},
     "output_type": "execute_result"
    }
   ],
   "source": [
    "# This is a string object\n",
    "type(animals['date_of_birth'][0])\n",
    "animals['date_of_birth'][0]\n",
    "\n",
    "# Change the str into datetime object?\n",
    "animals['date_of_birth'] = pd.to_datetime(animals['date_of_birth'])\n",
    "\n",
    "animals[['date_of_birth', 'monthyear']]\n",
    "\n",
    "animals.groupby('animal_type')['date_of_birth'].max()"
   ]
  },
  {
   "cell_type": "markdown",
   "metadata": {
    "hidden": true
   },
   "source": [
    "<details>\n",
    "    <summary>Answer</summary>\n",
    "\n",
    "```python\n",
    "animals.groupby('animal_type')['date_of_birth'].max()\n",
    "```\n",
    "</details>"
   ]
  },
  {
   "cell_type": "markdown",
   "metadata": {
    "heading_collapsed": true
   },
   "source": [
    "# Pivoting a DataFrame"
   ]
  },
  {
   "cell_type": "markdown",
   "metadata": {
    "heading_collapsed": true,
    "hidden": true
   },
   "source": [
    "## `.pivot_table()`"
   ]
  },
  {
   "cell_type": "markdown",
   "metadata": {
    "hidden": true
   },
   "source": [
    "Those of you familiar with Excel have probably used Pivot Tables. Pandas has a similar functionality.\n",
    "\n",
    "Grouping by two different columns can be very helpful."
   ]
  },
  {
   "cell_type": "code",
   "execution_count": 19,
   "metadata": {
    "ExecuteTime": {
     "end_time": "2021-10-19T17:53:22.579767Z",
     "start_time": "2021-10-19T17:53:22.549063Z"
    },
    "hidden": true
   },
   "outputs": [
    {
     "data": {
      "text/html": [
       "<div>\n",
       "<style scoped>\n",
       "    .dataframe tbody tr th:only-of-type {\n",
       "        vertical-align: middle;\n",
       "    }\n",
       "\n",
       "    .dataframe tbody tr th {\n",
       "        vertical-align: top;\n",
       "    }\n",
       "\n",
       "    .dataframe thead th {\n",
       "        text-align: right;\n",
       "    }\n",
       "</style>\n",
       "<table border=\"1\" class=\"dataframe\">\n",
       "  <thead>\n",
       "    <tr style=\"text-align: right;\">\n",
       "      <th></th>\n",
       "      <th></th>\n",
       "      <th>animal_id</th>\n",
       "      <th>datetime</th>\n",
       "      <th>monthyear</th>\n",
       "      <th>date_of_birth</th>\n",
       "      <th>outcome_subtype</th>\n",
       "      <th>animal_type</th>\n",
       "      <th>age_upon_outcome</th>\n",
       "      <th>breed</th>\n",
       "      <th>color</th>\n",
       "      <th>name</th>\n",
       "    </tr>\n",
       "    <tr>\n",
       "      <th>outcome_type</th>\n",
       "      <th>sex_upon_outcome</th>\n",
       "      <th></th>\n",
       "      <th></th>\n",
       "      <th></th>\n",
       "      <th></th>\n",
       "      <th></th>\n",
       "      <th></th>\n",
       "      <th></th>\n",
       "      <th></th>\n",
       "      <th></th>\n",
       "      <th></th>\n",
       "    </tr>\n",
       "  </thead>\n",
       "  <tbody>\n",
       "    <tr>\n",
       "      <th rowspan=\"5\" valign=\"top\">Adoption</th>\n",
       "      <th>Intact Female</th>\n",
       "      <td>10</td>\n",
       "      <td>10</td>\n",
       "      <td>10</td>\n",
       "      <td>10</td>\n",
       "      <td>10</td>\n",
       "      <td>10</td>\n",
       "      <td>10</td>\n",
       "      <td>10</td>\n",
       "      <td>10</td>\n",
       "      <td>10</td>\n",
       "    </tr>\n",
       "    <tr>\n",
       "      <th>Intact Male</th>\n",
       "      <td>8</td>\n",
       "      <td>8</td>\n",
       "      <td>8</td>\n",
       "      <td>8</td>\n",
       "      <td>8</td>\n",
       "      <td>8</td>\n",
       "      <td>8</td>\n",
       "      <td>8</td>\n",
       "      <td>8</td>\n",
       "      <td>8</td>\n",
       "    </tr>\n",
       "    <tr>\n",
       "      <th>Neutered Male</th>\n",
       "      <td>316</td>\n",
       "      <td>316</td>\n",
       "      <td>316</td>\n",
       "      <td>316</td>\n",
       "      <td>316</td>\n",
       "      <td>316</td>\n",
       "      <td>316</td>\n",
       "      <td>316</td>\n",
       "      <td>316</td>\n",
       "      <td>316</td>\n",
       "    </tr>\n",
       "    <tr>\n",
       "      <th>Spayed Female</th>\n",
       "      <td>278</td>\n",
       "      <td>278</td>\n",
       "      <td>278</td>\n",
       "      <td>278</td>\n",
       "      <td>278</td>\n",
       "      <td>278</td>\n",
       "      <td>278</td>\n",
       "      <td>278</td>\n",
       "      <td>278</td>\n",
       "      <td>278</td>\n",
       "    </tr>\n",
       "    <tr>\n",
       "      <th>Unknown</th>\n",
       "      <td>3</td>\n",
       "      <td>3</td>\n",
       "      <td>3</td>\n",
       "      <td>3</td>\n",
       "      <td>3</td>\n",
       "      <td>3</td>\n",
       "      <td>3</td>\n",
       "      <td>3</td>\n",
       "      <td>3</td>\n",
       "      <td>3</td>\n",
       "    </tr>\n",
       "    <tr>\n",
       "      <th rowspan=\"4\" valign=\"top\">Died</th>\n",
       "      <th>Intact Female</th>\n",
       "      <td>1</td>\n",
       "      <td>1</td>\n",
       "      <td>1</td>\n",
       "      <td>1</td>\n",
       "      <td>1</td>\n",
       "      <td>1</td>\n",
       "      <td>1</td>\n",
       "      <td>1</td>\n",
       "      <td>1</td>\n",
       "      <td>1</td>\n",
       "    </tr>\n",
       "    <tr>\n",
       "      <th>Intact Male</th>\n",
       "      <td>2</td>\n",
       "      <td>2</td>\n",
       "      <td>2</td>\n",
       "      <td>2</td>\n",
       "      <td>2</td>\n",
       "      <td>2</td>\n",
       "      <td>2</td>\n",
       "      <td>2</td>\n",
       "      <td>2</td>\n",
       "      <td>2</td>\n",
       "    </tr>\n",
       "    <tr>\n",
       "      <th>Neutered Male</th>\n",
       "      <td>1</td>\n",
       "      <td>1</td>\n",
       "      <td>1</td>\n",
       "      <td>1</td>\n",
       "      <td>1</td>\n",
       "      <td>1</td>\n",
       "      <td>1</td>\n",
       "      <td>1</td>\n",
       "      <td>1</td>\n",
       "      <td>1</td>\n",
       "    </tr>\n",
       "    <tr>\n",
       "      <th>Spayed Female</th>\n",
       "      <td>1</td>\n",
       "      <td>1</td>\n",
       "      <td>1</td>\n",
       "      <td>1</td>\n",
       "      <td>1</td>\n",
       "      <td>1</td>\n",
       "      <td>1</td>\n",
       "      <td>1</td>\n",
       "      <td>1</td>\n",
       "      <td>1</td>\n",
       "    </tr>\n",
       "    <tr>\n",
       "      <th>Disposal</th>\n",
       "      <th>Unknown</th>\n",
       "      <td>1</td>\n",
       "      <td>1</td>\n",
       "      <td>1</td>\n",
       "      <td>1</td>\n",
       "      <td>1</td>\n",
       "      <td>1</td>\n",
       "      <td>1</td>\n",
       "      <td>1</td>\n",
       "      <td>1</td>\n",
       "      <td>1</td>\n",
       "    </tr>\n",
       "    <tr>\n",
       "      <th rowspan=\"5\" valign=\"top\">Euthanasia</th>\n",
       "      <th>Intact Female</th>\n",
       "      <td>6</td>\n",
       "      <td>6</td>\n",
       "      <td>6</td>\n",
       "      <td>6</td>\n",
       "      <td>6</td>\n",
       "      <td>6</td>\n",
       "      <td>6</td>\n",
       "      <td>6</td>\n",
       "      <td>6</td>\n",
       "      <td>6</td>\n",
       "    </tr>\n",
       "    <tr>\n",
       "      <th>Intact Male</th>\n",
       "      <td>5</td>\n",
       "      <td>5</td>\n",
       "      <td>5</td>\n",
       "      <td>5</td>\n",
       "      <td>5</td>\n",
       "      <td>5</td>\n",
       "      <td>5</td>\n",
       "      <td>5</td>\n",
       "      <td>5</td>\n",
       "      <td>5</td>\n",
       "    </tr>\n",
       "    <tr>\n",
       "      <th>Neutered Male</th>\n",
       "      <td>4</td>\n",
       "      <td>4</td>\n",
       "      <td>4</td>\n",
       "      <td>4</td>\n",
       "      <td>4</td>\n",
       "      <td>4</td>\n",
       "      <td>4</td>\n",
       "      <td>4</td>\n",
       "      <td>4</td>\n",
       "      <td>4</td>\n",
       "    </tr>\n",
       "    <tr>\n",
       "      <th>Spayed Female</th>\n",
       "      <td>2</td>\n",
       "      <td>2</td>\n",
       "      <td>2</td>\n",
       "      <td>2</td>\n",
       "      <td>2</td>\n",
       "      <td>2</td>\n",
       "      <td>2</td>\n",
       "      <td>2</td>\n",
       "      <td>2</td>\n",
       "      <td>2</td>\n",
       "    </tr>\n",
       "    <tr>\n",
       "      <th>Unknown</th>\n",
       "      <td>34</td>\n",
       "      <td>34</td>\n",
       "      <td>34</td>\n",
       "      <td>34</td>\n",
       "      <td>34</td>\n",
       "      <td>34</td>\n",
       "      <td>34</td>\n",
       "      <td>34</td>\n",
       "      <td>34</td>\n",
       "      <td>34</td>\n",
       "    </tr>\n",
       "    <tr>\n",
       "      <th rowspan=\"5\" valign=\"top\">Return to Owner</th>\n",
       "      <th>Intact Female</th>\n",
       "      <td>17</td>\n",
       "      <td>17</td>\n",
       "      <td>17</td>\n",
       "      <td>17</td>\n",
       "      <td>17</td>\n",
       "      <td>17</td>\n",
       "      <td>17</td>\n",
       "      <td>17</td>\n",
       "      <td>17</td>\n",
       "      <td>17</td>\n",
       "    </tr>\n",
       "    <tr>\n",
       "      <th>Intact Male</th>\n",
       "      <td>20</td>\n",
       "      <td>20</td>\n",
       "      <td>20</td>\n",
       "      <td>20</td>\n",
       "      <td>20</td>\n",
       "      <td>20</td>\n",
       "      <td>20</td>\n",
       "      <td>20</td>\n",
       "      <td>20</td>\n",
       "      <td>20</td>\n",
       "    </tr>\n",
       "    <tr>\n",
       "      <th>Neutered Male</th>\n",
       "      <td>27</td>\n",
       "      <td>27</td>\n",
       "      <td>27</td>\n",
       "      <td>27</td>\n",
       "      <td>27</td>\n",
       "      <td>27</td>\n",
       "      <td>27</td>\n",
       "      <td>27</td>\n",
       "      <td>27</td>\n",
       "      <td>27</td>\n",
       "    </tr>\n",
       "    <tr>\n",
       "      <th>Spayed Female</th>\n",
       "      <td>12</td>\n",
       "      <td>12</td>\n",
       "      <td>12</td>\n",
       "      <td>12</td>\n",
       "      <td>12</td>\n",
       "      <td>12</td>\n",
       "      <td>12</td>\n",
       "      <td>12</td>\n",
       "      <td>12</td>\n",
       "      <td>12</td>\n",
       "    </tr>\n",
       "    <tr>\n",
       "      <th>Unknown</th>\n",
       "      <td>4</td>\n",
       "      <td>4</td>\n",
       "      <td>4</td>\n",
       "      <td>4</td>\n",
       "      <td>4</td>\n",
       "      <td>4</td>\n",
       "      <td>4</td>\n",
       "      <td>4</td>\n",
       "      <td>4</td>\n",
       "      <td>4</td>\n",
       "    </tr>\n",
       "    <tr>\n",
       "      <th rowspan=\"2\" valign=\"top\">Rto-Adopt</th>\n",
       "      <th>Neutered Male</th>\n",
       "      <td>9</td>\n",
       "      <td>9</td>\n",
       "      <td>9</td>\n",
       "      <td>9</td>\n",
       "      <td>9</td>\n",
       "      <td>9</td>\n",
       "      <td>9</td>\n",
       "      <td>9</td>\n",
       "      <td>9</td>\n",
       "      <td>9</td>\n",
       "    </tr>\n",
       "    <tr>\n",
       "      <th>Spayed Female</th>\n",
       "      <td>5</td>\n",
       "      <td>5</td>\n",
       "      <td>5</td>\n",
       "      <td>5</td>\n",
       "      <td>5</td>\n",
       "      <td>5</td>\n",
       "      <td>5</td>\n",
       "      <td>5</td>\n",
       "      <td>5</td>\n",
       "      <td>5</td>\n",
       "    </tr>\n",
       "    <tr>\n",
       "      <th rowspan=\"5\" valign=\"top\">Transfer</th>\n",
       "      <th>Intact Female</th>\n",
       "      <td>86</td>\n",
       "      <td>86</td>\n",
       "      <td>86</td>\n",
       "      <td>86</td>\n",
       "      <td>86</td>\n",
       "      <td>86</td>\n",
       "      <td>86</td>\n",
       "      <td>86</td>\n",
       "      <td>86</td>\n",
       "      <td>86</td>\n",
       "    </tr>\n",
       "    <tr>\n",
       "      <th>Intact Male</th>\n",
       "      <td>74</td>\n",
       "      <td>74</td>\n",
       "      <td>74</td>\n",
       "      <td>74</td>\n",
       "      <td>74</td>\n",
       "      <td>74</td>\n",
       "      <td>74</td>\n",
       "      <td>74</td>\n",
       "      <td>74</td>\n",
       "      <td>74</td>\n",
       "    </tr>\n",
       "    <tr>\n",
       "      <th>Neutered Male</th>\n",
       "      <td>31</td>\n",
       "      <td>31</td>\n",
       "      <td>31</td>\n",
       "      <td>31</td>\n",
       "      <td>31</td>\n",
       "      <td>31</td>\n",
       "      <td>31</td>\n",
       "      <td>31</td>\n",
       "      <td>31</td>\n",
       "      <td>31</td>\n",
       "    </tr>\n",
       "    <tr>\n",
       "      <th>Spayed Female</th>\n",
       "      <td>26</td>\n",
       "      <td>26</td>\n",
       "      <td>26</td>\n",
       "      <td>26</td>\n",
       "      <td>26</td>\n",
       "      <td>26</td>\n",
       "      <td>26</td>\n",
       "      <td>26</td>\n",
       "      <td>26</td>\n",
       "      <td>26</td>\n",
       "    </tr>\n",
       "    <tr>\n",
       "      <th>Unknown</th>\n",
       "      <td>16</td>\n",
       "      <td>16</td>\n",
       "      <td>16</td>\n",
       "      <td>16</td>\n",
       "      <td>16</td>\n",
       "      <td>16</td>\n",
       "      <td>16</td>\n",
       "      <td>16</td>\n",
       "      <td>16</td>\n",
       "      <td>16</td>\n",
       "    </tr>\n",
       "  </tbody>\n",
       "</table>\n",
       "</div>"
      ],
      "text/plain": [
       "                                  animal_id  datetime  monthyear  \\\n",
       "outcome_type    sex_upon_outcome                                   \n",
       "Adoption        Intact Female            10        10         10   \n",
       "                Intact Male               8         8          8   \n",
       "                Neutered Male           316       316        316   \n",
       "                Spayed Female           278       278        278   \n",
       "                Unknown                   3         3          3   \n",
       "Died            Intact Female             1         1          1   \n",
       "                Intact Male               2         2          2   \n",
       "                Neutered Male             1         1          1   \n",
       "                Spayed Female             1         1          1   \n",
       "Disposal        Unknown                   1         1          1   \n",
       "Euthanasia      Intact Female             6         6          6   \n",
       "                Intact Male               5         5          5   \n",
       "                Neutered Male             4         4          4   \n",
       "                Spayed Female             2         2          2   \n",
       "                Unknown                  34        34         34   \n",
       "Return to Owner Intact Female            17        17         17   \n",
       "                Intact Male              20        20         20   \n",
       "                Neutered Male            27        27         27   \n",
       "                Spayed Female            12        12         12   \n",
       "                Unknown                   4         4          4   \n",
       "Rto-Adopt       Neutered Male             9         9          9   \n",
       "                Spayed Female             5         5          5   \n",
       "Transfer        Intact Female            86        86         86   \n",
       "                Intact Male              74        74         74   \n",
       "                Neutered Male            31        31         31   \n",
       "                Spayed Female            26        26         26   \n",
       "                Unknown                  16        16         16   \n",
       "\n",
       "                                  date_of_birth  outcome_subtype  animal_type  \\\n",
       "outcome_type    sex_upon_outcome                                                \n",
       "Adoption        Intact Female                10               10           10   \n",
       "                Intact Male                   8                8            8   \n",
       "                Neutered Male               316              316          316   \n",
       "                Spayed Female               278              278          278   \n",
       "                Unknown                       3                3            3   \n",
       "Died            Intact Female                 1                1            1   \n",
       "                Intact Male                   2                2            2   \n",
       "                Neutered Male                 1                1            1   \n",
       "                Spayed Female                 1                1            1   \n",
       "Disposal        Unknown                       1                1            1   \n",
       "Euthanasia      Intact Female                 6                6            6   \n",
       "                Intact Male                   5                5            5   \n",
       "                Neutered Male                 4                4            4   \n",
       "                Spayed Female                 2                2            2   \n",
       "                Unknown                      34               34           34   \n",
       "Return to Owner Intact Female                17               17           17   \n",
       "                Intact Male                  20               20           20   \n",
       "                Neutered Male                27               27           27   \n",
       "                Spayed Female                12               12           12   \n",
       "                Unknown                       4                4            4   \n",
       "Rto-Adopt       Neutered Male                 9                9            9   \n",
       "                Spayed Female                 5                5            5   \n",
       "Transfer        Intact Female                86               86           86   \n",
       "                Intact Male                  74               74           74   \n",
       "                Neutered Male                31               31           31   \n",
       "                Spayed Female                26               26           26   \n",
       "                Unknown                      16               16           16   \n",
       "\n",
       "                                  age_upon_outcome  breed  color  name  \n",
       "outcome_type    sex_upon_outcome                                        \n",
       "Adoption        Intact Female                   10     10     10    10  \n",
       "                Intact Male                      8      8      8     8  \n",
       "                Neutered Male                  316    316    316   316  \n",
       "                Spayed Female                  278    278    278   278  \n",
       "                Unknown                          3      3      3     3  \n",
       "Died            Intact Female                    1      1      1     1  \n",
       "                Intact Male                      2      2      2     2  \n",
       "                Neutered Male                    1      1      1     1  \n",
       "                Spayed Female                    1      1      1     1  \n",
       "Disposal        Unknown                          1      1      1     1  \n",
       "Euthanasia      Intact Female                    6      6      6     6  \n",
       "                Intact Male                      5      5      5     5  \n",
       "                Neutered Male                    4      4      4     4  \n",
       "                Spayed Female                    2      2      2     2  \n",
       "                Unknown                         34     34     34    34  \n",
       "Return to Owner Intact Female                   17     17     17    17  \n",
       "                Intact Male                     20     20     20    20  \n",
       "                Neutered Male                   27     27     27    27  \n",
       "                Spayed Female                   12     12     12    12  \n",
       "                Unknown                          4      4      4     4  \n",
       "Rto-Adopt       Neutered Male                    9      9      9     9  \n",
       "                Spayed Female                    5      5      5     5  \n",
       "Transfer        Intact Female                   86     86     86    86  \n",
       "                Intact Male                     74     74     74    74  \n",
       "                Neutered Male                   31     31     31    31  \n",
       "                Spayed Female                   26     26     26    26  \n",
       "                Unknown                         16     16     16    16  "
      ]
     },
     "execution_count": 19,
     "metadata": {},
     "output_type": "execute_result"
    }
   ],
   "source": [
    "animals.groupby(by=['outcome_type', 'sex_upon_outcome']).agg(len)"
   ]
  },
  {
   "cell_type": "markdown",
   "metadata": {
    "hidden": true
   },
   "source": [
    "But it has the unsavory side effect of creating a two-level index. This can be a good time to use `.pivot_table()`.\n",
    "\n",
    "(There is also a `.pivot()`. For the somewhat subtle differences, see [here](https://stackoverflow.com/questions/30960338/pandas-difference-between-pivot-and-pivot-table-why-is-only-pivot-table-workin).)"
   ]
  },
  {
   "cell_type": "markdown",
   "metadata": {
    "heading_collapsed": true,
    "hidden": true
   },
   "source": [
    "### Example"
   ]
  },
  {
   "cell_type": "code",
   "execution_count": 9,
   "metadata": {
    "ExecuteTime": {
     "end_time": "2021-10-19T17:54:03.377451Z",
     "start_time": "2021-10-19T17:54:03.365554Z"
    },
    "hidden": true
   },
   "outputs": [
    {
     "data": {
      "text/html": [
       "<div>\n",
       "<style scoped>\n",
       "    .dataframe tbody tr th:only-of-type {\n",
       "        vertical-align: middle;\n",
       "    }\n",
       "\n",
       "    .dataframe tbody tr th {\n",
       "        vertical-align: top;\n",
       "    }\n",
       "\n",
       "    .dataframe thead th {\n",
       "        text-align: right;\n",
       "    }\n",
       "</style>\n",
       "<table border=\"1\" class=\"dataframe\">\n",
       "  <thead>\n",
       "    <tr style=\"text-align: right;\">\n",
       "      <th></th>\n",
       "      <th>sex</th>\n",
       "      <th>num_puppies</th>\n",
       "      <th>breed</th>\n",
       "      <th>past_owners</th>\n",
       "      <th>family_members</th>\n",
       "    </tr>\n",
       "  </thead>\n",
       "  <tbody>\n",
       "    <tr>\n",
       "      <th>0</th>\n",
       "      <td>male</td>\n",
       "      <td>one</td>\n",
       "      <td>terrier</td>\n",
       "      <td>1</td>\n",
       "      <td>2</td>\n",
       "    </tr>\n",
       "    <tr>\n",
       "      <th>1</th>\n",
       "      <td>male</td>\n",
       "      <td>one</td>\n",
       "      <td>retriever</td>\n",
       "      <td>2</td>\n",
       "      <td>4</td>\n",
       "    </tr>\n",
       "    <tr>\n",
       "      <th>2</th>\n",
       "      <td>male</td>\n",
       "      <td>one</td>\n",
       "      <td>retriever</td>\n",
       "      <td>2</td>\n",
       "      <td>5</td>\n",
       "    </tr>\n",
       "    <tr>\n",
       "      <th>3</th>\n",
       "      <td>male</td>\n",
       "      <td>two</td>\n",
       "      <td>terrier</td>\n",
       "      <td>3</td>\n",
       "      <td>5</td>\n",
       "    </tr>\n",
       "    <tr>\n",
       "      <th>4</th>\n",
       "      <td>male</td>\n",
       "      <td>two</td>\n",
       "      <td>terrier</td>\n",
       "      <td>3</td>\n",
       "      <td>6</td>\n",
       "    </tr>\n",
       "    <tr>\n",
       "      <th>5</th>\n",
       "      <td>female</td>\n",
       "      <td>one</td>\n",
       "      <td>retriever</td>\n",
       "      <td>4</td>\n",
       "      <td>6</td>\n",
       "    </tr>\n",
       "    <tr>\n",
       "      <th>6</th>\n",
       "      <td>female</td>\n",
       "      <td>one</td>\n",
       "      <td>terrier</td>\n",
       "      <td>5</td>\n",
       "      <td>8</td>\n",
       "    </tr>\n",
       "    <tr>\n",
       "      <th>7</th>\n",
       "      <td>female</td>\n",
       "      <td>two</td>\n",
       "      <td>terrier</td>\n",
       "      <td>6</td>\n",
       "      <td>9</td>\n",
       "    </tr>\n",
       "    <tr>\n",
       "      <th>8</th>\n",
       "      <td>female</td>\n",
       "      <td>two</td>\n",
       "      <td>retriever</td>\n",
       "      <td>7</td>\n",
       "      <td>9</td>\n",
       "    </tr>\n",
       "  </tbody>\n",
       "</table>\n",
       "</div>"
      ],
      "text/plain": [
       "      sex num_puppies      breed  past_owners  family_members\n",
       "0    male         one    terrier            1               2\n",
       "1    male         one  retriever            2               4\n",
       "2    male         one  retriever            2               5\n",
       "3    male         two    terrier            3               5\n",
       "4    male         two    terrier            3               6\n",
       "5  female         one  retriever            4               6\n",
       "6  female         one    terrier            5               8\n",
       "7  female         two    terrier            6               9\n",
       "8  female         two  retriever            7               9"
      ]
     },
     "execution_count": 9,
     "metadata": {},
     "output_type": "execute_result"
    }
   ],
   "source": [
    "df = pd.DataFrame({\"sex\": [\"male\", \"male\", \"male\", \"male\", \"male\",\n",
    "                          \"female\", \"female\", \"female\", \"female\"],\n",
    "                    \"num_puppies\": [\"one\", \"one\", \"one\", \"two\", \"two\",\n",
    "                          \"one\", \"one\", \"two\", \"two\"],\n",
    "                    \"breed\": [\"terrier\", \"retriever\", \"retriever\", \"terrier\",\n",
    "                          \"terrier\", \"retriever\", \"terrier\", \"terrier\",\n",
    "                          \"retriever\"],\n",
    "                    \"past_owners\": [1, 2, 2, 3, 3, 4, 5, 6, 7],\n",
    "                    \"family_members\": [2, 4, 5, 5, 6, 6, 8, 9, 9]})\n",
    "df"
   ]
  },
  {
   "cell_type": "code",
   "execution_count": 10,
   "metadata": {
    "ExecuteTime": {
     "end_time": "2021-10-19T17:56:09.745425Z",
     "start_time": "2021-10-19T17:56:09.725664Z"
    },
    "hidden": true
   },
   "outputs": [
    {
     "data": {
      "text/html": [
       "<div>\n",
       "<style scoped>\n",
       "    .dataframe tbody tr th:only-of-type {\n",
       "        vertical-align: middle;\n",
       "    }\n",
       "\n",
       "    .dataframe tbody tr th {\n",
       "        vertical-align: top;\n",
       "    }\n",
       "\n",
       "    .dataframe thead th {\n",
       "        text-align: right;\n",
       "    }\n",
       "</style>\n",
       "<table border=\"1\" class=\"dataframe\">\n",
       "  <thead>\n",
       "    <tr style=\"text-align: right;\">\n",
       "      <th></th>\n",
       "      <th>breed</th>\n",
       "      <th>retriever</th>\n",
       "      <th>terrier</th>\n",
       "    </tr>\n",
       "    <tr>\n",
       "      <th>sex</th>\n",
       "      <th>num_puppies</th>\n",
       "      <th></th>\n",
       "      <th></th>\n",
       "    </tr>\n",
       "  </thead>\n",
       "  <tbody>\n",
       "    <tr>\n",
       "      <th rowspan=\"2\" valign=\"top\">female</th>\n",
       "      <th>one</th>\n",
       "      <td>4.0</td>\n",
       "      <td>5.0</td>\n",
       "    </tr>\n",
       "    <tr>\n",
       "      <th>two</th>\n",
       "      <td>7.0</td>\n",
       "      <td>6.0</td>\n",
       "    </tr>\n",
       "    <tr>\n",
       "      <th rowspan=\"2\" valign=\"top\">male</th>\n",
       "      <th>one</th>\n",
       "      <td>4.0</td>\n",
       "      <td>1.0</td>\n",
       "    </tr>\n",
       "    <tr>\n",
       "      <th>two</th>\n",
       "      <td>NaN</td>\n",
       "      <td>6.0</td>\n",
       "    </tr>\n",
       "  </tbody>\n",
       "</table>\n",
       "</div>"
      ],
      "text/plain": [
       "breed               retriever  terrier\n",
       "sex    num_puppies                    \n",
       "female one                4.0      5.0\n",
       "       two                7.0      6.0\n",
       "male   one                4.0      1.0\n",
       "       two                NaN      6.0"
      ]
     },
     "execution_count": 10,
     "metadata": {},
     "output_type": "execute_result"
    }
   ],
   "source": [
    "# This first example aggregates values by taking the sum.\n",
    "\n",
    "table = pd.pivot_table(df, values='past_owners', index=['sex', 'num_puppies'],\n",
    "                     columns=['breed'], aggfunc=np.sum)\n",
    "table"
   ]
  },
  {
   "cell_type": "markdown",
   "metadata": {
    "heading_collapsed": true,
    "hidden": true
   },
   "source": [
    "### Back to Austin animals"
   ]
  },
  {
   "cell_type": "code",
   "execution_count": 22,
   "metadata": {
    "ExecuteTime": {
     "end_time": "2021-10-19T17:57:44.910364Z",
     "start_time": "2021-10-19T17:57:44.847189Z"
    },
    "hidden": true,
    "scrolled": true
   },
   "outputs": [
    {
     "data": {
      "text/html": [
       "<div>\n",
       "<style scoped>\n",
       "    .dataframe tbody tr th:only-of-type {\n",
       "        vertical-align: middle;\n",
       "    }\n",
       "\n",
       "    .dataframe tbody tr th {\n",
       "        vertical-align: top;\n",
       "    }\n",
       "\n",
       "    .dataframe thead tr th {\n",
       "        text-align: left;\n",
       "    }\n",
       "\n",
       "    .dataframe thead tr:last-of-type th {\n",
       "        text-align: right;\n",
       "    }\n",
       "</style>\n",
       "<table border=\"1\" class=\"dataframe\">\n",
       "  <thead>\n",
       "    <tr>\n",
       "      <th></th>\n",
       "      <th colspan=\"5\" halign=\"left\">age_upon_outcome</th>\n",
       "      <th colspan=\"5\" halign=\"left\">animal_id</th>\n",
       "      <th>...</th>\n",
       "      <th colspan=\"5\" halign=\"left\">name</th>\n",
       "      <th colspan=\"5\" halign=\"left\">outcome_subtype</th>\n",
       "    </tr>\n",
       "    <tr>\n",
       "      <th>sex_upon_outcome</th>\n",
       "      <th>Intact Female</th>\n",
       "      <th>Intact Male</th>\n",
       "      <th>Neutered Male</th>\n",
       "      <th>Spayed Female</th>\n",
       "      <th>Unknown</th>\n",
       "      <th>Intact Female</th>\n",
       "      <th>Intact Male</th>\n",
       "      <th>Neutered Male</th>\n",
       "      <th>Spayed Female</th>\n",
       "      <th>Unknown</th>\n",
       "      <th>...</th>\n",
       "      <th>Intact Female</th>\n",
       "      <th>Intact Male</th>\n",
       "      <th>Neutered Male</th>\n",
       "      <th>Spayed Female</th>\n",
       "      <th>Unknown</th>\n",
       "      <th>Intact Female</th>\n",
       "      <th>Intact Male</th>\n",
       "      <th>Neutered Male</th>\n",
       "      <th>Spayed Female</th>\n",
       "      <th>Unknown</th>\n",
       "    </tr>\n",
       "    <tr>\n",
       "      <th>outcome_type</th>\n",
       "      <th></th>\n",
       "      <th></th>\n",
       "      <th></th>\n",
       "      <th></th>\n",
       "      <th></th>\n",
       "      <th></th>\n",
       "      <th></th>\n",
       "      <th></th>\n",
       "      <th></th>\n",
       "      <th></th>\n",
       "      <th></th>\n",
       "      <th></th>\n",
       "      <th></th>\n",
       "      <th></th>\n",
       "      <th></th>\n",
       "      <th></th>\n",
       "      <th></th>\n",
       "      <th></th>\n",
       "      <th></th>\n",
       "      <th></th>\n",
       "      <th></th>\n",
       "    </tr>\n",
       "  </thead>\n",
       "  <tbody>\n",
       "    <tr>\n",
       "      <th>Adoption</th>\n",
       "      <td>10.0</td>\n",
       "      <td>8.0</td>\n",
       "      <td>316.0</td>\n",
       "      <td>278.0</td>\n",
       "      <td>3.0</td>\n",
       "      <td>10.0</td>\n",
       "      <td>8.0</td>\n",
       "      <td>316.0</td>\n",
       "      <td>278.0</td>\n",
       "      <td>3.0</td>\n",
       "      <td>...</td>\n",
       "      <td>10.0</td>\n",
       "      <td>8.0</td>\n",
       "      <td>316.0</td>\n",
       "      <td>278.0</td>\n",
       "      <td>3.0</td>\n",
       "      <td>10.0</td>\n",
       "      <td>8.0</td>\n",
       "      <td>316.0</td>\n",
       "      <td>278.0</td>\n",
       "      <td>3.0</td>\n",
       "    </tr>\n",
       "    <tr>\n",
       "      <th>Died</th>\n",
       "      <td>1.0</td>\n",
       "      <td>2.0</td>\n",
       "      <td>1.0</td>\n",
       "      <td>1.0</td>\n",
       "      <td>NaN</td>\n",
       "      <td>1.0</td>\n",
       "      <td>2.0</td>\n",
       "      <td>1.0</td>\n",
       "      <td>1.0</td>\n",
       "      <td>NaN</td>\n",
       "      <td>...</td>\n",
       "      <td>1.0</td>\n",
       "      <td>2.0</td>\n",
       "      <td>1.0</td>\n",
       "      <td>1.0</td>\n",
       "      <td>NaN</td>\n",
       "      <td>1.0</td>\n",
       "      <td>2.0</td>\n",
       "      <td>1.0</td>\n",
       "      <td>1.0</td>\n",
       "      <td>NaN</td>\n",
       "    </tr>\n",
       "    <tr>\n",
       "      <th>Disposal</th>\n",
       "      <td>NaN</td>\n",
       "      <td>NaN</td>\n",
       "      <td>NaN</td>\n",
       "      <td>NaN</td>\n",
       "      <td>1.0</td>\n",
       "      <td>NaN</td>\n",
       "      <td>NaN</td>\n",
       "      <td>NaN</td>\n",
       "      <td>NaN</td>\n",
       "      <td>1.0</td>\n",
       "      <td>...</td>\n",
       "      <td>NaN</td>\n",
       "      <td>NaN</td>\n",
       "      <td>NaN</td>\n",
       "      <td>NaN</td>\n",
       "      <td>1.0</td>\n",
       "      <td>NaN</td>\n",
       "      <td>NaN</td>\n",
       "      <td>NaN</td>\n",
       "      <td>NaN</td>\n",
       "      <td>1.0</td>\n",
       "    </tr>\n",
       "    <tr>\n",
       "      <th>Euthanasia</th>\n",
       "      <td>6.0</td>\n",
       "      <td>5.0</td>\n",
       "      <td>4.0</td>\n",
       "      <td>2.0</td>\n",
       "      <td>34.0</td>\n",
       "      <td>6.0</td>\n",
       "      <td>5.0</td>\n",
       "      <td>4.0</td>\n",
       "      <td>2.0</td>\n",
       "      <td>34.0</td>\n",
       "      <td>...</td>\n",
       "      <td>6.0</td>\n",
       "      <td>5.0</td>\n",
       "      <td>4.0</td>\n",
       "      <td>2.0</td>\n",
       "      <td>34.0</td>\n",
       "      <td>6.0</td>\n",
       "      <td>5.0</td>\n",
       "      <td>4.0</td>\n",
       "      <td>2.0</td>\n",
       "      <td>34.0</td>\n",
       "    </tr>\n",
       "    <tr>\n",
       "      <th>Return to Owner</th>\n",
       "      <td>17.0</td>\n",
       "      <td>20.0</td>\n",
       "      <td>27.0</td>\n",
       "      <td>12.0</td>\n",
       "      <td>4.0</td>\n",
       "      <td>17.0</td>\n",
       "      <td>20.0</td>\n",
       "      <td>27.0</td>\n",
       "      <td>12.0</td>\n",
       "      <td>4.0</td>\n",
       "      <td>...</td>\n",
       "      <td>17.0</td>\n",
       "      <td>20.0</td>\n",
       "      <td>27.0</td>\n",
       "      <td>12.0</td>\n",
       "      <td>4.0</td>\n",
       "      <td>17.0</td>\n",
       "      <td>20.0</td>\n",
       "      <td>27.0</td>\n",
       "      <td>12.0</td>\n",
       "      <td>4.0</td>\n",
       "    </tr>\n",
       "    <tr>\n",
       "      <th>Rto-Adopt</th>\n",
       "      <td>NaN</td>\n",
       "      <td>NaN</td>\n",
       "      <td>9.0</td>\n",
       "      <td>5.0</td>\n",
       "      <td>NaN</td>\n",
       "      <td>NaN</td>\n",
       "      <td>NaN</td>\n",
       "      <td>9.0</td>\n",
       "      <td>5.0</td>\n",
       "      <td>NaN</td>\n",
       "      <td>...</td>\n",
       "      <td>NaN</td>\n",
       "      <td>NaN</td>\n",
       "      <td>9.0</td>\n",
       "      <td>5.0</td>\n",
       "      <td>NaN</td>\n",
       "      <td>NaN</td>\n",
       "      <td>NaN</td>\n",
       "      <td>9.0</td>\n",
       "      <td>5.0</td>\n",
       "      <td>NaN</td>\n",
       "    </tr>\n",
       "    <tr>\n",
       "      <th>Transfer</th>\n",
       "      <td>86.0</td>\n",
       "      <td>74.0</td>\n",
       "      <td>31.0</td>\n",
       "      <td>26.0</td>\n",
       "      <td>16.0</td>\n",
       "      <td>86.0</td>\n",
       "      <td>74.0</td>\n",
       "      <td>31.0</td>\n",
       "      <td>26.0</td>\n",
       "      <td>16.0</td>\n",
       "      <td>...</td>\n",
       "      <td>86.0</td>\n",
       "      <td>74.0</td>\n",
       "      <td>31.0</td>\n",
       "      <td>26.0</td>\n",
       "      <td>16.0</td>\n",
       "      <td>86.0</td>\n",
       "      <td>74.0</td>\n",
       "      <td>31.0</td>\n",
       "      <td>26.0</td>\n",
       "      <td>16.0</td>\n",
       "    </tr>\n",
       "  </tbody>\n",
       "</table>\n",
       "<p>7 rows × 50 columns</p>\n",
       "</div>"
      ],
      "text/plain": [
       "                 age_upon_outcome                                          \\\n",
       "sex_upon_outcome    Intact Female Intact Male Neutered Male Spayed Female   \n",
       "outcome_type                                                                \n",
       "Adoption                     10.0         8.0         316.0         278.0   \n",
       "Died                          1.0         2.0           1.0           1.0   \n",
       "Disposal                      NaN         NaN           NaN           NaN   \n",
       "Euthanasia                    6.0         5.0           4.0           2.0   \n",
       "Return to Owner              17.0        20.0          27.0          12.0   \n",
       "Rto-Adopt                     NaN         NaN           9.0           5.0   \n",
       "Transfer                     86.0        74.0          31.0          26.0   \n",
       "\n",
       "                             animal_id                            \\\n",
       "sex_upon_outcome Unknown Intact Female Intact Male Neutered Male   \n",
       "outcome_type                                                       \n",
       "Adoption             3.0          10.0         8.0         316.0   \n",
       "Died                 NaN           1.0         2.0           1.0   \n",
       "Disposal             1.0           NaN         NaN           NaN   \n",
       "Euthanasia          34.0           6.0         5.0           4.0   \n",
       "Return to Owner      4.0          17.0        20.0          27.0   \n",
       "Rto-Adopt            NaN           NaN         NaN           9.0   \n",
       "Transfer            16.0          86.0        74.0          31.0   \n",
       "\n",
       "                                        ...          name              \\\n",
       "sex_upon_outcome Spayed Female Unknown  ... Intact Female Intact Male   \n",
       "outcome_type                            ...                             \n",
       "Adoption                 278.0     3.0  ...          10.0         8.0   \n",
       "Died                       1.0     NaN  ...           1.0         2.0   \n",
       "Disposal                   NaN     1.0  ...           NaN         NaN   \n",
       "Euthanasia                 2.0    34.0  ...           6.0         5.0   \n",
       "Return to Owner           12.0     4.0  ...          17.0        20.0   \n",
       "Rto-Adopt                  5.0     NaN  ...           NaN         NaN   \n",
       "Transfer                  26.0    16.0  ...          86.0        74.0   \n",
       "\n",
       "                                                     outcome_subtype  \\\n",
       "sex_upon_outcome Neutered Male Spayed Female Unknown   Intact Female   \n",
       "outcome_type                                                           \n",
       "Adoption                 316.0         278.0     3.0            10.0   \n",
       "Died                       1.0           1.0     NaN             1.0   \n",
       "Disposal                   NaN           NaN     1.0             NaN   \n",
       "Euthanasia                 4.0           2.0    34.0             6.0   \n",
       "Return to Owner           27.0          12.0     4.0            17.0   \n",
       "Rto-Adopt                  9.0           5.0     NaN             NaN   \n",
       "Transfer                  31.0          26.0    16.0            86.0   \n",
       "\n",
       "                                                                  \n",
       "sex_upon_outcome Intact Male Neutered Male Spayed Female Unknown  \n",
       "outcome_type                                                      \n",
       "Adoption                 8.0         316.0         278.0     3.0  \n",
       "Died                     2.0           1.0           1.0     NaN  \n",
       "Disposal                 NaN           NaN           NaN     1.0  \n",
       "Euthanasia               5.0           4.0           2.0    34.0  \n",
       "Return to Owner         20.0          27.0          12.0     4.0  \n",
       "Rto-Adopt                NaN           9.0           5.0     NaN  \n",
       "Transfer                74.0          31.0          26.0    16.0  \n",
       "\n",
       "[7 rows x 50 columns]"
      ]
     },
     "execution_count": 22,
     "metadata": {},
     "output_type": "execute_result"
    }
   ],
   "source": [
    "animals.pivot_table(index='outcome_type', columns='sex_upon_outcome', aggfunc=len)"
   ]
  },
  {
   "cell_type": "markdown",
   "metadata": {
    "heading_collapsed": true,
    "hidden": true
   },
   "source": [
    "## Exercise"
   ]
  },
  {
   "cell_type": "markdown",
   "metadata": {
    "hidden": true
   },
   "source": [
    "Use `.pivot_table()` to add up the number of my tasks by category. \n",
    "\n",
    ">  Hint: Use `sum()` as your aggregating function."
   ]
  },
  {
   "cell_type": "code",
   "execution_count": 12,
   "metadata": {
    "hidden": true
   },
   "outputs": [
    {
     "data": {
      "text/html": [
       "<div>\n",
       "<style scoped>\n",
       "    .dataframe tbody tr th:only-of-type {\n",
       "        vertical-align: middle;\n",
       "    }\n",
       "\n",
       "    .dataframe tbody tr th {\n",
       "        vertical-align: top;\n",
       "    }\n",
       "\n",
       "    .dataframe thead th {\n",
       "        text-align: right;\n",
       "    }\n",
       "</style>\n",
       "<table border=\"1\" class=\"dataframe\">\n",
       "  <thead>\n",
       "    <tr style=\"text-align: right;\">\n",
       "      <th></th>\n",
       "      <th>category</th>\n",
       "      <th>descr</th>\n",
       "      <th>priority</th>\n",
       "      <th>num_tasks</th>\n",
       "    </tr>\n",
       "  </thead>\n",
       "  <tbody>\n",
       "    <tr>\n",
       "      <th>0</th>\n",
       "      <td>house</td>\n",
       "      <td>kitchen</td>\n",
       "      <td>2</td>\n",
       "      <td>2</td>\n",
       "    </tr>\n",
       "    <tr>\n",
       "      <th>1</th>\n",
       "      <td>house</td>\n",
       "      <td>laundry</td>\n",
       "      <td>3</td>\n",
       "      <td>1</td>\n",
       "    </tr>\n",
       "    <tr>\n",
       "      <th>2</th>\n",
       "      <td>school</td>\n",
       "      <td>git</td>\n",
       "      <td>4</td>\n",
       "      <td>2</td>\n",
       "    </tr>\n",
       "    <tr>\n",
       "      <th>3</th>\n",
       "      <td>school</td>\n",
       "      <td>Python</td>\n",
       "      <td>1</td>\n",
       "      <td>3</td>\n",
       "    </tr>\n",
       "  </tbody>\n",
       "</table>\n",
       "</div>"
      ],
      "text/plain": [
       "  category    descr  priority  num_tasks\n",
       "0    house  kitchen         2          2\n",
       "1    house  laundry         3          1\n",
       "2   school      git         4          2\n",
       "3   school   Python         1          3"
      ]
     },
     "execution_count": 12,
     "metadata": {},
     "output_type": "execute_result"
    }
   ],
   "source": [
    "tasks = pd.DataFrame({'category': ['house', 'house', 'school', 'school'],\n",
    "                      'descr': ['kitchen', 'laundry', 'git', 'Python'],\n",
    "                      'priority': [2, 3, 4, 1], 'num_tasks': [2, 1, 2, 3]})\n",
    "\n",
    "tasks"
   ]
  },
  {
   "cell_type": "code",
   "execution_count": 13,
   "metadata": {},
   "outputs": [
    {
     "data": {
      "text/html": [
       "<div>\n",
       "<style scoped>\n",
       "    .dataframe tbody tr th:only-of-type {\n",
       "        vertical-align: middle;\n",
       "    }\n",
       "\n",
       "    .dataframe tbody tr th {\n",
       "        vertical-align: top;\n",
       "    }\n",
       "\n",
       "    .dataframe thead th {\n",
       "        text-align: right;\n",
       "    }\n",
       "</style>\n",
       "<table border=\"1\" class=\"dataframe\">\n",
       "  <thead>\n",
       "    <tr style=\"text-align: right;\">\n",
       "      <th>descr</th>\n",
       "      <th>Python</th>\n",
       "      <th>git</th>\n",
       "      <th>kitchen</th>\n",
       "      <th>laundry</th>\n",
       "    </tr>\n",
       "    <tr>\n",
       "      <th>category</th>\n",
       "      <th></th>\n",
       "      <th></th>\n",
       "      <th></th>\n",
       "      <th></th>\n",
       "    </tr>\n",
       "  </thead>\n",
       "  <tbody>\n",
       "    <tr>\n",
       "      <th>house</th>\n",
       "      <td>NaN</td>\n",
       "      <td>NaN</td>\n",
       "      <td>2.0</td>\n",
       "      <td>1.0</td>\n",
       "    </tr>\n",
       "    <tr>\n",
       "      <th>school</th>\n",
       "      <td>3.0</td>\n",
       "      <td>2.0</td>\n",
       "      <td>NaN</td>\n",
       "      <td>NaN</td>\n",
       "    </tr>\n",
       "  </tbody>\n",
       "</table>\n",
       "</div>"
      ],
      "text/plain": [
       "descr     Python  git  kitchen  laundry\n",
       "category                               \n",
       "house        NaN  NaN      2.0      1.0\n",
       "school       3.0  2.0      NaN      NaN"
      ]
     },
     "execution_count": 13,
     "metadata": {},
     "output_type": "execute_result"
    }
   ],
   "source": [
    "# Enter your code here!\n",
    "table = pd.pivot_table(tasks, values='num_tasks', index=['category'],\n",
    "                     columns=['descr'], aggfunc=np.sum)\n",
    "table\n"
   ]
  },
  {
   "cell_type": "markdown",
   "metadata": {
    "hidden": true
   },
   "source": [
    "<details>\n",
    "    <summary>Answer</summary>\n",
    "\n",
    "```python\n",
    "tasks.pivot_table(values='num_tasks', index='category', aggfunc=sum)\n",
    "```\n",
    "</details>"
   ]
  },
  {
   "cell_type": "markdown",
   "metadata": {
    "heading_collapsed": true
   },
   "source": [
    "# Methods for Combining DataFrames: `.join()`, `.merge()`, `pd.concat()`"
   ]
  },
  {
   "cell_type": "markdown",
   "metadata": {
    "heading_collapsed": true,
    "hidden": true
   },
   "source": [
    "## `.join()`"
   ]
  },
  {
   "cell_type": "code",
   "execution_count": 14,
   "metadata": {
    "ExecuteTime": {
     "end_time": "2021-10-19T20:39:12.283245Z",
     "start_time": "2021-10-19T20:39:12.275431Z"
    },
    "hidden": true
   },
   "outputs": [
    {
     "data": {
      "text/html": [
       "<div>\n",
       "<style scoped>\n",
       "    .dataframe tbody tr th:only-of-type {\n",
       "        vertical-align: middle;\n",
       "    }\n",
       "\n",
       "    .dataframe tbody tr th {\n",
       "        vertical-align: top;\n",
       "    }\n",
       "\n",
       "    .dataframe thead th {\n",
       "        text-align: right;\n",
       "    }\n",
       "</style>\n",
       "<table border=\"1\" class=\"dataframe\">\n",
       "  <thead>\n",
       "    <tr style=\"text-align: right;\">\n",
       "      <th></th>\n",
       "      <th>age</th>\n",
       "      <th>HP</th>\n",
       "    </tr>\n",
       "  </thead>\n",
       "  <tbody>\n",
       "    <tr>\n",
       "      <th>0</th>\n",
       "      <td>63</td>\n",
       "      <td>142</td>\n",
       "    </tr>\n",
       "    <tr>\n",
       "      <th>1</th>\n",
       "      <td>33</td>\n",
       "      <td>47</td>\n",
       "    </tr>\n",
       "  </tbody>\n",
       "</table>\n",
       "</div>"
      ],
      "text/plain": [
       "   age   HP\n",
       "0   63  142\n",
       "1   33   47"
      ]
     },
     "execution_count": 14,
     "metadata": {},
     "output_type": "execute_result"
    }
   ],
   "source": [
    "toy1 = pd.DataFrame([[63, 142], [33, 47]], columns=['age', 'HP'])\n",
    "toy2 = pd.DataFrame([[63, 100], [33, 200]], columns=['age', 'MP'])\n",
    "\n",
    "toy1"
   ]
  },
  {
   "cell_type": "code",
   "execution_count": 15,
   "metadata": {
    "ExecuteTime": {
     "end_time": "2021-10-19T20:32:59.059534Z",
     "start_time": "2021-10-19T20:32:59.053919Z"
    },
    "hidden": true
   },
   "outputs": [
    {
     "data": {
      "text/html": [
       "<div>\n",
       "<style scoped>\n",
       "    .dataframe tbody tr th:only-of-type {\n",
       "        vertical-align: middle;\n",
       "    }\n",
       "\n",
       "    .dataframe tbody tr th {\n",
       "        vertical-align: top;\n",
       "    }\n",
       "\n",
       "    .dataframe thead th {\n",
       "        text-align: right;\n",
       "    }\n",
       "</style>\n",
       "<table border=\"1\" class=\"dataframe\">\n",
       "  <thead>\n",
       "    <tr style=\"text-align: right;\">\n",
       "      <th></th>\n",
       "      <th>age</th>\n",
       "      <th>MP</th>\n",
       "    </tr>\n",
       "  </thead>\n",
       "  <tbody>\n",
       "    <tr>\n",
       "      <th>0</th>\n",
       "      <td>63</td>\n",
       "      <td>100</td>\n",
       "    </tr>\n",
       "    <tr>\n",
       "      <th>1</th>\n",
       "      <td>33</td>\n",
       "      <td>200</td>\n",
       "    </tr>\n",
       "  </tbody>\n",
       "</table>\n",
       "</div>"
      ],
      "text/plain": [
       "   age   MP\n",
       "0   63  100\n",
       "1   33  200"
      ]
     },
     "execution_count": 15,
     "metadata": {},
     "output_type": "execute_result"
    }
   ],
   "source": [
    "toy2"
   ]
  },
  {
   "cell_type": "code",
   "execution_count": 16,
   "metadata": {
    "ExecuteTime": {
     "end_time": "2021-10-19T20:33:38.022933Z",
     "start_time": "2021-10-19T20:33:38.004679Z"
    },
    "hidden": true
   },
   "outputs": [
    {
     "ename": "ValueError",
     "evalue": "columns overlap but no suffix specified: Index(['age'], dtype='object')",
     "output_type": "error",
     "traceback": [
      "\u001b[1;31m---------------------------------------------------------------------------\u001b[0m",
      "\u001b[1;31mValueError\u001b[0m                                Traceback (most recent call last)",
      "\u001b[1;32m~\\AppData\\Local\\Temp\\ipykernel_9636\\4198874827.py\u001b[0m in \u001b[0;36m<module>\u001b[1;34m\u001b[0m\n\u001b[0;32m      1\u001b[0m \u001b[1;31m# We can't just join these as they are, since we haven't specified our suffixes.\u001b[0m\u001b[1;33m\u001b[0m\u001b[1;33m\u001b[0m\u001b[0m\n\u001b[1;32m----> 2\u001b[1;33m \u001b[0mtoy1\u001b[0m\u001b[1;33m.\u001b[0m\u001b[0mjoin\u001b[0m\u001b[1;33m(\u001b[0m\u001b[0mtoy2\u001b[0m\u001b[1;33m)\u001b[0m\u001b[1;33m\u001b[0m\u001b[1;33m\u001b[0m\u001b[0m\n\u001b[0m",
      "\u001b[1;32mC:\\ProgramData\\Anaconda3\\lib\\site-packages\\pandas\\core\\frame.py\u001b[0m in \u001b[0;36mjoin\u001b[1;34m(self, other, on, how, lsuffix, rsuffix, sort)\u001b[0m\n\u001b[0;32m   9261\u001b[0m         \u001b[1;36m5\u001b[0m  \u001b[0mK1\u001b[0m  \u001b[0mA5\u001b[0m   \u001b[0mB1\u001b[0m\u001b[1;33m\u001b[0m\u001b[1;33m\u001b[0m\u001b[0m\n\u001b[0;32m   9262\u001b[0m         \"\"\"\n\u001b[1;32m-> 9263\u001b[1;33m         return self._join_compat(\n\u001b[0m\u001b[0;32m   9264\u001b[0m             \u001b[0mother\u001b[0m\u001b[1;33m,\u001b[0m \u001b[0mon\u001b[0m\u001b[1;33m=\u001b[0m\u001b[0mon\u001b[0m\u001b[1;33m,\u001b[0m \u001b[0mhow\u001b[0m\u001b[1;33m=\u001b[0m\u001b[0mhow\u001b[0m\u001b[1;33m,\u001b[0m \u001b[0mlsuffix\u001b[0m\u001b[1;33m=\u001b[0m\u001b[0mlsuffix\u001b[0m\u001b[1;33m,\u001b[0m \u001b[0mrsuffix\u001b[0m\u001b[1;33m=\u001b[0m\u001b[0mrsuffix\u001b[0m\u001b[1;33m,\u001b[0m \u001b[0msort\u001b[0m\u001b[1;33m=\u001b[0m\u001b[0msort\u001b[0m\u001b[1;33m\u001b[0m\u001b[1;33m\u001b[0m\u001b[0m\n\u001b[0;32m   9265\u001b[0m         )\n",
      "\u001b[1;32mC:\\ProgramData\\Anaconda3\\lib\\site-packages\\pandas\\core\\frame.py\u001b[0m in \u001b[0;36m_join_compat\u001b[1;34m(self, other, on, how, lsuffix, rsuffix, sort)\u001b[0m\n\u001b[0;32m   9292\u001b[0m                     \u001b[0msort\u001b[0m\u001b[1;33m=\u001b[0m\u001b[0msort\u001b[0m\u001b[1;33m,\u001b[0m\u001b[1;33m\u001b[0m\u001b[1;33m\u001b[0m\u001b[0m\n\u001b[0;32m   9293\u001b[0m                 )\n\u001b[1;32m-> 9294\u001b[1;33m             return merge(\n\u001b[0m\u001b[0;32m   9295\u001b[0m                 \u001b[0mself\u001b[0m\u001b[1;33m,\u001b[0m\u001b[1;33m\u001b[0m\u001b[1;33m\u001b[0m\u001b[0m\n\u001b[0;32m   9296\u001b[0m                 \u001b[0mother\u001b[0m\u001b[1;33m,\u001b[0m\u001b[1;33m\u001b[0m\u001b[1;33m\u001b[0m\u001b[0m\n",
      "\u001b[1;32mC:\\ProgramData\\Anaconda3\\lib\\site-packages\\pandas\\core\\reshape\\merge.py\u001b[0m in \u001b[0;36mmerge\u001b[1;34m(left, right, how, on, left_on, right_on, left_index, right_index, sort, suffixes, copy, indicator, validate)\u001b[0m\n\u001b[0;32m    120\u001b[0m         \u001b[0mvalidate\u001b[0m\u001b[1;33m=\u001b[0m\u001b[0mvalidate\u001b[0m\u001b[1;33m,\u001b[0m\u001b[1;33m\u001b[0m\u001b[1;33m\u001b[0m\u001b[0m\n\u001b[0;32m    121\u001b[0m     )\n\u001b[1;32m--> 122\u001b[1;33m     \u001b[1;32mreturn\u001b[0m \u001b[0mop\u001b[0m\u001b[1;33m.\u001b[0m\u001b[0mget_result\u001b[0m\u001b[1;33m(\u001b[0m\u001b[1;33m)\u001b[0m\u001b[1;33m\u001b[0m\u001b[1;33m\u001b[0m\u001b[0m\n\u001b[0m\u001b[0;32m    123\u001b[0m \u001b[1;33m\u001b[0m\u001b[0m\n\u001b[0;32m    124\u001b[0m \u001b[1;33m\u001b[0m\u001b[0m\n",
      "\u001b[1;32mC:\\ProgramData\\Anaconda3\\lib\\site-packages\\pandas\\core\\reshape\\merge.py\u001b[0m in \u001b[0;36mget_result\u001b[1;34m(self)\u001b[0m\n\u001b[0;32m    716\u001b[0m         \u001b[0mjoin_index\u001b[0m\u001b[1;33m,\u001b[0m \u001b[0mleft_indexer\u001b[0m\u001b[1;33m,\u001b[0m \u001b[0mright_indexer\u001b[0m \u001b[1;33m=\u001b[0m \u001b[0mself\u001b[0m\u001b[1;33m.\u001b[0m\u001b[0m_get_join_info\u001b[0m\u001b[1;33m(\u001b[0m\u001b[1;33m)\u001b[0m\u001b[1;33m\u001b[0m\u001b[1;33m\u001b[0m\u001b[0m\n\u001b[0;32m    717\u001b[0m \u001b[1;33m\u001b[0m\u001b[0m\n\u001b[1;32m--> 718\u001b[1;33m         llabels, rlabels = _items_overlap_with_suffix(\n\u001b[0m\u001b[0;32m    719\u001b[0m             \u001b[0mself\u001b[0m\u001b[1;33m.\u001b[0m\u001b[0mleft\u001b[0m\u001b[1;33m.\u001b[0m\u001b[0m_info_axis\u001b[0m\u001b[1;33m,\u001b[0m \u001b[0mself\u001b[0m\u001b[1;33m.\u001b[0m\u001b[0mright\u001b[0m\u001b[1;33m.\u001b[0m\u001b[0m_info_axis\u001b[0m\u001b[1;33m,\u001b[0m \u001b[0mself\u001b[0m\u001b[1;33m.\u001b[0m\u001b[0msuffixes\u001b[0m\u001b[1;33m\u001b[0m\u001b[1;33m\u001b[0m\u001b[0m\n\u001b[0;32m    720\u001b[0m         )\n",
      "\u001b[1;32mC:\\ProgramData\\Anaconda3\\lib\\site-packages\\pandas\\core\\reshape\\merge.py\u001b[0m in \u001b[0;36m_items_overlap_with_suffix\u001b[1;34m(left, right, suffixes)\u001b[0m\n\u001b[0;32m   2315\u001b[0m \u001b[1;33m\u001b[0m\u001b[0m\n\u001b[0;32m   2316\u001b[0m     \u001b[1;32mif\u001b[0m \u001b[1;32mnot\u001b[0m \u001b[0mlsuffix\u001b[0m \u001b[1;32mand\u001b[0m \u001b[1;32mnot\u001b[0m \u001b[0mrsuffix\u001b[0m\u001b[1;33m:\u001b[0m\u001b[1;33m\u001b[0m\u001b[1;33m\u001b[0m\u001b[0m\n\u001b[1;32m-> 2317\u001b[1;33m         \u001b[1;32mraise\u001b[0m \u001b[0mValueError\u001b[0m\u001b[1;33m(\u001b[0m\u001b[1;34mf\"columns overlap but no suffix specified: {to_rename}\"\u001b[0m\u001b[1;33m)\u001b[0m\u001b[1;33m\u001b[0m\u001b[1;33m\u001b[0m\u001b[0m\n\u001b[0m\u001b[0;32m   2318\u001b[0m \u001b[1;33m\u001b[0m\u001b[0m\n\u001b[0;32m   2319\u001b[0m     \u001b[1;32mdef\u001b[0m \u001b[0mrenamer\u001b[0m\u001b[1;33m(\u001b[0m\u001b[0mx\u001b[0m\u001b[1;33m,\u001b[0m \u001b[0msuffix\u001b[0m\u001b[1;33m)\u001b[0m\u001b[1;33m:\u001b[0m\u001b[1;33m\u001b[0m\u001b[1;33m\u001b[0m\u001b[0m\n",
      "\u001b[1;31mValueError\u001b[0m: columns overlap but no suffix specified: Index(['age'], dtype='object')"
     ]
    }
   ],
   "source": [
    "# We can't just join these as they are, since we haven't specified our suffixes.\n",
    "toy1.join(toy2)"
   ]
  },
  {
   "cell_type": "code",
   "execution_count": 17,
   "metadata": {
    "ExecuteTime": {
     "end_time": "2021-10-19T20:35:04.216892Z",
     "start_time": "2021-10-19T20:35:04.209603Z"
    },
    "hidden": true
   },
   "outputs": [
    {
     "data": {
      "text/html": [
       "<div>\n",
       "<style scoped>\n",
       "    .dataframe tbody tr th:only-of-type {\n",
       "        vertical-align: middle;\n",
       "    }\n",
       "\n",
       "    .dataframe tbody tr th {\n",
       "        vertical-align: top;\n",
       "    }\n",
       "\n",
       "    .dataframe thead th {\n",
       "        text-align: right;\n",
       "    }\n",
       "</style>\n",
       "<table border=\"1\" class=\"dataframe\">\n",
       "  <thead>\n",
       "    <tr style=\"text-align: right;\">\n",
       "      <th></th>\n",
       "      <th>age1</th>\n",
       "      <th>HP</th>\n",
       "      <th>age2</th>\n",
       "      <th>MP</th>\n",
       "    </tr>\n",
       "  </thead>\n",
       "  <tbody>\n",
       "    <tr>\n",
       "      <th>0</th>\n",
       "      <td>63</td>\n",
       "      <td>142</td>\n",
       "      <td>63</td>\n",
       "      <td>100</td>\n",
       "    </tr>\n",
       "    <tr>\n",
       "      <th>1</th>\n",
       "      <td>33</td>\n",
       "      <td>47</td>\n",
       "      <td>33</td>\n",
       "      <td>200</td>\n",
       "    </tr>\n",
       "  </tbody>\n",
       "</table>\n",
       "</div>"
      ],
      "text/plain": [
       "   age1   HP  age2   MP\n",
       "0    63  142    63  100\n",
       "1    33   47    33  200"
      ]
     },
     "execution_count": 17,
     "metadata": {},
     "output_type": "execute_result"
    }
   ],
   "source": [
    "toy1.join(toy2, lsuffix='1', rsuffix='2')"
   ]
  },
  {
   "cell_type": "markdown",
   "metadata": {
    "hidden": true
   },
   "source": [
    "If we don't want to keep both, we could set the overlapping column as the index in each DataFrame:"
   ]
  },
  {
   "cell_type": "code",
   "execution_count": 18,
   "metadata": {
    "ExecuteTime": {
     "end_time": "2021-10-19T20:37:45.150718Z",
     "start_time": "2021-10-19T20:37:45.142091Z"
    },
    "hidden": true
   },
   "outputs": [
    {
     "data": {
      "text/html": [
       "<div>\n",
       "<style scoped>\n",
       "    .dataframe tbody tr th:only-of-type {\n",
       "        vertical-align: middle;\n",
       "    }\n",
       "\n",
       "    .dataframe tbody tr th {\n",
       "        vertical-align: top;\n",
       "    }\n",
       "\n",
       "    .dataframe thead th {\n",
       "        text-align: right;\n",
       "    }\n",
       "</style>\n",
       "<table border=\"1\" class=\"dataframe\">\n",
       "  <thead>\n",
       "    <tr style=\"text-align: right;\">\n",
       "      <th></th>\n",
       "      <th>HP</th>\n",
       "      <th>MP</th>\n",
       "    </tr>\n",
       "    <tr>\n",
       "      <th>age</th>\n",
       "      <th></th>\n",
       "      <th></th>\n",
       "    </tr>\n",
       "  </thead>\n",
       "  <tbody>\n",
       "    <tr>\n",
       "      <th>63</th>\n",
       "      <td>142</td>\n",
       "      <td>100</td>\n",
       "    </tr>\n",
       "    <tr>\n",
       "      <th>33</th>\n",
       "      <td>47</td>\n",
       "      <td>200</td>\n",
       "    </tr>\n",
       "  </tbody>\n",
       "</table>\n",
       "</div>"
      ],
      "text/plain": [
       "      HP   MP\n",
       "age          \n",
       "63   142  100\n",
       "33    47  200"
      ]
     },
     "execution_count": 18,
     "metadata": {},
     "output_type": "execute_result"
    }
   ],
   "source": [
    "toy1.set_index('age').join(toy2.set_index('age'))"
   ]
  },
  {
   "cell_type": "code",
   "execution_count": 19,
   "metadata": {
    "ExecuteTime": {
     "end_time": "2021-10-19T20:38:58.220241Z",
     "start_time": "2021-10-19T20:38:58.212516Z"
    }
   },
   "outputs": [
    {
     "data": {
      "text/html": [
       "<div>\n",
       "<style scoped>\n",
       "    .dataframe tbody tr th:only-of-type {\n",
       "        vertical-align: middle;\n",
       "    }\n",
       "\n",
       "    .dataframe tbody tr th {\n",
       "        vertical-align: top;\n",
       "    }\n",
       "\n",
       "    .dataframe thead th {\n",
       "        text-align: right;\n",
       "    }\n",
       "</style>\n",
       "<table border=\"1\" class=\"dataframe\">\n",
       "  <thead>\n",
       "    <tr style=\"text-align: right;\">\n",
       "      <th></th>\n",
       "      <th>HP</th>\n",
       "      <th>age</th>\n",
       "      <th>MP</th>\n",
       "    </tr>\n",
       "  </thead>\n",
       "  <tbody>\n",
       "    <tr>\n",
       "      <th>0</th>\n",
       "      <td>142</td>\n",
       "      <td>63</td>\n",
       "      <td>100</td>\n",
       "    </tr>\n",
       "    <tr>\n",
       "      <th>1</th>\n",
       "      <td>47</td>\n",
       "      <td>33</td>\n",
       "      <td>200</td>\n",
       "    </tr>\n",
       "  </tbody>\n",
       "</table>\n",
       "</div>"
      ],
      "text/plain": [
       "    HP  age   MP\n",
       "0  142   63  100\n",
       "1   47   33  200"
      ]
     },
     "execution_count": 19,
     "metadata": {},
     "output_type": "execute_result"
    }
   ],
   "source": [
    "toy1.drop('age', axis=1).join(toy2)"
   ]
  },
  {
   "cell_type": "markdown",
   "metadata": {
    "hidden": true
   },
   "source": [
    "For more on this method, check out the [doc](https://pandas.pydata.org/pandas-docs/stable/reference/api/pandas.DataFrame.join.html)!"
   ]
  },
  {
   "cell_type": "markdown",
   "metadata": {
    "heading_collapsed": true,
    "hidden": true
   },
   "source": [
    "## `.merge()`"
   ]
  },
  {
   "cell_type": "markdown",
   "metadata": {
    "hidden": true
   },
   "source": [
    "Or we could use `.merge()`:"
   ]
  },
  {
   "cell_type": "code",
   "execution_count": 20,
   "metadata": {
    "ExecuteTime": {
     "end_time": "2021-10-19T20:39:35.579227Z",
     "start_time": "2021-10-19T20:39:35.569212Z"
    },
    "hidden": true
   },
   "outputs": [
    {
     "data": {
      "text/html": [
       "<div>\n",
       "<style scoped>\n",
       "    .dataframe tbody tr th:only-of-type {\n",
       "        vertical-align: middle;\n",
       "    }\n",
       "\n",
       "    .dataframe tbody tr th {\n",
       "        vertical-align: top;\n",
       "    }\n",
       "\n",
       "    .dataframe thead th {\n",
       "        text-align: right;\n",
       "    }\n",
       "</style>\n",
       "<table border=\"1\" class=\"dataframe\">\n",
       "  <thead>\n",
       "    <tr style=\"text-align: right;\">\n",
       "      <th></th>\n",
       "      <th>age</th>\n",
       "      <th>HP</th>\n",
       "      <th>MP</th>\n",
       "    </tr>\n",
       "  </thead>\n",
       "  <tbody>\n",
       "    <tr>\n",
       "      <th>0</th>\n",
       "      <td>63</td>\n",
       "      <td>142</td>\n",
       "      <td>100</td>\n",
       "    </tr>\n",
       "    <tr>\n",
       "      <th>1</th>\n",
       "      <td>33</td>\n",
       "      <td>47</td>\n",
       "      <td>200</td>\n",
       "    </tr>\n",
       "  </tbody>\n",
       "</table>\n",
       "</div>"
      ],
      "text/plain": [
       "   age   HP   MP\n",
       "0   63  142  100\n",
       "1   33   47  200"
      ]
     },
     "execution_count": 20,
     "metadata": {},
     "output_type": "execute_result"
    }
   ],
   "source": [
    "toy1.merge(toy2)"
   ]
  },
  {
   "cell_type": "code",
   "execution_count": 11,
   "metadata": {
    "ExecuteTime": {
     "end_time": "2021-10-19T20:40:13.454287Z",
     "start_time": "2021-10-19T20:40:13.442398Z"
    },
    "hidden": true
   },
   "outputs": [
    {
     "data": {
      "text/html": [
       "<div>\n",
       "<style scoped>\n",
       "    .dataframe tbody tr th:only-of-type {\n",
       "        vertical-align: middle;\n",
       "    }\n",
       "\n",
       "    .dataframe tbody tr th {\n",
       "        vertical-align: top;\n",
       "    }\n",
       "\n",
       "    .dataframe thead th {\n",
       "        text-align: right;\n",
       "    }\n",
       "</style>\n",
       "<table border=\"1\" class=\"dataframe\">\n",
       "  <thead>\n",
       "    <tr style=\"text-align: right;\">\n",
       "      <th></th>\n",
       "      <th>name</th>\n",
       "      <th>HP</th>\n",
       "      <th>home_state</th>\n",
       "    </tr>\n",
       "  </thead>\n",
       "  <tbody>\n",
       "    <tr>\n",
       "      <th>0</th>\n",
       "      <td>greg</td>\n",
       "      <td>200</td>\n",
       "      <td>WA</td>\n",
       "    </tr>\n",
       "    <tr>\n",
       "      <th>1</th>\n",
       "      <td>miles</td>\n",
       "      <td>200</td>\n",
       "      <td>WA</td>\n",
       "    </tr>\n",
       "    <tr>\n",
       "      <th>2</th>\n",
       "      <td>alan</td>\n",
       "      <td>170</td>\n",
       "      <td>TX</td>\n",
       "    </tr>\n",
       "    <tr>\n",
       "      <th>3</th>\n",
       "      <td>alison</td>\n",
       "      <td>300</td>\n",
       "      <td>DC</td>\n",
       "    </tr>\n",
       "    <tr>\n",
       "      <th>4</th>\n",
       "      <td>rachel</td>\n",
       "      <td>200</td>\n",
       "      <td>TX</td>\n",
       "    </tr>\n",
       "  </tbody>\n",
       "</table>\n",
       "</div>"
      ],
      "text/plain": [
       "     name   HP home_state\n",
       "0    greg  200         WA\n",
       "1   miles  200         WA\n",
       "2    alan  170         TX\n",
       "3  alison  300         DC\n",
       "4  rachel  200         TX"
      ]
     },
     "execution_count": 11,
     "metadata": {},
     "output_type": "execute_result"
    }
   ],
   "source": [
    "ds_chars = pd.read_csv('ds_chars.csv', index_col=0)\n",
    "ds_chars"
   ]
  },
  {
   "cell_type": "code",
   "execution_count": 13,
   "metadata": {
    "ExecuteTime": {
     "end_time": "2021-10-19T20:40:24.511814Z",
     "start_time": "2021-10-19T20:40:24.501554Z"
    },
    "hidden": true
   },
   "outputs": [
    {
     "data": {
      "text/html": [
       "<div>\n",
       "<style scoped>\n",
       "    .dataframe tbody tr th:only-of-type {\n",
       "        vertical-align: middle;\n",
       "    }\n",
       "\n",
       "    .dataframe tbody tr th {\n",
       "        vertical-align: top;\n",
       "    }\n",
       "\n",
       "    .dataframe thead th {\n",
       "        text-align: right;\n",
       "    }\n",
       "</style>\n",
       "<table border=\"1\" class=\"dataframe\">\n",
       "  <thead>\n",
       "    <tr style=\"text-align: right;\">\n",
       "      <th></th>\n",
       "      <th>state</th>\n",
       "      <th>nickname</th>\n",
       "      <th>capital</th>\n",
       "    </tr>\n",
       "  </thead>\n",
       "  <tbody>\n",
       "    <tr>\n",
       "      <th>0</th>\n",
       "      <td>WA</td>\n",
       "      <td>evergreen</td>\n",
       "      <td>Olympia</td>\n",
       "    </tr>\n",
       "    <tr>\n",
       "      <th>1</th>\n",
       "      <td>TX</td>\n",
       "      <td>alamo</td>\n",
       "      <td>Austin</td>\n",
       "    </tr>\n",
       "    <tr>\n",
       "      <th>2</th>\n",
       "      <td>DC</td>\n",
       "      <td>district</td>\n",
       "      <td>Washington</td>\n",
       "    </tr>\n",
       "    <tr>\n",
       "      <th>3</th>\n",
       "      <td>OH</td>\n",
       "      <td>buckeye</td>\n",
       "      <td>Columbus</td>\n",
       "    </tr>\n",
       "    <tr>\n",
       "      <th>4</th>\n",
       "      <td>OR</td>\n",
       "      <td>beaver</td>\n",
       "      <td>Salem</td>\n",
       "    </tr>\n",
       "  </tbody>\n",
       "</table>\n",
       "</div>"
      ],
      "text/plain": [
       "  state   nickname     capital\n",
       "0    WA  evergreen     Olympia\n",
       "1    TX      alamo      Austin\n",
       "2    DC   district  Washington\n",
       "3    OH    buckeye    Columbus\n",
       "4    OR     beaver       Salem"
      ]
     },
     "execution_count": 13,
     "metadata": {},
     "output_type": "execute_result"
    }
   ],
   "source": [
    "states = pd.read_csv('states.csv', index_col=0)\n",
    "states"
   ]
  },
  {
   "cell_type": "markdown",
   "metadata": {
    "heading_collapsed": true,
    "hidden": true
   },
   "source": [
    "## The `how` Parameter"
   ]
  },
  {
   "cell_type": "markdown",
   "metadata": {
    "hidden": true
   },
   "source": [
    "This parameter in both `.join()` and `.merge()` tells the compiler what sort of join to effect. We'll cover this in detail when we discuss SQL."
   ]
  },
  {
   "cell_type": "code",
   "execution_count": 14,
   "metadata": {
    "ExecuteTime": {
     "end_time": "2021-10-19T20:42:50.079959Z",
     "start_time": "2021-10-19T20:42:50.070786Z"
    },
    "hidden": true
   },
   "outputs": [
    {
     "data": {
      "text/html": [
       "<div>\n",
       "<style scoped>\n",
       "    .dataframe tbody tr th:only-of-type {\n",
       "        vertical-align: middle;\n",
       "    }\n",
       "\n",
       "    .dataframe tbody tr th {\n",
       "        vertical-align: top;\n",
       "    }\n",
       "\n",
       "    .dataframe thead th {\n",
       "        text-align: right;\n",
       "    }\n",
       "</style>\n",
       "<table border=\"1\" class=\"dataframe\">\n",
       "  <thead>\n",
       "    <tr style=\"text-align: right;\">\n",
       "      <th></th>\n",
       "      <th>name</th>\n",
       "      <th>HP</th>\n",
       "      <th>home_state</th>\n",
       "      <th>state</th>\n",
       "      <th>nickname</th>\n",
       "      <th>capital</th>\n",
       "    </tr>\n",
       "  </thead>\n",
       "  <tbody>\n",
       "    <tr>\n",
       "      <th>0</th>\n",
       "      <td>greg</td>\n",
       "      <td>200</td>\n",
       "      <td>WA</td>\n",
       "      <td>WA</td>\n",
       "      <td>evergreen</td>\n",
       "      <td>Olympia</td>\n",
       "    </tr>\n",
       "    <tr>\n",
       "      <th>1</th>\n",
       "      <td>miles</td>\n",
       "      <td>200</td>\n",
       "      <td>WA</td>\n",
       "      <td>WA</td>\n",
       "      <td>evergreen</td>\n",
       "      <td>Olympia</td>\n",
       "    </tr>\n",
       "    <tr>\n",
       "      <th>2</th>\n",
       "      <td>alan</td>\n",
       "      <td>170</td>\n",
       "      <td>TX</td>\n",
       "      <td>TX</td>\n",
       "      <td>alamo</td>\n",
       "      <td>Austin</td>\n",
       "    </tr>\n",
       "    <tr>\n",
       "      <th>3</th>\n",
       "      <td>rachel</td>\n",
       "      <td>200</td>\n",
       "      <td>TX</td>\n",
       "      <td>TX</td>\n",
       "      <td>alamo</td>\n",
       "      <td>Austin</td>\n",
       "    </tr>\n",
       "    <tr>\n",
       "      <th>4</th>\n",
       "      <td>alison</td>\n",
       "      <td>300</td>\n",
       "      <td>DC</td>\n",
       "      <td>DC</td>\n",
       "      <td>district</td>\n",
       "      <td>Washington</td>\n",
       "    </tr>\n",
       "  </tbody>\n",
       "</table>\n",
       "</div>"
      ],
      "text/plain": [
       "     name   HP home_state state   nickname     capital\n",
       "0    greg  200         WA    WA  evergreen     Olympia\n",
       "1   miles  200         WA    WA  evergreen     Olympia\n",
       "2    alan  170         TX    TX      alamo      Austin\n",
       "3  rachel  200         TX    TX      alamo      Austin\n",
       "4  alison  300         DC    DC   district  Washington"
      ]
     },
     "execution_count": 14,
     "metadata": {},
     "output_type": "execute_result"
    }
   ],
   "source": [
    "ds_chars.merge(states,\n",
    "               left_on='home_state',\n",
    "               right_on='state',\n",
    "               how='inner')"
   ]
  },
  {
   "cell_type": "code",
   "execution_count": 15,
   "metadata": {
    "ExecuteTime": {
     "end_time": "2021-10-19T20:44:39.812038Z",
     "start_time": "2021-10-19T20:44:39.799861Z"
    },
    "hidden": true
   },
   "outputs": [
    {
     "data": {
      "text/html": [
       "<div>\n",
       "<style scoped>\n",
       "    .dataframe tbody tr th:only-of-type {\n",
       "        vertical-align: middle;\n",
       "    }\n",
       "\n",
       "    .dataframe tbody tr th {\n",
       "        vertical-align: top;\n",
       "    }\n",
       "\n",
       "    .dataframe thead th {\n",
       "        text-align: right;\n",
       "    }\n",
       "</style>\n",
       "<table border=\"1\" class=\"dataframe\">\n",
       "  <thead>\n",
       "    <tr style=\"text-align: right;\">\n",
       "      <th></th>\n",
       "      <th>name</th>\n",
       "      <th>HP</th>\n",
       "      <th>home_state</th>\n",
       "      <th>state</th>\n",
       "      <th>nickname</th>\n",
       "      <th>capital</th>\n",
       "    </tr>\n",
       "  </thead>\n",
       "  <tbody>\n",
       "    <tr>\n",
       "      <th>0</th>\n",
       "      <td>greg</td>\n",
       "      <td>200.0</td>\n",
       "      <td>WA</td>\n",
       "      <td>WA</td>\n",
       "      <td>evergreen</td>\n",
       "      <td>Olympia</td>\n",
       "    </tr>\n",
       "    <tr>\n",
       "      <th>1</th>\n",
       "      <td>miles</td>\n",
       "      <td>200.0</td>\n",
       "      <td>WA</td>\n",
       "      <td>WA</td>\n",
       "      <td>evergreen</td>\n",
       "      <td>Olympia</td>\n",
       "    </tr>\n",
       "    <tr>\n",
       "      <th>2</th>\n",
       "      <td>alan</td>\n",
       "      <td>170.0</td>\n",
       "      <td>TX</td>\n",
       "      <td>TX</td>\n",
       "      <td>alamo</td>\n",
       "      <td>Austin</td>\n",
       "    </tr>\n",
       "    <tr>\n",
       "      <th>3</th>\n",
       "      <td>rachel</td>\n",
       "      <td>200.0</td>\n",
       "      <td>TX</td>\n",
       "      <td>TX</td>\n",
       "      <td>alamo</td>\n",
       "      <td>Austin</td>\n",
       "    </tr>\n",
       "    <tr>\n",
       "      <th>4</th>\n",
       "      <td>alison</td>\n",
       "      <td>300.0</td>\n",
       "      <td>DC</td>\n",
       "      <td>DC</td>\n",
       "      <td>district</td>\n",
       "      <td>Washington</td>\n",
       "    </tr>\n",
       "    <tr>\n",
       "      <th>5</th>\n",
       "      <td>NaN</td>\n",
       "      <td>NaN</td>\n",
       "      <td>NaN</td>\n",
       "      <td>OH</td>\n",
       "      <td>buckeye</td>\n",
       "      <td>Columbus</td>\n",
       "    </tr>\n",
       "    <tr>\n",
       "      <th>6</th>\n",
       "      <td>NaN</td>\n",
       "      <td>NaN</td>\n",
       "      <td>NaN</td>\n",
       "      <td>OR</td>\n",
       "      <td>beaver</td>\n",
       "      <td>Salem</td>\n",
       "    </tr>\n",
       "  </tbody>\n",
       "</table>\n",
       "</div>"
      ],
      "text/plain": [
       "     name     HP home_state state   nickname     capital\n",
       "0    greg  200.0         WA    WA  evergreen     Olympia\n",
       "1   miles  200.0         WA    WA  evergreen     Olympia\n",
       "2    alan  170.0         TX    TX      alamo      Austin\n",
       "3  rachel  200.0         TX    TX      alamo      Austin\n",
       "4  alison  300.0         DC    DC   district  Washington\n",
       "5     NaN    NaN        NaN    OH    buckeye    Columbus\n",
       "6     NaN    NaN        NaN    OR     beaver       Salem"
      ]
     },
     "execution_count": 15,
     "metadata": {},
     "output_type": "execute_result"
    }
   ],
   "source": [
    "ds_chars.merge(states,\n",
    "               left_on='home_state',\n",
    "               right_on='state',\n",
    "               how='outer')"
   ]
  },
  {
   "cell_type": "markdown",
   "metadata": {
    "heading_collapsed": true,
    "hidden": true
   },
   "source": [
    "## `pd.concat()`"
   ]
  },
  {
   "cell_type": "markdown",
   "metadata": {
    "hidden": true
   },
   "source": [
    "This method takes a *list* of pandas objects as arguments."
   ]
  },
  {
   "cell_type": "code",
   "execution_count": 16,
   "metadata": {
    "ExecuteTime": {
     "end_time": "2021-10-19T20:47:26.969722Z",
     "start_time": "2021-10-19T20:47:26.958958Z"
    }
   },
   "outputs": [
    {
     "data": {
      "text/html": [
       "<div>\n",
       "<style scoped>\n",
       "    .dataframe tbody tr th:only-of-type {\n",
       "        vertical-align: middle;\n",
       "    }\n",
       "\n",
       "    .dataframe tbody tr th {\n",
       "        vertical-align: top;\n",
       "    }\n",
       "\n",
       "    .dataframe thead th {\n",
       "        text-align: right;\n",
       "    }\n",
       "</style>\n",
       "<table border=\"1\" class=\"dataframe\">\n",
       "  <thead>\n",
       "    <tr style=\"text-align: right;\">\n",
       "      <th></th>\n",
       "      <th>cuisine</th>\n",
       "      <th>genre</th>\n",
       "    </tr>\n",
       "  </thead>\n",
       "  <tbody>\n",
       "    <tr>\n",
       "      <th>0</th>\n",
       "      <td>Greek</td>\n",
       "      <td>horror</td>\n",
       "    </tr>\n",
       "    <tr>\n",
       "      <th>1</th>\n",
       "      <td>Indian</td>\n",
       "      <td>scifi</td>\n",
       "    </tr>\n",
       "    <tr>\n",
       "      <th>2</th>\n",
       "      <td>American</td>\n",
       "      <td>fantasy</td>\n",
       "    </tr>\n",
       "    <tr>\n",
       "      <th>3</th>\n",
       "      <td>Thai</td>\n",
       "      <td>tech</td>\n",
       "    </tr>\n",
       "    <tr>\n",
       "      <th>4</th>\n",
       "      <td>Indian</td>\n",
       "      <td>documentary</td>\n",
       "    </tr>\n",
       "  </tbody>\n",
       "</table>\n",
       "</div>"
      ],
      "text/plain": [
       "    cuisine        genre\n",
       "0     Greek       horror\n",
       "1    Indian        scifi\n",
       "2  American      fantasy\n",
       "3      Thai         tech\n",
       "4    Indian  documentary"
      ]
     },
     "execution_count": 16,
     "metadata": {},
     "output_type": "execute_result"
    }
   ],
   "source": [
    "prefs = pd.read_csv('preferences.csv', index_col=0)\n",
    "prefs"
   ]
  },
  {
   "cell_type": "code",
   "execution_count": 17,
   "metadata": {
    "ExecuteTime": {
     "end_time": "2021-10-19T20:48:19.437909Z",
     "start_time": "2021-10-19T20:48:19.426028Z"
    },
    "hidden": true
   },
   "outputs": [
    {
     "data": {
      "text/html": [
       "<div>\n",
       "<style scoped>\n",
       "    .dataframe tbody tr th:only-of-type {\n",
       "        vertical-align: middle;\n",
       "    }\n",
       "\n",
       "    .dataframe tbody tr th {\n",
       "        vertical-align: top;\n",
       "    }\n",
       "\n",
       "    .dataframe thead th {\n",
       "        text-align: right;\n",
       "    }\n",
       "</style>\n",
       "<table border=\"1\" class=\"dataframe\">\n",
       "  <thead>\n",
       "    <tr style=\"text-align: right;\">\n",
       "      <th></th>\n",
       "      <th>name</th>\n",
       "      <th>HP</th>\n",
       "      <th>home_state</th>\n",
       "      <th>cuisine</th>\n",
       "      <th>genre</th>\n",
       "    </tr>\n",
       "  </thead>\n",
       "  <tbody>\n",
       "    <tr>\n",
       "      <th>0</th>\n",
       "      <td>greg</td>\n",
       "      <td>200.0</td>\n",
       "      <td>WA</td>\n",
       "      <td>NaN</td>\n",
       "      <td>NaN</td>\n",
       "    </tr>\n",
       "    <tr>\n",
       "      <th>1</th>\n",
       "      <td>miles</td>\n",
       "      <td>200.0</td>\n",
       "      <td>WA</td>\n",
       "      <td>NaN</td>\n",
       "      <td>NaN</td>\n",
       "    </tr>\n",
       "    <tr>\n",
       "      <th>2</th>\n",
       "      <td>alan</td>\n",
       "      <td>170.0</td>\n",
       "      <td>TX</td>\n",
       "      <td>NaN</td>\n",
       "      <td>NaN</td>\n",
       "    </tr>\n",
       "    <tr>\n",
       "      <th>3</th>\n",
       "      <td>alison</td>\n",
       "      <td>300.0</td>\n",
       "      <td>DC</td>\n",
       "      <td>NaN</td>\n",
       "      <td>NaN</td>\n",
       "    </tr>\n",
       "    <tr>\n",
       "      <th>4</th>\n",
       "      <td>rachel</td>\n",
       "      <td>200.0</td>\n",
       "      <td>TX</td>\n",
       "      <td>NaN</td>\n",
       "      <td>NaN</td>\n",
       "    </tr>\n",
       "    <tr>\n",
       "      <th>0</th>\n",
       "      <td>NaN</td>\n",
       "      <td>NaN</td>\n",
       "      <td>NaN</td>\n",
       "      <td>Greek</td>\n",
       "      <td>horror</td>\n",
       "    </tr>\n",
       "    <tr>\n",
       "      <th>1</th>\n",
       "      <td>NaN</td>\n",
       "      <td>NaN</td>\n",
       "      <td>NaN</td>\n",
       "      <td>Indian</td>\n",
       "      <td>scifi</td>\n",
       "    </tr>\n",
       "    <tr>\n",
       "      <th>2</th>\n",
       "      <td>NaN</td>\n",
       "      <td>NaN</td>\n",
       "      <td>NaN</td>\n",
       "      <td>American</td>\n",
       "      <td>fantasy</td>\n",
       "    </tr>\n",
       "    <tr>\n",
       "      <th>3</th>\n",
       "      <td>NaN</td>\n",
       "      <td>NaN</td>\n",
       "      <td>NaN</td>\n",
       "      <td>Thai</td>\n",
       "      <td>tech</td>\n",
       "    </tr>\n",
       "    <tr>\n",
       "      <th>4</th>\n",
       "      <td>NaN</td>\n",
       "      <td>NaN</td>\n",
       "      <td>NaN</td>\n",
       "      <td>Indian</td>\n",
       "      <td>documentary</td>\n",
       "    </tr>\n",
       "  </tbody>\n",
       "</table>\n",
       "</div>"
      ],
      "text/plain": [
       "     name     HP home_state   cuisine        genre\n",
       "0    greg  200.0         WA       NaN          NaN\n",
       "1   miles  200.0         WA       NaN          NaN\n",
       "2    alan  170.0         TX       NaN          NaN\n",
       "3  alison  300.0         DC       NaN          NaN\n",
       "4  rachel  200.0         TX       NaN          NaN\n",
       "0     NaN    NaN        NaN     Greek       horror\n",
       "1     NaN    NaN        NaN    Indian        scifi\n",
       "2     NaN    NaN        NaN  American      fantasy\n",
       "3     NaN    NaN        NaN      Thai         tech\n",
       "4     NaN    NaN        NaN    Indian  documentary"
      ]
     },
     "execution_count": 17,
     "metadata": {},
     "output_type": "execute_result"
    }
   ],
   "source": [
    "ds_full = pd.concat([ds_chars, prefs])\n",
    "ds_full"
   ]
  },
  {
   "cell_type": "markdown",
   "metadata": {
    "hidden": true
   },
   "source": [
    "`pd.concat()`–– and many other pandas operations –– make use of an `axis` parameter. For this particular method I need to specify whether I want to concatenate the DataFrames *row-wise* (`axis=0`) or *column-wise* (`axis=1`). The default is `axis=0`, so let's override that!"
   ]
  },
  {
   "cell_type": "code",
   "execution_count": 18,
   "metadata": {
    "ExecuteTime": {
     "end_time": "2021-10-19T20:50:05.446144Z",
     "start_time": "2021-10-19T20:50:05.436061Z"
    },
    "hidden": true
   },
   "outputs": [
    {
     "data": {
      "text/html": [
       "<div>\n",
       "<style scoped>\n",
       "    .dataframe tbody tr th:only-of-type {\n",
       "        vertical-align: middle;\n",
       "    }\n",
       "\n",
       "    .dataframe tbody tr th {\n",
       "        vertical-align: top;\n",
       "    }\n",
       "\n",
       "    .dataframe thead th {\n",
       "        text-align: right;\n",
       "    }\n",
       "</style>\n",
       "<table border=\"1\" class=\"dataframe\">\n",
       "  <thead>\n",
       "    <tr style=\"text-align: right;\">\n",
       "      <th></th>\n",
       "      <th>name</th>\n",
       "      <th>HP</th>\n",
       "      <th>home_state</th>\n",
       "      <th>cuisine</th>\n",
       "      <th>genre</th>\n",
       "    </tr>\n",
       "  </thead>\n",
       "  <tbody>\n",
       "    <tr>\n",
       "      <th>0</th>\n",
       "      <td>greg</td>\n",
       "      <td>200</td>\n",
       "      <td>WA</td>\n",
       "      <td>Greek</td>\n",
       "      <td>horror</td>\n",
       "    </tr>\n",
       "    <tr>\n",
       "      <th>1</th>\n",
       "      <td>miles</td>\n",
       "      <td>200</td>\n",
       "      <td>WA</td>\n",
       "      <td>Indian</td>\n",
       "      <td>scifi</td>\n",
       "    </tr>\n",
       "    <tr>\n",
       "      <th>2</th>\n",
       "      <td>alan</td>\n",
       "      <td>170</td>\n",
       "      <td>TX</td>\n",
       "      <td>American</td>\n",
       "      <td>fantasy</td>\n",
       "    </tr>\n",
       "    <tr>\n",
       "      <th>3</th>\n",
       "      <td>alison</td>\n",
       "      <td>300</td>\n",
       "      <td>DC</td>\n",
       "      <td>Thai</td>\n",
       "      <td>tech</td>\n",
       "    </tr>\n",
       "    <tr>\n",
       "      <th>4</th>\n",
       "      <td>rachel</td>\n",
       "      <td>200</td>\n",
       "      <td>TX</td>\n",
       "      <td>Indian</td>\n",
       "      <td>documentary</td>\n",
       "    </tr>\n",
       "  </tbody>\n",
       "</table>\n",
       "</div>"
      ],
      "text/plain": [
       "     name   HP home_state   cuisine        genre\n",
       "0    greg  200         WA     Greek       horror\n",
       "1   miles  200         WA    Indian        scifi\n",
       "2    alan  170         TX  American      fantasy\n",
       "3  alison  300         DC      Thai         tech\n",
       "4  rachel  200         TX    Indian  documentary"
      ]
     },
     "execution_count": 18,
     "metadata": {},
     "output_type": "execute_result"
    }
   ],
   "source": [
    "ds_full = pd.concat([ds_chars, prefs], axis=1)\n",
    "ds_full"
   ]
  },
  {
   "cell_type": "markdown",
   "metadata": {
    "heading_collapsed": true
   },
   "source": [
    "# King County Assessments"
   ]
  },
  {
   "cell_type": "markdown",
   "metadata": {
    "hidden": true
   },
   "source": [
    "As data scientists, we want to build a model to predict the sale price of a house in Seattle in 2019, based on its square footage. We know that the King County Department of Assessments has comprehensive data available on real property sales in the Seattle area. We need to prepare the data."
   ]
  },
  {
   "cell_type": "markdown",
   "metadata": {
    "heading_collapsed": true,
    "hidden": true
   },
   "source": [
    "## First, get the data!"
   ]
  },
  {
   "cell_type": "markdown",
   "metadata": {
    "hidden": true
   },
   "source": [
    "Go [here](https://info.kingcounty.gov/assessor/DataDownload/default.aspx) and download two files: \"Real Property Sales\" and \"Residential Building\". Then unzip them. (Or you can run the cells below if you prefer.)"
   ]
  },
  {
   "cell_type": "code",
   "execution_count": 19,
   "metadata": {
    "hidden": true
   },
   "outputs": [],
   "source": [
    "# %%bash\n",
    "# cd data\n",
    "# curl -o property_sales.zip https://aqua.kingcounty.gov/extranet/assessor/Real%20Property%20Sales.zip "
   ]
  },
  {
   "cell_type": "code",
   "execution_count": 20,
   "metadata": {
    "hidden": true
   },
   "outputs": [],
   "source": [
    "# %%bash\n",
    "# cd data\n",
    "# curl -o res_bldg.zip https://aqua.kingcounty.gov/extranet/assessor/Residential%20Building.zip "
   ]
  },
  {
   "cell_type": "code",
   "execution_count": 21,
   "metadata": {
    "hidden": true
   },
   "outputs": [],
   "source": [
    "# zf = ZipFile('data/property_sales.zip', 'r')\n",
    "# zf.extractall('data')\n",
    "# zf.close()"
   ]
  },
  {
   "cell_type": "code",
   "execution_count": 22,
   "metadata": {
    "hidden": true
   },
   "outputs": [],
   "source": [
    "# zf = ZipFile('data/res_bldg.zip', 'r')\n",
    "# zf.extractall('data')\n",
    "# zf.close()"
   ]
  },
  {
   "cell_type": "code",
   "execution_count": 5,
   "metadata": {
    "hidden": true,
    "scrolled": true
   },
   "outputs": [
    {
     "name": "stderr",
     "output_type": "stream",
     "text": [
      "C:\\Users\\stils\\AppData\\Local\\Temp\\ipykernel_12444\\111595612.py:7: DtypeWarning: Columns (1,2) have mixed types. Specify dtype option on import or set low_memory=False.\n",
      "  sales_df = pd.read_csv('EXTR_RPSale.csv',\n"
     ]
    }
   ],
   "source": [
    "# You'll need to use a new encoding here. List of all encodings here:\n",
    "# https://docs.python.org/3/library/codecs.html#standard-encodings\n",
    "\n",
    "# Both of these csv files have many columns, so we'll just pre-select\n",
    "# which ones we want to use.\n",
    "\n",
    "sales_df = pd.read_csv('EXTR_RPSale.csv',\n",
    "                       encoding='latin-1',\n",
    "                       usecols=['Major', 'Minor', 'DocumentDate', 'SalePrice'])"
   ]
  },
  {
   "cell_type": "code",
   "execution_count": 6,
   "metadata": {
    "hidden": true
   },
   "outputs": [
    {
     "name": "stdout",
     "output_type": "stream",
     "text": [
      "<class 'pandas.core.frame.DataFrame'>\n",
      "RangeIndex: 2272289 entries, 0 to 2272288\n",
      "Data columns (total 4 columns):\n",
      " #   Column        Dtype \n",
      "---  ------        ----- \n",
      " 0   Major         object\n",
      " 1   Minor         object\n",
      " 2   DocumentDate  object\n",
      " 3   SalePrice     int64 \n",
      "dtypes: int64(1), object(3)\n",
      "memory usage: 69.3+ MB\n"
     ]
    }
   ],
   "source": [
    "sales_df.info()"
   ]
  },
  {
   "cell_type": "code",
   "execution_count": 7,
   "metadata": {
    "hidden": true,
    "scrolled": true
   },
   "outputs": [],
   "source": [
    "bldg_df = pd.read_csv('EXTR_ResBldg.csv',\n",
    "                     usecols=['Major', 'Minor', 'SqFtTotLiving', 'ZipCode'], low_memory=False)"
   ]
  },
  {
   "cell_type": "code",
   "execution_count": 28,
   "metadata": {
    "hidden": true,
    "scrolled": true
   },
   "outputs": [
    {
     "name": "stdout",
     "output_type": "stream",
     "text": [
      "<class 'pandas.core.frame.DataFrame'>\n",
      "RangeIndex: 524532 entries, 0 to 524531\n",
      "Data columns (total 4 columns):\n",
      " #   Column         Non-Null Count   Dtype \n",
      "---  ------         --------------   ----- \n",
      " 0   Major          524532 non-null  int64 \n",
      " 1   Minor          524532 non-null  int64 \n",
      " 2   ZipCode        472780 non-null  object\n",
      " 3   SqFtTotLiving  524532 non-null  int64 \n",
      "dtypes: int64(3), object(1)\n",
      "memory usage: 16.0+ MB\n"
     ]
    }
   ],
   "source": [
    "bldg_df.info()"
   ]
  },
  {
   "cell_type": "code",
   "execution_count": 23,
   "metadata": {
    "hidden": true
   },
   "outputs": [],
   "source": [
    "sales_data = pd.merge(sales_df, bldg_df, on=['Major', 'Minor'])"
   ]
  },
  {
   "cell_type": "code",
   "execution_count": 24,
   "metadata": {
    "hidden": true
   },
   "outputs": [
    {
     "data": {
      "text/html": [
       "<div>\n",
       "<style scoped>\n",
       "    .dataframe tbody tr th:only-of-type {\n",
       "        vertical-align: middle;\n",
       "    }\n",
       "\n",
       "    .dataframe tbody tr th {\n",
       "        vertical-align: top;\n",
       "    }\n",
       "\n",
       "    .dataframe thead th {\n",
       "        text-align: right;\n",
       "    }\n",
       "</style>\n",
       "<table border=\"1\" class=\"dataframe\">\n",
       "  <thead>\n",
       "    <tr style=\"text-align: right;\">\n",
       "      <th></th>\n",
       "      <th>Major</th>\n",
       "      <th>Minor</th>\n",
       "      <th>DocumentDate</th>\n",
       "      <th>SalePrice</th>\n",
       "      <th>ZipCode</th>\n",
       "      <th>SqFtTotLiving</th>\n",
       "    </tr>\n",
       "  </thead>\n",
       "  <tbody>\n",
       "    <tr>\n",
       "      <th>0</th>\n",
       "      <td>4000</td>\n",
       "      <td>228</td>\n",
       "      <td>04/29/1997</td>\n",
       "      <td>103500</td>\n",
       "      <td>98168</td>\n",
       "      <td>1560</td>\n",
       "    </tr>\n",
       "    <tr>\n",
       "      <th>1</th>\n",
       "      <td>4000</td>\n",
       "      <td>228</td>\n",
       "      <td>10/15/2014</td>\n",
       "      <td>221900</td>\n",
       "      <td>98168</td>\n",
       "      <td>1560</td>\n",
       "    </tr>\n",
       "    <tr>\n",
       "      <th>2</th>\n",
       "      <td>4000</td>\n",
       "      <td>228</td>\n",
       "      <td>08/28/2020</td>\n",
       "      <td>0</td>\n",
       "      <td>98168</td>\n",
       "      <td>1560</td>\n",
       "    </tr>\n",
       "    <tr>\n",
       "      <th>3</th>\n",
       "      <td>4000</td>\n",
       "      <td>228</td>\n",
       "      <td>05/06/2005</td>\n",
       "      <td>198000</td>\n",
       "      <td>98168</td>\n",
       "      <td>1560</td>\n",
       "    </tr>\n",
       "    <tr>\n",
       "      <th>4</th>\n",
       "      <td>4000</td>\n",
       "      <td>228</td>\n",
       "      <td>04/26/2019</td>\n",
       "      <td>369000</td>\n",
       "      <td>98168</td>\n",
       "      <td>1560</td>\n",
       "    </tr>\n",
       "  </tbody>\n",
       "</table>\n",
       "</div>"
      ],
      "text/plain": [
       "  Major Minor DocumentDate  SalePrice ZipCode  SqFtTotLiving\n",
       "0  4000   228   04/29/1997     103500   98168           1560\n",
       "1  4000   228   10/15/2014     221900   98168           1560\n",
       "2  4000   228   08/28/2020          0   98168           1560\n",
       "3  4000   228   05/06/2005     198000   98168           1560\n",
       "4  4000   228   04/26/2019     369000   98168           1560"
      ]
     },
     "execution_count": 24,
     "metadata": {},
     "output_type": "execute_result"
    }
   ],
   "source": [
    "sales_data.head()"
   ]
  },
  {
   "cell_type": "code",
   "execution_count": 31,
   "metadata": {
    "hidden": true
   },
   "outputs": [
    {
     "name": "stdout",
     "output_type": "stream",
     "text": [
      "<class 'pandas.core.frame.DataFrame'>\n",
      "Int64Index: 1582806 entries, 0 to 1582805\n",
      "Data columns (total 6 columns):\n",
      " #   Column         Non-Null Count    Dtype \n",
      "---  ------         --------------    ----- \n",
      " 0   Major          1582806 non-null  object\n",
      " 1   Minor          1582806 non-null  object\n",
      " 2   DocumentDate   1582806 non-null  object\n",
      " 3   SalePrice      1582806 non-null  int64 \n",
      " 4   ZipCode        1438996 non-null  object\n",
      " 5   SqFtTotLiving  1582806 non-null  int64 \n",
      "dtypes: int64(2), object(4)\n",
      "memory usage: 84.5+ MB\n"
     ]
    }
   ],
   "source": [
    "sales_data.info()"
   ]
  },
  {
   "cell_type": "markdown",
   "metadata": {
    "hidden": true
   },
   "source": [
    "We can see right away that we're missing ZIP codes for many of the sales transactions."
   ]
  },
  {
   "cell_type": "code",
   "execution_count": 32,
   "metadata": {
    "hidden": true
   },
   "outputs": [
    {
     "data": {
      "text/html": [
       "<div>\n",
       "<style scoped>\n",
       "    .dataframe tbody tr th:only-of-type {\n",
       "        vertical-align: middle;\n",
       "    }\n",
       "\n",
       "    .dataframe tbody tr th {\n",
       "        vertical-align: top;\n",
       "    }\n",
       "\n",
       "    .dataframe thead th {\n",
       "        text-align: right;\n",
       "    }\n",
       "</style>\n",
       "<table border=\"1\" class=\"dataframe\">\n",
       "  <thead>\n",
       "    <tr style=\"text-align: right;\">\n",
       "      <th></th>\n",
       "      <th>Major</th>\n",
       "      <th>Minor</th>\n",
       "      <th>DocumentDate</th>\n",
       "      <th>SalePrice</th>\n",
       "      <th>ZipCode</th>\n",
       "      <th>SqFtTotLiving</th>\n",
       "    </tr>\n",
       "  </thead>\n",
       "  <tbody>\n",
       "    <tr>\n",
       "      <th>34</th>\n",
       "      <td>226700</td>\n",
       "      <td>160</td>\n",
       "      <td>05/08/2003</td>\n",
       "      <td>0</td>\n",
       "      <td>NaN</td>\n",
       "      <td>1560</td>\n",
       "    </tr>\n",
       "    <tr>\n",
       "      <th>35</th>\n",
       "      <td>226700</td>\n",
       "      <td>160</td>\n",
       "      <td>05/11/1996</td>\n",
       "      <td>0</td>\n",
       "      <td>NaN</td>\n",
       "      <td>1560</td>\n",
       "    </tr>\n",
       "    <tr>\n",
       "      <th>36</th>\n",
       "      <td>226700</td>\n",
       "      <td>160</td>\n",
       "      <td>09/08/2011</td>\n",
       "      <td>0</td>\n",
       "      <td>NaN</td>\n",
       "      <td>1560</td>\n",
       "    </tr>\n",
       "    <tr>\n",
       "      <th>37</th>\n",
       "      <td>226700</td>\n",
       "      <td>160</td>\n",
       "      <td>10/09/2018</td>\n",
       "      <td>855000</td>\n",
       "      <td>NaN</td>\n",
       "      <td>1560</td>\n",
       "    </tr>\n",
       "    <tr>\n",
       "      <th>38</th>\n",
       "      <td>226700</td>\n",
       "      <td>160</td>\n",
       "      <td>01/24/2020</td>\n",
       "      <td>0</td>\n",
       "      <td>NaN</td>\n",
       "      <td>1560</td>\n",
       "    </tr>\n",
       "  </tbody>\n",
       "</table>\n",
       "</div>"
      ],
      "text/plain": [
       "     Major Minor DocumentDate  SalePrice ZipCode  SqFtTotLiving\n",
       "34  226700   160   05/08/2003          0     NaN           1560\n",
       "35  226700   160   05/11/1996          0     NaN           1560\n",
       "36  226700   160   09/08/2011          0     NaN           1560\n",
       "37  226700   160   10/09/2018     855000     NaN           1560\n",
       "38  226700   160   01/24/2020          0     NaN           1560"
      ]
     },
     "execution_count": 32,
     "metadata": {},
     "output_type": "execute_result"
    }
   ],
   "source": [
    "sales_data.loc[sales_data['ZipCode'].isna()].head()"
   ]
  },
  {
   "cell_type": "markdown",
   "metadata": {
    "heading_collapsed": true,
    "hidden": true
   },
   "source": [
    "## Exercise"
   ]
  },
  {
   "cell_type": "markdown",
   "metadata": {
    "hidden": true
   },
   "source": [
    "What percentage of housing records are missing ZIP codes?"
   ]
  },
  {
   "cell_type": "code",
   "execution_count": 39,
   "metadata": {
    "hidden": true
   },
   "outputs": [
    {
     "data": {
      "text/plain": [
       "Major            1.000000\n",
       "Minor            1.000000\n",
       "DocumentDate     1.000000\n",
       "SalePrice        1.000000\n",
       "ZipCode          0.909142\n",
       "SqFtTotLiving    1.000000\n",
       "dtype: float64"
      ]
     },
     "execution_count": 39,
     "metadata": {},
     "output_type": "execute_result"
    }
   ],
   "source": [
    "sales_data.count() / sales_data['ZipCode'].isna().count()"
   ]
  },
  {
   "cell_type": "markdown",
   "metadata": {
    "hidden": true
   },
   "source": [
    "<details>\n",
    "    <summary>Answer</summary>\n",
    "\n",
    "```python\n",
    "sales_data['ZipCode'].isna().sum() / sales_data.shape[0]\n",
    "```\n",
    "</details>"
   ]
  },
  {
   "cell_type": "markdown",
   "metadata": {
    "hidden": true
   },
   "source": [
    "Let's drop the rows with missing zip codes."
   ]
  },
  {
   "cell_type": "code",
   "execution_count": 25,
   "metadata": {
    "hidden": true
   },
   "outputs": [
    {
     "data": {
      "text/html": [
       "<div>\n",
       "<style scoped>\n",
       "    .dataframe tbody tr th:only-of-type {\n",
       "        vertical-align: middle;\n",
       "    }\n",
       "\n",
       "    .dataframe tbody tr th {\n",
       "        vertical-align: top;\n",
       "    }\n",
       "\n",
       "    .dataframe thead th {\n",
       "        text-align: right;\n",
       "    }\n",
       "</style>\n",
       "<table border=\"1\" class=\"dataframe\">\n",
       "  <thead>\n",
       "    <tr style=\"text-align: right;\">\n",
       "      <th></th>\n",
       "      <th>Major</th>\n",
       "      <th>Minor</th>\n",
       "      <th>DocumentDate</th>\n",
       "      <th>SalePrice</th>\n",
       "      <th>ZipCode</th>\n",
       "      <th>SqFtTotLiving</th>\n",
       "    </tr>\n",
       "  </thead>\n",
       "  <tbody>\n",
       "    <tr>\n",
       "      <th>0</th>\n",
       "      <td>4000</td>\n",
       "      <td>228</td>\n",
       "      <td>04/29/1997</td>\n",
       "      <td>103500</td>\n",
       "      <td>98168</td>\n",
       "      <td>1560</td>\n",
       "    </tr>\n",
       "    <tr>\n",
       "      <th>1</th>\n",
       "      <td>4000</td>\n",
       "      <td>228</td>\n",
       "      <td>10/15/2014</td>\n",
       "      <td>221900</td>\n",
       "      <td>98168</td>\n",
       "      <td>1560</td>\n",
       "    </tr>\n",
       "    <tr>\n",
       "      <th>2</th>\n",
       "      <td>4000</td>\n",
       "      <td>228</td>\n",
       "      <td>08/28/2020</td>\n",
       "      <td>0</td>\n",
       "      <td>98168</td>\n",
       "      <td>1560</td>\n",
       "    </tr>\n",
       "    <tr>\n",
       "      <th>3</th>\n",
       "      <td>4000</td>\n",
       "      <td>228</td>\n",
       "      <td>05/06/2005</td>\n",
       "      <td>198000</td>\n",
       "      <td>98168</td>\n",
       "      <td>1560</td>\n",
       "    </tr>\n",
       "    <tr>\n",
       "      <th>4</th>\n",
       "      <td>4000</td>\n",
       "      <td>228</td>\n",
       "      <td>04/26/2019</td>\n",
       "      <td>369000</td>\n",
       "      <td>98168</td>\n",
       "      <td>1560</td>\n",
       "    </tr>\n",
       "  </tbody>\n",
       "</table>\n",
       "</div>"
      ],
      "text/plain": [
       "  Major Minor DocumentDate  SalePrice ZipCode  SqFtTotLiving\n",
       "0  4000   228   04/29/1997     103500   98168           1560\n",
       "1  4000   228   10/15/2014     221900   98168           1560\n",
       "2  4000   228   08/28/2020          0   98168           1560\n",
       "3  4000   228   05/06/2005     198000   98168           1560\n",
       "4  4000   228   04/26/2019     369000   98168           1560"
      ]
     },
     "execution_count": 25,
     "metadata": {},
     "output_type": "execute_result"
    }
   ],
   "source": [
    "sales_data = sales_data.loc[~sales_data['ZipCode'].isna(), :]\n",
    "\n",
    "sales_data.head()"
   ]
  },
  {
   "cell_type": "markdown",
   "metadata": {
    "heading_collapsed": true
   },
   "source": [
    "## Data Cleaning Exercises with Pandas"
   ]
  },
  {
   "cell_type": "markdown",
   "metadata": {
    "heading_collapsed": true,
    "hidden": true
   },
   "source": [
    "### Investigate and drop rows with invalid values in the SalePrice and SqFtTotLiving columns."
   ]
  },
  {
   "cell_type": "code",
   "execution_count": 33,
   "metadata": {
    "hidden": true
   },
   "outputs": [
    {
     "data": {
      "text/html": [
       "<div>\n",
       "<style scoped>\n",
       "    .dataframe tbody tr th:only-of-type {\n",
       "        vertical-align: middle;\n",
       "    }\n",
       "\n",
       "    .dataframe tbody tr th {\n",
       "        vertical-align: top;\n",
       "    }\n",
       "\n",
       "    .dataframe thead th {\n",
       "        text-align: right;\n",
       "    }\n",
       "</style>\n",
       "<table border=\"1\" class=\"dataframe\">\n",
       "  <thead>\n",
       "    <tr style=\"text-align: right;\">\n",
       "      <th></th>\n",
       "      <th>Major</th>\n",
       "      <th>Minor</th>\n",
       "      <th>DocumentDate</th>\n",
       "      <th>SalePrice</th>\n",
       "      <th>ZipCode</th>\n",
       "      <th>SqFtTotLiving</th>\n",
       "    </tr>\n",
       "  </thead>\n",
       "  <tbody>\n",
       "    <tr>\n",
       "      <th>189966</th>\n",
       "      <td>941240</td>\n",
       "      <td>165</td>\n",
       "      <td>02/15/2012</td>\n",
       "      <td>0</td>\n",
       "      <td>98118</td>\n",
       "      <td>0</td>\n",
       "    </tr>\n",
       "    <tr>\n",
       "      <th>189968</th>\n",
       "      <td>941240</td>\n",
       "      <td>165</td>\n",
       "      <td>10/28/2011</td>\n",
       "      <td>1000000</td>\n",
       "      <td>98118</td>\n",
       "      <td>0</td>\n",
       "    </tr>\n",
       "    <tr>\n",
       "      <th>189970</th>\n",
       "      <td>941240</td>\n",
       "      <td>165</td>\n",
       "      <td>07/16/2014</td>\n",
       "      <td>1300000</td>\n",
       "      <td>98118</td>\n",
       "      <td>0</td>\n",
       "    </tr>\n",
       "    <tr>\n",
       "      <th>189972</th>\n",
       "      <td>941240</td>\n",
       "      <td>165</td>\n",
       "      <td>11/09/2011</td>\n",
       "      <td>1515000</td>\n",
       "      <td>98118</td>\n",
       "      <td>0</td>\n",
       "    </tr>\n",
       "    <tr>\n",
       "      <th>189974</th>\n",
       "      <td>941240</td>\n",
       "      <td>165</td>\n",
       "      <td>12/01/1986</td>\n",
       "      <td>275000</td>\n",
       "      <td>98118</td>\n",
       "      <td>0</td>\n",
       "    </tr>\n",
       "    <tr>\n",
       "      <th>763296</th>\n",
       "      <td>917960</td>\n",
       "      <td>425</td>\n",
       "      <td>06/12/1991</td>\n",
       "      <td>59000</td>\n",
       "      <td>98030</td>\n",
       "      <td>0</td>\n",
       "    </tr>\n",
       "    <tr>\n",
       "      <th>1071881</th>\n",
       "      <td>351400</td>\n",
       "      <td>25</td>\n",
       "      <td>07/23/2018</td>\n",
       "      <td>0</td>\n",
       "      <td>98146</td>\n",
       "      <td>0</td>\n",
       "    </tr>\n",
       "    <tr>\n",
       "      <th>1071882</th>\n",
       "      <td>351400</td>\n",
       "      <td>25</td>\n",
       "      <td>07/23/2018</td>\n",
       "      <td>0</td>\n",
       "      <td>98146</td>\n",
       "      <td>0</td>\n",
       "    </tr>\n",
       "    <tr>\n",
       "      <th>1071883</th>\n",
       "      <td>351400</td>\n",
       "      <td>25</td>\n",
       "      <td>10/12/2022</td>\n",
       "      <td>376000</td>\n",
       "      <td>98146</td>\n",
       "      <td>0</td>\n",
       "    </tr>\n",
       "    <tr>\n",
       "      <th>1276084</th>\n",
       "      <td>501500</td>\n",
       "      <td>140</td>\n",
       "      <td>06/11/2003</td>\n",
       "      <td>310000</td>\n",
       "      <td>98112</td>\n",
       "      <td>0</td>\n",
       "    </tr>\n",
       "    <tr>\n",
       "      <th>1276085</th>\n",
       "      <td>501500</td>\n",
       "      <td>140</td>\n",
       "      <td>06/18/2013</td>\n",
       "      <td>0</td>\n",
       "      <td>98112</td>\n",
       "      <td>0</td>\n",
       "    </tr>\n",
       "    <tr>\n",
       "      <th>1276086</th>\n",
       "      <td>501500</td>\n",
       "      <td>140</td>\n",
       "      <td>08/14/2009</td>\n",
       "      <td>0</td>\n",
       "      <td>98112</td>\n",
       "      <td>0</td>\n",
       "    </tr>\n",
       "  </tbody>\n",
       "</table>\n",
       "</div>"
      ],
      "text/plain": [
       "          Major Minor DocumentDate  SalePrice ZipCode  SqFtTotLiving\n",
       "189966   941240   165   02/15/2012          0   98118              0\n",
       "189968   941240   165   10/28/2011    1000000   98118              0\n",
       "189970   941240   165   07/16/2014    1300000   98118              0\n",
       "189972   941240   165   11/09/2011    1515000   98118              0\n",
       "189974   941240   165   12/01/1986     275000   98118              0\n",
       "763296   917960   425   06/12/1991      59000   98030              0\n",
       "1071881  351400    25   07/23/2018          0   98146              0\n",
       "1071882  351400    25   07/23/2018          0   98146              0\n",
       "1071883  351400    25   10/12/2022     376000   98146              0\n",
       "1276084  501500   140   06/11/2003     310000   98112              0\n",
       "1276085  501500   140   06/18/2013          0   98112              0\n",
       "1276086  501500   140   08/14/2009          0   98112              0"
      ]
     },
     "execution_count": 33,
     "metadata": {},
     "output_type": "execute_result"
    }
   ],
   "source": [
    "# What does invalid values mean?  Nothing is returned when I use .isna().\n",
    "missingSales = sales_data[sales_data['SalePrice'] <= 0]\n",
    "missingSales\n",
    "missingSqFt = sales_data[sales_data['SqFtTotLiving'] <= 0]\n",
    "missingSqFt\n"
   ]
  },
  {
   "cell_type": "markdown",
   "metadata": {
    "hidden": true
   },
   "source": [
    "<details>\n",
    "    <summary>One possible answer here</summary>\n",
    "\n",
    "```python\n",
    "sales_data = sales_data[sales_data['SalePrice'] > 10000]\n",
    "```\n",
    "</details>"
   ]
  },
  {
   "cell_type": "markdown",
   "metadata": {
    "heading_collapsed": true,
    "hidden": true
   },
   "source": [
    "### Investigate and handle non-numeric ZipCode values"
   ]
  },
  {
   "cell_type": "markdown",
   "metadata": {
    "hidden": true
   },
   "source": [
    "Can you find a way to shorten ZIP+4 codes to the first five digits?"
   ]
  },
  {
   "cell_type": "code",
   "execution_count": 39,
   "metadata": {
    "hidden": true
   },
   "outputs": [
    {
     "data": {
      "text/plain": [
       "12624    98199-3014\n",
       "12625    98199-3014\n",
       "12626    98199-3014\n",
       "21745    98028-8908\n",
       "21746    98028-8908\n",
       "Name: ZipCode, dtype: object"
      ]
     },
     "execution_count": 39,
     "metadata": {},
     "output_type": "execute_result"
    }
   ],
   "source": [
    "def is_integer(x):\n",
    "    try:\n",
    "        _ = int(x)\n",
    "    except ValueError:\n",
    "        return False\n",
    "    return True\n",
    "\n",
    "sales_data.loc[sales_data['ZipCode'].apply(is_integer) == False, 'ZipCode'].head()"
   ]
  },
  {
   "cell_type": "code",
   "execution_count": 41,
   "metadata": {
    "hidden": true
   },
   "outputs": [
    {
     "name": "stderr",
     "output_type": "stream",
     "text": [
      "C:\\Users\\stils\\AppData\\Local\\Temp\\ipykernel_12444\\4117746564.py:7: SettingWithCopyWarning: \n",
      "A value is trying to be set on a copy of a slice from a DataFrame.\n",
      "Try using .loc[row_indexer,col_indexer] = value instead\n",
      "\n",
      "See the caveats in the documentation: https://pandas.pydata.org/pandas-docs/stable/user_guide/indexing.html#returning-a-view-versus-a-copy\n",
      "  sales_data['ZipCode'] = sales_data['ZipCode'].map(five_digit_ZIP)\n"
     ]
    }
   ],
   "source": [
    "def five_digit_ZIP(x):\n",
    "    try:\n",
    "        return int(str(x)[:5])\n",
    "    except:\n",
    "        return x\n",
    "\n",
    "sales_data['ZipCode'] = sales_data['ZipCode'].map(five_digit_ZIP)\n",
    "sales_data = sales_data.loc[sales_data['ZipCode'].apply(is_integer) == True, :]\n",
    "sales_data['ZipCode'] = sales_data['ZipCode'].map(int)"
   ]
  },
  {
   "cell_type": "markdown",
   "metadata": {
    "hidden": true
   },
   "source": [
    "<details>\n",
    "    <summary>One possible answer here</summary>\n",
    "\n",
    "```python\n",
    "def five_digit_ZIP(x):\n",
    "    try:\n",
    "        return int(str(x)[:5])\n",
    "    except:\n",
    "        return x\n",
    "    \n",
    "sales_data['ZipCode'] = sales_data['ZipCode'].map(five_digit_ZIP)\n",
    "sales_data = sales_data.loc[sales_data['ZipCode'].apply(is_integer) == True, :]\n",
    "sales_data['ZipCode'] = sales_data['ZipCode'].map(int)\n",
    "```\n",
    "</details>"
   ]
  },
  {
   "cell_type": "markdown",
   "metadata": {
    "heading_collapsed": true,
    "hidden": true
   },
   "source": [
    "### Add a column for PricePerSqFt"
   ]
  },
  {
   "cell_type": "code",
   "execution_count": 43,
   "metadata": {
    "hidden": true
   },
   "outputs": [
    {
     "data": {
      "text/plain": [
       "0           66.346154\n",
       "1          142.243590\n",
       "2            0.000000\n",
       "3          126.923077\n",
       "4          236.538462\n",
       "              ...    \n",
       "1582800     89.714286\n",
       "1582802    216.494845\n",
       "1582803    416.666667\n",
       "1582804      0.000000\n",
       "1582805     77.464789\n",
       "Name: PricePerSqFt, Length: 1438968, dtype: float64"
      ]
     },
     "execution_count": 43,
     "metadata": {},
     "output_type": "execute_result"
    }
   ],
   "source": [
    "sales_data['PricePerSqFt'] = sales_data['SalePrice'] / sales_data['SqFtTotLiving']\n",
    "sales_data['PricePerSqFt']"
   ]
  },
  {
   "cell_type": "markdown",
   "metadata": {
    "hidden": true
   },
   "source": [
    "<details>\n",
    "    <summary>Answer here</summary>\n",
    "\n",
    "```python\n",
    "sales_data['PricePerSqFt'] = sales_data['SalePrice'] / sales_data['SqFtTotLiving']\n",
    "```\n",
    "</details>"
   ]
  },
  {
   "cell_type": "markdown",
   "metadata": {
    "heading_collapsed": true,
    "hidden": true
   },
   "source": [
    "### Subset the data to 2021 sales only"
   ]
  },
  {
   "cell_type": "markdown",
   "metadata": {
    "hidden": true
   },
   "source": [
    "We can assume that the DocumentDate is approximately the sale date."
   ]
  },
  {
   "cell_type": "code",
   "execution_count": 44,
   "metadata": {
    "hidden": true
   },
   "outputs": [
    {
     "data": {
      "text/html": [
       "<div>\n",
       "<style scoped>\n",
       "    .dataframe tbody tr th:only-of-type {\n",
       "        vertical-align: middle;\n",
       "    }\n",
       "\n",
       "    .dataframe tbody tr th {\n",
       "        vertical-align: top;\n",
       "    }\n",
       "\n",
       "    .dataframe thead th {\n",
       "        text-align: right;\n",
       "    }\n",
       "</style>\n",
       "<table border=\"1\" class=\"dataframe\">\n",
       "  <thead>\n",
       "    <tr style=\"text-align: right;\">\n",
       "      <th></th>\n",
       "      <th>Major</th>\n",
       "      <th>Minor</th>\n",
       "      <th>DocumentDate</th>\n",
       "      <th>SalePrice</th>\n",
       "      <th>ZipCode</th>\n",
       "      <th>SqFtTotLiving</th>\n",
       "      <th>PricePerSqFt</th>\n",
       "    </tr>\n",
       "  </thead>\n",
       "  <tbody>\n",
       "    <tr>\n",
       "      <th>26</th>\n",
       "      <td>739930</td>\n",
       "      <td>360</td>\n",
       "      <td>2022-05-24</td>\n",
       "      <td>675000</td>\n",
       "      <td>98055</td>\n",
       "      <td>1180</td>\n",
       "      <td>572.033898</td>\n",
       "    </tr>\n",
       "    <tr>\n",
       "      <th>44</th>\n",
       "      <td>891050</td>\n",
       "      <td>230</td>\n",
       "      <td>2021-12-13</td>\n",
       "      <td>920000</td>\n",
       "      <td>98133</td>\n",
       "      <td>2770</td>\n",
       "      <td>332.129964</td>\n",
       "    </tr>\n",
       "    <tr>\n",
       "      <th>46</th>\n",
       "      <td>891050</td>\n",
       "      <td>230</td>\n",
       "      <td>2021-12-28</td>\n",
       "      <td>0</td>\n",
       "      <td>98133</td>\n",
       "      <td>2770</td>\n",
       "      <td>0.000000</td>\n",
       "    </tr>\n",
       "    <tr>\n",
       "      <th>52</th>\n",
       "      <td>118000</td>\n",
       "      <td>275</td>\n",
       "      <td>2021-09-29</td>\n",
       "      <td>311000</td>\n",
       "      <td>98178</td>\n",
       "      <td>2880</td>\n",
       "      <td>107.986111</td>\n",
       "    </tr>\n",
       "    <tr>\n",
       "      <th>117</th>\n",
       "      <td>952810</td>\n",
       "      <td>2996</td>\n",
       "      <td>2022-08-17</td>\n",
       "      <td>800000</td>\n",
       "      <td>98115</td>\n",
       "      <td>1540</td>\n",
       "      <td>519.480519</td>\n",
       "    </tr>\n",
       "    <tr>\n",
       "      <th>...</th>\n",
       "      <td>...</td>\n",
       "      <td>...</td>\n",
       "      <td>...</td>\n",
       "      <td>...</td>\n",
       "      <td>...</td>\n",
       "      <td>...</td>\n",
       "      <td>...</td>\n",
       "    </tr>\n",
       "    <tr>\n",
       "      <th>1582722</th>\n",
       "      <td>894510</td>\n",
       "      <td>220</td>\n",
       "      <td>2021-03-12</td>\n",
       "      <td>436000</td>\n",
       "      <td>98023</td>\n",
       "      <td>1730</td>\n",
       "      <td>252.023121</td>\n",
       "    </tr>\n",
       "    <tr>\n",
       "      <th>1582753</th>\n",
       "      <td>808190</td>\n",
       "      <td>170</td>\n",
       "      <td>2022-03-29</td>\n",
       "      <td>2650000</td>\n",
       "      <td>98117</td>\n",
       "      <td>3270</td>\n",
       "      <td>810.397554</td>\n",
       "    </tr>\n",
       "    <tr>\n",
       "      <th>1582777</th>\n",
       "      <td>124500</td>\n",
       "      <td>1380</td>\n",
       "      <td>2022-06-06</td>\n",
       "      <td>0</td>\n",
       "      <td>98033</td>\n",
       "      <td>1910</td>\n",
       "      <td>0.000000</td>\n",
       "    </tr>\n",
       "    <tr>\n",
       "      <th>1582794</th>\n",
       "      <td>286560</td>\n",
       "      <td>230</td>\n",
       "      <td>2022-02-28</td>\n",
       "      <td>665000</td>\n",
       "      <td>98001</td>\n",
       "      <td>2100</td>\n",
       "      <td>316.666667</td>\n",
       "    </tr>\n",
       "    <tr>\n",
       "      <th>1582803</th>\n",
       "      <td>955780</td>\n",
       "      <td>100</td>\n",
       "      <td>2022-04-29</td>\n",
       "      <td>500000</td>\n",
       "      <td>98148</td>\n",
       "      <td>1200</td>\n",
       "      <td>416.666667</td>\n",
       "    </tr>\n",
       "  </tbody>\n",
       "</table>\n",
       "<p>80384 rows × 7 columns</p>\n",
       "</div>"
      ],
      "text/plain": [
       "          Major Minor DocumentDate  SalePrice  ZipCode  SqFtTotLiving  \\\n",
       "26       739930   360   2022-05-24     675000    98055           1180   \n",
       "44       891050   230   2021-12-13     920000    98133           2770   \n",
       "46       891050   230   2021-12-28          0    98133           2770   \n",
       "52       118000   275   2021-09-29     311000    98178           2880   \n",
       "117      952810  2996   2022-08-17     800000    98115           1540   \n",
       "...         ...   ...          ...        ...      ...            ...   \n",
       "1582722  894510   220   2021-03-12     436000    98023           1730   \n",
       "1582753  808190   170   2022-03-29    2650000    98117           3270   \n",
       "1582777  124500  1380   2022-06-06          0    98033           1910   \n",
       "1582794  286560   230   2022-02-28     665000    98001           2100   \n",
       "1582803  955780   100   2022-04-29     500000    98148           1200   \n",
       "\n",
       "         PricePerSqFt  \n",
       "26         572.033898  \n",
       "44         332.129964  \n",
       "46           0.000000  \n",
       "52         107.986111  \n",
       "117        519.480519  \n",
       "...               ...  \n",
       "1582722    252.023121  \n",
       "1582753    810.397554  \n",
       "1582777      0.000000  \n",
       "1582794    316.666667  \n",
       "1582803    416.666667  \n",
       "\n",
       "[80384 rows x 7 columns]"
      ]
     },
     "execution_count": 44,
     "metadata": {},
     "output_type": "execute_result"
    }
   ],
   "source": [
    "sales_data['DocumentDate'] = pd.to_datetime(sales_data['DocumentDate'])\n",
    "sales_data = sales_data.loc[sales_data['DocumentDate'] > '12/31/2020']\n",
    "sales_data"
   ]
  },
  {
   "cell_type": "markdown",
   "metadata": {
    "hidden": true
   },
   "source": [
    "<details>\n",
    "    <summary>Answer here</summary>\n",
    "\n",
    "```python\n",
    "sales_data['DocumentDate'] = pd.to_datetime(sales_data['DocumentDate'])\n",
    "sales_data = sales_data.loc[sales_data['DocumentDate'] > '12/31/2020']\n",
    "```\n",
    "</details>"
   ]
  },
  {
   "cell_type": "markdown",
   "metadata": {
    "heading_collapsed": true,
    "hidden": true
   },
   "source": [
    "### What is the mean price per square foot for a house sold in Seattle in 2021?"
   ]
  },
  {
   "cell_type": "code",
   "execution_count": 45,
   "metadata": {
    "hidden": true
   },
   "outputs": [
    {
     "data": {
      "text/plain": [
       "inf"
      ]
     },
     "execution_count": 45,
     "metadata": {},
     "output_type": "execute_result"
    }
   ],
   "source": [
    "sales_data['PricePerSqFt'].mean()"
   ]
  },
  {
   "cell_type": "markdown",
   "metadata": {
    "hidden": true
   },
   "source": [
    "<details>\n",
    "    <summary>Answer here</summary>\n",
    "\n",
    "```python\n",
    "sales_data['PricePerSqFt'].mean()\n",
    "```\n",
    "</details>"
   ]
  }
 ],
 "metadata": {
  "hide_input": false,
  "kernelspec": {
   "display_name": "Python 3 (ipykernel)",
   "language": "python",
   "name": "python3"
  },
  "language_info": {
   "codemirror_mode": {
    "name": "ipython",
    "version": 3
   },
   "file_extension": ".py",
   "mimetype": "text/x-python",
   "name": "python",
   "nbconvert_exporter": "python",
   "pygments_lexer": "ipython3",
   "version": "3.9.13"
  },
  "latex_envs": {
   "LaTeX_envs_menu_present": true,
   "autoclose": false,
   "autocomplete": true,
   "bibliofile": "biblio.bib",
   "cite_by": "apalike",
   "current_citInitial": 1,
   "eqLabelWithNumbers": true,
   "eqNumInitial": 1,
   "hotkeys": {
    "equation": "Ctrl-E",
    "itemize": "Ctrl-I"
   },
   "labels_anchors": false,
   "latex_user_defs": false,
   "report_style_numbering": false,
   "user_envs_cfg": false
  },
  "nbTranslate": {
   "displayLangs": [
    "*"
   ],
   "hotkey": "alt-t",
   "langInMainMenu": true,
   "sourceLang": "en",
   "targetLang": "fr",
   "useGoogleTranslate": true
  },
  "toc": {
   "base_numbering": 1,
   "nav_menu": {},
   "number_sections": true,
   "sideBar": true,
   "skip_h1_title": false,
   "title_cell": "Table of Contents",
   "title_sidebar": "TOC",
   "toc_cell": true,
   "toc_position": {
    "height": "calc(100% - 180px)",
    "left": "10px",
    "top": "150px",
    "width": "288px"
   },
   "toc_section_display": true,
   "toc_window_display": false
  },
  "varInspector": {
   "cols": {
    "lenName": 16,
    "lenType": 16,
    "lenVar": 40
   },
   "kernels_config": {
    "python": {
     "delete_cmd_postfix": "",
     "delete_cmd_prefix": "del ",
     "library": "var_list.py",
     "varRefreshCmd": "print(var_dic_list())"
    },
    "r": {
     "delete_cmd_postfix": ") ",
     "delete_cmd_prefix": "rm(",
     "library": "var_list.r",
     "varRefreshCmd": "cat(var_dic_list()) "
    }
   },
   "types_to_exclude": [
    "module",
    "function",
    "builtin_function_or_method",
    "instance",
    "_Feature"
   ],
   "window_display": false
  }
 },
 "nbformat": 4,
 "nbformat_minor": 2
}
