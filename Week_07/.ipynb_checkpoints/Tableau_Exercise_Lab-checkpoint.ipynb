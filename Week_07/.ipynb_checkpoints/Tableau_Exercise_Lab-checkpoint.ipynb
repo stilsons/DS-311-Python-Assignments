{
 "cells": [
  {
   "cell_type": "markdown",
   "id": "e3b2424f",
   "metadata": {
    "ExecuteTime": {
     "end_time": "2022-01-05T18:47:48.939740Z",
     "start_time": "2022-01-05T18:47:48.935276Z"
    }
   },
   "source": [
    "<img src=\"https://raw.githubusercontent.com/flatiron-school/Online-DS-FT-022221-Cohort-Notes/master/Phase_5/tableau/images/tableau_cmyk_2015.png\" width=50%>\n",
    "\n",
    "# Tableau Fundamentals\n",
    "\n",
    "## Topics\n",
    "- Tableau vs Tableau Public\n",
    "- Installing Tableau Public\n",
    "- Loading Data Files \n",
    "- Key Vocabulary\n",
    "- Making Several Types of Plots\n",
    "    - Scatter Plots with Trendlines\n",
    "    - Histograms/Grouped Histogram\n",
    "    - Map scatter plot \n",
    "    - Map Shaded Area Plot\n",
    "- Customizing Plots\n",
    "- Your Tableau Profile\n",
    "\n",
    "## Tableau vs Tableau Public\n",
    "\n",
    "- Tableau Public is the free version of Tableau.\n",
    "- They are VERY similar, but there are important distinctions:\n",
    "    - Data Access\n",
    "        - Tableau can access SQL servers\n",
    "        - Tableau Public cannot.\n",
    "    - Saving Projects:\n",
    "        - Tableau can save and load projects locally.\n",
    "        - Tableau Public can only save to the cloud\n",
    "        \n",
    "## Installing Tableau Public\n",
    "\n",
    "- https://public.tableau.com/en-us/s/\n",
    "\n",
    "## Loading Data\n",
    "\n",
    "- Tableau Public can load data from many file types:\n",
    "    - Excel\n",
    "    - Text Files (csv,tsv)\n",
    "    - JSON Files\n",
    "    - Google Sheets\n",
    "    - etc.\n",
    "    \n",
    "- We will download the 2 csv's we will be using into this repo's folder.\n",
    "\n",
    "## Basic Tableau Terminology\n",
    "\n",
    "- Dimensions: \n",
    "    - categorical features/independent variables\n",
    "    - Show up in Blue on Columns/Row view\n",
    "\n",
    "- Measures: \n",
    "    - numeric features / dependent variables.\n",
    "    - Measures get aggregated (SUM, MEAN,etc)\n",
    "    - Shows up in Green on Columns/Row View\n",
    "\n",
    "- Attributes\n",
    "    - ??? (surprisingly hard to find a definition)\n",
    "    - See [this blog post](http://paintbynumbersblog.blogspot.com/2013/04/a-handy-use-of-attributes-in-tableau.html) for an example of when you'd want to make something an Attribute."
   ]
  },
  {
   "cell_type": "markdown",
   "id": "072acefc",
   "metadata": {},
   "source": [
    "## King's County Tasks\n",
    "\n",
    "### Load in \"kings_county_data.csv\"\n",
    "\n",
    "- Open Tableau Public and load up the first housing regression dataset file (`regression_data_details.csv`)\n",
    "    - CSVs are technically \"Text Files\"   \n",
    "\n",
    "- Notice that Tableau automatically replaced text values in numeric columns ('?' in sqft)\n",
    "    - It also cleaned up the column names (`sqft_living` -> \"Sqft Living\")\n",
    "  \n",
    "- Now click \"Go to Worksheet\" / \"Sheet 1\" at the bottom of the app."
   ]
  },
  {
   "cell_type": "code",
   "execution_count": null,
   "id": "b6240e7f",
   "metadata": {
    "ExecuteTime": {
     "end_time": "2022-01-06T22:50:52.214945Z",
     "start_time": "2022-01-06T22:50:52.196398Z"
    }
   },
   "outputs": [],
   "source": [
    "# Import Python Packages\n",
    "# !pip install -U fsds\n",
    "from fsds.imports import *\n",
    "\n",
    "import pandas as pd\n",
    "import matplotlib.pyplot as plt\n",
    "import seaborn as sns\n",
    "sns.set_context('talk')\n",
    "\n",
    "import plotly.express as px\n",
    "import plotly.io as pio\n",
    "px.defaults.width = 700\n",
    "px.defaults.height = 500\n",
    "\n",
    "plt.style.use(['seaborn-talk','dark_background',])\n",
    "pio.templates.default='plotly_dark'"
   ]
  },
  {
   "cell_type": "code",
   "execution_count": null,
   "id": "02ed1b61",
   "metadata": {
    "ExecuteTime": {
     "end_time": "2022-01-06T22:52:05.887785Z",
     "start_time": "2022-01-06T22:52:04.437618Z"
    }
   },
   "outputs": [],
   "source": [
    "# Import data and export to csv file\n",
    "king = fs.datasets.load_mod1_proj(read_csv_kwds={'index_col':0})\n",
    "display(king.head(2))\n",
    "king.to_csv('data/kings_county_data.csv')"
   ]
  },
  {
   "cell_type": "code",
   "execution_count": null,
   "id": "8cf953b6",
   "metadata": {
    "ExecuteTime": {
     "end_time": "2022-01-06T22:53:06.988889Z",
     "start_time": "2022-01-06T22:53:06.965958Z"
    }
   },
   "outputs": [],
   "source": [
    "# Additional setup for Python figs\n",
    "king.rename({'long':'lon'},axis=1,inplace=True)\n",
    "king['waterfront'] = king['waterfront'].astype(str)\n",
    "king.info()"
   ]
  },
  {
   "cell_type": "markdown",
   "id": "94348462",
   "metadata": {},
   "source": [
    "### Plots to Make: King's County Housing Data\n",
    "\n",
    "1. [ ] A scatter plot of Sqft Living vs Price + a trendline.\n",
    "2. [ ] A scatter plot of Sqft Living vs Price grouped by if its waterfront property (+ trendlines) <br><t>(first with null values then without)\n",
    "3. [ ] A histogram of price in in **\\$**100K-bins.\n",
    "4. [ ] A histogram of price in in **\\$**100K-bins broken out by Waterfront properties.\n",
    "5. [ ] A map of median prices by zipcode (with a Green color scale broken into 5 shades of green)- see note about maps below.\n",
    "6. [ ] A map of all homes with color-coded price with the smallest markers possible. \n",
    "\n",
    "    \n",
    "> - **Note: for our maps, we want:**\n",
    "    - A dark background,\n",
    "    - Add County names/borders\n",
    "    - Add major cities\n",
    "    - Add terrain\n",
    "    - Add major roadways. \n",
    "\n",
    "    \n",
    "- [ ] **Save the workbook to Tableau Public and make sure it shows all individual sheets.**"
   ]
  },
  {
   "cell_type": "markdown",
   "id": "2b7f1cbe",
   "metadata": {},
   "source": [
    "#### A scatter plot of Sqft Living vs Price + a trendline"
   ]
  },
  {
   "cell_type": "code",
   "execution_count": null,
   "id": "5a722f12",
   "metadata": {},
   "outputs": [],
   "source": [
    "# Python Answer - Seaborn\n",
    "sns.regplot(data=king, x='sqft_living',y='price',\n",
    "            line_kws={'color':'green',\"ls\":':'});"
   ]
  },
  {
   "cell_type": "code",
   "execution_count": null,
   "id": "eeea0824",
   "metadata": {},
   "outputs": [],
   "source": [
    "# Python Answer - Plotly\n",
    "px.scatter(king, x='sqft_living',y='price',trendline='ols',\n",
    "           trendline_color_override='green')"
   ]
  },
  {
   "cell_type": "markdown",
   "id": "78905508",
   "metadata": {},
   "source": [
    "Tableau Answer:\n",
    "- Columns = Sqft Living (Dimension)\n",
    "- Rows = Price (Dimension)\n",
    "- Change to Analysis Tab -> Trendline\n"
   ]
  },
  {
   "cell_type": "markdown",
   "id": "11fe0946",
   "metadata": {},
   "source": [
    "#### A scatter plot of Sqft Living vs Price grouped by if its waterfront property (+ trendlines) \n",
    "- (first with null values then without)"
   ]
  },
  {
   "cell_type": "code",
   "execution_count": null,
   "id": "56ad9e4d",
   "metadata": {},
   "outputs": [],
   "source": [
    "# Python Answer - Seaborn\n",
    "sns.lmplot(data=king, x='sqft_living',y='price',hue='waterfront');"
   ]
  },
  {
   "cell_type": "code",
   "execution_count": null,
   "id": "aecdaade",
   "metadata": {},
   "outputs": [],
   "source": [
    "# Python Answer - Plotly\n",
    "px.scatter(king, x='sqft_living',y='price',color='waterfront',trendline='ols',\n",
    "           trendline_color_override='green')"
   ]
  },
  {
   "cell_type": "markdown",
   "id": "710be904",
   "metadata": {},
   "source": [
    "Tableau Answer:\n",
    "\n",
    "- Duplicate sheet/plot #1\n",
    "- Right Click Waterfront -> Convert to Dimension\n",
    "- Drag Waterfront -> Color\n",
    "    \n",
    "- To remove Null values:\n",
    "    - Right click on Null in legend > Exclude\n",
    "        "
   ]
  },
  {
   "cell_type": "markdown",
   "id": "86fa217c",
   "metadata": {},
   "source": [
    "#### A histogram of price in $100K-bins"
   ]
  },
  {
   "cell_type": "code",
   "execution_count": null,
   "id": "4402e84f",
   "metadata": {},
   "outputs": [],
   "source": [
    "# Python Answer - Seaborn\n",
    "sns.histplot(king,x='price',binwidth=100_000);"
   ]
  },
  {
   "cell_type": "code",
   "execution_count": null,
   "id": "46bd081b",
   "metadata": {},
   "outputs": [],
   "source": [
    "# Python Answer - Plotly\n",
    "\n",
    "# must calculate n_bins\n",
    "n_bins=77\n",
    "king['price'].max()/n_bins\n",
    "px.histogram(df1,x='price',nbins=n_bins,width=800)"
   ]
  },
  {
   "cell_type": "markdown",
   "id": "5dca20ec",
   "metadata": {},
   "source": [
    "Tableau Answer:\n",
    "    \n",
    "Solution 1:\n",
    "- Click Price then click Show Me > select histogram\n",
    "\n",
    "Solution 2:\n",
    "- Right click on Price > Create > Bins\n",
    "- Columns = Price Bins\n",
    "- Rows = Price(CNT)"
   ]
  },
  {
   "cell_type": "markdown",
   "id": "043daf17",
   "metadata": {},
   "source": [
    "#### A histogram of price in in $100K-bins - by Waterfront"
   ]
  },
  {
   "cell_type": "code",
   "execution_count": null,
   "id": "f5bf9dd8",
   "metadata": {},
   "outputs": [],
   "source": [
    "# Python Answer - Seaborn\n",
    "sns.histplot(king, x='price', binwidth=100_000,\n",
    "             hue='waterfront', stat='density');"
   ]
  },
  {
   "cell_type": "code",
   "execution_count": null,
   "id": "363af172",
   "metadata": {},
   "outputs": [],
   "source": [
    "# Python Answer - Plotly\n",
    "px.histogram(df1,x='price',color='waterfront',nbins=n_bins,\n",
    "             width=800,barmode='overlay')"
   ]
  },
  {
   "cell_type": "markdown",
   "id": "9dfb15f0",
   "metadata": {},
   "source": [
    "Tableau Answer\n",
    "- Duplicate plot #3\n",
    "- Drag Waterfront dimension to Color"
   ]
  },
  {
   "cell_type": "markdown",
   "id": "a640aa76",
   "metadata": {},
   "source": [
    "#### A map of median prices by zipcode (with a Green color scale broken into 5 shades of green)- see note about maps below.\n",
    "\n",
    "    \n",
    "- **Note: for our maps, we want:**\n",
    "    - A dark background,\n",
    "    - Add County names/borders\n",
    "    - Add major cities\n",
    "    - Add terrain\n",
    "    - Add major roadways. "
   ]
  },
  {
   "cell_type": "markdown",
   "id": "be6e1b4a",
   "metadata": {},
   "source": [
    "Python Answer - Plotly\n",
    "\n",
    "- Not easily implementable without downloading [King County zipcode geojson file.](https://opendata.arcgis.com/datasets/e6c555c6ae7542b2bdec92485892b6e6_113.geojson)"
   ]
  },
  {
   "cell_type": "code",
   "execution_count": null,
   "id": "cdb415d5",
   "metadata": {},
   "outputs": [],
   "source": [
    "import requests,json\n",
    "url ='https://opendata.arcgis.com/datasets/e6c555c6ae7542b2bdec92485892b6e6_113.geojson'\n",
    "content = requests.get(url).json()\n",
    "content.keys()"
   ]
  },
  {
   "cell_type": "markdown",
   "id": "0b24d43f",
   "metadata": {},
   "source": [
    "Kristin's Example code for using geojson with plotly\n",
    "\n",
    "- [Repo Link](https://github.com/kcoop610/linear-regression-king-county-real-estate)\n",
    "<img src=\"https://github.com/flatiron-school/Online-DS-FT-022221-Cohort-Notes/blob/master/Phase_5/tableau/images/kristins-code-for-plotly-geojson.jpeg?raw=1\">"
   ]
  },
  {
   "cell_type": "markdown",
   "id": "b72f9243",
   "metadata": {},
   "source": [
    "Tableau Answer\n",
    "- Drag Zipcode onto main pane of plot.\n",
    "    - Drag Price onto Color\n",
    "        - Change Price to Median\n",
    "    - Click on Dropdown Arrow next to Title of Color Scale:\n",
    "        - Edit Colors\n",
    "        - Select Green\n",
    "        - Select Stepped Color\n",
    "    - Visual Flair: \n",
    "        - Right Click on Map > Map Layers\n",
    "        - Select Dark\n",
    "        - Add County borders, county labels, terrain, cities."
   ]
  },
  {
   "cell_type": "markdown",
   "id": "7001ff55",
   "metadata": {},
   "source": [
    "#### A map of all homes with color-coded price with the smallest markers possible. "
   ]
  },
  {
   "cell_type": "code",
   "execution_count": null,
   "id": "c510d419",
   "metadata": {},
   "outputs": [],
   "source": [
    "# Python Answer - Plotly\n",
    "px.scatter_mapbox(df1, lat='lat',lon='lon',color='price',mapbox_style='carto-darkmatter',\n",
    "                  color_continuous_scale='greens', )"
   ]
  },
  {
   "cell_type": "markdown",
   "id": "87f5302e",
   "metadata": {},
   "source": [
    "Tableau Answer\n",
    "- Columns: Long\n",
    "- Rows: Lat\n",
    "- Color: Price\n",
    "- Click on Size > Drag slider to the left."
   ]
  },
  {
   "cell_type": "markdown",
   "id": "20bf53e1",
   "metadata": {},
   "source": [
    "### **Save the workbook to Tableau Public and make sure it shows all individual sheets.**"
   ]
  },
  {
   "cell_type": "code",
   "execution_count": null,
   "id": "b7c553cd",
   "metadata": {},
   "outputs": [],
   "source": []
  }
 ],
 "metadata": {
  "hide_input": false,
  "kernelspec": {
   "display_name": "Python 3",
   "language": "python",
   "name": "python3"
  },
  "language_info": {
   "codemirror_mode": {
    "name": "ipython",
    "version": 3
   },
   "file_extension": ".py",
   "mimetype": "text/x-python",
   "name": "python",
   "nbconvert_exporter": "python",
   "pygments_lexer": "ipython3",
   "version": "3.7.1"
  },
  "latex_envs": {
   "LaTeX_envs_menu_present": true,
   "autoclose": false,
   "autocomplete": true,
   "bibliofile": "biblio.bib",
   "cite_by": "apalike",
   "current_citInitial": 1,
   "eqLabelWithNumbers": true,
   "eqNumInitial": 1,
   "hotkeys": {
    "equation": "Ctrl-E",
    "itemize": "Ctrl-I"
   },
   "labels_anchors": false,
   "latex_user_defs": false,
   "report_style_numbering": false,
   "user_envs_cfg": false
  },
  "nbTranslate": {
   "displayLangs": [
    "*"
   ],
   "hotkey": "alt-t",
   "langInMainMenu": true,
   "sourceLang": "en",
   "targetLang": "fr",
   "useGoogleTranslate": true
  },
  "toc": {
   "base_numbering": 1,
   "nav_menu": {},
   "number_sections": true,
   "sideBar": true,
   "skip_h1_title": false,
   "title_cell": "Table of Contents",
   "title_sidebar": "Contents",
   "toc_cell": false,
   "toc_position": {},
   "toc_section_display": true,
   "toc_window_display": false
  },
  "varInspector": {
   "cols": {
    "lenName": 16,
    "lenType": 16,
    "lenVar": 40
   },
   "kernels_config": {
    "python": {
     "delete_cmd_postfix": "",
     "delete_cmd_prefix": "del ",
     "library": "var_list.py",
     "varRefreshCmd": "print(var_dic_list())"
    },
    "r": {
     "delete_cmd_postfix": ") ",
     "delete_cmd_prefix": "rm(",
     "library": "var_list.r",
     "varRefreshCmd": "cat(var_dic_list()) "
    }
   },
   "types_to_exclude": [
    "module",
    "function",
    "builtin_function_or_method",
    "instance",
    "_Feature"
   ],
   "window_display": false
  }
 },
 "nbformat": 4,
 "nbformat_minor": 5
}
