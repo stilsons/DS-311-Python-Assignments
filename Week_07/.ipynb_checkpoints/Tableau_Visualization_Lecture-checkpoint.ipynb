{
 "cells": [
  {
   "cell_type": "markdown",
   "metadata": {},
   "source": [
    "# Introduction to Tableau "
   ]
  },
  {
   "cell_type": "markdown",
   "metadata": {},
   "source": [
    "## Everyone Do Tableau Installation "
   ]
  },
  {
   "cell_type": "markdown",
   "metadata": {},
   "source": [
    "https://public.tableau.com/\n",
    "-  Tableau Public \n",
    "is a completely free version of the Tableau software that includes the majority of features included within Tableau Desktop.\n",
    "\n",
    "https://www.tableau.com/products/desktop\n",
    "-  Tableau Desktop.\n",
    "\n",
    "The main difference between the two versions is in working with multiple types of data sources (SQL databases, for example), and in working with data files that are not shared with the public."
   ]
  },
  {
   "cell_type": "markdown",
   "metadata": {},
   "source": [
    "## Activity 1 Loading Exploring Data"
   ]
  },
  {
   "cell_type": "markdown",
   "metadata": {},
   "source": [
    "- Step 1: open up application \n",
    "![](./Images/03-LoadingData_DataSources.png)"
   ]
  },
  {
   "cell_type": "markdown",
   "metadata": {},
   "source": [
    "Not only is Tableau able to connect to data files - like CSV, XLS, and JSON - it is also able to connect to a multitude of servers - like MySQL, MongoDB, and Google Cloud."
   ]
  },
  {
   "cell_type": "markdown",
   "metadata": {},
   "source": [
    "- Step 2: Select \"Excel\" from the list of data sources available and load up GlobalSuperstoreOrders2016.xlsx within Tableau Inside Resource Folder.\n"
   ]
  },
  {
   "cell_type": "markdown",
   "metadata": {},
   "source": [
    "After the data has been imported into Tableau you can see the individual sheets of data in excel"
   ]
  },
  {
   "cell_type": "markdown",
   "metadata": {},
   "source": [
    "- Step 3: Once the data has been loaded a preview provided in the main area of the application. "
   ]
  },
  {
   "cell_type": "markdown",
   "metadata": {},
   "source": [
    "![](./Images/load02.gif)"
   ]
  },
  {
   "cell_type": "markdown",
   "metadata": {},
   "source": [
    "![](./Images/03-LoadingData_Table.png)"
   ]
  },
  {
   "cell_type": "markdown",
   "metadata": {},
   "source": [
    "Any and all changes made to the dataset within Tableau will not affect the original dataset. The purpose of Tableau is to create visualizations: manipulating data is not its strong-suit."
   ]
  },
  {
   "cell_type": "markdown",
   "metadata": {},
   "source": [
    "- Step 4 Filtering data is very simple, however, as all Tableau users need to do is click on the \"Add\" button beneath the Filters text in the top-right corner of the application and select what column they would like to filter by.\n"
   ]
  },
  {
   "cell_type": "markdown",
   "metadata": {},
   "source": [
    "![](./Images/03-LoadingData_FilterColumn.png)"
   ]
  },
  {
   "cell_type": "markdown",
   "metadata": {},
   "source": [
    "After selecting which column to filter by, the values to filter are then chosen manually or based upon some kind of condition."
   ]
  },
  {
   "cell_type": "markdown",
   "metadata": {},
   "source": [
    "![](./Images/03-LoadingData_FilterValues.png)"
   ]
  },
  {
   "cell_type": "markdown",
   "metadata": {
    "collapsed": true
   },
   "source": [
    "Depending upon the data-type stored within a column, different filters may or may not be available. Selecting a column with a \"Date\" data-type, for example, allows users to filter rows based upon date ranges."
   ]
  },
  {
   "cell_type": "markdown",
   "metadata": {},
   "source": [
    "![](./Images/03-LoadingData_FilterDate.png)"
   ]
  },
  {
   "cell_type": "markdown",
   "metadata": {},
   "source": [
    "## Instructor Do Activity 2 -  Building Basic Visuals  "
   ]
  },
  {
   "cell_type": "markdown",
   "metadata": {},
   "source": [
    "- Step 1: Once a dataset has been linked to a Tableau workbook, users can navigate into and edit individual worksheets at the bottom of the application. \n",
    "\n",
    "![](./Images/05-BasicVisuals_Worksheets.png)"
   ]
  },
  {
   "cell_type": "markdown",
   "metadata": {},
   "source": [
    "- Step 2: Creating visualizations in Tableau is nearly identical to creating pivot tables in Excel. Users click and drag the headers of their original dataset into specific fields - Columns, Rows, Filters, etc. - in order to create a chart. \n",
    "\n",
    "![](./Images/05-BasicVisuals_ChartArea.png)"
   ]
  },
  {
   "cell_type": "markdown",
   "metadata": {},
   "source": [
    "The difference between Dimensions and Measures\n",
    "- Dimensions are categorical fields that data can be split up by.\n",
    "- Measures are the metrics or numbers that users would like to analyze.\n",
    "\n",
    "Drag the Category pill from the Dimensions panel into Rows to show the class how a small table containing the three categories within the dataset is created."
   ]
  },
  {
   "cell_type": "markdown",
   "metadata": {},
   "source": [
    "By dragging Segment into Rows and placing it after the Category pill, the table is made slightly more complex. Now each category within the visualization has been split into three distinct parts."
   ]
  },
  {
   "cell_type": "markdown",
   "metadata": {},
   "source": [
    "![](./Images/load03.png)"
   ]
  },
  {
   "cell_type": "markdown",
   "metadata": {},
   "source": [
    "Dragging \"Quantity\" from the Measurements panel and placing it within Columns finally creates a true visualization: a bar chart showing the quantity of orders per segment per category.\n",
    "\n",
    "![](./Images/load04.png)"
   ]
  },
  {
   "cell_type": "markdown",
   "metadata": {},
   "source": [
    "The chart can then be made more detailed by adding more elements. By adding Market into Columns, for example, multiple charts are created to show the quantity of orders per segment per category within each geographic market. \n",
    "\n",
    "![](./Images/load05.png)"
   ]
  },
  {
   "cell_type": "markdown",
   "metadata": {},
   "source": [
    "if users would like to change what kind of visualization to employ, all they need to do is click the Show Me button at the top-right of the application and select the charting style desired.\n",
    "\n",
    "![](./Images/05-BasicVisuals_ShowMe.png)"
   ]
  },
  {
   "cell_type": "markdown",
   "metadata": {},
   "source": [
    "Create a new worksheet within Tableau. Drag Sales into the Rows section.\n",
    "\n",
    "![](./Images/load06.png)"
   ]
  },
  {
   "cell_type": "markdown",
   "metadata": {},
   "source": [
    "The type of calculation performed on a Measures pill can be changed by clicking on the pill, selecting \"Measure\" from the drop-down menu, and then picking one of the calculation types present. \n",
    "\n",
    "![](./Images/05-BasicVisuals_Measures.png)"
   ]
  },
  {
   "cell_type": "markdown",
   "metadata": {},
   "source": [
    "Now drag Order Date into the Columns field to create a very basic line chart."
   ]
  },
  {
   "cell_type": "markdown",
   "metadata": {},
   "source": [
    "![](./Images/load07.png)"
   ]
  },
  {
   "cell_type": "markdown",
   "metadata": {},
   "source": [
    "Tableau has aggregated the dates at the year level. In order to expand this to include quarters, simply click on the plus symbol within the YEAR pill."
   ]
  },
  {
   "cell_type": "markdown",
   "metadata": {},
   "source": [
    "![](./Images/05-BasicVisuals_LineGraph.png)"
   ]
  },
  {
   "cell_type": "markdown",
   "metadata": {},
   "source": [
    "In order to compare how Q1 has performed over the years, simply move the QUARTER pill before YEAR. \n",
    "\n",
    "![](./Images/05-BasicVisuals_LineGraphPivot.png)"
   ]
  },
  {
   "cell_type": "markdown",
   "metadata": {},
   "source": [
    "# Students Turn Activity 2 Do Explore Data "
   ]
  },
  {
   "cell_type": "markdown",
   "metadata": {
    "collapsed": true
   },
   "source": [
    "# Data Exploration with Tableau\n",
    "\n",
    "## Instructions\n",
    "\n",
    "* Using the `GlobalSuperstoreOrders2016.xlsx` workbook, visualize the following:\n",
    "\n",
    "1. The customers with the highest sales amount\n",
    "  \n",
    "![01.png](Images/01.png)\n",
    "\n",
    "2. The most profitable customers\n",
    "\n",
    "![02.png](Images/02.png)\n",
    "\n",
    "3. The states with the highest average profit\n",
    "\n",
    "![03.png](Images/03.png)\n",
    "\n",
    "4. A monthly timeline of sales\n",
    "\n",
    "![04.png](Images/04.png)\n",
    "\n",
    "5. Profit by region and product category (in the United States).\n",
    "\n",
    "![05.png](Images/05.png)"
   ]
  },
  {
   "cell_type": "markdown",
   "metadata": {},
   "source": [
    "# Review\n",
    "The first visualization, of the customers with the highest sales, requires dragging the Customer Name pill to Rows, and the Sales pill to Columns."
   ]
  },
  {
   "cell_type": "markdown",
   "metadata": {},
   "source": [
    "![](./Images/explore01.png)"
   ]
  },
  {
   "cell_type": "markdown",
   "metadata": {},
   "source": [
    "To sort the data, click on the sort button:"
   ]
  },
  {
   "cell_type": "markdown",
   "metadata": {},
   "source": [
    "![](./Images/explore02.png)"
   ]
  },
  {
   "cell_type": "markdown",
   "metadata": {},
   "source": [
    "In the next tab, in order to chart the most profitable customers, simply do the same as above, this time with the Profit pill:\n",
    "\n",
    "![](./Images/explore03a.png)"
   ]
  },
  {
   "cell_type": "markdown",
   "metadata": {},
   "source": [
    "To adjust the axis at the bottom, right click at the bottom along the axis, and select Edit Axis:\n",
    "\n",
    "![](./Images/explore03b.png)"
   ]
  },
  {
   "cell_type": "markdown",
   "metadata": {},
   "source": [
    "After filtering out negative profit figures, the chart should now look like this:\n",
    "\n",
    "![](./Images/explore03c.png)"
   ]
  },
  {
   "cell_type": "markdown",
   "metadata": {},
   "source": [
    "And to chart the states with the highest average profit, choose the Profit pill again, then Average under Measure:"
   ]
  },
  {
   "cell_type": "markdown",
   "metadata": {},
   "source": [
    "![](./Images/explore04.png)\n",
    "![](./Images/explore05.png)"
   ]
  },
  {
   "cell_type": "markdown",
   "metadata": {},
   "source": [
    "The filter should be set to the United States:"
   ]
  },
  {
   "cell_type": "markdown",
   "metadata": {},
   "source": [
    "Next, to display a monthly timeline, drag the Sales pill to Rows, then obtain its sum. Then drag Order Date to columns."
   ]
  },
  {
   "cell_type": "markdown",
   "metadata": {},
   "source": [
    "![](./Images/explore07.png)\n",
    "![](./Images/explore08.png)\n",
    "![](./Images/explore09.png)"
   ]
  },
  {
   "cell_type": "markdown",
   "metadata": {},
   "source": [
    "Finally, to visualize profit by region and product category, drag Category and Region pills to Columns, and create a sum of the Profit pill in Rows:"
   ]
  },
  {
   "cell_type": "markdown",
   "metadata": {},
   "source": [
    "![](./Images/explore10.png)"
   ]
  },
  {
   "cell_type": "markdown",
   "metadata": {},
   "source": [
    "![](./Images/explore11.png)"
   ]
  },
  {
   "cell_type": "markdown",
   "metadata": {},
   "source": [
    "## Student Turn Activity 4"
   ]
  },
  {
   "cell_type": "markdown",
   "metadata": {},
   "source": [
    "### No Shows\n",
    "\n",
    "![](./Images/06-NoShows_AgeAppointments.png)\n",
    "\n",
    "### Instructions\n",
    "\n",
    "* Create a line chart that compares the ages of patients against the total number of appointments. Then split this graph based upon gender and whether the patient showed up to their appointment. For this first step, you'll need to convert `Age` from a measure to a dimension.\n",
    "\n",
    "* Create a pair of bar charts that compare how many patients showed up to appointments versus how many were no-shows in different neighborhoods.\n",
    "\n",
    "* Create a stacked bar chart that compares no-shows to those who made it to appointment based upon the day of the week.\n",
    "\n",
    "* Create a pair of line graphs that compare age versus diabetes in both men and women.\n",
    "\n",
    "* Create a pair of line graphs that compare age versus alcoholism in both men and women."
   ]
  },
  {
   "cell_type": "markdown",
   "metadata": {},
   "source": [
    "### Solutions\n",
    "- Step 1 The first step for this activity is to drag Age to Columns, and Number of Records to Rows. Age must also be converted from measure into dimension by clicking on the arrow on the pill.\n",
    "\n",
    "![](./Images/noshow01.png)"
   ]
  },
  {
   "cell_type": "markdown",
   "metadata": {},
   "source": [
    "- Step 2 To split up the results by gender, drag Gender into Rows:\n",
    "![](./Images/noshow02.png)"
   ]
  },
  {
   "cell_type": "markdown",
   "metadata": {},
   "source": [
    "- Step 3 Finally, to stratify the results by no-show appointments, drag No-show to columns:\n",
    "![](./Images/noshow03.png)"
   ]
  },
  {
   "cell_type": "markdown",
   "metadata": {},
   "source": [
    "- Step 4 In the next visualization, students were asked to compare no-shows by neighborhood. This can be done in the following way:\n",
    "![](./Images/noshow04.png)\n",
    "No-show and Number of Records are dragged to Columns, and Neighbourhood to Rows."
   ]
  },
  {
   "cell_type": "markdown",
   "metadata": {},
   "source": [
    "- Step 4 It can also be visualized thus: \n",
    "![](./Images/noshow05.png)\n",
    "No-show is moved to Rows instead of Columns."
   ]
  },
  {
   "cell_type": "markdown",
   "metadata": {},
   "source": [
    "- Step 5 Visualize the number of no-show patients by the day of the week:\n",
    "![](./Images/noshow07.png)"
   ]
  },
  {
   "cell_type": "markdown",
   "metadata": {},
   "source": [
    "- Step 6 Since we're counting the number of no-show appointments, it makes sense to to drag No-show to Rows, and visualize this measure vertically. And since we're tallying the number of no-shows by the day of the week, to drag Scheduled Day into Columns:\n",
    "![](./Images/noshow06.png)"
   ]
  },
  {
   "cell_type": "markdown",
   "metadata": {},
   "source": [
    "- Step 6 We're shown results by year, instead of the day of the week. This can be selected by clicking on the arrow on the Scheduled Day pill, More, then Weekday.\n",
    "![](./Images/noshow07.gif)"
   ]
  },
  {
   "cell_type": "markdown",
   "metadata": {},
   "source": [
    "- Step 8 To display a bar chart instead of a line chart, select Show Me, then the stacked bar chart option:\n",
    "![](./Images/noshow08.png)"
   ]
  },
  {
   "cell_type": "markdown",
   "metadata": {},
   "source": [
    "- Step 9 display the number of diabetics by gender and across age groups. One way to visualize this is by stacking Gender in Rows.\n",
    "![](./Images/noshow09.png)"
   ]
  },
  {
   "cell_type": "markdown",
   "metadata": {},
   "source": [
    "- Step 10 final visualization is very similar to the previous one, visualizing alcoholism instead of diabetes.\n",
    "![](./Images/noshow10.png)"
   ]
  },
  {
   "cell_type": "markdown",
   "metadata": {},
   "source": [
    "# Instructor Turn Activity 5"
   ]
  },
  {
   "cell_type": "markdown",
   "metadata": {},
   "source": [
    "- In order to merge these two datasets together, click and drag the \"People\" sheet into to main area of Tableau alongside the \"Orders\" sheet.\n",
    "\n",
    "- Tableau will automatically create an inner join on the columns that contain matching values. In this case, the join is on the \"Region\" columns.\n",
    "\n",
    "- To change what type of join is used, simply click on the interlacing circles at the top of the application and select what form of join to use from the menu that appears. This same menu can be used to modify what columns to merge on."
   ]
  },
  {
   "cell_type": "markdown",
   "metadata": {},
   "source": [
    "![](./Images/07-EasyJoins_Menu.png)"
   ]
  },
  {
   "cell_type": "markdown",
   "metadata": {},
   "source": [
    "It is also possible to create joins across data sources.\n",
    "\n",
    "![](./Images/07-EasyJoins_AddConnection.png)\n",
    "\n",
    "To do this, click on the \"Add\" button in the Connections panel and add the secondary data source desired. For the purposes of this demonstration, that is GlobalSuperstoreReturns2016.csv.\n",
    "After the data source has been added, it can then be joined with the other data files desired using the method mentioned before."
   ]
  },
  {
   "cell_type": "markdown",
   "metadata": {},
   "source": [
    "Another interesting feature of Tableau is that columns containing text can be split so as to extract data.\n",
    "\n",
    "![](./Images/07-EasyJoins_CustomSplit.png)\n",
    "\n",
    "Select what character to split the text on, whether to split from the beginning or end of the string, and then how many times the text should be split."
   ]
  },
  {
   "cell_type": "markdown",
   "metadata": {},
   "source": [
    "## Student Turn Activity 6 FIFA Analysis\n",
    "\n",
    "### Instructions\n",
    "\n",
    "* Create a join between each of the charts so that each player's data is matched up correctly.\n",
    "\n",
    "* Create a pair of charts that compare the potential of a club's players to their overall ability (`Overall` column). Then sort them from best to worst.\n",
    "\n",
    "* Create a chart that determines which soccer club is the most aggressive overall.\n",
    "\n",
    "* Create a chart that determines which nationality has the greatest acceleration on average, making sure to note how many players are from each nation in a second chart.\n",
    "\n",
    "* Create a chart that determines which nationality has the greatest long passing on average.\n",
    "\n",
    "* Create a chart that marks the potential of a player over time as they age."
   ]
  },
  {
   "cell_type": "markdown",
   "metadata": {},
   "source": [
    "- Step 1 In order to join the two CSV files, drag them to the main pane in the Data Source tab, then, select an inner join:\n",
    "![](./Images/fifa01.png)\n"
   ]
  },
  {
   "cell_type": "markdown",
   "metadata": {},
   "source": [
    "- Step 2 The first visualization is of each player's potential, as well as overall ability, sorted in descending order:\n",
    "![](./Images/fifa02.png)"
   ]
  },
  {
   "cell_type": "markdown",
   "metadata": {},
   "source": [
    "- Step 3 The second visualization tallies the Aggression of each club.\n",
    "![](./Images/fifa03.png)"
   ]
  },
  {
   "cell_type": "markdown",
   "metadata": {},
   "source": [
    "- The next visualization is of average acceleration by country, as well as the number of records from each country.\n",
    "![](./Images/fifa04.png)"
   ]
  },
  {
   "cell_type": "markdown",
   "metadata": {},
   "source": [
    "- Step 4 The next visualization is of average long passing by country, as well as the number of players from that country.\n",
    "![](./Images/fifa05.png)"
   ]
  },
  {
   "cell_type": "markdown",
   "metadata": {},
   "source": [
    "- Step 5 The next visualization plots age against potential:\n",
    "![](./Images/fifa06.png)"
   ]
  },
  {
   "cell_type": "markdown",
   "metadata": {},
   "source": [
    "- Step 6 To be able to chart each age year as a discrete quantity, click on the Age pill and select Dimension.\n",
    "![](./Images/fifa07.png)"
   ]
  },
  {
   "cell_type": "markdown",
   "metadata": {},
   "source": [
    "## Student Turn Activity 7 \n",
    "\n",
    "### The Ultimate Candy\n",
    "\n",
    "### Instructions\n",
    "\n",
    "* Create a pair of bar graphs that chart the win percent of each candy, then color the bars according to whether they are fruity and/or chocolatey.\n",
    "\n",
    "* Create a scatter plot comparing the sugar percentage against the win percentage. Color the points based upon whether they are chocolatey and size them according to price.\n",
    "\n",
    "* Create one more scatter plot comparing the sugar percentage against the win percentage. Color the points based upon whether they are fruity and size them according to price."
   ]
  },
  {
   "cell_type": "markdown",
   "metadata": {},
   "source": [
    "### Solutions\n",
    "- Step 1 The first visualization is a pair of bar graphs that chart the Winpercent of each candy:\n",
    "\n",
    "![](./Images/candy01.png)\n",
    "\n",
    "- The bars in the left chart are colored by whether the candy is chocolate-flavored.\n",
    "- The bars in the right chart are colored by whether the candy is fruity."
   ]
  },
  {
   "cell_type": "markdown",
   "metadata": {},
   "source": [
    "In the Data Source tab, Chocolate and Fruity columns hold true or false values.\n",
    "![](./Images/candy02.png)"
   ]
  },
  {
   "cell_type": "markdown",
   "metadata": {},
   "source": [
    "Back to the charts. The bars to the left can be colored simply by dragging the Chocolate pill to the Color mark.\n",
    "![](./Images/candy03.gif)"
   ]
  },
  {
   "cell_type": "markdown",
   "metadata": {},
   "source": [
    "Do the same for the bar chart on the right side. Tableau automatically colors the bars, and creates a legend.\n",
    "![](./Images/candy04.png)"
   ]
  },
  {
   "cell_type": "markdown",
   "metadata": {},
   "source": [
    "In the second visualization, a scatterplot is created that plots Winpercent against Sugarpercent.\n",
    "![](./Images/candy05.png)\n"
   ]
  },
  {
   "cell_type": "markdown",
   "metadata": {},
   "source": [
    "Chocolate is dragged to the Colors mark, Competitorname is dragged to the Detail mark, and Pricepercent is dragged to the Size mark.\n",
    "![](./Images/candy06.gif)\n",
    "\n",
    "This chart provides a handy view of trends.\n",
    "\n",
    "For example, candies with a higher win percent tend to be chocolates (orange), and they tend to be pricier (larger circle size)."
   ]
  },
  {
   "cell_type": "markdown",
   "metadata": {},
   "source": [
    "The last visualization is virtually identical to the previous one, except that it compares fruity candies against non-fruity.\n",
    "Overall, fruity candies appear to have a lower Winpercent, and tend to be less expensive.\n",
    "![](./Images/candy07.png)"
   ]
  },
  {
   "cell_type": "markdown",
   "metadata": {},
   "source": [
    "# Instructor Turn Activity 8 Story Telling"
   ]
  },
  {
   "cell_type": "markdown",
   "metadata": {},
   "source": [
    "within Tableau and navigate into the Shipping Overview tab, pointing out how there are a bunch of text-boxes at the top of this view.\n",
    "![](./Images/11-Storytelling_StoryBoxes.png)\n",
    "\n",
    "Click through a couple of the text boxes at the top of the view, discussing with the class how each text box is associated with a visualization from within the workbook.\n"
   ]
  },
  {
   "cell_type": "markdown",
   "metadata": {},
   "source": [
    "![](./Images/story01.png)"
   ]
  },
  {
   "cell_type": "markdown",
   "metadata": {},
   "source": [
    "The view on the left side of the page will now contain all of the sheets within the current workbook and can be added into the story by dragging them into the main area.\n",
    "\n",
    "Captions for the story point can be added/edited by clicking on the gray box at the top of the main view."
   ]
  },
  {
   "cell_type": "markdown",
   "metadata": {},
   "source": [
    "To add a new page to a story, navigate to the New Story Point and select either Blank to create a blank page or Duplicate to create a page based upon an already existing page.\n",
    "![](./Images/story02.png)\n"
   ]
  },
  {
   "cell_type": "markdown",
   "metadata": {},
   "source": [
    "Text boxes may also be added to the page by dragging the Drag to Add Text element onto the page so as to allow for more detailed explanations.\n",
    "\n",
    "![](./Images/story03.png)\n"
   ]
  },
  {
   "cell_type": "markdown",
   "metadata": {},
   "source": [
    "![](./Images/11-Storytelling_StoryPage.png)"
   ]
  },
  {
   "cell_type": "markdown",
   "metadata": {},
   "source": [
    "# Student Turn Activity  9 Degrees Pay\n",
    "# Degrees That Pay\n",
    "\n",
    "## Instructions\n",
    "\n",
    "* Create a story using the datasets provided and formulate graphs that might be used to explore the following hypotheses:\n",
    "\n",
    "* \"Ivy League schools offer best salaries while state offer worst\"\n",
    "\n",
    "* \"Going to school in California/NE offers higher salaries\"\n",
    "\n",
    "* \"Higher starting salaries generally mean higher salaries mid-career\"\n",
    "\n",
    "* Bonus: Create a chart that visualizes starting median salaries, by major, against mid-career median, 75th percentile, and 90th percentile salaries."
   ]
  },
  {
   "cell_type": "markdown",
   "metadata": {},
   "source": [
    "# Solutions "
   ]
  },
  {
   "cell_type": "markdown",
   "metadata": {},
   "source": [
    "![](./Images/12-DegreesPay_StoryPoint.png)"
   ]
  },
  {
   "cell_type": "markdown",
   "metadata": {},
   "source": [
    "Step 1.The first visualization address the first prompt: do Ivy League school graduates earn higher salaries than their counterparts from state schools?\n",
    "![](./Images/degrees01.png)"
   ]
  },
  {
   "cell_type": "markdown",
   "metadata": {},
   "source": [
    "Step 2. The chart can begin with School Type and Measure Names in Columns, and Measure Values in Rows.\n",
    "![](./Images/degrees02.png)"
   ]
  },
  {
   "cell_type": "markdown",
   "metadata": {},
   "source": [
    "Step 3. In the Measure Values pane, undesired pills can be removed, and aggregated as we wish: in this case, to averages.\n",
    "![](./Images/degrees03.png)"
   ]
  },
  {
   "cell_type": "markdown",
   "metadata": {},
   "source": [
    "Step 4. In the Measure Values pane, undesired pills can be removed, and aggregated as we wish: in this case, to averages.\n",
    "![](./Images/degrees04.png)"
   ]
  },
  {
   "cell_type": "markdown",
   "metadata": {},
   "source": [
    "The bars colors can be differentiated by dragging Measure Names to the Color mark:\n",
    "![](./Images/degrees05.gif)"
   ]
  },
  {
   "cell_type": "markdown",
   "metadata": {},
   "source": [
    "The next visualization address whether grads of schools in the Northeast or California earn higher salaries than their counterparts in other regions. It is altogether similar to the previous one, substituting Region for School Type:\n",
    "![](./Images/degrees06.png)\n",
    "![](./Images/degrees07.png)"
   ]
  },
  {
   "cell_type": "markdown",
   "metadata": {
    "collapsed": true
   },
   "source": [
    "In the next visualization, the question explored is whether higher starting salaries lead to higher salaries mid-career:\n",
    "![](./Images/degrees08.png)\n",
    "It plots the average starting median salary in Columns against average mid-career salary in Rows.\n",
    "\n",
    "The Undergraduate Major pill is dragged to the Detail mark.\n",
    "\n",
    "The Percent change from Starting to Mid-Career Salary pill is dragged to the Size mark."
   ]
  },
  {
   "cell_type": "markdown",
   "metadata": {},
   "source": [
    "In the final visualization, the median starting salaries, on the left in green, are compared with mid-career salaries at 50th (median), 75th, and 90th percentiles."
   ]
  },
  {
   "cell_type": "markdown",
   "metadata": {},
   "source": [
    "![](./Images/degrees09.png)"
   ]
  },
  {
   "cell_type": "markdown",
   "metadata": {},
   "source": [
    "This chart can be created by starting with the Undergraduate Major in Rows, and Measure Values in Columns.\n",
    "![](./Images/degrees10.png)"
   ]
  },
  {
   "cell_type": "markdown",
   "metadata": {},
   "source": [
    "Measure Values are modified to include the desired columns.\n",
    "\n",
    "![](./Images/degrees11.png)"
   ]
  },
  {
   "cell_type": "markdown",
   "metadata": {},
   "source": [
    "Then Measure Names can be dragged to the Color mark, and Percent change... to the Detail mark.\n",
    "![](./Images/degrees12.png)"
   ]
  },
  {
   "cell_type": "markdown",
   "metadata": {},
   "source": [
    "To change from a bar chart to circles, click on the drop-down menu in Marks, and choose Circle:\n",
    "![](./Images/degrees13.gif)  "
   ]
  },
  {
   "cell_type": "code",
   "execution_count": null,
   "metadata": {
    "collapsed": true
   },
   "outputs": [],
   "source": []
  }
 ],
 "metadata": {
  "hide_input": false,
  "kernelspec": {
   "display_name": "Python 3",
   "language": "python",
   "name": "python3"
  },
  "language_info": {
   "codemirror_mode": {
    "name": "ipython",
    "version": 3
   },
   "file_extension": ".py",
   "mimetype": "text/x-python",
   "name": "python",
   "nbconvert_exporter": "python",
   "pygments_lexer": "ipython3",
   "version": "3.7.1"
  },
  "nbTranslate": {
   "displayLangs": [
    "*"
   ],
   "hotkey": "alt-t",
   "langInMainMenu": true,
   "sourceLang": "en",
   "targetLang": "fr",
   "useGoogleTranslate": true
  },
  "varInspector": {
   "cols": {
    "lenName": 16,
    "lenType": 16,
    "lenVar": 40
   },
   "kernels_config": {
    "python": {
     "delete_cmd_postfix": "",
     "delete_cmd_prefix": "del ",
     "library": "var_list.py",
     "varRefreshCmd": "print(var_dic_list())"
    },
    "r": {
     "delete_cmd_postfix": ") ",
     "delete_cmd_prefix": "rm(",
     "library": "var_list.r",
     "varRefreshCmd": "cat(var_dic_list()) "
    }
   },
   "types_to_exclude": [
    "module",
    "function",
    "builtin_function_or_method",
    "instance",
    "_Feature"
   ],
   "window_display": false
  }
 },
 "nbformat": 4,
 "nbformat_minor": 2
}
