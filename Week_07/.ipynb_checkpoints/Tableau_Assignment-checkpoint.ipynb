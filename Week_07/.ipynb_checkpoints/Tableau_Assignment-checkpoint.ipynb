{
 "cells": [
  {
   "cell_type": "markdown",
   "id": "subtle-collins",
   "metadata": {},
   "source": [
    "# Tableau Assignment"
   ]
  },
  {
   "cell_type": "markdown",
   "id": "alike-collins",
   "metadata": {},
   "source": [
    "## 1. Connect to the superstore sales data, compare sales and quantity over time in a signle chart, and create a bubble chart to show customer sales, profit, and quantity.\n",
    "\n",
    "Instruction:\n",
    "- Make a connection to your clean data set\n",
    "- Create a dual axis chart to compare sales and quantity over time, making sure the quantity is a bar chart\n",
    "- Create a bubble chart showing sales and profit and sized by quantity for each customer\n",
    "- Color the marks by market"
   ]
  },
  {
   "cell_type": "markdown",
   "id": "extra-brooklyn",
   "metadata": {},
   "source": [
    "## 2. Which region made at least 13K profit in the home office segment?\n",
    "\n",
    "Instruction:\n",
    "- Build a bar chart showing sales by region and segment\n",
    "- Color the sales bars to show the amount of profit\n",
    "- Create two filters, one for segment and one for profit\n",
    "- Find out which region made 13K profit in the home office segment"
   ]
  },
  {
   "cell_type": "markdown",
   "id": "guilty-earth",
   "metadata": {},
   "source": [
    "## 3. Connect to the super store sales data and create a map of the US states, showing the sales by segment for each state.\n",
    "\n",
    "Instruction:\n",
    "- Make a connection to the clean data set\n",
    "- Create map using country and state\n",
    "- Filter to show the USA\n",
    "- Change the mark type to be a pie chart\n",
    "- Change the pie chart to be colored by segment and sized by sales"
   ]
  },
  {
   "cell_type": "markdown",
   "id": "partial-fitting",
   "metadata": {},
   "source": [
    "## 4. Connect to the superstore sales data, create three of four sheets, and combine them in a dashboard using containers.\n",
    "\n",
    "Instruction\n",
    "- Make a connection to the clean data set\n",
    "- Create three or four charts of your choosing\n",
    "- Use layout containers to add them to a dashboard\n",
    "- Use a filter action to filter some of the views when a selection is made in one sheet\n",
    "- Use a highlight action to highlight some of the remaining views"
   ]
  },
  {
   "cell_type": "code",
   "execution_count": null,
   "id": "exempt-canvas",
   "metadata": {},
   "outputs": [],
   "source": []
  }
 ],
 "metadata": {
  "hide_input": false,
  "kernelspec": {
   "display_name": "Python 3",
   "language": "python",
   "name": "python3"
  },
  "language_info": {
   "codemirror_mode": {
    "name": "ipython",
    "version": 3
   },
   "file_extension": ".py",
   "mimetype": "text/x-python",
   "name": "python",
   "nbconvert_exporter": "python",
   "pygments_lexer": "ipython3",
   "version": "3.7.1"
  },
  "nbTranslate": {
   "displayLangs": [
    "*"
   ],
   "hotkey": "alt-t",
   "langInMainMenu": true,
   "sourceLang": "en",
   "targetLang": "fr",
   "useGoogleTranslate": true
  },
  "varInspector": {
   "cols": {
    "lenName": 16,
    "lenType": 16,
    "lenVar": 40
   },
   "kernels_config": {
    "python": {
     "delete_cmd_postfix": "",
     "delete_cmd_prefix": "del ",
     "library": "var_list.py",
     "varRefreshCmd": "print(var_dic_list())"
    },
    "r": {
     "delete_cmd_postfix": ") ",
     "delete_cmd_prefix": "rm(",
     "library": "var_list.r",
     "varRefreshCmd": "cat(var_dic_list()) "
    }
   },
   "types_to_exclude": [
    "module",
    "function",
    "builtin_function_or_method",
    "instance",
    "_Feature"
   ],
   "window_display": false
  }
 },
 "nbformat": 4,
 "nbformat_minor": 5
}
